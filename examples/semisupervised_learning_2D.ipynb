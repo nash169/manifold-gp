{
 "cells": [
  {
   "cell_type": "markdown",
   "id": "5e276dbe",
   "metadata": {},
   "source": [
    "# Manifold GP Semi-Supervised Learning via Precision Matrix on 2D Manifold"
   ]
  },
  {
   "cell_type": "markdown",
   "id": "a36444a5",
   "metadata": {},
   "source": [
    "## Preamble"
   ]
  },
  {
   "cell_type": "markdown",
   "id": "01d17d1f",
   "metadata": {},
   "source": [
    "This notebook provides an example of how to perform Gaussian Process Regression on a 1D manifold. In this example we consider a supervised learning scenario, namely the number of labeled data points is equivalent to the number of the sampled points from the underlying manifold."
   ]
  },
  {
   "cell_type": "code",
   "execution_count": 1,
   "id": "2b4a0b01",
   "metadata": {},
   "outputs": [],
   "source": [
    "import numpy as np\n",
    "import torch\n",
    "import gpytorch\n",
    "import matplotlib.pyplot as plt\n",
    "from mayavi import mlab\n",
    "from importlib.resources import files\n",
    "from manifold_gp.kernels.riemann_matern_kernel import RiemannMaternKernel\n",
    "from manifold_gp.models.riemann_gp import RiemannGP\n",
    "from manifold_gp.utils.generate_truth import groundtruth_from_mesh"
   ]
  },
  {
   "cell_type": "markdown",
   "id": "d183e102",
   "metadata": {},
   "source": [
    "Select the device: GPU or CPU."
   ]
  },
  {
   "cell_type": "code",
   "execution_count": 2,
   "id": "d3ffb421",
   "metadata": {},
   "outputs": [],
   "source": [
    "use_cuda = torch.cuda.is_available()\n",
    "device = torch.device(\"cuda\" if use_cuda else \"cpu\")"
   ]
  },
  {
   "cell_type": "markdown",
   "id": "75701656",
   "metadata": {},
   "source": [
    "## Load Dataset and Generate Ground Truth"
   ]
  },
  {
   "cell_type": "code",
   "execution_count": 3,
   "id": "af216c23",
   "metadata": {},
   "outputs": [],
   "source": [
    "data_path = files('manifold_gp.data').joinpath('dragon10k.stl')\n",
    "nodes, faces, truth = groundtruth_from_mesh(data_path)\n",
    "sampled_x = torch.from_numpy(nodes).float().to(device)\n",
    "sampled_y = torch.from_numpy(truth).float().to(device)\n",
    "(m, n) = sampled_x.shape"
   ]
  },
  {
   "cell_type": "markdown",
   "id": "1d66b347",
   "metadata": {},
   "source": [
    "## Apply Noise to the Dataset"
   ]
  },
  {
   "cell_type": "markdown",
   "id": "a03af248",
   "metadata": {},
   "source": [
    "In order to simulate real case scenario we can apply a normally distributed noise to our dataset. Here we can consider to apply the noise either to the sampled data points from the manifold or to the ground truth relative to each labeled points."
   ]
  },
  {
   "cell_type": "markdown",
   "id": "46b97436",
   "metadata": {},
   "source": [
    "### Apply noise to the manifold\n",
    "Setting the variable `manifold_noise` you can apply Gaussian noise to the sampled points from the manifold."
   ]
  },
  {
   "cell_type": "code",
   "execution_count": 4,
   "id": "86d8f443",
   "metadata": {},
   "outputs": [],
   "source": [
    "manifold_noise = 0.001\n",
    "noisy_x = sampled_x + manifold_noise * torch.randn(m, n).to(device)"
   ]
  },
  {
   "cell_type": "markdown",
   "id": "93184056",
   "metadata": {},
   "source": [
    "### Apply noise to the ground truth\n",
    "Setting the variable `function_noise` you can apply Gaussian noise to the training points."
   ]
  },
  {
   "cell_type": "code",
   "execution_count": 5,
   "id": "878cd4f8",
   "metadata": {},
   "outputs": [],
   "source": [
    "function_noise = 0.005\n",
    "noisy_y = sampled_y + function_noise * torch.randn(m).to(device)"
   ]
  },
  {
   "cell_type": "markdown",
   "id": "3b810778",
   "metadata": {},
   "source": [
    "## Training Dataset"
   ]
  },
  {
   "cell_type": "markdown",
   "id": "08338c74",
   "metadata": {},
   "source": [
    "Create the training dataset. You can set the variable `num_train` to define the number of points within your dataset."
   ]
  },
  {
   "cell_type": "code",
   "execution_count": 6,
   "id": "fea41972",
   "metadata": {},
   "outputs": [],
   "source": [
    "num_train = 100\n",
    "train_idx = torch.randperm(m)[:num_train]\n",
    "train_x = noisy_x[train_idx, :]\n",
    "train_y = noisy_y[train_idx]"
   ]
  },
  {
   "cell_type": "markdown",
   "id": "7004891b",
   "metadata": {},
   "source": [
    "## Test Dataset"
   ]
  },
  {
   "cell_type": "markdown",
   "id": "45a40481",
   "metadata": {},
   "source": [
    "Create the training dataset. You can set the variable `num_test` to define the number of points within your dataset."
   ]
  },
  {
   "cell_type": "code",
   "execution_count": 7,
   "id": "8414d8d3",
   "metadata": {},
   "outputs": [],
   "source": [
    "num_test = 100\n",
    "test_idx = torch.randperm(m)[:num_test]\n",
    "test_x = noisy_x[test_idx, :]\n",
    "test_y = noisy_y[test_idx]"
   ]
  },
  {
   "cell_type": "markdown",
   "id": "d3441ad2",
   "metadata": {},
   "source": [
    "## Initialize Kernel"
   ]
  },
  {
   "cell_type": "markdown",
   "id": "deed270f",
   "metadata": {},
   "source": [
    "Create the Riemann Matern kernel. `nu` control the kernel smoothness like in the stadard Matern kernel. `neighbors` set the number of nearest neighbors in the KNN-based discrete approximation of the Laplace-Beltrami operator and construction of differentiable eigenfunctions. `modes` set the number of the eigenfunctions used to approximate the Riemann Matern kernel. As for classical *GPyTorch* kernels the Riemann Matern kernel can be decorated using with the *ScaleKernel* to have the signal variance parameter."
   ]
  },
  {
   "cell_type": "code",
   "execution_count": 8,
   "id": "15e47b46",
   "metadata": {},
   "outputs": [],
   "source": [
    "nu = 2\n",
    "neighbors = 50\n",
    "modes = 20\n",
    "kernel = gpytorch.kernels.ScaleKernel(RiemannMaternKernel(noisy_x, nu, neighbors, modes))"
   ]
  },
  {
   "cell_type": "markdown",
   "id": "8c286da6",
   "metadata": {},
   "source": [
    "## Initialize Likelihood and GP Model"
   ]
  },
  {
   "cell_type": "markdown",
   "id": "b42aae40",
   "metadata": {},
   "source": [
    "Define the type of likelihood and the GP model. The GP model takes as input the training set and and labels, the likelihood and the Riemann Matern Kernel."
   ]
  },
  {
   "cell_type": "code",
   "execution_count": 9,
   "id": "69104add",
   "metadata": {},
   "outputs": [],
   "source": [
    "likelihood = gpytorch.likelihoods.GaussianLikelihood(noise_constraint=gpytorch.constraints.GreaterThan(1e-8))\n",
    "model = RiemannGP(train_x, train_y, likelihood, kernel, train_idx).to(device)"
   ]
  },
  {
   "cell_type": "markdown",
   "id": "b57d3ead",
   "metadata": {},
   "source": [
    "## Model Hyperparameters Setting"
   ]
  },
  {
   "cell_type": "code",
   "execution_count": 10,
   "id": "473d4113",
   "metadata": {},
   "outputs": [],
   "source": [
    "%%capture\n",
    "hypers = {\n",
    "    'likelihood.noise_covar.noise': 1e-6,\n",
    "    'covar_module.base_kernel.epsilon': 0.1269,\n",
    "    'covar_module.base_kernel.lengthscale': 0.3133,\n",
    "    'covar_module.outputscale': 0.7133,\n",
    "}\n",
    "model.initialize(**hypers)"
   ]
  },
  {
   "cell_type": "markdown",
   "id": "a22df61e",
   "metadata": {},
   "source": [
    "## Train Model"
   ]
  },
  {
   "cell_type": "markdown",
   "id": "4af1e367",
   "metadata": {},
   "source": [
    "Train the GP model using the fast Lanczos precision matrix optimization. `lr` set the learning rate; `iters` defines the number of iteratios; `verbose` can be set to `True` for printing the parameters each iteration."
   ]
  },
  {
   "cell_type": "code",
   "execution_count": 11,
   "id": "f90f851a",
   "metadata": {},
   "outputs": [
    {
     "name": "stdout",
     "output_type": "stream",
     "text": [
      "Iteration: 0, Loss: 111426.695, Noise Variance: 0.001, Signal Variance: 0.845, Lengthscale: 0.313, Epsilon: 0.127\n",
      "Iteration: 1, Loss: 106983.477, Noise Variance: 0.001, Signal Variance: 0.848, Lengthscale: 0.316, Epsilon: 0.126\n",
      "Iteration: 2, Loss: 102729.805, Noise Variance: 0.001, Signal Variance: 0.851, Lengthscale: 0.319, Epsilon: 0.125\n",
      "Iteration: 3, Loss: 98660.617, Noise Variance: 0.001, Signal Variance: 0.854, Lengthscale: 0.321, Epsilon: 0.123\n",
      "Iteration: 4, Loss: 94770.648, Noise Variance: 0.001, Signal Variance: 0.857, Lengthscale: 0.324, Epsilon: 0.122\n",
      "Iteration: 5, Loss: 91054.477, Noise Variance: 0.001, Signal Variance: 0.860, Lengthscale: 0.327, Epsilon: 0.121\n",
      "Iteration: 6, Loss: 87506.438, Noise Variance: 0.001, Signal Variance: 0.863, Lengthscale: 0.330, Epsilon: 0.120\n",
      "Iteration: 7, Loss: 84120.867, Noise Variance: 0.001, Signal Variance: 0.866, Lengthscale: 0.332, Epsilon: 0.119\n",
      "Iteration: 8, Loss: 80892.000, Noise Variance: 0.001, Signal Variance: 0.869, Lengthscale: 0.335, Epsilon: 0.118\n",
      "Iteration: 9, Loss: 77813.852, Noise Variance: 0.001, Signal Variance: 0.872, Lengthscale: 0.338, Epsilon: 0.117\n",
      "Iteration: 10, Loss: 74880.727, Noise Variance: 0.001, Signal Variance: 0.874, Lengthscale: 0.341, Epsilon: 0.116\n",
      "Iteration: 11, Loss: 72086.688, Noise Variance: 0.001, Signal Variance: 0.877, Lengthscale: 0.343, Epsilon: 0.114\n",
      "Iteration: 12, Loss: 69426.031, Noise Variance: 0.001, Signal Variance: 0.880, Lengthscale: 0.346, Epsilon: 0.113\n",
      "Iteration: 13, Loss: 66892.977, Noise Variance: 0.001, Signal Variance: 0.883, Lengthscale: 0.349, Epsilon: 0.112\n",
      "Iteration: 14, Loss: 64481.887, Noise Variance: 0.001, Signal Variance: 0.886, Lengthscale: 0.352, Epsilon: 0.111\n",
      "Iteration: 15, Loss: 62187.250, Noise Variance: 0.001, Signal Variance: 0.889, Lengthscale: 0.354, Epsilon: 0.110\n",
      "Iteration: 16, Loss: 60003.707, Noise Variance: 0.001, Signal Variance: 0.891, Lengthscale: 0.357, Epsilon: 0.109\n",
      "Iteration: 17, Loss: 57926.000, Noise Variance: 0.001, Signal Variance: 0.894, Lengthscale: 0.360, Epsilon: 0.108\n",
      "Iteration: 18, Loss: 55949.023, Noise Variance: 0.001, Signal Variance: 0.897, Lengthscale: 0.362, Epsilon: 0.107\n",
      "Iteration: 19, Loss: 54067.816, Noise Variance: 0.001, Signal Variance: 0.900, Lengthscale: 0.365, Epsilon: 0.106\n",
      "Iteration: 20, Loss: 52277.625, Noise Variance: 0.001, Signal Variance: 0.902, Lengthscale: 0.368, Epsilon: 0.105\n",
      "Iteration: 21, Loss: 50573.895, Noise Variance: 0.001, Signal Variance: 0.905, Lengthscale: 0.370, Epsilon: 0.104\n",
      "Iteration: 22, Loss: 48952.180, Noise Variance: 0.001, Signal Variance: 0.907, Lengthscale: 0.373, Epsilon: 0.103\n",
      "Iteration: 23, Loss: 47408.230, Noise Variance: 0.001, Signal Variance: 0.910, Lengthscale: 0.375, Epsilon: 0.102\n",
      "Iteration: 24, Loss: 45938.023, Noise Variance: 0.001, Signal Variance: 0.912, Lengthscale: 0.378, Epsilon: 0.101\n",
      "Iteration: 25, Loss: 44537.656, Noise Variance: 0.001, Signal Variance: 0.915, Lengthscale: 0.380, Epsilon: 0.100\n",
      "Iteration: 26, Loss: 43203.445, Noise Variance: 0.001, Signal Variance: 0.917, Lengthscale: 0.383, Epsilon: 0.100\n",
      "Iteration: 27, Loss: 41931.852, Noise Variance: 0.001, Signal Variance: 0.920, Lengthscale: 0.385, Epsilon: 0.099\n",
      "Iteration: 28, Loss: 40719.547, Noise Variance: 0.001, Signal Variance: 0.922, Lengthscale: 0.388, Epsilon: 0.098\n",
      "Iteration: 29, Loss: 39563.336, Noise Variance: 0.001, Signal Variance: 0.924, Lengthscale: 0.390, Epsilon: 0.097\n",
      "Iteration: 30, Loss: 38460.191, Noise Variance: 0.001, Signal Variance: 0.926, Lengthscale: 0.393, Epsilon: 0.096\n",
      "Iteration: 31, Loss: 37407.246, Noise Variance: 0.001, Signal Variance: 0.929, Lengthscale: 0.395, Epsilon: 0.095\n",
      "Iteration: 32, Loss: 36401.785, Noise Variance: 0.001, Signal Variance: 0.931, Lengthscale: 0.397, Epsilon: 0.094\n",
      "Iteration: 33, Loss: 35441.238, Noise Variance: 0.001, Signal Variance: 0.933, Lengthscale: 0.399, Epsilon: 0.093\n",
      "Iteration: 34, Loss: 34523.148, Noise Variance: 0.001, Signal Variance: 0.935, Lengthscale: 0.402, Epsilon: 0.092\n",
      "Iteration: 35, Loss: 33645.258, Noise Variance: 0.001, Signal Variance: 0.937, Lengthscale: 0.404, Epsilon: 0.092\n",
      "Iteration: 36, Loss: 32805.371, Noise Variance: 0.001, Signal Variance: 0.939, Lengthscale: 0.406, Epsilon: 0.091\n",
      "Iteration: 37, Loss: 32001.438, Noise Variance: 0.001, Signal Variance: 0.941, Lengthscale: 0.408, Epsilon: 0.090\n",
      "Iteration: 38, Loss: 31231.518, Noise Variance: 0.001, Signal Variance: 0.943, Lengthscale: 0.410, Epsilon: 0.089\n",
      "Iteration: 39, Loss: 30493.803, Noise Variance: 0.001, Signal Variance: 0.945, Lengthscale: 0.412, Epsilon: 0.088\n",
      "Iteration: 40, Loss: 29786.559, Noise Variance: 0.001, Signal Variance: 0.947, Lengthscale: 0.415, Epsilon: 0.087\n",
      "Iteration: 41, Loss: 29108.191, Noise Variance: 0.001, Signal Variance: 0.949, Lengthscale: 0.417, Epsilon: 0.087\n",
      "Iteration: 42, Loss: 28457.123, Noise Variance: 0.001, Signal Variance: 0.951, Lengthscale: 0.419, Epsilon: 0.086\n",
      "Iteration: 43, Loss: 27831.969, Noise Variance: 0.001, Signal Variance: 0.953, Lengthscale: 0.421, Epsilon: 0.085\n",
      "Iteration: 44, Loss: 27231.324, Noise Variance: 0.001, Signal Variance: 0.954, Lengthscale: 0.423, Epsilon: 0.084\n",
      "Iteration: 45, Loss: 26653.945, Noise Variance: 0.001, Signal Variance: 0.956, Lengthscale: 0.425, Epsilon: 0.084\n",
      "Iteration: 46, Loss: 26098.605, Noise Variance: 0.001, Signal Variance: 0.958, Lengthscale: 0.426, Epsilon: 0.083\n",
      "Iteration: 47, Loss: 25564.199, Noise Variance: 0.001, Signal Variance: 0.959, Lengthscale: 0.428, Epsilon: 0.082\n",
      "Iteration: 48, Loss: 25049.619, Noise Variance: 0.001, Signal Variance: 0.961, Lengthscale: 0.430, Epsilon: 0.081\n",
      "Iteration: 49, Loss: 24553.918, Noise Variance: 0.001, Signal Variance: 0.963, Lengthscale: 0.432, Epsilon: 0.080\n",
      "Iteration: 50, Loss: 24076.094, Noise Variance: 0.001, Signal Variance: 0.964, Lengthscale: 0.434, Epsilon: 0.080\n",
      "Iteration: 51, Loss: 23615.293, Noise Variance: 0.001, Signal Variance: 0.966, Lengthscale: 0.436, Epsilon: 0.079\n",
      "Iteration: 52, Loss: 23170.660, Noise Variance: 0.001, Signal Variance: 0.968, Lengthscale: 0.437, Epsilon: 0.078\n",
      "Iteration: 53, Loss: 22741.396, Noise Variance: 0.001, Signal Variance: 0.969, Lengthscale: 0.439, Epsilon: 0.077\n",
      "Iteration: 54, Loss: 22326.773, Noise Variance: 0.001, Signal Variance: 0.971, Lengthscale: 0.441, Epsilon: 0.077\n",
      "Iteration: 55, Loss: 21926.074, Noise Variance: 0.001, Signal Variance: 0.972, Lengthscale: 0.443, Epsilon: 0.076\n",
      "Iteration: 56, Loss: 21538.635, Noise Variance: 0.001, Signal Variance: 0.974, Lengthscale: 0.444, Epsilon: 0.075\n",
      "Iteration: 57, Loss: 21163.840, Noise Variance: 0.001, Signal Variance: 0.975, Lengthscale: 0.446, Epsilon: 0.075\n",
      "Iteration: 58, Loss: 20801.109, Noise Variance: 0.001, Signal Variance: 0.976, Lengthscale: 0.448, Epsilon: 0.074\n",
      "Iteration: 59, Loss: 20449.867, Noise Variance: 0.001, Signal Variance: 0.978, Lengthscale: 0.449, Epsilon: 0.073\n",
      "Iteration: 60, Loss: 20109.588, Noise Variance: 0.001, Signal Variance: 0.979, Lengthscale: 0.451, Epsilon: 0.072\n",
      "Iteration: 61, Loss: 19779.797, Noise Variance: 0.001, Signal Variance: 0.981, Lengthscale: 0.453, Epsilon: 0.072\n",
      "Iteration: 62, Loss: 19459.996, Noise Variance: 0.001, Signal Variance: 0.982, Lengthscale: 0.454, Epsilon: 0.071\n",
      "Iteration: 63, Loss: 19149.783, Noise Variance: 0.001, Signal Variance: 0.983, Lengthscale: 0.456, Epsilon: 0.070\n",
      "Iteration: 64, Loss: 18848.699, Noise Variance: 0.001, Signal Variance: 0.985, Lengthscale: 0.457, Epsilon: 0.070\n",
      "Iteration: 65, Loss: 18556.379, Noise Variance: 0.001, Signal Variance: 0.986, Lengthscale: 0.459, Epsilon: 0.069\n",
      "Iteration: 66, Loss: 18272.432, Noise Variance: 0.001, Signal Variance: 0.987, Lengthscale: 0.460, Epsilon: 0.068\n",
      "Iteration: 67, Loss: 17996.514, Noise Variance: 0.001, Signal Variance: 0.989, Lengthscale: 0.462, Epsilon: 0.068\n",
      "Iteration: 68, Loss: 17728.279, Noise Variance: 0.001, Signal Variance: 0.990, Lengthscale: 0.463, Epsilon: 0.067\n",
      "Iteration: 69, Loss: 17467.426, Noise Variance: 0.001, Signal Variance: 0.991, Lengthscale: 0.465, Epsilon: 0.066\n",
      "Iteration: 70, Loss: 17213.650, Noise Variance: 0.001, Signal Variance: 0.992, Lengthscale: 0.466, Epsilon: 0.066\n",
      "Iteration: 71, Loss: 16966.658, Noise Variance: 0.001, Signal Variance: 0.994, Lengthscale: 0.468, Epsilon: 0.065\n"
     ]
    },
    {
     "name": "stdout",
     "output_type": "stream",
     "text": [
      "Iteration: 72, Loss: 16726.186, Noise Variance: 0.001, Signal Variance: 0.995, Lengthscale: 0.469, Epsilon: 0.064\n",
      "Iteration: 73, Loss: 16491.963, Noise Variance: 0.001, Signal Variance: 0.996, Lengthscale: 0.471, Epsilon: 0.064\n",
      "Iteration: 74, Loss: 16263.781, Noise Variance: 0.001, Signal Variance: 0.997, Lengthscale: 0.472, Epsilon: 0.063\n",
      "Iteration: 75, Loss: 16041.371, Noise Variance: 0.001, Signal Variance: 0.998, Lengthscale: 0.473, Epsilon: 0.062\n",
      "Iteration: 76, Loss: 15824.535, Noise Variance: 0.001, Signal Variance: 0.999, Lengthscale: 0.475, Epsilon: 0.062\n",
      "Iteration: 77, Loss: 15613.056, Noise Variance: 0.001, Signal Variance: 1.001, Lengthscale: 0.476, Epsilon: 0.061\n",
      "Iteration: 78, Loss: 15406.742, Noise Variance: 0.001, Signal Variance: 1.002, Lengthscale: 0.478, Epsilon: 0.060\n",
      "Iteration: 79, Loss: 15205.409, Noise Variance: 0.001, Signal Variance: 1.003, Lengthscale: 0.479, Epsilon: 0.060\n",
      "Iteration: 80, Loss: 15008.869, Noise Variance: 0.001, Signal Variance: 1.004, Lengthscale: 0.480, Epsilon: 0.059\n",
      "Iteration: 81, Loss: 14816.949, Noise Variance: 0.001, Signal Variance: 1.005, Lengthscale: 0.482, Epsilon: 0.058\n",
      "Iteration: 82, Loss: 14629.480, Noise Variance: 0.001, Signal Variance: 1.006, Lengthscale: 0.483, Epsilon: 0.058\n",
      "Iteration: 83, Loss: 14446.337, Noise Variance: 0.001, Signal Variance: 1.007, Lengthscale: 0.484, Epsilon: 0.057\n",
      "Iteration: 84, Loss: 14267.338, Noise Variance: 0.001, Signal Variance: 1.008, Lengthscale: 0.486, Epsilon: 0.056\n",
      "Iteration: 85, Loss: 14092.361, Noise Variance: 0.001, Signal Variance: 1.009, Lengthscale: 0.487, Epsilon: 0.056\n",
      "Iteration: 86, Loss: 13921.267, Noise Variance: 0.001, Signal Variance: 1.010, Lengthscale: 0.488, Epsilon: 0.055\n",
      "Iteration: 87, Loss: 13753.913, Noise Variance: 0.001, Signal Variance: 1.011, Lengthscale: 0.489, Epsilon: 0.055\n",
      "Iteration: 88, Loss: 13590.202, Noise Variance: 0.001, Signal Variance: 1.012, Lengthscale: 0.491, Epsilon: 0.054\n",
      "Iteration: 89, Loss: 13430.001, Noise Variance: 0.001, Signal Variance: 1.013, Lengthscale: 0.492, Epsilon: 0.053\n",
      "Iteration: 90, Loss: 13273.194, Noise Variance: 0.001, Signal Variance: 1.014, Lengthscale: 0.493, Epsilon: 0.053\n",
      "Iteration: 91, Loss: 13119.679, Noise Variance: 0.001, Signal Variance: 1.015, Lengthscale: 0.494, Epsilon: 0.052\n",
      "Iteration: 92, Loss: 12969.355, Noise Variance: 0.001, Signal Variance: 1.016, Lengthscale: 0.496, Epsilon: 0.051\n",
      "Iteration: 93, Loss: 12822.116, Noise Variance: 0.001, Signal Variance: 1.017, Lengthscale: 0.497, Epsilon: 0.051\n",
      "Iteration: 94, Loss: 12677.880, Noise Variance: 0.001, Signal Variance: 1.018, Lengthscale: 0.498, Epsilon: 0.050\n",
      "Iteration: 95, Loss: 12536.543, Noise Variance: 0.001, Signal Variance: 1.019, Lengthscale: 0.499, Epsilon: 0.050\n",
      "Iteration: 96, Loss: 12398.028, Noise Variance: 0.001, Signal Variance: 1.020, Lengthscale: 0.500, Epsilon: 0.049\n",
      "Iteration: 97, Loss: 12262.243, Noise Variance: 0.001, Signal Variance: 1.021, Lengthscale: 0.502, Epsilon: 0.048\n",
      "Iteration: 98, Loss: 12129.110, Noise Variance: 0.001, Signal Variance: 1.022, Lengthscale: 0.503, Epsilon: 0.048\n",
      "Iteration: 99, Loss: 11998.558, Noise Variance: 0.001, Signal Variance: 1.023, Lengthscale: 0.504, Epsilon: 0.047\n"
     ]
    }
   ],
   "source": [
    "lr = 1e-2\n",
    "iters = 100\n",
    "verbose = True\n",
    "loss = model.manifold_informed_train(lr, iters, verbose)"
   ]
  },
  {
   "cell_type": "markdown",
   "id": "0ab36075",
   "metadata": {},
   "source": [
    "## Model Evaluation"
   ]
  },
  {
   "cell_type": "code",
   "execution_count": 12,
   "id": "48b2928a",
   "metadata": {},
   "outputs": [],
   "source": [
    "%%capture\n",
    "likelihood.eval()\n",
    "model.eval()"
   ]
  },
  {
   "cell_type": "markdown",
   "id": "f92b6239",
   "metadata": {},
   "source": [
    "Getting faster predictive distributions using [LOVE](https://arxiv.org/abs/1803.06058). We compute the **mean**, the **standard deviation** and one **posterior sample**. In addition we evaluate the kernel at the first point of our dataset."
   ]
  },
  {
   "cell_type": "code",
   "execution_count": 13,
   "id": "8f4381ee",
   "metadata": {
    "scrolled": true
   },
   "outputs": [],
   "source": [
    "%%capture\n",
    "with torch.no_grad(), gpytorch.settings.fast_pred_var():\n",
    "    preds = likelihood(model(sampled_x))\n",
    "    mean = preds.mean\n",
    "    std = preds.stddev\n",
    "    posterior_sample = preds.sample()\n",
    "    kernel_eval = kernel(sampled_x[0, :].unsqueeze(0), sampled_x).evaluate().squeeze()"
   ]
  },
  {
   "cell_type": "markdown",
   "id": "6f992679",
   "metadata": {},
   "source": [
    "## Plot Results"
   ]
  },
  {
   "cell_type": "code",
   "execution_count": 14,
   "id": "f21ecd96",
   "metadata": {},
   "outputs": [],
   "source": [
    "with torch.no_grad():\n",
    "    # Bring data to cpu\n",
    "    if use_cuda:\n",
    "        sampled_x = sampled_x.cpu().numpy()\n",
    "        sampled_y = sampled_y.cpu().numpy()\n",
    "        train_x = train_x.cpu().numpy()\n",
    "        test_x = test_x.cpu().numpy()\n",
    "        kernel_eval = kernel_eval.cpu().numpy()\n",
    "        posterior_sample = posterior_sample.cpu().numpy()\n",
    "        mean = mean.cpu().numpy()\n",
    "        std = std.cpu().numpy()"
   ]
  },
  {
   "cell_type": "code",
   "execution_count": 15,
   "id": "c1718afe",
   "metadata": {},
   "outputs": [],
   "source": [
    "%%capture\n",
    "%%bash\n",
    "jupyter nbextension install --py mayavi --user"
   ]
  },
  {
   "cell_type": "code",
   "execution_count": 16,
   "id": "ae7fd1c7",
   "metadata": {},
   "outputs": [],
   "source": [
    "%%capture\n",
    "mlab.init_notebook()\n",
    "v_options = {'mode': 'sphere','scale_factor': 3e-3, 'color': (0, 0, 0)}"
   ]
  },
  {
   "cell_type": "markdown",
   "id": "f5a85a6b",
   "metadata": {},
   "source": [
    "### Ground Truth with Sample Training Points"
   ]
  },
  {
   "cell_type": "code",
   "execution_count": 17,
   "id": "8a054797",
   "metadata": {},
   "outputs": [
    {
     "data": {
      "application/vnd.jupyter.widget-view+json": {
       "model_id": "4d0545c796924105b164699a6e087cdb",
       "version_major": 2,
       "version_minor": 0
      },
      "text/plain": [
       "Image(value=b'\\x89PNG\\r\\n\\x1a\\n\\x00\\x00\\x00\\rIHDR\\x00\\x00\\x01\\x90\\x00\\x00\\x01^\\x08\\x02\\x00\\x00\\x00$?\\xde_\\x00\\…"
      ]
     },
     "metadata": {},
     "output_type": "display_data"
    }
   ],
   "source": [
    "mlab.figure(fgcolor=(0, 0, 0), bgcolor = (1,1,1))\n",
    "mlab.triangular_mesh(nodes[:, 0], nodes[:, 1], nodes[:, 2], faces, scalars=sampled_y)\n",
    "mlab.colorbar(orientation='vertical')\n",
    "mlab.points3d(train_x[:,0], train_x[:,1], train_x[:,2], **v_options)\n",
    "# mlab.points3d(test_x[:,0], test_x[:,1], test_x[:,2], **v_options)"
   ]
  },
  {
   "cell_type": "markdown",
   "id": "ce632461",
   "metadata": {},
   "source": [
    "### Mean"
   ]
  },
  {
   "cell_type": "code",
   "execution_count": 18,
   "id": "e833567e",
   "metadata": {},
   "outputs": [
    {
     "data": {
      "application/vnd.jupyter.widget-view+json": {
       "model_id": "bbd02b2af5b043ea8155414862497382",
       "version_major": 2,
       "version_minor": 0
      },
      "text/plain": [
       "Image(value=b'\\x89PNG\\r\\n\\x1a\\n\\x00\\x00\\x00\\rIHDR\\x00\\x00\\x01\\x90\\x00\\x00\\x01^\\x08\\x02\\x00\\x00\\x00$?\\xde_\\x00\\…"
      ]
     },
     "metadata": {},
     "output_type": "display_data"
    }
   ],
   "source": [
    "mlab.figure(fgcolor=(0, 0, 0), bgcolor = (1,1,1))\n",
    "mlab.triangular_mesh(nodes[:, 0], nodes[:, 1], nodes[:, 2], faces, scalars=mean)\n",
    "mlab.colorbar(orientation='vertical')\n",
    "mlab.points3d(train_x[:,0], train_x[:,1], train_x[:,2], **v_options)"
   ]
  },
  {
   "cell_type": "markdown",
   "id": "2fcb8ebf",
   "metadata": {},
   "source": [
    "### Standard Deviation"
   ]
  },
  {
   "cell_type": "code",
   "execution_count": 19,
   "id": "591b8af9",
   "metadata": {},
   "outputs": [
    {
     "data": {
      "application/vnd.jupyter.widget-view+json": {
       "model_id": "29a914624d5043699d558fd40b03c42a",
       "version_major": 2,
       "version_minor": 0
      },
      "text/plain": [
       "Image(value=b'\\x89PNG\\r\\n\\x1a\\n\\x00\\x00\\x00\\rIHDR\\x00\\x00\\x01\\x90\\x00\\x00\\x01^\\x08\\x02\\x00\\x00\\x00$?\\xde_\\x00\\…"
      ]
     },
     "metadata": {},
     "output_type": "display_data"
    }
   ],
   "source": [
    "mlab.figure(fgcolor=(0, 0, 0), bgcolor = (1,1,1))\n",
    "mlab.triangular_mesh(nodes[:, 0], nodes[:, 1], nodes[:, 2], faces, scalars=std)\n",
    "mlab.colorbar(orientation='vertical')\n",
    "mlab.points3d(train_x[:,0], train_x[:,1], train_x[:,2], **v_options)"
   ]
  },
  {
   "cell_type": "markdown",
   "id": "12402c7f",
   "metadata": {},
   "source": [
    "### One Posterior Sample"
   ]
  },
  {
   "cell_type": "code",
   "execution_count": 20,
   "id": "09655441",
   "metadata": {},
   "outputs": [
    {
     "data": {
      "application/vnd.jupyter.widget-view+json": {
       "model_id": "3e224cb9e97c42199ed8217e92c908f9",
       "version_major": 2,
       "version_minor": 0
      },
      "text/plain": [
       "Image(value=b'\\x89PNG\\r\\n\\x1a\\n\\x00\\x00\\x00\\rIHDR\\x00\\x00\\x01\\x90\\x00\\x00\\x01^\\x08\\x02\\x00\\x00\\x00$?\\xde_\\x00\\…"
      ]
     },
     "metadata": {},
     "output_type": "display_data"
    }
   ],
   "source": [
    "mlab.figure(fgcolor=(0, 0, 0), bgcolor = (1,1,1))\n",
    "mlab.triangular_mesh(nodes[:, 0], nodes[:, 1], nodes[:, 2], faces, scalars=posterior_sample)\n",
    "mlab.colorbar(orientation='vertical')\n",
    "mlab.points3d(train_x[:,0], train_x[:,1], train_x[:,2], **v_options)"
   ]
  },
  {
   "cell_type": "markdown",
   "id": "8c4b248b",
   "metadata": {},
   "source": [
    "### Kernel Evaluation"
   ]
  },
  {
   "cell_type": "code",
   "execution_count": 21,
   "id": "6b6ded3a",
   "metadata": {},
   "outputs": [
    {
     "data": {
      "application/vnd.jupyter.widget-view+json": {
       "model_id": "13a4aa67069d4d16b0ae477011030b14",
       "version_major": 2,
       "version_minor": 0
      },
      "text/plain": [
       "Image(value=b'\\x89PNG\\r\\n\\x1a\\n\\x00\\x00\\x00\\rIHDR\\x00\\x00\\x01\\x90\\x00\\x00\\x01^\\x08\\x02\\x00\\x00\\x00$?\\xde_\\x00\\…"
      ]
     },
     "metadata": {},
     "output_type": "display_data"
    }
   ],
   "source": [
    "mlab.figure(fgcolor=(0, 0, 0), bgcolor = (1,1,1))\n",
    "mlab.triangular_mesh(nodes[:, 0], nodes[:, 1], nodes[:, 2], faces, scalars=kernel_eval)\n",
    "mlab.colorbar(orientation='vertical')\n",
    "mlab.points3d(sampled_x[0,0], sampled_x[0,1], sampled_x[0,2], **v_options)"
   ]
  }
 ],
 "metadata": {
  "kernelspec": {
   "display_name": "Python 3 (ipykernel)",
   "language": "python",
   "name": "python3"
  },
  "language_info": {
   "codemirror_mode": {
    "name": "ipython",
    "version": 3
   },
   "file_extension": ".py",
   "mimetype": "text/x-python",
   "name": "python",
   "nbconvert_exporter": "python",
   "pygments_lexer": "ipython3",
   "version": "3.10.6"
  },
  "vscode": {
   "interpreter": {
    "hash": "916dbcbb3f70747c44a77c7bcd40155683ae19c65e1c03b4aa3499c5328201f1"
   }
  }
 },
 "nbformat": 4,
 "nbformat_minor": 5
}
