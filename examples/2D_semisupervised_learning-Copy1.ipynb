{
 "cells": [
  {
   "cell_type": "markdown",
   "id": "5e276dbe",
   "metadata": {},
   "source": [
    "# Manifold GP Semi-Supervised Learning via Precision Matrix on 2D Manifold"
   ]
  },
  {
   "cell_type": "markdown",
   "id": "a36444a5",
   "metadata": {},
   "source": [
    "## Preamble"
   ]
  },
  {
   "cell_type": "code",
   "execution_count": 1,
   "id": "2b4a0b01",
   "metadata": {},
   "outputs": [],
   "source": [
    "import numpy as np\n",
    "import torch\n",
    "import gpytorch\n",
    "\n",
    "from mayavi import mlab\n",
    "from importlib.resources import files\n",
    "\n",
    "from manifold_gp.kernels.riemann_matern_kernel import RiemannMaternKernel\n",
    "from manifold_gp.models.riemann_gp import RiemannGP\n",
    "from manifold_gp.utils.generate_truth import groundtruth_from_mesh"
   ]
  },
  {
   "cell_type": "markdown",
   "id": "75701656",
   "metadata": {},
   "source": [
    "## Dataset Preprocessing"
   ]
  },
  {
   "cell_type": "markdown",
   "id": "7d0dc8ac-e528-42d1-b506-13150c16e46e",
   "metadata": {},
   "source": [
    "### Load"
   ]
  },
  {
   "cell_type": "code",
   "execution_count": 2,
   "id": "b1b30388-be42-4b25-93c9-f41ccf349085",
   "metadata": {},
   "outputs": [],
   "source": [
    "data_path = files('manifold_gp.data').joinpath('dragon10k.stl')\n",
    "nodes, faces, truth = groundtruth_from_mesh(data_path)\n",
    "\n",
    "sampled_x = torch.from_numpy(nodes).float()\n",
    "sampled_y = torch.from_numpy(truth).float()\n",
    "(m, n) = sampled_x.shape\n",
    "\n",
    "num_train = 100\n",
    "num_test = 1000\n",
    "normalize_features = False\n",
    "normalize_labels = True"
   ]
  },
  {
   "cell_type": "markdown",
   "id": "3b810778",
   "metadata": {},
   "source": [
    "### Trainset & Testset"
   ]
  },
  {
   "cell_type": "code",
   "execution_count": 3,
   "id": "8414d8d3",
   "metadata": {},
   "outputs": [],
   "source": [
    "torch.manual_seed(1337)\n",
    "rand_idx = torch.randperm(m)\n",
    "train_idx = rand_idx[:num_train]\n",
    "train_x, train_y = sampled_x[train_idx, :], sampled_y[train_idx]\n",
    "\n",
    "noise_train_x = 0.0\n",
    "train_x += noise_train_x * torch.randn(num_train, n)\n",
    "noise_train_y = 0.01\n",
    "train_y += noise_train_y * torch.randn(num_train)\n",
    "\n",
    "test_idx = rand_idx[num_train:num_train+num_test]\n",
    "test_x, test_y = sampled_x[test_idx, :], sampled_y[test_idx]\n",
    "\n",
    "noise_test_x = 0.0\n",
    "test_x += noise_test_x * torch.randn(num_test, n)\n",
    "noise_test_y = 0.0\n",
    "test_y += noise_test_y * torch.randn(num_test)\n",
    "\n",
    "if normalize_features:\n",
    "    mu_x, std_x = train_x.mean(dim=-2, keepdim=True), train_x.std(dim=-2, keepdim=True) + 1e-6\n",
    "    sampled_x.sub_(mu_x).div_(std_x)\n",
    "    train_x.sub_(mu_x).div_(std_x)\n",
    "    test_x.sub_(mu_x).div_(std_x)\n",
    "    \n",
    "if normalize_labels:\n",
    "    mu_y, std_y = train_y.mean(), train_y.std()\n",
    "    train_y.sub_(mu_y).div_(std_y)\n",
    "    test_y.sub_(mu_y).div_(std_y)\n",
    "    sampled_y.sub_(mu_y).div_(std_y)"
   ]
  },
  {
   "cell_type": "markdown",
   "id": "e58fdb69-016b-4158-b40a-8f2c90519a52",
   "metadata": {},
   "source": [
    "### Move Data to Device"
   ]
  },
  {
   "cell_type": "code",
   "execution_count": 4,
   "id": "60173429-2b01-4db7-8b86-b881265e4009",
   "metadata": {},
   "outputs": [],
   "source": [
    "sampled_x, sampled_y = sampled_x.contiguous(), sampled_y.contiguous()\n",
    "train_x, train_y = train_x.contiguous(), train_y.contiguous()\n",
    "test_x, test_y = test_x.contiguous(), test_y.contiguous()\n",
    "\n",
    "use_cuda = torch.cuda.is_available()\n",
    "device = torch.device(\"cuda\" if use_cuda else \"cpu\")\n",
    "sampled_x, sampled_y = sampled_x.to(device), sampled_y.to(device)\n",
    "train_x, train_y = train_x.to(device), train_y.to(device)\n",
    "test_x, test_y = test_x.to(device), test_y.to(device)\n",
    "\n",
    "if normalize_features:\n",
    "    mu_x, std_x = mu_x.to(device), std_x.to(device)"
   ]
  },
  {
   "cell_type": "markdown",
   "id": "d3441ad2",
   "metadata": {},
   "source": [
    "## Model"
   ]
  },
  {
   "cell_type": "code",
   "execution_count": 5,
   "id": "15e47b46",
   "metadata": {},
   "outputs": [],
   "source": [
    "%%capture\n",
    "likelihood = gpytorch.likelihoods.GaussianLikelihood(\n",
    "    noise_constraint=gpytorch.constraints.GreaterThan(1e-8),\n",
    "    noise_prior=None  # NormalPrior(torch.tensor([0.0]).to(device),  torch.tensor([1/9]).sqrt().to(device))\n",
    ")\n",
    "\n",
    "kernel = gpytorch.kernels.ScaleKernel(\n",
    "    RiemannMaternKernel(\n",
    "        nu=1,\n",
    "        nodes=train_x,\n",
    "        neighbors=10,\n",
    "        operator=\"randomwalk\",\n",
    "        method=\"exact\",\n",
    "        modes=50,\n",
    "        ball_scale=3.0,\n",
    "        prior_bandwidth=False,\n",
    "    ),\n",
    "    outputscale_prior=None  # NormalPrior(torch.tensor([1.0]).to(device),  torch.tensor([1/9]).sqrt().to(device))\n",
    ")\n",
    "\n",
    "model = RiemannGP(train_x, train_y, likelihood, kernel).to(device)"
   ]
  },
  {
   "cell_type": "markdown",
   "id": "b57d3ead",
   "metadata": {},
   "source": [
    "## Train"
   ]
  },
  {
   "cell_type": "code",
   "execution_count": 6,
   "id": "473d4113",
   "metadata": {},
   "outputs": [],
   "source": [
    "%%capture\n",
    "hypers = {\n",
    "    'likelihood.noise_covar.noise': 1e-5,\n",
    "    'covar_module.base_kernel.epsilon': 0.5027,\n",
    "    'covar_module.base_kernel.lengthscale': 0.5054,\n",
    "    'covar_module.outputscale': 1.0,\n",
    "}\n",
    "model.initialize(**hypers)"
   ]
  },
  {
   "cell_type": "code",
   "execution_count": 7,
   "id": "ea2acb07",
   "metadata": {},
   "outputs": [
    {
     "name": "stdout",
     "output_type": "stream",
     "text": [
      "Iter: 0, Loss: 127.627, NoiseVar: 0.000, SignalVar: 0.97288, Lengthscale: 0.505, Epsilon: 0.503\n",
      "Iter: 1, Loss: 124.118, NoiseVar: 0.000, SignalVar: 0.91186, Lengthscale: 0.546, Epsilon: 0.464\n",
      "Iter: 2, Loss: 119.782, NoiseVar: 0.000, SignalVar: 0.85324, Lengthscale: 0.587, Epsilon: 0.428\n",
      "Iter: 3, Loss: 114.595, NoiseVar: 0.000, SignalVar: 0.79695, Lengthscale: 0.625, Epsilon: 0.395\n",
      "Iter: 4, Loss: 108.555, NoiseVar: 0.000, SignalVar: 0.74296, Lengthscale: 0.665, Epsilon: 0.363\n",
      "Iter: 5, Loss: 101.686, NoiseVar: 0.000, SignalVar: 0.69128, Lengthscale: 0.708, Epsilon: 0.333\n",
      "Iter: 6, Loss: 94.070, NoiseVar: 0.000, SignalVar: 0.64194, Lengthscale: 0.754, Epsilon: 0.306\n",
      "Iter: 7, Loss: 85.844, NoiseVar: 0.000, SignalVar: 0.59496, Lengthscale: 0.804, Epsilon: 0.280\n",
      "Iter: 8, Loss: 77.207, NoiseVar: 0.000, SignalVar: 0.55040, Lengthscale: 0.857, Epsilon: 0.256\n",
      "Iter: 9, Loss: 68.420, NoiseVar: 0.000, SignalVar: 0.50831, Lengthscale: 0.914, Epsilon: 0.233\n",
      "Iter: 10, Loss: 59.813, NoiseVar: 0.000, SignalVar: 0.46878, Lengthscale: 0.975, Epsilon: 0.213\n",
      "Iter: 11, Loss: 51.795, NoiseVar: 0.000, SignalVar: 0.43199, Lengthscale: 1.039, Epsilon: 0.194\n",
      "Iter: 12, Loss: 44.864, NoiseVar: 0.000, SignalVar: 0.39823, Lengthscale: 1.106, Epsilon: 0.176\n",
      "Iter: 13, Loss: 39.583, NoiseVar: 0.000, SignalVar: 0.36805, Lengthscale: 1.177, Epsilon: 0.160\n",
      "Iter: 14, Loss: 36.479, NoiseVar: 0.000, SignalVar: 0.34244, Lengthscale: 1.251, Epsilon: 0.146\n",
      "Iter: 15, Loss: 35.747, NoiseVar: 0.000, SignalVar: 0.32295, Lengthscale: 1.327, Epsilon: 0.134\n",
      "Iter: 16, Loss: 36.816, NoiseVar: 0.000, SignalVar: 0.31123, Lengthscale: 1.406, Epsilon: 0.125\n",
      "Iter: 17, Loss: 38.305, NoiseVar: 0.000, SignalVar: 0.30775, Lengthscale: 1.486, Epsilon: 0.118\n",
      "Iter: 18, Loss: 38.814, NoiseVar: 0.000, SignalVar: 0.31150, Lengthscale: 1.568, Epsilon: 0.113\n",
      "Iter: 19, Loss: 37.769, NoiseVar: 0.000, SignalVar: 0.32099, Lengthscale: 1.649, Epsilon: 0.111\n",
      "Iter: 20, Loss: 35.481, NoiseVar: 0.000, SignalVar: 0.33500, Lengthscale: 1.730, Epsilon: 0.111\n",
      "Iter: 21, Loss: 32.688, NoiseVar: 0.000, SignalVar: 0.35259, Lengthscale: 1.810, Epsilon: 0.112\n",
      "Iter: 22, Loss: 30.096, NoiseVar: 0.000, SignalVar: 0.37292, Lengthscale: 1.888, Epsilon: 0.115\n",
      "Iter: 23, Loss: 28.158, NoiseVar: 0.000, SignalVar: 0.39514, Lengthscale: 1.964, Epsilon: 0.118\n",
      "Iter: 24, Loss: 27.028, NoiseVar: 0.000, SignalVar: 0.41829, Lengthscale: 2.037, Epsilon: 0.121\n",
      "Iter: 25, Loss: 26.626, NoiseVar: 0.000, SignalVar: 0.44136, Lengthscale: 2.107, Epsilon: 0.124\n",
      "Iter: 26, Loss: 26.738, NoiseVar: 0.000, SignalVar: 0.46333, Lengthscale: 2.173, Epsilon: 0.127\n",
      "Iter: 27, Loss: 27.110, NoiseVar: 0.000, SignalVar: 0.48334, Lengthscale: 2.236, Epsilon: 0.129\n",
      "Iter: 28, Loss: 27.518, NoiseVar: 0.000, SignalVar: 0.50069, Lengthscale: 2.295, Epsilon: 0.130\n",
      "Iter: 29, Loss: 27.800, NoiseVar: 0.000, SignalVar: 0.51491, Lengthscale: 2.351, Epsilon: 0.130\n",
      "Iter: 30, Loss: 27.865, NoiseVar: 0.000, SignalVar: 0.52581, Lengthscale: 2.404, Epsilon: 0.130\n",
      "Iter: 31, Loss: 27.688, NoiseVar: 0.000, SignalVar: 0.53341, Lengthscale: 2.453, Epsilon: 0.129\n",
      "Iter: 32, Loss: 27.300, NoiseVar: 0.000, SignalVar: 0.53792, Lengthscale: 2.500, Epsilon: 0.127\n",
      "Iter: 33, Loss: 26.770, NoiseVar: 0.000, SignalVar: 0.53972, Lengthscale: 2.543, Epsilon: 0.124\n",
      "Iter: 34, Loss: 26.187, NoiseVar: 0.000, SignalVar: 0.53929, Lengthscale: 2.584, Epsilon: 0.121\n",
      "Iter: 35, Loss: 25.647, NoiseVar: 0.000, SignalVar: 0.53721, Lengthscale: 2.623, Epsilon: 0.118\n",
      "Iter: 36, Loss: 25.235, NoiseVar: 0.000, SignalVar: 0.53412, Lengthscale: 2.659, Epsilon: 0.115\n",
      "Iter: 37, Loss: 25.003, NoiseVar: 0.000, SignalVar: 0.53066, Lengthscale: 2.693, Epsilon: 0.111\n",
      "Iter: 38, Loss: 24.960, NoiseVar: 0.000, SignalVar: 0.52748, Lengthscale: 2.725, Epsilon: 0.108\n",
      "Iter: 39, Loss: 25.066, NoiseVar: 0.000, SignalVar: 0.52520, Lengthscale: 2.755, Epsilon: 0.106\n",
      "Iter: 40, Loss: 25.245, NoiseVar: 0.000, SignalVar: 0.52430, Lengthscale: 2.784, Epsilon: 0.104\n",
      "Iter: 41, Loss: 25.406, NoiseVar: 0.000, SignalVar: 0.52516, Lengthscale: 2.811, Epsilon: 0.102\n",
      "Iter: 42, Loss: 25.476, NoiseVar: 0.000, SignalVar: 0.52796, Lengthscale: 2.836, Epsilon: 0.101\n",
      "Iter: 43, Loss: 25.425, NoiseVar: 0.000, SignalVar: 0.53272, Lengthscale: 2.861, Epsilon: 0.101\n",
      "Iter: 44, Loss: 25.269, NoiseVar: 0.000, SignalVar: 0.53927, Lengthscale: 2.884, Epsilon: 0.101\n",
      "Iter: 45, Loss: 25.060, NoiseVar: 0.000, SignalVar: 0.54729, Lengthscale: 2.906, Epsilon: 0.102\n",
      "Iter: 46, Loss: 24.856, NoiseVar: 0.000, SignalVar: 0.55635, Lengthscale: 2.927, Epsilon: 0.103\n",
      "Iter: 47, Loss: 24.706, NoiseVar: 0.000, SignalVar: 0.56596, Lengthscale: 2.946, Epsilon: 0.104\n",
      "Iter: 48, Loss: 24.629, NoiseVar: 0.000, SignalVar: 0.57561, Lengthscale: 2.965, Epsilon: 0.105\n",
      "Iter: 49, Loss: 24.622, NoiseVar: 0.000, SignalVar: 0.58482, Lengthscale: 2.983, Epsilon: 0.106\n",
      "Iter: 50, Loss: 24.662, NoiseVar: 0.000, SignalVar: 0.59320, Lengthscale: 3.000, Epsilon: 0.107\n",
      "Iter: 51, Loss: 24.718, NoiseVar: 0.000, SignalVar: 0.60040, Lengthscale: 3.016, Epsilon: 0.107\n",
      "Iter: 52, Loss: 24.763, NoiseVar: 0.000, SignalVar: 0.60624, Lengthscale: 3.031, Epsilon: 0.107\n",
      "Iter: 53, Loss: 24.776, NoiseVar: 0.000, SignalVar: 0.61062, Lengthscale: 3.045, Epsilon: 0.107\n",
      "Iter: 54, Loss: 24.754, NoiseVar: 0.000, SignalVar: 0.61358, Lengthscale: 3.059, Epsilon: 0.107\n",
      "Iter: 55, Loss: 24.700, NoiseVar: 0.000, SignalVar: 0.61524, Lengthscale: 3.072, Epsilon: 0.106\n",
      "Iter: 56, Loss: 24.630, NoiseVar: 0.000, SignalVar: 0.61583, Lengthscale: 3.085, Epsilon: 0.105\n",
      "Iter: 57, Loss: 24.561, NoiseVar: 0.000, SignalVar: 0.61562, Lengthscale: 3.097, Epsilon: 0.104\n",
      "Iter: 58, Loss: 24.507, NoiseVar: 0.000, SignalVar: 0.61494, Lengthscale: 3.108, Epsilon: 0.103\n",
      "Iter: 59, Loss: 24.477, NoiseVar: 0.000, SignalVar: 0.61412, Lengthscale: 3.119, Epsilon: 0.102\n",
      "Iter: 60, Loss: 24.472, NoiseVar: 0.000, SignalVar: 0.61348, Lengthscale: 3.130, Epsilon: 0.101\n",
      "Iter: 61, Loss: 24.485, NoiseVar: 0.000, SignalVar: 0.61330, Lengthscale: 3.140, Epsilon: 0.100\n",
      "Iter: 62, Loss: 24.503, NoiseVar: 0.000, SignalVar: 0.61380, Lengthscale: 3.150, Epsilon: 0.100\n",
      "Iter: 63, Loss: 24.515, NoiseVar: 0.000, SignalVar: 0.61513, Lengthscale: 3.160, Epsilon: 0.099\n",
      "Iter: 64, Loss: 24.514, NoiseVar: 0.000, SignalVar: 0.61732, Lengthscale: 3.169, Epsilon: 0.099\n",
      "Iter: 65, Loss: 24.497, NoiseVar: 0.000, SignalVar: 0.62035, Lengthscale: 3.178, Epsilon: 0.099\n",
      "Iter: 66, Loss: 24.470, NoiseVar: 0.000, SignalVar: 0.62409, Lengthscale: 3.187, Epsilon: 0.099\n",
      "Iter: 67, Loss: 24.441, NoiseVar: 0.000, SignalVar: 0.62838, Lengthscale: 3.195, Epsilon: 0.099\n",
      "Iter: 68, Loss: 24.416, NoiseVar: 0.000, SignalVar: 0.63298, Lengthscale: 3.204, Epsilon: 0.099\n",
      "Iter: 69, Loss: 24.400, NoiseVar: 0.000, SignalVar: 0.63767, Lengthscale: 3.212, Epsilon: 0.100\n",
      "Iter: 70, Loss: 24.395, NoiseVar: 0.000, SignalVar: 0.64222, Lengthscale: 3.220, Epsilon: 0.100\n",
      "Iter: 71, Loss: 24.396, NoiseVar: 0.000, SignalVar: 0.64645, Lengthscale: 3.227, Epsilon: 0.100\n",
      "Iter: 72, Loss: 24.400, NoiseVar: 0.000, SignalVar: 0.65018, Lengthscale: 3.235, Epsilon: 0.100\n",
      "Iter: 73, Loss: 24.402, NoiseVar: 0.000, SignalVar: 0.65335, Lengthscale: 3.242, Epsilon: 0.100\n",
      "Iter: 74, Loss: 24.399, NoiseVar: 0.000, SignalVar: 0.65590, Lengthscale: 3.249, Epsilon: 0.100\n",
      "Iter: 75, Loss: 24.391, NoiseVar: 0.000, SignalVar: 0.65787, Lengthscale: 3.256, Epsilon: 0.100\n",
      "Iter: 76, Loss: 24.379, NoiseVar: 0.000, SignalVar: 0.65933, Lengthscale: 3.263, Epsilon: 0.100\n",
      "Iter: 77, Loss: 24.366, NoiseVar: 0.000, SignalVar: 0.66039, Lengthscale: 3.270, Epsilon: 0.099\n",
      "Iter: 78, Loss: 24.355, NoiseVar: 0.000, SignalVar: 0.66121, Lengthscale: 3.276, Epsilon: 0.099\n",
      "Iter: 79, Loss: 24.347, NoiseVar: 0.000, SignalVar: 0.66193, Lengthscale: 3.282, Epsilon: 0.098\n",
      "Iter: 80, Loss: 24.342, NoiseVar: 0.000, SignalVar: 0.66271, Lengthscale: 3.289, Epsilon: 0.098\n",
      "Iter: 81, Loss: 24.341, NoiseVar: 0.000, SignalVar: 0.66368, Lengthscale: 3.295, Epsilon: 0.097\n",
      "Iter: 82, Loss: 24.340, NoiseVar: 0.000, SignalVar: 0.66494, Lengthscale: 3.301, Epsilon: 0.097\n",
      "Iter: 83, Loss: 24.339, NoiseVar: 0.000, SignalVar: 0.66657, Lengthscale: 3.307, Epsilon: 0.097\n",
      "Iter: 84, Loss: 24.335, NoiseVar: 0.000, SignalVar: 0.66857, Lengthscale: 3.313, Epsilon: 0.097\n",
      "Iter: 85, Loss: 24.330, NoiseVar: 0.000, SignalVar: 0.67093, Lengthscale: 3.319, Epsilon: 0.096\n",
      "Iter: 86, Loss: 24.323, NoiseVar: 0.000, SignalVar: 0.67358, Lengthscale: 3.325, Epsilon: 0.096\n",
      "Iter: 87, Loss: 24.316, NoiseVar: 0.000, SignalVar: 0.67646, Lengthscale: 3.330, Epsilon: 0.096\n",
      "Iter: 88, Loss: 24.310, NoiseVar: 0.000, SignalVar: 0.67945, Lengthscale: 3.336, Epsilon: 0.096\n",
      "Iter: 89, Loss: 24.305, NoiseVar: 0.000, SignalVar: 0.68244, Lengthscale: 3.342, Epsilon: 0.097\n",
      "Iter: 90, Loss: 24.302, NoiseVar: 0.000, SignalVar: 0.68534, Lengthscale: 3.347, Epsilon: 0.097\n",
      "Iter: 91, Loss: 24.300, NoiseVar: 0.000, SignalVar: 0.68807, Lengthscale: 3.352, Epsilon: 0.097\n",
      "Iter: 92, Loss: 24.298, NoiseVar: 0.000, SignalVar: 0.69058, Lengthscale: 3.358, Epsilon: 0.097\n",
      "Iter: 93, Loss: 24.295, NoiseVar: 0.000, SignalVar: 0.69282, Lengthscale: 3.363, Epsilon: 0.096\n",
      "Iter: 94, Loss: 24.291, NoiseVar: 0.000, SignalVar: 0.69481, Lengthscale: 3.368, Epsilon: 0.096\n",
      "Iter: 95, Loss: 24.287, NoiseVar: 0.000, SignalVar: 0.69657, Lengthscale: 3.373, Epsilon: 0.096\n",
      "Iter: 96, Loss: 24.283, NoiseVar: 0.000, SignalVar: 0.69816, Lengthscale: 3.379, Epsilon: 0.096\n",
      "Iter: 97, Loss: 24.279, NoiseVar: 0.000, SignalVar: 0.69963, Lengthscale: 3.384, Epsilon: 0.096\n",
      "Iter: 98, Loss: 24.275, NoiseVar: 0.000, SignalVar: 0.70105, Lengthscale: 3.389, Epsilon: 0.095\n",
      "Iter: 99, Loss: 24.272, NoiseVar: 0.000, SignalVar: 0.70250, Lengthscale: 3.393, Epsilon: 0.095\n"
     ]
    }
   ],
   "source": [
    "model.manifold_informed_train(lr=1e-1, iter=100, norm_step_size=100, verbose=True)"
   ]
  },
  {
   "cell_type": "markdown",
   "id": "0ab36075",
   "metadata": {},
   "source": [
    "## Model Evaluation"
   ]
  },
  {
   "cell_type": "code",
   "execution_count": 8,
   "id": "48b2928a",
   "metadata": {},
   "outputs": [],
   "source": [
    "%%capture\n",
    "likelihood.eval()\n",
    "model.eval()"
   ]
  },
  {
   "cell_type": "markdown",
   "id": "f92b6239",
   "metadata": {},
   "source": [
    "Getting faster predictive distributions using [LOVE](https://arxiv.org/abs/1803.06058). We compute the **mean**, the **standard deviation** and one **posterior sample**. In addition we evaluate the kernel at the first point of our dataset."
   ]
  },
  {
   "cell_type": "code",
   "execution_count": 9,
   "id": "8f4381ee",
   "metadata": {
    "scrolled": true
   },
   "outputs": [
    {
     "ename": "NameError",
     "evalue": "name 'noisy_x' is not defined",
     "output_type": "error",
     "traceback": [
      "\u001b[0;31m---------------------------------------------------------------------------\u001b[0m",
      "\u001b[0;31mNameError\u001b[0m                                 Traceback (most recent call last)",
      "\u001b[0;32m/tmp/ipykernel_190179/2169480977.py\u001b[0m in \u001b[0;36m<module>\u001b[0;34m\u001b[0m\n\u001b[1;32m      1\u001b[0m \u001b[0;32mwith\u001b[0m \u001b[0mtorch\u001b[0m\u001b[0;34m.\u001b[0m\u001b[0mno_grad\u001b[0m\u001b[0;34m(\u001b[0m\u001b[0;34m)\u001b[0m\u001b[0;34m,\u001b[0m \u001b[0mgpytorch\u001b[0m\u001b[0;34m.\u001b[0m\u001b[0msettings\u001b[0m\u001b[0;34m.\u001b[0m\u001b[0mfast_pred_var\u001b[0m\u001b[0;34m(\u001b[0m\u001b[0;34m)\u001b[0m\u001b[0;34m:\u001b[0m\u001b[0;34m\u001b[0m\u001b[0;34m\u001b[0m\u001b[0m\n\u001b[0;32m----> 2\u001b[0;31m     \u001b[0mpreds\u001b[0m \u001b[0;34m=\u001b[0m \u001b[0mlikelihood\u001b[0m\u001b[0;34m(\u001b[0m\u001b[0mmodel\u001b[0m\u001b[0;34m(\u001b[0m\u001b[0mnoisy_x\u001b[0m\u001b[0;34m)\u001b[0m\u001b[0;34m)\u001b[0m\u001b[0;34m\u001b[0m\u001b[0;34m\u001b[0m\u001b[0m\n\u001b[0m\u001b[1;32m      3\u001b[0m     \u001b[0mmean\u001b[0m \u001b[0;34m=\u001b[0m \u001b[0mpreds\u001b[0m\u001b[0;34m.\u001b[0m\u001b[0mmean\u001b[0m\u001b[0;34m\u001b[0m\u001b[0;34m\u001b[0m\u001b[0m\n\u001b[1;32m      4\u001b[0m     \u001b[0mstd\u001b[0m \u001b[0;34m=\u001b[0m \u001b[0mpreds\u001b[0m\u001b[0;34m.\u001b[0m\u001b[0mstddev\u001b[0m\u001b[0;34m\u001b[0m\u001b[0;34m\u001b[0m\u001b[0m\n\u001b[1;32m      5\u001b[0m     \u001b[0mposterior_sample\u001b[0m \u001b[0;34m=\u001b[0m \u001b[0mpreds\u001b[0m\u001b[0;34m.\u001b[0m\u001b[0msample\u001b[0m\u001b[0;34m(\u001b[0m\u001b[0;34m)\u001b[0m\u001b[0;34m\u001b[0m\u001b[0;34m\u001b[0m\u001b[0m\n",
      "\u001b[0;31mNameError\u001b[0m: name 'noisy_x' is not defined"
     ]
    }
   ],
   "source": [
    "%%capture\n",
    "with torch.no_grad(), gpytorch.settings.fast_pred_var():\n",
    "    preds = likelihood(model(noisy_x))\n",
    "    mean = preds.mean\n",
    "    std = preds.stddev\n",
    "    posterior_sample = preds.sample()\n",
    "    # kernel_eval = kernel(sampled_x[0, :].unsqueeze(0), sampled_x).evaluate().squeeze()\n",
    "    \n",
    "    # Bring data to cpu\n",
    "    sampled_x = sampled_x.cpu().numpy()\n",
    "    sampled_y = sampled_y.cpu().numpy()\n",
    "    train_x = train_x.cpu().numpy()\n",
    "    test_x = test_x.cpu().numpy()\n",
    "    # kernel_eval = kernel_eval.cpu().numpy()\n",
    "    posterior_sample = posterior_sample.cpu().numpy()\n",
    "    mean = mean.cpu().numpy()\n",
    "    std = std.cpu().numpy()"
   ]
  },
  {
   "cell_type": "markdown",
   "id": "6f992679",
   "metadata": {},
   "source": [
    "## Plot Results"
   ]
  },
  {
   "cell_type": "code",
   "execution_count": 13,
   "id": "c1718afe",
   "metadata": {},
   "outputs": [
    {
     "ename": "CalledProcessError",
     "evalue": "Command 'b'jupyter nbextension install --py mayavi --user\\n'' returned non-zero exit status 1.",
     "output_type": "error",
     "traceback": [
      "\u001b[0;31m---------------------------------------------------------------------------\u001b[0m",
      "\u001b[0;31mCalledProcessError\u001b[0m                        Traceback (most recent call last)",
      "\u001b[0;32m/tmp/ipykernel_189374/2462017165.py\u001b[0m in \u001b[0;36m<module>\u001b[0;34m\u001b[0m\n\u001b[0;32m----> 1\u001b[0;31m \u001b[0mget_ipython\u001b[0m\u001b[0;34m(\u001b[0m\u001b[0;34m)\u001b[0m\u001b[0;34m.\u001b[0m\u001b[0mrun_cell_magic\u001b[0m\u001b[0;34m(\u001b[0m\u001b[0;34m'bash'\u001b[0m\u001b[0;34m,\u001b[0m \u001b[0;34m''\u001b[0m\u001b[0;34m,\u001b[0m \u001b[0;34m'jupyter nbextension install --py mayavi --user\\n'\u001b[0m\u001b[0;34m)\u001b[0m\u001b[0;34m\u001b[0m\u001b[0;34m\u001b[0m\u001b[0m\n\u001b[0m",
      "\u001b[0;32m/usr/lib/python3/dist-packages/IPython/core/interactiveshell.py\u001b[0m in \u001b[0;36mrun_cell_magic\u001b[0;34m(self, magic_name, line, cell)\u001b[0m\n\u001b[1;32m   2417\u001b[0m             \u001b[0;32mwith\u001b[0m \u001b[0mself\u001b[0m\u001b[0;34m.\u001b[0m\u001b[0mbuiltin_trap\u001b[0m\u001b[0;34m:\u001b[0m\u001b[0;34m\u001b[0m\u001b[0;34m\u001b[0m\u001b[0m\n\u001b[1;32m   2418\u001b[0m                 \u001b[0margs\u001b[0m \u001b[0;34m=\u001b[0m \u001b[0;34m(\u001b[0m\u001b[0mmagic_arg_s\u001b[0m\u001b[0;34m,\u001b[0m \u001b[0mcell\u001b[0m\u001b[0;34m)\u001b[0m\u001b[0;34m\u001b[0m\u001b[0;34m\u001b[0m\u001b[0m\n\u001b[0;32m-> 2419\u001b[0;31m                 \u001b[0mresult\u001b[0m \u001b[0;34m=\u001b[0m \u001b[0mfn\u001b[0m\u001b[0;34m(\u001b[0m\u001b[0;34m*\u001b[0m\u001b[0margs\u001b[0m\u001b[0;34m,\u001b[0m \u001b[0;34m**\u001b[0m\u001b[0mkwargs\u001b[0m\u001b[0;34m)\u001b[0m\u001b[0;34m\u001b[0m\u001b[0;34m\u001b[0m\u001b[0m\n\u001b[0m\u001b[1;32m   2420\u001b[0m             \u001b[0;32mreturn\u001b[0m \u001b[0mresult\u001b[0m\u001b[0;34m\u001b[0m\u001b[0;34m\u001b[0m\u001b[0m\n\u001b[1;32m   2421\u001b[0m \u001b[0;34m\u001b[0m\u001b[0m\n",
      "\u001b[0;32m/usr/lib/python3/dist-packages/IPython/core/magics/script.py\u001b[0m in \u001b[0;36mnamed_script_magic\u001b[0;34m(line, cell)\u001b[0m\n\u001b[1;32m    140\u001b[0m             \u001b[0;32melse\u001b[0m\u001b[0;34m:\u001b[0m\u001b[0;34m\u001b[0m\u001b[0;34m\u001b[0m\u001b[0m\n\u001b[1;32m    141\u001b[0m                 \u001b[0mline\u001b[0m \u001b[0;34m=\u001b[0m \u001b[0mscript\u001b[0m\u001b[0;34m\u001b[0m\u001b[0;34m\u001b[0m\u001b[0m\n\u001b[0;32m--> 142\u001b[0;31m             \u001b[0;32mreturn\u001b[0m \u001b[0mself\u001b[0m\u001b[0;34m.\u001b[0m\u001b[0mshebang\u001b[0m\u001b[0;34m(\u001b[0m\u001b[0mline\u001b[0m\u001b[0;34m,\u001b[0m \u001b[0mcell\u001b[0m\u001b[0;34m)\u001b[0m\u001b[0;34m\u001b[0m\u001b[0;34m\u001b[0m\u001b[0m\n\u001b[0m\u001b[1;32m    143\u001b[0m \u001b[0;34m\u001b[0m\u001b[0m\n\u001b[1;32m    144\u001b[0m         \u001b[0;31m# write a basic docstring:\u001b[0m\u001b[0;34m\u001b[0m\u001b[0;34m\u001b[0m\u001b[0m\n",
      "\u001b[0;32m<decorator-gen-103>\u001b[0m in \u001b[0;36mshebang\u001b[0;34m(self, line, cell)\u001b[0m\n",
      "\u001b[0;32m/usr/lib/python3/dist-packages/IPython/core/magic.py\u001b[0m in \u001b[0;36m<lambda>\u001b[0;34m(f, *a, **k)\u001b[0m\n\u001b[1;32m    185\u001b[0m     \u001b[0;31m# but it's overkill for just that one bit of state.\u001b[0m\u001b[0;34m\u001b[0m\u001b[0;34m\u001b[0m\u001b[0m\n\u001b[1;32m    186\u001b[0m     \u001b[0;32mdef\u001b[0m \u001b[0mmagic_deco\u001b[0m\u001b[0;34m(\u001b[0m\u001b[0marg\u001b[0m\u001b[0;34m)\u001b[0m\u001b[0;34m:\u001b[0m\u001b[0;34m\u001b[0m\u001b[0;34m\u001b[0m\u001b[0m\n\u001b[0;32m--> 187\u001b[0;31m         \u001b[0mcall\u001b[0m \u001b[0;34m=\u001b[0m \u001b[0;32mlambda\u001b[0m \u001b[0mf\u001b[0m\u001b[0;34m,\u001b[0m \u001b[0;34m*\u001b[0m\u001b[0ma\u001b[0m\u001b[0;34m,\u001b[0m \u001b[0;34m**\u001b[0m\u001b[0mk\u001b[0m\u001b[0;34m:\u001b[0m \u001b[0mf\u001b[0m\u001b[0;34m(\u001b[0m\u001b[0;34m*\u001b[0m\u001b[0ma\u001b[0m\u001b[0;34m,\u001b[0m \u001b[0;34m**\u001b[0m\u001b[0mk\u001b[0m\u001b[0;34m)\u001b[0m\u001b[0;34m\u001b[0m\u001b[0;34m\u001b[0m\u001b[0m\n\u001b[0m\u001b[1;32m    188\u001b[0m \u001b[0;34m\u001b[0m\u001b[0m\n\u001b[1;32m    189\u001b[0m         \u001b[0;32mif\u001b[0m \u001b[0mcallable\u001b[0m\u001b[0;34m(\u001b[0m\u001b[0marg\u001b[0m\u001b[0;34m)\u001b[0m\u001b[0;34m:\u001b[0m\u001b[0;34m\u001b[0m\u001b[0;34m\u001b[0m\u001b[0m\n",
      "\u001b[0;32m/usr/lib/python3/dist-packages/IPython/core/magics/script.py\u001b[0m in \u001b[0;36mshebang\u001b[0;34m(self, line, cell)\u001b[0m\n\u001b[1;32m    243\u001b[0m             \u001b[0msys\u001b[0m\u001b[0;34m.\u001b[0m\u001b[0mstderr\u001b[0m\u001b[0;34m.\u001b[0m\u001b[0mflush\u001b[0m\u001b[0;34m(\u001b[0m\u001b[0;34m)\u001b[0m\u001b[0;34m\u001b[0m\u001b[0;34m\u001b[0m\u001b[0m\n\u001b[1;32m    244\u001b[0m         \u001b[0;32mif\u001b[0m \u001b[0margs\u001b[0m\u001b[0;34m.\u001b[0m\u001b[0mraise_error\u001b[0m \u001b[0;32mand\u001b[0m \u001b[0mp\u001b[0m\u001b[0;34m.\u001b[0m\u001b[0mreturncode\u001b[0m\u001b[0;34m!=\u001b[0m\u001b[0;36m0\u001b[0m\u001b[0;34m:\u001b[0m\u001b[0;34m\u001b[0m\u001b[0;34m\u001b[0m\u001b[0m\n\u001b[0;32m--> 245\u001b[0;31m             \u001b[0;32mraise\u001b[0m \u001b[0mCalledProcessError\u001b[0m\u001b[0;34m(\u001b[0m\u001b[0mp\u001b[0m\u001b[0;34m.\u001b[0m\u001b[0mreturncode\u001b[0m\u001b[0;34m,\u001b[0m \u001b[0mcell\u001b[0m\u001b[0;34m,\u001b[0m \u001b[0moutput\u001b[0m\u001b[0;34m=\u001b[0m\u001b[0mout\u001b[0m\u001b[0;34m,\u001b[0m \u001b[0mstderr\u001b[0m\u001b[0;34m=\u001b[0m\u001b[0merr\u001b[0m\u001b[0;34m)\u001b[0m\u001b[0;34m\u001b[0m\u001b[0;34m\u001b[0m\u001b[0m\n\u001b[0m\u001b[1;32m    246\u001b[0m \u001b[0;34m\u001b[0m\u001b[0m\n\u001b[1;32m    247\u001b[0m     \u001b[0;32mdef\u001b[0m \u001b[0m_run_script\u001b[0m\u001b[0;34m(\u001b[0m\u001b[0mself\u001b[0m\u001b[0;34m,\u001b[0m \u001b[0mp\u001b[0m\u001b[0;34m,\u001b[0m \u001b[0mcell\u001b[0m\u001b[0;34m,\u001b[0m \u001b[0mto_close\u001b[0m\u001b[0;34m)\u001b[0m\u001b[0;34m:\u001b[0m\u001b[0;34m\u001b[0m\u001b[0;34m\u001b[0m\u001b[0m\n",
      "\u001b[0;31mCalledProcessError\u001b[0m: Command 'b'jupyter nbextension install --py mayavi --user\\n'' returned non-zero exit status 1."
     ]
    }
   ],
   "source": [
    "%%capture\n",
    "%%bash\n",
    "jupyter nbextension install --py mayavi --user"
   ]
  },
  {
   "cell_type": "code",
   "execution_count": 14,
   "id": "ae7fd1c7",
   "metadata": {
    "scrolled": true
   },
   "outputs": [
    {
     "ename": "ModuleNotFoundError",
     "evalue": "No module named 'ipyevents'",
     "output_type": "error",
     "traceback": [
      "\u001b[0;31m---------------------------------------------------------------------------\u001b[0m",
      "\u001b[0;31mModuleNotFoundError\u001b[0m                       Traceback (most recent call last)",
      "\u001b[0;32m/tmp/ipykernel_189374/2033546107.py\u001b[0m in \u001b[0;36m<module>\u001b[0;34m\u001b[0m\n\u001b[0;32m----> 1\u001b[0;31m \u001b[0mmlab\u001b[0m\u001b[0;34m.\u001b[0m\u001b[0minit_notebook\u001b[0m\u001b[0;34m(\u001b[0m\u001b[0;34m)\u001b[0m\u001b[0;34m\u001b[0m\u001b[0;34m\u001b[0m\u001b[0m\n\u001b[0m\u001b[1;32m      2\u001b[0m \u001b[0mv_options\u001b[0m \u001b[0;34m=\u001b[0m \u001b[0;34m{\u001b[0m\u001b[0;34m'mode'\u001b[0m\u001b[0;34m:\u001b[0m \u001b[0;34m'sphere'\u001b[0m\u001b[0;34m,\u001b[0m\u001b[0;34m'scale_factor'\u001b[0m\u001b[0;34m:\u001b[0m \u001b[0;36m3e-3\u001b[0m\u001b[0;34m,\u001b[0m \u001b[0;34m'color'\u001b[0m\u001b[0;34m:\u001b[0m \u001b[0;34m(\u001b[0m\u001b[0;36m0\u001b[0m\u001b[0;34m,\u001b[0m \u001b[0;36m0\u001b[0m\u001b[0;34m,\u001b[0m \u001b[0;36m0\u001b[0m\u001b[0;34m)\u001b[0m\u001b[0;34m}\u001b[0m\u001b[0;34m\u001b[0m\u001b[0;34m\u001b[0m\u001b[0m\n",
      "\u001b[0;32m~/.local/lib/python3.10/site-packages/mayavi/tools/notebook.py\u001b[0m in \u001b[0;36minit\u001b[0;34m(backend, width, height, local)\u001b[0m\n\u001b[1;32m     51\u001b[0m     \u001b[0;32mfrom\u001b[0m \u001b[0mmayavi\u001b[0m \u001b[0;32mimport\u001b[0m \u001b[0mmlab\u001b[0m\u001b[0;34m\u001b[0m\u001b[0;34m\u001b[0m\u001b[0m\n\u001b[1;32m     52\u001b[0m     \u001b[0mmlab\u001b[0m\u001b[0;34m.\u001b[0m\u001b[0moptions\u001b[0m\u001b[0;34m.\u001b[0m\u001b[0moffscreen\u001b[0m \u001b[0;34m=\u001b[0m \u001b[0;32mTrue\u001b[0m\u001b[0;34m\u001b[0m\u001b[0;34m\u001b[0m\u001b[0m\n\u001b[0;32m---> 53\u001b[0;31m     \u001b[0m_backend\u001b[0m \u001b[0;34m=\u001b[0m \u001b[0m_registry\u001b[0m\u001b[0;34m[\u001b[0m\u001b[0mbackend\u001b[0m\u001b[0;34m]\u001b[0m\u001b[0;34m(\u001b[0m\u001b[0mwidth\u001b[0m\u001b[0;34m,\u001b[0m \u001b[0mheight\u001b[0m\u001b[0;34m,\u001b[0m \u001b[0mlocal\u001b[0m\u001b[0;34m)\u001b[0m\u001b[0;34m\u001b[0m\u001b[0;34m\u001b[0m\u001b[0m\n\u001b[0m\u001b[1;32m     54\u001b[0m     \u001b[0mBase\u001b[0m\u001b[0;34m.\u001b[0m\u001b[0m_ipython_display_\u001b[0m \u001b[0;34m=\u001b[0m \u001b[0m_ipython_display_\u001b[0m\u001b[0;34m\u001b[0m\u001b[0;34m\u001b[0m\u001b[0m\n\u001b[1;32m     55\u001b[0m     \u001b[0mTVTKScene\u001b[0m\u001b[0;34m.\u001b[0m\u001b[0m_ipython_display_\u001b[0m \u001b[0;34m=\u001b[0m \u001b[0m_ipython_display_\u001b[0m\u001b[0;34m\u001b[0m\u001b[0;34m\u001b[0m\u001b[0m\n",
      "\u001b[0;32m~/.local/lib/python3.10/site-packages/mayavi/tools/notebook.py\u001b[0m in \u001b[0;36m__init__\u001b[0;34m(self, width, height, local)\u001b[0m\n\u001b[1;32m    156\u001b[0m         \u001b[0;32mif\u001b[0m \u001b[0mself\u001b[0m\u001b[0;34m.\u001b[0m\u001b[0m__class__\u001b[0m\u001b[0;34m.\u001b[0m\u001b[0m_widget_manager\u001b[0m \u001b[0;32mis\u001b[0m \u001b[0;32mNone\u001b[0m\u001b[0;34m:\u001b[0m\u001b[0;34m\u001b[0m\u001b[0;34m\u001b[0m\u001b[0m\n\u001b[1;32m    157\u001b[0m             \u001b[0;31m# This is a singleton, no need to create multiple of these.\u001b[0m\u001b[0;34m\u001b[0m\u001b[0;34m\u001b[0m\u001b[0m\n\u001b[0;32m--> 158\u001b[0;31m             \u001b[0;32mfrom\u001b[0m \u001b[0mmayavi\u001b[0m\u001b[0;34m.\u001b[0m\u001b[0mtools\u001b[0m\u001b[0;34m.\u001b[0m\u001b[0mremote\u001b[0m\u001b[0;34m.\u001b[0m\u001b[0mipy_remote\u001b[0m \u001b[0;32mimport\u001b[0m \u001b[0mWidgetManager\u001b[0m\u001b[0;34m\u001b[0m\u001b[0;34m\u001b[0m\u001b[0m\n\u001b[0m\u001b[1;32m    159\u001b[0m             \u001b[0mself\u001b[0m\u001b[0;34m.\u001b[0m\u001b[0m__class__\u001b[0m\u001b[0;34m.\u001b[0m\u001b[0m_widget_manager\u001b[0m \u001b[0;34m=\u001b[0m \u001b[0mWidgetManager\u001b[0m\u001b[0;34m(\u001b[0m\u001b[0;34m)\u001b[0m\u001b[0;34m\u001b[0m\u001b[0;34m\u001b[0m\u001b[0m\n\u001b[1;32m    160\u001b[0m \u001b[0;34m\u001b[0m\u001b[0m\n",
      "\u001b[0;32m~/.local/lib/python3.10/site-packages/mayavi/tools/remote/ipy_remote.py\u001b[0m in \u001b[0;36m<module>\u001b[0;34m\u001b[0m\n\u001b[1;32m      2\u001b[0m \u001b[0;32mfrom\u001b[0m \u001b[0mIPython\u001b[0m\u001b[0;34m.\u001b[0m\u001b[0mdisplay\u001b[0m \u001b[0;32mimport\u001b[0m \u001b[0mdisplay\u001b[0m\u001b[0;34m\u001b[0m\u001b[0;34m\u001b[0m\u001b[0m\n\u001b[1;32m      3\u001b[0m \u001b[0;32mfrom\u001b[0m \u001b[0mipywidgets\u001b[0m \u001b[0;32mimport\u001b[0m \u001b[0mImage\u001b[0m\u001b[0;34m\u001b[0m\u001b[0;34m\u001b[0m\u001b[0m\n\u001b[0;32m----> 4\u001b[0;31m \u001b[0;32mfrom\u001b[0m \u001b[0mipyevents\u001b[0m \u001b[0;32mimport\u001b[0m \u001b[0mEvent\u001b[0m\u001b[0;34m\u001b[0m\u001b[0;34m\u001b[0m\u001b[0m\n\u001b[0m\u001b[1;32m      5\u001b[0m \u001b[0;34m\u001b[0m\u001b[0m\n\u001b[1;32m      6\u001b[0m \u001b[0;32mfrom\u001b[0m \u001b[0;34m.\u001b[0m\u001b[0mbridge\u001b[0m \u001b[0;32mimport\u001b[0m \u001b[0mLocalBridge\u001b[0m\u001b[0;34m\u001b[0m\u001b[0;34m\u001b[0m\u001b[0m\n",
      "\u001b[0;31mModuleNotFoundError\u001b[0m: No module named 'ipyevents'"
     ]
    }
   ],
   "source": [
    "%%capture\n",
    "mlab.init_notebook()\n",
    "v_options = {'mode': 'sphere','scale_factor': 3e-3, 'color': (0, 0, 0)}"
   ]
  },
  {
   "cell_type": "code",
   "execution_count": 15,
   "id": "6991e2c8-8f75-4734-85fe-af4b74834840",
   "metadata": {},
   "outputs": [],
   "source": [
    "v_options = {'mode': 'sphere','scale_factor': 3e-3, 'color': (0, 0, 0)}"
   ]
  },
  {
   "cell_type": "markdown",
   "id": "f5a85a6b",
   "metadata": {},
   "source": [
    "### Ground Truth with Sample Training Points"
   ]
  },
  {
   "cell_type": "code",
   "execution_count": 16,
   "id": "8a054797",
   "metadata": {},
   "outputs": [],
   "source": [
    "mlab.figure(size=(1920, 1360), fgcolor=(0, 0, 0), bgcolor = (1,1,1))\n",
    "mlab.triangular_mesh(sampled_x[:, 0], sampled_x[:, 1], sampled_x[:, 2], faces, scalars=sampled_y)\n",
    "mlab.colorbar(orientation='vertical')\n",
    "mlab.points3d(train_x[:,0], train_x[:,1], train_x[:,2], **v_options)\n",
    "# mlab.points3d(test_x[:,0], test_x[:,1], test_x[:,2], **v_options)\n",
    "mlab.view(0.0,180.0,0.5139171204775793)\n",
    "mlab.savefig('dragon_truth_semisupervised.png')"
   ]
  },
  {
   "cell_type": "markdown",
   "id": "ce632461",
   "metadata": {},
   "source": [
    "### Mean"
   ]
  },
  {
   "cell_type": "code",
   "execution_count": 17,
   "id": "e833567e",
   "metadata": {},
   "outputs": [],
   "source": [
    "mlab.figure(size=(1920, 1360), fgcolor=(0, 0, 0), bgcolor = (1,1,1))\n",
    "mlab.triangular_mesh(sampled_x[:, 0], sampled_x[:, 1], sampled_x[:, 2], faces, scalars=mean)\n",
    "mlab.colorbar(orientation='vertical')\n",
    "mlab.points3d(train_x[:,0], train_x[:,1], train_x[:,2], **v_options)\n",
    "mlab.view(0.0,180.0,0.5139171204775793)\n",
    "mlab.savefig('dragon_mean_semisupervised.png')"
   ]
  },
  {
   "cell_type": "markdown",
   "id": "2fcb8ebf",
   "metadata": {},
   "source": [
    "### Standard Deviation"
   ]
  },
  {
   "cell_type": "code",
   "execution_count": null,
   "id": "591b8af9",
   "metadata": {},
   "outputs": [],
   "source": [
    "mlab.figure(size=(1920, 1360), fgcolor=(0, 0, 0), bgcolor = (1,1,1))\n",
    "mlab.triangular_mesh(sampled_x[:, 0], sampled_x[:, 1], sampled_x[:, 2], faces, scalars=std)\n",
    "mlab.colorbar(orientation='vertical')\n",
    "mlab.points3d(train_x[:,0], train_x[:,1], train_x[:,2], **v_options)\n",
    "# mlab.view(0.0,180.0,0.5139171204775793)\n",
    "# mlab.savefig('dragon_std_semisupervised.png')"
   ]
  },
  {
   "cell_type": "markdown",
   "id": "12402c7f",
   "metadata": {},
   "source": [
    "### One Posterior Sample"
   ]
  },
  {
   "cell_type": "code",
   "execution_count": null,
   "id": "09655441",
   "metadata": {},
   "outputs": [],
   "source": [
    "mlab.figure(size=(1920, 1360), fgcolor=(0, 0, 0), bgcolor = (1,1,1))\n",
    "mlab.triangular_mesh(sampled_x[:, 0], sampled_x[:, 1], sampled_x[:, 2], faces, scalars=posterior_sample)\n",
    "mlab.colorbar(orientation='vertical')\n",
    "mlab.points3d(train_x[:,0], train_x[:,1], train_x[:,2], **v_options)\n",
    "# mlab.view(0.0,180.0,0.5139171204775793)\n",
    "# mlab.savefig('dragon_posterior_semisupervised.png')"
   ]
  },
  {
   "cell_type": "markdown",
   "id": "8c4b248b",
   "metadata": {},
   "source": [
    "### Kernel Evaluation"
   ]
  },
  {
   "cell_type": "code",
   "execution_count": null,
   "id": "6b6ded3a",
   "metadata": {},
   "outputs": [],
   "source": [
    "mlab.figure(size=(1920, 1360), fgcolor=(0, 0, 0), bgcolor = (1,1,1))\n",
    "mlab.triangular_mesh(sampled_x[:, 0], sampled_x[:, 1], sampled_x[:, 2], faces, scalars=kernel_eval)\n",
    "mlab.colorbar(orientation='vertical')\n",
    "mlab.points3d(sampled_x[0,0], sampled_x[0,1], sampled_x[0,2], **v_options)"
   ]
  },
  {
   "cell_type": "code",
   "execution_count": null,
   "id": "f8c47716",
   "metadata": {},
   "outputs": [],
   "source": []
  }
 ],
 "metadata": {
  "kernelspec": {
   "display_name": "Python 3 (ipykernel)",
   "language": "python",
   "name": "python3"
  },
  "language_info": {
   "codemirror_mode": {
    "name": "ipython",
    "version": 3
   },
   "file_extension": ".py",
   "mimetype": "text/x-python",
   "name": "python",
   "nbconvert_exporter": "python",
   "pygments_lexer": "ipython3",
   "version": "3.10.12"
  },
  "vscode": {
   "interpreter": {
    "hash": "916dbcbb3f70747c44a77c7bcd40155683ae19c65e1c03b4aa3499c5328201f1"
   }
  }
 },
 "nbformat": 4,
 "nbformat_minor": 5
}
