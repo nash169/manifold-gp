{
 "cells": [
  {
   "cell_type": "markdown",
   "id": "5e276dbe",
   "metadata": {},
   "source": [
    "# Manifold GP Supervised Learning via Precision Matrix"
   ]
  },
  {
   "cell_type": "markdown",
   "id": "a36444a5",
   "metadata": {},
   "source": [
    "## Preamble"
   ]
  },
  {
   "cell_type": "markdown",
   "id": "01d17d1f",
   "metadata": {},
   "source": [
    "This notebook provides an example of how to perform Gaussian Process Regression on a 1D manifold. In this example we consider a supervised learning scenario, namely the number of labeled data points is equivalent to the number of the sampled points from the underlying manifold."
   ]
  },
  {
   "cell_type": "code",
   "execution_count": 1,
   "id": "2b4a0b01",
   "metadata": {},
   "outputs": [],
   "source": [
    "import numpy as np\n",
    "import torch\n",
    "import gpytorch\n",
    "import matplotlib.pyplot as plt\n",
    "from mayavi import mlab\n",
    "from importlib.resources import files\n",
    "from manifold_gp.kernels.riemann_matern_kernel import RiemannMaternKernel\n",
    "from manifold_gp.models.riemann_gp import RiemannGP\n",
    "from manifold_gp.utils.generate_truth import groundtruth_from_mesh"
   ]
  },
  {
   "cell_type": "markdown",
   "id": "d183e102",
   "metadata": {},
   "source": [
    "Select the device: GPU or CPU."
   ]
  },
  {
   "cell_type": "code",
   "execution_count": 2,
   "id": "d3ffb421",
   "metadata": {},
   "outputs": [],
   "source": [
    "use_cuda = torch.cuda.is_available()\n",
    "device = torch.device(\"cuda\" if use_cuda else \"cpu\")"
   ]
  },
  {
   "cell_type": "markdown",
   "id": "75701656",
   "metadata": {},
   "source": [
    "## Load Dataset and Generate Ground Truth"
   ]
  },
  {
   "cell_type": "code",
   "execution_count": 3,
   "id": "af216c23",
   "metadata": {},
   "outputs": [],
   "source": [
    "data_path = files('manifold_gp.data').joinpath('dragon10k.stl')\n",
    "nodes, faces, truth = groundtruth_from_mesh(data_path)\n",
    "sampled_x = torch.from_numpy(nodes).float().to(device)\n",
    "sampled_y = torch.from_numpy(truth).float().to(device)\n",
    "(m, n) = sampled_x.shape"
   ]
  },
  {
   "cell_type": "markdown",
   "id": "1d66b347",
   "metadata": {},
   "source": [
    "## Apply Noise to the Dataset"
   ]
  },
  {
   "cell_type": "markdown",
   "id": "a03af248",
   "metadata": {},
   "source": [
    "In order to simulate real case scenario we can apply a normally distributed noise to our dataset. Here we can consider to apply the noise either to the sampled data points from the manifold or to the ground truth relative to each labeled points."
   ]
  },
  {
   "cell_type": "markdown",
   "id": "46b97436",
   "metadata": {},
   "source": [
    "### Apply noise to the manifold\n",
    "Setting the variable `manifold_noise` you can apply Gaussian noise to the sampled points from the manifold."
   ]
  },
  {
   "cell_type": "code",
   "execution_count": 4,
   "id": "86d8f443",
   "metadata": {},
   "outputs": [],
   "source": [
    "manifold_noise = 0.0\n",
    "noisy_x = sampled_x + manifold_noise * torch.randn(m, n).to(device)"
   ]
  },
  {
   "cell_type": "markdown",
   "id": "93184056",
   "metadata": {},
   "source": [
    "### Apply noise to the ground truth\n",
    "Setting the variable `function_noise` you can apply Gaussian noise to the training points."
   ]
  },
  {
   "cell_type": "code",
   "execution_count": 5,
   "id": "878cd4f8",
   "metadata": {},
   "outputs": [],
   "source": [
    "function_noise = 0.0\n",
    "noisy_y = sampled_y + function_noise * torch.randn(m).to(device)"
   ]
  },
  {
   "cell_type": "markdown",
   "id": "3b810778",
   "metadata": {},
   "source": [
    "## Training Dataset"
   ]
  },
  {
   "cell_type": "markdown",
   "id": "08338c74",
   "metadata": {},
   "source": [
    "Create the training dataset. You can set the variable `num_train` to define the number of points within your dataset."
   ]
  },
  {
   "cell_type": "code",
   "execution_count": 6,
   "id": "fea41972",
   "metadata": {},
   "outputs": [],
   "source": [
    "num_train = 500\n",
    "train_idx = torch.randperm(m)[:num_train]\n",
    "train_x = noisy_x[train_idx, :]\n",
    "train_y = noisy_y[train_idx]"
   ]
  },
  {
   "cell_type": "markdown",
   "id": "7004891b",
   "metadata": {},
   "source": [
    "## Test Dataset"
   ]
  },
  {
   "cell_type": "markdown",
   "id": "45a40481",
   "metadata": {},
   "source": [
    "Create the training dataset. You can set the variable `num_test` to define the number of points within your dataset."
   ]
  },
  {
   "cell_type": "code",
   "execution_count": 7,
   "id": "8414d8d3",
   "metadata": {},
   "outputs": [],
   "source": [
    "num_test = 100\n",
    "test_idx = torch.randperm(m)[:num_test]\n",
    "test_x = noisy_x[test_idx, :]\n",
    "test_y = noisy_y[test_idx]"
   ]
  },
  {
   "cell_type": "markdown",
   "id": "d3441ad2",
   "metadata": {},
   "source": [
    "## Initialize Kernel"
   ]
  },
  {
   "cell_type": "markdown",
   "id": "deed270f",
   "metadata": {},
   "source": [
    "Create the Riemann Matern kernel. `nu` control the kernel smoothness like in the stadard Matern kernel. `neighbors` set the number of nearest neighbors in the KNN-based discrete approximation of the Laplace-Beltrami operator and construction of differentiable eigenfunctions. `modes` set the number of the eigenfunctions used to approximate the Riemann Matern kernel. As for classical *GPyTorch* kernels the Riemann Matern kernel can be decorated using with the *ScaleKernel* to have the signal variance parameter."
   ]
  },
  {
   "cell_type": "code",
   "execution_count": 8,
   "id": "15e47b46",
   "metadata": {},
   "outputs": [],
   "source": [
    "nu = 2\n",
    "neighbors = 50\n",
    "modes = 20\n",
    "kernel = gpytorch.kernels.ScaleKernel(RiemannMaternKernel(noisy_x, nu, neighbors, modes))"
   ]
  },
  {
   "cell_type": "markdown",
   "id": "8c286da6",
   "metadata": {},
   "source": [
    "## Initialize Likelihood and GP Model"
   ]
  },
  {
   "cell_type": "markdown",
   "id": "b42aae40",
   "metadata": {},
   "source": [
    "Define the type of likelihood and the GP model. The GP model takes as input the training set and and labels, the likelihood and the Riemann Matern Kernel."
   ]
  },
  {
   "cell_type": "code",
   "execution_count": 9,
   "id": "69104add",
   "metadata": {},
   "outputs": [],
   "source": [
    "likelihood = gpytorch.likelihoods.GaussianLikelihood()\n",
    "model = RiemannGP(noisy_x, noisy_y, likelihood, kernel).to(device)"
   ]
  },
  {
   "cell_type": "markdown",
   "id": "a22df61e",
   "metadata": {},
   "source": [
    "## Train Model"
   ]
  },
  {
   "cell_type": "markdown",
   "id": "4af1e367",
   "metadata": {},
   "source": [
    "Train the GP model using the fast Lanczos precision matrix optimization. `lr` set the learning rate; `iters` defines the number of iteratios; `verbose` can be set to `True` for printing the parameters each iteration."
   ]
  },
  {
   "cell_type": "code",
   "execution_count": 10,
   "id": "f90f851a",
   "metadata": {},
   "outputs": [
    {
     "name": "stdout",
     "output_type": "stream",
     "text": [
      "Iteration: 0, Loss: 1839905.875, Noise Variance: 0.007, Signal Variance: 1.000, Lengthscale: 0.368, Epsilon: 0.135\n",
      "Iteration: 1, Loss: 1758323.750, Noise Variance: 0.007, Signal Variance: 1.006, Lengthscale: 0.371, Epsilon: 0.137\n",
      "Iteration: 2, Loss: 1680530.750, Noise Variance: 0.007, Signal Variance: 1.013, Lengthscale: 0.374, Epsilon: 0.138\n",
      "Iteration: 3, Loss: 1606415.250, Noise Variance: 0.007, Signal Variance: 1.019, Lengthscale: 0.377, Epsilon: 0.139\n",
      "Iteration: 4, Loss: 1535861.000, Noise Variance: 0.007, Signal Variance: 1.025, Lengthscale: 0.380, Epsilon: 0.140\n",
      "Iteration: 5, Loss: 1468746.750, Noise Variance: 0.007, Signal Variance: 1.032, Lengthscale: 0.383, Epsilon: 0.142\n",
      "Iteration: 6, Loss: 1404949.625, Noise Variance: 0.007, Signal Variance: 1.038, Lengthscale: 0.387, Epsilon: 0.143\n",
      "Iteration: 7, Loss: 1344342.625, Noise Variance: 0.007, Signal Variance: 1.044, Lengthscale: 0.390, Epsilon: 0.144\n",
      "Iteration: 8, Loss: 1286799.875, Noise Variance: 0.007, Signal Variance: 1.051, Lengthscale: 0.393, Epsilon: 0.146\n",
      "Iteration: 9, Loss: 1232194.500, Noise Variance: 0.007, Signal Variance: 1.057, Lengthscale: 0.396, Epsilon: 0.147\n",
      "Iteration: 10, Loss: 1180399.500, Noise Variance: 0.007, Signal Variance: 1.063, Lengthscale: 0.399, Epsilon: 0.148\n",
      "Iteration: 11, Loss: 1131288.125, Noise Variance: 0.007, Signal Variance: 1.069, Lengthscale: 0.402, Epsilon: 0.150\n",
      "Iteration: 12, Loss: 1084738.250, Noise Variance: 0.008, Signal Variance: 1.076, Lengthscale: 0.405, Epsilon: 0.151\n",
      "Iteration: 13, Loss: 1040626.938, Noise Variance: 0.008, Signal Variance: 1.082, Lengthscale: 0.408, Epsilon: 0.152\n",
      "Iteration: 14, Loss: 998833.438, Noise Variance: 0.008, Signal Variance: 1.088, Lengthscale: 0.412, Epsilon: 0.154\n",
      "Iteration: 15, Loss: 959244.625, Noise Variance: 0.008, Signal Variance: 1.094, Lengthscale: 0.415, Epsilon: 0.155\n",
      "Iteration: 16, Loss: 921746.938, Noise Variance: 0.008, Signal Variance: 1.100, Lengthscale: 0.418, Epsilon: 0.156\n",
      "Iteration: 17, Loss: 886230.062, Noise Variance: 0.008, Signal Variance: 1.105, Lengthscale: 0.421, Epsilon: 0.157\n",
      "Iteration: 18, Loss: 852589.562, Noise Variance: 0.008, Signal Variance: 1.111, Lengthscale: 0.424, Epsilon: 0.159\n",
      "Iteration: 19, Loss: 820724.250, Noise Variance: 0.008, Signal Variance: 1.117, Lengthscale: 0.427, Epsilon: 0.160\n",
      "Iteration: 20, Loss: 790537.750, Noise Variance: 0.008, Signal Variance: 1.123, Lengthscale: 0.430, Epsilon: 0.161\n",
      "Iteration: 21, Loss: 761935.562, Noise Variance: 0.008, Signal Variance: 1.128, Lengthscale: 0.432, Epsilon: 0.162\n",
      "Iteration: 22, Loss: 734829.688, Noise Variance: 0.008, Signal Variance: 1.134, Lengthscale: 0.435, Epsilon: 0.164\n",
      "Iteration: 23, Loss: 709135.500, Noise Variance: 0.008, Signal Variance: 1.139, Lengthscale: 0.438, Epsilon: 0.165\n",
      "Iteration: 24, Loss: 684773.688, Noise Variance: 0.008, Signal Variance: 1.144, Lengthscale: 0.441, Epsilon: 0.166\n",
      "Iteration: 25, Loss: 661665.812, Noise Variance: 0.008, Signal Variance: 1.150, Lengthscale: 0.444, Epsilon: 0.167\n",
      "Iteration: 26, Loss: 639741.250, Noise Variance: 0.008, Signal Variance: 1.155, Lengthscale: 0.446, Epsilon: 0.168\n",
      "Iteration: 27, Loss: 618930.938, Noise Variance: 0.008, Signal Variance: 1.160, Lengthscale: 0.449, Epsilon: 0.169\n",
      "Iteration: 28, Loss: 599169.250, Noise Variance: 0.008, Signal Variance: 1.165, Lengthscale: 0.452, Epsilon: 0.171\n",
      "Iteration: 29, Loss: 580395.500, Noise Variance: 0.009, Signal Variance: 1.170, Lengthscale: 0.454, Epsilon: 0.172\n",
      "Iteration: 30, Loss: 562552.375, Noise Variance: 0.009, Signal Variance: 1.175, Lengthscale: 0.457, Epsilon: 0.173\n",
      "Iteration: 31, Loss: 545584.188, Noise Variance: 0.009, Signal Variance: 1.179, Lengthscale: 0.460, Epsilon: 0.174\n",
      "Iteration: 32, Loss: 529441.562, Noise Variance: 0.009, Signal Variance: 1.184, Lengthscale: 0.462, Epsilon: 0.175\n",
      "Iteration: 33, Loss: 514075.594, Noise Variance: 0.009, Signal Variance: 1.189, Lengthscale: 0.465, Epsilon: 0.176\n",
      "Iteration: 34, Loss: 499440.031, Noise Variance: 0.009, Signal Variance: 1.193, Lengthscale: 0.467, Epsilon: 0.177\n",
      "Iteration: 35, Loss: 485493.000, Noise Variance: 0.009, Signal Variance: 1.198, Lengthscale: 0.469, Epsilon: 0.178\n",
      "Iteration: 36, Loss: 472194.531, Noise Variance: 0.009, Signal Variance: 1.202, Lengthscale: 0.472, Epsilon: 0.179\n",
      "Iteration: 37, Loss: 459505.750, Noise Variance: 0.009, Signal Variance: 1.206, Lengthscale: 0.474, Epsilon: 0.180\n",
      "Iteration: 38, Loss: 447393.062, Noise Variance: 0.009, Signal Variance: 1.210, Lengthscale: 0.477, Epsilon: 0.181\n",
      "Iteration: 39, Loss: 435822.812, Noise Variance: 0.009, Signal Variance: 1.215, Lengthscale: 0.479, Epsilon: 0.182\n",
      "Iteration: 40, Loss: 424764.688, Noise Variance: 0.009, Signal Variance: 1.219, Lengthscale: 0.481, Epsilon: 0.183\n",
      "Iteration: 41, Loss: 414187.250, Noise Variance: 0.009, Signal Variance: 1.223, Lengthscale: 0.483, Epsilon: 0.184\n",
      "Iteration: 42, Loss: 404066.344, Noise Variance: 0.009, Signal Variance: 1.227, Lengthscale: 0.485, Epsilon: 0.185\n",
      "Iteration: 43, Loss: 394373.594, Noise Variance: 0.009, Signal Variance: 1.230, Lengthscale: 0.488, Epsilon: 0.186\n",
      "Iteration: 44, Loss: 385085.781, Noise Variance: 0.009, Signal Variance: 1.234, Lengthscale: 0.490, Epsilon: 0.187\n",
      "Iteration: 45, Loss: 376182.625, Noise Variance: 0.009, Signal Variance: 1.238, Lengthscale: 0.492, Epsilon: 0.188\n",
      "Iteration: 46, Loss: 367640.062, Noise Variance: 0.009, Signal Variance: 1.242, Lengthscale: 0.494, Epsilon: 0.189\n",
      "Iteration: 47, Loss: 359440.281, Noise Variance: 0.009, Signal Variance: 1.245, Lengthscale: 0.496, Epsilon: 0.190\n",
      "Iteration: 48, Loss: 351563.406, Noise Variance: 0.009, Signal Variance: 1.249, Lengthscale: 0.498, Epsilon: 0.190\n",
      "Iteration: 49, Loss: 343992.688, Noise Variance: 0.009, Signal Variance: 1.252, Lengthscale: 0.500, Epsilon: 0.191\n",
      "Iteration: 50, Loss: 336711.031, Noise Variance: 0.009, Signal Variance: 1.256, Lengthscale: 0.502, Epsilon: 0.192\n",
      "Iteration: 51, Loss: 329704.969, Noise Variance: 0.009, Signal Variance: 1.259, Lengthscale: 0.504, Epsilon: 0.193\n",
      "Iteration: 52, Loss: 322959.719, Noise Variance: 0.009, Signal Variance: 1.262, Lengthscale: 0.506, Epsilon: 0.194\n",
      "Iteration: 53, Loss: 316459.531, Noise Variance: 0.009, Signal Variance: 1.266, Lengthscale: 0.507, Epsilon: 0.195\n",
      "Iteration: 54, Loss: 310194.438, Noise Variance: 0.009, Signal Variance: 1.269, Lengthscale: 0.509, Epsilon: 0.195\n",
      "Iteration: 55, Loss: 304150.594, Noise Variance: 0.009, Signal Variance: 1.272, Lengthscale: 0.511, Epsilon: 0.196\n",
      "Iteration: 56, Loss: 298318.312, Noise Variance: 0.009, Signal Variance: 1.275, Lengthscale: 0.513, Epsilon: 0.197\n",
      "Iteration: 57, Loss: 292686.594, Noise Variance: 0.009, Signal Variance: 1.278, Lengthscale: 0.515, Epsilon: 0.198\n",
      "Iteration: 58, Loss: 287246.250, Noise Variance: 0.009, Signal Variance: 1.281, Lengthscale: 0.516, Epsilon: 0.199\n",
      "Iteration: 59, Loss: 281985.844, Noise Variance: 0.009, Signal Variance: 1.284, Lengthscale: 0.518, Epsilon: 0.199\n",
      "Iteration: 60, Loss: 276897.656, Noise Variance: 0.009, Signal Variance: 1.287, Lengthscale: 0.520, Epsilon: 0.200\n",
      "Iteration: 61, Loss: 271975.719, Noise Variance: 0.009, Signal Variance: 1.290, Lengthscale: 0.521, Epsilon: 0.201\n",
      "Iteration: 62, Loss: 267210.219, Noise Variance: 0.009, Signal Variance: 1.293, Lengthscale: 0.523, Epsilon: 0.201\n",
      "Iteration: 63, Loss: 262593.781, Noise Variance: 0.010, Signal Variance: 1.296, Lengthscale: 0.525, Epsilon: 0.202\n",
      "Iteration: 64, Loss: 258120.172, Noise Variance: 0.010, Signal Variance: 1.299, Lengthscale: 0.526, Epsilon: 0.203\n",
      "Iteration: 65, Loss: 253782.891, Noise Variance: 0.010, Signal Variance: 1.302, Lengthscale: 0.528, Epsilon: 0.204\n",
      "Iteration: 66, Loss: 249576.031, Noise Variance: 0.010, Signal Variance: 1.304, Lengthscale: 0.530, Epsilon: 0.204\n",
      "Iteration: 67, Loss: 245492.438, Noise Variance: 0.010, Signal Variance: 1.307, Lengthscale: 0.531, Epsilon: 0.205\n",
      "Iteration: 68, Loss: 241528.312, Noise Variance: 0.010, Signal Variance: 1.310, Lengthscale: 0.533, Epsilon: 0.206\n",
      "Iteration: 69, Loss: 237678.281, Noise Variance: 0.010, Signal Variance: 1.312, Lengthscale: 0.534, Epsilon: 0.206\n",
      "Iteration: 70, Loss: 233937.953, Noise Variance: 0.010, Signal Variance: 1.315, Lengthscale: 0.536, Epsilon: 0.207\n",
      "Iteration: 71, Loss: 230301.016, Noise Variance: 0.010, Signal Variance: 1.318, Lengthscale: 0.537, Epsilon: 0.208\n"
     ]
    },
    {
     "name": "stdout",
     "output_type": "stream",
     "text": [
      "Iteration: 72, Loss: 226763.781, Noise Variance: 0.010, Signal Variance: 1.320, Lengthscale: 0.539, Epsilon: 0.208\n",
      "Iteration: 73, Loss: 223323.312, Noise Variance: 0.010, Signal Variance: 1.323, Lengthscale: 0.540, Epsilon: 0.209\n",
      "Iteration: 74, Loss: 219974.484, Noise Variance: 0.010, Signal Variance: 1.325, Lengthscale: 0.542, Epsilon: 0.210\n",
      "Iteration: 75, Loss: 216713.828, Noise Variance: 0.010, Signal Variance: 1.328, Lengthscale: 0.543, Epsilon: 0.210\n",
      "Iteration: 76, Loss: 213538.219, Noise Variance: 0.010, Signal Variance: 1.330, Lengthscale: 0.545, Epsilon: 0.211\n",
      "Iteration: 77, Loss: 210445.438, Noise Variance: 0.010, Signal Variance: 1.332, Lengthscale: 0.546, Epsilon: 0.212\n",
      "Iteration: 78, Loss: 207430.797, Noise Variance: 0.010, Signal Variance: 1.335, Lengthscale: 0.547, Epsilon: 0.212\n",
      "Iteration: 79, Loss: 204490.656, Noise Variance: 0.010, Signal Variance: 1.337, Lengthscale: 0.549, Epsilon: 0.213\n",
      "Iteration: 80, Loss: 201625.031, Noise Variance: 0.010, Signal Variance: 1.340, Lengthscale: 0.550, Epsilon: 0.213\n",
      "Iteration: 81, Loss: 198827.016, Noise Variance: 0.010, Signal Variance: 1.342, Lengthscale: 0.552, Epsilon: 0.214\n",
      "Iteration: 82, Loss: 196097.344, Noise Variance: 0.010, Signal Variance: 1.344, Lengthscale: 0.553, Epsilon: 0.215\n",
      "Iteration: 83, Loss: 193433.016, Noise Variance: 0.010, Signal Variance: 1.346, Lengthscale: 0.554, Epsilon: 0.215\n",
      "Iteration: 84, Loss: 190831.250, Noise Variance: 0.010, Signal Variance: 1.349, Lengthscale: 0.556, Epsilon: 0.216\n",
      "Iteration: 85, Loss: 188289.812, Noise Variance: 0.010, Signal Variance: 1.351, Lengthscale: 0.557, Epsilon: 0.216\n",
      "Iteration: 86, Loss: 185806.766, Noise Variance: 0.010, Signal Variance: 1.353, Lengthscale: 0.558, Epsilon: 0.217\n",
      "Iteration: 87, Loss: 183381.406, Noise Variance: 0.010, Signal Variance: 1.355, Lengthscale: 0.560, Epsilon: 0.218\n",
      "Iteration: 88, Loss: 181008.984, Noise Variance: 0.010, Signal Variance: 1.357, Lengthscale: 0.561, Epsilon: 0.218\n",
      "Iteration: 89, Loss: 178690.109, Noise Variance: 0.010, Signal Variance: 1.360, Lengthscale: 0.562, Epsilon: 0.219\n",
      "Iteration: 90, Loss: 176421.922, Noise Variance: 0.010, Signal Variance: 1.362, Lengthscale: 0.563, Epsilon: 0.219\n",
      "Iteration: 91, Loss: 174202.391, Noise Variance: 0.010, Signal Variance: 1.364, Lengthscale: 0.565, Epsilon: 0.220\n",
      "Iteration: 92, Loss: 172031.562, Noise Variance: 0.010, Signal Variance: 1.366, Lengthscale: 0.566, Epsilon: 0.220\n",
      "Iteration: 93, Loss: 169905.953, Noise Variance: 0.010, Signal Variance: 1.368, Lengthscale: 0.567, Epsilon: 0.221\n",
      "Iteration: 94, Loss: 167825.141, Noise Variance: 0.010, Signal Variance: 1.370, Lengthscale: 0.569, Epsilon: 0.221\n",
      "Iteration: 95, Loss: 165789.297, Noise Variance: 0.010, Signal Variance: 1.372, Lengthscale: 0.570, Epsilon: 0.222\n",
      "Iteration: 96, Loss: 163793.578, Noise Variance: 0.010, Signal Variance: 1.374, Lengthscale: 0.571, Epsilon: 0.223\n",
      "Iteration: 97, Loss: 161839.203, Noise Variance: 0.010, Signal Variance: 1.376, Lengthscale: 0.572, Epsilon: 0.223\n",
      "Iteration: 98, Loss: 159924.422, Noise Variance: 0.010, Signal Variance: 1.378, Lengthscale: 0.573, Epsilon: 0.224\n",
      "Iteration: 99, Loss: 158047.516, Noise Variance: 0.010, Signal Variance: 1.380, Lengthscale: 0.575, Epsilon: 0.224\n"
     ]
    },
    {
     "data": {
      "text/plain": [
       "tensor(158047.5156, device='cuda:0', grad_fn=<MulBackward0>)"
      ]
     },
     "execution_count": 10,
     "metadata": {},
     "output_type": "execute_result"
    }
   ],
   "source": [
    "lr = 1e-2\n",
    "iters = 100\n",
    "verbose = True\n",
    "model.manifold_informed_train(lr, iters, verbose)"
   ]
  },
  {
   "cell_type": "markdown",
   "id": "0ab36075",
   "metadata": {},
   "source": [
    "## Model Evaluation"
   ]
  },
  {
   "cell_type": "code",
   "execution_count": 11,
   "id": "48b2928a",
   "metadata": {},
   "outputs": [],
   "source": [
    "%%capture\n",
    "likelihood.eval()\n",
    "model.eval()"
   ]
  },
  {
   "cell_type": "markdown",
   "id": "f92b6239",
   "metadata": {},
   "source": [
    "Getting faster predictive distributions using [LOVE](https://arxiv.org/abs/1803.06058). We compute the **mean**, the **standard deviation** and one **posterior sample**. In addition we evaluate the kernel at the first point of our dataset."
   ]
  },
  {
   "cell_type": "code",
   "execution_count": 12,
   "id": "8f4381ee",
   "metadata": {
    "scrolled": true
   },
   "outputs": [],
   "source": [
    "%%capture\n",
    "with torch.no_grad(), gpytorch.settings.fast_pred_var():\n",
    "    preds = likelihood(model(sampled_x))\n",
    "    mean = preds.mean\n",
    "    std = preds.stddev\n",
    "    posterior_sample = preds.sample()\n",
    "    kernel_eval = kernel(sampled_x[0, :].unsqueeze(0), sampled_x).evaluate().squeeze()"
   ]
  },
  {
   "cell_type": "markdown",
   "id": "6f992679",
   "metadata": {},
   "source": [
    "## Plot Results"
   ]
  },
  {
   "cell_type": "code",
   "execution_count": 13,
   "id": "f21ecd96",
   "metadata": {},
   "outputs": [],
   "source": [
    "with torch.no_grad():\n",
    "    # Bring data to cpu\n",
    "    if use_cuda:\n",
    "        sampled_x = sampled_x.cpu().numpy()\n",
    "        sampled_y = sampled_y.cpu().numpy()\n",
    "        train_x = train_x.cpu().numpy()\n",
    "        kernel_eval = kernel_eval.cpu().numpy()\n",
    "        posterior_sample = posterior_sample.cpu().numpy()\n",
    "        mean = mean.cpu().numpy()\n",
    "        std = std.cpu().numpy()"
   ]
  },
  {
   "cell_type": "code",
   "execution_count": 14,
   "id": "c1718afe",
   "metadata": {},
   "outputs": [],
   "source": [
    "%%capture\n",
    "%%bash\n",
    "jupyter nbextension install --py mayavi --user"
   ]
  },
  {
   "cell_type": "code",
   "execution_count": 15,
   "id": "ae7fd1c7",
   "metadata": {},
   "outputs": [],
   "source": [
    "%%capture\n",
    "mlab.init_notebook()\n",
    "v_options = {'mode': 'sphere','scale_factor': 3e-3, 'color': (0, 0, 0)}"
   ]
  },
  {
   "cell_type": "markdown",
   "id": "f5a85a6b",
   "metadata": {},
   "source": [
    "### Ground Truth with Sample Training Points"
   ]
  },
  {
   "cell_type": "code",
   "execution_count": 16,
   "id": "8a054797",
   "metadata": {},
   "outputs": [
    {
     "data": {
      "application/vnd.jupyter.widget-view+json": {
       "model_id": "43f67391758047e78077504d4c20638f",
       "version_major": 2,
       "version_minor": 0
      },
      "text/plain": [
       "Image(value=b'\\x89PNG\\r\\n\\x1a\\n\\x00\\x00\\x00\\rIHDR\\x00\\x00\\x01\\x90\\x00\\x00\\x01^\\x08\\x02\\x00\\x00\\x00$?\\xde_\\x00\\…"
      ]
     },
     "metadata": {},
     "output_type": "display_data"
    }
   ],
   "source": [
    "mlab.figure(fgcolor=(0, 0, 0), bgcolor = (1,1,1))\n",
    "mlab.triangular_mesh(nodes[:, 0], nodes[:, 1], nodes[:, 2], faces, scalars=sampled_y)\n",
    "mlab.colorbar(orientation='vertical')\n",
    "mlab.points3d(train_x[:,0], train_x[:,1], train_x[:,2], **v_options)"
   ]
  },
  {
   "cell_type": "markdown",
   "id": "ce632461",
   "metadata": {},
   "source": [
    "### Mean"
   ]
  },
  {
   "cell_type": "code",
   "execution_count": 17,
   "id": "e833567e",
   "metadata": {},
   "outputs": [
    {
     "data": {
      "application/vnd.jupyter.widget-view+json": {
       "model_id": "24b478f152524b7cb346d9deac6ed764",
       "version_major": 2,
       "version_minor": 0
      },
      "text/plain": [
       "Image(value=b'\\x89PNG\\r\\n\\x1a\\n\\x00\\x00\\x00\\rIHDR\\x00\\x00\\x01\\x90\\x00\\x00\\x01^\\x08\\x02\\x00\\x00\\x00$?\\xde_\\x00\\…"
      ]
     },
     "metadata": {},
     "output_type": "display_data"
    }
   ],
   "source": [
    "mlab.figure(fgcolor=(0, 0, 0), bgcolor = (1,1,1))\n",
    "mlab.triangular_mesh(nodes[:, 0], nodes[:, 1], nodes[:, 2], faces, scalars=mean)\n",
    "mlab.colorbar(orientation='vertical')\n",
    "mlab.points3d(train_x[:,0], train_x[:,1], train_x[:,2], **v_options)"
   ]
  },
  {
   "cell_type": "markdown",
   "id": "2fcb8ebf",
   "metadata": {},
   "source": [
    "### Standard Deviation"
   ]
  },
  {
   "cell_type": "code",
   "execution_count": 18,
   "id": "591b8af9",
   "metadata": {},
   "outputs": [
    {
     "data": {
      "application/vnd.jupyter.widget-view+json": {
       "model_id": "281da3a89e8c413e98557a94d2b8c2c5",
       "version_major": 2,
       "version_minor": 0
      },
      "text/plain": [
       "Image(value=b'\\x89PNG\\r\\n\\x1a\\n\\x00\\x00\\x00\\rIHDR\\x00\\x00\\x01\\x90\\x00\\x00\\x01^\\x08\\x02\\x00\\x00\\x00$?\\xde_\\x00\\…"
      ]
     },
     "metadata": {},
     "output_type": "display_data"
    }
   ],
   "source": [
    "mlab.figure(fgcolor=(0, 0, 0), bgcolor = (1,1,1))\n",
    "mlab.triangular_mesh(nodes[:, 0], nodes[:, 1], nodes[:, 2], faces, scalars=std)\n",
    "mlab.colorbar(orientation='vertical')\n",
    "mlab.points3d(train_x[:,0], train_x[:,1], train_x[:,2], **v_options)"
   ]
  },
  {
   "cell_type": "markdown",
   "id": "12402c7f",
   "metadata": {},
   "source": [
    "### One Posterior Sample"
   ]
  },
  {
   "cell_type": "code",
   "execution_count": 19,
   "id": "09655441",
   "metadata": {},
   "outputs": [
    {
     "data": {
      "application/vnd.jupyter.widget-view+json": {
       "model_id": "ab735bea7593437aa99925d643b65898",
       "version_major": 2,
       "version_minor": 0
      },
      "text/plain": [
       "Image(value=b'\\x89PNG\\r\\n\\x1a\\n\\x00\\x00\\x00\\rIHDR\\x00\\x00\\x01\\x90\\x00\\x00\\x01^\\x08\\x02\\x00\\x00\\x00$?\\xde_\\x00\\…"
      ]
     },
     "metadata": {},
     "output_type": "display_data"
    }
   ],
   "source": [
    "mlab.figure(fgcolor=(0, 0, 0), bgcolor = (1,1,1))\n",
    "mlab.triangular_mesh(nodes[:, 0], nodes[:, 1], nodes[:, 2], faces, scalars=posterior_sample)\n",
    "mlab.colorbar(orientation='vertical')\n",
    "mlab.points3d(train_x[:,0], train_x[:,1], train_x[:,2], **v_options)"
   ]
  },
  {
   "cell_type": "markdown",
   "id": "8c4b248b",
   "metadata": {},
   "source": [
    "### Kernel Evaluation"
   ]
  },
  {
   "cell_type": "code",
   "execution_count": 20,
   "id": "6b6ded3a",
   "metadata": {},
   "outputs": [
    {
     "data": {
      "application/vnd.jupyter.widget-view+json": {
       "model_id": "4405736ecc1f4f8ab041d72235e8c356",
       "version_major": 2,
       "version_minor": 0
      },
      "text/plain": [
       "Image(value=b'\\x89PNG\\r\\n\\x1a\\n\\x00\\x00\\x00\\rIHDR\\x00\\x00\\x01\\x90\\x00\\x00\\x01^\\x08\\x02\\x00\\x00\\x00$?\\xde_\\x00\\…"
      ]
     },
     "metadata": {},
     "output_type": "display_data"
    }
   ],
   "source": [
    "mlab.figure(fgcolor=(0, 0, 0), bgcolor = (1,1,1))\n",
    "mlab.triangular_mesh(nodes[:, 0], nodes[:, 1], nodes[:, 2], faces, scalars=kernel_eval)\n",
    "mlab.colorbar(orientation='vertical')\n",
    "mlab.points3d(sampled_x[0,0], sampled_x[0,1], sampled_x[0,2], **v_options)"
   ]
  },
  {
   "cell_type": "code",
   "execution_count": null,
   "id": "02f1a850",
   "metadata": {},
   "outputs": [],
   "source": []
  }
 ],
 "metadata": {
  "kernelspec": {
   "display_name": "Python 3 (ipykernel)",
   "language": "python",
   "name": "python3"
  },
  "language_info": {
   "codemirror_mode": {
    "name": "ipython",
    "version": 3
   },
   "file_extension": ".py",
   "mimetype": "text/x-python",
   "name": "python",
   "nbconvert_exporter": "python",
   "pygments_lexer": "ipython3",
   "version": "3.10.6"
  },
  "vscode": {
   "interpreter": {
    "hash": "916dbcbb3f70747c44a77c7bcd40155683ae19c65e1c03b4aa3499c5328201f1"
   }
  }
 },
 "nbformat": 4,
 "nbformat_minor": 5
}
