{
 "cells": [
  {
   "cell_type": "markdown",
   "id": "5e276dbe",
   "metadata": {},
   "source": [
    "# Manifold GP Supervised Learning via Precision Matrix on 2D Manifold"
   ]
  },
  {
   "cell_type": "markdown",
   "id": "a36444a5",
   "metadata": {},
   "source": [
    "## Preamble"
   ]
  },
  {
   "cell_type": "markdown",
   "id": "01d17d1f",
   "metadata": {},
   "source": [
    "This notebook provides an example of how to perform Gaussian Process Regression on a 1D manifold. In this example we consider a supervised learning scenario, namely the number of labeled data points is equivalent to the number of the sampled points from the underlying manifold."
   ]
  },
  {
   "cell_type": "code",
   "execution_count": 1,
   "id": "f5f13102",
   "metadata": {},
   "outputs": [],
   "source": [
    "from xvfbwrapper import Xvfb\n",
    "vdisplay = Xvfb(width=1920, height=1080)\n",
    "vdisplay.start()"
   ]
  },
  {
   "cell_type": "code",
   "execution_count": 2,
   "id": "2b4a0b01",
   "metadata": {},
   "outputs": [],
   "source": [
    "import numpy as np\n",
    "import torch\n",
    "import gpytorch\n",
    "import matplotlib.pyplot as plt\n",
    "from mayavi import mlab\n",
    "from importlib.resources import files\n",
    "from manifold_gp.kernels.riemann_matern_kernel import RiemannMaternKernel\n",
    "from manifold_gp.models.riemann_gp import RiemannGP\n",
    "from manifold_gp.utils.generate_truth import groundtruth_from_mesh"
   ]
  },
  {
   "cell_type": "markdown",
   "id": "d183e102",
   "metadata": {},
   "source": [
    "Select the device: GPU or CPU."
   ]
  },
  {
   "cell_type": "code",
   "execution_count": 3,
   "id": "d3ffb421",
   "metadata": {},
   "outputs": [],
   "source": [
    "use_cuda = False # torch.cuda.is_available()\n",
    "device = torch.device(\"cuda\" if use_cuda else \"cpu\")"
   ]
  },
  {
   "cell_type": "markdown",
   "id": "75701656",
   "metadata": {},
   "source": [
    "## Load Dataset and Generate Ground Truth"
   ]
  },
  {
   "cell_type": "code",
   "execution_count": 4,
   "id": "af216c23",
   "metadata": {},
   "outputs": [],
   "source": [
    "%%capture\n",
    "data_path = files('manifold_gp.data').joinpath('dragon10k.stl')\n",
    "nodes, faces, truth = groundtruth_from_mesh(data_path)\n",
    "sampled_x = torch.from_numpy(nodes).float().to(device)\n",
    "sampled_y = torch.from_numpy(truth).float().to(device)\n",
    "(m, n) = sampled_x.shape"
   ]
  },
  {
   "cell_type": "markdown",
   "id": "1d66b347",
   "metadata": {},
   "source": [
    "## Apply Noise to the Dataset"
   ]
  },
  {
   "cell_type": "markdown",
   "id": "a03af248",
   "metadata": {},
   "source": [
    "In order to simulate real case scenario we can apply a normally distributed noise to our dataset. Here we can consider to apply the noise either to the sampled data points from the manifold or to the ground truth relative to each labeled points."
   ]
  },
  {
   "cell_type": "markdown",
   "id": "46b97436",
   "metadata": {},
   "source": [
    "### Apply noise to the manifold\n",
    "Setting the variable `manifold_noise` you can apply Gaussian noise to the sampled points from the manifold."
   ]
  },
  {
   "cell_type": "code",
   "execution_count": 5,
   "id": "86d8f443",
   "metadata": {},
   "outputs": [],
   "source": [
    "manifold_noise = 0.0\n",
    "noisy_x = sampled_x + manifold_noise * torch.randn(m, n).to(device)"
   ]
  },
  {
   "cell_type": "markdown",
   "id": "93184056",
   "metadata": {},
   "source": [
    "### Apply noise to the ground truth\n",
    "Setting the variable `function_noise` you can apply Gaussian noise to the training points."
   ]
  },
  {
   "cell_type": "code",
   "execution_count": 6,
   "id": "878cd4f8",
   "metadata": {},
   "outputs": [],
   "source": [
    "function_noise = 0.0\n",
    "noisy_y = sampled_y + function_noise * torch.randn(m).to(device)"
   ]
  },
  {
   "cell_type": "markdown",
   "id": "d3441ad2",
   "metadata": {},
   "source": [
    "## Initialize Kernel"
   ]
  },
  {
   "cell_type": "markdown",
   "id": "deed270f",
   "metadata": {},
   "source": [
    "Create the Riemann Matern kernel. `nu` control the kernel smoothness like in the stadard Matern kernel. `neighbors` set the number of nearest neighbors in the KNN-based discrete approximation of the Laplace-Beltrami operator and construction of differentiable eigenfunctions. `modes` set the number of the eigenfunctions used to approximate the Riemann Matern kernel. As for classical *GPyTorch* kernels the Riemann Matern kernel can be decorated using with the *ScaleKernel* to have the signal variance parameter."
   ]
  },
  {
   "cell_type": "code",
   "execution_count": 7,
   "id": "15e47b46",
   "metadata": {},
   "outputs": [],
   "source": [
    "nu = 3\n",
    "neighbors = 100\n",
    "modes = 100\n",
    "kernel = gpytorch.kernels.ScaleKernel(RiemannMaternKernel(nu=nu, nodes=noisy_x, neighbors=neighbors, modes=modes))"
   ]
  },
  {
   "cell_type": "markdown",
   "id": "8c286da6",
   "metadata": {},
   "source": [
    "## Initialize Likelihood and GP Model"
   ]
  },
  {
   "cell_type": "markdown",
   "id": "b42aae40",
   "metadata": {},
   "source": [
    "Define the type of likelihood and the GP model. The GP model takes as input the training set and and labels, the likelihood and the Riemann Matern Kernel."
   ]
  },
  {
   "cell_type": "code",
   "execution_count": 8,
   "id": "69104add",
   "metadata": {},
   "outputs": [],
   "source": [
    "likelihood = gpytorch.likelihoods.GaussianLikelihood(noise_constraint=gpytorch.constraints.GreaterThan(1e-8))\n",
    "model = RiemannGP(noisy_x, noisy_y, likelihood, kernel).to(device)"
   ]
  },
  {
   "cell_type": "markdown",
   "id": "b57d3ead",
   "metadata": {},
   "source": [
    "## Model Hyperparameters Setting"
   ]
  },
  {
   "cell_type": "code",
   "execution_count": 9,
   "id": "473d4113",
   "metadata": {},
   "outputs": [],
   "source": [
    "%%capture\n",
    "hypers = {\n",
    "    'likelihood.noise_covar.noise': 1e-5,\n",
    "    'covar_module.base_kernel.epsilon': 0.5027,\n",
    "    'covar_module.base_kernel.lengthscale': 0.5054,\n",
    "    'covar_module.outputscale': 1.0,\n",
    "}\n",
    "model.initialize(**hypers)"
   ]
  },
  {
   "cell_type": "markdown",
   "id": "a22df61e",
   "metadata": {},
   "source": [
    "## Train Model"
   ]
  },
  {
   "cell_type": "markdown",
   "id": "4af1e367",
   "metadata": {},
   "source": [
    "Train the GP model using the fast Lanczos precision matrix optimization. `lr` set the learning rate; `iters` defines the number of iteratios; `verbose` can be set to `True` for printing the parameters each iteration."
   ]
  },
  {
   "cell_type": "code",
   "execution_count": 10,
   "id": "f90f851a",
   "metadata": {},
   "outputs": [],
   "source": [
    "lr = 1e-2\n",
    "iters = 100\n",
    "verbose = True\n",
    "# loss = model.manifold_informed_train(lr, iters, verbose)"
   ]
  },
  {
   "cell_type": "markdown",
   "id": "0ab36075",
   "metadata": {},
   "source": [
    "## Model Evaluation"
   ]
  },
  {
   "cell_type": "code",
   "execution_count": 11,
   "id": "48b2928a",
   "metadata": {},
   "outputs": [],
   "source": [
    "%%capture\n",
    "likelihood.eval()\n",
    "model.eval()"
   ]
  },
  {
   "cell_type": "markdown",
   "id": "f92b6239",
   "metadata": {},
   "source": [
    "Getting faster predictive distributions using [LOVE](https://arxiv.org/abs/1803.06058). We compute the **mean**, the **standard deviation** and one **posterior sample**. In addition we evaluate the kernel at the first point of our dataset."
   ]
  },
  {
   "cell_type": "code",
   "execution_count": 12,
   "id": "8f4381ee",
   "metadata": {
    "scrolled": true
   },
   "outputs": [],
   "source": [
    "%%capture\n",
    "with torch.no_grad(), gpytorch.settings.fast_pred_var():\n",
    "    preds = likelihood(model(noisy_x))\n",
    "    mean = preds.mean\n",
    "    std = preds.stddev\n",
    "    posterior_sample = preds.sample()\n",
    "    point = 3000\n",
    "    kernel_eval = model.covar_module(sampled_x[point, :].unsqueeze(0), sampled_x).evaluate().squeeze()\n",
    "    eigfunctions = kernel.base_kernel.eigenfunctions(sampled_x)\n",
    "    \n",
    "    # Bring data to numpy\n",
    "    sampled_x = sampled_x.cpu().numpy()\n",
    "    sampled_y = sampled_y.cpu().numpy()\n",
    "    kernel_eval = kernel_eval.cpu().numpy()\n",
    "    eigfunctions = eigfunctions.cpu().numpy()\n",
    "    posterior_sample = posterior_sample.cpu().numpy()\n",
    "    mean = mean.cpu().numpy()\n",
    "    std = std.cpu().numpy()"
   ]
  },
  {
   "cell_type": "markdown",
   "id": "6f992679",
   "metadata": {},
   "source": [
    "## Plot Results"
   ]
  },
  {
   "cell_type": "code",
   "execution_count": 13,
   "id": "c1718afe",
   "metadata": {},
   "outputs": [],
   "source": [
    "%%capture\n",
    "%%bash\n",
    "jupyter nbextension install --py mayavi --user"
   ]
  },
  {
   "cell_type": "code",
   "execution_count": 14,
   "id": "ae7fd1c7",
   "metadata": {},
   "outputs": [],
   "source": [
    "%%capture\n",
    "mlab.init_notebook()\n",
    "v_options = {'mode': 'sphere','scale_factor': 5e-3, 'color': (0, 0, 0)}"
   ]
  },
  {
   "cell_type": "markdown",
   "id": "f5a85a6b",
   "metadata": {},
   "source": [
    "### Ground Truth with Sample Training Points"
   ]
  },
  {
   "cell_type": "code",
   "execution_count": 15,
   "id": "25335831",
   "metadata": {
    "scrolled": false
   },
   "outputs": [
    {
     "data": {
      "application/vnd.jupyter.widget-view+json": {
       "model_id": "5447490fec69406da3b6bfcd2464d155",
       "version_major": 2,
       "version_minor": 0
      },
      "text/plain": [
       "Image(value=b'\\x89PNG\\r\\n\\x1a\\n\\x00\\x00\\x00\\rIHDR\\x00\\x00\\x07\\x80\\x00\\x00\\x05P\\x08\\x02\\x00\\x00\\x00%a\\xd0\\x97\\x…"
      ]
     },
     "metadata": {},
     "output_type": "display_data"
    }
   ],
   "source": [
    "mlab.figure(size=(1920, 1360), fgcolor=(0, 0, 0), bgcolor = (1,1,1))\n",
    "mlab.triangular_mesh(sampled_x[:, 0], sampled_x[:, 1], sampled_x[:, 2], faces, scalars=sampled_y)\n",
    "mlab.colorbar(orientation='vertical')\n",
    "# bar = mlab.colorbar(orientation='vertical')\n",
    "# bar.data_range = (0.59, 1.20)\n",
    "# mlab.view(0.0,180.0,0.5139171204775793)\n",
    "# mlab.savefig('dragon_truth_supervised.png')"
   ]
  },
  {
   "cell_type": "markdown",
   "id": "ce632461",
   "metadata": {},
   "source": [
    "### Mean"
   ]
  },
  {
   "cell_type": "code",
   "execution_count": 16,
   "id": "e833567e",
   "metadata": {},
   "outputs": [
    {
     "data": {
      "application/vnd.jupyter.widget-view+json": {
       "model_id": "996aa0f921aa4ba99871d15dcebea21d",
       "version_major": 2,
       "version_minor": 0
      },
      "text/plain": [
       "Image(value=b'\\x89PNG\\r\\n\\x1a\\n\\x00\\x00\\x00\\rIHDR\\x00\\x00\\x07\\x80\\x00\\x00\\x05P\\x08\\x02\\x00\\x00\\x00%a\\xd0\\x97\\x…"
      ]
     },
     "metadata": {},
     "output_type": "display_data"
    }
   ],
   "source": [
    "mlab.figure(size=(1920, 1360), fgcolor=(0, 0, 0), bgcolor = (1,1,1))\n",
    "mlab.triangular_mesh(sampled_x[:, 0], sampled_x[:, 1], sampled_x[:, 2], faces, scalars=mean)\n",
    "mlab.colorbar(orientation='vertical')\n",
    "# bar = mlab.colorbar(orientation='vertical')\n",
    "# bar.data_range = (0.59, 1.20)\n",
    "# mlab.view(0.0,180.0,0.5139171204775793)\n",
    "# mlab.savefig('dragon_mean_supervised.png')"
   ]
  },
  {
   "cell_type": "markdown",
   "id": "2fcb8ebf",
   "metadata": {},
   "source": [
    "### Standard Deviation"
   ]
  },
  {
   "cell_type": "code",
   "execution_count": 20,
   "id": "591b8af9",
   "metadata": {},
   "outputs": [
    {
     "data": {
      "application/vnd.jupyter.widget-view+json": {
       "model_id": "360714069f4544398ab4eb6d03a10a8e",
       "version_major": 2,
       "version_minor": 0
      },
      "text/plain": [
       "Image(value=b'\\x89PNG\\r\\n\\x1a\\n\\x00\\x00\\x00\\rIHDR\\x00\\x00\\x07\\x80\\x00\\x00\\x05P\\x08\\x02\\x00\\x00\\x00%a\\xd0\\x97\\x…"
      ]
     },
     "metadata": {},
     "output_type": "display_data"
    }
   ],
   "source": [
    "mlab.figure(size=(1920, 1360), fgcolor=(0, 0, 0), bgcolor = (1,1,1))\n",
    "mlab.triangular_mesh(sampled_x[:, 0], sampled_x[:, 1], sampled_x[:, 2], faces, scalars=std)\n",
    "mlab.colorbar(orientation='vertical')\n",
    "# mlab.view(0.0,180.0,0.5139171204775793)\n",
    "# mlab.savefig('dragon_std_supervised.png')"
   ]
  },
  {
   "cell_type": "markdown",
   "id": "12402c7f",
   "metadata": {},
   "source": [
    "### One Posterior Sample"
   ]
  },
  {
   "cell_type": "raw",
   "id": "43b55714",
   "metadata": {},
   "source": [
    "mlab.figure(size=(1920, 1360), fgcolor=(0, 0, 0), bgcolor = (1,1,1))\n",
    "mlab.triangular_mesh(sampled_x[:, 0], sampled_x[:, 1], sampled_x[:, 2], faces, scalars=posterior_sample)\n",
    "mlab.colorbar(orientation='vertical')\n",
    "mlab.view(0.0,180.0,0.5139171204775793)\n",
    "mlab.savefig('dragon_posterior_supervised.png')"
   ]
  },
  {
   "cell_type": "markdown",
   "id": "8c4b248b",
   "metadata": {},
   "source": [
    "### Kernel Evaluation"
   ]
  },
  {
   "cell_type": "code",
   "execution_count": 18,
   "id": "6b6ded3a",
   "metadata": {
    "scrolled": false
   },
   "outputs": [
    {
     "data": {
      "application/vnd.jupyter.widget-view+json": {
       "model_id": "3943529b9cc8401ca08abe1754ab619d",
       "version_major": 2,
       "version_minor": 0
      },
      "text/plain": [
       "Image(value=b'\\x89PNG\\r\\n\\x1a\\n\\x00\\x00\\x00\\rIHDR\\x00\\x00\\x07\\x80\\x00\\x00\\x05P\\x08\\x02\\x00\\x00\\x00%a\\xd0\\x97\\x…"
      ]
     },
     "metadata": {},
     "output_type": "display_data"
    }
   ],
   "source": [
    "mlab.figure(size=(1920, 1360), fgcolor=(0, 0, 0), bgcolor = (1,1,1))\n",
    "mlab.triangular_mesh(sampled_x[:, 0], sampled_x[:, 1], sampled_x[:, 2], faces, scalars=kernel_eval)\n",
    "mlab.points3d(sampled_x[point,0], sampled_x[point,1], sampled_x[point,2], **v_options)\n",
    "mlab.colorbar(orientation='vertical')\n",
    "# # bar.data_range = (0, 10)\n",
    "# mlab.view(0.0,180.0,0.5139171204775793)\n",
    "# mlab.savefig('dragon_kerneleval_supervised.png')"
   ]
  },
  {
   "cell_type": "markdown",
   "id": "92613b98",
   "metadata": {},
   "source": [
    "### Eigenfunctios"
   ]
  },
  {
   "cell_type": "code",
   "execution_count": 19,
   "id": "f05d5502",
   "metadata": {},
   "outputs": [
    {
     "ename": "IndexError",
     "evalue": "index 100 is out of bounds for axis 0 with size 100",
     "output_type": "error",
     "traceback": [
      "\u001b[0;31m---------------------------------------------------------------------------\u001b[0m",
      "\u001b[0;31mIndexError\u001b[0m                                Traceback (most recent call last)",
      "\u001b[0;32m/tmp/ipykernel_91070/814138618.py\u001b[0m in \u001b[0;36m<module>\u001b[0;34m\u001b[0m\n\u001b[1;32m      1\u001b[0m \u001b[0mmlab\u001b[0m\u001b[0;34m.\u001b[0m\u001b[0mfigure\u001b[0m\u001b[0;34m(\u001b[0m\u001b[0msize\u001b[0m\u001b[0;34m=\u001b[0m\u001b[0;34m(\u001b[0m\u001b[0;36m1920\u001b[0m\u001b[0;34m,\u001b[0m \u001b[0;36m1360\u001b[0m\u001b[0;34m)\u001b[0m\u001b[0;34m,\u001b[0m \u001b[0mfgcolor\u001b[0m\u001b[0;34m=\u001b[0m\u001b[0;34m(\u001b[0m\u001b[0;36m0\u001b[0m\u001b[0;34m,\u001b[0m \u001b[0;36m0\u001b[0m\u001b[0;34m,\u001b[0m \u001b[0;36m0\u001b[0m\u001b[0;34m)\u001b[0m\u001b[0;34m,\u001b[0m \u001b[0mbgcolor\u001b[0m \u001b[0;34m=\u001b[0m \u001b[0;34m(\u001b[0m\u001b[0;36m1\u001b[0m\u001b[0;34m,\u001b[0m\u001b[0;36m1\u001b[0m\u001b[0;34m,\u001b[0m\u001b[0;36m1\u001b[0m\u001b[0;34m)\u001b[0m\u001b[0;34m)\u001b[0m\u001b[0;34m\u001b[0m\u001b[0;34m\u001b[0m\u001b[0m\n\u001b[0;32m----> 2\u001b[0;31m \u001b[0mmlab\u001b[0m\u001b[0;34m.\u001b[0m\u001b[0mtriangular_mesh\u001b[0m\u001b[0;34m(\u001b[0m\u001b[0msampled_x\u001b[0m\u001b[0;34m[\u001b[0m\u001b[0;34m:\u001b[0m\u001b[0;34m,\u001b[0m \u001b[0;36m0\u001b[0m\u001b[0;34m]\u001b[0m\u001b[0;34m,\u001b[0m \u001b[0msampled_x\u001b[0m\u001b[0;34m[\u001b[0m\u001b[0;34m:\u001b[0m\u001b[0;34m,\u001b[0m \u001b[0;36m1\u001b[0m\u001b[0;34m]\u001b[0m\u001b[0;34m,\u001b[0m \u001b[0msampled_x\u001b[0m\u001b[0;34m[\u001b[0m\u001b[0;34m:\u001b[0m\u001b[0;34m,\u001b[0m \u001b[0;36m2\u001b[0m\u001b[0;34m]\u001b[0m\u001b[0;34m,\u001b[0m \u001b[0mfaces\u001b[0m\u001b[0;34m,\u001b[0m \u001b[0mscalars\u001b[0m\u001b[0;34m=\u001b[0m\u001b[0meigfunctions\u001b[0m\u001b[0;34m[\u001b[0m\u001b[0;36m100\u001b[0m\u001b[0;34m,\u001b[0m\u001b[0;34m:\u001b[0m\u001b[0;34m]\u001b[0m\u001b[0;34m)\u001b[0m\u001b[0;34m\u001b[0m\u001b[0;34m\u001b[0m\u001b[0m\n\u001b[0m\u001b[1;32m      3\u001b[0m \u001b[0mmlab\u001b[0m\u001b[0;34m.\u001b[0m\u001b[0mcolorbar\u001b[0m\u001b[0;34m(\u001b[0m\u001b[0morientation\u001b[0m\u001b[0;34m=\u001b[0m\u001b[0;34m'vertical'\u001b[0m\u001b[0;34m)\u001b[0m\u001b[0;34m\u001b[0m\u001b[0;34m\u001b[0m\u001b[0m\n\u001b[1;32m      4\u001b[0m \u001b[0;31m# # bar.data_range = (0, 10)\u001b[0m\u001b[0;34m\u001b[0m\u001b[0;34m\u001b[0m\u001b[0m\n\u001b[1;32m      5\u001b[0m \u001b[0mmlab\u001b[0m\u001b[0;34m.\u001b[0m\u001b[0mview\u001b[0m\u001b[0;34m(\u001b[0m\u001b[0;36m0.0\u001b[0m\u001b[0;34m,\u001b[0m\u001b[0;36m180.0\u001b[0m\u001b[0;34m,\u001b[0m\u001b[0;36m0.5139171204775793\u001b[0m\u001b[0;34m)\u001b[0m\u001b[0;34m\u001b[0m\u001b[0;34m\u001b[0m\u001b[0m\n",
      "\u001b[0;31mIndexError\u001b[0m: index 100 is out of bounds for axis 0 with size 100"
     ]
    }
   ],
   "source": [
    "mlab.figure(size=(1920, 1360), fgcolor=(0, 0, 0), bgcolor = (1,1,1))\n",
    "mlab.triangular_mesh(sampled_x[:, 0], sampled_x[:, 1], sampled_x[:, 2], faces, scalars=eigfunctions[100,:])\n",
    "mlab.colorbar(orientation='vertical')\n",
    "# # bar.data_range = (0, 10)\n",
    "mlab.view(0.0,180.0,0.5139171204775793)\n",
    "mlab.savefig('dragon_eigfun100_supervised.png')"
   ]
  },
  {
   "cell_type": "code",
   "execution_count": null,
   "id": "269c9bff",
   "metadata": {},
   "outputs": [],
   "source": []
  }
 ],
 "metadata": {
  "kernelspec": {
   "display_name": "Python 3 (ipykernel)",
   "language": "python",
   "name": "python3"
  },
  "language_info": {
   "codemirror_mode": {
    "name": "ipython",
    "version": 3
   },
   "file_extension": ".py",
   "mimetype": "text/x-python",
   "name": "python",
   "nbconvert_exporter": "python",
   "pygments_lexer": "ipython3",
   "version": "3.10.6"
  },
  "vscode": {
   "interpreter": {
    "hash": "916dbcbb3f70747c44a77c7bcd40155683ae19c65e1c03b4aa3499c5328201f1"
   }
  }
 },
 "nbformat": 4,
 "nbformat_minor": 5
}
