{
 "cells": [
  {
   "cell_type": "markdown",
   "id": "5e276dbe",
   "metadata": {},
   "source": [
    "# Manifold GP Supervised Learning via Precision Matrix"
   ]
  },
  {
   "cell_type": "markdown",
   "id": "a36444a5",
   "metadata": {},
   "source": [
    "## Preamble"
   ]
  },
  {
   "cell_type": "markdown",
   "id": "01d17d1f",
   "metadata": {},
   "source": [
    "This notebook provides an example of how to perform Gaussian Process Regression on a 1D manifold. In this example we consider a supervised learning scenario, namely the number of labeled data points is equivalent to the number of the sampled points from the underlying manifold."
   ]
  },
  {
   "cell_type": "code",
   "execution_count": 1,
   "id": "2b4a0b01",
   "metadata": {},
   "outputs": [],
   "source": [
    "import numpy as np\n",
    "import torch\n",
    "import gpytorch\n",
    "from importlib.resources import files\n",
    "from manifold_gp.kernels.riemann_matern_kernel import RiemannMaternKernel\n",
    "from manifold_gp.models.riemann_gp import RiemannGP"
   ]
  },
  {
   "cell_type": "markdown",
   "id": "d183e102",
   "metadata": {},
   "source": [
    "Select the device: GPU or CPU."
   ]
  },
  {
   "cell_type": "code",
   "execution_count": 2,
   "id": "d3ffb421",
   "metadata": {},
   "outputs": [],
   "source": [
    "use_cuda = torch.cuda.is_available()\n",
    "device = torch.device(\"cuda\" if use_cuda else \"cpu\")"
   ]
  },
  {
   "cell_type": "markdown",
   "id": "75701656",
   "metadata": {},
   "source": [
    "## Load Dataset"
   ]
  },
  {
   "cell_type": "code",
   "execution_count": 3,
   "id": "af216c23",
   "metadata": {},
   "outputs": [],
   "source": [
    "data_path = files('manifold_gp.data').joinpath('dumbbell.msh')\n",
    "data = np.loadtxt(data_path)\n",
    "sampled_x = torch.from_numpy(data[:, :2]).float().to(device)\n",
    "sampled_y = torch.from_numpy(data[:, -1][:, np.newaxis]).float().to(device)\n",
    "(m, n) = sampled_x.shape"
   ]
  },
  {
   "cell_type": "markdown",
   "id": "1d66b347",
   "metadata": {},
   "source": [
    "## Apply Noise to the Dataset"
   ]
  },
  {
   "cell_type": "markdown",
   "id": "a03af248",
   "metadata": {},
   "source": [
    "In order to simulate real case scenario we can apply a normally distributed noise to our dataset. Here we can consider to apply the noise either to the sampled data points from the manifold or to the ground truth relative to each labeled points."
   ]
  },
  {
   "cell_type": "markdown",
   "id": "46b97436",
   "metadata": {},
   "source": [
    "### Apply noise to the manifold"
   ]
  },
  {
   "cell_type": "code",
   "execution_count": 4,
   "id": "86d8f443",
   "metadata": {},
   "outputs": [],
   "source": [
    "manifold_noise = 0.01\n",
    "sampled_x = sampled_x + manifold_noise * torch.randn(m, n).to(device)"
   ]
  },
  {
   "cell_type": "markdown",
   "id": "93184056",
   "metadata": {},
   "source": [
    "### Apply noise to the ground truth"
   ]
  },
  {
   "cell_type": "code",
   "execution_count": 5,
   "id": "878cd4f8",
   "metadata": {},
   "outputs": [],
   "source": [
    "function_noise = 0.01\n",
    "sampled_y = sampled_y + function_noise * torch.randn(m, 1).to(device)"
   ]
  },
  {
   "cell_type": "markdown",
   "id": "3b810778",
   "metadata": {},
   "source": [
    "## Training Dataset"
   ]
  },
  {
   "cell_type": "code",
   "execution_count": 6,
   "id": "fea41972",
   "metadata": {},
   "outputs": [],
   "source": [
    "num_train = 100\n",
    "train_idx = torch.randint(m, (num_train,))\n",
    "train_x = sampled_x[train_idx, :]\n",
    "train_y = sampled_y[train_idx, :]"
   ]
  },
  {
   "cell_type": "markdown",
   "id": "7004891b",
   "metadata": {},
   "source": [
    "## Test Dataset"
   ]
  },
  {
   "cell_type": "code",
   "execution_count": 7,
   "id": "8414d8d3",
   "metadata": {},
   "outputs": [],
   "source": [
    "num_test = 50\n",
    "test_idx = torch.randint(m, (num_test,))\n",
    "test_x = sampled_x[test_idx, :]\n",
    "test_y = sampled_y[test_idx]"
   ]
  },
  {
   "cell_type": "markdown",
   "id": "d3441ad2",
   "metadata": {},
   "source": [
    "## Initialize Kernel"
   ]
  },
  {
   "cell_type": "code",
   "execution_count": 8,
   "id": "15e47b46",
   "metadata": {},
   "outputs": [],
   "source": [
    "nu = 2\n",
    "neighbors = 5\n",
    "modes = 10\n",
    "kernel = gpytorch.kernels.ScaleKernel(RiemannMaternKernel(sampled_x, nu, neighbors, modes))"
   ]
  },
  {
   "cell_type": "markdown",
   "id": "8c286da6",
   "metadata": {},
   "source": [
    "## Initialize Likelihood and GP Model"
   ]
  },
  {
   "cell_type": "code",
   "execution_count": 9,
   "id": "69104add",
   "metadata": {},
   "outputs": [],
   "source": [
    "likelihood = gpytorch.likelihoods.GaussianLikelihood()\n",
    "model = RiemannGP(sampled_x, sampled_y, likelihood, kernel).to(device)"
   ]
  },
  {
   "cell_type": "markdown",
   "id": "a22df61e",
   "metadata": {},
   "source": [
    "## Train Model"
   ]
  },
  {
   "cell_type": "code",
   "execution_count": 10,
   "id": "f90f851a",
   "metadata": {},
   "outputs": [
    {
     "name": "stdout",
     "output_type": "stream",
     "text": [
      "likelihood.noise_covar.raw_noise: -5.000 covar_module.raw_outputscale: 0.000 covar_module.base_kernel.raw_lengthscale: -1.000 covar_module.base_kernel.raw_epsilon: -2.000 Iteration: 0, Loss: 35944.164, Noise Variance: 0.007, Signal Variance: 0.693, Lengthscale: 0.313, Epsilon: 0.127\n",
      "Iteration: 1, Loss: 22931.672, Noise Variance: 0.008, Signal Variance: 0.744, Lengthscale: 0.341, Epsilon: 0.116\n",
      "Iteration: 2, Loss: 14654.353, Noise Variance: 0.008, Signal Variance: 0.797, Lengthscale: 0.370, Epsilon: 0.105\n",
      "Iteration: 3, Loss: 9474.073, Noise Variance: 0.009, Signal Variance: 0.848, Lengthscale: 0.400, Epsilon: 0.096\n",
      "Iteration: 4, Loss: 6229.480, Noise Variance: 0.010, Signal Variance: 0.899, Lengthscale: 0.430, Epsilon: 0.088\n",
      "Iteration: 5, Loss: 4172.619, Noise Variance: 0.010, Signal Variance: 0.948, Lengthscale: 0.459, Epsilon: 0.081\n",
      "Iteration: 6, Loss: 2844.188, Noise Variance: 0.011, Signal Variance: 0.994, Lengthscale: 0.487, Epsilon: 0.074\n",
      "Iteration: 7, Loss: 1967.370, Noise Variance: 0.011, Signal Variance: 1.038, Lengthscale: 0.514, Epsilon: 0.069\n",
      "Iteration: 8, Loss: 1375.453, Noise Variance: 0.012, Signal Variance: 1.079, Lengthscale: 0.541, Epsilon: 0.065\n",
      "Iteration: 9, Loss: 966.992, Noise Variance: 0.012, Signal Variance: 1.118, Lengthscale: 0.566, Epsilon: 0.061\n",
      "Iteration: 10, Loss: 679.248, Noise Variance: 0.013, Signal Variance: 1.154, Lengthscale: 0.589, Epsilon: 0.058\n",
      "Iteration: 11, Loss: 472.654, Noise Variance: 0.013, Signal Variance: 1.187, Lengthscale: 0.611, Epsilon: 0.055\n",
      "Iteration: 12, Loss: 321.740, Noise Variance: 0.014, Signal Variance: 1.219, Lengthscale: 0.632, Epsilon: 0.053\n",
      "Iteration: 13, Loss: 209.765, Noise Variance: 0.014, Signal Variance: 1.248, Lengthscale: 0.652, Epsilon: 0.051\n",
      "Iteration: 14, Loss: 125.507, Noise Variance: 0.014, Signal Variance: 1.275, Lengthscale: 0.671, Epsilon: 0.050\n",
      "Iteration: 15, Loss: 61.301, Noise Variance: 0.015, Signal Variance: 1.299, Lengthscale: 0.688, Epsilon: 0.048\n",
      "Iteration: 16, Loss: 11.815, Noise Variance: 0.015, Signal Variance: 1.323, Lengthscale: 0.704, Epsilon: 0.047\n",
      "Iteration: 17, Loss: -26.717, Noise Variance: 0.015, Signal Variance: 1.344, Lengthscale: 0.719, Epsilon: 0.046\n",
      "Iteration: 18, Loss: -56.999, Noise Variance: 0.015, Signal Variance: 1.364, Lengthscale: 0.733, Epsilon: 0.046\n",
      "Iteration: 19, Loss: -80.998, Noise Variance: 0.016, Signal Variance: 1.382, Lengthscale: 0.746, Epsilon: 0.045\n",
      "Iteration: 20, Loss: -100.163, Noise Variance: 0.016, Signal Variance: 1.399, Lengthscale: 0.758, Epsilon: 0.044\n",
      "Iteration: 21, Loss: -115.575, Noise Variance: 0.016, Signal Variance: 1.414, Lengthscale: 0.770, Epsilon: 0.044\n",
      "Iteration: 22, Loss: -128.049, Noise Variance: 0.016, Signal Variance: 1.429, Lengthscale: 0.780, Epsilon: 0.044\n",
      "Iteration: 23, Loss: -138.205, Noise Variance: 0.016, Signal Variance: 1.442, Lengthscale: 0.790, Epsilon: 0.044\n",
      "Iteration: 24, Loss: -146.520, Noise Variance: 0.016, Signal Variance: 1.454, Lengthscale: 0.799, Epsilon: 0.044\n",
      "Iteration: 25, Loss: -153.362, Noise Variance: 0.017, Signal Variance: 1.465, Lengthscale: 0.807, Epsilon: 0.044\n",
      "Iteration: 26, Loss: -159.021, Noise Variance: 0.017, Signal Variance: 1.476, Lengthscale: 0.815, Epsilon: 0.044\n",
      "Iteration: 27, Loss: -163.722, Noise Variance: 0.017, Signal Variance: 1.485, Lengthscale: 0.822, Epsilon: 0.044\n",
      "Iteration: 28, Loss: -167.644, Noise Variance: 0.017, Signal Variance: 1.494, Lengthscale: 0.829, Epsilon: 0.044\n",
      "Iteration: 29, Loss: -170.932, Noise Variance: 0.017, Signal Variance: 1.502, Lengthscale: 0.835, Epsilon: 0.044\n",
      "Iteration: 30, Loss: -173.698, Noise Variance: 0.017, Signal Variance: 1.509, Lengthscale: 0.841, Epsilon: 0.045\n",
      "Iteration: 31, Loss: -176.034, Noise Variance: 0.017, Signal Variance: 1.516, Lengthscale: 0.846, Epsilon: 0.045\n",
      "Iteration: 32, Loss: -178.016, Noise Variance: 0.017, Signal Variance: 1.522, Lengthscale: 0.851, Epsilon: 0.045\n",
      "Iteration: 33, Loss: -179.703, Noise Variance: 0.017, Signal Variance: 1.528, Lengthscale: 0.855, Epsilon: 0.046\n",
      "Iteration: 34, Loss: -181.145, Noise Variance: 0.017, Signal Variance: 1.534, Lengthscale: 0.859, Epsilon: 0.046\n",
      "Iteration: 35, Loss: -182.381, Noise Variance: 0.017, Signal Variance: 1.538, Lengthscale: 0.863, Epsilon: 0.046\n",
      "Iteration: 36, Loss: -183.445, Noise Variance: 0.017, Signal Variance: 1.543, Lengthscale: 0.866, Epsilon: 0.047\n",
      "Iteration: 37, Loss: -184.365, Noise Variance: 0.018, Signal Variance: 1.547, Lengthscale: 0.870, Epsilon: 0.047\n",
      "Iteration: 38, Loss: -185.162, Noise Variance: 0.018, Signal Variance: 1.551, Lengthscale: 0.872, Epsilon: 0.048\n",
      "Iteration: 39, Loss: -185.856, Noise Variance: 0.018, Signal Variance: 1.554, Lengthscale: 0.875, Epsilon: 0.048\n",
      "Iteration: 40, Loss: -186.461, Noise Variance: 0.018, Signal Variance: 1.557, Lengthscale: 0.878, Epsilon: 0.049\n",
      "Iteration: 41, Loss: -186.992, Noise Variance: 0.018, Signal Variance: 1.560, Lengthscale: 0.880, Epsilon: 0.049\n",
      "Iteration: 42, Loss: -187.458, Noise Variance: 0.018, Signal Variance: 1.563, Lengthscale: 0.882, Epsilon: 0.050\n",
      "Iteration: 43, Loss: -187.869, Noise Variance: 0.018, Signal Variance: 1.565, Lengthscale: 0.884, Epsilon: 0.050\n",
      "Iteration: 44, Loss: -188.233, Noise Variance: 0.018, Signal Variance: 1.568, Lengthscale: 0.886, Epsilon: 0.051\n",
      "Iteration: 45, Loss: -188.556, Noise Variance: 0.018, Signal Variance: 1.570, Lengthscale: 0.888, Epsilon: 0.052\n",
      "Iteration: 46, Loss: -188.843, Noise Variance: 0.018, Signal Variance: 1.571, Lengthscale: 0.889, Epsilon: 0.052\n",
      "Iteration: 47, Loss: -189.100, Noise Variance: 0.018, Signal Variance: 1.573, Lengthscale: 0.891, Epsilon: 0.053\n",
      "Iteration: 48, Loss: -189.330, Noise Variance: 0.018, Signal Variance: 1.575, Lengthscale: 0.892, Epsilon: 0.053\n",
      "Iteration: 49, Loss: -189.536, Noise Variance: 0.018, Signal Variance: 1.576, Lengthscale: 0.893, Epsilon: 0.054\n",
      "Iteration: 50, Loss: -189.722, Noise Variance: 0.018, Signal Variance: 1.578, Lengthscale: 0.895, Epsilon: 0.054\n",
      "Iteration: 51, Loss: -189.889, Noise Variance: 0.018, Signal Variance: 1.579, Lengthscale: 0.896, Epsilon: 0.055\n",
      "Iteration: 52, Loss: -190.040, Noise Variance: 0.018, Signal Variance: 1.580, Lengthscale: 0.897, Epsilon: 0.056\n",
      "Iteration: 53, Loss: -190.178, Noise Variance: 0.018, Signal Variance: 1.581, Lengthscale: 0.898, Epsilon: 0.056\n",
      "Iteration: 54, Loss: -190.302, Noise Variance: 0.018, Signal Variance: 1.582, Lengthscale: 0.898, Epsilon: 0.057\n",
      "Iteration: 55, Loss: -190.416, Noise Variance: 0.018, Signal Variance: 1.583, Lengthscale: 0.899, Epsilon: 0.057\n",
      "Iteration: 56, Loss: -190.519, Noise Variance: 0.018, Signal Variance: 1.583, Lengthscale: 0.900, Epsilon: 0.058\n",
      "Iteration: 57, Loss: -190.613, Noise Variance: 0.018, Signal Variance: 1.584, Lengthscale: 0.901, Epsilon: 0.058\n",
      "Iteration: 58, Loss: -190.700, Noise Variance: 0.018, Signal Variance: 1.585, Lengthscale: 0.901, Epsilon: 0.059\n",
      "Iteration: 59, Loss: -190.779, Noise Variance: 0.018, Signal Variance: 1.585, Lengthscale: 0.902, Epsilon: 0.059\n",
      "Iteration: 60, Loss: -190.851, Noise Variance: 0.018, Signal Variance: 1.586, Lengthscale: 0.902, Epsilon: 0.060\n",
      "Iteration: 61, Loss: -190.918, Noise Variance: 0.018, Signal Variance: 1.586, Lengthscale: 0.903, Epsilon: 0.060\n",
      "Iteration: 62, Loss: -190.979, Noise Variance: 0.018, Signal Variance: 1.587, Lengthscale: 0.904, Epsilon: 0.061\n",
      "Iteration: 63, Loss: -191.036, Noise Variance: 0.018, Signal Variance: 1.587, Lengthscale: 0.904, Epsilon: 0.061\n",
      "Iteration: 64, Loss: -191.088, Noise Variance: 0.018, Signal Variance: 1.588, Lengthscale: 0.904, Epsilon: 0.062\n",
      "Iteration: 65, Loss: -191.137, Noise Variance: 0.018, Signal Variance: 1.588, Lengthscale: 0.905, Epsilon: 0.062\n",
      "Iteration: 66, Loss: -191.181, Noise Variance: 0.018, Signal Variance: 1.588, Lengthscale: 0.905, Epsilon: 0.063\n",
      "Iteration: 67, Loss: -191.223, Noise Variance: 0.018, Signal Variance: 1.588, Lengthscale: 0.906, Epsilon: 0.063\n",
      "Iteration: 68, Loss: -191.262, Noise Variance: 0.018, Signal Variance: 1.589, Lengthscale: 0.906, Epsilon: 0.064\n",
      "Iteration: 69, Loss: -191.298, Noise Variance: 0.018, Signal Variance: 1.589, Lengthscale: 0.906, Epsilon: 0.064\n",
      "Iteration: 70, Loss: -191.331, Noise Variance: 0.018, Signal Variance: 1.589, Lengthscale: 0.907, Epsilon: 0.064\n",
      "Iteration: 71, Loss: -191.363, Noise Variance: 0.018, Signal Variance: 1.589, Lengthscale: 0.907, Epsilon: 0.065\n",
      "Iteration: 72, Loss: -191.392, Noise Variance: 0.018, Signal Variance: 1.590, Lengthscale: 0.907, Epsilon: 0.065\n",
      "Iteration: 73, Loss: -191.420, Noise Variance: 0.018, Signal Variance: 1.590, Lengthscale: 0.908, Epsilon: 0.066\n",
      "Iteration: 74, Loss: -191.446, Noise Variance: 0.018, Signal Variance: 1.590, Lengthscale: 0.908, Epsilon: 0.066\n",
      "Iteration: 75, Loss: -191.470, Noise Variance: 0.018, Signal Variance: 1.590, Lengthscale: 0.908, Epsilon: 0.066\n"
     ]
    },
    {
     "name": "stdout",
     "output_type": "stream",
     "text": [
      "Iteration: 76, Loss: -191.494, Noise Variance: 0.018, Signal Variance: 1.590, Lengthscale: 0.909, Epsilon: 0.067\n",
      "Iteration: 77, Loss: -191.516, Noise Variance: 0.018, Signal Variance: 1.590, Lengthscale: 0.909, Epsilon: 0.067\n",
      "Iteration: 78, Loss: -191.537, Noise Variance: 0.018, Signal Variance: 1.590, Lengthscale: 0.909, Epsilon: 0.067\n",
      "Iteration: 79, Loss: -191.557, Noise Variance: 0.018, Signal Variance: 1.590, Lengthscale: 0.909, Epsilon: 0.067\n",
      "Iteration: 80, Loss: -191.576, Noise Variance: 0.018, Signal Variance: 1.590, Lengthscale: 0.910, Epsilon: 0.068\n",
      "Iteration: 81, Loss: -191.595, Noise Variance: 0.018, Signal Variance: 1.590, Lengthscale: 0.910, Epsilon: 0.068\n",
      "Iteration: 82, Loss: -191.613, Noise Variance: 0.018, Signal Variance: 1.590, Lengthscale: 0.910, Epsilon: 0.068\n",
      "Iteration: 83, Loss: -191.630, Noise Variance: 0.018, Signal Variance: 1.591, Lengthscale: 0.910, Epsilon: 0.068\n",
      "Iteration: 84, Loss: -191.647, Noise Variance: 0.018, Signal Variance: 1.591, Lengthscale: 0.910, Epsilon: 0.068\n",
      "Iteration: 85, Loss: -191.663, Noise Variance: 0.018, Signal Variance: 1.591, Lengthscale: 0.911, Epsilon: 0.069\n",
      "Iteration: 86, Loss: -191.679, Noise Variance: 0.018, Signal Variance: 1.591, Lengthscale: 0.911, Epsilon: 0.069\n",
      "Iteration: 87, Loss: -191.694, Noise Variance: 0.018, Signal Variance: 1.591, Lengthscale: 0.911, Epsilon: 0.069\n",
      "Iteration: 88, Loss: -191.709, Noise Variance: 0.018, Signal Variance: 1.591, Lengthscale: 0.911, Epsilon: 0.069\n",
      "Iteration: 89, Loss: -191.724, Noise Variance: 0.018, Signal Variance: 1.591, Lengthscale: 0.912, Epsilon: 0.069\n",
      "Iteration: 90, Loss: -191.738, Noise Variance: 0.018, Signal Variance: 1.591, Lengthscale: 0.912, Epsilon: 0.069\n",
      "Iteration: 91, Loss: -191.753, Noise Variance: 0.018, Signal Variance: 1.591, Lengthscale: 0.912, Epsilon: 0.069\n",
      "Iteration: 92, Loss: -191.767, Noise Variance: 0.018, Signal Variance: 1.591, Lengthscale: 0.912, Epsilon: 0.069\n",
      "Iteration: 93, Loss: -191.780, Noise Variance: 0.018, Signal Variance: 1.591, Lengthscale: 0.912, Epsilon: 0.069\n",
      "Iteration: 94, Loss: -191.794, Noise Variance: 0.018, Signal Variance: 1.591, Lengthscale: 0.913, Epsilon: 0.070\n",
      "Iteration: 95, Loss: -191.807, Noise Variance: 0.018, Signal Variance: 1.591, Lengthscale: 0.913, Epsilon: 0.070\n",
      "Iteration: 96, Loss: -191.821, Noise Variance: 0.018, Signal Variance: 1.591, Lengthscale: 0.913, Epsilon: 0.070\n",
      "Iteration: 97, Loss: -191.834, Noise Variance: 0.018, Signal Variance: 1.591, Lengthscale: 0.913, Epsilon: 0.070\n",
      "Iteration: 98, Loss: -191.847, Noise Variance: 0.018, Signal Variance: 1.590, Lengthscale: 0.913, Epsilon: 0.070\n",
      "Iteration: 99, Loss: -191.860, Noise Variance: 0.018, Signal Variance: 1.590, Lengthscale: 0.914, Epsilon: 0.070\n"
     ]
    }
   ],
   "source": [
    "lr = 1e-1\n",
    "iters = 100\n",
    "verbose = True\n",
    "model.manifold_informed_train(lr, iters, verbose)"
   ]
  }
 ],
 "metadata": {
  "kernelspec": {
   "display_name": "Python 3 (ipykernel)",
   "language": "python",
   "name": "python3"
  },
  "language_info": {
   "codemirror_mode": {
    "name": "ipython",
    "version": 3
   },
   "file_extension": ".py",
   "mimetype": "text/x-python",
   "name": "python",
   "nbconvert_exporter": "python",
   "pygments_lexer": "ipython3",
   "version": "3.10.6"
  },
  "vscode": {
   "interpreter": {
    "hash": "916dbcbb3f70747c44a77c7bcd40155683ae19c65e1c03b4aa3499c5328201f1"
   }
  }
 },
 "nbformat": 4,
 "nbformat_minor": 5
}
