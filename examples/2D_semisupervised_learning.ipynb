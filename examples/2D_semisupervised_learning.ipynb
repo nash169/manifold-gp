{
 "cells": [
  {
   "cell_type": "markdown",
   "id": "5e276dbe",
   "metadata": {},
   "source": [
    "# Manifold GP Semi-Supervised Learning via Precision Matrix on 2D Manifold"
   ]
  },
  {
   "cell_type": "markdown",
   "id": "a36444a5",
   "metadata": {},
   "source": [
    "## Preamble"
   ]
  },
  {
   "cell_type": "markdown",
   "id": "01d17d1f",
   "metadata": {},
   "source": [
    "This notebook provides an example of how to perform Gaussian Process Regression on a 1D manifold. In this example we consider a supervised learning scenario, namely the number of labeled data points is equivalent to the number of the sampled points from the underlying manifold."
   ]
  },
  {
   "cell_type": "code",
   "execution_count": 1,
   "id": "8f47cbcb",
   "metadata": {},
   "outputs": [],
   "source": [
    "# from xvfbwrapper import Xvfb\n",
    "# vdisplay = Xvfb(width=1920, height=1080)\n",
    "# vdisplay.start()"
   ]
  },
  {
   "cell_type": "code",
   "execution_count": 2,
   "id": "2b4a0b01",
   "metadata": {},
   "outputs": [],
   "source": [
    "import numpy as np\n",
    "import torch\n",
    "import gpytorch\n",
    "import matplotlib.pyplot as plt\n",
    "from mayavi import mlab\n",
    "from importlib.resources import files\n",
    "from manifold_gp.kernels.riemann_matern_kernel import RiemannMaternKernel\n",
    "from manifold_gp.models.riemann_gp import RiemannGP\n",
    "from manifold_gp.utils.generate_truth import groundtruth_from_mesh"
   ]
  },
  {
   "cell_type": "markdown",
   "id": "d183e102",
   "metadata": {},
   "source": [
    "Select the device: GPU or CPU."
   ]
  },
  {
   "cell_type": "code",
   "execution_count": 3,
   "id": "d3ffb421",
   "metadata": {},
   "outputs": [],
   "source": [
    "use_cuda = torch.cuda.is_available()\n",
    "device = torch.device(\"cuda\" if use_cuda else \"cpu\")"
   ]
  },
  {
   "cell_type": "markdown",
   "id": "75701656",
   "metadata": {},
   "source": [
    "## Load Dataset and Generate Ground Truth"
   ]
  },
  {
   "cell_type": "code",
   "execution_count": 4,
   "id": "af216c23",
   "metadata": {},
   "outputs": [],
   "source": [
    "data_path = files('manifold_gp.data').joinpath('dragon10k.stl')\n",
    "nodes, faces, truth = groundtruth_from_mesh(data_path)\n",
    "nodes = nodes[:1000,:]\n",
    "truth = truth[:1000]\n",
    "sampled_x = torch.from_numpy(nodes).float().to(device)\n",
    "sampled_y = torch.from_numpy(truth).float().to(device)\n",
    "(m, n) = sampled_x.shape"
   ]
  },
  {
   "cell_type": "markdown",
   "id": "1d66b347",
   "metadata": {},
   "source": [
    "## Apply Noise to the Dataset"
   ]
  },
  {
   "cell_type": "markdown",
   "id": "a03af248",
   "metadata": {},
   "source": [
    "In order to simulate real case scenario we can apply a normally distributed noise to our dataset. Here we can consider to apply the noise either to the sampled data points from the manifold or to the ground truth relative to each labeled points."
   ]
  },
  {
   "cell_type": "markdown",
   "id": "46b97436",
   "metadata": {},
   "source": [
    "### Apply noise to the manifold\n",
    "Setting the variable `manifold_noise` you can apply Gaussian noise to the sampled points from the manifold."
   ]
  },
  {
   "cell_type": "code",
   "execution_count": 5,
   "id": "86d8f443",
   "metadata": {},
   "outputs": [],
   "source": [
    "manifold_noise = 0.00\n",
    "noisy_x = sampled_x + manifold_noise * torch.randn(m, n).to(device)"
   ]
  },
  {
   "cell_type": "markdown",
   "id": "93184056",
   "metadata": {},
   "source": [
    "### Apply noise to the ground truth\n",
    "Setting the variable `function_noise` you can apply Gaussian noise to the training points."
   ]
  },
  {
   "cell_type": "code",
   "execution_count": 6,
   "id": "878cd4f8",
   "metadata": {},
   "outputs": [],
   "source": [
    "function_noise = 0.000\n",
    "noisy_y = sampled_y + function_noise * torch.randn(m).to(device)"
   ]
  },
  {
   "cell_type": "markdown",
   "id": "3b810778",
   "metadata": {},
   "source": [
    "## Training Dataset"
   ]
  },
  {
   "cell_type": "markdown",
   "id": "08338c74",
   "metadata": {},
   "source": [
    "Create the training dataset. You can set the variable `num_train` to define the number of points within your dataset."
   ]
  },
  {
   "cell_type": "code",
   "execution_count": 7,
   "id": "fea41972",
   "metadata": {},
   "outputs": [],
   "source": [
    "num_train = 100\n",
    "train_idx = torch.randperm(m)[:num_train]\n",
    "train_x = noisy_x[train_idx, :]\n",
    "train_y = noisy_y[train_idx]"
   ]
  },
  {
   "cell_type": "markdown",
   "id": "7004891b",
   "metadata": {},
   "source": [
    "## Test Dataset"
   ]
  },
  {
   "cell_type": "markdown",
   "id": "45a40481",
   "metadata": {},
   "source": [
    "Create the training dataset. You can set the variable `num_test` to define the number of points within your dataset."
   ]
  },
  {
   "cell_type": "code",
   "execution_count": 8,
   "id": "8414d8d3",
   "metadata": {},
   "outputs": [],
   "source": [
    "num_test = 100\n",
    "test_idx = torch.randperm(m)[:num_test]\n",
    "test_x = noisy_x[test_idx, :]\n",
    "test_y = noisy_y[test_idx]"
   ]
  },
  {
   "cell_type": "markdown",
   "id": "d3441ad2",
   "metadata": {},
   "source": [
    "## Initialize Kernel"
   ]
  },
  {
   "cell_type": "markdown",
   "id": "deed270f",
   "metadata": {},
   "source": [
    "Create the Riemann Matern kernel. `nu` control the kernel smoothness like in the stadard Matern kernel. `neighbors` set the number of nearest neighbors in the KNN-based discrete approximation of the Laplace-Beltrami operator and construction of differentiable eigenfunctions. `modes` set the number of the eigenfunctions used to approximate the Riemann Matern kernel. As for classical *GPyTorch* kernels the Riemann Matern kernel can be decorated using with the *ScaleKernel* to have the signal variance parameter."
   ]
  },
  {
   "cell_type": "code",
   "execution_count": 9,
   "id": "15e47b46",
   "metadata": {},
   "outputs": [],
   "source": [
    "nu = 3\n",
    "neighbors = 10\n",
    "modes = 50\n",
    "kernel = gpytorch.kernels.ScaleKernel(RiemannMaternKernel(nu=nu, nodes=noisy_x, neighbors=neighbors, modes=modes))"
   ]
  },
  {
   "cell_type": "markdown",
   "id": "8c286da6",
   "metadata": {},
   "source": [
    "## Initialize Likelihood and GP Model"
   ]
  },
  {
   "cell_type": "markdown",
   "id": "b42aae40",
   "metadata": {},
   "source": [
    "Define the type of likelihood and the GP model. The GP model takes as input the training set and and labels, the likelihood and the Riemann Matern Kernel."
   ]
  },
  {
   "cell_type": "code",
   "execution_count": 10,
   "id": "69104add",
   "metadata": {},
   "outputs": [],
   "source": [
    "likelihood = gpytorch.likelihoods.GaussianLikelihood(noise_constraint=gpytorch.constraints.GreaterThan(1e-8))\n",
    "model = RiemannGP(train_x, train_y, likelihood, kernel, train_idx).to(device)"
   ]
  },
  {
   "cell_type": "markdown",
   "id": "b57d3ead",
   "metadata": {},
   "source": [
    "## Model Hyperparameters Setting"
   ]
  },
  {
   "cell_type": "code",
   "execution_count": 11,
   "id": "473d4113",
   "metadata": {},
   "outputs": [],
   "source": [
    "%%capture\n",
    "hypers = {\n",
    "    'likelihood.noise_covar.noise': 1e-5,\n",
    "    'covar_module.base_kernel.epsilon': 0.5027,\n",
    "    'covar_module.base_kernel.lengthscale': 0.5054,\n",
    "    'covar_module.outputscale': 1.0,\n",
    "}\n",
    "model.initialize(**hypers)"
   ]
  },
  {
   "cell_type": "markdown",
   "id": "a22df61e",
   "metadata": {},
   "source": [
    "## Train Model"
   ]
  },
  {
   "cell_type": "markdown",
   "id": "4af1e367",
   "metadata": {},
   "source": [
    "Train the GP model using the fast Lanczos precision matrix optimization. `lr` set the learning rate; `iters` defines the number of iteratios; `verbose` can be set to `True` for printing the parameters each iteration."
   ]
  },
  {
   "cell_type": "code",
   "execution_count": 12,
   "id": "ea2acb07",
   "metadata": {},
   "outputs": [
    {
     "name": "stdout",
     "output_type": "stream",
     "text": [
      "Iteration: 0, Loss: 9073840.000, Noise Variance: 0.003, Signal Variance: 1.000, Lengthscale: 0.505, Epsilon: 0.503\n",
      "Iteration: 1, Loss: 2364105.000, Noise Variance: 0.003, Signal Variance: 1.032, Lengthscale: 0.546, Epsilon: 0.464\n",
      "Iteration: 2, Loss: 1322853.875, Noise Variance: 0.003, Signal Variance: 1.056, Lengthscale: 0.580, Epsilon: 0.435\n",
      "Iteration: 3, Loss: 977430.188, Noise Variance: 0.003, Signal Variance: 1.077, Lengthscale: 0.608, Epsilon: 0.412\n",
      "Iteration: 4, Loss: 786985.250, Noise Variance: 0.003, Signal Variance: 1.094, Lengthscale: 0.633, Epsilon: 0.393\n",
      "Iteration: 5, Loss: 656380.250, Noise Variance: 0.003, Signal Variance: 1.109, Lengthscale: 0.656, Epsilon: 0.377\n",
      "Iteration: 6, Loss: 558969.062, Noise Variance: 0.003, Signal Variance: 1.122, Lengthscale: 0.676, Epsilon: 0.363\n",
      "Iteration: 7, Loss: 483503.469, Noise Variance: 0.003, Signal Variance: 1.134, Lengthscale: 0.694, Epsilon: 0.350\n",
      "Iteration: 8, Loss: 423727.531, Noise Variance: 0.003, Signal Variance: 1.144, Lengthscale: 0.711, Epsilon: 0.339\n",
      "Iteration: 9, Loss: 375614.062, Noise Variance: 0.003, Signal Variance: 1.154, Lengthscale: 0.726, Epsilon: 0.329\n",
      "Iteration: 10, Loss: 336376.312, Noise Variance: 0.003, Signal Variance: 1.163, Lengthscale: 0.741, Epsilon: 0.319\n",
      "Iteration: 11, Loss: 304011.125, Noise Variance: 0.002, Signal Variance: 1.171, Lengthscale: 0.754, Epsilon: 0.311\n",
      "Iteration: 12, Loss: 277041.500, Noise Variance: 0.002, Signal Variance: 1.178, Lengthscale: 0.766, Epsilon: 0.303\n",
      "Iteration: 13, Loss: 254360.469, Noise Variance: 0.002, Signal Variance: 1.185, Lengthscale: 0.777, Epsilon: 0.295\n",
      "Iteration: 14, Loss: 235124.984, Noise Variance: 0.002, Signal Variance: 1.191, Lengthscale: 0.788, Epsilon: 0.288\n",
      "Iteration: 15, Loss: 218685.688, Noise Variance: 0.002, Signal Variance: 1.197, Lengthscale: 0.798, Epsilon: 0.282\n",
      "Iteration: 16, Loss: 204536.719, Noise Variance: 0.002, Signal Variance: 1.202, Lengthscale: 0.807, Epsilon: 0.276\n",
      "Iteration: 17, Loss: 192279.219, Noise Variance: 0.002, Signal Variance: 1.207, Lengthscale: 0.816, Epsilon: 0.270\n",
      "Iteration: 18, Loss: 181596.172, Noise Variance: 0.002, Signal Variance: 1.212, Lengthscale: 0.824, Epsilon: 0.265\n",
      "Iteration: 19, Loss: 172233.094, Noise Variance: 0.002, Signal Variance: 1.216, Lengthscale: 0.831, Epsilon: 0.260\n",
      "Iteration: 20, Loss: 163984.031, Noise Variance: 0.002, Signal Variance: 1.220, Lengthscale: 0.838, Epsilon: 0.255\n",
      "Iteration: 21, Loss: 156681.156, Noise Variance: 0.002, Signal Variance: 1.223, Lengthscale: 0.844, Epsilon: 0.250\n",
      "Iteration: 22, Loss: 150186.219, Noise Variance: 0.002, Signal Variance: 1.227, Lengthscale: 0.851, Epsilon: 0.245\n",
      "Iteration: 23, Loss: 144385.016, Noise Variance: 0.002, Signal Variance: 1.230, Lengthscale: 0.856, Epsilon: 0.241\n",
      "Iteration: 24, Loss: 139182.406, Noise Variance: 0.002, Signal Variance: 1.233, Lengthscale: 0.862, Epsilon: 0.237\n",
      "Iteration: 25, Loss: 134498.609, Noise Variance: 0.002, Signal Variance: 1.236, Lengthscale: 0.867, Epsilon: 0.233\n",
      "Iteration: 26, Loss: 130266.266, Noise Variance: 0.002, Signal Variance: 1.238, Lengthscale: 0.871, Epsilon: 0.229\n",
      "Iteration: 27, Loss: 126428.414, Noise Variance: 0.002, Signal Variance: 1.241, Lengthscale: 0.876, Epsilon: 0.225\n",
      "Iteration: 28, Loss: 122936.570, Noise Variance: 0.002, Signal Variance: 1.243, Lengthscale: 0.880, Epsilon: 0.221\n",
      "Iteration: 29, Loss: 119749.109, Noise Variance: 0.002, Signal Variance: 1.245, Lengthscale: 0.884, Epsilon: 0.218\n"
     ]
    }
   ],
   "source": [
    "lr = 1e-1\n",
    "iters = 30\n",
    "verbose = True\n",
    "loss = model.manifold_informed_train(lr, iters, verbose)"
   ]
  },
  {
   "cell_type": "markdown",
   "id": "0ab36075",
   "metadata": {},
   "source": [
    "## Model Evaluation"
   ]
  },
  {
   "cell_type": "code",
   "execution_count": null,
   "id": "48b2928a",
   "metadata": {},
   "outputs": [],
   "source": [
    "%%capture\n",
    "likelihood.eval()\n",
    "model.eval()"
   ]
  },
  {
   "cell_type": "markdown",
   "id": "f92b6239",
   "metadata": {},
   "source": [
    "Getting faster predictive distributions using [LOVE](https://arxiv.org/abs/1803.06058). We compute the **mean**, the **standard deviation** and one **posterior sample**. In addition we evaluate the kernel at the first point of our dataset."
   ]
  },
  {
   "cell_type": "code",
   "execution_count": null,
   "id": "8f4381ee",
   "metadata": {
    "scrolled": true
   },
   "outputs": [],
   "source": [
    "%%capture\n",
    "with torch.no_grad(), gpytorch.settings.fast_pred_var():\n",
    "    preds = likelihood(model(noisy_x))\n",
    "    mean = preds.mean\n",
    "    std = preds.stddev\n",
    "    posterior_sample = preds.sample()\n",
    "    kernel_eval = kernel(sampled_x[0, :].unsqueeze(0), sampled_x).evaluate().squeeze()\n",
    "    \n",
    "    # Bring data to cpu\n",
    "    sampled_x = sampled_x.cpu().numpy()\n",
    "    sampled_y = sampled_y.cpu().numpy()\n",
    "    train_x = train_x.cpu().numpy()\n",
    "    test_x = test_x.cpu().numpy()\n",
    "    kernel_eval = kernel_eval.cpu().numpy()\n",
    "    posterior_sample = posterior_sample.cpu().numpy()\n",
    "    mean = mean.cpu().numpy()\n",
    "    std = std.cpu().numpy()"
   ]
  },
  {
   "cell_type": "markdown",
   "id": "6f992679",
   "metadata": {},
   "source": [
    "## Plot Results"
   ]
  },
  {
   "cell_type": "code",
   "execution_count": null,
   "id": "c1718afe",
   "metadata": {},
   "outputs": [],
   "source": [
    "%%capture\n",
    "%%bash\n",
    "jupyter nbextension install --py mayavi --user"
   ]
  },
  {
   "cell_type": "code",
   "execution_count": null,
   "id": "ae7fd1c7",
   "metadata": {},
   "outputs": [],
   "source": [
    "%%capture\n",
    "mlab.init_notebook()\n",
    "v_options = {'mode': 'sphere','scale_factor': 3e-3, 'color': (0, 0, 0)}"
   ]
  },
  {
   "cell_type": "markdown",
   "id": "f5a85a6b",
   "metadata": {},
   "source": [
    "### Ground Truth with Sample Training Points"
   ]
  },
  {
   "cell_type": "code",
   "execution_count": null,
   "id": "8a054797",
   "metadata": {},
   "outputs": [],
   "source": [
    "mlab.figure(size=(1920, 1360), fgcolor=(0, 0, 0), bgcolor = (1,1,1))\n",
    "mlab.triangular_mesh(sampled_x[:, 0], sampled_x[:, 1], sampled_x[:, 2], faces, scalars=sampled_y)\n",
    "mlab.colorbar(orientation='vertical')\n",
    "mlab.points3d(train_x[:,0], train_x[:,1], train_x[:,2], **v_options)\n",
    "# mlab.points3d(test_x[:,0], test_x[:,1], test_x[:,2], **v_options)\n",
    "# mlab.view(0.0,180.0,0.5139171204775793)\n",
    "# mlab.savefig('dragon_truth_semisupervised.png')"
   ]
  },
  {
   "cell_type": "markdown",
   "id": "ce632461",
   "metadata": {},
   "source": [
    "### Mean"
   ]
  },
  {
   "cell_type": "code",
   "execution_count": null,
   "id": "e833567e",
   "metadata": {},
   "outputs": [],
   "source": [
    "mlab.figure(size=(1920, 1360), fgcolor=(0, 0, 0), bgcolor = (1,1,1))\n",
    "mlab.triangular_mesh(sampled_x[:, 0], sampled_x[:, 1], sampled_x[:, 2], faces, scalars=mean)\n",
    "mlab.colorbar(orientation='vertical')\n",
    "mlab.points3d(train_x[:,0], train_x[:,1], train_x[:,2], **v_options)\n",
    "# mlab.view(0.0,180.0,0.5139171204775793)\n",
    "# mlab.savefig('dragon_mean_semisupervised.png')"
   ]
  },
  {
   "cell_type": "markdown",
   "id": "2fcb8ebf",
   "metadata": {},
   "source": [
    "### Standard Deviation"
   ]
  },
  {
   "cell_type": "code",
   "execution_count": null,
   "id": "591b8af9",
   "metadata": {},
   "outputs": [],
   "source": [
    "mlab.figure(size=(1920, 1360), fgcolor=(0, 0, 0), bgcolor = (1,1,1))\n",
    "mlab.triangular_mesh(sampled_x[:, 0], sampled_x[:, 1], sampled_x[:, 2], faces, scalars=std)\n",
    "mlab.colorbar(orientation='vertical')\n",
    "mlab.points3d(train_x[:,0], train_x[:,1], train_x[:,2], **v_options)\n",
    "# mlab.view(0.0,180.0,0.5139171204775793)\n",
    "# mlab.savefig('dragon_std_semisupervised.png')"
   ]
  },
  {
   "cell_type": "markdown",
   "id": "12402c7f",
   "metadata": {},
   "source": [
    "### One Posterior Sample"
   ]
  },
  {
   "cell_type": "code",
   "execution_count": null,
   "id": "09655441",
   "metadata": {},
   "outputs": [],
   "source": [
    "mlab.figure(size=(1920, 1360), fgcolor=(0, 0, 0), bgcolor = (1,1,1))\n",
    "mlab.triangular_mesh(sampled_x[:, 0], sampled_x[:, 1], sampled_x[:, 2], faces, scalars=posterior_sample)\n",
    "mlab.colorbar(orientation='vertical')\n",
    "mlab.points3d(train_x[:,0], train_x[:,1], train_x[:,2], **v_options)\n",
    "# mlab.view(0.0,180.0,0.5139171204775793)\n",
    "# mlab.savefig('dragon_posterior_semisupervised.png')"
   ]
  },
  {
   "cell_type": "markdown",
   "id": "8c4b248b",
   "metadata": {},
   "source": [
    "### Kernel Evaluation"
   ]
  },
  {
   "cell_type": "code",
   "execution_count": null,
   "id": "6b6ded3a",
   "metadata": {},
   "outputs": [],
   "source": [
    "mlab.figure(size=(1920, 1360), fgcolor=(0, 0, 0), bgcolor = (1,1,1))\n",
    "mlab.triangular_mesh(sampled_x[:, 0], sampled_x[:, 1], sampled_x[:, 2], faces, scalars=kernel_eval)\n",
    "mlab.colorbar(orientation='vertical')\n",
    "mlab.points3d(sampled_x[0,0], sampled_x[0,1], sampled_x[0,2], **v_options)"
   ]
  },
  {
   "cell_type": "code",
   "execution_count": null,
   "id": "f8c47716",
   "metadata": {},
   "outputs": [],
   "source": []
  }
 ],
 "metadata": {
  "kernelspec": {
   "display_name": "Python 3 (ipykernel)",
   "language": "python",
   "name": "python3"
  },
  "language_info": {
   "codemirror_mode": {
    "name": "ipython",
    "version": 3
   },
   "file_extension": ".py",
   "mimetype": "text/x-python",
   "name": "python",
   "nbconvert_exporter": "python",
   "pygments_lexer": "ipython3",
   "version": "3.10.6"
  },
  "vscode": {
   "interpreter": {
    "hash": "916dbcbb3f70747c44a77c7bcd40155683ae19c65e1c03b4aa3499c5328201f1"
   }
  }
 },
 "nbformat": 4,
 "nbformat_minor": 5
}
