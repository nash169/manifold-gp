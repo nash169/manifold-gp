{
 "cells": [
  {
   "cell_type": "markdown",
   "id": "5e276dbe",
   "metadata": {},
   "source": [
    "# Manifold GP Semi-Supervised Learning via Precision Matrix on 2D Manifold"
   ]
  },
  {
   "cell_type": "markdown",
   "id": "a36444a5",
   "metadata": {},
   "source": [
    "## Preamble"
   ]
  },
  {
   "cell_type": "code",
   "execution_count": 1,
   "id": "2b4a0b01",
   "metadata": {},
   "outputs": [],
   "source": [
    "import numpy as np\n",
    "import torch\n",
    "import gpytorch\n",
    "\n",
    "%matplotlib widget\n",
    "import matplotlib.pyplot as plt\n",
    "\n",
    "from mayavi import mlab\n",
    "from importlib.resources import files\n",
    "\n",
    "from manifold_gp.kernels.riemann_matern_kernel import RiemannMaternKernel\n",
    "from manifold_gp.models.riemann_gp import RiemannGP\n",
    "from manifold_gp.models.vanilla_gp import VanillaGP\n",
    "from manifold_gp.utils.generate_truth import groundtruth_from_mesh"
   ]
  },
  {
   "cell_type": "markdown",
   "id": "75701656",
   "metadata": {},
   "source": [
    "## Dataset Preprocessing"
   ]
  },
  {
   "cell_type": "markdown",
   "id": "7d0dc8ac-e528-42d1-b506-13150c16e46e",
   "metadata": {},
   "source": [
    "### Load"
   ]
  },
  {
   "cell_type": "code",
   "execution_count": 2,
   "id": "b1b30388-be42-4b25-93c9-f41ccf349085",
   "metadata": {},
   "outputs": [],
   "source": [
    "data_path = files('manifold_gp.data').joinpath('dragon.stl')\n",
    "nodes, faces, truth = groundtruth_from_mesh(data_path)\n",
    "\n",
    "sampled_x = torch.from_numpy(nodes).float()\n",
    "sampled_y = torch.from_numpy(truth).float()\n",
    "(m, n) = sampled_x.shape\n",
    "\n",
    "num_train = 25\n",
    "num_test = 1000\n",
    "normalize_features = False\n",
    "normalize_labels = True"
   ]
  },
  {
   "cell_type": "markdown",
   "id": "93184056",
   "metadata": {},
   "source": [
    "### Noise Features"
   ]
  },
  {
   "cell_type": "code",
   "execution_count": 3,
   "id": "878cd4f8",
   "metadata": {},
   "outputs": [],
   "source": [
    "noise_sampled_x = 0.01\n",
    "noisy_x = sampled_x + noise_sampled_x * torch.randn(m, n)"
   ]
  },
  {
   "cell_type": "markdown",
   "id": "3b810778",
   "metadata": {},
   "source": [
    "### Trainset & Testset"
   ]
  },
  {
   "cell_type": "code",
   "execution_count": 4,
   "id": "8414d8d3",
   "metadata": {},
   "outputs": [],
   "source": [
    "torch.manual_seed(1337)\n",
    "rand_idx = torch.randperm(m)\n",
    "train_idx = rand_idx[:num_train]\n",
    "train_x, train_y = noisy_x[train_idx, :], sampled_y[train_idx]\n",
    "\n",
    "noise_train_y = 0.01\n",
    "train_y += noise_train_y * torch.randn(num_train)\n",
    "\n",
    "test_idx = rand_idx[num_train:num_train+num_test]\n",
    "test_x, test_y = sampled_x[test_idx, :], sampled_y[test_idx]\n",
    "\n",
    "noise_test_y = 0.0\n",
    "test_y += noise_test_y * torch.randn(num_test)\n",
    "\n",
    "if normalize_features:\n",
    "    mu_x, std_x = noisy_x.mean(dim=-2, keepdim=True), train_x.std(dim=-2, keepdim=True) + 1e-6\n",
    "    noisy_x.sub_(mu_x).div_(std_x)\n",
    "    train_x.sub_(mu_x).div_(std_x)\n",
    "    test_x.sub_(mu_x).div_(std_x)\n",
    "    \n",
    "if normalize_labels:\n",
    "    mu_y, std_y = train_y.mean(), train_y.std()\n",
    "    train_y.sub_(mu_y).div_(std_y)\n",
    "    test_y.sub_(mu_y).div_(std_y)\n",
    "    sampled_y.sub_(mu_y).div_(std_y)"
   ]
  },
  {
   "cell_type": "markdown",
   "id": "e58fdb69-016b-4158-b40a-8f2c90519a52",
   "metadata": {},
   "source": [
    "### Move Data to Device"
   ]
  },
  {
   "cell_type": "code",
   "execution_count": 5,
   "id": "60173429-2b01-4db7-8b86-b881265e4009",
   "metadata": {},
   "outputs": [],
   "source": [
    "noisy_x, sampled_y = noisy_x.contiguous(), sampled_y.contiguous()\n",
    "train_x, train_y = train_x.contiguous(), train_y.contiguous()\n",
    "test_x, test_y = test_x.contiguous(), test_y.contiguous()\n",
    "\n",
    "use_cuda = torch.cuda.is_available()\n",
    "device = torch.device(\"cuda\" if use_cuda else \"cpu\")\n",
    "noisy_x = noisy_x.to(device)\n",
    "train_x, train_y = train_x.to(device), train_y.to(device)\n",
    "test_x, test_y = test_x.to(device), test_y.to(device)\n",
    "\n",
    "if normalize_features:\n",
    "    mu_x, std_x = mu_x.to(device), std_x.to(device)"
   ]
  },
  {
   "cell_type": "markdown",
   "id": "c5a24865-3d3a-4948-be31-7512bad6dd35",
   "metadata": {},
   "source": [
    "## Vanilla Pre-Trained"
   ]
  },
  {
   "cell_type": "code",
   "execution_count": 6,
   "id": "64a27b8c-52a6-4526-aaf6-5f2456d24286",
   "metadata": {},
   "outputs": [],
   "source": [
    "%%capture\n",
    "model_vanilla = VanillaGP(\n",
    "    train_x, \n",
    "    train_y, \n",
    "    gpytorch.likelihoods.GaussianLikelihood(), \n",
    "    gpytorch.kernels.ScaleKernel(\n",
    "        # gpytorch.kernels.RBFKernel()\n",
    "        gpytorch.kernels.MaternKernel(nu=2.5)\n",
    "    ) # gpytorch.kernels.RBFKernel(), gpytorch.kernels.RFFKernel(100)\n",
    ").to(device)\n",
    "model_vanilla.vanilla_train(lr=1e-1, iter=200, verbose=False)\n",
    "model_vanilla.likelihood.eval()\n",
    "model_vanilla.eval()"
   ]
  },
  {
   "cell_type": "markdown",
   "id": "d3441ad2",
   "metadata": {},
   "source": [
    "## Model"
   ]
  },
  {
   "cell_type": "code",
   "execution_count": 7,
   "id": "15e47b46",
   "metadata": {},
   "outputs": [],
   "source": [
    "%%capture\n",
    "likelihood = gpytorch.likelihoods.GaussianLikelihood(\n",
    "    noise_constraint=gpytorch.constraints.GreaterThan(1e-8),\n",
    "    noise_prior=None  # NormalPrior(torch.tensor([0.0]).to(device),  torch.tensor([1/9]).sqrt().to(device))\n",
    ")\n",
    "\n",
    "kernel = gpytorch.kernels.ScaleKernel(\n",
    "    RiemannMaternKernel(\n",
    "        nu=2,\n",
    "        nodes=noisy_x,\n",
    "        neighbors=10,\n",
    "        operator=\"randomwalk\",\n",
    "        method=\"exact\",\n",
    "        modes=2000,\n",
    "        ball_scale=5.0,\n",
    "        ball_decay=0.01,\n",
    "        prior_bandwidth=True,\n",
    "    ),\n",
    "    outputscale_prior=None  # NormalPrior(torch.tensor([1.0]).to(device),  torch.tensor([1/9]).sqrt().to(device))\n",
    ")\n",
    "\n",
    "model = RiemannGP(train_x, train_y, likelihood, kernel, train_idx, model_vanilla).to(device)"
   ]
  },
  {
   "cell_type": "markdown",
   "id": "b57d3ead",
   "metadata": {},
   "source": [
    "## Train"
   ]
  },
  {
   "cell_type": "markdown",
   "id": "3f357351-4a87-4aec-a9b0-cb87b42d1ec8",
   "metadata": {},
   "source": [
    "### Set Model Initial Parameters"
   ]
  },
  {
   "cell_type": "code",
   "execution_count": 8,
   "id": "473d4113",
   "metadata": {},
   "outputs": [],
   "source": [
    "%%capture\n",
    "hypers = {\n",
    "    'likelihood.noise_covar.noise': 1e-2,\n",
    "    'covar_module.base_kernel.epsilon': kernel.base_kernel.epsilon_prior.sample(), # kernel.base_kernel.epsilon_prior.sample()\n",
    "    'covar_module.base_kernel.lengthscale': 1.0,\n",
    "    'covar_module.outputscale': 1.0,\n",
    "}\n",
    "model.initialize(**hypers)"
   ]
  },
  {
   "cell_type": "markdown",
   "id": "11a0e128-47fc-4501-b2f1-8e5f35d51a8f",
   "metadata": {},
   "source": [
    "### Manifold Informed Training"
   ]
  },
  {
   "cell_type": "code",
   "execution_count": 9,
   "id": "ea2acb07",
   "metadata": {
    "scrolled": true
   },
   "outputs": [
    {
     "name": "stdout",
     "output_type": "stream",
     "text": [
      "Iter: 0, Loss: 28.698, NoiseVar: 0.010, SignalVar: 9195467.00000, Lengthscale: 1.000, Epsilon: 0.007\n",
      "Iter: 1, Loss: 29.378, NoiseVar: 0.009, SignalVar: 9195467.00000, Lengthscale: 0.938, Epsilon: 0.006\n",
      "Iter: 2, Loss: 28.710, NoiseVar: 0.009, SignalVar: 9195467.00000, Lengthscale: 0.958, Epsilon: 0.007\n",
      "Iter: 3, Loss: 28.740, NoiseVar: 0.010, SignalVar: 9195467.00000, Lengthscale: 0.979, Epsilon: 0.007\n",
      "Iter: 4, Loss: 28.946, NoiseVar: 0.010, SignalVar: 9195467.00000, Lengthscale: 0.974, Epsilon: 0.007\n",
      "Iter: 5, Loss: 28.860, NoiseVar: 0.010, SignalVar: 9195467.00000, Lengthscale: 0.951, Epsilon: 0.007\n",
      "Iter: 6, Loss: 28.679, NoiseVar: 0.009, SignalVar: 9195467.00000, Lengthscale: 0.918, Epsilon: 0.007\n",
      "Iter: 7, Loss: 28.658, NoiseVar: 0.009, SignalVar: 9195467.00000, Lengthscale: 0.882, Epsilon: 0.007\n",
      "Iter: 8, Loss: 28.796, NoiseVar: 0.008, SignalVar: 9195467.00000, Lengthscale: 0.850, Epsilon: 0.007\n",
      "Iter: 9, Loss: 28.857, NoiseVar: 0.008, SignalVar: 9195467.00000, Lengthscale: 0.828, Epsilon: 0.007\n",
      "Iter: 10, Loss: 28.763, NoiseVar: 0.008, SignalVar: 9195467.00000, Lengthscale: 0.817, Epsilon: 0.007\n",
      "Iter: 11, Loss: 28.656, NoiseVar: 0.008, SignalVar: 9195467.00000, Lengthscale: 0.812, Epsilon: 0.007\n",
      "Iter: 12, Loss: 28.645, NoiseVar: 0.008, SignalVar: 9195467.00000, Lengthscale: 0.807, Epsilon: 0.007\n",
      "Iter: 13, Loss: 28.698, NoiseVar: 0.008, SignalVar: 9195467.00000, Lengthscale: 0.795, Epsilon: 0.007\n",
      "Iter: 14, Loss: 28.722, NoiseVar: 0.007, SignalVar: 9195467.00000, Lengthscale: 0.775, Epsilon: 0.007\n",
      "Iter: 15, Loss: 28.687, NoiseVar: 0.007, SignalVar: 9195467.00000, Lengthscale: 0.748, Epsilon: 0.007\n",
      "Iter: 16, Loss: 28.641, NoiseVar: 0.007, SignalVar: 9195467.00000, Lengthscale: 0.717, Epsilon: 0.007\n",
      "Iter: 17, Loss: 28.642, NoiseVar: 0.007, SignalVar: 9195467.00000, Lengthscale: 0.684, Epsilon: 0.007\n",
      "Iter: 18, Loss: 28.687, NoiseVar: 0.006, SignalVar: 9195467.00000, Lengthscale: 0.652, Epsilon: 0.007\n",
      "Iter: 19, Loss: 28.716, NoiseVar: 0.006, SignalVar: 9195467.00000, Lengthscale: 0.627, Epsilon: 0.007\n",
      "Iter: 20, Loss: 28.693, NoiseVar: 0.006, SignalVar: 9195467.00000, Lengthscale: 0.607, Epsilon: 0.007\n",
      "Iter: 21, Loss: 28.648, NoiseVar: 0.006, SignalVar: 9195467.00000, Lengthscale: 0.592, Epsilon: 0.007\n",
      "Iter: 22, Loss: 28.629, NoiseVar: 0.006, SignalVar: 9195467.00000, Lengthscale: 0.577, Epsilon: 0.007\n",
      "Iter: 23, Loss: 28.639, NoiseVar: 0.005, SignalVar: 9195467.00000, Lengthscale: 0.559, Epsilon: 0.007\n",
      "Iter: 24, Loss: 28.651, NoiseVar: 0.005, SignalVar: 9195467.00000, Lengthscale: 0.534, Epsilon: 0.007\n",
      "Iter: 25, Loss: 28.642, NoiseVar: 0.005, SignalVar: 9195467.00000, Lengthscale: 0.505, Epsilon: 0.007\n",
      "Iter: 26, Loss: 28.625, NoiseVar: 0.005, SignalVar: 9195467.00000, Lengthscale: 0.473, Epsilon: 0.007\n",
      "Iter: 27, Loss: 28.623, NoiseVar: 0.005, SignalVar: 9195467.00000, Lengthscale: 0.440, Epsilon: 0.007\n",
      "Iter: 28, Loss: 28.640, NoiseVar: 0.004, SignalVar: 9195467.00000, Lengthscale: 0.409, Epsilon: 0.007\n",
      "Iter: 29, Loss: 28.651, NoiseVar: 0.004, SignalVar: 9195467.00000, Lengthscale: 0.380, Epsilon: 0.007\n",
      "Iter: 30, Loss: 28.640, NoiseVar: 0.004, SignalVar: 9195467.00000, Lengthscale: 0.357, Epsilon: 0.007\n",
      "Iter: 31, Loss: 28.618, NoiseVar: 0.004, SignalVar: 9195467.00000, Lengthscale: 0.337, Epsilon: 0.007\n",
      "Iter: 32, Loss: 28.603, NoiseVar: 0.004, SignalVar: 9195467.00000, Lengthscale: 0.317, Epsilon: 0.007\n",
      "Iter: 33, Loss: 28.600, NoiseVar: 0.004, SignalVar: 9195467.00000, Lengthscale: 0.294, Epsilon: 0.007\n",
      "Iter: 34, Loss: 28.595, NoiseVar: 0.004, SignalVar: 9195467.00000, Lengthscale: 0.270, Epsilon: 0.007\n",
      "Iter: 35, Loss: 28.583, NoiseVar: 0.004, SignalVar: 9195467.00000, Lengthscale: 0.245, Epsilon: 0.007\n",
      "Iter: 36, Loss: 28.569, NoiseVar: 0.003, SignalVar: 9195467.00000, Lengthscale: 0.221, Epsilon: 0.007\n",
      "Iter: 37, Loss: 28.562, NoiseVar: 0.003, SignalVar: 9195467.00000, Lengthscale: 0.198, Epsilon: 0.007\n",
      "Iter: 38, Loss: 28.557, NoiseVar: 0.003, SignalVar: 9195467.00000, Lengthscale: 0.178, Epsilon: 0.007\n",
      "Iter: 39, Loss: 28.543, NoiseVar: 0.003, SignalVar: 9195467.00000, Lengthscale: 0.161, Epsilon: 0.007\n",
      "Iter: 40, Loss: 28.516, NoiseVar: 0.003, SignalVar: 9195467.00000, Lengthscale: 0.150, Epsilon: 0.007\n",
      "Iter: 41, Loss: 28.488, NoiseVar: 0.003, SignalVar: 9195467.00000, Lengthscale: 0.141, Epsilon: 0.007\n",
      "Iter: 42, Loss: 28.464, NoiseVar: 0.003, SignalVar: 9195467.00000, Lengthscale: 0.132, Epsilon: 0.007\n",
      "Iter: 43, Loss: 28.438, NoiseVar: 0.003, SignalVar: 9195467.00000, Lengthscale: 0.121, Epsilon: 0.007\n",
      "Iter: 44, Loss: 28.407, NoiseVar: 0.003, SignalVar: 9195467.00000, Lengthscale: 0.109, Epsilon: 0.007\n",
      "Iter: 45, Loss: 28.381, NoiseVar: 0.003, SignalVar: 9195467.00000, Lengthscale: 0.099, Epsilon: 0.007\n",
      "Iter: 46, Loss: 28.371, NoiseVar: 0.003, SignalVar: 9195467.00000, Lengthscale: 0.096, Epsilon: 0.007\n",
      "Iter: 47, Loss: 28.369, NoiseVar: 0.002, SignalVar: 9195467.00000, Lengthscale: 0.098, Epsilon: 0.007\n",
      "Iter: 48, Loss: 28.377, NoiseVar: 0.002, SignalVar: 9195467.00000, Lengthscale: 0.100, Epsilon: 0.007\n",
      "Iter: 49, Loss: 28.379, NoiseVar: 0.002, SignalVar: 9195467.00000, Lengthscale: 0.101, Epsilon: 0.007\n",
      "Iter: 50, Loss: 28.378, NoiseVar: 0.002, SignalVar: 9195467.00000, Lengthscale: 0.100, Epsilon: 0.007\n",
      "Iter: 51, Loss: 28.383, NoiseVar: 0.002, SignalVar: 9195467.00000, Lengthscale: 0.100, Epsilon: 0.007\n",
      "Iter: 52, Loss: 28.393, NoiseVar: 0.002, SignalVar: 9195467.00000, Lengthscale: 0.103, Epsilon: 0.007\n",
      "Iter: 53, Loss: 28.405, NoiseVar: 0.002, SignalVar: 9195467.00000, Lengthscale: 0.107, Epsilon: 0.007\n",
      "Iter: 54, Loss: 28.417, NoiseVar: 0.002, SignalVar: 9195467.00000, Lengthscale: 0.113, Epsilon: 0.007\n",
      "Iter: 55, Loss: 28.430, NoiseVar: 0.002, SignalVar: 9195467.00000, Lengthscale: 0.118, Epsilon: 0.007\n",
      "Iter: 56, Loss: 28.439, NoiseVar: 0.002, SignalVar: 9195467.00000, Lengthscale: 0.121, Epsilon: 0.007\n",
      "Iter: 57, Loss: 28.446, NoiseVar: 0.002, SignalVar: 9195467.00000, Lengthscale: 0.123, Epsilon: 0.007\n",
      "Iter: 58, Loss: 28.451, NoiseVar: 0.002, SignalVar: 9195467.00000, Lengthscale: 0.124, Epsilon: 0.007\n",
      "Iter: 59, Loss: 28.455, NoiseVar: 0.002, SignalVar: 9195467.00000, Lengthscale: 0.125, Epsilon: 0.007\n",
      "Iter: 60, Loss: 28.456, NoiseVar: 0.002, SignalVar: 9195467.00000, Lengthscale: 0.126, Epsilon: 0.007\n",
      "Iter: 61, Loss: 28.455, NoiseVar: 0.002, SignalVar: 9195467.00000, Lengthscale: 0.127, Epsilon: 0.007\n",
      "Iter: 62, Loss: 28.453, NoiseVar: 0.002, SignalVar: 9195467.00000, Lengthscale: 0.127, Epsilon: 0.007\n",
      "Iter: 63, Loss: 28.449, NoiseVar: 0.002, SignalVar: 9195467.00000, Lengthscale: 0.125, Epsilon: 0.007\n",
      "Iter: 64, Loss: 28.444, NoiseVar: 0.002, SignalVar: 9195467.00000, Lengthscale: 0.123, Epsilon: 0.007\n",
      "Iter: 65, Loss: 28.438, NoiseVar: 0.002, SignalVar: 9195467.00000, Lengthscale: 0.120, Epsilon: 0.007\n",
      "Iter: 66, Loss: 28.432, NoiseVar: 0.002, SignalVar: 9195467.00000, Lengthscale: 0.117, Epsilon: 0.007\n",
      "Iter: 67, Loss: 28.425, NoiseVar: 0.002, SignalVar: 9195467.00000, Lengthscale: 0.115, Epsilon: 0.007\n",
      "Iter: 68, Loss: 28.419, NoiseVar: 0.001, SignalVar: 9195467.00000, Lengthscale: 0.113, Epsilon: 0.007\n",
      "Iter: 69, Loss: 28.414, NoiseVar: 0.001, SignalVar: 9195467.00000, Lengthscale: 0.112, Epsilon: 0.007\n",
      "Iter: 70, Loss: 28.410, NoiseVar: 0.001, SignalVar: 9195467.00000, Lengthscale: 0.111, Epsilon: 0.007\n",
      "Iter: 71, Loss: 28.406, NoiseVar: 0.001, SignalVar: 9195467.00000, Lengthscale: 0.109, Epsilon: 0.007\n",
      "Iter: 72, Loss: 28.402, NoiseVar: 0.001, SignalVar: 9195467.00000, Lengthscale: 0.108, Epsilon: 0.007\n",
      "Iter: 73, Loss: 28.401, NoiseVar: 0.001, SignalVar: 9195467.00000, Lengthscale: 0.107, Epsilon: 0.007\n",
      "Iter: 74, Loss: 28.401, NoiseVar: 0.001, SignalVar: 9195467.00000, Lengthscale: 0.107, Epsilon: 0.007\n",
      "Iter: 75, Loss: 28.403, NoiseVar: 0.001, SignalVar: 9195467.00000, Lengthscale: 0.108, Epsilon: 0.007\n",
      "Iter: 76, Loss: 28.406, NoiseVar: 0.001, SignalVar: 9195467.00000, Lengthscale: 0.110, Epsilon: 0.007\n",
      "Iter: 77, Loss: 28.410, NoiseVar: 0.001, SignalVar: 9195467.00000, Lengthscale: 0.111, Epsilon: 0.007\n",
      "Iter: 78, Loss: 28.413, NoiseVar: 0.001, SignalVar: 9195467.00000, Lengthscale: 0.112, Epsilon: 0.007\n",
      "Iter: 79, Loss: 28.416, NoiseVar: 0.001, SignalVar: 9195467.00000, Lengthscale: 0.112, Epsilon: 0.007\n",
      "Iter: 80, Loss: 28.419, NoiseVar: 0.001, SignalVar: 9195467.00000, Lengthscale: 0.113, Epsilon: 0.007\n",
      "Iter: 81, Loss: 28.422, NoiseVar: 0.001, SignalVar: 9195467.00000, Lengthscale: 0.115, Epsilon: 0.007\n",
      "Iter: 82, Loss: 28.425, NoiseVar: 0.001, SignalVar: 9195467.00000, Lengthscale: 0.116, Epsilon: 0.007\n",
      "Iter: 83, Loss: 28.427, NoiseVar: 0.001, SignalVar: 9195467.00000, Lengthscale: 0.117, Epsilon: 0.007\n",
      "Iter: 84, Loss: 28.428, NoiseVar: 0.001, SignalVar: 9195467.00000, Lengthscale: 0.117, Epsilon: 0.007\n",
      "Iter: 85, Loss: 28.428, NoiseVar: 0.001, SignalVar: 9195467.00000, Lengthscale: 0.117, Epsilon: 0.007\n",
      "Iter: 86, Loss: 28.427, NoiseVar: 0.001, SignalVar: 9195467.00000, Lengthscale: 0.116, Epsilon: 0.007\n",
      "Iter: 87, Loss: 28.426, NoiseVar: 0.001, SignalVar: 9195467.00000, Lengthscale: 0.116, Epsilon: 0.007\n",
      "Iter: 88, Loss: 28.425, NoiseVar: 0.001, SignalVar: 9195467.00000, Lengthscale: 0.116, Epsilon: 0.007\n",
      "Iter: 89, Loss: 28.423, NoiseVar: 0.001, SignalVar: 9195467.00000, Lengthscale: 0.115, Epsilon: 0.007\n",
      "Iter: 90, Loss: 28.421, NoiseVar: 0.001, SignalVar: 9195467.00000, Lengthscale: 0.115, Epsilon: 0.007\n",
      "Iter: 91, Loss: 28.419, NoiseVar: 0.001, SignalVar: 9195467.00000, Lengthscale: 0.114, Epsilon: 0.007\n",
      "Iter: 92, Loss: 28.417, NoiseVar: 0.001, SignalVar: 9195467.00000, Lengthscale: 0.113, Epsilon: 0.007\n",
      "Iter: 93, Loss: 28.415, NoiseVar: 0.001, SignalVar: 9195467.00000, Lengthscale: 0.112, Epsilon: 0.007\n",
      "Iter: 94, Loss: 28.414, NoiseVar: 0.001, SignalVar: 9195467.00000, Lengthscale: 0.112, Epsilon: 0.007\n",
      "Iter: 95, Loss: 28.413, NoiseVar: 0.001, SignalVar: 9195467.00000, Lengthscale: 0.112, Epsilon: 0.007\n",
      "Iter: 96, Loss: 28.413, NoiseVar: 0.001, SignalVar: 9195467.00000, Lengthscale: 0.112, Epsilon: 0.007\n",
      "Iter: 97, Loss: 28.413, NoiseVar: 0.001, SignalVar: 9195467.00000, Lengthscale: 0.112, Epsilon: 0.007\n",
      "Iter: 98, Loss: 28.413, NoiseVar: 0.001, SignalVar: 9195467.00000, Lengthscale: 0.112, Epsilon: 0.007\n",
      "Iter: 99, Loss: 28.413, NoiseVar: 0.001, SignalVar: 9195467.00000, Lengthscale: 0.112, Epsilon: 0.007\n",
      "NoiseVar:  0.0008692462579347193 SignalVar:  0.8879980444908142 Lengthscale:  0.11222455650568008 Epsilon 0.007034193724393845\n"
     ]
    }
   ],
   "source": [
    "model.manifold_informed_train(lr=1e-1, iter=100, norm_step_size=100, verbose=True)\n",
    "print(\"NoiseVar: \", likelihood.noise.item(), \"SignalVar: \", kernel.outputscale.item(), \n",
    "      \"Lengthscale: \", kernel.base_kernel.lengthscale.item(), \"Epsilon\", kernel.base_kernel.epsilon.item())"
   ]
  },
  {
   "cell_type": "markdown",
   "id": "b52ff8dd-d4fb-403c-9435-e8949c7b7958",
   "metadata": {},
   "source": [
    "### Extract EigenPairs and Train with Fixed number of Eigenfunctions"
   ]
  },
  {
   "cell_type": "code",
   "execution_count": 10,
   "id": "65e2f3ac-d014-4f4c-9a3d-6f3c721483ff",
   "metadata": {},
   "outputs": [
    {
     "name": "stdout",
     "output_type": "stream",
     "text": [
      "exact\n"
     ]
    }
   ],
   "source": [
    "kernel.base_kernel.generate_eigenpairs()"
   ]
  },
  {
   "cell_type": "code",
   "execution_count": 11,
   "id": "32cdae23-260f-4d12-95e9-baca44e69a4e",
   "metadata": {
    "scrolled": true
   },
   "outputs": [
    {
     "name": "stdout",
     "output_type": "stream",
     "text": [
      "Iter: 0, Loss: 0.753, NoiseVar: 0.001, SignalVar: 0.88800, Lengthscale: 0.112, Epsilon: 0.007\n",
      "Iter: 1, Loss: 0.640, NoiseVar: 0.001, SignalVar: 0.94805, Lengthscale: 0.123, Epsilon: 0.007\n",
      "Iter: 2, Loss: 0.560, NoiseVar: 0.001, SignalVar: 1.00274, Lengthscale: 0.135, Epsilon: 0.007\n",
      "Iter: 3, Loss: 0.501, NoiseVar: 0.001, SignalVar: 1.04211, Lengthscale: 0.148, Epsilon: 0.007\n",
      "Iter: 4, Loss: 0.453, NoiseVar: 0.001, SignalVar: 1.05953, Lengthscale: 0.161, Epsilon: 0.007\n",
      "Iter: 5, Loss: 0.409, NoiseVar: 0.001, SignalVar: 1.05628, Lengthscale: 0.176, Epsilon: 0.007\n",
      "Iter: 6, Loss: 0.364, NoiseVar: 0.000, SignalVar: 1.03746, Lengthscale: 0.190, Epsilon: 0.007\n",
      "Iter: 7, Loss: 0.318, NoiseVar: 0.000, SignalVar: 1.00792, Lengthscale: 0.206, Epsilon: 0.007\n",
      "Iter: 8, Loss: 0.272, NoiseVar: 0.000, SignalVar: 0.97128, Lengthscale: 0.223, Epsilon: 0.007\n",
      "Iter: 9, Loss: 0.225, NoiseVar: 0.000, SignalVar: 0.93017, Lengthscale: 0.241, Epsilon: 0.007\n",
      "Iter: 10, Loss: 0.178, NoiseVar: 0.000, SignalVar: 0.88651, Lengthscale: 0.260, Epsilon: 0.007\n",
      "Iter: 11, Loss: 0.135, NoiseVar: 0.000, SignalVar: 0.84189, Lengthscale: 0.280, Epsilon: 0.007\n",
      "Iter: 12, Loss: 0.099, NoiseVar: 0.000, SignalVar: 0.79779, Lengthscale: 0.301, Epsilon: 0.007\n",
      "Iter: 13, Loss: 0.073, NoiseVar: 0.000, SignalVar: 0.75586, Lengthscale: 0.322, Epsilon: 0.007\n",
      "Iter: 14, Loss: 0.061, NoiseVar: 0.000, SignalVar: 0.71833, Lengthscale: 0.345, Epsilon: 0.007\n",
      "Iter: 15, Loss: 0.068, NoiseVar: 0.000, SignalVar: 0.68829, Lengthscale: 0.366, Epsilon: 0.007\n",
      "Iter: 16, Loss: 0.087, NoiseVar: 0.000, SignalVar: 0.66930, Lengthscale: 0.386, Epsilon: 0.007\n",
      "Iter: 17, Loss: 0.111, NoiseVar: 0.000, SignalVar: 0.66351, Lengthscale: 0.402, Epsilon: 0.007\n",
      "Iter: 18, Loss: 0.126, NoiseVar: 0.000, SignalVar: 0.67027, Lengthscale: 0.413, Epsilon: 0.007\n",
      "Iter: 19, Loss: 0.125, NoiseVar: 0.000, SignalVar: 0.68737, Lengthscale: 0.417, Epsilon: 0.007\n",
      "Iter: 20, Loss: 0.112, NoiseVar: 0.000, SignalVar: 0.71256, Lengthscale: 0.417, Epsilon: 0.007\n",
      "Iter: 21, Loss: 0.091, NoiseVar: 0.000, SignalVar: 0.74401, Lengthscale: 0.412, Epsilon: 0.007\n",
      "Iter: 22, Loss: 0.071, NoiseVar: 0.000, SignalVar: 0.78010, Lengthscale: 0.405, Epsilon: 0.007\n",
      "Iter: 23, Loss: 0.055, NoiseVar: 0.000, SignalVar: 0.81925, Lengthscale: 0.396, Epsilon: 0.007\n",
      "Iter: 24, Loss: 0.047, NoiseVar: 0.000, SignalVar: 0.85986, Lengthscale: 0.387, Epsilon: 0.007\n",
      "Iter: 25, Loss: 0.044, NoiseVar: 0.000, SignalVar: 0.90035, Lengthscale: 0.379, Epsilon: 0.007\n",
      "Iter: 26, Loss: 0.045, NoiseVar: 0.000, SignalVar: 0.93928, Lengthscale: 0.372, Epsilon: 0.007\n",
      "Iter: 27, Loss: 0.049, NoiseVar: 0.000, SignalVar: 0.97542, Lengthscale: 0.366, Epsilon: 0.007\n",
      "Iter: 28, Loss: 0.053, NoiseVar: 0.000, SignalVar: 1.00782, Lengthscale: 0.362, Epsilon: 0.007\n",
      "Iter: 29, Loss: 0.057, NoiseVar: 0.000, SignalVar: 1.03588, Lengthscale: 0.361, Epsilon: 0.007\n",
      "Iter: 30, Loss: 0.058, NoiseVar: 0.000, SignalVar: 1.05928, Lengthscale: 0.361, Epsilon: 0.007\n",
      "Iter: 31, Loss: 0.058, NoiseVar: 0.000, SignalVar: 1.07799, Lengthscale: 0.363, Epsilon: 0.007\n",
      "Iter: 32, Loss: 0.056, NoiseVar: 0.000, SignalVar: 1.09222, Lengthscale: 0.366, Epsilon: 0.007\n",
      "Iter: 33, Loss: 0.052, NoiseVar: 0.000, SignalVar: 1.10237, Lengthscale: 0.371, Epsilon: 0.007\n",
      "Iter: 34, Loss: 0.048, NoiseVar: 0.000, SignalVar: 1.10901, Lengthscale: 0.378, Epsilon: 0.007\n",
      "Iter: 35, Loss: 0.043, NoiseVar: 0.000, SignalVar: 1.11282, Lengthscale: 0.386, Epsilon: 0.007\n",
      "Iter: 36, Loss: 0.038, NoiseVar: 0.000, SignalVar: 1.11462, Lengthscale: 0.394, Epsilon: 0.007\n",
      "Iter: 37, Loss: 0.035, NoiseVar: 0.000, SignalVar: 1.11529, Lengthscale: 0.403, Epsilon: 0.007\n",
      "Iter: 38, Loss: 0.033, NoiseVar: 0.000, SignalVar: 1.11576, Lengthscale: 0.412, Epsilon: 0.007\n",
      "Iter: 39, Loss: 0.033, NoiseVar: 0.000, SignalVar: 1.11697, Lengthscale: 0.421, Epsilon: 0.007\n",
      "Iter: 40, Loss: 0.034, NoiseVar: 0.000, SignalVar: 1.11979, Lengthscale: 0.429, Epsilon: 0.007\n",
      "Iter: 41, Loss: 0.036, NoiseVar: 0.000, SignalVar: 1.12495, Lengthscale: 0.435, Epsilon: 0.007\n",
      "Iter: 42, Loss: 0.037, NoiseVar: 0.000, SignalVar: 1.13296, Lengthscale: 0.440, Epsilon: 0.007\n",
      "Iter: 43, Loss: 0.037, NoiseVar: 0.000, SignalVar: 1.14406, Lengthscale: 0.443, Epsilon: 0.007\n",
      "Iter: 44, Loss: 0.037, NoiseVar: 0.000, SignalVar: 1.15819, Lengthscale: 0.444, Epsilon: 0.007\n",
      "Iter: 45, Loss: 0.035, NoiseVar: 0.000, SignalVar: 1.17499, Lengthscale: 0.444, Epsilon: 0.007\n",
      "Iter: 46, Loss: 0.033, NoiseVar: 0.000, SignalVar: 1.19390, Lengthscale: 0.442, Epsilon: 0.007\n",
      "Iter: 47, Loss: 0.031, NoiseVar: 0.000, SignalVar: 1.21421, Lengthscale: 0.439, Epsilon: 0.007\n",
      "Iter: 48, Loss: 0.030, NoiseVar: 0.000, SignalVar: 1.23514, Lengthscale: 0.436, Epsilon: 0.007\n",
      "Iter: 49, Loss: 0.029, NoiseVar: 0.000, SignalVar: 1.25593, Lengthscale: 0.433, Epsilon: 0.007\n",
      "Iter: 50, Loss: 0.029, NoiseVar: 0.000, SignalVar: 1.27589, Lengthscale: 0.430, Epsilon: 0.007\n",
      "Iter: 51, Loss: 0.029, NoiseVar: 0.000, SignalVar: 1.29446, Lengthscale: 0.428, Epsilon: 0.007\n",
      "Iter: 52, Loss: 0.030, NoiseVar: 0.000, SignalVar: 1.31123, Lengthscale: 0.427, Epsilon: 0.007\n",
      "Iter: 53, Loss: 0.030, NoiseVar: 0.000, SignalVar: 1.32598, Lengthscale: 0.427, Epsilon: 0.007\n",
      "Iter: 54, Loss: 0.030, NoiseVar: 0.000, SignalVar: 1.33864, Lengthscale: 0.428, Epsilon: 0.007\n",
      "Iter: 55, Loss: 0.029, NoiseVar: 0.000, SignalVar: 1.34930, Lengthscale: 0.430, Epsilon: 0.007\n",
      "Iter: 56, Loss: 0.029, NoiseVar: 0.000, SignalVar: 1.35818, Lengthscale: 0.433, Epsilon: 0.007\n",
      "Iter: 57, Loss: 0.028, NoiseVar: 0.000, SignalVar: 1.36561, Lengthscale: 0.436, Epsilon: 0.007\n",
      "Iter: 58, Loss: 0.027, NoiseVar: 0.000, SignalVar: 1.37202, Lengthscale: 0.440, Epsilon: 0.007\n",
      "Iter: 59, Loss: 0.027, NoiseVar: 0.000, SignalVar: 1.37788, Lengthscale: 0.444, Epsilon: 0.007\n",
      "Iter: 60, Loss: 0.026, NoiseVar: 0.000, SignalVar: 1.38365, Lengthscale: 0.448, Epsilon: 0.007\n",
      "Iter: 61, Loss: 0.026, NoiseVar: 0.000, SignalVar: 1.38978, Lengthscale: 0.452, Epsilon: 0.007\n",
      "Iter: 62, Loss: 0.026, NoiseVar: 0.000, SignalVar: 1.39666, Lengthscale: 0.456, Epsilon: 0.007\n",
      "Iter: 63, Loss: 0.027, NoiseVar: 0.000, SignalVar: 1.40455, Lengthscale: 0.458, Epsilon: 0.007\n",
      "Iter: 64, Loss: 0.026, NoiseVar: 0.000, SignalVar: 1.41360, Lengthscale: 0.460, Epsilon: 0.007\n",
      "Iter: 65, Loss: 0.026, NoiseVar: 0.000, SignalVar: 1.42384, Lengthscale: 0.461, Epsilon: 0.007\n",
      "Iter: 66, Loss: 0.026, NoiseVar: 0.000, SignalVar: 1.43513, Lengthscale: 0.461, Epsilon: 0.007\n",
      "Iter: 67, Loss: 0.026, NoiseVar: 0.000, SignalVar: 1.44727, Lengthscale: 0.461, Epsilon: 0.007\n",
      "Iter: 68, Loss: 0.025, NoiseVar: 0.000, SignalVar: 1.45994, Lengthscale: 0.460, Epsilon: 0.007\n",
      "Iter: 69, Loss: 0.025, NoiseVar: 0.000, SignalVar: 1.47281, Lengthscale: 0.460, Epsilon: 0.007\n",
      "Iter: 70, Loss: 0.025, NoiseVar: 0.000, SignalVar: 1.48554, Lengthscale: 0.459, Epsilon: 0.007\n",
      "Iter: 71, Loss: 0.025, NoiseVar: 0.000, SignalVar: 1.49784, Lengthscale: 0.458, Epsilon: 0.007\n",
      "Iter: 72, Loss: 0.025, NoiseVar: 0.000, SignalVar: 1.50947, Lengthscale: 0.458, Epsilon: 0.007\n",
      "Iter: 73, Loss: 0.025, NoiseVar: 0.000, SignalVar: 1.52025, Lengthscale: 0.458, Epsilon: 0.007\n",
      "Iter: 74, Loss: 0.025, NoiseVar: 0.000, SignalVar: 1.53012, Lengthscale: 0.458, Epsilon: 0.007\n",
      "Iter: 75, Loss: 0.025, NoiseVar: 0.000, SignalVar: 1.53909, Lengthscale: 0.459, Epsilon: 0.007\n",
      "Iter: 76, Loss: 0.024, NoiseVar: 0.000, SignalVar: 1.54724, Lengthscale: 0.461, Epsilon: 0.007\n",
      "Iter: 77, Loss: 0.024, NoiseVar: 0.000, SignalVar: 1.55474, Lengthscale: 0.463, Epsilon: 0.007\n",
      "Iter: 78, Loss: 0.024, NoiseVar: 0.000, SignalVar: 1.56178, Lengthscale: 0.465, Epsilon: 0.007\n",
      "Iter: 79, Loss: 0.024, NoiseVar: 0.000, SignalVar: 1.56858, Lengthscale: 0.467, Epsilon: 0.007\n",
      "Iter: 80, Loss: 0.024, NoiseVar: 0.000, SignalVar: 1.57535, Lengthscale: 0.469, Epsilon: 0.007\n",
      "Iter: 81, Loss: 0.024, NoiseVar: 0.000, SignalVar: 1.58231, Lengthscale: 0.471, Epsilon: 0.007\n",
      "Iter: 82, Loss: 0.024, NoiseVar: 0.000, SignalVar: 1.58959, Lengthscale: 0.472, Epsilon: 0.007\n",
      "Iter: 83, Loss: 0.024, NoiseVar: 0.000, SignalVar: 1.59731, Lengthscale: 0.474, Epsilon: 0.007\n",
      "Iter: 84, Loss: 0.024, NoiseVar: 0.000, SignalVar: 1.60549, Lengthscale: 0.475, Epsilon: 0.007\n",
      "Iter: 85, Loss: 0.023, NoiseVar: 0.000, SignalVar: 1.61411, Lengthscale: 0.475, Epsilon: 0.007\n",
      "Iter: 86, Loss: 0.023, NoiseVar: 0.000, SignalVar: 1.62308, Lengthscale: 0.475, Epsilon: 0.007\n",
      "Iter: 87, Loss: 0.023, NoiseVar: 0.000, SignalVar: 1.63228, Lengthscale: 0.476, Epsilon: 0.007\n",
      "Iter: 88, Loss: 0.023, NoiseVar: 0.000, SignalVar: 1.64156, Lengthscale: 0.476, Epsilon: 0.007\n",
      "Iter: 89, Loss: 0.023, NoiseVar: 0.000, SignalVar: 1.65077, Lengthscale: 0.476, Epsilon: 0.007\n",
      "Iter: 90, Loss: 0.023, NoiseVar: 0.000, SignalVar: 1.65978, Lengthscale: 0.476, Epsilon: 0.007\n",
      "Iter: 91, Loss: 0.023, NoiseVar: 0.000, SignalVar: 1.66847, Lengthscale: 0.476, Epsilon: 0.007\n",
      "Iter: 92, Loss: 0.023, NoiseVar: 0.000, SignalVar: 1.67678, Lengthscale: 0.476, Epsilon: 0.007\n",
      "Iter: 93, Loss: 0.023, NoiseVar: 0.000, SignalVar: 1.68467, Lengthscale: 0.477, Epsilon: 0.007\n",
      "Iter: 94, Loss: 0.023, NoiseVar: 0.000, SignalVar: 1.69215, Lengthscale: 0.478, Epsilon: 0.007\n",
      "Iter: 95, Loss: 0.023, NoiseVar: 0.000, SignalVar: 1.69928, Lengthscale: 0.479, Epsilon: 0.007\n",
      "Iter: 96, Loss: 0.023, NoiseVar: 0.000, SignalVar: 1.70613, Lengthscale: 0.480, Epsilon: 0.007\n",
      "Iter: 97, Loss: 0.022, NoiseVar: 0.000, SignalVar: 1.71281, Lengthscale: 0.481, Epsilon: 0.007\n",
      "Iter: 98, Loss: 0.022, NoiseVar: 0.000, SignalVar: 1.71941, Lengthscale: 0.482, Epsilon: 0.007\n",
      "Iter: 99, Loss: 0.022, NoiseVar: 0.000, SignalVar: 1.72603, Lengthscale: 0.483, Epsilon: 0.007\n",
      "Iter: 100, Loss: 0.022, NoiseVar: 0.000, SignalVar: 1.73276, Lengthscale: 0.484, Epsilon: 0.007\n",
      "Iter: 101, Loss: 0.022, NoiseVar: 0.000, SignalVar: 1.73963, Lengthscale: 0.485, Epsilon: 0.007\n",
      "Iter: 102, Loss: 0.022, NoiseVar: 0.000, SignalVar: 1.74668, Lengthscale: 0.486, Epsilon: 0.007\n",
      "Iter: 103, Loss: 0.022, NoiseVar: 0.000, SignalVar: 1.75389, Lengthscale: 0.487, Epsilon: 0.007\n",
      "Iter: 104, Loss: 0.022, NoiseVar: 0.000, SignalVar: 1.76124, Lengthscale: 0.487, Epsilon: 0.007\n",
      "Iter: 105, Loss: 0.022, NoiseVar: 0.000, SignalVar: 1.76867, Lengthscale: 0.487, Epsilon: 0.007\n",
      "Iter: 106, Loss: 0.022, NoiseVar: 0.000, SignalVar: 1.77610, Lengthscale: 0.488, Epsilon: 0.007\n",
      "Iter: 107, Loss: 0.022, NoiseVar: 0.000, SignalVar: 1.78348, Lengthscale: 0.488, Epsilon: 0.007\n",
      "Iter: 108, Loss: 0.022, NoiseVar: 0.000, SignalVar: 1.79074, Lengthscale: 0.488, Epsilon: 0.007\n",
      "Iter: 109, Loss: 0.022, NoiseVar: 0.000, SignalVar: 1.79784, Lengthscale: 0.489, Epsilon: 0.007\n",
      "Iter: 110, Loss: 0.022, NoiseVar: 0.000, SignalVar: 1.80475, Lengthscale: 0.489, Epsilon: 0.007\n",
      "Iter: 111, Loss: 0.022, NoiseVar: 0.000, SignalVar: 1.81145, Lengthscale: 0.490, Epsilon: 0.007\n",
      "Iter: 112, Loss: 0.022, NoiseVar: 0.000, SignalVar: 1.81795, Lengthscale: 0.490, Epsilon: 0.007\n",
      "Iter: 113, Loss: 0.022, NoiseVar: 0.000, SignalVar: 1.82430, Lengthscale: 0.491, Epsilon: 0.007\n",
      "Iter: 114, Loss: 0.022, NoiseVar: 0.000, SignalVar: 1.83052, Lengthscale: 0.492, Epsilon: 0.007\n",
      "Iter: 115, Loss: 0.022, NoiseVar: 0.000, SignalVar: 1.83667, Lengthscale: 0.493, Epsilon: 0.007\n",
      "Iter: 116, Loss: 0.022, NoiseVar: 0.000, SignalVar: 1.84278, Lengthscale: 0.493, Epsilon: 0.007\n",
      "Iter: 117, Loss: 0.021, NoiseVar: 0.000, SignalVar: 1.84891, Lengthscale: 0.494, Epsilon: 0.007\n",
      "Iter: 118, Loss: 0.021, NoiseVar: 0.000, SignalVar: 1.85507, Lengthscale: 0.495, Epsilon: 0.007\n",
      "Iter: 119, Loss: 0.021, NoiseVar: 0.000, SignalVar: 1.86129, Lengthscale: 0.495, Epsilon: 0.007\n",
      "Iter: 120, Loss: 0.021, NoiseVar: 0.000, SignalVar: 1.86757, Lengthscale: 0.496, Epsilon: 0.007\n",
      "Iter: 121, Loss: 0.021, NoiseVar: 0.000, SignalVar: 1.87388, Lengthscale: 0.496, Epsilon: 0.007\n",
      "Iter: 122, Loss: 0.021, NoiseVar: 0.000, SignalVar: 1.88022, Lengthscale: 0.497, Epsilon: 0.007\n",
      "Iter: 123, Loss: 0.021, NoiseVar: 0.000, SignalVar: 1.88654, Lengthscale: 0.497, Epsilon: 0.007\n",
      "Iter: 124, Loss: 0.021, NoiseVar: 0.000, SignalVar: 1.89283, Lengthscale: 0.497, Epsilon: 0.007\n",
      "Iter: 125, Loss: 0.021, NoiseVar: 0.000, SignalVar: 1.89904, Lengthscale: 0.498, Epsilon: 0.007\n",
      "Iter: 126, Loss: 0.021, NoiseVar: 0.000, SignalVar: 1.90517, Lengthscale: 0.498, Epsilon: 0.007\n",
      "Iter: 127, Loss: 0.021, NoiseVar: 0.000, SignalVar: 1.91118, Lengthscale: 0.499, Epsilon: 0.007\n",
      "Iter: 128, Loss: 0.021, NoiseVar: 0.000, SignalVar: 1.91709, Lengthscale: 0.499, Epsilon: 0.007\n",
      "Iter: 129, Loss: 0.021, NoiseVar: 0.000, SignalVar: 1.92290, Lengthscale: 0.500, Epsilon: 0.007\n",
      "Iter: 130, Loss: 0.021, NoiseVar: 0.000, SignalVar: 1.92861, Lengthscale: 0.500, Epsilon: 0.007\n",
      "Iter: 131, Loss: 0.021, NoiseVar: 0.000, SignalVar: 1.93426, Lengthscale: 0.501, Epsilon: 0.007\n",
      "Iter: 132, Loss: 0.021, NoiseVar: 0.000, SignalVar: 1.93987, Lengthscale: 0.501, Epsilon: 0.007\n",
      "Iter: 133, Loss: 0.021, NoiseVar: 0.000, SignalVar: 1.94544, Lengthscale: 0.502, Epsilon: 0.007\n",
      "Iter: 134, Loss: 0.021, NoiseVar: 0.000, SignalVar: 1.95101, Lengthscale: 0.502, Epsilon: 0.007\n",
      "Iter: 135, Loss: 0.021, NoiseVar: 0.000, SignalVar: 1.95659, Lengthscale: 0.503, Epsilon: 0.007\n",
      "Iter: 136, Loss: 0.021, NoiseVar: 0.000, SignalVar: 1.96217, Lengthscale: 0.503, Epsilon: 0.007\n",
      "Iter: 137, Loss: 0.021, NoiseVar: 0.000, SignalVar: 1.96776, Lengthscale: 0.504, Epsilon: 0.007\n",
      "Iter: 138, Loss: 0.021, NoiseVar: 0.000, SignalVar: 1.97335, Lengthscale: 0.504, Epsilon: 0.007\n",
      "Iter: 139, Loss: 0.021, NoiseVar: 0.000, SignalVar: 1.97892, Lengthscale: 0.505, Epsilon: 0.007\n",
      "Iter: 140, Loss: 0.021, NoiseVar: 0.000, SignalVar: 1.98446, Lengthscale: 0.505, Epsilon: 0.007\n",
      "Iter: 141, Loss: 0.021, NoiseVar: 0.000, SignalVar: 1.98995, Lengthscale: 0.505, Epsilon: 0.007\n",
      "Iter: 142, Loss: 0.021, NoiseVar: 0.000, SignalVar: 1.99539, Lengthscale: 0.506, Epsilon: 0.007\n",
      "Iter: 143, Loss: 0.021, NoiseVar: 0.000, SignalVar: 2.00077, Lengthscale: 0.506, Epsilon: 0.007\n",
      "Iter: 144, Loss: 0.021, NoiseVar: 0.000, SignalVar: 2.00607, Lengthscale: 0.507, Epsilon: 0.007\n",
      "Iter: 145, Loss: 0.021, NoiseVar: 0.000, SignalVar: 2.01132, Lengthscale: 0.507, Epsilon: 0.007\n",
      "Iter: 146, Loss: 0.021, NoiseVar: 0.000, SignalVar: 2.01651, Lengthscale: 0.508, Epsilon: 0.007\n",
      "Iter: 147, Loss: 0.021, NoiseVar: 0.000, SignalVar: 2.02165, Lengthscale: 0.508, Epsilon: 0.007\n",
      "Iter: 148, Loss: 0.021, NoiseVar: 0.000, SignalVar: 2.02675, Lengthscale: 0.508, Epsilon: 0.007\n",
      "Iter: 149, Loss: 0.021, NoiseVar: 0.000, SignalVar: 2.03183, Lengthscale: 0.509, Epsilon: 0.007\n",
      "Iter: 150, Loss: 0.021, NoiseVar: 0.000, SignalVar: 2.03689, Lengthscale: 0.509, Epsilon: 0.007\n",
      "Iter: 151, Loss: 0.021, NoiseVar: 0.000, SignalVar: 2.04194, Lengthscale: 0.510, Epsilon: 0.007\n",
      "Iter: 152, Loss: 0.020, NoiseVar: 0.000, SignalVar: 2.04697, Lengthscale: 0.510, Epsilon: 0.007\n",
      "Iter: 153, Loss: 0.020, NoiseVar: 0.000, SignalVar: 2.05199, Lengthscale: 0.511, Epsilon: 0.007\n",
      "Iter: 154, Loss: 0.020, NoiseVar: 0.000, SignalVar: 2.05700, Lengthscale: 0.511, Epsilon: 0.007\n",
      "Iter: 155, Loss: 0.020, NoiseVar: 0.000, SignalVar: 2.06198, Lengthscale: 0.511, Epsilon: 0.007\n",
      "Iter: 156, Loss: 0.020, NoiseVar: 0.000, SignalVar: 2.06694, Lengthscale: 0.512, Epsilon: 0.007\n",
      "Iter: 157, Loss: 0.020, NoiseVar: 0.000, SignalVar: 2.07185, Lengthscale: 0.512, Epsilon: 0.007\n",
      "Iter: 158, Loss: 0.020, NoiseVar: 0.000, SignalVar: 2.07673, Lengthscale: 0.512, Epsilon: 0.007\n",
      "Iter: 159, Loss: 0.020, NoiseVar: 0.000, SignalVar: 2.08156, Lengthscale: 0.513, Epsilon: 0.007\n",
      "Iter: 160, Loss: 0.020, NoiseVar: 0.000, SignalVar: 2.08635, Lengthscale: 0.513, Epsilon: 0.007\n",
      "Iter: 161, Loss: 0.020, NoiseVar: 0.000, SignalVar: 2.09110, Lengthscale: 0.513, Epsilon: 0.007\n",
      "Iter: 162, Loss: 0.020, NoiseVar: 0.000, SignalVar: 2.09580, Lengthscale: 0.514, Epsilon: 0.007\n",
      "Iter: 163, Loss: 0.020, NoiseVar: 0.000, SignalVar: 2.10048, Lengthscale: 0.514, Epsilon: 0.007\n",
      "Iter: 164, Loss: 0.020, NoiseVar: 0.000, SignalVar: 2.10512, Lengthscale: 0.515, Epsilon: 0.007\n",
      "Iter: 165, Loss: 0.020, NoiseVar: 0.000, SignalVar: 2.10974, Lengthscale: 0.515, Epsilon: 0.007\n",
      "Iter: 166, Loss: 0.020, NoiseVar: 0.000, SignalVar: 2.11434, Lengthscale: 0.515, Epsilon: 0.007\n",
      "Iter: 167, Loss: 0.020, NoiseVar: 0.000, SignalVar: 2.11892, Lengthscale: 0.516, Epsilon: 0.007\n",
      "Iter: 168, Loss: 0.020, NoiseVar: 0.000, SignalVar: 2.12348, Lengthscale: 0.516, Epsilon: 0.007\n",
      "Iter: 169, Loss: 0.020, NoiseVar: 0.000, SignalVar: 2.12803, Lengthscale: 0.516, Epsilon: 0.007\n",
      "Iter: 170, Loss: 0.020, NoiseVar: 0.000, SignalVar: 2.13255, Lengthscale: 0.517, Epsilon: 0.007\n",
      "Iter: 171, Loss: 0.020, NoiseVar: 0.000, SignalVar: 2.13705, Lengthscale: 0.517, Epsilon: 0.007\n",
      "Iter: 172, Loss: 0.020, NoiseVar: 0.000, SignalVar: 2.14152, Lengthscale: 0.517, Epsilon: 0.007\n",
      "Iter: 173, Loss: 0.020, NoiseVar: 0.000, SignalVar: 2.14595, Lengthscale: 0.518, Epsilon: 0.007\n",
      "Iter: 174, Loss: 0.020, NoiseVar: 0.000, SignalVar: 2.15036, Lengthscale: 0.518, Epsilon: 0.007\n",
      "Iter: 175, Loss: 0.020, NoiseVar: 0.000, SignalVar: 2.15473, Lengthscale: 0.518, Epsilon: 0.007\n",
      "Iter: 176, Loss: 0.020, NoiseVar: 0.000, SignalVar: 2.15907, Lengthscale: 0.519, Epsilon: 0.007\n",
      "Iter: 177, Loss: 0.020, NoiseVar: 0.000, SignalVar: 2.16338, Lengthscale: 0.519, Epsilon: 0.007\n",
      "Iter: 178, Loss: 0.020, NoiseVar: 0.000, SignalVar: 2.16766, Lengthscale: 0.519, Epsilon: 0.007\n",
      "Iter: 179, Loss: 0.020, NoiseVar: 0.000, SignalVar: 2.17191, Lengthscale: 0.520, Epsilon: 0.007\n",
      "Iter: 180, Loss: 0.020, NoiseVar: 0.000, SignalVar: 2.17614, Lengthscale: 0.520, Epsilon: 0.007\n",
      "Iter: 181, Loss: 0.020, NoiseVar: 0.000, SignalVar: 2.18034, Lengthscale: 0.520, Epsilon: 0.007\n",
      "Iter: 182, Loss: 0.020, NoiseVar: 0.000, SignalVar: 2.18453, Lengthscale: 0.521, Epsilon: 0.007\n",
      "Iter: 183, Loss: 0.020, NoiseVar: 0.000, SignalVar: 2.18869, Lengthscale: 0.521, Epsilon: 0.007\n",
      "Iter: 184, Loss: 0.020, NoiseVar: 0.000, SignalVar: 2.19284, Lengthscale: 0.521, Epsilon: 0.007\n",
      "Iter: 185, Loss: 0.020, NoiseVar: 0.000, SignalVar: 2.19696, Lengthscale: 0.522, Epsilon: 0.007\n",
      "Iter: 186, Loss: 0.020, NoiseVar: 0.000, SignalVar: 2.20106, Lengthscale: 0.522, Epsilon: 0.007\n",
      "Iter: 187, Loss: 0.020, NoiseVar: 0.000, SignalVar: 2.20514, Lengthscale: 0.522, Epsilon: 0.007\n",
      "Iter: 188, Loss: 0.020, NoiseVar: 0.000, SignalVar: 2.20919, Lengthscale: 0.522, Epsilon: 0.007\n",
      "Iter: 189, Loss: 0.020, NoiseVar: 0.000, SignalVar: 2.21322, Lengthscale: 0.523, Epsilon: 0.007\n",
      "Iter: 190, Loss: 0.020, NoiseVar: 0.000, SignalVar: 2.21722, Lengthscale: 0.523, Epsilon: 0.007\n",
      "Iter: 191, Loss: 0.020, NoiseVar: 0.000, SignalVar: 2.22119, Lengthscale: 0.523, Epsilon: 0.007\n",
      "Iter: 192, Loss: 0.020, NoiseVar: 0.000, SignalVar: 2.22514, Lengthscale: 0.524, Epsilon: 0.007\n",
      "Iter: 193, Loss: 0.020, NoiseVar: 0.000, SignalVar: 2.22906, Lengthscale: 0.524, Epsilon: 0.007\n",
      "Iter: 194, Loss: 0.020, NoiseVar: 0.000, SignalVar: 2.23296, Lengthscale: 0.524, Epsilon: 0.007\n",
      "Iter: 195, Loss: 0.020, NoiseVar: 0.000, SignalVar: 2.23683, Lengthscale: 0.524, Epsilon: 0.007\n",
      "Iter: 196, Loss: 0.020, NoiseVar: 0.000, SignalVar: 2.24069, Lengthscale: 0.525, Epsilon: 0.007\n",
      "Iter: 197, Loss: 0.020, NoiseVar: 0.000, SignalVar: 2.24452, Lengthscale: 0.525, Epsilon: 0.007\n",
      "Iter: 198, Loss: 0.020, NoiseVar: 0.000, SignalVar: 2.24833, Lengthscale: 0.525, Epsilon: 0.007\n",
      "Iter: 199, Loss: 0.020, NoiseVar: 0.000, SignalVar: 2.25213, Lengthscale: 0.526, Epsilon: 0.007\n",
      "NoiseVar:  5.147473984834505e-06 SignalVar:  2.25590181350708 Lengthscale:  0.5258535742759705 Epsilon 0.007034193724393845\n"
     ]
    }
   ],
   "source": [
    "model.vanilla_train(lr=1e-1, iter=200, verbose=True)\n",
    "print(\"NoiseVar: \", likelihood.noise.item(), \"SignalVar: \", kernel.outputscale.item(), \n",
    "      \"Lengthscale: \", kernel.base_kernel.lengthscale.item(), \"Epsilon\", kernel.base_kernel.epsilon.item())"
   ]
  },
  {
   "cell_type": "markdown",
   "id": "b1f6c09c-4083-4624-a2b5-ea43358de853",
   "metadata": {},
   "source": [
    "### Save/Load Model"
   ]
  },
  {
   "cell_type": "code",
   "execution_count": 12,
   "id": "cdffbe38-5d2c-4fa5-a049-debbca0d132e",
   "metadata": {},
   "outputs": [],
   "source": [
    "torch.save(model.state_dict(), '../outputs/models/2d_manifold.pth')\n",
    "# state_dict = torch.load('../outputs/models/2d_manifold.pth')\n",
    "# model.load_state_dict(state_dict)"
   ]
  },
  {
   "cell_type": "markdown",
   "id": "0ab36075",
   "metadata": {},
   "source": [
    "## Evaluation"
   ]
  },
  {
   "cell_type": "raw",
   "id": "9ed22094-f656-4e2e-893f-1e4a9fc95420",
   "metadata": {},
   "source": [
    "kernel.base_kernel.method = \"exact\"\n",
    "kernel.base_kernel.modes = 20\n",
    "kernel.base_kernel.neighbors = 10\n",
    "kernel.base_kernel.generate_eigenpairs()"
   ]
  },
  {
   "cell_type": "raw",
   "id": "16e702c3-2469-4fb5-adcf-9491ec7581dd",
   "metadata": {},
   "source": [
    "fig = plt.figure()\n",
    "ax = fig.add_subplot(111)\n",
    "ax.plot(np.arange(vec.shape[0]), vec)"
   ]
  },
  {
   "cell_type": "raw",
   "id": "36a38a9f-3f3f-4e92-94da-b99ba58640c8",
   "metadata": {
    "scrolled": true
   },
   "source": [
    "mlab.init_notebook()\n",
    "vec = kernel.base_kernel.eigenvectors[:,1].cpu().numpy()\n",
    "x = sampled_x.cpu().numpy()\n",
    "# mlab.figure(size=(1920, 1360), fgcolor=(0, 0, 0), bgcolor = (1,1,1))\n",
    "mlab.triangular_mesh(x[:, 0], x[:, 1], x[:, 2], faces, scalars=vec)\n",
    "mlab.colorbar(orientation='vertical')\n",
    "# cbar.data_range = (vmin, vmax)\n",
    "# mlab.points3d(train_x[:,0], train_x[:,1], train_x[:,2], **v_options)\n",
    "# mlab.view(0.0,180.0,0.5139171204775793)\n",
    "# mlab.savefig('../outputs/2d_mean_manifold.png')"
   ]
  },
  {
   "cell_type": "code",
   "execution_count": 13,
   "id": "48b2928a",
   "metadata": {},
   "outputs": [],
   "source": [
    "%%capture\n",
    "likelihood.eval()\n",
    "model.eval()\n",
    "\n",
    "with torch.no_grad(), gpytorch.settings.fast_pred_var(), gpytorch.settings.cg_tolerance(10000):\n",
    "    model.posterior(test_x, noise=False)\n",
    "    bump_scale = 1-kernel.base_kernel.bump_function(test_x)"
   ]
  },
  {
   "cell_type": "raw",
   "id": "83321a96-8bdb-4d33-b0fe-1913aad3f1ed",
   "metadata": {},
   "source": [
    "%%capture\n",
    "# kernel.base_kernel.neighbors = 10\n",
    "# kernel.outputscale = 0.54139\n",
    "likelihood.eval()\n",
    "model.eval()"
   ]
  },
  {
   "cell_type": "raw",
   "id": "798770ca-a9a0-4bb3-9868-d774fbaec0cc",
   "metadata": {
    "scrolled": true
   },
   "source": [
    "rmse = []\n",
    "nll = []\n",
    "with torch.no_grad(), gpytorch.settings.fast_pred_var(), gpytorch.settings.cg_tolerance(10000):\n",
    "    for m in range(10,2500,10):\n",
    "        print(m)\n",
    "        kernel.base_kernel.modes = m\n",
    "        kernel.base_kernel.generate_eigenpairs()\n",
    "        model.posterior(test_x, noise=True)\n",
    "        error = test_y - model.mean(\"manifold\")\n",
    "        covar = model.posterior_manifold.lazy_covariance_matrix.evaluate_kernel()\n",
    "        inv_quad, logdet = covar.inv_quad_logdet(inv_quad_rhs=error.unsqueeze(-1), logdet=True)\n",
    "        rmse.append((error.square().mean()).sqrt().item())\n",
    "        nll.append((0.5 * sum([inv_quad, logdet, error.size(-1)* np.log(2 * np.pi)])/error.size(-1)).item())\n",
    "        model._clear_cache()"
   ]
  },
  {
   "cell_type": "raw",
   "id": "276c22be-4794-4922-bfc2-2687b189cfc0",
   "metadata": {},
   "source": [
    "np.array(rmse)"
   ]
  },
  {
   "cell_type": "raw",
   "id": "ffcbe776-7d13-43c2-ab8f-5df2dba1d580",
   "metadata": {},
   "source": [
    "np.array(nll)"
   ]
  },
  {
   "cell_type": "markdown",
   "id": "52cb87f5-3d7c-4d50-9779-8b27b6645a52",
   "metadata": {},
   "source": [
    "### Vanilla"
   ]
  },
  {
   "cell_type": "code",
   "execution_count": 14,
   "id": "752b1afb-3934-4685-8c17-341eb013444f",
   "metadata": {},
   "outputs": [
    {
     "name": "stdout",
     "output_type": "stream",
     "text": [
      "RMSE:  tensor(0.2733, device='cuda:0')\n",
      "NLL:  tensor(-0.7858, device='cuda:0')\n"
     ]
    }
   ],
   "source": [
    "with torch.no_grad(), gpytorch.settings.fast_pred_var(), gpytorch.settings.cg_tolerance(10000):\n",
    "    error = test_y - model.mean(\"vanilla\")\n",
    "    covar = model.posterior_vanilla.lazy_covariance_matrix.evaluate_kernel()\n",
    "    inv_quad, logdet = covar.inv_quad_logdet(inv_quad_rhs=error.unsqueeze(-1), logdet=True)\n",
    "    rmse = (error.square().mean()).sqrt()\n",
    "    nll = 0.5 * sum([inv_quad, logdet, error.size(-1)* np.log(2 * np.pi)])/error.size(-1)\n",
    "    model._clear_cache()\n",
    "print(\"RMSE: \", rmse)\n",
    "print(\"NLL: \", nll)"
   ]
  },
  {
   "cell_type": "markdown",
   "id": "2be8e3ff-769c-4d50-9da5-67a0bc6a153f",
   "metadata": {},
   "source": [
    "### Manifold"
   ]
  },
  {
   "cell_type": "code",
   "execution_count": 15,
   "id": "3d620d5c-9ca2-48a2-91fb-a69b87661d42",
   "metadata": {},
   "outputs": [
    {
     "name": "stdout",
     "output_type": "stream",
     "text": [
      "RMSE:  tensor(0.2472, device='cuda:0')\n",
      "NLL:  tensor(-1.0195, device='cuda:0')\n"
     ]
    }
   ],
   "source": [
    "with torch.no_grad(), gpytorch.settings.fast_pred_var(), gpytorch.settings.cg_tolerance(10000):\n",
    "    error = test_y - model.mean(\"manifold\")\n",
    "    covar = model.posterior_manifold.lazy_covariance_matrix.evaluate_kernel()\n",
    "    inv_quad, logdet = covar.inv_quad_logdet(inv_quad_rhs=error.unsqueeze(-1), logdet=True)\n",
    "    rmse = (error.square().mean()).sqrt()\n",
    "    nll = 0.5 * sum([inv_quad, logdet, error.size(-1)* np.log(2 * np.pi)])/error.size(-1)\n",
    "    model._clear_cache()\n",
    "print(\"RMSE: \", rmse)\n",
    "print(\"NLL: \", nll)"
   ]
  },
  {
   "cell_type": "markdown",
   "id": "f4498eab-ba7e-4047-8c40-ffa108eed4e6",
   "metadata": {},
   "source": [
    "### Hybrid"
   ]
  },
  {
   "cell_type": "code",
   "execution_count": 16,
   "id": "f2ced758-b909-4d30-861f-1e5de3c836a6",
   "metadata": {},
   "outputs": [
    {
     "name": "stdout",
     "output_type": "stream",
     "text": [
      "RMSE:  tensor(0.2435, device='cuda:0')\n",
      "NLL:  tensor(-1.3117, device='cuda:0')\n"
     ]
    }
   ],
   "source": [
    "with gpytorch.settings.fast_pred_var(), gpytorch.settings.cg_tolerance(10000):\n",
    "    error = test_y - model.mean(\"hybrid\")\n",
    "    covar = model.posterior_manifold.lazy_covariance_matrix.evaluate_kernel() \n",
    "    + torch.outer(bump_scale,bump_scale) * model.posterior_vanilla.lazy_covariance_matrix.evaluate_kernel()\n",
    "    inv_quad, logdet = covar.inv_quad_logdet(inv_quad_rhs=error.unsqueeze(-1), logdet=True)\n",
    "    rmse = (error.square().mean()).sqrt()\n",
    "    nll = 0.5 * sum([inv_quad, logdet, error.size(-1)* np.log(2 * np.pi)])/error.size(-1)\n",
    "    model._clear_cache()\n",
    "print(\"RMSE: \", rmse)\n",
    "print(\"NLL: \", nll)"
   ]
  },
  {
   "cell_type": "markdown",
   "id": "6f992679",
   "metadata": {},
   "source": [
    "## Plot"
   ]
  },
  {
   "cell_type": "code",
   "execution_count": 17,
   "id": "8f4381ee",
   "metadata": {
    "scrolled": true
   },
   "outputs": [],
   "source": [
    "%%capture\n",
    "with torch.no_grad(), gpytorch.settings.fast_pred_var(), gpytorch.settings.cg_tolerance(10000):\n",
    "    model.posterior(noisy_x, noise=True)\n",
    "    mean_manifold = model.mean(\"hybrid\").cpu().numpy()\n",
    "    mean_vanilla = model.mean(\"vanilla\").cpu().numpy()\n",
    "    stddev_manifold = model.stddev(\"hybrid\").cpu().numpy()\n",
    "    stddev_vanilla = model.stddev(\"vanilla\").cpu().numpy()"
   ]
  },
  {
   "cell_type": "code",
   "execution_count": 18,
   "id": "4f08dd97-c448-4c26-a1df-268e10188528",
   "metadata": {},
   "outputs": [],
   "source": [
    "sampled_x = sampled_x.cpu().numpy()\n",
    "sampled_y = sampled_y.cpu().numpy()\n",
    "train_x = train_x.cpu().numpy()"
   ]
  },
  {
   "cell_type": "raw",
   "id": "015c629c-b32e-42f4-a358-3b073bbc847d",
   "metadata": {},
   "source": [
    "%%capture\n",
    "%%bash\n",
    "jupyter nbextension install --py mayavi --user"
   ]
  },
  {
   "cell_type": "code",
   "execution_count": 19,
   "id": "ae7fd1c7",
   "metadata": {
    "scrolled": true
   },
   "outputs": [],
   "source": [
    "%%capture\n",
    "mlab.init_notebook()\n",
    "v_options = {'mode': 'sphere','scale_factor': 3e-3, 'color': (0, 0, 0)}\n",
    "vmin, vmax = -2.4, 1.8"
   ]
  },
  {
   "cell_type": "markdown",
   "id": "f5a85a6b",
   "metadata": {},
   "source": [
    "### Ground Truth"
   ]
  },
  {
   "cell_type": "code",
   "execution_count": 20,
   "id": "8a054797",
   "metadata": {},
   "outputs": [],
   "source": [
    "mlab.figure(size=(1920, 1360), fgcolor=(0, 0, 0), bgcolor = (1,1,1))\n",
    "mlab.triangular_mesh(sampled_x[:, 0], sampled_x[:, 1], sampled_x[:, 2], faces, scalars=sampled_y)\n",
    "cbar = mlab.colorbar(orientation='vertical')\n",
    "cbar.data_range = (vmin, vmax)\n",
    "mlab.points3d(train_x[:,0], train_x[:,1], train_x[:,2], **v_options)\n",
    "# mlab.points3d(test_x[:,0], test_x[:,1], test_x[:,2], **v_options)\n",
    "mlab.view(0.0,180.0,0.5139171204775793)\n",
    "mlab.savefig('../outputs/2d_ground_truth.png')"
   ]
  },
  {
   "cell_type": "markdown",
   "id": "ce632461",
   "metadata": {},
   "source": [
    "### Posterior Mean Manifold"
   ]
  },
  {
   "cell_type": "code",
   "execution_count": 21,
   "id": "e833567e",
   "metadata": {},
   "outputs": [],
   "source": [
    "mlab.figure(size=(1920, 1360), fgcolor=(0, 0, 0), bgcolor = (1,1,1))\n",
    "mlab.triangular_mesh(sampled_x[:, 0], sampled_x[:, 1], sampled_x[:, 2], faces, scalars=mean_manifold)\n",
    "cbar = mlab.colorbar(orientation='vertical')\n",
    "cbar.data_range = (vmin, vmax)\n",
    "mlab.points3d(train_x[:,0], train_x[:,1], train_x[:,2], **v_options)\n",
    "mlab.view(0.0,180.0,0.5139171204775793)\n",
    "mlab.savefig('../outputs/2d_mean_manifold.png')"
   ]
  },
  {
   "cell_type": "markdown",
   "id": "6b6785b6-a529-4573-a4ec-b34f39af7a7d",
   "metadata": {},
   "source": [
    "### Posterior Mean Vanilla"
   ]
  },
  {
   "cell_type": "code",
   "execution_count": 22,
   "id": "d81d2074-6a26-4956-af55-4c3a0b7a21e1",
   "metadata": {},
   "outputs": [],
   "source": [
    "mlab.figure(size=(1920, 1360), fgcolor=(0, 0, 0), bgcolor = (1,1,1))\n",
    "mlab.triangular_mesh(sampled_x[:, 0], sampled_x[:, 1], sampled_x[:, 2], faces, scalars=mean_vanilla)\n",
    "cbar = mlab.colorbar(orientation='vertical')\n",
    "cbar.data_range = (vmin, vmax)\n",
    "mlab.points3d(train_x[:,0], train_x[:,1], train_x[:,2], **v_options)\n",
    "mlab.view(0.0,180.0,0.5139171204775793)\n",
    "mlab.savefig('../outputs/2d_mean_vanilla.png')"
   ]
  },
  {
   "cell_type": "markdown",
   "id": "2fcb8ebf",
   "metadata": {},
   "source": [
    "### Posterior Standard Deviation Manifold"
   ]
  },
  {
   "cell_type": "code",
   "execution_count": 23,
   "id": "591b8af9",
   "metadata": {},
   "outputs": [],
   "source": [
    "mlab.figure(size=(1920, 1360), fgcolor=(0, 0, 0), bgcolor = (1,1,1))\n",
    "mlab.triangular_mesh(sampled_x[:, 0], sampled_x[:, 1], sampled_x[:, 2], faces, scalars=stddev_manifold)\n",
    "mlab.colorbar(orientation='vertical')\n",
    "mlab.points3d(train_x[:,0], train_x[:,1], train_x[:,2], **v_options)\n",
    "mlab.view(0.0,180.0,0.5139171204775793)\n",
    "mlab.savefig('../outputs/2d_std_manifold.png')"
   ]
  },
  {
   "cell_type": "markdown",
   "id": "ff699b5a-9b66-4481-85d2-d320189ef63e",
   "metadata": {},
   "source": [
    "### Posterior Standard Deviation Vanilla"
   ]
  },
  {
   "cell_type": "code",
   "execution_count": 24,
   "id": "34ffb666-5dc3-4c94-8979-ede9532f5681",
   "metadata": {},
   "outputs": [],
   "source": [
    "mlab.figure(size=(1920, 1360), fgcolor=(0, 0, 0), bgcolor = (1,1,1))\n",
    "mlab.triangular_mesh(sampled_x[:, 0], sampled_x[:, 1], sampled_x[:, 2], faces, scalars=stddev_vanilla)\n",
    "mlab.colorbar(orientation='vertical')\n",
    "mlab.points3d(train_x[:,0], train_x[:,1], train_x[:,2], **v_options)\n",
    "mlab.view(0.0,180.0,0.5139171204775793)\n",
    "mlab.savefig('../outputs/2d_std_vanilla.png')"
   ]
  },
  {
   "cell_type": "code",
   "execution_count": null,
   "id": "40e544ff-ae47-4304-a829-3220fedc480f",
   "metadata": {},
   "outputs": [],
   "source": []
  }
 ],
 "metadata": {
  "kernelspec": {
   "display_name": "Python 3 (ipykernel)",
   "language": "python",
   "name": "python3"
  },
  "language_info": {
   "codemirror_mode": {
    "name": "ipython",
    "version": 3
   },
   "file_extension": ".py",
   "mimetype": "text/x-python",
   "name": "python",
   "nbconvert_exporter": "python",
   "pygments_lexer": "ipython3",
   "version": "3.10.12"
  },
  "vscode": {
   "interpreter": {
    "hash": "916dbcbb3f70747c44a77c7bcd40155683ae19c65e1c03b4aa3499c5328201f1"
   }
  }
 },
 "nbformat": 4,
 "nbformat_minor": 5
}
