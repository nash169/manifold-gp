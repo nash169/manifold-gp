{
 "cells": [
  {
   "cell_type": "markdown",
   "id": "5e276dbe",
   "metadata": {},
   "source": [
    "# Manifold GP Semi-Supervised Learning via Precision Matrix on 2D Manifold"
   ]
  },
  {
   "cell_type": "markdown",
   "id": "a36444a5",
   "metadata": {},
   "source": [
    "## Preamble"
   ]
  },
  {
   "cell_type": "code",
   "execution_count": 1,
   "id": "2b4a0b01",
   "metadata": {},
   "outputs": [],
   "source": [
    "import numpy as np\n",
    "import torch\n",
    "import gpytorch\n",
    "\n",
    "from mayavi import mlab\n",
    "from importlib.resources import files\n",
    "\n",
    "from manifold_gp.kernels.riemann_matern_kernel import RiemannMaternKernel\n",
    "from manifold_gp.models.riemann_gp import RiemannGP\n",
    "from manifold_gp.utils.generate_truth import groundtruth_from_mesh"
   ]
  },
  {
   "cell_type": "markdown",
   "id": "75701656",
   "metadata": {},
   "source": [
    "## Dataset Preprocessing"
   ]
  },
  {
   "cell_type": "markdown",
   "id": "7d0dc8ac-e528-42d1-b506-13150c16e46e",
   "metadata": {},
   "source": [
    "### Load"
   ]
  },
  {
   "cell_type": "code",
   "execution_count": 2,
   "id": "b1b30388-be42-4b25-93c9-f41ccf349085",
   "metadata": {},
   "outputs": [],
   "source": [
    "data_path = files('manifold_gp.data').joinpath('dragon10k.stl')\n",
    "nodes, faces, truth = groundtruth_from_mesh(data_path)\n",
    "\n",
    "sampled_x = torch.from_numpy(nodes).float()\n",
    "sampled_y = torch.from_numpy(truth).float()\n",
    "(m, n) = sampled_x.shape\n",
    "\n",
    "num_train = 100\n",
    "num_test = 1000\n",
    "normalize_features = False\n",
    "normalize_labels = True"
   ]
  },
  {
   "cell_type": "markdown",
   "id": "93184056",
   "metadata": {},
   "source": [
    "### Noise Features"
   ]
  },
  {
   "cell_type": "code",
   "execution_count": 3,
   "id": "878cd4f8",
   "metadata": {},
   "outputs": [],
   "source": [
    "noise_sampled_x = 0.0\n",
    "noisy_x = sampled_x + noise_sampled_x * torch.randn(m, n)"
   ]
  },
  {
   "cell_type": "markdown",
   "id": "3b810778",
   "metadata": {},
   "source": [
    "### Trainset & Testset"
   ]
  },
  {
   "cell_type": "code",
   "execution_count": 4,
   "id": "8414d8d3",
   "metadata": {},
   "outputs": [],
   "source": [
    "torch.manual_seed(1337)\n",
    "rand_idx = torch.randperm(m)\n",
    "train_idx = rand_idx[:num_train]\n",
    "train_x, train_y = noisy_x[train_idx, :], sampled_y[train_idx]\n",
    "\n",
    "noise_train_y = 0.01\n",
    "train_y += noise_train_y * torch.randn(num_train)\n",
    "\n",
    "test_idx = rand_idx[num_train:num_train+num_test]\n",
    "test_x, test_y = sampled_x[test_idx, :], sampled_y[test_idx]\n",
    "\n",
    "noise_test_y = 0.0\n",
    "test_y += noise_test_y * torch.randn(num_test)\n",
    "\n",
    "if normalize_features:\n",
    "    mu_x, std_x = noisy_x.mean(dim=-2, keepdim=True), train_x.std(dim=-2, keepdim=True) + 1e-6\n",
    "    noisy_x.sub_(mu_x).div_(std_x)\n",
    "    train_x.sub_(mu_x).div_(std_x)\n",
    "    test_x.sub_(mu_x).div_(std_x)\n",
    "    \n",
    "if normalize_labels:\n",
    "    mu_y, std_y = train_y.mean(), train_y.std()\n",
    "    train_y.sub_(mu_y).div_(std_y)\n",
    "    test_y.sub_(mu_y).div_(std_y)\n",
    "    sampled_y.sub_(mu_y).div_(std_y)"
   ]
  },
  {
   "cell_type": "markdown",
   "id": "e58fdb69-016b-4158-b40a-8f2c90519a52",
   "metadata": {},
   "source": [
    "### Move Data to Device"
   ]
  },
  {
   "cell_type": "code",
   "execution_count": 5,
   "id": "60173429-2b01-4db7-8b86-b881265e4009",
   "metadata": {},
   "outputs": [],
   "source": [
    "noisy_x, sampled_y = noisy_x.contiguous(), sampled_y.contiguous()\n",
    "train_x, train_y = train_x.contiguous(), train_y.contiguous()\n",
    "test_x, test_y = test_x.contiguous(), test_y.contiguous()\n",
    "\n",
    "use_cuda = torch.cuda.is_available()\n",
    "device = torch.device(\"cuda\" if use_cuda else \"cpu\")\n",
    "noisy_x = noisy_x.to(device)\n",
    "train_x, train_y = train_x.to(device), train_y.to(device)\n",
    "test_x, test_y = test_x.to(device), test_y.to(device)\n",
    "\n",
    "if normalize_features:\n",
    "    mu_x, std_x = mu_x.to(device), std_x.to(device)"
   ]
  },
  {
   "cell_type": "markdown",
   "id": "d3441ad2",
   "metadata": {},
   "source": [
    "## Model"
   ]
  },
  {
   "cell_type": "code",
   "execution_count": 6,
   "id": "15e47b46",
   "metadata": {},
   "outputs": [],
   "source": [
    "%%capture\n",
    "likelihood = gpytorch.likelihoods.GaussianLikelihood(\n",
    "    noise_constraint=gpytorch.constraints.GreaterThan(1e-8),\n",
    "    noise_prior=None  # NormalPrior(torch.tensor([0.0]).to(device),  torch.tensor([1/9]).sqrt().to(device))\n",
    ")\n",
    "\n",
    "kernel = gpytorch.kernels.ScaleKernel(\n",
    "    RiemannMaternKernel(\n",
    "        nu=2,\n",
    "        nodes=noisy_x,\n",
    "        neighbors=100,\n",
    "        operator=\"randomwalk\",\n",
    "        method=\"exact\",\n",
    "        modes=50,\n",
    "        ball_scale=3.0,\n",
    "        prior_bandwidth=False,\n",
    "    ),\n",
    "    outputscale_prior=None  # NormalPrior(torch.tensor([1.0]).to(device),  torch.tensor([1/9]).sqrt().to(device))\n",
    ")\n",
    "\n",
    "model = RiemannGP(train_x, train_y, likelihood, kernel, train_idx).to(device)"
   ]
  },
  {
   "cell_type": "markdown",
   "id": "b57d3ead",
   "metadata": {},
   "source": [
    "## Train"
   ]
  },
  {
   "cell_type": "code",
   "execution_count": 7,
   "id": "473d4113",
   "metadata": {},
   "outputs": [],
   "source": [
    "%%capture\n",
    "hypers = {\n",
    "    'likelihood.noise_covar.noise': 1e-2,\n",
    "    'covar_module.base_kernel.epsilon': 1.0,\n",
    "    'covar_module.base_kernel.lengthscale': 1.0,\n",
    "    'covar_module.outputscale': 1.0,\n",
    "}\n",
    "model.initialize(**hypers)"
   ]
  },
  {
   "cell_type": "code",
   "execution_count": 8,
   "id": "ea2acb07",
   "metadata": {},
   "outputs": [
    {
     "name": "stdout",
     "output_type": "stream",
     "text": [
      "Iter: 0, Loss: 140.534, NoiseVar: 0.010, SignalVar: 0.21929, Lengthscale: 1.000, Epsilon: 1.000\n",
      "Iter: 1, Loss: 143.252, NoiseVar: 0.009, SignalVar: 0.20037, Lengthscale: 0.938, Epsilon: 0.938\n",
      "Iter: 2, Loss: 140.655, NoiseVar: 0.010, SignalVar: 0.21324, Lengthscale: 0.981, Epsilon: 0.976\n",
      "Iter: 3, Loss: 140.999, NoiseVar: 0.010, SignalVar: 0.22615, Lengthscale: 1.024, Epsilon: 1.011\n",
      "Iter: 4, Loss: 141.926, NoiseVar: 0.011, SignalVar: 0.23253, Lengthscale: 1.047, Epsilon: 1.022\n",
      "Iter: 5, Loss: 141.820, NoiseVar: 0.011, SignalVar: 0.23190, Lengthscale: 1.048, Epsilon: 1.010\n",
      "Iter: 6, Loss: 141.075, NoiseVar: 0.010, SignalVar: 0.22689, Lengthscale: 1.035, Epsilon: 0.985\n",
      "Iter: 7, Loss: 140.487, NoiseVar: 0.010, SignalVar: 0.21992, Lengthscale: 1.016, Epsilon: 0.954\n",
      "Iter: 8, Loss: 140.537, NoiseVar: 0.010, SignalVar: 0.21314, Lengthscale: 0.998, Epsilon: 0.924\n",
      "Iter: 9, Loss: 140.990, NoiseVar: 0.010, SignalVar: 0.20857, Lengthscale: 0.986, Epsilon: 0.899\n",
      "Iter: 10, Loss: 141.156, NoiseVar: 0.010, SignalVar: 0.20738, Lengthscale: 0.985, Epsilon: 0.885\n",
      "Iter: 11, Loss: 140.847, NoiseVar: 0.010, SignalVar: 0.20927, Lengthscale: 0.995, Epsilon: 0.883\n",
      "Iter: 12, Loss: 140.451, NoiseVar: 0.010, SignalVar: 0.21318, Lengthscale: 1.010, Epsilon: 0.886\n",
      "Iter: 13, Loss: 140.318, NoiseVar: 0.010, SignalVar: 0.21782, Lengthscale: 1.028, Epsilon: 0.892\n",
      "Iter: 14, Loss: 140.452, NoiseVar: 0.010, SignalVar: 0.22188, Lengthscale: 1.045, Epsilon: 0.894\n",
      "Iter: 15, Loss: 140.612, NoiseVar: 0.010, SignalVar: 0.22436, Lengthscale: 1.056, Epsilon: 0.889\n",
      "Iter: 16, Loss: 140.602, NoiseVar: 0.010, SignalVar: 0.22480, Lengthscale: 1.062, Epsilon: 0.877\n",
      "Iter: 17, Loss: 140.415, NoiseVar: 0.010, SignalVar: 0.22338, Lengthscale: 1.062, Epsilon: 0.858\n",
      "Iter: 18, Loss: 140.193, NoiseVar: 0.010, SignalVar: 0.22070, Lengthscale: 1.059, Epsilon: 0.835\n",
      "Iter: 19, Loss: 140.092, NoiseVar: 0.010, SignalVar: 0.21761, Lengthscale: 1.054, Epsilon: 0.810\n",
      "Iter: 20, Loss: 140.142, NoiseVar: 0.010, SignalVar: 0.21506, Lengthscale: 1.052, Epsilon: 0.786\n",
      "Iter: 21, Loss: 140.216, NoiseVar: 0.010, SignalVar: 0.21383, Lengthscale: 1.053, Epsilon: 0.766\n",
      "Iter: 22, Loss: 140.165, NoiseVar: 0.009, SignalVar: 0.21432, Lengthscale: 1.060, Epsilon: 0.753\n",
      "Iter: 23, Loss: 139.991, NoiseVar: 0.009, SignalVar: 0.21639, Lengthscale: 1.071, Epsilon: 0.745\n",
      "Iter: 24, Loss: 139.817, NoiseVar: 0.009, SignalVar: 0.21950, Lengthscale: 1.086, Epsilon: 0.741\n",
      "Iter: 25, Loss: 139.731, NoiseVar: 0.010, SignalVar: 0.22289, Lengthscale: 1.102, Epsilon: 0.736\n",
      "Iter: 26, Loss: 139.699, NoiseVar: 0.010, SignalVar: 0.22581, Lengthscale: 1.117, Epsilon: 0.727\n",
      "Iter: 27, Loss: 139.623, NoiseVar: 0.009, SignalVar: 0.22778, Lengthscale: 1.130, Epsilon: 0.713\n",
      "Iter: 28, Loss: 139.458, NoiseVar: 0.009, SignalVar: 0.22866, Lengthscale: 1.141, Epsilon: 0.694\n",
      "Iter: 29, Loss: 139.245, NoiseVar: 0.009, SignalVar: 0.22874, Lengthscale: 1.150, Epsilon: 0.671\n",
      "Iter: 30, Loss: 139.058, NoiseVar: 0.009, SignalVar: 0.22864, Lengthscale: 1.160, Epsilon: 0.645\n",
      "Iter: 31, Loss: 138.917, NoiseVar: 0.009, SignalVar: 0.22911, Lengthscale: 1.172, Epsilon: 0.621\n",
      "Iter: 32, Loss: 138.746, NoiseVar: 0.009, SignalVar: 0.23085, Lengthscale: 1.187, Epsilon: 0.600\n",
      "Iter: 33, Loss: 138.457, NoiseVar: 0.009, SignalVar: 0.23420, Lengthscale: 1.207, Epsilon: 0.585\n",
      "Iter: 34, Loss: 138.067, NoiseVar: 0.009, SignalVar: 0.23902, Lengthscale: 1.232, Epsilon: 0.573\n",
      "Iter: 35, Loss: 137.641, NoiseVar: 0.008, SignalVar: 0.24483, Lengthscale: 1.260, Epsilon: 0.562\n",
      "Iter: 36, Loss: 137.163, NoiseVar: 0.008, SignalVar: 0.25103, Lengthscale: 1.290, Epsilon: 0.548\n",
      "Iter: 37, Loss: 136.539, NoiseVar: 0.008, SignalVar: 0.25722, Lengthscale: 1.321, Epsilon: 0.529\n",
      "Iter: 38, Loss: 135.699, NoiseVar: 0.008, SignalVar: 0.26348, Lengthscale: 1.356, Epsilon: 0.506\n",
      "Iter: 39, Loss: 134.615, NoiseVar: 0.008, SignalVar: 0.27040, Lengthscale: 1.393, Epsilon: 0.480\n",
      "Iter: 40, Loss: 133.193, NoiseVar: 0.008, SignalVar: 0.27897, Lengthscale: 1.437, Epsilon: 0.453\n",
      "Iter: 41, Loss: 131.180, NoiseVar: 0.008, SignalVar: 0.29021, Lengthscale: 1.489, Epsilon: 0.427\n",
      "Iter: 42, Loss: 128.176, NoiseVar: 0.007, SignalVar: 0.30489, Lengthscale: 1.550, Epsilon: 0.401\n",
      "Iter: 43, Loss: 123.581, NoiseVar: 0.007, SignalVar: 0.32346, Lengthscale: 1.620, Epsilon: 0.374\n",
      "Iter: 44, Loss: 116.459, NoiseVar: 0.007, SignalVar: 0.34623, Lengthscale: 1.702, Epsilon: 0.343\n",
      "Iter: 45, Loss: 105.930, NoiseVar: 0.006, SignalVar: 0.37350, Lengthscale: 1.794, Epsilon: 0.312\n",
      "Iter: 46, Loss: 92.046, NoiseVar: 0.006, SignalVar: 0.40524, Lengthscale: 1.896, Epsilon: 0.281\n",
      "Iter: 47, Loss: 76.006, NoiseVar: 0.005, SignalVar: 0.44103, Lengthscale: 2.007, Epsilon: 0.252\n",
      "Iter: 48, Loss: 59.776, NoiseVar: 0.005, SignalVar: 0.48022, Lengthscale: 2.124, Epsilon: 0.224\n",
      "Iter: 49, Loss: 45.841, NoiseVar: 0.004, SignalVar: 0.52274, Lengthscale: 2.247, Epsilon: 0.198\n",
      "Iter: 50, Loss: 37.210, NoiseVar: 0.004, SignalVar: 0.56999, Lengthscale: 2.373, Epsilon: 0.174\n",
      "Iter: 51, Loss: 35.443, NoiseVar: 0.003, SignalVar: 0.62453, Lengthscale: 2.501, Epsilon: 0.155\n",
      "Iter: 52, Loss: 34.020, NoiseVar: 0.003, SignalVar: 0.68766, Lengthscale: 2.628, Epsilon: 0.146\n",
      "Iter: 53, Loss: 28.284, NoiseVar: 0.003, SignalVar: 0.75934, Lengthscale: 2.754, Epsilon: 0.145\n",
      "Iter: 54, Loss: 22.143, NoiseVar: 0.002, SignalVar: 0.83852, Lengthscale: 2.875, Epsilon: 0.148\n",
      "Iter: 55, Loss: 18.857, NoiseVar: 0.002, SignalVar: 0.92181, Lengthscale: 2.992, Epsilon: 0.153\n",
      "Iter: 56, Loss: 18.348, NoiseVar: 0.002, SignalVar: 1.00408, Lengthscale: 3.103, Epsilon: 0.157\n",
      "Iter: 57, Loss: 18.776, NoiseVar: 0.002, SignalVar: 1.08036, Lengthscale: 3.207, Epsilon: 0.159\n",
      "Iter: 58, Loss: 18.601, NoiseVar: 0.002, SignalVar: 1.14746, Lengthscale: 3.304, Epsilon: 0.159\n",
      "Iter: 59, Loss: 17.360, NoiseVar: 0.001, SignalVar: 1.20431, Lengthscale: 3.395, Epsilon: 0.155\n",
      "Iter: 60, Loss: 15.468, NoiseVar: 0.001, SignalVar: 1.25163, Lengthscale: 3.479, Epsilon: 0.149\n",
      "Iter: 61, Loss: 13.787, NoiseVar: 0.001, SignalVar: 1.29149, Lengthscale: 3.558, Epsilon: 0.143\n",
      "Iter: 62, Loss: 13.106, NoiseVar: 0.001, SignalVar: 1.32696, Lengthscale: 3.631, Epsilon: 0.136\n",
      "Iter: 63, Loss: 13.499, NoiseVar: 0.001, SignalVar: 1.36162, Lengthscale: 3.699, Epsilon: 0.131\n",
      "Iter: 64, Loss: 14.038, NoiseVar: 0.001, SignalVar: 1.39864, Lengthscale: 3.763, Epsilon: 0.127\n",
      "Iter: 65, Loss: 13.739, NoiseVar: 0.001, SignalVar: 1.43968, Lengthscale: 3.823, Epsilon: 0.126\n",
      "Iter: 66, Loss: 12.718, NoiseVar: 0.001, SignalVar: 1.48430, Lengthscale: 3.878, Epsilon: 0.128\n",
      "Iter: 67, Loss: 11.823, NoiseVar: 0.001, SignalVar: 1.53037, Lengthscale: 3.930, Epsilon: 0.130\n",
      "Iter: 68, Loss: 11.582, NoiseVar: 0.001, SignalVar: 1.57508, Lengthscale: 3.979, Epsilon: 0.133\n",
      "Iter: 69, Loss: 11.843, NoiseVar: 0.001, SignalVar: 1.61583, Lengthscale: 4.024, Epsilon: 0.135\n",
      "Iter: 70, Loss: 12.132, NoiseVar: 0.001, SignalVar: 1.65087, Lengthscale: 4.066, Epsilon: 0.136\n",
      "Iter: 71, Loss: 12.094, NoiseVar: 0.000, SignalVar: 1.67950, Lengthscale: 4.105, Epsilon: 0.136\n",
      "Iter: 72, Loss: 11.698, NoiseVar: 0.000, SignalVar: 1.70204, Lengthscale: 4.141, Epsilon: 0.134\n",
      "Iter: 73, Loss: 11.182, NoiseVar: 0.000, SignalVar: 1.71962, Lengthscale: 4.175, Epsilon: 0.132\n",
      "Iter: 74, Loss: 10.850, NoiseVar: 0.000, SignalVar: 1.73400, Lengthscale: 4.207, Epsilon: 0.129\n",
      "Iter: 75, Loss: 10.842, NoiseVar: 0.000, SignalVar: 1.74723, Lengthscale: 4.236, Epsilon: 0.126\n",
      "Iter: 76, Loss: 11.010, NoiseVar: 0.000, SignalVar: 1.76125, Lengthscale: 4.264, Epsilon: 0.124\n",
      "Iter: 77, Loss: 11.065, NoiseVar: 0.000, SignalVar: 1.77736, Lengthscale: 4.290, Epsilon: 0.123\n",
      "Iter: 78, Loss: 10.884, NoiseVar: 0.000, SignalVar: 1.79585, Lengthscale: 4.314, Epsilon: 0.123\n",
      "Iter: 79, Loss: 10.617, NoiseVar: 0.000, SignalVar: 1.81599, Lengthscale: 4.338, Epsilon: 0.124\n",
      "Iter: 80, Loss: 10.473, NoiseVar: 0.000, SignalVar: 1.83641, Lengthscale: 4.360, Epsilon: 0.126\n",
      "Iter: 81, Loss: 10.512, NoiseVar: 0.000, SignalVar: 1.85556, Lengthscale: 4.380, Epsilon: 0.127\n",
      "Iter: 82, Loss: 10.624, NoiseVar: 0.000, SignalVar: 1.87222, Lengthscale: 4.400, Epsilon: 0.128\n",
      "Iter: 83, Loss: 10.663, NoiseVar: 0.000, SignalVar: 1.88569, Lengthscale: 4.418, Epsilon: 0.129\n",
      "Iter: 84, Loss: 10.573, NoiseVar: 0.000, SignalVar: 1.89592, Lengthscale: 4.436, Epsilon: 0.128\n",
      "Iter: 85, Loss: 10.407, NoiseVar: 0.000, SignalVar: 1.90341, Lengthscale: 4.452, Epsilon: 0.127\n",
      "Iter: 86, Loss: 10.272, NoiseVar: 0.000, SignalVar: 1.90913, Lengthscale: 4.468, Epsilon: 0.125\n",
      "Iter: 87, Loss: 10.235, NoiseVar: 0.000, SignalVar: 1.91424, Lengthscale: 4.483, Epsilon: 0.124\n",
      "Iter: 88, Loss: 10.266, NoiseVar: 0.000, SignalVar: 1.91989, Lengthscale: 4.497, Epsilon: 0.123\n",
      "Iter: 89, Loss: 10.282, NoiseVar: 0.000, SignalVar: 1.92685, Lengthscale: 4.511, Epsilon: 0.122\n",
      "Iter: 90, Loss: 10.235, NoiseVar: 0.000, SignalVar: 1.93535, Lengthscale: 4.524, Epsilon: 0.122\n",
      "Iter: 91, Loss: 10.157, NoiseVar: 0.000, SignalVar: 1.94506, Lengthscale: 4.537, Epsilon: 0.123\n",
      "Iter: 92, Loss: 10.111, NoiseVar: 0.000, SignalVar: 1.95522, Lengthscale: 4.550, Epsilon: 0.124\n",
      "Iter: 93, Loss: 10.121, NoiseVar: 0.000, SignalVar: 1.96493, Lengthscale: 4.561, Epsilon: 0.125\n",
      "Iter: 94, Loss: 10.155, NoiseVar: 0.000, SignalVar: 1.97343, Lengthscale: 4.573, Epsilon: 0.125\n",
      "Iter: 95, Loss: 10.164, NoiseVar: 0.000, SignalVar: 1.98027, Lengthscale: 4.584, Epsilon: 0.125\n",
      "Iter: 96, Loss: 10.126, NoiseVar: 0.000, SignalVar: 1.98539, Lengthscale: 4.595, Epsilon: 0.125\n",
      "Iter: 97, Loss: 10.063, NoiseVar: 0.000, SignalVar: 1.98910, Lengthscale: 4.605, Epsilon: 0.124\n",
      "Iter: 98, Loss: 10.013, NoiseVar: 0.000, SignalVar: 1.99199, Lengthscale: 4.616, Epsilon: 0.124\n",
      "Iter: 99, Loss: 9.994, NoiseVar: 0.000, SignalVar: 1.99476, Lengthscale: 4.625, Epsilon: 0.123\n"
     ]
    }
   ],
   "source": [
    "model.manifold_informed_train(lr=1e-1, iter=100, norm_step_size=100, verbose=True)"
   ]
  },
  {
   "cell_type": "markdown",
   "id": "0ab36075",
   "metadata": {},
   "source": [
    "## Model Evaluation"
   ]
  },
  {
   "cell_type": "code",
   "execution_count": 9,
   "id": "48b2928a",
   "metadata": {},
   "outputs": [],
   "source": [
    "%%capture\n",
    "likelihood.eval()\n",
    "model.eval()"
   ]
  },
  {
   "cell_type": "markdown",
   "id": "f92b6239",
   "metadata": {},
   "source": [
    "Getting faster predictive distributions using [LOVE](https://arxiv.org/abs/1803.06058). We compute the **mean**, the **standard deviation** and one **posterior sample**. In addition we evaluate the kernel at the first point of our dataset."
   ]
  },
  {
   "cell_type": "code",
   "execution_count": 10,
   "id": "8f4381ee",
   "metadata": {
    "scrolled": true
   },
   "outputs": [],
   "source": [
    "%%capture\n",
    "with torch.no_grad(), gpytorch.settings.fast_pred_var():\n",
    "    preds = likelihood(model(noisy_x))\n",
    "    mean = preds.mean\n",
    "    std = preds.stddev\n",
    "    posterior_sample = preds.sample()\n",
    "    # kernel_eval = kernel(sampled_x[0, :].unsqueeze(0), sampled_x).evaluate().squeeze()\n",
    "    \n",
    "    # Bring data to cpu\n",
    "    sampled_x = sampled_x.cpu().numpy()\n",
    "    sampled_y = sampled_y.cpu().numpy()\n",
    "    train_x = train_x.cpu().numpy()\n",
    "    test_x = test_x.cpu().numpy()\n",
    "    # kernel_eval = kernel_eval.cpu().numpy()\n",
    "    posterior_sample = posterior_sample.cpu().numpy()\n",
    "    mean = mean.cpu().numpy()\n",
    "    std = std.cpu().numpy()"
   ]
  },
  {
   "cell_type": "markdown",
   "id": "6f992679",
   "metadata": {},
   "source": [
    "## Plot Results"
   ]
  },
  {
   "cell_type": "code",
   "execution_count": 11,
   "id": "c1718afe",
   "metadata": {},
   "outputs": [
    {
     "ename": "CalledProcessError",
     "evalue": "Command 'b'jupyter nbextension install --py mayavi --user\\n'' returned non-zero exit status 1.",
     "output_type": "error",
     "traceback": [
      "\u001b[0;31m---------------------------------------------------------------------------\u001b[0m",
      "\u001b[0;31mCalledProcessError\u001b[0m                        Traceback (most recent call last)",
      "\u001b[0;32m/tmp/ipykernel_190850/2462017165.py\u001b[0m in \u001b[0;36m<module>\u001b[0;34m\u001b[0m\n\u001b[0;32m----> 1\u001b[0;31m \u001b[0mget_ipython\u001b[0m\u001b[0;34m(\u001b[0m\u001b[0;34m)\u001b[0m\u001b[0;34m.\u001b[0m\u001b[0mrun_cell_magic\u001b[0m\u001b[0;34m(\u001b[0m\u001b[0;34m'bash'\u001b[0m\u001b[0;34m,\u001b[0m \u001b[0;34m''\u001b[0m\u001b[0;34m,\u001b[0m \u001b[0;34m'jupyter nbextension install --py mayavi --user\\n'\u001b[0m\u001b[0;34m)\u001b[0m\u001b[0;34m\u001b[0m\u001b[0;34m\u001b[0m\u001b[0m\n\u001b[0m",
      "\u001b[0;32m/usr/lib/python3/dist-packages/IPython/core/interactiveshell.py\u001b[0m in \u001b[0;36mrun_cell_magic\u001b[0;34m(self, magic_name, line, cell)\u001b[0m\n\u001b[1;32m   2417\u001b[0m             \u001b[0;32mwith\u001b[0m \u001b[0mself\u001b[0m\u001b[0;34m.\u001b[0m\u001b[0mbuiltin_trap\u001b[0m\u001b[0;34m:\u001b[0m\u001b[0;34m\u001b[0m\u001b[0;34m\u001b[0m\u001b[0m\n\u001b[1;32m   2418\u001b[0m                 \u001b[0margs\u001b[0m \u001b[0;34m=\u001b[0m \u001b[0;34m(\u001b[0m\u001b[0mmagic_arg_s\u001b[0m\u001b[0;34m,\u001b[0m \u001b[0mcell\u001b[0m\u001b[0;34m)\u001b[0m\u001b[0;34m\u001b[0m\u001b[0;34m\u001b[0m\u001b[0m\n\u001b[0;32m-> 2419\u001b[0;31m                 \u001b[0mresult\u001b[0m \u001b[0;34m=\u001b[0m \u001b[0mfn\u001b[0m\u001b[0;34m(\u001b[0m\u001b[0;34m*\u001b[0m\u001b[0margs\u001b[0m\u001b[0;34m,\u001b[0m \u001b[0;34m**\u001b[0m\u001b[0mkwargs\u001b[0m\u001b[0;34m)\u001b[0m\u001b[0;34m\u001b[0m\u001b[0;34m\u001b[0m\u001b[0m\n\u001b[0m\u001b[1;32m   2420\u001b[0m             \u001b[0;32mreturn\u001b[0m \u001b[0mresult\u001b[0m\u001b[0;34m\u001b[0m\u001b[0;34m\u001b[0m\u001b[0m\n\u001b[1;32m   2421\u001b[0m \u001b[0;34m\u001b[0m\u001b[0m\n",
      "\u001b[0;32m/usr/lib/python3/dist-packages/IPython/core/magics/script.py\u001b[0m in \u001b[0;36mnamed_script_magic\u001b[0;34m(line, cell)\u001b[0m\n\u001b[1;32m    140\u001b[0m             \u001b[0;32melse\u001b[0m\u001b[0;34m:\u001b[0m\u001b[0;34m\u001b[0m\u001b[0;34m\u001b[0m\u001b[0m\n\u001b[1;32m    141\u001b[0m                 \u001b[0mline\u001b[0m \u001b[0;34m=\u001b[0m \u001b[0mscript\u001b[0m\u001b[0;34m\u001b[0m\u001b[0;34m\u001b[0m\u001b[0m\n\u001b[0;32m--> 142\u001b[0;31m             \u001b[0;32mreturn\u001b[0m \u001b[0mself\u001b[0m\u001b[0;34m.\u001b[0m\u001b[0mshebang\u001b[0m\u001b[0;34m(\u001b[0m\u001b[0mline\u001b[0m\u001b[0;34m,\u001b[0m \u001b[0mcell\u001b[0m\u001b[0;34m)\u001b[0m\u001b[0;34m\u001b[0m\u001b[0;34m\u001b[0m\u001b[0m\n\u001b[0m\u001b[1;32m    143\u001b[0m \u001b[0;34m\u001b[0m\u001b[0m\n\u001b[1;32m    144\u001b[0m         \u001b[0;31m# write a basic docstring:\u001b[0m\u001b[0;34m\u001b[0m\u001b[0;34m\u001b[0m\u001b[0m\n",
      "\u001b[0;32m<decorator-gen-103>\u001b[0m in \u001b[0;36mshebang\u001b[0;34m(self, line, cell)\u001b[0m\n",
      "\u001b[0;32m/usr/lib/python3/dist-packages/IPython/core/magic.py\u001b[0m in \u001b[0;36m<lambda>\u001b[0;34m(f, *a, **k)\u001b[0m\n\u001b[1;32m    185\u001b[0m     \u001b[0;31m# but it's overkill for just that one bit of state.\u001b[0m\u001b[0;34m\u001b[0m\u001b[0;34m\u001b[0m\u001b[0m\n\u001b[1;32m    186\u001b[0m     \u001b[0;32mdef\u001b[0m \u001b[0mmagic_deco\u001b[0m\u001b[0;34m(\u001b[0m\u001b[0marg\u001b[0m\u001b[0;34m)\u001b[0m\u001b[0;34m:\u001b[0m\u001b[0;34m\u001b[0m\u001b[0;34m\u001b[0m\u001b[0m\n\u001b[0;32m--> 187\u001b[0;31m         \u001b[0mcall\u001b[0m \u001b[0;34m=\u001b[0m \u001b[0;32mlambda\u001b[0m \u001b[0mf\u001b[0m\u001b[0;34m,\u001b[0m \u001b[0;34m*\u001b[0m\u001b[0ma\u001b[0m\u001b[0;34m,\u001b[0m \u001b[0;34m**\u001b[0m\u001b[0mk\u001b[0m\u001b[0;34m:\u001b[0m \u001b[0mf\u001b[0m\u001b[0;34m(\u001b[0m\u001b[0;34m*\u001b[0m\u001b[0ma\u001b[0m\u001b[0;34m,\u001b[0m \u001b[0;34m**\u001b[0m\u001b[0mk\u001b[0m\u001b[0;34m)\u001b[0m\u001b[0;34m\u001b[0m\u001b[0;34m\u001b[0m\u001b[0m\n\u001b[0m\u001b[1;32m    188\u001b[0m \u001b[0;34m\u001b[0m\u001b[0m\n\u001b[1;32m    189\u001b[0m         \u001b[0;32mif\u001b[0m \u001b[0mcallable\u001b[0m\u001b[0;34m(\u001b[0m\u001b[0marg\u001b[0m\u001b[0;34m)\u001b[0m\u001b[0;34m:\u001b[0m\u001b[0;34m\u001b[0m\u001b[0;34m\u001b[0m\u001b[0m\n",
      "\u001b[0;32m/usr/lib/python3/dist-packages/IPython/core/magics/script.py\u001b[0m in \u001b[0;36mshebang\u001b[0;34m(self, line, cell)\u001b[0m\n\u001b[1;32m    243\u001b[0m             \u001b[0msys\u001b[0m\u001b[0;34m.\u001b[0m\u001b[0mstderr\u001b[0m\u001b[0;34m.\u001b[0m\u001b[0mflush\u001b[0m\u001b[0;34m(\u001b[0m\u001b[0;34m)\u001b[0m\u001b[0;34m\u001b[0m\u001b[0;34m\u001b[0m\u001b[0m\n\u001b[1;32m    244\u001b[0m         \u001b[0;32mif\u001b[0m \u001b[0margs\u001b[0m\u001b[0;34m.\u001b[0m\u001b[0mraise_error\u001b[0m \u001b[0;32mand\u001b[0m \u001b[0mp\u001b[0m\u001b[0;34m.\u001b[0m\u001b[0mreturncode\u001b[0m\u001b[0;34m!=\u001b[0m\u001b[0;36m0\u001b[0m\u001b[0;34m:\u001b[0m\u001b[0;34m\u001b[0m\u001b[0;34m\u001b[0m\u001b[0m\n\u001b[0;32m--> 245\u001b[0;31m             \u001b[0;32mraise\u001b[0m \u001b[0mCalledProcessError\u001b[0m\u001b[0;34m(\u001b[0m\u001b[0mp\u001b[0m\u001b[0;34m.\u001b[0m\u001b[0mreturncode\u001b[0m\u001b[0;34m,\u001b[0m \u001b[0mcell\u001b[0m\u001b[0;34m,\u001b[0m \u001b[0moutput\u001b[0m\u001b[0;34m=\u001b[0m\u001b[0mout\u001b[0m\u001b[0;34m,\u001b[0m \u001b[0mstderr\u001b[0m\u001b[0;34m=\u001b[0m\u001b[0merr\u001b[0m\u001b[0;34m)\u001b[0m\u001b[0;34m\u001b[0m\u001b[0;34m\u001b[0m\u001b[0m\n\u001b[0m\u001b[1;32m    246\u001b[0m \u001b[0;34m\u001b[0m\u001b[0m\n\u001b[1;32m    247\u001b[0m     \u001b[0;32mdef\u001b[0m \u001b[0m_run_script\u001b[0m\u001b[0;34m(\u001b[0m\u001b[0mself\u001b[0m\u001b[0;34m,\u001b[0m \u001b[0mp\u001b[0m\u001b[0;34m,\u001b[0m \u001b[0mcell\u001b[0m\u001b[0;34m,\u001b[0m \u001b[0mto_close\u001b[0m\u001b[0;34m)\u001b[0m\u001b[0;34m:\u001b[0m\u001b[0;34m\u001b[0m\u001b[0;34m\u001b[0m\u001b[0m\n",
      "\u001b[0;31mCalledProcessError\u001b[0m: Command 'b'jupyter nbextension install --py mayavi --user\\n'' returned non-zero exit status 1."
     ]
    }
   ],
   "source": [
    "%%capture\n",
    "%%bash\n",
    "jupyter nbextension install --py mayavi --user"
   ]
  },
  {
   "cell_type": "code",
   "execution_count": 12,
   "id": "ae7fd1c7",
   "metadata": {
    "scrolled": true
   },
   "outputs": [
    {
     "ename": "ModuleNotFoundError",
     "evalue": "No module named 'ipyevents'",
     "output_type": "error",
     "traceback": [
      "\u001b[0;31m---------------------------------------------------------------------------\u001b[0m",
      "\u001b[0;31mModuleNotFoundError\u001b[0m                       Traceback (most recent call last)",
      "\u001b[0;32m/tmp/ipykernel_190850/2033546107.py\u001b[0m in \u001b[0;36m<module>\u001b[0;34m\u001b[0m\n\u001b[0;32m----> 1\u001b[0;31m \u001b[0mmlab\u001b[0m\u001b[0;34m.\u001b[0m\u001b[0minit_notebook\u001b[0m\u001b[0;34m(\u001b[0m\u001b[0;34m)\u001b[0m\u001b[0;34m\u001b[0m\u001b[0;34m\u001b[0m\u001b[0m\n\u001b[0m\u001b[1;32m      2\u001b[0m \u001b[0mv_options\u001b[0m \u001b[0;34m=\u001b[0m \u001b[0;34m{\u001b[0m\u001b[0;34m'mode'\u001b[0m\u001b[0;34m:\u001b[0m \u001b[0;34m'sphere'\u001b[0m\u001b[0;34m,\u001b[0m\u001b[0;34m'scale_factor'\u001b[0m\u001b[0;34m:\u001b[0m \u001b[0;36m3e-3\u001b[0m\u001b[0;34m,\u001b[0m \u001b[0;34m'color'\u001b[0m\u001b[0;34m:\u001b[0m \u001b[0;34m(\u001b[0m\u001b[0;36m0\u001b[0m\u001b[0;34m,\u001b[0m \u001b[0;36m0\u001b[0m\u001b[0;34m,\u001b[0m \u001b[0;36m0\u001b[0m\u001b[0;34m)\u001b[0m\u001b[0;34m}\u001b[0m\u001b[0;34m\u001b[0m\u001b[0;34m\u001b[0m\u001b[0m\n",
      "\u001b[0;32m~/.local/lib/python3.10/site-packages/mayavi/tools/notebook.py\u001b[0m in \u001b[0;36minit\u001b[0;34m(backend, width, height, local)\u001b[0m\n\u001b[1;32m     51\u001b[0m     \u001b[0;32mfrom\u001b[0m \u001b[0mmayavi\u001b[0m \u001b[0;32mimport\u001b[0m \u001b[0mmlab\u001b[0m\u001b[0;34m\u001b[0m\u001b[0;34m\u001b[0m\u001b[0m\n\u001b[1;32m     52\u001b[0m     \u001b[0mmlab\u001b[0m\u001b[0;34m.\u001b[0m\u001b[0moptions\u001b[0m\u001b[0;34m.\u001b[0m\u001b[0moffscreen\u001b[0m \u001b[0;34m=\u001b[0m \u001b[0;32mTrue\u001b[0m\u001b[0;34m\u001b[0m\u001b[0;34m\u001b[0m\u001b[0m\n\u001b[0;32m---> 53\u001b[0;31m     \u001b[0m_backend\u001b[0m \u001b[0;34m=\u001b[0m \u001b[0m_registry\u001b[0m\u001b[0;34m[\u001b[0m\u001b[0mbackend\u001b[0m\u001b[0;34m]\u001b[0m\u001b[0;34m(\u001b[0m\u001b[0mwidth\u001b[0m\u001b[0;34m,\u001b[0m \u001b[0mheight\u001b[0m\u001b[0;34m,\u001b[0m \u001b[0mlocal\u001b[0m\u001b[0;34m)\u001b[0m\u001b[0;34m\u001b[0m\u001b[0;34m\u001b[0m\u001b[0m\n\u001b[0m\u001b[1;32m     54\u001b[0m     \u001b[0mBase\u001b[0m\u001b[0;34m.\u001b[0m\u001b[0m_ipython_display_\u001b[0m \u001b[0;34m=\u001b[0m \u001b[0m_ipython_display_\u001b[0m\u001b[0;34m\u001b[0m\u001b[0;34m\u001b[0m\u001b[0m\n\u001b[1;32m     55\u001b[0m     \u001b[0mTVTKScene\u001b[0m\u001b[0;34m.\u001b[0m\u001b[0m_ipython_display_\u001b[0m \u001b[0;34m=\u001b[0m \u001b[0m_ipython_display_\u001b[0m\u001b[0;34m\u001b[0m\u001b[0;34m\u001b[0m\u001b[0m\n",
      "\u001b[0;32m~/.local/lib/python3.10/site-packages/mayavi/tools/notebook.py\u001b[0m in \u001b[0;36m__init__\u001b[0;34m(self, width, height, local)\u001b[0m\n\u001b[1;32m    156\u001b[0m         \u001b[0;32mif\u001b[0m \u001b[0mself\u001b[0m\u001b[0;34m.\u001b[0m\u001b[0m__class__\u001b[0m\u001b[0;34m.\u001b[0m\u001b[0m_widget_manager\u001b[0m \u001b[0;32mis\u001b[0m \u001b[0;32mNone\u001b[0m\u001b[0;34m:\u001b[0m\u001b[0;34m\u001b[0m\u001b[0;34m\u001b[0m\u001b[0m\n\u001b[1;32m    157\u001b[0m             \u001b[0;31m# This is a singleton, no need to create multiple of these.\u001b[0m\u001b[0;34m\u001b[0m\u001b[0;34m\u001b[0m\u001b[0m\n\u001b[0;32m--> 158\u001b[0;31m             \u001b[0;32mfrom\u001b[0m \u001b[0mmayavi\u001b[0m\u001b[0;34m.\u001b[0m\u001b[0mtools\u001b[0m\u001b[0;34m.\u001b[0m\u001b[0mremote\u001b[0m\u001b[0;34m.\u001b[0m\u001b[0mipy_remote\u001b[0m \u001b[0;32mimport\u001b[0m \u001b[0mWidgetManager\u001b[0m\u001b[0;34m\u001b[0m\u001b[0;34m\u001b[0m\u001b[0m\n\u001b[0m\u001b[1;32m    159\u001b[0m             \u001b[0mself\u001b[0m\u001b[0;34m.\u001b[0m\u001b[0m__class__\u001b[0m\u001b[0;34m.\u001b[0m\u001b[0m_widget_manager\u001b[0m \u001b[0;34m=\u001b[0m \u001b[0mWidgetManager\u001b[0m\u001b[0;34m(\u001b[0m\u001b[0;34m)\u001b[0m\u001b[0;34m\u001b[0m\u001b[0;34m\u001b[0m\u001b[0m\n\u001b[1;32m    160\u001b[0m \u001b[0;34m\u001b[0m\u001b[0m\n",
      "\u001b[0;32m~/.local/lib/python3.10/site-packages/mayavi/tools/remote/ipy_remote.py\u001b[0m in \u001b[0;36m<module>\u001b[0;34m\u001b[0m\n\u001b[1;32m      2\u001b[0m \u001b[0;32mfrom\u001b[0m \u001b[0mIPython\u001b[0m\u001b[0;34m.\u001b[0m\u001b[0mdisplay\u001b[0m \u001b[0;32mimport\u001b[0m \u001b[0mdisplay\u001b[0m\u001b[0;34m\u001b[0m\u001b[0;34m\u001b[0m\u001b[0m\n\u001b[1;32m      3\u001b[0m \u001b[0;32mfrom\u001b[0m \u001b[0mipywidgets\u001b[0m \u001b[0;32mimport\u001b[0m \u001b[0mImage\u001b[0m\u001b[0;34m\u001b[0m\u001b[0;34m\u001b[0m\u001b[0m\n\u001b[0;32m----> 4\u001b[0;31m \u001b[0;32mfrom\u001b[0m \u001b[0mipyevents\u001b[0m \u001b[0;32mimport\u001b[0m \u001b[0mEvent\u001b[0m\u001b[0;34m\u001b[0m\u001b[0;34m\u001b[0m\u001b[0m\n\u001b[0m\u001b[1;32m      5\u001b[0m \u001b[0;34m\u001b[0m\u001b[0m\n\u001b[1;32m      6\u001b[0m \u001b[0;32mfrom\u001b[0m \u001b[0;34m.\u001b[0m\u001b[0mbridge\u001b[0m \u001b[0;32mimport\u001b[0m \u001b[0mLocalBridge\u001b[0m\u001b[0;34m\u001b[0m\u001b[0;34m\u001b[0m\u001b[0m\n",
      "\u001b[0;31mModuleNotFoundError\u001b[0m: No module named 'ipyevents'"
     ]
    }
   ],
   "source": [
    "%%capture\n",
    "mlab.init_notebook()\n",
    "v_options = {'mode': 'sphere','scale_factor': 3e-3, 'color': (0, 0, 0)}"
   ]
  },
  {
   "cell_type": "code",
   "execution_count": 13,
   "id": "6991e2c8-8f75-4734-85fe-af4b74834840",
   "metadata": {},
   "outputs": [],
   "source": [
    "v_options = {'mode': 'sphere','scale_factor': 3e-3, 'color': (0, 0, 0)}"
   ]
  },
  {
   "cell_type": "markdown",
   "id": "f5a85a6b",
   "metadata": {},
   "source": [
    "### Ground Truth with Sample Training Points"
   ]
  },
  {
   "cell_type": "code",
   "execution_count": 14,
   "id": "8a054797",
   "metadata": {},
   "outputs": [],
   "source": [
    "mlab.figure(size=(1920, 1360), fgcolor=(0, 0, 0), bgcolor = (1,1,1))\n",
    "mlab.triangular_mesh(sampled_x[:, 0], sampled_x[:, 1], sampled_x[:, 2], faces, scalars=sampled_y)\n",
    "mlab.colorbar(orientation='vertical')\n",
    "mlab.points3d(train_x[:,0], train_x[:,1], train_x[:,2], **v_options)\n",
    "# mlab.points3d(test_x[:,0], test_x[:,1], test_x[:,2], **v_options)\n",
    "mlab.view(0.0,180.0,0.5139171204775793)\n",
    "mlab.savefig('dragon_truth_semisupervised.png')"
   ]
  },
  {
   "cell_type": "markdown",
   "id": "ce632461",
   "metadata": {},
   "source": [
    "### Mean"
   ]
  },
  {
   "cell_type": "code",
   "execution_count": 15,
   "id": "e833567e",
   "metadata": {},
   "outputs": [],
   "source": [
    "mlab.figure(size=(1920, 1360), fgcolor=(0, 0, 0), bgcolor = (1,1,1))\n",
    "mlab.triangular_mesh(sampled_x[:, 0], sampled_x[:, 1], sampled_x[:, 2], faces, scalars=mean)\n",
    "mlab.colorbar(orientation='vertical')\n",
    "mlab.points3d(train_x[:,0], train_x[:,1], train_x[:,2], **v_options)\n",
    "mlab.view(0.0,180.0,0.5139171204775793)\n",
    "mlab.savefig('dragon_mean_semisupervised.png')"
   ]
  },
  {
   "cell_type": "markdown",
   "id": "2fcb8ebf",
   "metadata": {},
   "source": [
    "### Standard Deviation"
   ]
  },
  {
   "cell_type": "code",
   "execution_count": 16,
   "id": "591b8af9",
   "metadata": {},
   "outputs": [],
   "source": [
    "mlab.figure(size=(1920, 1360), fgcolor=(0, 0, 0), bgcolor = (1,1,1))\n",
    "mlab.triangular_mesh(sampled_x[:, 0], sampled_x[:, 1], sampled_x[:, 2], faces, scalars=std)\n",
    "mlab.colorbar(orientation='vertical')\n",
    "mlab.points3d(train_x[:,0], train_x[:,1], train_x[:,2], **v_options)\n",
    "mlab.view(0.0,180.0,0.5139171204775793)\n",
    "mlab.savefig('dragon_std_semisupervised.png')"
   ]
  },
  {
   "cell_type": "markdown",
   "id": "12402c7f",
   "metadata": {},
   "source": [
    "### One Posterior Sample"
   ]
  },
  {
   "cell_type": "code",
   "execution_count": null,
   "id": "09655441",
   "metadata": {},
   "outputs": [],
   "source": [
    "mlab.figure(size=(1920, 1360), fgcolor=(0, 0, 0), bgcolor = (1,1,1))\n",
    "mlab.triangular_mesh(sampled_x[:, 0], sampled_x[:, 1], sampled_x[:, 2], faces, scalars=posterior_sample)\n",
    "mlab.colorbar(orientation='vertical')\n",
    "mlab.points3d(train_x[:,0], train_x[:,1], train_x[:,2], **v_options)\n",
    "# mlab.view(0.0,180.0,0.5139171204775793)\n",
    "# mlab.savefig('dragon_posterior_semisupervised.png')"
   ]
  },
  {
   "cell_type": "markdown",
   "id": "8c4b248b",
   "metadata": {},
   "source": [
    "### Kernel Evaluation"
   ]
  },
  {
   "cell_type": "code",
   "execution_count": null,
   "id": "6b6ded3a",
   "metadata": {},
   "outputs": [],
   "source": [
    "mlab.figure(size=(1920, 1360), fgcolor=(0, 0, 0), bgcolor = (1,1,1))\n",
    "mlab.triangular_mesh(sampled_x[:, 0], sampled_x[:, 1], sampled_x[:, 2], faces, scalars=kernel_eval)\n",
    "mlab.colorbar(orientation='vertical')\n",
    "mlab.points3d(sampled_x[0,0], sampled_x[0,1], sampled_x[0,2], **v_options)"
   ]
  },
  {
   "cell_type": "code",
   "execution_count": null,
   "id": "f8c47716",
   "metadata": {},
   "outputs": [],
   "source": []
  }
 ],
 "metadata": {
  "kernelspec": {
   "display_name": "Python 3 (ipykernel)",
   "language": "python",
   "name": "python3"
  },
  "language_info": {
   "codemirror_mode": {
    "name": "ipython",
    "version": 3
   },
   "file_extension": ".py",
   "mimetype": "text/x-python",
   "name": "python",
   "nbconvert_exporter": "python",
   "pygments_lexer": "ipython3",
   "version": "3.10.12"
  },
  "vscode": {
   "interpreter": {
    "hash": "916dbcbb3f70747c44a77c7bcd40155683ae19c65e1c03b4aa3499c5328201f1"
   }
  }
 },
 "nbformat": 4,
 "nbformat_minor": 5
}
