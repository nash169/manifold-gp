{
 "cells": [
  {
   "cell_type": "code",
   "execution_count": 1,
   "id": "54712b8d",
   "metadata": {},
   "outputs": [],
   "source": [
    "import numpy as np\n",
    "import torch\n",
    "import gpytorch\n",
    "import matplotlib.pyplot as plt\n",
    "from importlib.resources import files\n",
    "from manifold_gp.kernels.riemann_matern_kernel import RiemannMaternKernel\n",
    "from manifold_gp.models.riemann_gp import RiemannGP"
   ]
  },
  {
   "cell_type": "code",
   "execution_count": 2,
   "id": "4eeeb661",
   "metadata": {},
   "outputs": [],
   "source": [
    "# Set device\n",
    "use_cuda = torch.cuda.is_available()\n",
    "device = torch.device(\"cuda\" if use_cuda else \"cpu\")"
   ]
  },
  {
   "cell_type": "code",
   "execution_count": 3,
   "id": "6b312644",
   "metadata": {},
   "outputs": [],
   "source": [
    "# Load dataset\n",
    "data_path = files('manifold_gp.data').joinpath('dumbbell.msh')\n",
    "data = np.loadtxt(data_path)\n",
    "sampled_x = torch.from_numpy(data[:, :2]).float().to(device)\n",
    "sampled_y = torch.from_numpy(data[:, -1]).float().to(device)\n",
    "(m, n) = sampled_x.shape"
   ]
  },
  {
   "cell_type": "code",
   "execution_count": 4,
   "id": "c3e3b731",
   "metadata": {},
   "outputs": [],
   "source": [
    "# Set Train Indices\n",
    "num_train = 50\n",
    "train_idx = torch.randperm(m)[:num_train]"
   ]
  },
  {
   "cell_type": "code",
   "execution_count": 5,
   "id": "b6c68131",
   "metadata": {},
   "outputs": [],
   "source": [
    "# Set Test Indices\n",
    "num_test = 10\n",
    "test_idx = torch.randperm(m)[:num_test]"
   ]
  },
  {
   "cell_type": "code",
   "execution_count": 6,
   "id": "6860259e",
   "metadata": {},
   "outputs": [
    {
     "name": "stderr",
     "output_type": "stream",
     "text": [
      "/home/bernardo/.local/lib/python3.10/site-packages/torch/functional.py:504: UserWarning: torch.meshgrid: in an upcoming release, it will be required to pass the indexing argument. (Triggered internally at ../aten/src/ATen/native/TensorShape.cpp:3190.)\n",
      "  return _VF.meshgrid(tensors, **kwargs)  # type: ignore[attr-defined]\n"
     ]
    }
   ],
   "source": [
    "# Noise Grid\n",
    "min_noise_scale = 0\n",
    "max_noise_scale = 0.05\n",
    "resolution = 3\n",
    "manifold_noise, function_noise = torch.meshgrid(torch.linspace(min_noise_scale, max_noise_scale, steps=resolution),\n",
    "                                                torch.linspace(min_noise_scale, max_noise_scale, steps=resolution))"
   ]
  },
  {
   "cell_type": "code",
   "execution_count": 7,
   "id": "7650bc8a",
   "metadata": {},
   "outputs": [],
   "source": [
    "# Record Loss & MSE\n",
    "count = 1\n",
    "loss = torch.zeros_like(manifold_noise)\n",
    "mse = torch.zeros_like(manifold_noise)"
   ]
  },
  {
   "cell_type": "code",
   "execution_count": 8,
   "id": "87adea97",
   "metadata": {},
   "outputs": [],
   "source": [
    "# Create Kernel\n",
    "nu = 2\n",
    "neighbors = 5\n",
    "modes = 10\n",
    "kernel = gpytorch.kernels.ScaleKernel(\n",
    "    RiemannMaternKernel(sampled_x, nu, neighbors, modes))"
   ]
  },
  {
   "cell_type": "code",
   "execution_count": 9,
   "id": "28673589",
   "metadata": {},
   "outputs": [],
   "source": [
    "# Define Optimization Parameters\n",
    "lr = 1e-1\n",
    "iters = 50\n",
    "verbose = False"
   ]
  },
  {
   "cell_type": "code",
   "execution_count": 10,
   "id": "2a7a7737",
   "metadata": {},
   "outputs": [],
   "source": [
    "# Model Hyperparameters\n",
    "hypers = {\n",
    "    'likelihood.noise_covar.noise': torch.tensor(0.007),\n",
    "    'covar_module.base_kernel.epsilon': torch.tensor(0.13),\n",
    "    'covar_module.base_kernel.lengthscale': torch.tensor(0.37),\n",
    "    'covar_module.outputscale': torch.tensor(1.),\n",
    "}"
   ]
  },
  {
   "cell_type": "code",
   "execution_count": 11,
   "id": "327369b4",
   "metadata": {},
   "outputs": [
    {
     "name": "stdout",
     "output_type": "stream",
     "text": [
      "Iteration: 1/9, Manifold Noise: 0.0, Function Noise: 0.0\n"
     ]
    },
    {
     "name": "stderr",
     "output_type": "stream",
     "text": [
      "/home/bernardo/.local/lib/python3.10/site-packages/gpytorch/models/exact_gp.py:274: GPInputWarning: The input matches the stored training data. Did you forget to call model.train()?\n",
      "  warnings.warn(\n"
     ]
    },
    {
     "name": "stdout",
     "output_type": "stream",
     "text": [
      "Iteration: 2/9, Manifold Noise: 0.0, Function Noise: 0.02500000037252903\n",
      "Iteration: 3/9, Manifold Noise: 0.0, Function Noise: 0.05000000074505806\n",
      "Iteration: 4/9, Manifold Noise: 0.02500000037252903, Function Noise: 0.0\n",
      "Iteration: 5/9, Manifold Noise: 0.02500000037252903, Function Noise: 0.02500000037252903\n",
      "Iteration: 6/9, Manifold Noise: 0.02500000037252903, Function Noise: 0.05000000074505806\n",
      "Iteration: 7/9, Manifold Noise: 0.05000000074505806, Function Noise: 0.0\n",
      "Iteration: 8/9, Manifold Noise: 0.05000000074505806, Function Noise: 0.02500000037252903\n",
      "Iteration: 9/9, Manifold Noise: 0.05000000074505806, Function Noise: 0.05000000074505806\n"
     ]
    }
   ],
   "source": [
    "for i in range(resolution):\n",
    "    for j in range(resolution):\n",
    "        print(\n",
    "            f\"Iteration: {count}/{resolution**2}, Manifold Noise: {manifold_noise[i,j]}, Function Noise: {function_noise[i,j]}\")\n",
    "        # Add noise to samples\n",
    "        noisy_x = sampled_x + \\\n",
    "            manifold_noise[i, j] * torch.randn(m, n).to(device)\n",
    "        noisy_y = sampled_y + function_noise[i, j] * torch.randn(m).to(device)\n",
    "\n",
    "        # Train dataset\n",
    "        train_x = noisy_x[train_idx, :]\n",
    "        train_y = noisy_y[train_idx]\n",
    "\n",
    "        # Test dataset\n",
    "        test_x = noisy_x[test_idx, :]\n",
    "        test_y = noisy_y[test_idx]\n",
    "\n",
    "        # Update Kernel\n",
    "        if hasattr(kernel, 'base_kernel'):\n",
    "            kernel.base_kernel.nodes = noisy_x\n",
    "            kernel.base_kernel.generate_graph()\n",
    "        else:\n",
    "            kernel.nodes = noisy_x\n",
    "            kernel.generate_graph()\n",
    "\n",
    "        # Create model\n",
    "        likelihood = gpytorch.likelihoods.GaussianLikelihood()\n",
    "        model = RiemannGP(noisy_x, noisy_y, likelihood, kernel).to(device)\n",
    "\n",
    "        # Init hyperparameters and train the model\n",
    "        model.initialize(**hypers)\n",
    "        loss[i, j] = model.manifold_informed_train(lr, iters, verbose)\n",
    "\n",
    "        # Evaluate the model\n",
    "        likelihood.eval()\n",
    "        model.eval()\n",
    "\n",
    "        with torch.no_grad(), gpytorch.settings.fast_pred_var():\n",
    "            preds = likelihood(model(noisy_x))\n",
    "            mse[i, j] = torch.linalg.norm(sampled_y - preds.mean)\n",
    "\n",
    "        count += 1"
   ]
  },
  {
   "cell_type": "code",
   "execution_count": 12,
   "id": "2b855774",
   "metadata": {},
   "outputs": [
    {
     "data": {
      "image/png": "[encoded data removed]",
      "text/plain": [
       "<Figure size 1224x432 with 4 Axes>"
      ]
     },
     "metadata": {
      "needs_background": "light"
     },
     "output_type": "display_data"
    }
   ],
   "source": [
    "with torch.no_grad():\n",
    "    fig = plt.figure(figsize=(17, 6))\n",
    "    ax = fig.add_subplot(121)\n",
    "    contour_mse = ax.contourf(function_noise, manifold_noise, mse)\n",
    "    ax.axis('square')\n",
    "    fig.colorbar(contour_mse)\n",
    "\n",
    "    ax = fig.add_subplot(122)\n",
    "    contour_loss = ax.contourf(function_noise, manifold_noise, loss)\n",
    "    ax.axis('square')\n",
    "    fig.colorbar(contour_loss)"
   ]
  }
 ],
 "metadata": {
  "kernelspec": {
   "display_name": "Python 3 (ipykernel)",
   "language": "python",
   "name": "python3"
  },
  "language_info": {
   "codemirror_mode": {
    "name": "ipython",
    "version": 3
   },
   "file_extension": ".py",
   "mimetype": "text/x-python",
   "name": "python",
   "nbconvert_exporter": "python",
   "pygments_lexer": "ipython3",
   "version": "3.10.6"
  }
 },
 "nbformat": 4,
 "nbformat_minor": 5
}
