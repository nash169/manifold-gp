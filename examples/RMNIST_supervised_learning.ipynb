{
 "cells": [
  {
   "cell_type": "markdown",
   "id": "5e276dbe",
   "metadata": {},
   "source": [
    "# IMGP - Supervised Learning - RMNIST"
   ]
  },
  {
   "cell_type": "markdown",
   "id": "a36444a5",
   "metadata": {},
   "source": [
    "## Preamble"
   ]
  },
  {
   "cell_type": "markdown",
   "id": "01d17d1f",
   "metadata": {},
   "source": [
    "This notebook provides an example of how to perform Gaussian Process Regression on a 1D manifold. In this example we consider a supervised learning scenario, namely the number of labeled data points is equivalent to the number of the sampled points from the underlying manifold."
   ]
  },
  {
   "cell_type": "code",
   "execution_count": 1,
   "id": "58e9afd1",
   "metadata": {},
   "outputs": [
    {
     "name": "stderr",
     "output_type": "stream",
     "text": [
      "/usr/lib/python3/dist-packages/scipy/__init__.py:146: UserWarning: A NumPy version >=1.17.3 and <1.25.0 is required for this version of SciPy (detected version 1.26.4\n",
      "  warnings.warn(f\"A NumPy version >={np_minversion} and <{np_maxversion}\"\n"
     ]
    }
   ],
   "source": [
    "import torch\n",
    "import gpytorch\n",
    "import numpy as np\n",
    "import math\n",
    "import gc\n",
    "\n",
    "%matplotlib widget\n",
    "import matplotlib.pyplot as plt\n",
    "\n",
    "from gpytorch.constraints import GreaterThan\n",
    "\n",
    "from manifold_gp.kernels import RiemannMaternKernel\n",
    "from manifold_gp.models import RiemannGP, VanillaGP\n",
    "from manifold_gp.utils import rmnist_dataset, vanilla_train, manifold_informed_train, test_model, NearestNeighbors"
   ]
  },
  {
   "cell_type": "markdown",
   "id": "74a13054",
   "metadata": {},
   "source": [
    "## Dataset"
   ]
  },
  {
   "cell_type": "code",
   "execution_count": 2,
   "id": "0b260ed6",
   "metadata": {},
   "outputs": [],
   "source": [
    "num_train = 0.5\n",
    "scaling, single_digit, regenerate = True, True, False, \n",
    "normalize_x, normalize_y = False, True\n",
    "graphbandwidth_constraint, graphbandwidth_prior = True, False\n",
    "load_manifold_model, load_vanilla_model = True, True\n",
    "save_manifold_model, save_vanilla_model = True, True"
   ]
  },
  {
   "cell_type": "code",
   "execution_count": 3,
   "id": "af216c23",
   "metadata": {},
   "outputs": [
    {
     "name": "stdout",
     "output_type": "stream",
     "text": [
      "Loading SRMNIST\n"
     ]
    }
   ],
   "source": [
    "train_x, train_y, test_x, test_y = rmnist_dataset(scaling=scaling, single_digit=single_digit, regenerate=regenerate)\n",
    "torch.manual_seed(1337)\n",
    "train_idx = torch.zeros(train_x.shape[0]).scatter_(0, torch.randperm(train_x.shape[0])[:int(num_train*train_x.shape[0])], 1).bool()\n",
    "use_cuda = torch.cuda.is_available()\n",
    "device = torch.device(\"cuda\" if use_cuda else \"cpu\")\n",
    "train_x, train_y = train_x[train_idx].contiguous().to(device).flatten(start_dim=1), train_y[train_idx].contiguous().to(device)\n",
    "test_x, test_y = test_x.contiguous().to(device).flatten(start_dim=1), test_y.contiguous().to(device)\n",
    "\n",
    "if normalize_x:\n",
    "    mu_x, std_x = train_x.mean(dim=-2, keepdim=True), train_x.std(dim=-2, keepdim=True) + 1e-6\n",
    "    train_x.sub_(mu_x).div_(std_x)\n",
    "    test_x.sub_(mu_x).div_(std_x)\n",
    "if normalize_y:\n",
    "    mu_y, std_y = train_y.mean(), train_y.std()\n",
    "    train_y.sub_(mu_y).div_(std_y)\n",
    "    test_y.sub_(mu_y).div_(std_y)"
   ]
  },
  {
   "cell_type": "code",
   "execution_count": 4,
   "id": "3bb2201e-8566-43eb-8d61-7d8b7f984b51",
   "metadata": {},
   "outputs": [],
   "source": [
    "if graphbandwidth_constraint or graphbandwidth_prior:\n",
    "    knn = NearestNeighbors(train_x, nlist=1)\n",
    "    edge_values = knn.search(train_x, 10)[0][:, 1:]\n",
    "    \n",
    "    graphbandwidth_min = edge_values[:,0].max().div(-4*math.log(1e-4)).sqrt()\n",
    "    median = edge_values.sqrt().mean(dim=1).sort()[0][int(round(edge_values.shape[0]*0.50))]\n",
    "    gamma_rate = 4*median/(median-graphbandwidth_min)**2\n",
    "    gamma_concentration = gamma_rate * median + 1\n",
    "    \n",
    "    del knn, edge_values"
   ]
  },
  {
   "cell_type": "markdown",
   "id": "405d4275",
   "metadata": {},
   "source": [
    "## Model"
   ]
  },
  {
   "cell_type": "code",
   "execution_count": 5,
   "id": "f219323b-13b5-48f2-8f8b-5bcd6c07b1c0",
   "metadata": {},
   "outputs": [],
   "source": [
    "%%capture\n",
    "model_vanilla = VanillaGP(\n",
    "    train_x, \n",
    "    train_y, \n",
    "    gpytorch.likelihoods.GaussianLikelihood(), \n",
    "    gpytorch.kernels.ScaleKernel(gpytorch.kernels.RBFKernel())\n",
    ").to(device)\n",
    "\n",
    "hypers_vanilla = {\n",
    "    'likelihood.noise_covar.noise': 1e-2,\n",
    "    'covar_module.base_kernel.lengthscale': 1.0,\n",
    "    'covar_module.outputscale': 1.0,\n",
    "}\n",
    "model_vanilla.initialize(**hypers_vanilla)"
   ]
  },
  {
   "cell_type": "code",
   "execution_count": 6,
   "id": "83460075",
   "metadata": {},
   "outputs": [],
   "source": [
    "%%capture\n",
    "likelihood = gpytorch.likelihoods.GaussianLikelihood(\n",
    "    noise_constraint=gpytorch.constraints.GreaterThan(1e-8),\n",
    ")\n",
    "\n",
    "kernel = gpytorch.kernels.ScaleKernel(\n",
    "    RiemannMaternKernel(\n",
    "        nu=2,\n",
    "        x=train_x,\n",
    "        nearest_neighbors=10,\n",
    "        laplacian_normalization=\"randomwalk\",\n",
    "        num_modes=1100,\n",
    "        bump_scale=3.0,\n",
    "        bump_decay=1.0,\n",
    "        graphbandwidth_constraint=gpytorch.constraints.GreaterThan(graphbandwidth_min) if graphbandwidth_constraint else None,\n",
    "        graphbandwidth_prior=gpytorch.priors.GammaPrior(gamma_concentration, gamma_rate) if graphbandwidth_prior else None\n",
    "    )\n",
    ")\n",
    "\n",
    "model = RiemannGP(train_x, train_y, likelihood, kernel).to(device)\n",
    "\n",
    "hypers = {\n",
    "    'likelihood.noise_covar.noise': 1e-2,\n",
    "    'covar_module.base_kernel.graphbandwidth': 1.0,\n",
    "    'covar_module.base_kernel.lengthscale': 1.0,\n",
    "    'covar_module.outputscale': 1.0,\n",
    "}\n",
    "model.initialize(**hypers)"
   ]
  },
  {
   "cell_type": "markdown",
   "id": "8b14763b",
   "metadata": {},
   "source": [
    "## Train"
   ]
  },
  {
   "cell_type": "code",
   "execution_count": 7,
   "id": "8b840d4c-68c2-40b0-bccd-d8e31e1b8489",
   "metadata": {
    "scrolled": true
   },
   "outputs": [],
   "source": [
    "if not load_manifold_model:\n",
    "    optimizer = torch.optim.Adam(model.parameters(), lr=1e-2, weight_decay=0.0)\n",
    "    scheduler = torch.optim.lr_scheduler.ReduceLROnPlateau(optimizer, mode='min', factor=0.5, patience=50, threshold=1e-3, threshold_mode='rel',\n",
    "                                                           cooldown=0, min_lr=0, eps=1e-8, verbose=True)\n",
    "    loss = manifold_informed_train(model, optimizer, max_iter=200, tolerance=1e-2, update_norm=None, num_rand_vec=100,\n",
    "                                   max_cholesky=1000, cg_tolerance=1e-2, cg_max_iter=2000, scheduler=scheduler, verbose=True)\n",
    "    if save_manifold_model:\n",
    "        torch.save(model.state_dict(), '../models/srmnist_manifold_supervised.pth' if single_digit else '../models/rmnist_manifold_supervised.pth')\n",
    "else:\n",
    "    model.load_state_dict(torch.load('../models/srmnist_manifold_supervised.pth' if single_digit else '../models/rmnist_manifold_supervised.pth'))"
   ]
  },
  {
   "cell_type": "code",
   "execution_count": 8,
   "id": "4cce5132-05ac-4ef5-a6c8-e2aab55c867f",
   "metadata": {},
   "outputs": [],
   "source": [
    "if not load_vanilla_model:\n",
    "    optimizer_vanilla = torch.optim.Adam(model_vanilla.parameters(), lr=1e-2, weight_decay=0.0)\n",
    "    scheduler_vanilla = torch.optim.lr_scheduler.ReduceLROnPlateau(optimizer_vanilla, mode='min', factor=0.5, patience=200, threshold=1e-3, \n",
    "                                                                   threshold_mode='rel', cooldown=0, min_lr=0, eps=1e-8, verbose=False)\n",
    "    loss = vanilla_train(model_vanilla, optimizer_vanilla, max_iter=200, max_cholesky=1000, tolerance=1e-2, cg_tolerance=1e-2, cg_max_iter=1000, scheduler=None, \n",
    "                  verbose=True)\n",
    "    if save_vanilla_model:\n",
    "        torch.save(model_vanilla.state_dict(), '../models/srmnist_vanilla_supervised.pth' if single_digit else '../models/rmnist_vanilla_supervised.pth')\n",
    "else:\n",
    "    model_vanilla.load_state_dict(torch.load('../models/srmnist_vanilla_supervised.pth' if single_digit else '../models/rmnist_vanilla_supervised.pth'))"
   ]
  },
  {
   "cell_type": "markdown",
   "id": "0ab36075",
   "metadata": {},
   "source": [
    "## Evaluation"
   ]
  },
  {
   "cell_type": "code",
   "execution_count": 9,
   "id": "fd168ab4-1e9f-4a58-9950-b912113d6d15",
   "metadata": {},
   "outputs": [
    {
     "name": "stdout",
     "output_type": "stream",
     "text": [
      "RMSE Vanilla:  tensor(0.0093, device='cuda:0')\n",
      "NLL Vanilla:  tensor(-1.7322, device='cuda:0')\n"
     ]
    }
   ],
   "source": [
    "rmse_vanilla, nll_vanilla = test_model(model_vanilla, test_x, test_y, noisy_test=True, base_model=None, max_cholesky=1000, cg_tolerance=1e-2, cg_iterations=1000)\n",
    "print(\"RMSE Vanilla: \", rmse_vanilla)\n",
    "print(\"NLL Vanilla: \", nll_vanilla)"
   ]
  },
  {
   "cell_type": "code",
   "execution_count": 10,
   "id": "f37f4400-cfa1-4541-bf26-f4289e5747ad",
   "metadata": {},
   "outputs": [
    {
     "name": "stdout",
     "output_type": "stream",
     "text": [
      "RMSE Geometric:  tensor(0.0720, device='cuda:0')\n",
      "NLL Geometric:  tensor(-0.7352, device='cuda:0')\n"
     ]
    }
   ],
   "source": [
    "rmse, nll = test_model(model, test_x, test_y, noisy_test=True, base_model=model_vanilla, max_cholesky=1000, cg_tolerance=1e-2, cg_iterations=1000)\n",
    "print(\"RMSE Geometric: \", rmse)\n",
    "print(\"NLL Geometric: \", nll)"
   ]
  },
  {
   "cell_type": "code",
   "execution_count": null,
   "id": "3c785d74-52e7-48ed-8a09-de0064a03ef7",
   "metadata": {},
   "outputs": [],
   "source": []
  }
 ],
 "metadata": {
  "kernelspec": {
   "display_name": "Python 3 (ipykernel)",
   "language": "python",
   "name": "python3"
  },
  "language_info": {
   "codemirror_mode": {
    "name": "ipython",
    "version": 3
   },
   "file_extension": ".py",
   "mimetype": "text/x-python",
   "name": "python",
   "nbconvert_exporter": "python",
   "pygments_lexer": "ipython3",
   "version": "3.10.12"
  },
  "vscode": {
   "interpreter": {
    "hash": "916dbcbb3f70747c44a77c7bcd40155683ae19c65e1c03b4aa3499c5328201f1"
   }
  }
 },
 "nbformat": 4,
 "nbformat_minor": 5
}
