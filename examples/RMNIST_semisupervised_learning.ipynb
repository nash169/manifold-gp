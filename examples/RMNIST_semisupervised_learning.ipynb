{
 "cells": [
  {
   "cell_type": "markdown",
   "id": "5e276dbe",
   "metadata": {},
   "source": [
    "# IMGP - Semisupervised Learning - 1D Manifold"
   ]
  },
  {
   "cell_type": "markdown",
   "id": "a36444a5",
   "metadata": {},
   "source": [
    "## Preamble"
   ]
  },
  {
   "cell_type": "markdown",
   "id": "01d17d1f",
   "metadata": {},
   "source": [
    "This notebook provides an example of how to perform Gaussian Process Regression on a 1D manifold. In this example we consider a supervised learning scenario, namely the number of labeled data points is equivalent to the number of the sampled points from the underlying manifold."
   ]
  },
  {
   "cell_type": "code",
   "execution_count": 1,
   "id": "58e9afd1",
   "metadata": {},
   "outputs": [],
   "source": [
    "%load_ext autoreload\n",
    "%autoreload 2\n",
    "    \n",
    "import os\n",
    "import sys\n",
    "import math\n",
    "import torch\n",
    "import gpytorch\n",
    "import numpy as np\n",
    "\n",
    "sys.path.insert(0, os.path.abspath(os.path.join('../')))\n",
    "from manifold_gp.kernels.riemann_matern_kernel import RiemannMaternKernel\n",
    "from manifold_gp.models import RiemannGP, VanillaGP\n",
    "from manifold_gp.utils import rmnist_dataset, vanilla_train, manifold_informed_train, test_model, NearestNeighbors"
   ]
  },
  {
   "cell_type": "markdown",
   "id": "74a13054",
   "metadata": {},
   "source": [
    "## Dataset"
   ]
  },
  {
   "cell_type": "code",
   "execution_count": 2,
   "id": "0b260ed6",
   "metadata": {},
   "outputs": [],
   "source": [
    "num_train = 0.1\n",
    "scaling, single_digit, regenerate, shuffle = True, True, False, False\n",
    "normalize_x, normalize_y = False, True\n",
    "graphbandwidth_constraint, graphbandwidth_prior = False, False\n",
    "load_manifold_model, load_vanilla_model = False, False\n",
    "train_manifold_model, train_vanilla_model = True, True\n",
    "save_manifold_model, save_vanilla_model = False, False"
   ]
  },
  {
   "cell_type": "code",
   "execution_count": 3,
   "id": "af216c23",
   "metadata": {},
   "outputs": [
    {
     "name": "stdout",
     "output_type": "stream",
     "text": [
      "Generating SRMNIST\n"
     ]
    },
    {
     "name": "stderr",
     "output_type": "stream",
     "text": [
      "2024-07-31 18:50:12.390640: I tensorflow/core/util/port.cc:113] oneDNN custom operations are on. You may see slightly different numerical results due to floating-point round-off errors from different computation orders. To turn them off, set the environment variable `TF_ENABLE_ONEDNN_OPTS=0`.\n",
      "2024-07-31 18:50:12.614725: I tensorflow/core/platform/cpu_feature_guard.cc:210] This TensorFlow binary is optimized to use available CPU instructions in performance-critical operations.\n",
      "To enable the following instructions: AVX2 AVX512F AVX512_VNNI AVX512_BF16 FMA, in other operations, rebuild TensorFlow with the appropriate compiler flags.\n",
      "2024-07-31 18:50:13.177455: W tensorflow/compiler/tf2tensorrt/utils/py_utils.cc:38] TF-TRT Warning: Could not find TensorRT\n"
     ]
    }
   ],
   "source": [
    "sampled_x, sampled_y, _, test_x, test_y, _ = rmnist_dataset(scaling=scaling, single_digit=single_digit, regenerate=regenerate, shuffle=shuffle)\n",
    "torch.manual_seed(1337)\n",
    "train_idx = torch.zeros(sampled_x.shape[0]).scatter_(0, torch.randperm(sampled_x.shape[0])[:int(num_train*sampled_x.shape[0])], 1).bool()\n",
    "# sampled_x, sampled_y = torch.from_numpy(np.load('../datasets/srmnist_train_x.npy')).float(), torch.from_numpy(np.load('../datasets/srmnist_train_y.npy')).float()\n",
    "# test_x, test_y = torch.from_numpy(np.load('../datasets/srmnist_test_x.npy')).float(), torch.from_numpy(np.load('../datasets/srmnist_test_y.npy')).float()\n",
    "# torch.manual_seed(1337)\n",
    "# rand_idx = torch.randperm(sampled_x.shape[0])\n",
    "# sampled_x, sampled_y = sampled_x[rand_idx], sampled_y[rand_idx]\n",
    "# train_idx = torch.zeros(sampled_x.shape[0]).scatter_(0, torch.arange(0, int(num_train*sampled_x.shape[0])), 1).bool()\n",
    "\n",
    "use_cuda = torch.cuda.is_available()\n",
    "device = torch.device(\"cuda\" if use_cuda else \"cpu\")\n",
    "sampled_x, sampled_y = sampled_x.contiguous().to(device).flatten(start_dim=1), sampled_y.contiguous().to(device)\n",
    "train_x, train_y = sampled_x[train_idx], sampled_y[train_idx]\n",
    "test_x, test_y = test_x.contiguous().to(device).flatten(start_dim=1), test_y.contiguous().to(device)\n",
    "    \n",
    "if normalize_x:\n",
    "    mu_x, std_x = sampled_x.mean(dim=-2, keepdim=True), sampled_x.std(dim=-2, keepdim=True) + 1e-6\n",
    "    sampled_x.sub_(mu_x).div_(std_x)\n",
    "    train_x.sub_(mu_x).div_(std_x)\n",
    "    test_x.sub_(mu_x).div_(std_x)\n",
    "if normalize_y:\n",
    "    mu_y, std_y = train_y.mean(), train_y.std()\n",
    "    sampled_y.sub_(mu_y).div_(std_y)\n",
    "    train_y.sub_(mu_y).div_(std_y)\n",
    "    test_y.sub_(mu_y).div_(std_y)"
   ]
  },
  {
   "cell_type": "code",
   "execution_count": 4,
   "id": "d608c26f-42d3-4d4d-bcd1-87a15f182243",
   "metadata": {},
   "outputs": [],
   "source": [
    "if graphbandwidth_constraint or graphbandwidth_prior:\n",
    "    knn = NearestNeighbors(sampled_x, nlist=1)\n",
    "    edge_values = knn.search(sampled_x, 10)[0][:, 1:]\n",
    "    \n",
    "    graphbandwidth_min = edge_values[:,0].max().div(-4*math.log(1e-4)).sqrt()\n",
    "    median = edge_values.sqrt().mean(dim=1).sort()[0][int(round(edge_values.shape[0]*0.50))]\n",
    "    gamma_rate = 4*median/(median-graphbandwidth_min)**2\n",
    "    gamma_concentration = gamma_rate * median + 1\n",
    "    \n",
    "    del knn, edge_values"
   ]
  },
  {
   "cell_type": "markdown",
   "id": "405d4275",
   "metadata": {},
   "source": [
    "## Model"
   ]
  },
  {
   "cell_type": "code",
   "execution_count": 5,
   "id": "f219323b-13b5-48f2-8f8b-5bcd6c07b1c0",
   "metadata": {},
   "outputs": [],
   "source": [
    "%%capture\n",
    "model_vanilla = VanillaGP(\n",
    "    train_x, \n",
    "    train_y, \n",
    "    gpytorch.likelihoods.GaussianLikelihood(), \n",
    "    # gpytorch.kernels.ScaleKernel(gpytorch.kernels.RBFKernel())\n",
    "    gpytorch.kernels.ScaleKernel(gpytorch.kernels.MaternKernel(nu=2.5))\n",
    ").to(device)\n",
    "\n",
    "hypers_vanilla = {\n",
    "    'likelihood.noise_covar.noise': 1e-2,\n",
    "    'covar_module.base_kernel.lengthscale': 1.0,\n",
    "    'covar_module.outputscale': 1.0,\n",
    "}\n",
    "model_vanilla.initialize(**hypers_vanilla)"
   ]
  },
  {
   "cell_type": "code",
   "execution_count": 6,
   "id": "83460075",
   "metadata": {},
   "outputs": [],
   "source": [
    "%%capture\n",
    "likelihood = gpytorch.likelihoods.GaussianLikelihood(\n",
    "    noise_constraint=gpytorch.constraints.GreaterThan(1e-8),\n",
    ")\n",
    "\n",
    "kernel = gpytorch.kernels.ScaleKernel(\n",
    "    RiemannMaternKernel(\n",
    "        nu=2,\n",
    "        x=sampled_x,\n",
    "        nearest_neighbors=50,\n",
    "        laplacian_normalization=\"randomwalk\",\n",
    "        num_modes=100,\n",
    "        bump_scale=10.0,\n",
    "        bump_decay=0.01,\n",
    "        graphbandwidth_constraint=gpytorch.constraints.GreaterThan(graphbandwidth_min) if graphbandwidth_constraint else None,\n",
    "        graphbandwidth_prior=gpytorch.priors.GammaPrior(gamma_concentration, gamma_rate) if graphbandwidth_prior else None\n",
    "    )\n",
    ")\n",
    "\n",
    "model = RiemannGP(train_x, train_y, likelihood, kernel, train_idx).to(device)\n",
    "\n",
    "hypers = {\n",
    "    'likelihood.noise_covar.noise': 1e-2,\n",
    "    'covar_module.base_kernel.graphbandwidth': kernel.base_kernel.graphbandwidth_prior.sample() if graphbandwidth_prior else 0.5,\n",
    "    'covar_module.base_kernel.lengthscale': 1.0,\n",
    "    'covar_module.outputscale': 1.0,\n",
    "}\n",
    "model.initialize(**hypers)"
   ]
  },
  {
   "cell_type": "markdown",
   "id": "8b14763b",
   "metadata": {},
   "source": [
    "## Train"
   ]
  },
  {
   "cell_type": "code",
   "execution_count": 7,
   "id": "2e6c7bcb-82be-4a96-a898-964fd6d85db4",
   "metadata": {},
   "outputs": [],
   "source": [
    "kernel.outputscale = 0.2433\n",
    "likelihood.noise = 0.0026\n",
    "kernel.base_kernel.graphbandwidth = 0.2020\n",
    "kernel.base_kernel.lengthscale = 1.8958"
   ]
  },
  {
   "cell_type": "code",
   "execution_count": 7,
   "id": "8b840d4c-68c2-40b0-bccd-d8e31e1b8489",
   "metadata": {
    "scrolled": true
   },
   "outputs": [
    {
     "name": "stdout",
     "output_type": "stream",
     "text": [
      "Iteration: 0, Loss: 1791.816, Lr: 0.01,\tNoise Variance: 0.010,\tSignal Variance: 1.985,\tLengthscale: 1.000, Graphbandwidth: 0.500\n",
      "Iteration: 1, Loss: 1758.000, Lr: 0.01,\tNoise Variance: 0.010,\tSignal Variance: 1.976,\tLengthscale: 1.006, Graphbandwidth: 0.504\n",
      "Iteration: 2, Loss: 1722.714, Lr: 0.01,\tNoise Variance: 0.010,\tSignal Variance: 1.968,\tLengthscale: 1.013, Graphbandwidth: 0.508\n",
      "Iteration: 3, Loss: 1689.639, Lr: 0.01,\tNoise Variance: 0.010,\tSignal Variance: 1.959,\tLengthscale: 1.019, Graphbandwidth: 0.512\n",
      "Iteration: 4, Loss: 1658.169, Lr: 0.01,\tNoise Variance: 0.010,\tSignal Variance: 1.950,\tLengthscale: 1.025, Graphbandwidth: 0.516\n",
      "Iteration: 5, Loss: 1629.954, Lr: 0.01,\tNoise Variance: 0.011,\tSignal Variance: 1.942,\tLengthscale: 1.032, Graphbandwidth: 0.520\n",
      "Iteration: 6, Loss: 1603.465, Lr: 0.01,\tNoise Variance: 0.011,\tSignal Variance: 1.934,\tLengthscale: 1.038, Graphbandwidth: 0.524\n",
      "Iteration: 7, Loss: 1578.016, Lr: 0.01,\tNoise Variance: 0.011,\tSignal Variance: 1.925,\tLengthscale: 1.044, Graphbandwidth: 0.528\n",
      "Iteration: 8, Loss: 1555.657, Lr: 0.01,\tNoise Variance: 0.011,\tSignal Variance: 1.917,\tLengthscale: 1.051, Graphbandwidth: 0.532\n",
      "Iteration: 9, Loss: 1533.306, Lr: 0.01,\tNoise Variance: 0.011,\tSignal Variance: 1.909,\tLengthscale: 1.057, Graphbandwidth: 0.535\n",
      "Iteration: 10, Loss: 1512.850, Lr: 0.01,\tNoise Variance: 0.011,\tSignal Variance: 1.901,\tLengthscale: 1.063, Graphbandwidth: 0.539\n",
      "Iteration: 11, Loss: 1495.389, Lr: 0.01,\tNoise Variance: 0.011,\tSignal Variance: 1.893,\tLengthscale: 1.069, Graphbandwidth: 0.543\n",
      "Iteration: 12, Loss: 1477.409, Lr: 0.01,\tNoise Variance: 0.011,\tSignal Variance: 1.885,\tLengthscale: 1.075, Graphbandwidth: 0.547\n",
      "Iteration: 13, Loss: 1463.444, Lr: 0.01,\tNoise Variance: 0.011,\tSignal Variance: 1.878,\tLengthscale: 1.081, Graphbandwidth: 0.550\n",
      "Iteration: 14, Loss: 1448.597, Lr: 0.01,\tNoise Variance: 0.011,\tSignal Variance: 1.870,\tLengthscale: 1.087, Graphbandwidth: 0.554\n",
      "Iteration: 15, Loss: 1435.596, Lr: 0.01,\tNoise Variance: 0.011,\tSignal Variance: 1.863,\tLengthscale: 1.093, Graphbandwidth: 0.558\n",
      "Iteration: 16, Loss: 1423.576, Lr: 0.01,\tNoise Variance: 0.012,\tSignal Variance: 1.855,\tLengthscale: 1.099, Graphbandwidth: 0.561\n",
      "Iteration: 17, Loss: 1409.851, Lr: 0.01,\tNoise Variance: 0.012,\tSignal Variance: 1.848,\tLengthscale: 1.104, Graphbandwidth: 0.564\n",
      "Iteration: 18, Loss: 1401.754, Lr: 0.01,\tNoise Variance: 0.012,\tSignal Variance: 1.841,\tLengthscale: 1.110, Graphbandwidth: 0.568\n",
      "Iteration: 19, Loss: 1395.095, Lr: 0.01,\tNoise Variance: 0.012,\tSignal Variance: 1.835,\tLengthscale: 1.115, Graphbandwidth: 0.571\n",
      "Iteration: 20, Loss: 1386.742, Lr: 0.01,\tNoise Variance: 0.012,\tSignal Variance: 1.828,\tLengthscale: 1.121, Graphbandwidth: 0.574\n",
      "Iteration: 21, Loss: 1377.999, Lr: 0.01,\tNoise Variance: 0.012,\tSignal Variance: 1.822,\tLengthscale: 1.126, Graphbandwidth: 0.577\n",
      "Iteration: 22, Loss: 1369.569, Lr: 0.01,\tNoise Variance: 0.012,\tSignal Variance: 1.816,\tLengthscale: 1.131, Graphbandwidth: 0.580\n",
      "Iteration: 23, Loss: 1364.767, Lr: 0.01,\tNoise Variance: 0.012,\tSignal Variance: 1.810,\tLengthscale: 1.136, Graphbandwidth: 0.582\n",
      "Iteration: 24, Loss: 1359.422, Lr: 0.01,\tNoise Variance: 0.012,\tSignal Variance: 1.804,\tLengthscale: 1.141, Graphbandwidth: 0.585\n",
      "Iteration: 25, Loss: 1356.157, Lr: 0.01,\tNoise Variance: 0.012,\tSignal Variance: 1.798,\tLengthscale: 1.146, Graphbandwidth: 0.587\n",
      "Iteration: 26, Loss: 1350.327, Lr: 0.01,\tNoise Variance: 0.012,\tSignal Variance: 1.793,\tLengthscale: 1.150, Graphbandwidth: 0.590\n",
      "Iteration: 27, Loss: 1346.533, Lr: 0.01,\tNoise Variance: 0.012,\tSignal Variance: 1.787,\tLengthscale: 1.155, Graphbandwidth: 0.592\n",
      "Iteration: 28, Loss: 1342.893, Lr: 0.01,\tNoise Variance: 0.012,\tSignal Variance: 1.782,\tLengthscale: 1.159, Graphbandwidth: 0.594\n",
      "Iteration: 29, Loss: 1341.316, Lr: 0.01,\tNoise Variance: 0.012,\tSignal Variance: 1.777,\tLengthscale: 1.164, Graphbandwidth: 0.596\n",
      "Iteration: 30, Loss: 1337.713, Lr: 0.01,\tNoise Variance: 0.012,\tSignal Variance: 1.773,\tLengthscale: 1.168, Graphbandwidth: 0.597\n",
      "Iteration: 31, Loss: 1332.433, Lr: 0.01,\tNoise Variance: 0.012,\tSignal Variance: 1.768,\tLengthscale: 1.172, Graphbandwidth: 0.599\n",
      "Iteration: 32, Loss: 1333.073, Lr: 0.01,\tNoise Variance: 0.012,\tSignal Variance: 1.764,\tLengthscale: 1.176, Graphbandwidth: 0.601\n",
      "Iteration: 33, Loss: 1328.825, Lr: 0.01,\tNoise Variance: 0.013,\tSignal Variance: 1.760,\tLengthscale: 1.180, Graphbandwidth: 0.602\n",
      "Iteration: 34, Loss: 1327.784, Lr: 0.01,\tNoise Variance: 0.013,\tSignal Variance: 1.756,\tLengthscale: 1.183, Graphbandwidth: 0.603\n",
      "Iteration: 35, Loss: 1328.486, Lr: 0.01,\tNoise Variance: 0.013,\tSignal Variance: 1.752,\tLengthscale: 1.187, Graphbandwidth: 0.604\n",
      "Iteration: 36, Loss: 1324.763, Lr: 0.01,\tNoise Variance: 0.013,\tSignal Variance: 1.749,\tLengthscale: 1.191, Graphbandwidth: 0.605\n",
      "Iteration: 37, Loss: 1323.792, Lr: 0.01,\tNoise Variance: 0.013,\tSignal Variance: 1.745,\tLengthscale: 1.194, Graphbandwidth: 0.606\n",
      "Iteration: 38, Loss: 1320.922, Lr: 0.01,\tNoise Variance: 0.013,\tSignal Variance: 1.742,\tLengthscale: 1.197, Graphbandwidth: 0.607\n",
      "Iteration: 39, Loss: 1322.240, Lr: 0.01,\tNoise Variance: 0.013,\tSignal Variance: 1.739,\tLengthscale: 1.200, Graphbandwidth: 0.608\n",
      "Iteration: 40, Loss: 1321.415, Lr: 0.01,\tNoise Variance: 0.013,\tSignal Variance: 1.736,\tLengthscale: 1.204, Graphbandwidth: 0.608\n",
      "Iteration: 41, Loss: 1318.171, Lr: 0.01,\tNoise Variance: 0.013,\tSignal Variance: 1.733,\tLengthscale: 1.207, Graphbandwidth: 0.609\n",
      "Iteration: 42, Loss: 1316.712, Lr: 0.01,\tNoise Variance: 0.013,\tSignal Variance: 1.730,\tLengthscale: 1.210, Graphbandwidth: 0.609\n",
      "Iteration: 43, Loss: 1317.863, Lr: 0.01,\tNoise Variance: 0.013,\tSignal Variance: 1.728,\tLengthscale: 1.213, Graphbandwidth: 0.609\n",
      "Iteration: 44, Loss: 1316.127, Lr: 0.01,\tNoise Variance: 0.013,\tSignal Variance: 1.725,\tLengthscale: 1.215, Graphbandwidth: 0.609\n",
      "Iteration: 45, Loss: 1316.871, Lr: 0.01,\tNoise Variance: 0.013,\tSignal Variance: 1.723,\tLengthscale: 1.218, Graphbandwidth: 0.609\n",
      "Iteration: 46, Loss: 1316.025, Lr: 0.01,\tNoise Variance: 0.013,\tSignal Variance: 1.721,\tLengthscale: 1.221, Graphbandwidth: 0.609\n",
      "Iteration: 47, Loss: 1312.753, Lr: 0.01,\tNoise Variance: 0.013,\tSignal Variance: 1.719,\tLengthscale: 1.223, Graphbandwidth: 0.609\n",
      "Iteration: 48, Loss: 1311.846, Lr: 0.01,\tNoise Variance: 0.013,\tSignal Variance: 1.717,\tLengthscale: 1.226, Graphbandwidth: 0.609\n",
      "Iteration: 49, Loss: 1311.758, Lr: 0.01,\tNoise Variance: 0.013,\tSignal Variance: 1.715,\tLengthscale: 1.228, Graphbandwidth: 0.608\n",
      "Iteration: 50, Loss: 1310.906, Lr: 0.01,\tNoise Variance: 0.013,\tSignal Variance: 1.714,\tLengthscale: 1.231, Graphbandwidth: 0.608\n",
      "Iteration: 51, Loss: 1311.285, Lr: 0.01,\tNoise Variance: 0.013,\tSignal Variance: 1.712,\tLengthscale: 1.233, Graphbandwidth: 0.607\n",
      "Iteration: 52, Loss: 1310.501, Lr: 0.01,\tNoise Variance: 0.013,\tSignal Variance: 1.711,\tLengthscale: 1.236, Graphbandwidth: 0.606\n",
      "Iteration: 53, Loss: 1309.051, Lr: 0.01,\tNoise Variance: 0.013,\tSignal Variance: 1.709,\tLengthscale: 1.238, Graphbandwidth: 0.606\n",
      "Iteration: 54, Loss: 1307.362, Lr: 0.01,\tNoise Variance: 0.013,\tSignal Variance: 1.708,\tLengthscale: 1.240, Graphbandwidth: 0.605\n",
      "Iteration: 55, Loss: 1307.011, Lr: 0.01,\tNoise Variance: 0.013,\tSignal Variance: 1.707,\tLengthscale: 1.242, Graphbandwidth: 0.604\n",
      "Iteration: 56, Loss: 1305.920, Lr: 0.01,\tNoise Variance: 0.013,\tSignal Variance: 1.706,\tLengthscale: 1.244, Graphbandwidth: 0.603\n",
      "Iteration: 57, Loss: 1306.203, Lr: 0.01,\tNoise Variance: 0.013,\tSignal Variance: 1.705,\tLengthscale: 1.247, Graphbandwidth: 0.602\n",
      "Iteration: 58, Loss: 1304.190, Lr: 0.01,\tNoise Variance: 0.013,\tSignal Variance: 1.704,\tLengthscale: 1.249, Graphbandwidth: 0.601\n",
      "Iteration: 59, Loss: 1303.970, Lr: 0.01,\tNoise Variance: 0.013,\tSignal Variance: 1.703,\tLengthscale: 1.251, Graphbandwidth: 0.600\n",
      "Iteration: 60, Loss: 1302.155, Lr: 0.01,\tNoise Variance: 0.013,\tSignal Variance: 1.702,\tLengthscale: 1.253, Graphbandwidth: 0.599\n",
      "Iteration: 61, Loss: 1300.893, Lr: 0.01,\tNoise Variance: 0.013,\tSignal Variance: 1.701,\tLengthscale: 1.255, Graphbandwidth: 0.597\n",
      "Iteration: 62, Loss: 1300.205, Lr: 0.01,\tNoise Variance: 0.013,\tSignal Variance: 1.700,\tLengthscale: 1.257, Graphbandwidth: 0.596\n",
      "Iteration: 63, Loss: 1298.400, Lr: 0.01,\tNoise Variance: 0.013,\tSignal Variance: 1.700,\tLengthscale: 1.259, Graphbandwidth: 0.595\n",
      "Iteration: 64, Loss: 1300.470, Lr: 0.01,\tNoise Variance: 0.013,\tSignal Variance: 1.699,\tLengthscale: 1.261, Graphbandwidth: 0.593\n",
      "Iteration: 65, Loss: 1296.760, Lr: 0.01,\tNoise Variance: 0.013,\tSignal Variance: 1.698,\tLengthscale: 1.263, Graphbandwidth: 0.592\n",
      "Iteration: 66, Loss: 1294.789, Lr: 0.01,\tNoise Variance: 0.013,\tSignal Variance: 1.698,\tLengthscale: 1.265, Graphbandwidth: 0.591\n",
      "Iteration: 67, Loss: 1294.030, Lr: 0.01,\tNoise Variance: 0.013,\tSignal Variance: 1.697,\tLengthscale: 1.267, Graphbandwidth: 0.589\n",
      "Iteration: 68, Loss: 1294.340, Lr: 0.01,\tNoise Variance: 0.012,\tSignal Variance: 1.696,\tLengthscale: 1.269, Graphbandwidth: 0.588\n",
      "Iteration: 69, Loss: 1292.289, Lr: 0.01,\tNoise Variance: 0.012,\tSignal Variance: 1.696,\tLengthscale: 1.271, Graphbandwidth: 0.586\n",
      "Iteration: 70, Loss: 1289.040, Lr: 0.01,\tNoise Variance: 0.012,\tSignal Variance: 1.695,\tLengthscale: 1.274, Graphbandwidth: 0.584\n",
      "Iteration: 71, Loss: 1289.849, Lr: 0.01,\tNoise Variance: 0.012,\tSignal Variance: 1.695,\tLengthscale: 1.276, Graphbandwidth: 0.583\n",
      "Iteration: 72, Loss: 1287.286, Lr: 0.01,\tNoise Variance: 0.012,\tSignal Variance: 1.694,\tLengthscale: 1.278, Graphbandwidth: 0.581\n",
      "Iteration: 73, Loss: 1286.655, Lr: 0.01,\tNoise Variance: 0.012,\tSignal Variance: 1.694,\tLengthscale: 1.280, Graphbandwidth: 0.579\n",
      "Iteration: 74, Loss: 1284.169, Lr: 0.01,\tNoise Variance: 0.012,\tSignal Variance: 1.694,\tLengthscale: 1.282, Graphbandwidth: 0.577\n",
      "Iteration: 75, Loss: 1284.121, Lr: 0.01,\tNoise Variance: 0.012,\tSignal Variance: 1.693,\tLengthscale: 1.284, Graphbandwidth: 0.576\n",
      "Iteration: 76, Loss: 1280.575, Lr: 0.01,\tNoise Variance: 0.012,\tSignal Variance: 1.693,\tLengthscale: 1.286, Graphbandwidth: 0.574\n",
      "Iteration: 77, Loss: 1280.798, Lr: 0.01,\tNoise Variance: 0.012,\tSignal Variance: 1.692,\tLengthscale: 1.289, Graphbandwidth: 0.572\n",
      "Iteration: 78, Loss: 1279.082, Lr: 0.01,\tNoise Variance: 0.012,\tSignal Variance: 1.692,\tLengthscale: 1.291, Graphbandwidth: 0.570\n",
      "Iteration: 79, Loss: 1277.801, Lr: 0.01,\tNoise Variance: 0.012,\tSignal Variance: 1.691,\tLengthscale: 1.293, Graphbandwidth: 0.568\n",
      "Iteration: 80, Loss: 1275.734, Lr: 0.01,\tNoise Variance: 0.012,\tSignal Variance: 1.691,\tLengthscale: 1.296, Graphbandwidth: 0.566\n",
      "Iteration: 81, Loss: 1273.740, Lr: 0.01,\tNoise Variance: 0.012,\tSignal Variance: 1.690,\tLengthscale: 1.298, Graphbandwidth: 0.564\n",
      "Iteration: 82, Loss: 1272.428, Lr: 0.01,\tNoise Variance: 0.012,\tSignal Variance: 1.690,\tLengthscale: 1.300, Graphbandwidth: 0.562\n",
      "Iteration: 83, Loss: 1268.709, Lr: 0.01,\tNoise Variance: 0.012,\tSignal Variance: 1.689,\tLengthscale: 1.303, Graphbandwidth: 0.560\n",
      "Iteration: 84, Loss: 1265.954, Lr: 0.01,\tNoise Variance: 0.012,\tSignal Variance: 1.689,\tLengthscale: 1.305, Graphbandwidth: 0.558\n",
      "Iteration: 85, Loss: 1263.149, Lr: 0.01,\tNoise Variance: 0.012,\tSignal Variance: 1.688,\tLengthscale: 1.308, Graphbandwidth: 0.556\n",
      "Iteration: 86, Loss: 1264.726, Lr: 0.01,\tNoise Variance: 0.012,\tSignal Variance: 1.688,\tLengthscale: 1.310, Graphbandwidth: 0.554\n",
      "Iteration: 87, Loss: 1263.720, Lr: 0.01,\tNoise Variance: 0.012,\tSignal Variance: 1.687,\tLengthscale: 1.313, Graphbandwidth: 0.552\n",
      "Iteration: 88, Loss: 1259.531, Lr: 0.01,\tNoise Variance: 0.012,\tSignal Variance: 1.687,\tLengthscale: 1.316, Graphbandwidth: 0.549\n",
      "Iteration: 89, Loss: 1256.710, Lr: 0.01,\tNoise Variance: 0.012,\tSignal Variance: 1.686,\tLengthscale: 1.319, Graphbandwidth: 0.547\n",
      "Iteration: 90, Loss: 1254.608, Lr: 0.01,\tNoise Variance: 0.012,\tSignal Variance: 1.685,\tLengthscale: 1.321, Graphbandwidth: 0.545\n",
      "Iteration: 91, Loss: 1248.946, Lr: 0.01,\tNoise Variance: 0.012,\tSignal Variance: 1.685,\tLengthscale: 1.324, Graphbandwidth: 0.543\n",
      "Iteration: 92, Loss: 1248.213, Lr: 0.01,\tNoise Variance: 0.012,\tSignal Variance: 1.684,\tLengthscale: 1.327, Graphbandwidth: 0.541\n",
      "Iteration: 93, Loss: 1245.422, Lr: 0.01,\tNoise Variance: 0.012,\tSignal Variance: 1.683,\tLengthscale: 1.330, Graphbandwidth: 0.538\n",
      "Iteration: 94, Loss: 1243.825, Lr: 0.01,\tNoise Variance: 0.012,\tSignal Variance: 1.683,\tLengthscale: 1.333, Graphbandwidth: 0.536\n",
      "Iteration: 95, Loss: 1242.322, Lr: 0.01,\tNoise Variance: 0.012,\tSignal Variance: 1.682,\tLengthscale: 1.336, Graphbandwidth: 0.534\n",
      "Iteration: 96, Loss: 1242.152, Lr: 0.01,\tNoise Variance: 0.012,\tSignal Variance: 1.681,\tLengthscale: 1.339, Graphbandwidth: 0.531\n",
      "Iteration: 97, Loss: 1235.089, Lr: 0.01,\tNoise Variance: 0.012,\tSignal Variance: 1.680,\tLengthscale: 1.343, Graphbandwidth: 0.529\n",
      "Iteration: 98, Loss: 1234.626, Lr: 0.01,\tNoise Variance: 0.012,\tSignal Variance: 1.679,\tLengthscale: 1.346, Graphbandwidth: 0.527\n",
      "Iteration: 99, Loss: 1228.728, Lr: 0.01,\tNoise Variance: 0.012,\tSignal Variance: 1.678,\tLengthscale: 1.349, Graphbandwidth: 0.524\n",
      "Iteration: 100, Loss: 1227.243, Lr: 0.01,\tNoise Variance: 0.012,\tSignal Variance: 1.677,\tLengthscale: 1.353, Graphbandwidth: 0.522\n"
     ]
    }
   ],
   "source": [
    "if load_manifold_model:\n",
    "    model.load_state_dict(torch.load('../models/srmnist_manifold_semisupervised.pth' if single_digit else '../models/rmnist_manifold_semisupervised.pth'))\n",
    "\n",
    "if train_manifold_model:\n",
    "    optimizer = torch.optim.Adam(model.parameters(), lr=1e-2, weight_decay=0.0)\n",
    "    scheduler = torch.optim.lr_scheduler.ReduceLROnPlateau(optimizer, mode='min', factor=0.5, patience=50, threshold=1e-3, threshold_mode='rel',\n",
    "                                                           cooldown=0, min_lr=0, eps=1e-8)\n",
    "    loss = manifold_informed_train(model, optimizer, max_iter=100, tolerance=1e-2, update_norm=None, num_rand_vec=100,\n",
    "                                   max_cholesky=1000, cg_tolerance=1e-2, cg_max_iter=1000, scheduler=scheduler, verbose=True)\n",
    "    \n",
    "if save_manifold_model:\n",
    "    torch.save(model.state_dict(), '../models/srmnist_manifold_semisupervised.pth' if single_digit else '../models/rmnist_manifold_semisupervised.pth')"
   ]
  },
  {
   "cell_type": "code",
   "execution_count": 8,
   "id": "4cce5132-05ac-4ef5-a6c8-e2aab55c867f",
   "metadata": {
    "scrolled": true
   },
   "outputs": [
    {
     "name": "stdout",
     "output_type": "stream",
     "text": [
      "Iteration: 0, Loss: 0.143, Lr: 0.01,\tNoise Variance: 0.010,\tSignal Variance: 0.994,\tLengthscale: 1.006\n",
      "Iteration: 1, Loss: 0.122, Lr: 0.01,\tNoise Variance: 0.010,\tSignal Variance: 0.987,\tLengthscale: 1.013\n",
      "Iteration: 2, Loss: 0.096, Lr: 0.01,\tNoise Variance: 0.010,\tSignal Variance: 0.981,\tLengthscale: 1.019\n",
      "Iteration: 3, Loss: 0.083, Lr: 0.01,\tNoise Variance: 0.010,\tSignal Variance: 0.975,\tLengthscale: 1.025\n",
      "Iteration: 4, Loss: 0.110, Lr: 0.01,\tNoise Variance: 0.010,\tSignal Variance: 0.969,\tLengthscale: 1.032\n",
      "Iteration: 5, Loss: 0.076, Lr: 0.01,\tNoise Variance: 0.009,\tSignal Variance: 0.963,\tLengthscale: 1.038\n",
      "Iteration: 6, Loss: 0.073, Lr: 0.01,\tNoise Variance: 0.009,\tSignal Variance: 0.956,\tLengthscale: 1.045\n",
      "Iteration: 7, Loss: 0.065, Lr: 0.01,\tNoise Variance: 0.009,\tSignal Variance: 0.950,\tLengthscale: 1.051\n",
      "Iteration: 8, Loss: 0.081, Lr: 0.01,\tNoise Variance: 0.009,\tSignal Variance: 0.944,\tLengthscale: 1.058\n",
      "Iteration: 9, Loss: 0.077, Lr: 0.01,\tNoise Variance: 0.009,\tSignal Variance: 0.938,\tLengthscale: 1.064\n",
      "Iteration: 10, Loss: 0.023, Lr: 0.01,\tNoise Variance: 0.009,\tSignal Variance: 0.932,\tLengthscale: 1.071\n",
      "Iteration: 11, Loss: 0.029, Lr: 0.01,\tNoise Variance: 0.009,\tSignal Variance: 0.926,\tLengthscale: 1.077\n",
      "Iteration: 12, Loss: 0.037, Lr: 0.01,\tNoise Variance: 0.009,\tSignal Variance: 0.920,\tLengthscale: 1.084\n",
      "Iteration: 13, Loss: 0.016, Lr: 0.01,\tNoise Variance: 0.009,\tSignal Variance: 0.914,\tLengthscale: 1.091\n",
      "Iteration: 14, Loss: -0.006, Lr: 0.01,\tNoise Variance: 0.009,\tSignal Variance: 0.908,\tLengthscale: 1.097\n",
      "Iteration: 15, Loss: 0.009, Lr: 0.01,\tNoise Variance: 0.009,\tSignal Variance: 0.902,\tLengthscale: 1.104\n",
      "Iteration: 16, Loss: 0.022, Lr: 0.01,\tNoise Variance: 0.008,\tSignal Variance: 0.896,\tLengthscale: 1.111\n",
      "Iteration: 17, Loss: -0.017, Lr: 0.01,\tNoise Variance: 0.008,\tSignal Variance: 0.890,\tLengthscale: 1.117\n",
      "Iteration: 18, Loss: 0.006, Lr: 0.01,\tNoise Variance: 0.008,\tSignal Variance: 0.885,\tLengthscale: 1.124\n",
      "Iteration: 19, Loss: -0.007, Lr: 0.01,\tNoise Variance: 0.008,\tSignal Variance: 0.879,\tLengthscale: 1.131\n",
      "Iteration: 20, Loss: -0.026, Lr: 0.01,\tNoise Variance: 0.008,\tSignal Variance: 0.873,\tLengthscale: 1.137\n",
      "Iteration: 21, Loss: -0.043, Lr: 0.01,\tNoise Variance: 0.008,\tSignal Variance: 0.867,\tLengthscale: 1.144\n",
      "Iteration: 22, Loss: -0.038, Lr: 0.01,\tNoise Variance: 0.008,\tSignal Variance: 0.861,\tLengthscale: 1.151\n",
      "Iteration: 23, Loss: -0.052, Lr: 0.01,\tNoise Variance: 0.008,\tSignal Variance: 0.856,\tLengthscale: 1.158\n",
      "Iteration: 24, Loss: -0.044, Lr: 0.01,\tNoise Variance: 0.008,\tSignal Variance: 0.850,\tLengthscale: 1.165\n",
      "Iteration: 25, Loss: -0.020, Lr: 0.01,\tNoise Variance: 0.008,\tSignal Variance: 0.844,\tLengthscale: 1.171\n",
      "Iteration: 26, Loss: -0.043, Lr: 0.01,\tNoise Variance: 0.008,\tSignal Variance: 0.839,\tLengthscale: 1.178\n",
      "Iteration: 27, Loss: -0.057, Lr: 0.01,\tNoise Variance: 0.008,\tSignal Variance: 0.833,\tLengthscale: 1.185\n",
      "Iteration: 28, Loss: -0.076, Lr: 0.01,\tNoise Variance: 0.007,\tSignal Variance: 0.827,\tLengthscale: 1.192\n",
      "Iteration: 29, Loss: -0.093, Lr: 0.01,\tNoise Variance: 0.007,\tSignal Variance: 0.822,\tLengthscale: 1.199\n",
      "Iteration: 30, Loss: -0.097, Lr: 0.01,\tNoise Variance: 0.007,\tSignal Variance: 0.816,\tLengthscale: 1.206\n",
      "Iteration: 31, Loss: -0.099, Lr: 0.01,\tNoise Variance: 0.007,\tSignal Variance: 0.811,\tLengthscale: 1.213\n",
      "Iteration: 32, Loss: -0.095, Lr: 0.01,\tNoise Variance: 0.007,\tSignal Variance: 0.805,\tLengthscale: 1.220\n",
      "Iteration: 33, Loss: -0.111, Lr: 0.01,\tNoise Variance: 0.007,\tSignal Variance: 0.800,\tLengthscale: 1.227\n",
      "Iteration: 34, Loss: -0.093, Lr: 0.01,\tNoise Variance: 0.007,\tSignal Variance: 0.795,\tLengthscale: 1.233\n",
      "Iteration: 35, Loss: -0.137, Lr: 0.01,\tNoise Variance: 0.007,\tSignal Variance: 0.789,\tLengthscale: 1.240\n",
      "Iteration: 36, Loss: -0.134, Lr: 0.01,\tNoise Variance: 0.007,\tSignal Variance: 0.784,\tLengthscale: 1.247\n",
      "Iteration: 37, Loss: -0.145, Lr: 0.01,\tNoise Variance: 0.007,\tSignal Variance: 0.779,\tLengthscale: 1.254\n",
      "Iteration: 38, Loss: -0.135, Lr: 0.01,\tNoise Variance: 0.007,\tSignal Variance: 0.773,\tLengthscale: 1.261\n",
      "Iteration: 39, Loss: -0.142, Lr: 0.01,\tNoise Variance: 0.007,\tSignal Variance: 0.768,\tLengthscale: 1.269\n",
      "Iteration: 40, Loss: -0.132, Lr: 0.01,\tNoise Variance: 0.007,\tSignal Variance: 0.763,\tLengthscale: 1.276\n",
      "Iteration: 41, Loss: -0.141, Lr: 0.01,\tNoise Variance: 0.007,\tSignal Variance: 0.758,\tLengthscale: 1.283\n",
      "Iteration: 42, Loss: -0.190, Lr: 0.01,\tNoise Variance: 0.007,\tSignal Variance: 0.752,\tLengthscale: 1.290\n",
      "Iteration: 43, Loss: -0.152, Lr: 0.01,\tNoise Variance: 0.006,\tSignal Variance: 0.747,\tLengthscale: 1.297\n",
      "Iteration: 44, Loss: -0.212, Lr: 0.01,\tNoise Variance: 0.006,\tSignal Variance: 0.742,\tLengthscale: 1.304\n",
      "Iteration: 45, Loss: -0.193, Lr: 0.01,\tNoise Variance: 0.006,\tSignal Variance: 0.737,\tLengthscale: 1.311\n",
      "Iteration: 46, Loss: -0.213, Lr: 0.01,\tNoise Variance: 0.006,\tSignal Variance: 0.732,\tLengthscale: 1.318\n",
      "Iteration: 47, Loss: -0.247, Lr: 0.01,\tNoise Variance: 0.006,\tSignal Variance: 0.727,\tLengthscale: 1.325\n",
      "Iteration: 48, Loss: -0.231, Lr: 0.01,\tNoise Variance: 0.006,\tSignal Variance: 0.722,\tLengthscale: 1.333\n",
      "Iteration: 49, Loss: -0.207, Lr: 0.01,\tNoise Variance: 0.006,\tSignal Variance: 0.717,\tLengthscale: 1.340\n",
      "Iteration: 50, Loss: -0.233, Lr: 0.01,\tNoise Variance: 0.006,\tSignal Variance: 0.712,\tLengthscale: 1.347\n",
      "Iteration: 51, Loss: -0.236, Lr: 0.01,\tNoise Variance: 0.006,\tSignal Variance: 0.707,\tLengthscale: 1.354\n",
      "Iteration: 52, Loss: -0.267, Lr: 0.01,\tNoise Variance: 0.006,\tSignal Variance: 0.702,\tLengthscale: 1.361\n",
      "Iteration: 53, Loss: -0.234, Lr: 0.01,\tNoise Variance: 0.006,\tSignal Variance: 0.697,\tLengthscale: 1.369\n",
      "Iteration: 54, Loss: -0.240, Lr: 0.01,\tNoise Variance: 0.006,\tSignal Variance: 0.693,\tLengthscale: 1.376\n",
      "Iteration: 55, Loss: -0.257, Lr: 0.01,\tNoise Variance: 0.006,\tSignal Variance: 0.688,\tLengthscale: 1.383\n",
      "Iteration: 56, Loss: -0.282, Lr: 0.01,\tNoise Variance: 0.006,\tSignal Variance: 0.683,\tLengthscale: 1.390\n",
      "Iteration: 57, Loss: -0.308, Lr: 0.01,\tNoise Variance: 0.006,\tSignal Variance: 0.678,\tLengthscale: 1.398\n",
      "Iteration: 58, Loss: -0.281, Lr: 0.01,\tNoise Variance: 0.006,\tSignal Variance: 0.674,\tLengthscale: 1.405\n",
      "Iteration: 59, Loss: -0.282, Lr: 0.01,\tNoise Variance: 0.005,\tSignal Variance: 0.669,\tLengthscale: 1.412\n",
      "Iteration: 60, Loss: -0.307, Lr: 0.01,\tNoise Variance: 0.005,\tSignal Variance: 0.664,\tLengthscale: 1.419\n",
      "Iteration: 61, Loss: -0.292, Lr: 0.01,\tNoise Variance: 0.005,\tSignal Variance: 0.660,\tLengthscale: 1.427\n",
      "Iteration: 62, Loss: -0.309, Lr: 0.01,\tNoise Variance: 0.005,\tSignal Variance: 0.655,\tLengthscale: 1.434\n",
      "Iteration: 63, Loss: -0.269, Lr: 0.01,\tNoise Variance: 0.005,\tSignal Variance: 0.651,\tLengthscale: 1.441\n",
      "Iteration: 64, Loss: -0.326, Lr: 0.01,\tNoise Variance: 0.005,\tSignal Variance: 0.646,\tLengthscale: 1.449\n",
      "Iteration: 65, Loss: -0.329, Lr: 0.01,\tNoise Variance: 0.005,\tSignal Variance: 0.641,\tLengthscale: 1.456\n",
      "Iteration: 66, Loss: -0.344, Lr: 0.01,\tNoise Variance: 0.005,\tSignal Variance: 0.637,\tLengthscale: 1.463\n",
      "Iteration: 67, Loss: -0.354, Lr: 0.01,\tNoise Variance: 0.005,\tSignal Variance: 0.632,\tLengthscale: 1.471\n",
      "Iteration: 68, Loss: -0.345, Lr: 0.01,\tNoise Variance: 0.005,\tSignal Variance: 0.628,\tLengthscale: 1.478\n",
      "Iteration: 69, Loss: -0.341, Lr: 0.01,\tNoise Variance: 0.005,\tSignal Variance: 0.624,\tLengthscale: 1.486\n",
      "Iteration: 70, Loss: -0.359, Lr: 0.01,\tNoise Variance: 0.005,\tSignal Variance: 0.619,\tLengthscale: 1.493\n",
      "Iteration: 71, Loss: -0.343, Lr: 0.01,\tNoise Variance: 0.005,\tSignal Variance: 0.615,\tLengthscale: 1.500\n",
      "Iteration: 72, Loss: -0.383, Lr: 0.01,\tNoise Variance: 0.005,\tSignal Variance: 0.611,\tLengthscale: 1.508\n",
      "Iteration: 73, Loss: -0.374, Lr: 0.01,\tNoise Variance: 0.005,\tSignal Variance: 0.606,\tLengthscale: 1.515\n",
      "Iteration: 74, Loss: -0.394, Lr: 0.01,\tNoise Variance: 0.005,\tSignal Variance: 0.602,\tLengthscale: 1.523\n",
      "Iteration: 75, Loss: -0.401, Lr: 0.01,\tNoise Variance: 0.005,\tSignal Variance: 0.598,\tLengthscale: 1.530\n",
      "Iteration: 76, Loss: -0.369, Lr: 0.01,\tNoise Variance: 0.005,\tSignal Variance: 0.593,\tLengthscale: 1.538\n",
      "Iteration: 77, Loss: -0.400, Lr: 0.01,\tNoise Variance: 0.005,\tSignal Variance: 0.589,\tLengthscale: 1.545\n",
      "Iteration: 78, Loss: -0.447, Lr: 0.01,\tNoise Variance: 0.004,\tSignal Variance: 0.585,\tLengthscale: 1.553\n",
      "Iteration: 79, Loss: -0.425, Lr: 0.01,\tNoise Variance: 0.004,\tSignal Variance: 0.581,\tLengthscale: 1.560\n",
      "Iteration: 80, Loss: -0.385, Lr: 0.01,\tNoise Variance: 0.004,\tSignal Variance: 0.577,\tLengthscale: 1.568\n",
      "Iteration: 81, Loss: -0.448, Lr: 0.01,\tNoise Variance: 0.004,\tSignal Variance: 0.573,\tLengthscale: 1.575\n",
      "Iteration: 82, Loss: -0.433, Lr: 0.01,\tNoise Variance: 0.004,\tSignal Variance: 0.569,\tLengthscale: 1.583\n",
      "Iteration: 83, Loss: -0.455, Lr: 0.01,\tNoise Variance: 0.004,\tSignal Variance: 0.565,\tLengthscale: 1.590\n",
      "Iteration: 84, Loss: -0.472, Lr: 0.01,\tNoise Variance: 0.004,\tSignal Variance: 0.561,\tLengthscale: 1.598\n",
      "Iteration: 85, Loss: -0.426, Lr: 0.01,\tNoise Variance: 0.004,\tSignal Variance: 0.557,\tLengthscale: 1.605\n",
      "Iteration: 86, Loss: -0.462, Lr: 0.01,\tNoise Variance: 0.004,\tSignal Variance: 0.553,\tLengthscale: 1.613\n",
      "Iteration: 87, Loss: -0.469, Lr: 0.01,\tNoise Variance: 0.004,\tSignal Variance: 0.549,\tLengthscale: 1.620\n",
      "Iteration: 88, Loss: -0.459, Lr: 0.01,\tNoise Variance: 0.004,\tSignal Variance: 0.545,\tLengthscale: 1.628\n",
      "Iteration: 89, Loss: -0.483, Lr: 0.01,\tNoise Variance: 0.004,\tSignal Variance: 0.541,\tLengthscale: 1.635\n",
      "Iteration: 90, Loss: -0.497, Lr: 0.01,\tNoise Variance: 0.004,\tSignal Variance: 0.537,\tLengthscale: 1.643\n",
      "Iteration: 91, Loss: -0.520, Lr: 0.01,\tNoise Variance: 0.004,\tSignal Variance: 0.534,\tLengthscale: 1.651\n",
      "Iteration: 92, Loss: -0.513, Lr: 0.01,\tNoise Variance: 0.004,\tSignal Variance: 0.530,\tLengthscale: 1.658\n",
      "Iteration: 93, Loss: -0.536, Lr: 0.01,\tNoise Variance: 0.004,\tSignal Variance: 0.526,\tLengthscale: 1.666\n",
      "Iteration: 94, Loss: -0.525, Lr: 0.01,\tNoise Variance: 0.004,\tSignal Variance: 0.523,\tLengthscale: 1.673\n",
      "Iteration: 95, Loss: -0.492, Lr: 0.01,\tNoise Variance: 0.004,\tSignal Variance: 0.519,\tLengthscale: 1.681\n",
      "Iteration: 96, Loss: -0.556, Lr: 0.01,\tNoise Variance: 0.004,\tSignal Variance: 0.515,\tLengthscale: 1.688\n",
      "Iteration: 97, Loss: -0.543, Lr: 0.01,\tNoise Variance: 0.004,\tSignal Variance: 0.512,\tLengthscale: 1.696\n",
      "Iteration: 98, Loss: -0.519, Lr: 0.01,\tNoise Variance: 0.004,\tSignal Variance: 0.508,\tLengthscale: 1.704\n",
      "Iteration: 99, Loss: -0.541, Lr: 0.01,\tNoise Variance: 0.004,\tSignal Variance: 0.505,\tLengthscale: 1.711\n",
      "Iteration: 100, Loss: -0.573, Lr: 0.01,\tNoise Variance: 0.004,\tSignal Variance: 0.501,\tLengthscale: 1.719\n"
     ]
    }
   ],
   "source": [
    "if load_vanilla_model:\n",
    "    model_vanilla.load_state_dict(torch.load('../models/srmnist_vanilla_semisupervised.pth' if single_digit else '../models/rmnist_vanilla_semisupervised.pth'))\n",
    "\n",
    "if train_vanilla_model:\n",
    "    optimizer_vanilla = torch.optim.Adam(model_vanilla.parameters(), lr=1e-2, weight_decay=0.0)\n",
    "    scheduler_vanilla = torch.optim.lr_scheduler.ReduceLROnPlateau(optimizer_vanilla, mode='min', factor=0.5, patience=200, threshold=1e-3, \n",
    "                                                                   threshold_mode='rel', cooldown=0, min_lr=0, eps=1e-8)\n",
    "    loss = vanilla_train(model_vanilla, optimizer_vanilla, max_iter=100, max_cholesky=1000, tolerance=1e-2, \n",
    "                         cg_tolerance=1e-2, cg_max_iter=1000, scheduler=None, verbose=True)\n",
    "    \n",
    "if save_vanilla_model:\n",
    "    torch.save(model_vanilla.state_dict(), '../models/srmnist_vanilla_semisupervised.pth' if single_digit else '../models/rmnist_vanilla_semisupervised.pth')"
   ]
  },
  {
   "cell_type": "markdown",
   "id": "0ab36075",
   "metadata": {},
   "source": [
    "## Evaluation"
   ]
  },
  {
   "cell_type": "code",
   "execution_count": 9,
   "id": "83bd90e4-42d9-4b81-8fc2-e553a99c5a41",
   "metadata": {},
   "outputs": [
    {
     "name": "stdout",
     "output_type": "stream",
     "text": [
      "RMSE Vanilla:  tensor(0.0666, device='cuda:0')\n",
      "NLL Vanilla:  tensor(-0.8721, device='cuda:0')\n"
     ]
    }
   ],
   "source": [
    "rmse_vanilla, nll_vanilla = test_model(model_vanilla, test_x, test_y, noisy_test=True, base_model=None, max_cholesky=1000, cg_tolerance=1e-2, cg_iterations=1000)\n",
    "print(\"RMSE Vanilla: \", rmse_vanilla)\n",
    "print(\"NLL Vanilla: \", nll_vanilla)"
   ]
  },
  {
   "cell_type": "code",
   "execution_count": 10,
   "id": "f37f4400-cfa1-4541-bf26-f4289e5747ad",
   "metadata": {
    "scrolled": true
   },
   "outputs": [
    {
     "name": "stdout",
     "output_type": "stream",
     "text": [
      "RMSE Geometric:  tensor(0.0191, device='cuda:0')\n",
      "NLL Geometric:  tensor(-1.2322, device='cuda:0')\n"
     ]
    }
   ],
   "source": [
    "rmse, nll = test_model(model, test_x, test_y, noisy_test=True, base_model=model_vanilla, max_cholesky=1000, cg_tolerance=1e-2, cg_iterations=1000)\n",
    "print(\"RMSE Geometric: \", rmse)\n",
    "print(\"NLL Geometric: \", nll)"
   ]
  },
  {
   "cell_type": "code",
   "execution_count": null,
   "id": "4f6707e6-31b9-4d4d-bac6-90c819fc248d",
   "metadata": {},
   "outputs": [],
   "source": []
  }
 ],
 "metadata": {
  "kernelspec": {
   "display_name": "Python 3 (ipykernel)",
   "language": "python",
   "name": "python3"
  },
  "language_info": {
   "codemirror_mode": {
    "name": "ipython",
    "version": 3
   },
   "file_extension": ".py",
   "mimetype": "text/x-python",
   "name": "python",
   "nbconvert_exporter": "python",
   "pygments_lexer": "ipython3",
   "version": "3.10.12"
  },
  "vscode": {
   "interpreter": {
    "hash": "916dbcbb3f70747c44a77c7bcd40155683ae19c65e1c03b4aa3499c5328201f1"
   }
  }
 },
 "nbformat": 4,
 "nbformat_minor": 5
}
