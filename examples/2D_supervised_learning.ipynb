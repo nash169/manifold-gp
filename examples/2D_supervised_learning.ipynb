{
 "cells": [
  {
   "cell_type": "markdown",
   "id": "5e276dbe",
   "metadata": {},
   "source": [
    "# Manifold GP Semi-Supervised Learning via Precision Matrix on 2D Manifold"
   ]
  },
  {
   "cell_type": "markdown",
   "id": "a36444a5",
   "metadata": {},
   "source": [
    "## Preamble"
   ]
  },
  {
   "cell_type": "markdown",
   "id": "01d17d1f",
   "metadata": {},
   "source": [
    "This notebook provides an example of how to perform Gaussian Process Regression on a 1D manifold. In this example we consider a supervised learning scenario, namely the number of labeled data points is equivalent to the number of the sampled points from the underlying manifold."
   ]
  },
  {
   "cell_type": "code",
   "execution_count": 1,
   "id": "8f47cbcb",
   "metadata": {},
   "outputs": [],
   "source": [
    "# from xvfbwrapper import Xvfb\n",
    "# vdisplay = Xvfb(width=1920, height=1080)\n",
    "# vdisplay.start()"
   ]
  },
  {
   "cell_type": "code",
   "execution_count": 2,
   "id": "2b4a0b01",
   "metadata": {},
   "outputs": [],
   "source": [
    "import numpy as np\n",
    "import torch\n",
    "import gpytorch\n",
    "from mayavi import mlab\n",
    "from importlib.resources import files\n",
    "from manifold_gp.kernels.riemann_matern_kernel import RiemannMaternKernel\n",
    "from manifold_gp.models.riemann_gp import RiemannGP\n",
    "from manifold_gp.utils.generate_truth import groundtruth_from_mesh"
   ]
  },
  {
   "cell_type": "markdown",
   "id": "d183e102",
   "metadata": {},
   "source": [
    "Select the device: GPU or CPU."
   ]
  },
  {
   "cell_type": "code",
   "execution_count": 3,
   "id": "d3ffb421",
   "metadata": {},
   "outputs": [],
   "source": [
    "use_cuda = torch.cuda.is_available()\n",
    "device = torch.device(\"cuda\" if use_cuda else \"cpu\")"
   ]
  },
  {
   "cell_type": "markdown",
   "id": "75701656",
   "metadata": {},
   "source": [
    "## Load Dataset and Generate Ground Truth"
   ]
  },
  {
   "cell_type": "code",
   "execution_count": 4,
   "id": "af216c23",
   "metadata": {},
   "outputs": [],
   "source": [
    "data_path = files('manifold_gp.data').joinpath('dragon10k.stl')\n",
    "nodes, faces, truth = groundtruth_from_mesh(data_path)\n",
    "sampled_x = torch.from_numpy(nodes).float().to(device)\n",
    "sampled_y = torch.from_numpy(truth).float().to(device)\n",
    "(m, n) = sampled_x.shape"
   ]
  },
  {
   "cell_type": "markdown",
   "id": "7184071a",
   "metadata": {},
   "source": [
    "## Normalization"
   ]
  },
  {
   "cell_type": "code",
   "execution_count": 5,
   "id": "6b7c831a",
   "metadata": {},
   "outputs": [],
   "source": [
    "# mu, std = sampled_x.mean(0), sampled_x.std(0)\n",
    "# sampled_x.sub_(mu).div_(std)"
   ]
  },
  {
   "cell_type": "markdown",
   "id": "1d66b347",
   "metadata": {},
   "source": [
    "## Apply Noise to the Dataset"
   ]
  },
  {
   "cell_type": "markdown",
   "id": "a03af248",
   "metadata": {},
   "source": [
    "In order to simulate real case scenario we can apply a normally distributed noise to our dataset. Here we can consider to apply the noise either to the sampled data points from the manifold or to the ground truth relative to each labeled points."
   ]
  },
  {
   "cell_type": "markdown",
   "id": "46b97436",
   "metadata": {},
   "source": [
    "### Apply noise to the manifold\n",
    "Setting the variable `manifold_noise` you can apply Gaussian noise to the sampled points from the manifold."
   ]
  },
  {
   "cell_type": "code",
   "execution_count": 6,
   "id": "86d8f443",
   "metadata": {},
   "outputs": [],
   "source": [
    "manifold_noise = 0.0\n",
    "noisy_x = sampled_x + manifold_noise * torch.randn(m, n).to(device)"
   ]
  },
  {
   "cell_type": "markdown",
   "id": "93184056",
   "metadata": {},
   "source": [
    "### Apply noise to the ground truth\n",
    "Setting the variable `function_noise` you can apply Gaussian noise to the training points."
   ]
  },
  {
   "cell_type": "code",
   "execution_count": 7,
   "id": "878cd4f8",
   "metadata": {},
   "outputs": [],
   "source": [
    "function_noise = 0.0\n",
    "noisy_y = sampled_y + function_noise * torch.randn(m).to(device)"
   ]
  },
  {
   "cell_type": "markdown",
   "id": "3b810778",
   "metadata": {},
   "source": [
    "## Training Dataset"
   ]
  },
  {
   "cell_type": "markdown",
   "id": "08338c74",
   "metadata": {},
   "source": [
    "Create the training dataset. You can set the variable `num_train` to define the number of points within your dataset."
   ]
  },
  {
   "cell_type": "code",
   "execution_count": 8,
   "id": "fea41972",
   "metadata": {},
   "outputs": [],
   "source": [
    "num_train = 100\n",
    "train_idx = torch.randperm(m)[:num_train]\n",
    "train_x = noisy_x[train_idx, :]\n",
    "train_y = noisy_y[train_idx]"
   ]
  },
  {
   "cell_type": "markdown",
   "id": "7004891b",
   "metadata": {},
   "source": [
    "## Test Dataset"
   ]
  },
  {
   "cell_type": "markdown",
   "id": "45a40481",
   "metadata": {},
   "source": [
    "Create the training dataset. You can set the variable `num_test` to define the number of points within your dataset."
   ]
  },
  {
   "cell_type": "code",
   "execution_count": 9,
   "id": "8414d8d3",
   "metadata": {},
   "outputs": [],
   "source": [
    "num_test = 100\n",
    "test_idx = torch.randperm(m)[:num_test]\n",
    "test_x = noisy_x[test_idx, :]\n",
    "test_y = noisy_y[test_idx]"
   ]
  },
  {
   "cell_type": "markdown",
   "id": "d3441ad2",
   "metadata": {},
   "source": [
    "## Initialize Kernel"
   ]
  },
  {
   "cell_type": "markdown",
   "id": "deed270f",
   "metadata": {},
   "source": [
    "Create the Riemann Matern kernel. `nu` control the kernel smoothness like in the stadard Matern kernel. `neighbors` set the number of nearest neighbors in the KNN-based discrete approximation of the Laplace-Beltrami operator and construction of differentiable eigenfunctions. `modes` set the number of the eigenfunctions used to approximate the Riemann Matern kernel. As for classical *GPyTorch* kernels the Riemann Matern kernel can be decorated using with the *ScaleKernel* to have the signal variance parameter."
   ]
  },
  {
   "cell_type": "code",
   "execution_count": 10,
   "id": "15e47b46",
   "metadata": {},
   "outputs": [],
   "source": [
    "nu = 2\n",
    "neighbors = 10\n",
    "modes = 50\n",
    "support_kernel = gpytorch.kernels.RBFKernel()\n",
    "kernel = gpytorch.kernels.ScaleKernel(RiemannMaternKernel(nu=nu, nodes=train_x, neighbors=neighbors, modes=modes, support_kernel=support_kernel))"
   ]
  },
  {
   "cell_type": "markdown",
   "id": "8c286da6",
   "metadata": {},
   "source": [
    "## Initialize Likelihood and GP Model"
   ]
  },
  {
   "cell_type": "markdown",
   "id": "b42aae40",
   "metadata": {},
   "source": [
    "Define the type of likelihood and the GP model. The GP model takes as input the training set and and labels, the likelihood and the Riemann Matern Kernel."
   ]
  },
  {
   "cell_type": "code",
   "execution_count": 11,
   "id": "69104add",
   "metadata": {},
   "outputs": [],
   "source": [
    "likelihood = gpytorch.likelihoods.GaussianLikelihood(noise_constraint=gpytorch.constraints.GreaterThan(1e-8))\n",
    "model = RiemannGP(train_x, train_y, likelihood, kernel).to(device)"
   ]
  },
  {
   "cell_type": "markdown",
   "id": "b57d3ead",
   "metadata": {},
   "source": [
    "## Model Hyperparameters Setting"
   ]
  },
  {
   "cell_type": "code",
   "execution_count": 12,
   "id": "473d4113",
   "metadata": {},
   "outputs": [],
   "source": [
    "%%capture\n",
    "hypers = {\n",
    "    'likelihood.noise_covar.noise': 1e-5,\n",
    "    'covar_module.base_kernel.epsilon': 0.5,\n",
    "    'covar_module.base_kernel.lengthscale': 0.5,\n",
    "    'covar_module.outputscale': 1.0,\n",
    "    'covar_module.base_kernel.support_kernel.lengthscale': 0.1\n",
    "}\n",
    "model.initialize(**hypers)"
   ]
  },
  {
   "cell_type": "markdown",
   "id": "a22df61e",
   "metadata": {},
   "source": [
    "## Train Model"
   ]
  },
  {
   "cell_type": "markdown",
   "id": "4af1e367",
   "metadata": {},
   "source": [
    "Train the GP model using the fast Lanczos precision matrix optimization. `lr` set the learning rate; `iters` defines the number of iteratios; `verbose` can be set to `True` for printing the parameters each iteration."
   ]
  },
  {
   "cell_type": "code",
   "execution_count": 13,
   "id": "ea2acb07",
   "metadata": {},
   "outputs": [
    {
     "name": "stdout",
     "output_type": "stream",
     "text": [
      "Iteration: 0, Loss: 129982.898, Noise Variance: 0.003, Signal Variance: 1.000, Lengthscale: 0.500, Epsilon: 0.500\n",
      "Iteration: 1, Loss: 125269.453, Noise Variance: 0.003, Signal Variance: 1.003, Lengthscale: 0.504, Epsilon: 0.496\n",
      "Iteration: 2, Loss: 120736.945, Noise Variance: 0.003, Signal Variance: 1.006, Lengthscale: 0.508, Epsilon: 0.492\n",
      "Iteration: 3, Loss: 116381.453, Noise Variance: 0.003, Signal Variance: 1.009, Lengthscale: 0.512, Epsilon: 0.488\n",
      "Iteration: 4, Loss: 112198.773, Noise Variance: 0.003, Signal Variance: 1.013, Lengthscale: 0.516, Epsilon: 0.484\n",
      "Iteration: 5, Loss: 108184.758, Noise Variance: 0.003, Signal Variance: 1.016, Lengthscale: 0.520, Epsilon: 0.481\n",
      "Iteration: 6, Loss: 104334.789, Noise Variance: 0.003, Signal Variance: 1.019, Lengthscale: 0.524, Epsilon: 0.477\n",
      "Iteration: 7, Loss: 100644.258, Noise Variance: 0.003, Signal Variance: 1.022, Lengthscale: 0.528, Epsilon: 0.473\n",
      "Iteration: 8, Loss: 97108.312, Noise Variance: 0.003, Signal Variance: 1.025, Lengthscale: 0.532, Epsilon: 0.469\n",
      "Iteration: 9, Loss: 93722.094, Noise Variance: 0.003, Signal Variance: 1.028, Lengthscale: 0.536, Epsilon: 0.466\n",
      "Iteration: 10, Loss: 90480.586, Noise Variance: 0.003, Signal Variance: 1.031, Lengthscale: 0.540, Epsilon: 0.462\n",
      "Iteration: 11, Loss: 87378.766, Noise Variance: 0.003, Signal Variance: 1.034, Lengthscale: 0.544, Epsilon: 0.458\n",
      "Iteration: 12, Loss: 84411.688, Noise Variance: 0.003, Signal Variance: 1.037, Lengthscale: 0.548, Epsilon: 0.455\n",
      "Iteration: 13, Loss: 81574.219, Noise Variance: 0.003, Signal Variance: 1.040, Lengthscale: 0.552, Epsilon: 0.451\n",
      "Iteration: 14, Loss: 78861.438, Noise Variance: 0.003, Signal Variance: 1.043, Lengthscale: 0.556, Epsilon: 0.448\n",
      "Iteration: 15, Loss: 76268.352, Noise Variance: 0.003, Signal Variance: 1.046, Lengthscale: 0.560, Epsilon: 0.444\n",
      "Iteration: 16, Loss: 73790.016, Noise Variance: 0.003, Signal Variance: 1.049, Lengthscale: 0.564, Epsilon: 0.441\n",
      "Iteration: 17, Loss: 71421.758, Noise Variance: 0.003, Signal Variance: 1.052, Lengthscale: 0.568, Epsilon: 0.438\n",
      "Iteration: 18, Loss: 69158.750, Noise Variance: 0.003, Signal Variance: 1.055, Lengthscale: 0.572, Epsilon: 0.434\n",
      "Iteration: 19, Loss: 66996.438, Noise Variance: 0.003, Signal Variance: 1.057, Lengthscale: 0.575, Epsilon: 0.431\n",
      "Iteration: 20, Loss: 64930.363, Noise Variance: 0.003, Signal Variance: 1.060, Lengthscale: 0.579, Epsilon: 0.428\n",
      "Iteration: 21, Loss: 62956.141, Noise Variance: 0.003, Signal Variance: 1.063, Lengthscale: 0.583, Epsilon: 0.424\n",
      "Iteration: 22, Loss: 61069.535, Noise Variance: 0.003, Signal Variance: 1.066, Lengthscale: 0.587, Epsilon: 0.421\n",
      "Iteration: 23, Loss: 59266.523, Noise Variance: 0.003, Signal Variance: 1.068, Lengthscale: 0.590, Epsilon: 0.418\n",
      "Iteration: 24, Loss: 57543.129, Noise Variance: 0.004, Signal Variance: 1.071, Lengthscale: 0.594, Epsilon: 0.415\n",
      "Iteration: 25, Loss: 55895.504, Noise Variance: 0.004, Signal Variance: 1.073, Lengthscale: 0.598, Epsilon: 0.412\n",
      "Iteration: 26, Loss: 54320.078, Noise Variance: 0.004, Signal Variance: 1.076, Lengthscale: 0.601, Epsilon: 0.409\n",
      "Iteration: 27, Loss: 52813.316, Noise Variance: 0.004, Signal Variance: 1.079, Lengthscale: 0.605, Epsilon: 0.406\n",
      "Iteration: 28, Loss: 51371.863, Noise Variance: 0.004, Signal Variance: 1.081, Lengthscale: 0.608, Epsilon: 0.403\n",
      "Iteration: 29, Loss: 49992.488, Noise Variance: 0.004, Signal Variance: 1.083, Lengthscale: 0.612, Epsilon: 0.400\n",
      "Iteration: 30, Loss: 48672.145, Noise Variance: 0.004, Signal Variance: 1.086, Lengthscale: 0.615, Epsilon: 0.397\n",
      "Iteration: 31, Loss: 47407.883, Noise Variance: 0.004, Signal Variance: 1.088, Lengthscale: 0.619, Epsilon: 0.394\n",
      "Iteration: 32, Loss: 46196.906, Noise Variance: 0.004, Signal Variance: 1.090, Lengthscale: 0.622, Epsilon: 0.391\n",
      "Iteration: 33, Loss: 45036.539, Noise Variance: 0.004, Signal Variance: 1.093, Lengthscale: 0.625, Epsilon: 0.388\n",
      "Iteration: 34, Loss: 43924.270, Noise Variance: 0.004, Signal Variance: 1.095, Lengthscale: 0.629, Epsilon: 0.385\n",
      "Iteration: 35, Loss: 42857.684, Noise Variance: 0.004, Signal Variance: 1.097, Lengthscale: 0.632, Epsilon: 0.382\n",
      "Iteration: 36, Loss: 41834.461, Noise Variance: 0.004, Signal Variance: 1.099, Lengthscale: 0.635, Epsilon: 0.380\n",
      "Iteration: 37, Loss: 40852.457, Noise Variance: 0.004, Signal Variance: 1.101, Lengthscale: 0.638, Epsilon: 0.377\n",
      "Iteration: 38, Loss: 39909.602, Noise Variance: 0.004, Signal Variance: 1.104, Lengthscale: 0.642, Epsilon: 0.374\n",
      "Iteration: 39, Loss: 39003.930, Noise Variance: 0.004, Signal Variance: 1.106, Lengthscale: 0.645, Epsilon: 0.372\n",
      "Iteration: 40, Loss: 38133.598, Noise Variance: 0.004, Signal Variance: 1.108, Lengthscale: 0.648, Epsilon: 0.369\n",
      "Iteration: 41, Loss: 37296.812, Noise Variance: 0.004, Signal Variance: 1.110, Lengthscale: 0.651, Epsilon: 0.366\n",
      "Iteration: 42, Loss: 36491.965, Noise Variance: 0.004, Signal Variance: 1.112, Lengthscale: 0.654, Epsilon: 0.364\n",
      "Iteration: 43, Loss: 35717.422, Noise Variance: 0.004, Signal Variance: 1.113, Lengthscale: 0.657, Epsilon: 0.361\n",
      "Iteration: 44, Loss: 34971.730, Noise Variance: 0.004, Signal Variance: 1.115, Lengthscale: 0.660, Epsilon: 0.359\n",
      "Iteration: 45, Loss: 34253.477, Noise Variance: 0.004, Signal Variance: 1.117, Lengthscale: 0.662, Epsilon: 0.356\n",
      "Iteration: 46, Loss: 33561.285, Noise Variance: 0.004, Signal Variance: 1.119, Lengthscale: 0.665, Epsilon: 0.354\n",
      "Iteration: 47, Loss: 32893.934, Noise Variance: 0.004, Signal Variance: 1.121, Lengthscale: 0.668, Epsilon: 0.351\n",
      "Iteration: 48, Loss: 32250.201, Noise Variance: 0.004, Signal Variance: 1.123, Lengthscale: 0.671, Epsilon: 0.349\n",
      "Iteration: 49, Loss: 31628.982, Noise Variance: 0.004, Signal Variance: 1.124, Lengthscale: 0.674, Epsilon: 0.346\n",
      "Iteration: 50, Loss: 31029.195, Noise Variance: 0.004, Signal Variance: 1.126, Lengthscale: 0.676, Epsilon: 0.344\n",
      "Iteration: 51, Loss: 30449.822, Noise Variance: 0.004, Signal Variance: 1.128, Lengthscale: 0.679, Epsilon: 0.342\n",
      "Iteration: 52, Loss: 29889.902, Noise Variance: 0.004, Signal Variance: 1.130, Lengthscale: 0.682, Epsilon: 0.339\n",
      "Iteration: 53, Loss: 29348.551, Noise Variance: 0.004, Signal Variance: 1.131, Lengthscale: 0.684, Epsilon: 0.337\n",
      "Iteration: 54, Loss: 28824.893, Noise Variance: 0.004, Signal Variance: 1.133, Lengthscale: 0.687, Epsilon: 0.335\n",
      "Iteration: 55, Loss: 28318.154, Noise Variance: 0.004, Signal Variance: 1.134, Lengthscale: 0.689, Epsilon: 0.332\n",
      "Iteration: 56, Loss: 27827.523, Noise Variance: 0.004, Signal Variance: 1.136, Lengthscale: 0.692, Epsilon: 0.330\n",
      "Iteration: 57, Loss: 27352.295, Noise Variance: 0.004, Signal Variance: 1.138, Lengthscale: 0.694, Epsilon: 0.328\n",
      "Iteration: 58, Loss: 26891.809, Noise Variance: 0.004, Signal Variance: 1.139, Lengthscale: 0.697, Epsilon: 0.325\n",
      "Iteration: 59, Loss: 26445.377, Noise Variance: 0.004, Signal Variance: 1.141, Lengthscale: 0.699, Epsilon: 0.323\n",
      "Iteration: 60, Loss: 26012.393, Noise Variance: 0.004, Signal Variance: 1.142, Lengthscale: 0.702, Epsilon: 0.321\n",
      "Iteration: 61, Loss: 25592.287, Noise Variance: 0.004, Signal Variance: 1.144, Lengthscale: 0.704, Epsilon: 0.319\n",
      "Iteration: 62, Loss: 25184.512, Noise Variance: 0.004, Signal Variance: 1.145, Lengthscale: 0.706, Epsilon: 0.316\n",
      "Iteration: 63, Loss: 24788.523, Noise Variance: 0.004, Signal Variance: 1.147, Lengthscale: 0.709, Epsilon: 0.314\n",
      "Iteration: 64, Loss: 24403.840, Noise Variance: 0.004, Signal Variance: 1.148, Lengthscale: 0.711, Epsilon: 0.312\n",
      "Iteration: 65, Loss: 24029.996, Noise Variance: 0.004, Signal Variance: 1.149, Lengthscale: 0.713, Epsilon: 0.310\n",
      "Iteration: 66, Loss: 23666.541, Noise Variance: 0.004, Signal Variance: 1.151, Lengthscale: 0.716, Epsilon: 0.308\n",
      "Iteration: 67, Loss: 23313.053, Noise Variance: 0.004, Signal Variance: 1.152, Lengthscale: 0.718, Epsilon: 0.306\n",
      "Iteration: 68, Loss: 22969.129, Noise Variance: 0.004, Signal Variance: 1.154, Lengthscale: 0.720, Epsilon: 0.303\n",
      "Iteration: 69, Loss: 22634.391, Noise Variance: 0.004, Signal Variance: 1.155, Lengthscale: 0.722, Epsilon: 0.301\n",
      "Iteration: 70, Loss: 22308.479, Noise Variance: 0.004, Signal Variance: 1.156, Lengthscale: 0.724, Epsilon: 0.299\n",
      "Iteration: 71, Loss: 21991.051, Noise Variance: 0.004, Signal Variance: 1.157, Lengthscale: 0.727, Epsilon: 0.297\n",
      "Iteration: 72, Loss: 21681.768, Noise Variance: 0.004, Signal Variance: 1.159, Lengthscale: 0.729, Epsilon: 0.295\n",
      "Iteration: 73, Loss: 21380.344, Noise Variance: 0.004, Signal Variance: 1.160, Lengthscale: 0.731, Epsilon: 0.293\n",
      "Iteration: 74, Loss: 21086.447, Noise Variance: 0.004, Signal Variance: 1.161, Lengthscale: 0.733, Epsilon: 0.291\n",
      "Iteration: 75, Loss: 20799.826, Noise Variance: 0.004, Signal Variance: 1.163, Lengthscale: 0.735, Epsilon: 0.289\n"
     ]
    },
    {
     "name": "stdout",
     "output_type": "stream",
     "text": [
      "Iteration: 76, Loss: 20520.211, Noise Variance: 0.004, Signal Variance: 1.164, Lengthscale: 0.737, Epsilon: 0.287\n",
      "Iteration: 77, Loss: 20247.336, Noise Variance: 0.004, Signal Variance: 1.165, Lengthscale: 0.739, Epsilon: 0.285\n",
      "Iteration: 78, Loss: 19980.967, Noise Variance: 0.004, Signal Variance: 1.166, Lengthscale: 0.741, Epsilon: 0.283\n",
      "Iteration: 79, Loss: 19720.865, Noise Variance: 0.004, Signal Variance: 1.167, Lengthscale: 0.743, Epsilon: 0.281\n",
      "Iteration: 80, Loss: 19466.812, Noise Variance: 0.004, Signal Variance: 1.169, Lengthscale: 0.745, Epsilon: 0.279\n",
      "Iteration: 81, Loss: 19218.600, Noise Variance: 0.004, Signal Variance: 1.170, Lengthscale: 0.747, Epsilon: 0.277\n",
      "Iteration: 82, Loss: 18976.020, Noise Variance: 0.004, Signal Variance: 1.171, Lengthscale: 0.749, Epsilon: 0.275\n",
      "Iteration: 83, Loss: 18738.891, Noise Variance: 0.004, Signal Variance: 1.172, Lengthscale: 0.751, Epsilon: 0.272\n",
      "Iteration: 84, Loss: 18507.021, Noise Variance: 0.004, Signal Variance: 1.173, Lengthscale: 0.753, Epsilon: 0.270\n",
      "Iteration: 85, Loss: 18280.236, Noise Variance: 0.004, Signal Variance: 1.174, Lengthscale: 0.755, Epsilon: 0.268\n",
      "Iteration: 86, Loss: 18058.381, Noise Variance: 0.004, Signal Variance: 1.175, Lengthscale: 0.757, Epsilon: 0.267\n",
      "Iteration: 87, Loss: 17841.273, Noise Variance: 0.004, Signal Variance: 1.177, Lengthscale: 0.759, Epsilon: 0.265\n",
      "Iteration: 88, Loss: 17628.777, Noise Variance: 0.004, Signal Variance: 1.178, Lengthscale: 0.761, Epsilon: 0.263\n",
      "Iteration: 89, Loss: 17420.742, Noise Variance: 0.004, Signal Variance: 1.179, Lengthscale: 0.763, Epsilon: 0.261\n",
      "Iteration: 90, Loss: 17217.016, Noise Variance: 0.004, Signal Variance: 1.180, Lengthscale: 0.764, Epsilon: 0.259\n",
      "Iteration: 91, Loss: 17017.482, Noise Variance: 0.004, Signal Variance: 1.181, Lengthscale: 0.766, Epsilon: 0.257\n",
      "Iteration: 92, Loss: 16821.990, Noise Variance: 0.004, Signal Variance: 1.182, Lengthscale: 0.768, Epsilon: 0.255\n",
      "Iteration: 93, Loss: 16630.438, Noise Variance: 0.004, Signal Variance: 1.183, Lengthscale: 0.770, Epsilon: 0.253\n",
      "Iteration: 94, Loss: 16442.686, Noise Variance: 0.004, Signal Variance: 1.184, Lengthscale: 0.772, Epsilon: 0.251\n",
      "Iteration: 95, Loss: 16258.639, Noise Variance: 0.004, Signal Variance: 1.185, Lengthscale: 0.773, Epsilon: 0.249\n",
      "Iteration: 96, Loss: 16078.167, Noise Variance: 0.004, Signal Variance: 1.186, Lengthscale: 0.775, Epsilon: 0.247\n",
      "Iteration: 97, Loss: 15901.184, Noise Variance: 0.004, Signal Variance: 1.187, Lengthscale: 0.777, Epsilon: 0.245\n",
      "Iteration: 98, Loss: 15727.576, Noise Variance: 0.004, Signal Variance: 1.188, Lengthscale: 0.779, Epsilon: 0.243\n",
      "Iteration: 99, Loss: 15557.252, Noise Variance: 0.004, Signal Variance: 1.189, Lengthscale: 0.780, Epsilon: 0.241\n"
     ]
    }
   ],
   "source": [
    "lr = 1e-2\n",
    "iters = 100\n",
    "verbose = True\n",
    "loss = model.manifold_informed_train(lr, iters, verbose)"
   ]
  },
  {
   "cell_type": "markdown",
   "id": "0ab36075",
   "metadata": {},
   "source": [
    "## Model Evaluation"
   ]
  },
  {
   "cell_type": "code",
   "execution_count": 14,
   "id": "48b2928a",
   "metadata": {},
   "outputs": [],
   "source": [
    "%%capture\n",
    "likelihood.eval()\n",
    "model.eval()"
   ]
  },
  {
   "cell_type": "markdown",
   "id": "f92b6239",
   "metadata": {},
   "source": [
    "Getting faster predictive distributions using [LOVE](https://arxiv.org/abs/1803.06058). We compute the **mean**, the **standard deviation** and one **posterior sample**. In addition we evaluate the kernel at the first point of our dataset."
   ]
  },
  {
   "cell_type": "code",
   "execution_count": 15,
   "id": "8f4381ee",
   "metadata": {
    "scrolled": true
   },
   "outputs": [],
   "source": [
    "%%capture\n",
    "with torch.no_grad(), gpytorch.settings.fast_pred_var():\n",
    "    # GP posteriors\n",
    "    preds = likelihood(model(noisy_x))\n",
    "    mean = preds.mean.cpu().numpy()\n",
    "    std = preds.stddev.cpu().numpy()\n",
    "    posterior_sample = preds.sample().cpu().numpy()\n",
    "\n",
    "    # Prior Variance\n",
    "    var = kernel.base_kernel.variance(noisy_x).cpu().numpy()\n",
    "\n",
    "    # Kernel evaluation\n",
    "    point = 3405\n",
    "    kernel_eval = kernel(noisy_x[point, :].unsqueeze(0), noisy_x).evaluate().squeeze().cpu().numpy()\n",
    "\n",
    "    # Eigenfunctions\n",
    "    mode = 1\n",
    "    eigfunctions = kernel.base_kernel.eigenfunctions(noisy_x).cpu().numpy()\n",
    "\n",
    "    # Bring data to numpy\n",
    "    sampled_x = sampled_x.cpu().numpy()\n",
    "    sampled_y = sampled_y.cpu().numpy()\n",
    "    train_x = train_x.cpu().numpy()"
   ]
  },
  {
   "cell_type": "markdown",
   "id": "6f992679",
   "metadata": {},
   "source": [
    "## Plot Results"
   ]
  },
  {
   "cell_type": "code",
   "execution_count": 16,
   "id": "c1718afe",
   "metadata": {},
   "outputs": [],
   "source": [
    "%%capture\n",
    "%%bash\n",
    "jupyter nbextension install --py mayavi --user"
   ]
  },
  {
   "cell_type": "code",
   "execution_count": 17,
   "id": "ae7fd1c7",
   "metadata": {},
   "outputs": [],
   "source": [
    "%%capture\n",
    "mlab.init_notebook()\n",
    "v_options = {'mode': 'sphere', 'scale_factor': 3e-3, 'color': (0, 0, 0)}"
   ]
  },
  {
   "cell_type": "markdown",
   "id": "f5a85a6b",
   "metadata": {},
   "source": [
    "### Ground Truth with Sample Training Points"
   ]
  },
  {
   "cell_type": "code",
   "execution_count": 18,
   "id": "8a054797",
   "metadata": {},
   "outputs": [
    {
     "data": {
      "application/vnd.jupyter.widget-view+json": {
       "model_id": "8dd6ed6c26124f8781cb75ca05dc6197",
       "version_major": 2,
       "version_minor": 0
      },
      "text/plain": [
       "Image(value=b'\\x89PNG\\r\\n\\x1a\\n\\x00\\x00\\x00\\rIHDR\\x00\\x00\\x07\\x80\\x00\\x00\\x05P\\x08\\x02\\x00\\x00\\x00%a\\xd0\\x97\\x…"
      ]
     },
     "metadata": {},
     "output_type": "display_data"
    }
   ],
   "source": [
    "mlab.figure('Groud Truth', size=(1920, 1360), fgcolor=(0, 0, 0), bgcolor=(1, 1, 1))\n",
    "mlab.view(0.0, 180.0, 0.5139171204775793)\n",
    "mlab.triangular_mesh(sampled_x[:, 0], sampled_x[:, 1], sampled_x[:, 2], faces, scalars=sampled_y)\n",
    "mlab.colorbar(orientation='vertical')\n",
    "mlab.points3d(train_x[:, 0], train_x[:, 1], train_x[:, 2], **v_options)"
   ]
  },
  {
   "cell_type": "markdown",
   "id": "ce632461",
   "metadata": {},
   "source": [
    "### Mean"
   ]
  },
  {
   "cell_type": "code",
   "execution_count": 19,
   "id": "e833567e",
   "metadata": {},
   "outputs": [
    {
     "data": {
      "application/vnd.jupyter.widget-view+json": {
       "model_id": "a9fb6e9003d6498fb73690f4317c3c5e",
       "version_major": 2,
       "version_minor": 0
      },
      "text/plain": [
       "Image(value=b'\\x89PNG\\r\\n\\x1a\\n\\x00\\x00\\x00\\rIHDR\\x00\\x00\\x07\\x80\\x00\\x00\\x05P\\x08\\x02\\x00\\x00\\x00%a\\xd0\\x97\\x…"
      ]
     },
     "metadata": {},
     "output_type": "display_data"
    }
   ],
   "source": [
    "mlab.figure('Mean', size=(1920, 1360), fgcolor=(0, 0, 0), bgcolor=(1, 1, 1))\n",
    "mlab.view(0.0, 180.0, 0.5139171204775793)\n",
    "mlab.triangular_mesh(sampled_x[:, 0], sampled_x[:, 1], sampled_x[:, 2], faces, scalars=mean)\n",
    "mlab.colorbar(orientation='vertical')\n",
    "mlab.points3d(train_x[:, 0], train_x[:, 1], train_x[:, 2], **v_options)"
   ]
  },
  {
   "cell_type": "markdown",
   "id": "2fcb8ebf",
   "metadata": {},
   "source": [
    "### Standard Deviation"
   ]
  },
  {
   "cell_type": "code",
   "execution_count": 20,
   "id": "591b8af9",
   "metadata": {},
   "outputs": [
    {
     "data": {
      "application/vnd.jupyter.widget-view+json": {
       "model_id": "eb2224dc53f24e009f12cad8dd84fa10",
       "version_major": 2,
       "version_minor": 0
      },
      "text/plain": [
       "Image(value=b'\\x89PNG\\r\\n\\x1a\\n\\x00\\x00\\x00\\rIHDR\\x00\\x00\\x07\\x80\\x00\\x00\\x05P\\x08\\x02\\x00\\x00\\x00%a\\xd0\\x97\\x…"
      ]
     },
     "metadata": {},
     "output_type": "display_data"
    }
   ],
   "source": [
    "mlab.figure('Standard Deviation', size=(1920, 1360), fgcolor=(0, 0, 0), bgcolor=(1, 1, 1))\n",
    "mlab.view(0.0, 180.0, 0.5139171204775793)\n",
    "mlab.triangular_mesh(sampled_x[:, 0], sampled_x[:, 1], sampled_x[:, 2], faces, scalars=std)\n",
    "mlab.colorbar(orientation='vertical')\n",
    "mlab.points3d(train_x[:, 0], train_x[:, 1], train_x[:, 2], **v_options)"
   ]
  },
  {
   "cell_type": "markdown",
   "id": "12402c7f",
   "metadata": {},
   "source": [
    "### One Posterior Sample"
   ]
  },
  {
   "cell_type": "code",
   "execution_count": 21,
   "id": "09655441",
   "metadata": {},
   "outputs": [
    {
     "data": {
      "application/vnd.jupyter.widget-view+json": {
       "model_id": "2ec14f7c50fa4cee8d5bb3dd167c6fb1",
       "version_major": 2,
       "version_minor": 0
      },
      "text/plain": [
       "Image(value=b'\\x89PNG\\r\\n\\x1a\\n\\x00\\x00\\x00\\rIHDR\\x00\\x00\\x07\\x80\\x00\\x00\\x05P\\x08\\x02\\x00\\x00\\x00%a\\xd0\\x97\\x…"
      ]
     },
     "metadata": {},
     "output_type": "display_data"
    }
   ],
   "source": [
    "mlab.figure('One Posterior Sample', size=(1920, 1360), fgcolor=(0, 0, 0), bgcolor=(1, 1, 1))\n",
    "mlab.view(0.0, 180.0, 0.5139171204775793)\n",
    "mlab.triangular_mesh(sampled_x[:, 0], sampled_x[:, 1], sampled_x[:, 2], faces, scalars=posterior_sample)\n",
    "mlab.colorbar(orientation='vertical')\n",
    "mlab.points3d(train_x[:, 0], train_x[:, 1], train_x[:, 2], **v_options)"
   ]
  },
  {
   "cell_type": "markdown",
   "id": "f30ef7a9",
   "metadata": {},
   "source": [
    "### Prior Variance"
   ]
  },
  {
   "cell_type": "code",
   "execution_count": 22,
   "id": "d1e87ad0",
   "metadata": {},
   "outputs": [
    {
     "data": {
      "application/vnd.jupyter.widget-view+json": {
       "model_id": "7b2cce4bf3f04233b7d36c46abf92667",
       "version_major": 2,
       "version_minor": 0
      },
      "text/plain": [
       "Image(value=b'\\x89PNG\\r\\n\\x1a\\n\\x00\\x00\\x00\\rIHDR\\x00\\x00\\x07\\x80\\x00\\x00\\x05P\\x08\\x02\\x00\\x00\\x00%a\\xd0\\x97\\x…"
      ]
     },
     "metadata": {},
     "output_type": "display_data"
    }
   ],
   "source": [
    "mlab.figure('Prior Variance', size=(1920, 1360), fgcolor=(0, 0, 0), bgcolor=(1, 1, 1))\n",
    "mlab.view(0.0, 180.0, 0.5139171204775793)\n",
    "mlab.triangular_mesh(sampled_x[:, 0], sampled_x[:, 1], sampled_x[:, 2], faces, scalars=var)\n",
    "mlab.colorbar(orientation='vertical')\n",
    "mlab.points3d(train_x[:, 0], train_x[:, 1], train_x[:, 2], **v_options)"
   ]
  },
  {
   "cell_type": "markdown",
   "id": "8c4b248b",
   "metadata": {},
   "source": [
    "### Kernel Evaluation"
   ]
  },
  {
   "cell_type": "code",
   "execution_count": 23,
   "id": "6b6ded3a",
   "metadata": {},
   "outputs": [
    {
     "data": {
      "application/vnd.jupyter.widget-view+json": {
       "model_id": "870b3d3c3d194f18812abc3cba24d71e",
       "version_major": 2,
       "version_minor": 0
      },
      "text/plain": [
       "Image(value=b'\\x89PNG\\r\\n\\x1a\\n\\x00\\x00\\x00\\rIHDR\\x00\\x00\\x07\\x80\\x00\\x00\\x05P\\x08\\x02\\x00\\x00\\x00%a\\xd0\\x97\\x…"
      ]
     },
     "metadata": {},
     "output_type": "display_data"
    }
   ],
   "source": [
    "kernel_eval = kernel_eval - np.min(kernel_eval)\n",
    "kernel_eval /= np.max(kernel_eval)\n",
    "mlab.figure('Kernel Evaluation', size=(1920, 1360), fgcolor=(0, 0, 0), bgcolor=(1, 1, 1))\n",
    "mlab.view(0.0, 180.0, 0.5139171204775793)\n",
    "mlab.triangular_mesh(sampled_x[:, 0], sampled_x[:, 1], sampled_x[:, 2], faces, scalars=kernel_eval)\n",
    "mlab.colorbar(orientation='vertical')\n",
    "mlab.points3d(sampled_x[point, 0], sampled_x[point, 1], sampled_x[point, 2], **v_options)"
   ]
  },
  {
   "cell_type": "markdown",
   "id": "954ee066",
   "metadata": {},
   "source": [
    "### Eigenfunction"
   ]
  },
  {
   "cell_type": "code",
   "execution_count": 24,
   "id": "c1febfc2",
   "metadata": {},
   "outputs": [
    {
     "data": {
      "application/vnd.jupyter.widget-view+json": {
       "model_id": "505a0bbd001a438a8dfde15d61627e7b",
       "version_major": 2,
       "version_minor": 0
      },
      "text/plain": [
       "Image(value=b'\\x89PNG\\r\\n\\x1a\\n\\x00\\x00\\x00\\rIHDR\\x00\\x00\\x07\\x80\\x00\\x00\\x05P\\x08\\x02\\x00\\x00\\x00%a\\xd0\\x97\\x…"
      ]
     },
     "metadata": {},
     "output_type": "display_data"
    }
   ],
   "source": [
    "eigfun = eigfunctions[mode, :] - np.min(eigfunctions[mode, :])\n",
    "eigfun /= np.max(eigfun)\n",
    "mlab.figure('Eigenfunction', size=(1920, 1360), fgcolor=(0, 0, 0), bgcolor=(1, 1, 1))\n",
    "mlab.view(0.0, 180.0, 0.5139171204775793)\n",
    "mlab.triangular_mesh(sampled_x[:, 0], sampled_x[:, 1], sampled_x[:, 2], faces, scalars=eigfun)\n",
    "mlab.colorbar(orientation='vertical')"
   ]
  },
  {
   "cell_type": "code",
   "execution_count": null,
   "id": "57345bde",
   "metadata": {},
   "outputs": [],
   "source": []
  }
 ],
 "metadata": {
  "kernelspec": {
   "display_name": "Python 3 (ipykernel)",
   "language": "python",
   "name": "python3"
  },
  "language_info": {
   "codemirror_mode": {
    "name": "ipython",
    "version": 3
   },
   "file_extension": ".py",
   "mimetype": "text/x-python",
   "name": "python",
   "nbconvert_exporter": "python",
   "pygments_lexer": "ipython3",
   "version": "3.10.6"
  },
  "vscode": {
   "interpreter": {
    "hash": "916dbcbb3f70747c44a77c7bcd40155683ae19c65e1c03b4aa3499c5328201f1"
   }
  }
 },
 "nbformat": 4,
 "nbformat_minor": 5
}
