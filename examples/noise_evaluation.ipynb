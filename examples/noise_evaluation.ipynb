{
 "cells": [
  {
   "cell_type": "code",
   "execution_count": 1,
   "id": "54712b8d",
   "metadata": {},
   "outputs": [],
   "source": [
    "import numpy as np\n",
    "import torch\n",
    "import gpytorch\n",
    "import matplotlib.pyplot as plt\n",
    "from importlib.resources import files\n",
    "from manifold_gp.kernels.riemann_matern_kernel import RiemannMaternKernel\n",
    "from manifold_gp.models.riemann_gp import RiemannGP\n",
    "from manifold_gp.utils.generate_truth import groundtruth_from_mesh"
   ]
  },
  {
   "cell_type": "code",
   "execution_count": 2,
   "id": "4eeeb661",
   "metadata": {},
   "outputs": [],
   "source": [
    "# Set device\n",
    "use_cuda = torch.cuda.is_available()\n",
    "device = torch.device(\"cuda\" if use_cuda else \"cpu\")"
   ]
  },
  {
   "cell_type": "code",
   "execution_count": 3,
   "id": "6b312644",
   "metadata": {},
   "outputs": [],
   "source": [
    "# Load dataset\n",
    "# data_path = files('manifold_gp.data').joinpath('dumbbell.msh')\n",
    "# data = np.loadtxt(data_path)\n",
    "# sampled_x = torch.from_numpy(data[:, :2]).float().to(device)\n",
    "# sampled_y = torch.from_numpy(data[:, -1]).float().to(device)\n",
    "# (m, n) = sampled_x.shape\n",
    "data_path = files('manifold_gp.data').joinpath('dragon10k.stl')\n",
    "nodes, faces, truth = groundtruth_from_mesh(data_path)\n",
    "sampled_x = torch.from_numpy(nodes).float().to(device)\n",
    "sampled_y = torch.from_numpy(truth).float().to(device)\n",
    "(m, n) = sampled_x.shape"
   ]
  },
  {
   "cell_type": "code",
   "execution_count": 4,
   "id": "c3e3b731",
   "metadata": {},
   "outputs": [],
   "source": [
    "# Set Train Indices\n",
    "num_train = 50\n",
    "train_idx = torch.randperm(m)[:num_train]"
   ]
  },
  {
   "cell_type": "code",
   "execution_count": 5,
   "id": "b6c68131",
   "metadata": {},
   "outputs": [],
   "source": [
    "# Set Test Indices\n",
    "num_test = 10\n",
    "test_idx = torch.randperm(m)[:num_test]"
   ]
  },
  {
   "cell_type": "code",
   "execution_count": 6,
   "id": "6860259e",
   "metadata": {},
   "outputs": [],
   "source": [
    "%%capture\n",
    "# Noise Grid\n",
    "min_noise_scale = 0\n",
    "max_noise_scale = 0.1\n",
    "resolution = 4\n",
    "manifold_noise, function_noise = torch.meshgrid(torch.linspace(min_noise_scale, max_noise_scale, steps=resolution),\n",
    "                                                torch.linspace(min_noise_scale, max_noise_scale, steps=resolution))"
   ]
  },
  {
   "cell_type": "code",
   "execution_count": 7,
   "id": "7650bc8a",
   "metadata": {},
   "outputs": [],
   "source": [
    "# Record Loss & MSE\n",
    "count = 1\n",
    "loss = torch.zeros_like(manifold_noise)\n",
    "mse = torch.zeros_like(manifold_noise)"
   ]
  },
  {
   "cell_type": "code",
   "execution_count": 8,
   "id": "87adea97",
   "metadata": {},
   "outputs": [],
   "source": [
    "# Create Kernel\n",
    "nu = 3\n",
    "neighbors = 10\n",
    "modes = 100\n",
    "kernel = gpytorch.kernels.ScaleKernel(RiemannMaternKernel(nu=nu, nodes=sampled_x, neighbors=neighbors, modes=modes))"
   ]
  },
  {
   "cell_type": "code",
   "execution_count": 9,
   "id": "28673589",
   "metadata": {},
   "outputs": [],
   "source": [
    "# Define Optimization Parameters\n",
    "lr = 1e-1\n",
    "iters = 100\n",
    "verbose = False"
   ]
  },
  {
   "cell_type": "code",
   "execution_count": 10,
   "id": "2a7a7737",
   "metadata": {},
   "outputs": [],
   "source": [
    "%%capture\n",
    "# Model Hyperparameters\n",
    "hypers = {\n",
    "    'likelihood.noise_covar.noise': 1e-5,\n",
    "    'covar_module.base_kernel.epsilon': 0.5027,\n",
    "    'covar_module.base_kernel.lengthscale': 0.5054,\n",
    "    'covar_module.outputscale': 1.0,\n",
    "}"
   ]
  },
  {
   "cell_type": "code",
   "execution_count": 11,
   "id": "327369b4",
   "metadata": {},
   "outputs": [
    {
     "name": "stdout",
     "output_type": "stream",
     "text": [
      "Iteration: 1/16, Manifold Noise: 0.0, Function Noise: 0.0\n"
     ]
    },
    {
     "name": "stderr",
     "output_type": "stream",
     "text": [
      "/home/bernardo/.local/lib/python3.10/site-packages/manifold_gp/kernels/riemann_kernel.py:116: UserWarning: Casting complex values to real discards the imaginary part (Triggered internally at ../aten/src/ATen/native/Copy.cpp:250.)\n",
      "  self.eigenvalues = torch.from_numpy(T).float().to(self.nodes.device)\n",
      "/home/bernardo/.local/lib/python3.10/site-packages/gpytorch/models/exact_gp.py:274: GPInputWarning: The input matches the stored training data. Did you forget to call model.train()?\n",
      "  warnings.warn(\n"
     ]
    },
    {
     "name": "stdout",
     "output_type": "stream",
     "text": [
      "Iteration: 2/16, Manifold Noise: 0.0, Function Noise: 0.01666666753590107\n",
      "Iteration: 3/16, Manifold Noise: 0.0, Function Noise: 0.03333333134651184\n",
      "Iteration: 4/16, Manifold Noise: 0.0, Function Noise: 0.05000000074505806\n",
      "Iteration: 5/16, Manifold Noise: 0.01666666753590107, Function Noise: 0.0\n",
      "Iteration: 6/16, Manifold Noise: 0.01666666753590107, Function Noise: 0.01666666753590107\n",
      "Iteration: 7/16, Manifold Noise: 0.01666666753590107, Function Noise: 0.03333333134651184\n",
      "Iteration: 8/16, Manifold Noise: 0.01666666753590107, Function Noise: 0.05000000074505806\n",
      "Iteration: 9/16, Manifold Noise: 0.03333333134651184, Function Noise: 0.0\n",
      "Iteration: 10/16, Manifold Noise: 0.03333333134651184, Function Noise: 0.01666666753590107\n",
      "Iteration: 11/16, Manifold Noise: 0.03333333134651184, Function Noise: 0.03333333134651184\n",
      "Iteration: 12/16, Manifold Noise: 0.03333333134651184, Function Noise: 0.05000000074505806\n",
      "Iteration: 13/16, Manifold Noise: 0.05000000074505806, Function Noise: 0.0\n",
      "Iteration: 14/16, Manifold Noise: 0.05000000074505806, Function Noise: 0.01666666753590107\n",
      "Iteration: 15/16, Manifold Noise: 0.05000000074505806, Function Noise: 0.03333333134651184\n",
      "Iteration: 16/16, Manifold Noise: 0.05000000074505806, Function Noise: 0.05000000074505806\n"
     ]
    }
   ],
   "source": [
    "for i in range(resolution):\n",
    "    for j in range(resolution):\n",
    "        print(\n",
    "            f\"Iteration: {count}/{resolution**2}, Manifold Noise: {manifold_noise[i,j]}, Function Noise: {function_noise[i,j]}\")\n",
    "        # Add noise to samples\n",
    "        noisy_x = sampled_x + \\\n",
    "            manifold_noise[i, j] * torch.randn(m, n).to(device)\n",
    "        noisy_y = sampled_y + function_noise[i, j] * torch.randn(m).to(device)\n",
    "\n",
    "        # Train dataset\n",
    "        train_x = noisy_x[train_idx, :]\n",
    "        train_y = noisy_y[train_idx]\n",
    "\n",
    "        # Test dataset\n",
    "        test_x = noisy_x[test_idx, :]\n",
    "        test_y = noisy_y[test_idx]\n",
    "\n",
    "        # Update Kernel\n",
    "        if hasattr(kernel, 'base_kernel'):\n",
    "            kernel.base_kernel.nodes = noisy_x\n",
    "            kernel.base_kernel.generate_graph()\n",
    "        else:\n",
    "            kernel.nodes = noisy_x\n",
    "            kernel.generate_graph()\n",
    "\n",
    "        # Create model\n",
    "        likelihood = gpytorch.likelihoods.GaussianLikelihood(noise_constraint=gpytorch.constraints.GreaterThan(1e-8))\n",
    "        model = RiemannGP(noisy_x, noisy_y, likelihood, kernel).to(device)\n",
    "\n",
    "        # Init hyperparameters and train the model\n",
    "        model.initialize(**hypers)\n",
    "        loss[i, j] = model.manifold_informed_train(lr, iters, verbose)\n",
    "\n",
    "        # Evaluate the model\n",
    "        likelihood.eval()\n",
    "        model.eval()\n",
    "\n",
    "        with torch.no_grad(), gpytorch.settings.fast_pred_var():\n",
    "            preds = likelihood(model(noisy_x))\n",
    "            mse[i, j] = torch.linalg.norm(sampled_y - preds.mean)/sampled_y.shape[0]\n",
    "\n",
    "        count += 1"
   ]
  },
  {
   "cell_type": "code",
   "execution_count": 15,
   "id": "2b855774",
   "metadata": {},
   "outputs": [
    {
     "data": {
      "image/png": "[encoded data removed]",
      "text/plain": [
       "<Figure size 432x288 with 2 Axes>"
      ]
     },
     "metadata": {
      "needs_background": "light"
     },
     "output_type": "display_data"
    },
    {
     "data": {
      "image/png": "[encoded data removed]",
      "text/plain": [
       "<Figure size 432x288 with 2 Axes>"
      ]
     },
     "metadata": {
      "needs_background": "light"
     },
     "output_type": "display_data"
    }
   ],
   "source": [
    "with torch.no_grad():\n",
    "#     fig = plt.figure(figsize=(17, 6))\n",
    "#     ax = fig.add_subplot(121)\n",
    "#     contour_mse = ax.contourf(function_noise, manifold_noise, mse)\n",
    "#     ax.axis('square')\n",
    "#     fig.colorbar(contour_mse)\n",
    "\n",
    "#     ax = fig.add_subplot(122)\n",
    "#     contour_loss = ax.contourf(function_noise, manifold_noise, loss)\n",
    "#     ax.axis('square')\n",
    "#     fig.colorbar(contour_loss)\n",
    "    \n",
    "    fig = plt.figure()\n",
    "    ax = fig.add_subplot(111)\n",
    "    contour_mse = ax.contourf(function_noise, manifold_noise, mse)\n",
    "    ax.axis('square')\n",
    "    fig.colorbar(contour_mse)\n",
    "    fig.savefig('mse_grid.png')\n",
    "    \n",
    "    fig = plt.figure()\n",
    "    ax = fig.add_subplot(111)\n",
    "    contour_loss = ax.contourf(function_noise, manifold_noise, loss)\n",
    "    ax.axis('square')\n",
    "    fig.colorbar(contour_loss)\n",
    "    fig.savefig('loss_grid.png')"
   ]
  },
  {
   "cell_type": "code",
   "execution_count": null,
   "id": "bb7b6a81",
   "metadata": {},
   "outputs": [],
   "source": []
  }
 ],
 "metadata": {
  "kernelspec": {
   "display_name": "Python 3 (ipykernel)",
   "language": "python",
   "name": "python3"
  },
  "language_info": {
   "codemirror_mode": {
    "name": "ipython",
    "version": 3
   },
   "file_extension": ".py",
   "mimetype": "text/x-python",
   "name": "python",
   "nbconvert_exporter": "python",
   "pygments_lexer": "ipython3",
   "version": "3.10.6"
  }
 },
 "nbformat": 4,
 "nbformat_minor": 5
}
