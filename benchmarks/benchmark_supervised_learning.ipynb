{
 "cells": [
  {
   "cell_type": "markdown",
   "id": "5e276dbe",
   "metadata": {},
   "source": [
    "# Benchmark Manifold GP Supervised Learning"
   ]
  },
  {
   "cell_type": "markdown",
   "id": "a36444a5",
   "metadata": {},
   "source": [
    "## Preamble"
   ]
  },
  {
   "cell_type": "markdown",
   "id": "01d17d1f",
   "metadata": {},
   "source": [
    "This notebook provides an example of how to perform Gaussian Process Regression on a 1D manifold. In this example we consider a supervised learning scenario, namely the number of labeled data points is equivalent to the number of the sampled points from the underlying manifold."
   ]
  },
  {
   "cell_type": "code",
   "execution_count": 1,
   "id": "58e9afd1",
   "metadata": {},
   "outputs": [],
   "source": [
    "import torch\n",
    "import gpytorch\n",
    "import numpy as np\n",
    "import os\n",
    "import scipy.spatial as ss\n",
    "from time import time\n",
    "from manifold_gp.kernels.riemann_matern_kernel import RiemannMaternKernel\n",
    "from manifold_gp.models.riemann_gp import RiemannGP\n",
    "from gpytorch.priors import NormalPrior, GammaPrior"
   ]
  },
  {
   "cell_type": "markdown",
   "id": "75701656",
   "metadata": {},
   "source": [
    "## Dataset Preprocessing"
   ]
  },
  {
   "cell_type": "markdown",
   "id": "02483bf0",
   "metadata": {},
   "source": [
    "### Load & Settings"
   ]
  },
  {
   "cell_type": "code",
   "execution_count": 2,
   "id": "af216c23",
   "metadata": {},
   "outputs": [],
   "source": [
    "torch.manual_seed(1337)\n",
    "dataset = 'mnist'\n",
    "\n",
    "data = np.loadtxt('datasets/'+dataset+'_train.csv')\n",
    "sampled_x, sampled_y = data[:, 2:], data[:, 1]\n",
    "rand_idx = torch.randperm(sampled_x.shape[0])\n",
    "sampled_x, sampled_y = sampled_x[rand_idx], sampled_y[rand_idx]\n",
    "del rand_idx\n",
    "\n",
    "data = np.loadtxt('datasets/'+dataset+'_test.csv')\n",
    "test_x, test_y = data[:, 2:], data[:, 1]\n",
    "    \n",
    "preprocess = False\n",
    "normalize_features = False\n",
    "normalize_labels = True"
   ]
  },
  {
   "cell_type": "code",
   "execution_count": 3,
   "id": "a54caa26",
   "metadata": {
    "scrolled": true
   },
   "outputs": [],
   "source": [
    "if preprocess:\n",
    "    # remove coincident points\n",
    "    sampled_x, id_unique = np.unique(sampled_x, axis=0, return_index=True)\n",
    "    sampled_y = sampled_y[id_unique]\n",
    "\n",
    "    # cut between 0.1 and 0.9 percentile of distances\n",
    "    import faiss\n",
    "    res = faiss.StandardGpuResources()\n",
    "    knn = faiss.GpuIndexIVFFlat(res, sampled_x.shape[1], 1, faiss.METRIC_L2)\n",
    "    knn.train(sampled_x)\n",
    "    knn.add(sampled_x)\n",
    "    v = np.sqrt(knn.search(sampled_x, 51)[0][:,1:])\n",
    "    idx = np.argsort(v.mean(axis=1).ravel())\n",
    "    percentile_start = int(np.round(idx.shape[0]*0.10))\n",
    "    percentile_end = int(np.round(idx.shape[0]*0.90))\n",
    "    sampled_x = sampled_x[idx[percentile_start:percentile_end], :]\n",
    "    sampled_y = sampled_y[idx[percentile_start:percentile_end]]\n",
    "    del knn\n",
    "m = sampled_x.shape[0]"
   ]
  },
  {
   "cell_type": "markdown",
   "id": "972edfe4",
   "metadata": {},
   "source": [
    "### Trainset & Testset"
   ]
  },
  {
   "cell_type": "code",
   "execution_count": 4,
   "id": "cc4d77e2",
   "metadata": {},
   "outputs": [],
   "source": [
    "split = int(0.1 * m)\n",
    "train_x, train_y = sampled_x[:split], sampled_y[:split]\n",
    "\n",
    "train_x, train_y = torch.from_numpy(train_x).float(), torch.from_numpy(train_y).float()\n",
    "test_x, test_y = torch.from_numpy(test_x).float(), torch.from_numpy(test_y).float()\n",
    "\n",
    "if normalize_features:\n",
    "    mu_x, std_x = train_x.mean(dim=-2, keepdim=True), train_x.std(dim=-2, keepdim=True) + 1e-6\n",
    "    train_x.sub_(mu_x).div_(std_x)\n",
    "    test_x.sub_(mu_x).div_(std_x)\n",
    "    \n",
    "if normalize_labels:\n",
    "    mu_y, std_y = train_y.mean(), train_y.std()\n",
    "    train_y.sub_(mu_y).div_(std_y)\n",
    "    test_y.sub_(mu_y).div_(std_y)"
   ]
  },
  {
   "cell_type": "markdown",
   "id": "b87581de",
   "metadata": {},
   "source": [
    "### Move Data to Device"
   ]
  },
  {
   "cell_type": "code",
   "execution_count": 5,
   "id": "d1c91b4b",
   "metadata": {},
   "outputs": [],
   "source": [
    "train_x, train_y = train_x.contiguous(), train_y.contiguous()\n",
    "test_x, test_y = test_x.contiguous(), test_y.contiguous()\n",
    "\n",
    "use_cuda = torch.cuda.is_available()\n",
    "device = torch.device(\"cuda\" if use_cuda else \"cpu\")\n",
    "\n",
    "train_x, train_y = train_x.to(device), train_y.to(device)\n",
    "test_x, test_y = test_x.to(device), test_y.to(device)"
   ]
  },
  {
   "cell_type": "markdown",
   "id": "405d4275",
   "metadata": {},
   "source": [
    "## Model"
   ]
  },
  {
   "cell_type": "code",
   "execution_count": 6,
   "id": "83460075",
   "metadata": {
    "scrolled": true
   },
   "outputs": [],
   "source": [
    "%%capture\n",
    "likelihood = gpytorch.likelihoods.GaussianLikelihood(\n",
    "    noise_constraint=gpytorch.constraints.GreaterThan(1e-8),\n",
    "    noise_prior=None  # NormalPrior(torch.tensor([0.0]).to(device),  torch.tensor([1/9]).sqrt().to(device))\n",
    ")\n",
    "\n",
    "kernel = gpytorch.kernels.ScaleKernel(\n",
    "    RiemannMaternKernel(\n",
    "        nu=3,\n",
    "        nodes=train_x,\n",
    "        neighbors=50,\n",
    "        operator=\"randomwalk\",\n",
    "        modes=100,\n",
    "        ball_scale=3.0,\n",
    "        prior_bandwidth=False,\n",
    "    ),\n",
    "    outputscale_prior=None  # NormalPrior(torch.tensor([1.0]).to(device),  torch.tensor([1/9]).sqrt().to(device))\n",
    ")\n",
    "\n",
    "model = RiemannGP(train_x, train_y, likelihood, kernel).to(device)"
   ]
  },
  {
   "cell_type": "markdown",
   "id": "8b14763b",
   "metadata": {},
   "source": [
    "## Train"
   ]
  },
  {
   "cell_type": "code",
   "execution_count": 7,
   "id": "357e1dd2",
   "metadata": {},
   "outputs": [],
   "source": [
    "%%capture\n",
    "hypers = {\n",
    "    'likelihood.noise_covar.noise': 1e-2,\n",
    "    'covar_module.base_kernel.epsilon': 0.5,\n",
    "    'covar_module.base_kernel.lengthscale': 0.5,\n",
    "    'covar_module.outputscale': 1.0,\n",
    "}\n",
    "model.initialize(**hypers)"
   ]
  },
  {
   "cell_type": "code",
   "execution_count": 8,
   "id": "7bb0ab30",
   "metadata": {
    "scrolled": true
   },
   "outputs": [
    {
     "name": "stdout",
     "output_type": "stream",
     "text": [
      "Iter: 0, LR: 0.100, Loss: 327.548, NoiseVar: 0.010, SignalVar: 49688.289, Lengthscale: 0.500, Epsilon: 0.500\n",
      "Iter: 1, LR: 0.100, Loss: 337.466, NoiseVar: 0.009, SignalVar: 49688.188, Lengthscale: 0.462, Epsilon: 0.462\n",
      "Iter: 2, LR: 0.100, Loss: 284.070, NoiseVar: 0.008, SignalVar: 49688.188, Lengthscale: 0.488, Epsilon: 0.427\n",
      "Iter: 3, LR: 0.100, Loss: 273.730, NoiseVar: 0.008, SignalVar: 49688.148, Lengthscale: 0.507, Epsilon: 0.394\n",
      "Iter: 4, LR: 0.100, Loss: 260.749, NoiseVar: 0.007, SignalVar: 49688.082, Lengthscale: 0.511, Epsilon: 0.363\n",
      "Iter: 5, LR: 0.100, Loss: 210.878, NoiseVar: 0.006, SignalVar: 49688.004, Lengthscale: 0.503, Epsilon: 0.334\n",
      "Iter: 6, LR: 0.100, Loss: 173.602, NoiseVar: 0.006, SignalVar: 49687.918, Lengthscale: 0.489, Epsilon: 0.307\n",
      "Iter: 7, LR: 0.100, Loss: 143.143, NoiseVar: 0.005, SignalVar: 49687.828, Lengthscale: 0.473, Epsilon: 0.282\n",
      "Iter: 8, LR: 0.100, Loss: 96.233, NoiseVar: 0.005, SignalVar: 49687.738, Lengthscale: 0.457, Epsilon: 0.258\n",
      "Iter: 9, LR: 0.100, Loss: 66.116, NoiseVar: 0.004, SignalVar: 49687.648, Lengthscale: 0.446, Epsilon: 0.235\n",
      "Iter: 10, LR: 0.100, Loss: 45.725, NoiseVar: 0.004, SignalVar: 49687.562, Lengthscale: 0.442, Epsilon: 0.215\n",
      "Iter: 11, LR: 0.100, Loss: -12.391, NoiseVar: 0.003, SignalVar: 49687.480, Lengthscale: 0.443, Epsilon: 0.196\n",
      "Iter: 12, LR: 0.100, Loss: -36.126, NoiseVar: 0.003, SignalVar: 49687.398, Lengthscale: 0.448, Epsilon: 0.179\n"
     ]
    },
    {
     "name": "stderr",
     "output_type": "stream",
     "text": [
      "/home/bernardo/.local/lib/python3.10/site-packages/linear_operator/utils/linear_cg.py:324: NumericalWarning: CG terminated in 1000 iterations with average residual norm 2.730250597000122 which is larger than the tolerance of 1 specified by linear_operator.settings.cg_tolerance. If performance is affected, consider raising the maximum number of CG iterations by running code in a linear_operator.settings.max_cg_iterations(value) context.\n",
      "  warnings.warn(\n"
     ]
    },
    {
     "name": "stdout",
     "output_type": "stream",
     "text": [
      "Iter: 13, LR: 0.100, Loss: -53.572, NoiseVar: 0.003, SignalVar: 49687.316, Lengthscale: 0.455, Epsilon: 0.165\n"
     ]
    },
    {
     "name": "stderr",
     "output_type": "stream",
     "text": [
      "/home/bernardo/.local/lib/python3.10/site-packages/linear_operator/utils/linear_cg.py:324: NumericalWarning: CG terminated in 1000 iterations with average residual norm 4.644420146942139 which is larger than the tolerance of 1 specified by linear_operator.settings.cg_tolerance. If performance is affected, consider raising the maximum number of CG iterations by running code in a linear_operator.settings.max_cg_iterations(value) context.\n",
      "  warnings.warn(\n"
     ]
    },
    {
     "name": "stdout",
     "output_type": "stream",
     "text": [
      "Iter: 14, LR: 0.100, Loss: -68.785, NoiseVar: 0.003, SignalVar: 49687.234, Lengthscale: 0.462, Epsilon: 0.154\n"
     ]
    },
    {
     "name": "stderr",
     "output_type": "stream",
     "text": [
      "/home/bernardo/.local/lib/python3.10/site-packages/linear_operator/utils/linear_cg.py:324: NumericalWarning: CG terminated in 1000 iterations with average residual norm 7.890562534332275 which is larger than the tolerance of 1 specified by linear_operator.settings.cg_tolerance. If performance is affected, consider raising the maximum number of CG iterations by running code in a linear_operator.settings.max_cg_iterations(value) context.\n",
      "  warnings.warn(\n"
     ]
    },
    {
     "name": "stdout",
     "output_type": "stream",
     "text": [
      "Iter: 15, LR: 0.100, Loss: -69.465, NoiseVar: 0.002, SignalVar: 49687.148, Lengthscale: 0.469, Epsilon: 0.150\n"
     ]
    },
    {
     "name": "stderr",
     "output_type": "stream",
     "text": [
      "/home/bernardo/.local/lib/python3.10/site-packages/linear_operator/utils/linear_cg.py:324: NumericalWarning: CG terminated in 1000 iterations with average residual norm 8.487658500671387 which is larger than the tolerance of 1 specified by linear_operator.settings.cg_tolerance. If performance is affected, consider raising the maximum number of CG iterations by running code in a linear_operator.settings.max_cg_iterations(value) context.\n",
      "  warnings.warn(\n"
     ]
    },
    {
     "name": "stdout",
     "output_type": "stream",
     "text": [
      "Iter: 16, LR: 0.100, Loss: -88.464, NoiseVar: 0.002, SignalVar: 49687.066, Lengthscale: 0.475, Epsilon: 0.149\n"
     ]
    },
    {
     "name": "stderr",
     "output_type": "stream",
     "text": [
      "/home/bernardo/.local/lib/python3.10/site-packages/linear_operator/utils/linear_cg.py:324: NumericalWarning: CG terminated in 1000 iterations with average residual norm 5.377877712249756 which is larger than the tolerance of 1 specified by linear_operator.settings.cg_tolerance. If performance is affected, consider raising the maximum number of CG iterations by running code in a linear_operator.settings.max_cg_iterations(value) context.\n",
      "  warnings.warn(\n"
     ]
    },
    {
     "name": "stdout",
     "output_type": "stream",
     "text": [
      "Iter: 17, LR: 0.100, Loss: -68.979, NoiseVar: 0.002, SignalVar: 49686.984, Lengthscale: 0.479, Epsilon: 0.151\n"
     ]
    },
    {
     "name": "stderr",
     "output_type": "stream",
     "text": [
      "/home/bernardo/.local/lib/python3.10/site-packages/linear_operator/utils/linear_cg.py:324: NumericalWarning: CG terminated in 1000 iterations with average residual norm 5.372803688049316 which is larger than the tolerance of 1 specified by linear_operator.settings.cg_tolerance. If performance is affected, consider raising the maximum number of CG iterations by running code in a linear_operator.settings.max_cg_iterations(value) context.\n",
      "  warnings.warn(\n"
     ]
    },
    {
     "name": "stdout",
     "output_type": "stream",
     "text": [
      "Iter: 18, LR: 0.100, Loss: -62.318, NoiseVar: 0.002, SignalVar: 49686.902, Lengthscale: 0.481, Epsilon: 0.156\n"
     ]
    },
    {
     "name": "stderr",
     "output_type": "stream",
     "text": [
      "/home/bernardo/.local/lib/python3.10/site-packages/linear_operator/utils/linear_cg.py:324: NumericalWarning: CG terminated in 1000 iterations with average residual norm 2.5857632160186768 which is larger than the tolerance of 1 specified by linear_operator.settings.cg_tolerance. If performance is affected, consider raising the maximum number of CG iterations by running code in a linear_operator.settings.max_cg_iterations(value) context.\n",
      "  warnings.warn(\n"
     ]
    },
    {
     "name": "stdout",
     "output_type": "stream",
     "text": [
      "Iter: 19, LR: 0.100, Loss: -70.639, NoiseVar: 0.002, SignalVar: 49686.816, Lengthscale: 0.481, Epsilon: 0.163\n"
     ]
    },
    {
     "name": "stderr",
     "output_type": "stream",
     "text": [
      "/home/bernardo/.local/lib/python3.10/site-packages/linear_operator/utils/linear_cg.py:324: NumericalWarning: CG terminated in 1000 iterations with average residual norm 4.0561723709106445 which is larger than the tolerance of 1 specified by linear_operator.settings.cg_tolerance. If performance is affected, consider raising the maximum number of CG iterations by running code in a linear_operator.settings.max_cg_iterations(value) context.\n",
      "  warnings.warn(\n"
     ]
    },
    {
     "name": "stdout",
     "output_type": "stream",
     "text": [
      "Iter: 20, LR: 0.100, Loss: -63.866, NoiseVar: 0.001, SignalVar: 49686.727, Lengthscale: 0.477, Epsilon: 0.171\n"
     ]
    },
    {
     "name": "stderr",
     "output_type": "stream",
     "text": [
      "/home/bernardo/.local/lib/python3.10/site-packages/linear_operator/utils/linear_cg.py:324: NumericalWarning: CG terminated in 1000 iterations with average residual norm 2.66827654838562 which is larger than the tolerance of 1 specified by linear_operator.settings.cg_tolerance. If performance is affected, consider raising the maximum number of CG iterations by running code in a linear_operator.settings.max_cg_iterations(value) context.\n",
      "  warnings.warn(\n"
     ]
    },
    {
     "name": "stdout",
     "output_type": "stream",
     "text": [
      "Iter: 21, LR: 0.100, Loss: -39.225, NoiseVar: 0.001, SignalVar: 49686.633, Lengthscale: 0.471, Epsilon: 0.179\n",
      "Iter: 22, LR: 0.100, Loss: -40.765, NoiseVar: 0.001, SignalVar: 49686.535, Lengthscale: 0.463, Epsilon: 0.187\n",
      "Iter: 23, LR: 0.100, Loss: -7.560, NoiseVar: 0.001, SignalVar: 49686.438, Lengthscale: 0.456, Epsilon: 0.193\n",
      "Iter: 24, LR: 0.100, Loss: -19.060, NoiseVar: 0.001, SignalVar: 49686.340, Lengthscale: 0.450, Epsilon: 0.199\n",
      "Iter: 25, LR: 0.100, Loss: -11.025, NoiseVar: 0.001, SignalVar: 49686.242, Lengthscale: 0.447, Epsilon: 0.203\n",
      "Iter: 26, LR: 0.100, Loss: 7.043, NoiseVar: 0.001, SignalVar: 49686.148, Lengthscale: 0.448, Epsilon: 0.205\n",
      "Iter: 27, LR: 0.100, Loss: -8.931, NoiseVar: 0.001, SignalVar: 49686.055, Lengthscale: 0.451, Epsilon: 0.205\n",
      "Iter: 28, LR: 0.100, Loss: -2.412, NoiseVar: 0.001, SignalVar: 49685.961, Lengthscale: 0.456, Epsilon: 0.203\n",
      "Iter: 29, LR: 0.100, Loss: -27.460, NoiseVar: 0.001, SignalVar: 49685.867, Lengthscale: 0.462, Epsilon: 0.201\n",
      "Iter: 30, LR: 0.100, Loss: -4.579, NoiseVar: 0.001, SignalVar: 49685.770, Lengthscale: 0.466, Epsilon: 0.197\n",
      "Iter: 31, LR: 0.100, Loss: -19.446, NoiseVar: 0.001, SignalVar: 49685.672, Lengthscale: 0.470, Epsilon: 0.193\n"
     ]
    },
    {
     "name": "stderr",
     "output_type": "stream",
     "text": [
      "/home/bernardo/.local/lib/python3.10/site-packages/linear_operator/utils/linear_cg.py:324: NumericalWarning: CG terminated in 1000 iterations with average residual norm 2.6880714893341064 which is larger than the tolerance of 1 specified by linear_operator.settings.cg_tolerance. If performance is affected, consider raising the maximum number of CG iterations by running code in a linear_operator.settings.max_cg_iterations(value) context.\n",
      "  warnings.warn(\n"
     ]
    },
    {
     "name": "stdout",
     "output_type": "stream",
     "text": [
      "Iter: 32, LR: 0.100, Loss: -15.181, NoiseVar: 0.001, SignalVar: 49685.570, Lengthscale: 0.471, Epsilon: 0.188\n"
     ]
    },
    {
     "name": "stderr",
     "output_type": "stream",
     "text": [
      "/home/bernardo/.local/lib/python3.10/site-packages/linear_operator/utils/linear_cg.py:324: NumericalWarning: CG terminated in 1000 iterations with average residual norm 1.6867786645889282 which is larger than the tolerance of 1 specified by linear_operator.settings.cg_tolerance. If performance is affected, consider raising the maximum number of CG iterations by running code in a linear_operator.settings.max_cg_iterations(value) context.\n",
      "  warnings.warn(\n"
     ]
    },
    {
     "name": "stdout",
     "output_type": "stream",
     "text": [
      "Iter: 33, LR: 0.100, Loss: -53.031, NoiseVar: 0.001, SignalVar: 49685.469, Lengthscale: 0.471, Epsilon: 0.184\n"
     ]
    },
    {
     "name": "stderr",
     "output_type": "stream",
     "text": [
      "/home/bernardo/.local/lib/python3.10/site-packages/linear_operator/utils/linear_cg.py:324: NumericalWarning: CG terminated in 1000 iterations with average residual norm 1.971538782119751 which is larger than the tolerance of 1 specified by linear_operator.settings.cg_tolerance. If performance is affected, consider raising the maximum number of CG iterations by running code in a linear_operator.settings.max_cg_iterations(value) context.\n",
      "  warnings.warn(\n"
     ]
    },
    {
     "name": "stdout",
     "output_type": "stream",
     "text": [
      "Iter: 34, LR: 0.100, Loss: -40.269, NoiseVar: 0.001, SignalVar: 49685.367, Lengthscale: 0.469, Epsilon: 0.179\n"
     ]
    },
    {
     "name": "stderr",
     "output_type": "stream",
     "text": [
      "/home/bernardo/.local/lib/python3.10/site-packages/linear_operator/utils/linear_cg.py:324: NumericalWarning: CG terminated in 1000 iterations with average residual norm 3.2319495677948 which is larger than the tolerance of 1 specified by linear_operator.settings.cg_tolerance. If performance is affected, consider raising the maximum number of CG iterations by running code in a linear_operator.settings.max_cg_iterations(value) context.\n",
      "  warnings.warn(\n"
     ]
    },
    {
     "name": "stdout",
     "output_type": "stream",
     "text": [
      "Iter: 35, LR: 0.100, Loss: -95.092, NoiseVar: 0.000, SignalVar: 49685.262, Lengthscale: 0.464, Epsilon: 0.175\n"
     ]
    },
    {
     "name": "stderr",
     "output_type": "stream",
     "text": [
      "/home/bernardo/.local/lib/python3.10/site-packages/linear_operator/utils/linear_cg.py:324: NumericalWarning: CG terminated in 1000 iterations with average residual norm 2.7830278873443604 which is larger than the tolerance of 1 specified by linear_operator.settings.cg_tolerance. If performance is affected, consider raising the maximum number of CG iterations by running code in a linear_operator.settings.max_cg_iterations(value) context.\n",
      "  warnings.warn(\n"
     ]
    },
    {
     "name": "stdout",
     "output_type": "stream",
     "text": [
      "Iter: 36, LR: 0.100, Loss: -74.543, NoiseVar: 0.000, SignalVar: 49685.160, Lengthscale: 0.460, Epsilon: 0.172\n"
     ]
    },
    {
     "name": "stderr",
     "output_type": "stream",
     "text": [
      "/home/bernardo/.local/lib/python3.10/site-packages/linear_operator/utils/linear_cg.py:324: NumericalWarning: CG terminated in 1000 iterations with average residual norm 4.860225677490234 which is larger than the tolerance of 1 specified by linear_operator.settings.cg_tolerance. If performance is affected, consider raising the maximum number of CG iterations by running code in a linear_operator.settings.max_cg_iterations(value) context.\n",
      "  warnings.warn(\n"
     ]
    },
    {
     "name": "stdout",
     "output_type": "stream",
     "text": [
      "Iter: 37, LR: 0.100, Loss: -41.265, NoiseVar: 0.000, SignalVar: 49685.059, Lengthscale: 0.458, Epsilon: 0.170\n"
     ]
    },
    {
     "name": "stderr",
     "output_type": "stream",
     "text": [
      "/home/bernardo/.local/lib/python3.10/site-packages/linear_operator/utils/linear_cg.py:324: NumericalWarning: CG terminated in 1000 iterations with average residual norm 2.4277379512786865 which is larger than the tolerance of 1 specified by linear_operator.settings.cg_tolerance. If performance is affected, consider raising the maximum number of CG iterations by running code in a linear_operator.settings.max_cg_iterations(value) context.\n",
      "  warnings.warn(\n"
     ]
    },
    {
     "name": "stdout",
     "output_type": "stream",
     "text": [
      "Iter: 38, LR: 0.100, Loss: -66.361, NoiseVar: 0.000, SignalVar: 49684.957, Lengthscale: 0.455, Epsilon: 0.169\n"
     ]
    },
    {
     "name": "stderr",
     "output_type": "stream",
     "text": [
      "/home/bernardo/.local/lib/python3.10/site-packages/linear_operator/utils/linear_cg.py:324: NumericalWarning: CG terminated in 1000 iterations with average residual norm 3.8264224529266357 which is larger than the tolerance of 1 specified by linear_operator.settings.cg_tolerance. If performance is affected, consider raising the maximum number of CG iterations by running code in a linear_operator.settings.max_cg_iterations(value) context.\n",
      "  warnings.warn(\n"
     ]
    },
    {
     "name": "stdout",
     "output_type": "stream",
     "text": [
      "Iter: 39, LR: 0.100, Loss: -58.863, NoiseVar: 0.000, SignalVar: 49684.855, Lengthscale: 0.454, Epsilon: 0.169\n"
     ]
    },
    {
     "name": "stderr",
     "output_type": "stream",
     "text": [
      "/home/bernardo/.local/lib/python3.10/site-packages/linear_operator/utils/linear_cg.py:324: NumericalWarning: CG terminated in 1000 iterations with average residual norm 3.5284626483917236 which is larger than the tolerance of 1 specified by linear_operator.settings.cg_tolerance. If performance is affected, consider raising the maximum number of CG iterations by running code in a linear_operator.settings.max_cg_iterations(value) context.\n",
      "  warnings.warn(\n"
     ]
    },
    {
     "name": "stdout",
     "output_type": "stream",
     "text": [
      "Iter: 40, LR: 0.100, Loss: -52.951, NoiseVar: 0.000, SignalVar: 49684.758, Lengthscale: 0.454, Epsilon: 0.171\n"
     ]
    },
    {
     "name": "stderr",
     "output_type": "stream",
     "text": [
      "/home/bernardo/.local/lib/python3.10/site-packages/linear_operator/utils/linear_cg.py:324: NumericalWarning: CG terminated in 1000 iterations with average residual norm 2.633923292160034 which is larger than the tolerance of 1 specified by linear_operator.settings.cg_tolerance. If performance is affected, consider raising the maximum number of CG iterations by running code in a linear_operator.settings.max_cg_iterations(value) context.\n",
      "  warnings.warn(\n"
     ]
    },
    {
     "name": "stdout",
     "output_type": "stream",
     "text": [
      "Iter: 41, LR: 0.100, Loss: -80.405, NoiseVar: 0.000, SignalVar: 49684.660, Lengthscale: 0.457, Epsilon: 0.174\n"
     ]
    },
    {
     "name": "stderr",
     "output_type": "stream",
     "text": [
      "/home/bernardo/.local/lib/python3.10/site-packages/linear_operator/utils/linear_cg.py:324: NumericalWarning: CG terminated in 1000 iterations with average residual norm 3.0973048210144043 which is larger than the tolerance of 1 specified by linear_operator.settings.cg_tolerance. If performance is affected, consider raising the maximum number of CG iterations by running code in a linear_operator.settings.max_cg_iterations(value) context.\n",
      "  warnings.warn(\n"
     ]
    },
    {
     "name": "stdout",
     "output_type": "stream",
     "text": [
      "Iter: 42, LR: 0.100, Loss: -39.190, NoiseVar: 0.000, SignalVar: 49684.566, Lengthscale: 0.461, Epsilon: 0.177\n"
     ]
    },
    {
     "name": "stderr",
     "output_type": "stream",
     "text": [
      "/home/bernardo/.local/lib/python3.10/site-packages/linear_operator/utils/linear_cg.py:324: NumericalWarning: CG terminated in 1000 iterations with average residual norm 1.6162109375 which is larger than the tolerance of 1 specified by linear_operator.settings.cg_tolerance. If performance is affected, consider raising the maximum number of CG iterations by running code in a linear_operator.settings.max_cg_iterations(value) context.\n",
      "  warnings.warn(\n"
     ]
    },
    {
     "name": "stdout",
     "output_type": "stream",
     "text": [
      "Iter: 43, LR: 0.100, Loss: -52.447, NoiseVar: 0.000, SignalVar: 49684.469, Lengthscale: 0.465, Epsilon: 0.180\n"
     ]
    },
    {
     "name": "stderr",
     "output_type": "stream",
     "text": [
      "/home/bernardo/.local/lib/python3.10/site-packages/linear_operator/utils/linear_cg.py:324: NumericalWarning: CG terminated in 1000 iterations with average residual norm 1.752777338027954 which is larger than the tolerance of 1 specified by linear_operator.settings.cg_tolerance. If performance is affected, consider raising the maximum number of CG iterations by running code in a linear_operator.settings.max_cg_iterations(value) context.\n",
      "  warnings.warn(\n"
     ]
    },
    {
     "name": "stdout",
     "output_type": "stream",
     "text": [
      "Iter: 44, LR: 0.100, Loss: -21.066, NoiseVar: 0.000, SignalVar: 49684.371, Lengthscale: 0.467, Epsilon: 0.183\n"
     ]
    },
    {
     "name": "stderr",
     "output_type": "stream",
     "text": [
      "/home/bernardo/.local/lib/python3.10/site-packages/linear_operator/utils/linear_cg.py:324: NumericalWarning: CG terminated in 1000 iterations with average residual norm 2.9352927207946777 which is larger than the tolerance of 1 specified by linear_operator.settings.cg_tolerance. If performance is affected, consider raising the maximum number of CG iterations by running code in a linear_operator.settings.max_cg_iterations(value) context.\n",
      "  warnings.warn(\n"
     ]
    },
    {
     "name": "stdout",
     "output_type": "stream",
     "text": [
      "Iter: 45, LR: 0.100, Loss: -24.688, NoiseVar: 0.000, SignalVar: 49684.273, Lengthscale: 0.467, Epsilon: 0.186\n"
     ]
    },
    {
     "name": "stderr",
     "output_type": "stream",
     "text": [
      "/home/bernardo/.local/lib/python3.10/site-packages/linear_operator/utils/linear_cg.py:324: NumericalWarning: CG terminated in 1000 iterations with average residual norm 6.535712718963623 which is larger than the tolerance of 1 specified by linear_operator.settings.cg_tolerance. If performance is affected, consider raising the maximum number of CG iterations by running code in a linear_operator.settings.max_cg_iterations(value) context.\n",
      "  warnings.warn(\n"
     ]
    },
    {
     "name": "stdout",
     "output_type": "stream",
     "text": [
      "Iter: 46, LR: 0.100, Loss: -29.299, NoiseVar: 0.000, SignalVar: 49684.172, Lengthscale: 0.465, Epsilon: 0.188\n",
      "Iter: 47, LR: 0.100, Loss: -11.478, NoiseVar: 0.000, SignalVar: 49684.070, Lengthscale: 0.463, Epsilon: 0.190\n",
      "Iter: 48, LR: 0.100, Loss: -25.434, NoiseVar: 0.000, SignalVar: 49683.969, Lengthscale: 0.460, Epsilon: 0.191\n",
      "Iter: 49, LR: 0.100, Loss: -33.660, NoiseVar: 0.000, SignalVar: 49683.867, Lengthscale: 0.457, Epsilon: 0.191\n"
     ]
    },
    {
     "name": "stderr",
     "output_type": "stream",
     "text": [
      "/home/bernardo/.local/lib/python3.10/site-packages/linear_operator/utils/linear_cg.py:324: NumericalWarning: CG terminated in 1000 iterations with average residual norm 2.5203239917755127 which is larger than the tolerance of 1 specified by linear_operator.settings.cg_tolerance. If performance is affected, consider raising the maximum number of CG iterations by running code in a linear_operator.settings.max_cg_iterations(value) context.\n",
      "  warnings.warn(\n"
     ]
    },
    {
     "name": "stdout",
     "output_type": "stream",
     "text": [
      "Iter: 50, LR: 0.100, Loss: -33.833, NoiseVar: 0.000, SignalVar: 49683.766, Lengthscale: 0.456, Epsilon: 0.189\n"
     ]
    },
    {
     "name": "stderr",
     "output_type": "stream",
     "text": [
      "/home/bernardo/.local/lib/python3.10/site-packages/linear_operator/utils/linear_cg.py:324: NumericalWarning: CG terminated in 1000 iterations with average residual norm 3.2038559913635254 which is larger than the tolerance of 1 specified by linear_operator.settings.cg_tolerance. If performance is affected, consider raising the maximum number of CG iterations by running code in a linear_operator.settings.max_cg_iterations(value) context.\n",
      "  warnings.warn(\n"
     ]
    },
    {
     "name": "stdout",
     "output_type": "stream",
     "text": [
      "Iter: 51, LR: 0.100, Loss: -40.594, NoiseVar: 0.000, SignalVar: 49683.664, Lengthscale: 0.455, Epsilon: 0.187\n"
     ]
    },
    {
     "name": "stderr",
     "output_type": "stream",
     "text": [
      "/home/bernardo/.local/lib/python3.10/site-packages/linear_operator/utils/linear_cg.py:324: NumericalWarning: CG terminated in 1000 iterations with average residual norm 3.6551930904388428 which is larger than the tolerance of 1 specified by linear_operator.settings.cg_tolerance. If performance is affected, consider raising the maximum number of CG iterations by running code in a linear_operator.settings.max_cg_iterations(value) context.\n",
      "  warnings.warn(\n"
     ]
    },
    {
     "name": "stdout",
     "output_type": "stream",
     "text": [
      "Iter: 52, LR: 0.100, Loss: -36.504, NoiseVar: 0.000, SignalVar: 49683.562, Lengthscale: 0.456, Epsilon: 0.185\n"
     ]
    },
    {
     "name": "stderr",
     "output_type": "stream",
     "text": [
      "/home/bernardo/.local/lib/python3.10/site-packages/linear_operator/utils/linear_cg.py:324: NumericalWarning: CG terminated in 1000 iterations with average residual norm 2.0145509243011475 which is larger than the tolerance of 1 specified by linear_operator.settings.cg_tolerance. If performance is affected, consider raising the maximum number of CG iterations by running code in a linear_operator.settings.max_cg_iterations(value) context.\n",
      "  warnings.warn(\n"
     ]
    },
    {
     "name": "stdout",
     "output_type": "stream",
     "text": [
      "Iter: 53, LR: 0.100, Loss: -38.254, NoiseVar: 0.000, SignalVar: 49683.461, Lengthscale: 0.458, Epsilon: 0.182\n"
     ]
    },
    {
     "name": "stderr",
     "output_type": "stream",
     "text": [
      "/home/bernardo/.local/lib/python3.10/site-packages/linear_operator/utils/linear_cg.py:324: NumericalWarning: CG terminated in 1000 iterations with average residual norm 3.1681156158447266 which is larger than the tolerance of 1 specified by linear_operator.settings.cg_tolerance. If performance is affected, consider raising the maximum number of CG iterations by running code in a linear_operator.settings.max_cg_iterations(value) context.\n",
      "  warnings.warn(\n"
     ]
    },
    {
     "name": "stdout",
     "output_type": "stream",
     "text": [
      "Iter: 54, LR: 0.100, Loss: -47.629, NoiseVar: 0.000, SignalVar: 49683.359, Lengthscale: 0.460, Epsilon: 0.180\n"
     ]
    },
    {
     "name": "stderr",
     "output_type": "stream",
     "text": [
      "/home/bernardo/.local/lib/python3.10/site-packages/linear_operator/utils/linear_cg.py:324: NumericalWarning: CG terminated in 1000 iterations with average residual norm 2.643146276473999 which is larger than the tolerance of 1 specified by linear_operator.settings.cg_tolerance. If performance is affected, consider raising the maximum number of CG iterations by running code in a linear_operator.settings.max_cg_iterations(value) context.\n",
      "  warnings.warn(\n"
     ]
    },
    {
     "name": "stdout",
     "output_type": "stream",
     "text": [
      "Iter: 55, LR: 0.100, Loss: -33.437, NoiseVar: 0.000, SignalVar: 49683.258, Lengthscale: 0.462, Epsilon: 0.179\n"
     ]
    },
    {
     "name": "stderr",
     "output_type": "stream",
     "text": [
      "/home/bernardo/.local/lib/python3.10/site-packages/linear_operator/utils/linear_cg.py:324: NumericalWarning: CG terminated in 1000 iterations with average residual norm 2.7599937915802 which is larger than the tolerance of 1 specified by linear_operator.settings.cg_tolerance. If performance is affected, consider raising the maximum number of CG iterations by running code in a linear_operator.settings.max_cg_iterations(value) context.\n",
      "  warnings.warn(\n"
     ]
    },
    {
     "name": "stdout",
     "output_type": "stream",
     "text": [
      "Iter: 56, LR: 0.100, Loss: -55.665, NoiseVar: 0.000, SignalVar: 49683.156, Lengthscale: 0.463, Epsilon: 0.178\n"
     ]
    },
    {
     "name": "stderr",
     "output_type": "stream",
     "text": [
      "/home/bernardo/.local/lib/python3.10/site-packages/linear_operator/utils/linear_cg.py:324: NumericalWarning: CG terminated in 1000 iterations with average residual norm 3.8737354278564453 which is larger than the tolerance of 1 specified by linear_operator.settings.cg_tolerance. If performance is affected, consider raising the maximum number of CG iterations by running code in a linear_operator.settings.max_cg_iterations(value) context.\n",
      "  warnings.warn(\n"
     ]
    },
    {
     "name": "stdout",
     "output_type": "stream",
     "text": [
      "Iter: 57, LR: 0.100, Loss: -60.837, NoiseVar: 0.000, SignalVar: 49683.055, Lengthscale: 0.465, Epsilon: 0.178\n"
     ]
    },
    {
     "name": "stderr",
     "output_type": "stream",
     "text": [
      "/home/bernardo/.local/lib/python3.10/site-packages/linear_operator/utils/linear_cg.py:324: NumericalWarning: CG terminated in 1000 iterations with average residual norm 3.86199951171875 which is larger than the tolerance of 1 specified by linear_operator.settings.cg_tolerance. If performance is affected, consider raising the maximum number of CG iterations by running code in a linear_operator.settings.max_cg_iterations(value) context.\n",
      "  warnings.warn(\n"
     ]
    },
    {
     "name": "stdout",
     "output_type": "stream",
     "text": [
      "Iter: 58, LR: 0.100, Loss: -30.918, NoiseVar: 0.000, SignalVar: 49682.953, Lengthscale: 0.464, Epsilon: 0.177\n"
     ]
    },
    {
     "name": "stderr",
     "output_type": "stream",
     "text": [
      "/home/bernardo/.local/lib/python3.10/site-packages/linear_operator/utils/linear_cg.py:324: NumericalWarning: CG terminated in 1000 iterations with average residual norm 2.597182035446167 which is larger than the tolerance of 1 specified by linear_operator.settings.cg_tolerance. If performance is affected, consider raising the maximum number of CG iterations by running code in a linear_operator.settings.max_cg_iterations(value) context.\n",
      "  warnings.warn(\n"
     ]
    },
    {
     "name": "stdout",
     "output_type": "stream",
     "text": [
      "Iter: 59, LR: 0.100, Loss: -52.992, NoiseVar: 0.000, SignalVar: 49682.852, Lengthscale: 0.463, Epsilon: 0.176\n"
     ]
    },
    {
     "name": "stderr",
     "output_type": "stream",
     "text": [
      "/home/bernardo/.local/lib/python3.10/site-packages/linear_operator/utils/linear_cg.py:324: NumericalWarning: CG terminated in 1000 iterations with average residual norm 2.964632034301758 which is larger than the tolerance of 1 specified by linear_operator.settings.cg_tolerance. If performance is affected, consider raising the maximum number of CG iterations by running code in a linear_operator.settings.max_cg_iterations(value) context.\n",
      "  warnings.warn(\n"
     ]
    },
    {
     "name": "stdout",
     "output_type": "stream",
     "text": [
      "Iter: 60, LR: 0.100, Loss: -41.760, NoiseVar: 0.000, SignalVar: 49682.750, Lengthscale: 0.460, Epsilon: 0.175\n"
     ]
    },
    {
     "name": "stderr",
     "output_type": "stream",
     "text": [
      "/home/bernardo/.local/lib/python3.10/site-packages/linear_operator/utils/linear_cg.py:324: NumericalWarning: CG terminated in 1000 iterations with average residual norm 2.584033966064453 which is larger than the tolerance of 1 specified by linear_operator.settings.cg_tolerance. If performance is affected, consider raising the maximum number of CG iterations by running code in a linear_operator.settings.max_cg_iterations(value) context.\n",
      "  warnings.warn(\n"
     ]
    },
    {
     "name": "stdout",
     "output_type": "stream",
     "text": [
      "Iter: 61, LR: 0.100, Loss: -93.453, NoiseVar: 0.000, SignalVar: 49682.648, Lengthscale: 0.457, Epsilon: 0.175\n"
     ]
    },
    {
     "name": "stderr",
     "output_type": "stream",
     "text": [
      "/home/bernardo/.local/lib/python3.10/site-packages/linear_operator/utils/linear_cg.py:324: NumericalWarning: CG terminated in 1000 iterations with average residual norm 3.4533677101135254 which is larger than the tolerance of 1 specified by linear_operator.settings.cg_tolerance. If performance is affected, consider raising the maximum number of CG iterations by running code in a linear_operator.settings.max_cg_iterations(value) context.\n",
      "  warnings.warn(\n"
     ]
    },
    {
     "name": "stdout",
     "output_type": "stream",
     "text": [
      "Iter: 62, LR: 0.100, Loss: -46.976, NoiseVar: 0.000, SignalVar: 49682.547, Lengthscale: 0.456, Epsilon: 0.175\n"
     ]
    },
    {
     "name": "stderr",
     "output_type": "stream",
     "text": [
      "/home/bernardo/.local/lib/python3.10/site-packages/linear_operator/utils/linear_cg.py:324: NumericalWarning: CG terminated in 1000 iterations with average residual norm 4.821126461029053 which is larger than the tolerance of 1 specified by linear_operator.settings.cg_tolerance. If performance is affected, consider raising the maximum number of CG iterations by running code in a linear_operator.settings.max_cg_iterations(value) context.\n",
      "  warnings.warn(\n"
     ]
    },
    {
     "name": "stdout",
     "output_type": "stream",
     "text": [
      "Iter: 63, LR: 0.100, Loss: -47.172, NoiseVar: 0.000, SignalVar: 49682.449, Lengthscale: 0.457, Epsilon: 0.175\n"
     ]
    },
    {
     "name": "stderr",
     "output_type": "stream",
     "text": [
      "/home/bernardo/.local/lib/python3.10/site-packages/linear_operator/utils/linear_cg.py:324: NumericalWarning: CG terminated in 1000 iterations with average residual norm 3.691732406616211 which is larger than the tolerance of 1 specified by linear_operator.settings.cg_tolerance. If performance is affected, consider raising the maximum number of CG iterations by running code in a linear_operator.settings.max_cg_iterations(value) context.\n",
      "  warnings.warn(\n"
     ]
    },
    {
     "name": "stdout",
     "output_type": "stream",
     "text": [
      "Iter: 64, LR: 0.100, Loss: -65.197, NoiseVar: 0.000, SignalVar: 49682.352, Lengthscale: 0.461, Epsilon: 0.176\n"
     ]
    },
    {
     "name": "stderr",
     "output_type": "stream",
     "text": [
      "/home/bernardo/.local/lib/python3.10/site-packages/linear_operator/utils/linear_cg.py:324: NumericalWarning: CG terminated in 1000 iterations with average residual norm 2.5232200622558594 which is larger than the tolerance of 1 specified by linear_operator.settings.cg_tolerance. If performance is affected, consider raising the maximum number of CG iterations by running code in a linear_operator.settings.max_cg_iterations(value) context.\n",
      "  warnings.warn(\n"
     ]
    },
    {
     "name": "stdout",
     "output_type": "stream",
     "text": [
      "Iter: 65, LR: 0.100, Loss: -54.234, NoiseVar: 0.000, SignalVar: 49682.254, Lengthscale: 0.464, Epsilon: 0.178\n"
     ]
    },
    {
     "name": "stderr",
     "output_type": "stream",
     "text": [
      "/home/bernardo/.local/lib/python3.10/site-packages/linear_operator/utils/linear_cg.py:324: NumericalWarning: CG terminated in 1000 iterations with average residual norm 2.427600383758545 which is larger than the tolerance of 1 specified by linear_operator.settings.cg_tolerance. If performance is affected, consider raising the maximum number of CG iterations by running code in a linear_operator.settings.max_cg_iterations(value) context.\n",
      "  warnings.warn(\n"
     ]
    },
    {
     "name": "stdout",
     "output_type": "stream",
     "text": [
      "Iter: 66, LR: 0.100, Loss: -74.659, NoiseVar: 0.000, SignalVar: 49682.156, Lengthscale: 0.466, Epsilon: 0.179\n"
     ]
    },
    {
     "name": "stderr",
     "output_type": "stream",
     "text": [
      "/home/bernardo/.local/lib/python3.10/site-packages/linear_operator/utils/linear_cg.py:324: NumericalWarning: CG terminated in 1000 iterations with average residual norm 1.3875283002853394 which is larger than the tolerance of 1 specified by linear_operator.settings.cg_tolerance. If performance is affected, consider raising the maximum number of CG iterations by running code in a linear_operator.settings.max_cg_iterations(value) context.\n",
      "  warnings.warn(\n"
     ]
    },
    {
     "name": "stdout",
     "output_type": "stream",
     "text": [
      "Iter: 67, LR: 0.100, Loss: -44.563, NoiseVar: 0.000, SignalVar: 49682.059, Lengthscale: 0.467, Epsilon: 0.180\n"
     ]
    },
    {
     "name": "stderr",
     "output_type": "stream",
     "text": [
      "/home/bernardo/.local/lib/python3.10/site-packages/linear_operator/utils/linear_cg.py:324: NumericalWarning: CG terminated in 1000 iterations with average residual norm 2.865981340408325 which is larger than the tolerance of 1 specified by linear_operator.settings.cg_tolerance. If performance is affected, consider raising the maximum number of CG iterations by running code in a linear_operator.settings.max_cg_iterations(value) context.\n",
      "  warnings.warn(\n"
     ]
    },
    {
     "name": "stdout",
     "output_type": "stream",
     "text": [
      "Iter: 68, LR: 0.100, Loss: -46.575, NoiseVar: 0.000, SignalVar: 49681.957, Lengthscale: 0.466, Epsilon: 0.181\n"
     ]
    },
    {
     "name": "stderr",
     "output_type": "stream",
     "text": [
      "/home/bernardo/.local/lib/python3.10/site-packages/linear_operator/utils/linear_cg.py:324: NumericalWarning: CG terminated in 1000 iterations with average residual norm 1.4793933629989624 which is larger than the tolerance of 1 specified by linear_operator.settings.cg_tolerance. If performance is affected, consider raising the maximum number of CG iterations by running code in a linear_operator.settings.max_cg_iterations(value) context.\n",
      "  warnings.warn(\n"
     ]
    },
    {
     "name": "stdout",
     "output_type": "stream",
     "text": [
      "Iter: 69, LR: 0.100, Loss: -19.730, NoiseVar: 0.000, SignalVar: 49681.855, Lengthscale: 0.463, Epsilon: 0.182\n"
     ]
    },
    {
     "name": "stderr",
     "output_type": "stream",
     "text": [
      "/home/bernardo/.local/lib/python3.10/site-packages/linear_operator/utils/linear_cg.py:324: NumericalWarning: CG terminated in 1000 iterations with average residual norm 3.0882232189178467 which is larger than the tolerance of 1 specified by linear_operator.settings.cg_tolerance. If performance is affected, consider raising the maximum number of CG iterations by running code in a linear_operator.settings.max_cg_iterations(value) context.\n",
      "  warnings.warn(\n"
     ]
    },
    {
     "name": "stdout",
     "output_type": "stream",
     "text": [
      "Iter: 70, LR: 0.100, Loss: -58.147, NoiseVar: 0.000, SignalVar: 49681.754, Lengthscale: 0.459, Epsilon: 0.183\n",
      "Iter: 71, LR: 0.100, Loss: -62.628, NoiseVar: 0.000, SignalVar: 49681.652, Lengthscale: 0.456, Epsilon: 0.184\n"
     ]
    },
    {
     "name": "stderr",
     "output_type": "stream",
     "text": [
      "/home/bernardo/.local/lib/python3.10/site-packages/linear_operator/utils/linear_cg.py:324: NumericalWarning: CG terminated in 1000 iterations with average residual norm 3.4007434844970703 which is larger than the tolerance of 1 specified by linear_operator.settings.cg_tolerance. If performance is affected, consider raising the maximum number of CG iterations by running code in a linear_operator.settings.max_cg_iterations(value) context.\n",
      "  warnings.warn(\n"
     ]
    },
    {
     "name": "stdout",
     "output_type": "stream",
     "text": [
      "Iter: 72, LR: 0.100, Loss: -8.635, NoiseVar: 0.000, SignalVar: 49681.551, Lengthscale: 0.454, Epsilon: 0.184\n"
     ]
    },
    {
     "name": "stderr",
     "output_type": "stream",
     "text": [
      "/home/bernardo/.local/lib/python3.10/site-packages/linear_operator/utils/linear_cg.py:324: NumericalWarning: CG terminated in 1000 iterations with average residual norm 2.243443012237549 which is larger than the tolerance of 1 specified by linear_operator.settings.cg_tolerance. If performance is affected, consider raising the maximum number of CG iterations by running code in a linear_operator.settings.max_cg_iterations(value) context.\n",
      "  warnings.warn(\n"
     ]
    },
    {
     "name": "stdout",
     "output_type": "stream",
     "text": [
      "Iter: 73, LR: 0.100, Loss: -42.361, NoiseVar: 0.000, SignalVar: 49681.449, Lengthscale: 0.455, Epsilon: 0.185\n",
      "Iter: 74, LR: 0.100, Loss: -48.158, NoiseVar: 0.000, SignalVar: 49681.348, Lengthscale: 0.456, Epsilon: 0.185\n"
     ]
    },
    {
     "name": "stderr",
     "output_type": "stream",
     "text": [
      "/home/bernardo/.local/lib/python3.10/site-packages/linear_operator/utils/linear_cg.py:324: NumericalWarning: CG terminated in 1000 iterations with average residual norm 2.078321933746338 which is larger than the tolerance of 1 specified by linear_operator.settings.cg_tolerance. If performance is affected, consider raising the maximum number of CG iterations by running code in a linear_operator.settings.max_cg_iterations(value) context.\n",
      "  warnings.warn(\n"
     ]
    },
    {
     "name": "stdout",
     "output_type": "stream",
     "text": [
      "Iter: 75, LR: 0.100, Loss: -43.540, NoiseVar: 0.000, SignalVar: 49681.250, Lengthscale: 0.458, Epsilon: 0.184\n"
     ]
    },
    {
     "name": "stderr",
     "output_type": "stream",
     "text": [
      "/home/bernardo/.local/lib/python3.10/site-packages/linear_operator/utils/linear_cg.py:324: NumericalWarning: CG terminated in 1000 iterations with average residual norm 2.2213897705078125 which is larger than the tolerance of 1 specified by linear_operator.settings.cg_tolerance. If performance is affected, consider raising the maximum number of CG iterations by running code in a linear_operator.settings.max_cg_iterations(value) context.\n",
      "  warnings.warn(\n"
     ]
    },
    {
     "name": "stdout",
     "output_type": "stream",
     "text": [
      "Iter: 76, LR: 0.100, Loss: -45.387, NoiseVar: 0.000, SignalVar: 49681.152, Lengthscale: 0.461, Epsilon: 0.183\n"
     ]
    },
    {
     "name": "stderr",
     "output_type": "stream",
     "text": [
      "/home/bernardo/.local/lib/python3.10/site-packages/linear_operator/utils/linear_cg.py:324: NumericalWarning: CG terminated in 1000 iterations with average residual norm 2.7224433422088623 which is larger than the tolerance of 1 specified by linear_operator.settings.cg_tolerance. If performance is affected, consider raising the maximum number of CG iterations by running code in a linear_operator.settings.max_cg_iterations(value) context.\n",
      "  warnings.warn(\n"
     ]
    },
    {
     "name": "stdout",
     "output_type": "stream",
     "text": [
      "Iter: 77, LR: 0.100, Loss: -62.971, NoiseVar: 0.000, SignalVar: 49681.055, Lengthscale: 0.465, Epsilon: 0.182\n"
     ]
    },
    {
     "name": "stderr",
     "output_type": "stream",
     "text": [
      "/home/bernardo/.local/lib/python3.10/site-packages/linear_operator/utils/linear_cg.py:324: NumericalWarning: CG terminated in 1000 iterations with average residual norm 1.846472978591919 which is larger than the tolerance of 1 specified by linear_operator.settings.cg_tolerance. If performance is affected, consider raising the maximum number of CG iterations by running code in a linear_operator.settings.max_cg_iterations(value) context.\n",
      "  warnings.warn(\n"
     ]
    },
    {
     "name": "stdout",
     "output_type": "stream",
     "text": [
      "Iter: 78, LR: 0.100, Loss: -25.337, NoiseVar: 0.000, SignalVar: 49680.957, Lengthscale: 0.467, Epsilon: 0.180\n"
     ]
    },
    {
     "name": "stderr",
     "output_type": "stream",
     "text": [
      "/home/bernardo/.local/lib/python3.10/site-packages/linear_operator/utils/linear_cg.py:324: NumericalWarning: CG terminated in 1000 iterations with average residual norm 2.0274736881256104 which is larger than the tolerance of 1 specified by linear_operator.settings.cg_tolerance. If performance is affected, consider raising the maximum number of CG iterations by running code in a linear_operator.settings.max_cg_iterations(value) context.\n",
      "  warnings.warn(\n"
     ]
    },
    {
     "name": "stdout",
     "output_type": "stream",
     "text": [
      "Iter: 79, LR: 0.100, Loss: -46.026, NoiseVar: 0.000, SignalVar: 49680.855, Lengthscale: 0.466, Epsilon: 0.179\n"
     ]
    },
    {
     "name": "stderr",
     "output_type": "stream",
     "text": [
      "/home/bernardo/.local/lib/python3.10/site-packages/linear_operator/utils/linear_cg.py:324: NumericalWarning: CG terminated in 1000 iterations with average residual norm 2.25787615776062 which is larger than the tolerance of 1 specified by linear_operator.settings.cg_tolerance. If performance is affected, consider raising the maximum number of CG iterations by running code in a linear_operator.settings.max_cg_iterations(value) context.\n",
      "  warnings.warn(\n"
     ]
    },
    {
     "name": "stdout",
     "output_type": "stream",
     "text": [
      "Iter: 80, LR: 0.100, Loss: -34.072, NoiseVar: 0.000, SignalVar: 49680.754, Lengthscale: 0.464, Epsilon: 0.179\n"
     ]
    },
    {
     "name": "stderr",
     "output_type": "stream",
     "text": [
      "/home/bernardo/.local/lib/python3.10/site-packages/linear_operator/utils/linear_cg.py:324: NumericalWarning: CG terminated in 1000 iterations with average residual norm 2.3759419918060303 which is larger than the tolerance of 1 specified by linear_operator.settings.cg_tolerance. If performance is affected, consider raising the maximum number of CG iterations by running code in a linear_operator.settings.max_cg_iterations(value) context.\n",
      "  warnings.warn(\n"
     ]
    },
    {
     "name": "stdout",
     "output_type": "stream",
     "text": [
      "Iter: 81, LR: 0.100, Loss: -42.953, NoiseVar: 0.000, SignalVar: 49680.652, Lengthscale: 0.460, Epsilon: 0.179\n"
     ]
    },
    {
     "name": "stderr",
     "output_type": "stream",
     "text": [
      "/home/bernardo/.local/lib/python3.10/site-packages/linear_operator/utils/linear_cg.py:324: NumericalWarning: CG terminated in 1000 iterations with average residual norm 2.2062909603118896 which is larger than the tolerance of 1 specified by linear_operator.settings.cg_tolerance. If performance is affected, consider raising the maximum number of CG iterations by running code in a linear_operator.settings.max_cg_iterations(value) context.\n",
      "  warnings.warn(\n"
     ]
    },
    {
     "name": "stdout",
     "output_type": "stream",
     "text": [
      "Iter: 82, LR: 0.100, Loss: -56.494, NoiseVar: 0.000, SignalVar: 49680.547, Lengthscale: 0.455, Epsilon: 0.179\n"
     ]
    },
    {
     "name": "stderr",
     "output_type": "stream",
     "text": [
      "/home/bernardo/.local/lib/python3.10/site-packages/linear_operator/utils/linear_cg.py:324: NumericalWarning: CG terminated in 1000 iterations with average residual norm 2.9511260986328125 which is larger than the tolerance of 1 specified by linear_operator.settings.cg_tolerance. If performance is affected, consider raising the maximum number of CG iterations by running code in a linear_operator.settings.max_cg_iterations(value) context.\n",
      "  warnings.warn(\n"
     ]
    },
    {
     "name": "stdout",
     "output_type": "stream",
     "text": [
      "Iter: 83, LR: 0.100, Loss: -47.856, NoiseVar: 0.000, SignalVar: 49680.441, Lengthscale: 0.451, Epsilon: 0.180\n"
     ]
    },
    {
     "name": "stderr",
     "output_type": "stream",
     "text": [
      "/home/bernardo/.local/lib/python3.10/site-packages/linear_operator/utils/linear_cg.py:324: NumericalWarning: CG terminated in 1000 iterations with average residual norm 3.3169448375701904 which is larger than the tolerance of 1 specified by linear_operator.settings.cg_tolerance. If performance is affected, consider raising the maximum number of CG iterations by running code in a linear_operator.settings.max_cg_iterations(value) context.\n",
      "  warnings.warn(\n"
     ]
    },
    {
     "name": "stdout",
     "output_type": "stream",
     "text": [
      "Iter: 84, LR: 0.100, Loss: -51.222, NoiseVar: 0.000, SignalVar: 49680.340, Lengthscale: 0.450, Epsilon: 0.180\n"
     ]
    },
    {
     "name": "stderr",
     "output_type": "stream",
     "text": [
      "/home/bernardo/.local/lib/python3.10/site-packages/linear_operator/utils/linear_cg.py:324: NumericalWarning: CG terminated in 1000 iterations with average residual norm 2.349456548690796 which is larger than the tolerance of 1 specified by linear_operator.settings.cg_tolerance. If performance is affected, consider raising the maximum number of CG iterations by running code in a linear_operator.settings.max_cg_iterations(value) context.\n",
      "  warnings.warn(\n"
     ]
    },
    {
     "name": "stdout",
     "output_type": "stream",
     "text": [
      "Iter: 85, LR: 0.100, Loss: -59.276, NoiseVar: 0.000, SignalVar: 49680.242, Lengthscale: 0.454, Epsilon: 0.181\n"
     ]
    },
    {
     "name": "stderr",
     "output_type": "stream",
     "text": [
      "/home/bernardo/.local/lib/python3.10/site-packages/linear_operator/utils/linear_cg.py:324: NumericalWarning: CG terminated in 1000 iterations with average residual norm 2.245595932006836 which is larger than the tolerance of 1 specified by linear_operator.settings.cg_tolerance. If performance is affected, consider raising the maximum number of CG iterations by running code in a linear_operator.settings.max_cg_iterations(value) context.\n",
      "  warnings.warn(\n"
     ]
    },
    {
     "name": "stdout",
     "output_type": "stream",
     "text": [
      "Iter: 86, LR: 0.100, Loss: -65.048, NoiseVar: 0.000, SignalVar: 49680.145, Lengthscale: 0.459, Epsilon: 0.182\n"
     ]
    },
    {
     "name": "stderr",
     "output_type": "stream",
     "text": [
      "/home/bernardo/.local/lib/python3.10/site-packages/linear_operator/utils/linear_cg.py:324: NumericalWarning: CG terminated in 1000 iterations with average residual norm 1.5612764358520508 which is larger than the tolerance of 1 specified by linear_operator.settings.cg_tolerance. If performance is affected, consider raising the maximum number of CG iterations by running code in a linear_operator.settings.max_cg_iterations(value) context.\n",
      "  warnings.warn(\n"
     ]
    },
    {
     "name": "stdout",
     "output_type": "stream",
     "text": [
      "Iter: 87, LR: 0.100, Loss: -39.335, NoiseVar: 0.000, SignalVar: 49680.047, Lengthscale: 0.464, Epsilon: 0.183\n"
     ]
    },
    {
     "name": "stderr",
     "output_type": "stream",
     "text": [
      "/home/bernardo/.local/lib/python3.10/site-packages/linear_operator/utils/linear_cg.py:324: NumericalWarning: CG terminated in 1000 iterations with average residual norm 2.448967456817627 which is larger than the tolerance of 1 specified by linear_operator.settings.cg_tolerance. If performance is affected, consider raising the maximum number of CG iterations by running code in a linear_operator.settings.max_cg_iterations(value) context.\n",
      "  warnings.warn(\n"
     ]
    },
    {
     "name": "stdout",
     "output_type": "stream",
     "text": [
      "Iter: 88, LR: 0.100, Loss: -37.573, NoiseVar: 0.000, SignalVar: 49679.945, Lengthscale: 0.467, Epsilon: 0.183\n"
     ]
    },
    {
     "name": "stderr",
     "output_type": "stream",
     "text": [
      "/home/bernardo/.local/lib/python3.10/site-packages/linear_operator/utils/linear_cg.py:324: NumericalWarning: CG terminated in 1000 iterations with average residual norm 2.0579075813293457 which is larger than the tolerance of 1 specified by linear_operator.settings.cg_tolerance. If performance is affected, consider raising the maximum number of CG iterations by running code in a linear_operator.settings.max_cg_iterations(value) context.\n",
      "  warnings.warn(\n"
     ]
    },
    {
     "name": "stdout",
     "output_type": "stream",
     "text": [
      "Iter: 89, LR: 0.100, Loss: -30.615, NoiseVar: 0.000, SignalVar: 49679.844, Lengthscale: 0.467, Epsilon: 0.184\n"
     ]
    },
    {
     "name": "stderr",
     "output_type": "stream",
     "text": [
      "/home/bernardo/.local/lib/python3.10/site-packages/linear_operator/utils/linear_cg.py:324: NumericalWarning: CG terminated in 1000 iterations with average residual norm 3.857846975326538 which is larger than the tolerance of 1 specified by linear_operator.settings.cg_tolerance. If performance is affected, consider raising the maximum number of CG iterations by running code in a linear_operator.settings.max_cg_iterations(value) context.\n",
      "  warnings.warn(\n"
     ]
    },
    {
     "name": "stdout",
     "output_type": "stream",
     "text": [
      "Iter: 90, LR: 0.100, Loss: -55.797, NoiseVar: 0.000, SignalVar: 49679.738, Lengthscale: 0.465, Epsilon: 0.185\n"
     ]
    },
    {
     "name": "stderr",
     "output_type": "stream",
     "text": [
      "/home/bernardo/.local/lib/python3.10/site-packages/linear_operator/utils/linear_cg.py:324: NumericalWarning: CG terminated in 1000 iterations with average residual norm 2.2029027938842773 which is larger than the tolerance of 1 specified by linear_operator.settings.cg_tolerance. If performance is affected, consider raising the maximum number of CG iterations by running code in a linear_operator.settings.max_cg_iterations(value) context.\n",
      "  warnings.warn(\n"
     ]
    },
    {
     "name": "stdout",
     "output_type": "stream",
     "text": [
      "Iter: 91, LR: 0.100, Loss: -10.842, NoiseVar: 0.000, SignalVar: 49679.633, Lengthscale: 0.463, Epsilon: 0.185\n",
      "Iter: 92, LR: 0.100, Loss: -16.907, NoiseVar: 0.000, SignalVar: 49679.527, Lengthscale: 0.459, Epsilon: 0.186\n"
     ]
    },
    {
     "name": "stderr",
     "output_type": "stream",
     "text": [
      "/home/bernardo/.local/lib/python3.10/site-packages/linear_operator/utils/linear_cg.py:324: NumericalWarning: CG terminated in 1000 iterations with average residual norm 1.8078358173370361 which is larger than the tolerance of 1 specified by linear_operator.settings.cg_tolerance. If performance is affected, consider raising the maximum number of CG iterations by running code in a linear_operator.settings.max_cg_iterations(value) context.\n",
      "  warnings.warn(\n"
     ]
    },
    {
     "name": "stdout",
     "output_type": "stream",
     "text": [
      "Iter: 93, LR: 0.100, Loss: -52.252, NoiseVar: 0.000, SignalVar: 49679.422, Lengthscale: 0.455, Epsilon: 0.186\n"
     ]
    },
    {
     "name": "stderr",
     "output_type": "stream",
     "text": [
      "/home/bernardo/.local/lib/python3.10/site-packages/linear_operator/utils/linear_cg.py:324: NumericalWarning: CG terminated in 1000 iterations with average residual norm 5.832547664642334 which is larger than the tolerance of 1 specified by linear_operator.settings.cg_tolerance. If performance is affected, consider raising the maximum number of CG iterations by running code in a linear_operator.settings.max_cg_iterations(value) context.\n",
      "  warnings.warn(\n"
     ]
    },
    {
     "name": "stdout",
     "output_type": "stream",
     "text": [
      "Iter: 94, LR: 0.100, Loss: -40.461, NoiseVar: 0.000, SignalVar: 49679.316, Lengthscale: 0.453, Epsilon: 0.185\n"
     ]
    },
    {
     "name": "stderr",
     "output_type": "stream",
     "text": [
      "/home/bernardo/.local/lib/python3.10/site-packages/linear_operator/utils/linear_cg.py:324: NumericalWarning: CG terminated in 1000 iterations with average residual norm 1.9217380285263062 which is larger than the tolerance of 1 specified by linear_operator.settings.cg_tolerance. If performance is affected, consider raising the maximum number of CG iterations by running code in a linear_operator.settings.max_cg_iterations(value) context.\n",
      "  warnings.warn(\n"
     ]
    },
    {
     "name": "stdout",
     "output_type": "stream",
     "text": [
      "Iter: 95, LR: 0.100, Loss: -41.877, NoiseVar: 0.000, SignalVar: 49679.215, Lengthscale: 0.455, Epsilon: 0.185\n"
     ]
    },
    {
     "name": "stderr",
     "output_type": "stream",
     "text": [
      "/home/bernardo/.local/lib/python3.10/site-packages/linear_operator/utils/linear_cg.py:324: NumericalWarning: CG terminated in 1000 iterations with average residual norm 1.5234308242797852 which is larger than the tolerance of 1 specified by linear_operator.settings.cg_tolerance. If performance is affected, consider raising the maximum number of CG iterations by running code in a linear_operator.settings.max_cg_iterations(value) context.\n",
      "  warnings.warn(\n"
     ]
    },
    {
     "name": "stdout",
     "output_type": "stream",
     "text": [
      "Iter: 96, LR: 0.100, Loss: -32.062, NoiseVar: 0.000, SignalVar: 49679.113, Lengthscale: 0.458, Epsilon: 0.184\n"
     ]
    },
    {
     "name": "stderr",
     "output_type": "stream",
     "text": [
      "/home/bernardo/.local/lib/python3.10/site-packages/linear_operator/utils/linear_cg.py:324: NumericalWarning: CG terminated in 1000 iterations with average residual norm 1.6392234563827515 which is larger than the tolerance of 1 specified by linear_operator.settings.cg_tolerance. If performance is affected, consider raising the maximum number of CG iterations by running code in a linear_operator.settings.max_cg_iterations(value) context.\n",
      "  warnings.warn(\n"
     ]
    },
    {
     "name": "stdout",
     "output_type": "stream",
     "text": [
      "Iter: 97, LR: 0.100, Loss: -50.724, NoiseVar: 0.000, SignalVar: 49679.012, Lengthscale: 0.462, Epsilon: 0.183\n"
     ]
    },
    {
     "name": "stderr",
     "output_type": "stream",
     "text": [
      "/home/bernardo/.local/lib/python3.10/site-packages/linear_operator/utils/linear_cg.py:324: NumericalWarning: CG terminated in 1000 iterations with average residual norm 1.5956169366836548 which is larger than the tolerance of 1 specified by linear_operator.settings.cg_tolerance. If performance is affected, consider raising the maximum number of CG iterations by running code in a linear_operator.settings.max_cg_iterations(value) context.\n",
      "  warnings.warn(\n"
     ]
    },
    {
     "name": "stdout",
     "output_type": "stream",
     "text": [
      "Iter: 98, LR: 0.100, Loss: -56.323, NoiseVar: 0.000, SignalVar: 49678.910, Lengthscale: 0.464, Epsilon: 0.182\n",
      "Iter: 99, LR: 0.100, Loss: -22.734, NoiseVar: 0.000, SignalVar: 49678.809, Lengthscale: 0.466, Epsilon: 0.182\n",
      "Time: 45 sec\n"
     ]
    },
    {
     "name": "stderr",
     "output_type": "stream",
     "text": [
      "/home/bernardo/.local/lib/python3.10/site-packages/linear_operator/utils/linear_cg.py:324: NumericalWarning: CG terminated in 1000 iterations with average residual norm 2.713918447494507 which is larger than the tolerance of 1 specified by linear_operator.settings.cg_tolerance. If performance is affected, consider raising the maximum number of CG iterations by running code in a linear_operator.settings.max_cg_iterations(value) context.\n",
      "  warnings.warn(\n"
     ]
    }
   ],
   "source": [
    "t0 = time()\n",
    "model.manifold_informed_train(lr=1e-2, iter=100, \n",
    "                              decay_step_size=1000, decay_magnitude=1.0, \n",
    "                              norm_step_size=10, norm_rand_vec=100, \n",
    "                              verbose=True, save=False)\n",
    "t1 = time()\n",
    "print(\"Time: %.2g sec\" % (t1 - t0))"
   ]
  },
  {
   "cell_type": "markdown",
   "id": "0ab36075",
   "metadata": {},
   "source": [
    "## Evaluation"
   ]
  },
  {
   "cell_type": "code",
   "execution_count": 9,
   "id": "998d4b89",
   "metadata": {},
   "outputs": [],
   "source": [
    "%%capture\n",
    "likelihood.eval()\n",
    "model.eval()"
   ]
  },
  {
   "cell_type": "markdown",
   "id": "53c57771",
   "metadata": {},
   "source": [
    "## Metrics"
   ]
  },
  {
   "cell_type": "code",
   "execution_count": 10,
   "id": "40ffbd87",
   "metadata": {},
   "outputs": [
    {
     "name": "stdout",
     "output_type": "stream",
     "text": [
      "RMSE:  tensor(0.5869, device='cuda:0')\n",
      "NLL:  tensor(1617.9510, device='cuda:0')\n"
     ]
    }
   ],
   "source": [
    "with torch.no_grad(), gpytorch.settings.fast_pred_var(), gpytorch.settings.cg_tolerance(10000):\n",
    "    preds_test = likelihood(model(test_x))\n",
    "        \n",
    "    error = test_y - preds_test.mean\n",
    "    covar = preds_test.lazy_covariance_matrix.evaluate_kernel()\n",
    "    inv_quad, logdet = covar.inv_quad_logdet(inv_quad_rhs=error.unsqueeze(-1), logdet=True)\n",
    "    \n",
    "    rmse = (error.square().sum()/test_y.shape[0]).sqrt()\n",
    "    nll = 0.5 * sum([inv_quad, logdet, error.size(-1)* np.log(2 * np.pi)])/test_y.shape[0]\n",
    "    model._clear_cache()\n",
    "    \n",
    "print(\"RMSE: \", rmse)\n",
    "print(\"NLL: \", nll)"
   ]
  },
  {
   "cell_type": "code",
   "execution_count": null,
   "id": "f09b1b25",
   "metadata": {},
   "outputs": [],
   "source": []
  }
 ],
 "metadata": {
  "kernelspec": {
   "display_name": "Python 3 (ipykernel)",
   "language": "python",
   "name": "python3"
  },
  "language_info": {
   "codemirror_mode": {
    "name": "ipython",
    "version": 3
   },
   "file_extension": ".py",
   "mimetype": "text/x-python",
   "name": "python",
   "nbconvert_exporter": "python",
   "pygments_lexer": "ipython3",
   "version": "3.10.6"
  },
  "vscode": {
   "interpreter": {
    "hash": "916dbcbb3f70747c44a77c7bcd40155683ae19c65e1c03b4aa3499c5328201f1"
   }
  }
 },
 "nbformat": 4,
 "nbformat_minor": 5
}
