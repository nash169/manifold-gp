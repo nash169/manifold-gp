{
 "cells": [
  {
   "cell_type": "markdown",
   "id": "5e276dbe",
   "metadata": {},
   "source": [
    "# Manifold GP Supervised Learning via Precision Matrix on 1D Manifold"
   ]
  },
  {
   "cell_type": "markdown",
   "id": "a36444a5",
   "metadata": {},
   "source": [
    "## Preamble"
   ]
  },
  {
   "cell_type": "markdown",
   "id": "01d17d1f",
   "metadata": {},
   "source": [
    "This notebook provides an example of how to perform Gaussian Process Regression on a 1D manifold. In this example we consider a supervised learning scenario, namely the number of labeled data points is equivalent to the number of the sampled points from the underlying manifold."
   ]
  },
  {
   "cell_type": "code",
   "execution_count": 1,
   "id": "58e9afd1",
   "metadata": {},
   "outputs": [],
   "source": [
    "import torch\n",
    "import gpytorch\n",
    "import numpy as np\n",
    "import os\n",
    "import scipy.spatial as ss\n",
    "\n",
    "from manifold_gp.kernels.riemann_matern_kernel import RiemannMaternKernel\n",
    "from manifold_gp.models.riemann_gp import RiemannGP\n",
    "from gpytorch.priors import NormalPrior, GammaPrior"
   ]
  },
  {
   "cell_type": "markdown",
   "id": "75701656",
   "metadata": {},
   "source": [
    "## Dataset Preprocessing"
   ]
  },
  {
   "cell_type": "markdown",
   "id": "02483bf0",
   "metadata": {},
   "source": [
    "### Load & Settings"
   ]
  },
  {
   "cell_type": "code",
   "execution_count": 2,
   "id": "af216c23",
   "metadata": {},
   "outputs": [],
   "source": [
    "dataset = 'protein' # ['protein','elevators']\n",
    "cut = 10000\n",
    "\n",
    "if dataset == 'protein':\n",
    "    data = np.loadtxt('../benchmark/protein.csv', delimiter=\",\")[:cut]\n",
    "    sampled_x, sampled_y = data[:, 1:], data[:, 0]\n",
    "elif dataset == 'elevators':\n",
    "    data = np.array(loadmat('../benchmark/elevators.mat')['data'])\n",
    "    sampled_x, sampled_y = data[:, :-1], data[:, -1]\n",
    "    \n",
    "    \n",
    "if not os.path.isfile(f'../outputs/{dataset}.mat'):\n",
    "    print(f'Downloading \\'{dataset}\\' UCI dataset...')\n",
    "    urllib.request.urlretrieve(datasets[dataset], f'../outputs/{dataset}.mat')\n",
    "\n",
    "# remove coincident points\n",
    "sampled_x, id_unique = np.unique(sampled_x, axis=0, return_index=True)\n",
    "sampled_y = sampled_y[id_unique]\n",
    "\n",
    "# cut between 0.01 and 0.99 quantile of distances\n",
    "kd_tree = ss.KDTree(sampled_x)\n",
    "v = kd_tree.query(sampled_x, k=2)[0][:, 1]\n",
    "idx = np.argsort(v)\n",
    "percentile_start = int(np.round(idx.shape[0]*0.10))\n",
    "percentile_end = int(np.round(idx.shape[0]*0.90))\n",
    "sampled_x = sampled_x[idx[percentile_start:percentile_end], :]\n",
    "sampled_y = sampled_y[idx[percentile_start:percentile_end]]\n",
    "m = sampled_x.shape[0]\n",
    "\n",
    "normalize_features = True\n",
    "normalize_labels = True"
   ]
  },
  {
   "cell_type": "markdown",
   "id": "972edfe4",
   "metadata": {},
   "source": [
    "### Trainset & Testset"
   ]
  },
  {
   "cell_type": "code",
   "execution_count": 3,
   "id": "cc4d77e2",
   "metadata": {},
   "outputs": [],
   "source": [
    "split = int(0.8 * m)\n",
    "\n",
    "train_x, train_y = sampled_x[:split], sampled_y[:split]\n",
    "test_x, test_y = sampled_x[split:], sampled_y[split:]\n",
    "\n",
    "train_x = torch.from_numpy(train_x).float()\n",
    "train_y = torch.from_numpy(train_y).float()\n",
    "test_x = torch.from_numpy(test_x).float()\n",
    "test_y = torch.from_numpy(test_y).float()\n",
    "\n",
    "if normalize_features:\n",
    "    mu_x, std_x = train_x.mean(dim=-2, keepdim=True), train_x.std(dim=-2, keepdim=True) + 1e-6\n",
    "    train_x.sub_(mu_x).div_(std_x)\n",
    "    test_x.sub_(mu_x).div_(std_x)\n",
    "    \n",
    "if normalize_labels:\n",
    "    mu_y, std_y = train_y.mean(), train_y.std()\n",
    "    train_y.sub_(mu_y).div_(std_y)\n",
    "    test_y.sub_(mu_y).div_(std_y)"
   ]
  },
  {
   "cell_type": "markdown",
   "id": "e0ec761d",
   "metadata": {},
   "source": [
    "### Hyperparameters Priors"
   ]
  },
  {
   "cell_type": "code",
   "execution_count": 4,
   "id": "18015f9f",
   "metadata": {},
   "outputs": [],
   "source": [
    "import scipy.spatial as ss\n",
    "neighbors = 10\n",
    "kd_tree = ss.KDTree(train_x)\n",
    "v = np.sort(kd_tree.query(train_x, k=neighbors+1)[0][:, 1:].ravel())\n",
    "percentile_99 = int(np.round(v.shape[0]*0.99))\n",
    "gamma_rate = 100.0/np.std(v)\n",
    "gamma_concentration = gamma_rate * v[percentile_99] + 1"
   ]
  },
  {
   "cell_type": "markdown",
   "id": "b87581de",
   "metadata": {},
   "source": [
    "### Move Data to Device"
   ]
  },
  {
   "cell_type": "code",
   "execution_count": 5,
   "id": "d1c91b4b",
   "metadata": {},
   "outputs": [],
   "source": [
    "train_x, train_y = train_x.contiguous(), train_y.contiguous()\n",
    "test_x, test_y = test_x.contiguous(), test_y.contiguous()\n",
    "\n",
    "use_cuda = torch.cuda.is_available()\n",
    "device = torch.device(\"cuda\" if use_cuda else \"cpu\")\n",
    "train_x, train_y = train_x.to(device), train_y.to(device)\n",
    "test_x, test_y = test_x.to(device), test_y.to(device)"
   ]
  },
  {
   "cell_type": "markdown",
   "id": "405d4275",
   "metadata": {},
   "source": [
    "## Model"
   ]
  },
  {
   "cell_type": "code",
   "execution_count": 6,
   "id": "83460075",
   "metadata": {},
   "outputs": [],
   "source": [
    "%%capture\n",
    "likelihood = gpytorch.likelihoods.GaussianLikelihood(\n",
    "    noise_constraint=gpytorch.constraints.GreaterThan(1e-8),\n",
    "    noise_prior=None  # NormalPrior(torch.tensor([0.0]).to(device),  torch.tensor([1/9]).sqrt().to(device))\n",
    ")\n",
    "\n",
    "kernel = gpytorch.kernels.ScaleKernel(\n",
    "    RiemannMaternKernel(\n",
    "        nu=1,\n",
    "        nodes=train_x,\n",
    "        neighbors=10,\n",
    "        operator=\"symmetric\",\n",
    "        modes=10,\n",
    "        ball_scale=1.0,\n",
    "        support_kernel=gpytorch.kernels.RBFKernel(),\n",
    "        epsilon_prior=GammaPrior(gamma_concentration, gamma_rate),\n",
    "        lengthscale_prior=None  # InverseGammaPrior(igamma_concentration, igamma_rate)\n",
    "    ),\n",
    "    outputscale_prior=None  # NormalPrior(torch.tensor([1.0]).to(device),  torch.tensor([1/9]).sqrt().to(device))\n",
    ")\n",
    "\n",
    "model = RiemannGP(train_x, train_y, likelihood, kernel).to(device)"
   ]
  },
  {
   "cell_type": "markdown",
   "id": "8b14763b",
   "metadata": {},
   "source": [
    "## Train"
   ]
  },
  {
   "cell_type": "code",
   "execution_count": 7,
   "id": "357e1dd2",
   "metadata": {},
   "outputs": [],
   "source": [
    "%%capture\n",
    "hypers = {\n",
    "    'likelihood.noise_covar.noise': 1e-2,\n",
    "    'covar_module.base_kernel.epsilon': 0.5,\n",
    "    'covar_module.base_kernel.lengthscale': 0.5,\n",
    "    'covar_module.outputscale': 1.0,\n",
    "    'covar_module.base_kernel.support_kernel.lengthscale': 1.0,\n",
    "}\n",
    "model.initialize(**hypers)"
   ]
  },
  {
   "cell_type": "code",
   "execution_count": 8,
   "id": "7bb0ab30",
   "metadata": {
    "scrolled": true
   },
   "outputs": [
    {
     "name": "stdout",
     "output_type": "stream",
     "text": [
      "Iter: 0, LR: 0.100, Loss: 2945.053, NoiseVar: 0.010, SignalVar: 11.858, Lengthscale: 0.500, Epsilon: 0.500\n",
      "Iter: 1, LR: 0.100, Loss: 2933.545, NoiseVar: 0.009, SignalVar: 11.758, Lengthscale: 0.462, Epsilon: 0.462\n",
      "Iter: 2, LR: 0.100, Loss: 2861.540, NoiseVar: 0.008, SignalVar: 11.694, Lengthscale: 0.489, Epsilon: 0.427\n",
      "Iter: 3, LR: 0.100, Loss: 2782.364, NoiseVar: 0.008, SignalVar: 11.631, Lengthscale: 0.522, Epsilon: 0.394\n",
      "Iter: 4, LR: 0.100, Loss: 2693.258, NoiseVar: 0.007, SignalVar: 11.560, Lengthscale: 0.558, Epsilon: 0.363\n",
      "Iter: 5, LR: 0.100, Loss: 2591.013, NoiseVar: 0.006, SignalVar: 11.481, Lengthscale: 0.598, Epsilon: 0.334\n",
      "Iter: 6, LR: 0.100, Loss: 2488.245, NoiseVar: 0.006, SignalVar: 11.397, Lengthscale: 0.640, Epsilon: 0.306\n",
      "Iter: 7, LR: 0.100, Loss: 2403.438, NoiseVar: 0.005, SignalVar: 11.310, Lengthscale: 0.685, Epsilon: 0.280\n",
      "Iter: 8, LR: 0.100, Loss: 2327.448, NoiseVar: 0.005, SignalVar: 11.229, Lengthscale: 0.733, Epsilon: 0.257\n",
      "Iter: 9, LR: 0.100, Loss: 2306.316, NoiseVar: 0.004, SignalVar: 11.168, Lengthscale: 0.784, Epsilon: 0.238\n",
      "Iter: 10, LR: 0.100, Loss: 2291.258, NoiseVar: 0.004, SignalVar: 11.143, Lengthscale: 0.838, Epsilon: 0.225\n",
      "Iter: 11, LR: 0.100, Loss: 2260.833, NoiseVar: 0.004, SignalVar: 11.153, Lengthscale: 0.895, Epsilon: 0.220\n",
      "Iter: 12, LR: 0.100, Loss: 2245.071, NoiseVar: 0.003, SignalVar: 11.185, Lengthscale: 0.953, Epsilon: 0.220\n",
      "Iter: 13, LR: 0.100, Loss: 2203.679, NoiseVar: 0.003, SignalVar: 11.231, Lengthscale: 1.013, Epsilon: 0.224\n",
      "Iter: 14, LR: 0.100, Loss: 2176.692, NoiseVar: 0.003, SignalVar: 11.282, Lengthscale: 1.073, Epsilon: 0.231\n",
      "Iter: 15, LR: 0.100, Loss: 2171.504, NoiseVar: 0.003, SignalVar: 11.330, Lengthscale: 1.131, Epsilon: 0.238\n",
      "Iter: 16, LR: 0.100, Loss: 2141.247, NoiseVar: 0.003, SignalVar: 11.368, Lengthscale: 1.189, Epsilon: 0.244\n",
      "Iter: 17, LR: 0.100, Loss: 2143.338, NoiseVar: 0.003, SignalVar: 11.389, Lengthscale: 1.244, Epsilon: 0.248\n",
      "Iter: 18, LR: 0.100, Loss: 2154.240, NoiseVar: 0.003, SignalVar: 11.391, Lengthscale: 1.296, Epsilon: 0.250\n",
      "Iter: 19, LR: 0.100, Loss: 2152.604, NoiseVar: 0.003, SignalVar: 11.375, Lengthscale: 1.346, Epsilon: 0.248\n",
      "Iter: 20, LR: 0.100, Loss: 2128.162, NoiseVar: 0.002, SignalVar: 11.345, Lengthscale: 1.393, Epsilon: 0.244\n",
      "Iter: 21, LR: 0.100, Loss: 2127.642, NoiseVar: 0.002, SignalVar: 11.305, Lengthscale: 1.438, Epsilon: 0.239\n",
      "Iter: 22, LR: 0.100, Loss: 2107.671, NoiseVar: 0.002, SignalVar: 11.259, Lengthscale: 1.480, Epsilon: 0.233\n",
      "Iter: 23, LR: 0.100, Loss: 2105.941, NoiseVar: 0.002, SignalVar: 11.210, Lengthscale: 1.520, Epsilon: 0.228\n",
      "Iter: 24, LR: 0.100, Loss: 2116.475, NoiseVar: 0.002, SignalVar: 11.163, Lengthscale: 1.559, Epsilon: 0.224\n",
      "Iter: 25, LR: 0.100, Loss: 2126.052, NoiseVar: 0.002, SignalVar: 11.121, Lengthscale: 1.595, Epsilon: 0.222\n",
      "Iter: 26, LR: 0.100, Loss: 2109.406, NoiseVar: 0.002, SignalVar: 11.084, Lengthscale: 1.630, Epsilon: 0.223\n",
      "Iter: 27, LR: 0.100, Loss: 2116.210, NoiseVar: 0.002, SignalVar: 11.051, Lengthscale: 1.663, Epsilon: 0.225\n",
      "Iter: 28, LR: 0.100, Loss: 2106.857, NoiseVar: 0.002, SignalVar: 11.021, Lengthscale: 1.695, Epsilon: 0.229\n",
      "Iter: 29, LR: 0.100, Loss: 2079.962, NoiseVar: 0.002, SignalVar: 10.989, Lengthscale: 1.725, Epsilon: 0.233\n",
      "Iter: 30, LR: 0.100, Loss: 2105.487, NoiseVar: 0.002, SignalVar: 10.954, Lengthscale: 1.754, Epsilon: 0.237\n",
      "Iter: 31, LR: 0.100, Loss: 2095.664, NoiseVar: 0.001, SignalVar: 10.911, Lengthscale: 1.780, Epsilon: 0.241\n",
      "Iter: 32, LR: 0.100, Loss: 2098.578, NoiseVar: 0.001, SignalVar: 10.861, Lengthscale: 1.806, Epsilon: 0.242\n",
      "Iter: 33, LR: 0.100, Loss: 2106.368, NoiseVar: 0.001, SignalVar: 10.804, Lengthscale: 1.829, Epsilon: 0.243\n",
      "Iter: 34, LR: 0.100, Loss: 2093.281, NoiseVar: 0.001, SignalVar: 10.739, Lengthscale: 1.851, Epsilon: 0.242\n",
      "Iter: 35, LR: 0.100, Loss: 2089.034, NoiseVar: 0.001, SignalVar: 10.670, Lengthscale: 1.872, Epsilon: 0.240\n",
      "Iter: 36, LR: 0.100, Loss: 2095.291, NoiseVar: 0.001, SignalVar: 10.597, Lengthscale: 1.891, Epsilon: 0.237\n",
      "Iter: 37, LR: 0.100, Loss: 2107.946, NoiseVar: 0.001, SignalVar: 10.524, Lengthscale: 1.910, Epsilon: 0.235\n",
      "Iter: 38, LR: 0.100, Loss: 2080.031, NoiseVar: 0.001, SignalVar: 10.453, Lengthscale: 1.927, Epsilon: 0.234\n",
      "Iter: 39, LR: 0.100, Loss: 2105.170, NoiseVar: 0.001, SignalVar: 10.384, Lengthscale: 1.944, Epsilon: 0.234\n",
      "Iter: 40, LR: 0.100, Loss: 2101.021, NoiseVar: 0.001, SignalVar: 10.317, Lengthscale: 1.960, Epsilon: 0.235\n",
      "Iter: 41, LR: 0.100, Loss: 2087.567, NoiseVar: 0.001, SignalVar: 10.253, Lengthscale: 1.975, Epsilon: 0.237\n",
      "Iter: 42, LR: 0.100, Loss: 2071.857, NoiseVar: 0.001, SignalVar: 10.190, Lengthscale: 1.989, Epsilon: 0.240\n",
      "Iter: 43, LR: 0.100, Loss: 2073.473, NoiseVar: 0.001, SignalVar: 10.125, Lengthscale: 2.003, Epsilon: 0.243\n",
      "Iter: 44, LR: 0.100, Loss: 2067.477, NoiseVar: 0.001, SignalVar: 10.059, Lengthscale: 2.017, Epsilon: 0.246\n",
      "Iter: 45, LR: 0.100, Loss: 2057.191, NoiseVar: 0.001, SignalVar: 9.988, Lengthscale: 2.030, Epsilon: 0.247\n",
      "Iter: 46, LR: 0.100, Loss: 2066.452, NoiseVar: 0.001, SignalVar: 9.912, Lengthscale: 2.042, Epsilon: 0.248\n",
      "Iter: 47, LR: 0.100, Loss: 2071.885, NoiseVar: 0.001, SignalVar: 9.834, Lengthscale: 2.054, Epsilon: 0.248\n",
      "Iter: 48, LR: 0.100, Loss: 2078.629, NoiseVar: 0.001, SignalVar: 9.756, Lengthscale: 2.065, Epsilon: 0.248\n",
      "Iter: 49, LR: 0.100, Loss: 2046.702, NoiseVar: 0.001, SignalVar: 9.675, Lengthscale: 2.076, Epsilon: 0.248\n",
      "Iter: 50, LR: 0.100, Loss: 2051.647, NoiseVar: 0.001, SignalVar: 9.593, Lengthscale: 2.087, Epsilon: 0.247\n",
      "Iter: 51, LR: 0.100, Loss: 2069.307, NoiseVar: 0.001, SignalVar: 9.513, Lengthscale: 2.098, Epsilon: 0.247\n",
      "Iter: 52, LR: 0.100, Loss: 2061.013, NoiseVar: 0.001, SignalVar: 9.433, Lengthscale: 2.108, Epsilon: 0.248\n",
      "Iter: 53, LR: 0.100, Loss: 2052.656, NoiseVar: 0.001, SignalVar: 9.355, Lengthscale: 2.119, Epsilon: 0.250\n",
      "Iter: 54, LR: 0.100, Loss: 2056.625, NoiseVar: 0.001, SignalVar: 9.277, Lengthscale: 2.129, Epsilon: 0.251\n",
      "Iter: 55, LR: 0.100, Loss: 2048.576, NoiseVar: 0.001, SignalVar: 9.199, Lengthscale: 2.139, Epsilon: 0.253\n",
      "Iter: 56, LR: 0.100, Loss: 2045.484, NoiseVar: 0.001, SignalVar: 9.120, Lengthscale: 2.149, Epsilon: 0.255\n",
      "Iter: 57, LR: 0.100, Loss: 2063.022, NoiseVar: 0.001, SignalVar: 9.040, Lengthscale: 2.158, Epsilon: 0.257\n",
      "Iter: 58, LR: 0.100, Loss: 2056.587, NoiseVar: 0.001, SignalVar: 8.958, Lengthscale: 2.168, Epsilon: 0.258\n",
      "Iter: 59, LR: 0.100, Loss: 2049.571, NoiseVar: 0.001, SignalVar: 8.875, Lengthscale: 2.177, Epsilon: 0.260\n",
      "Iter: 60, LR: 0.100, Loss: 2042.192, NoiseVar: 0.001, SignalVar: 8.791, Lengthscale: 2.186, Epsilon: 0.261\n",
      "Iter: 61, LR: 0.100, Loss: 2033.662, NoiseVar: 0.001, SignalVar: 8.705, Lengthscale: 2.196, Epsilon: 0.262\n",
      "Iter: 62, LR: 0.100, Loss: 2039.926, NoiseVar: 0.001, SignalVar: 8.618, Lengthscale: 2.205, Epsilon: 0.262\n",
      "Iter: 63, LR: 0.100, Loss: 2036.919, NoiseVar: 0.001, SignalVar: 8.531, Lengthscale: 2.214, Epsilon: 0.263\n",
      "Iter: 64, LR: 0.100, Loss: 2028.199, NoiseVar: 0.001, SignalVar: 8.445, Lengthscale: 2.224, Epsilon: 0.264\n",
      "Iter: 65, LR: 0.100, Loss: 2030.416, NoiseVar: 0.001, SignalVar: 8.360, Lengthscale: 2.233, Epsilon: 0.265\n",
      "Iter: 66, LR: 0.100, Loss: 2031.210, NoiseVar: 0.001, SignalVar: 8.276, Lengthscale: 2.243, Epsilon: 0.267\n",
      "Iter: 67, LR: 0.100, Loss: 2030.674, NoiseVar: 0.001, SignalVar: 8.192, Lengthscale: 2.252, Epsilon: 0.269\n",
      "Iter: 68, LR: 0.100, Loss: 2043.451, NoiseVar: 0.001, SignalVar: 8.106, Lengthscale: 2.262, Epsilon: 0.270\n",
      "Iter: 69, LR: 0.100, Loss: 2025.191, NoiseVar: 0.001, SignalVar: 8.021, Lengthscale: 2.272, Epsilon: 0.272\n",
      "Iter: 70, LR: 0.100, Loss: 2024.681, NoiseVar: 0.001, SignalVar: 7.935, Lengthscale: 2.281, Epsilon: 0.273\n",
      "Iter: 71, LR: 0.100, Loss: 2019.856, NoiseVar: 0.001, SignalVar: 7.849, Lengthscale: 2.291, Epsilon: 0.275\n",
      "Iter: 72, LR: 0.100, Loss: 2023.991, NoiseVar: 0.001, SignalVar: 7.763, Lengthscale: 2.301, Epsilon: 0.276\n",
      "Iter: 73, LR: 0.100, Loss: 2011.618, NoiseVar: 0.001, SignalVar: 7.677, Lengthscale: 2.311, Epsilon: 0.278\n",
      "Iter: 74, LR: 0.100, Loss: 2024.144, NoiseVar: 0.001, SignalVar: 7.590, Lengthscale: 2.321, Epsilon: 0.280\n",
      "Iter: 75, LR: 0.100, Loss: 1990.378, NoiseVar: 0.001, SignalVar: 7.502, Lengthscale: 2.331, Epsilon: 0.281\n",
      "Iter: 76, LR: 0.100, Loss: 2016.586, NoiseVar: 0.001, SignalVar: 7.415, Lengthscale: 2.342, Epsilon: 0.282\n",
      "Iter: 77, LR: 0.100, Loss: 1995.925, NoiseVar: 0.000, SignalVar: 7.328, Lengthscale: 2.352, Epsilon: 0.284\n",
      "Iter: 78, LR: 0.100, Loss: 2012.508, NoiseVar: 0.000, SignalVar: 7.241, Lengthscale: 2.363, Epsilon: 0.286\n",
      "Iter: 79, LR: 0.100, Loss: 2004.106, NoiseVar: 0.000, SignalVar: 7.153, Lengthscale: 2.374, Epsilon: 0.287\n",
      "Iter: 80, LR: 0.100, Loss: 2006.995, NoiseVar: 0.000, SignalVar: 7.064, Lengthscale: 2.385, Epsilon: 0.288\n",
      "Iter: 81, LR: 0.100, Loss: 2006.972, NoiseVar: 0.000, SignalVar: 6.979, Lengthscale: 2.396, Epsilon: 0.290\n",
      "Iter: 82, LR: 0.100, Loss: 1989.237, NoiseVar: 0.000, SignalVar: 6.893, Lengthscale: 2.407, Epsilon: 0.292\n",
      "Iter: 83, LR: 0.100, Loss: 1997.694, NoiseVar: 0.000, SignalVar: 6.807, Lengthscale: 2.419, Epsilon: 0.294\n",
      "Iter: 84, LR: 0.100, Loss: 1986.281, NoiseVar: 0.000, SignalVar: 6.723, Lengthscale: 2.430, Epsilon: 0.297\n",
      "Iter: 85, LR: 0.100, Loss: 1987.037, NoiseVar: 0.000, SignalVar: 6.638, Lengthscale: 2.442, Epsilon: 0.300\n",
      "Iter: 86, LR: 0.100, Loss: 1982.017, NoiseVar: 0.000, SignalVar: 6.553, Lengthscale: 2.454, Epsilon: 0.302\n",
      "Iter: 87, LR: 0.100, Loss: 1993.940, NoiseVar: 0.000, SignalVar: 6.465, Lengthscale: 2.466, Epsilon: 0.304\n",
      "Iter: 88, LR: 0.100, Loss: 1968.419, NoiseVar: 0.000, SignalVar: 6.376, Lengthscale: 2.479, Epsilon: 0.306\n"
     ]
    },
    {
     "name": "stdout",
     "output_type": "stream",
     "text": [
      "Iter: 89, LR: 0.100, Loss: 1970.244, NoiseVar: 0.000, SignalVar: 6.286, Lengthscale: 2.491, Epsilon: 0.307\n",
      "Iter: 90, LR: 0.100, Loss: 1981.894, NoiseVar: 0.000, SignalVar: 6.196, Lengthscale: 2.504, Epsilon: 0.309\n",
      "Iter: 91, LR: 0.100, Loss: 1972.198, NoiseVar: 0.000, SignalVar: 6.106, Lengthscale: 2.517, Epsilon: 0.310\n",
      "Iter: 92, LR: 0.100, Loss: 1978.374, NoiseVar: 0.000, SignalVar: 6.017, Lengthscale: 2.530, Epsilon: 0.311\n",
      "Iter: 93, LR: 0.100, Loss: 1973.474, NoiseVar: 0.000, SignalVar: 5.931, Lengthscale: 2.543, Epsilon: 0.314\n",
      "Iter: 94, LR: 0.100, Loss: 1957.636, NoiseVar: 0.000, SignalVar: 5.848, Lengthscale: 2.557, Epsilon: 0.317\n",
      "Iter: 95, LR: 0.100, Loss: 1944.637, NoiseVar: 0.000, SignalVar: 5.767, Lengthscale: 2.571, Epsilon: 0.321\n",
      "Iter: 96, LR: 0.100, Loss: 1975.840, NoiseVar: 0.000, SignalVar: 5.686, Lengthscale: 2.585, Epsilon: 0.324\n",
      "Iter: 97, LR: 0.100, Loss: 1954.791, NoiseVar: 0.000, SignalVar: 5.602, Lengthscale: 2.599, Epsilon: 0.327\n",
      "Iter: 98, LR: 0.100, Loss: 1935.855, NoiseVar: 0.000, SignalVar: 5.515, Lengthscale: 2.614, Epsilon: 0.330\n",
      "Iter: 99, LR: 0.100, Loss: 1956.182, NoiseVar: 0.000, SignalVar: 5.427, Lengthscale: 2.628, Epsilon: 0.331\n"
     ]
    }
   ],
   "source": [
    "model.manifold_informed_train(lr=1e-1, iter=100, verbose=True)"
   ]
  },
  {
   "cell_type": "code",
   "execution_count": 9,
   "id": "7c5f1784",
   "metadata": {},
   "outputs": [
    {
     "name": "stdout",
     "output_type": "stream",
     "text": [
      "Iter: 0, LR: 0.100, Loss: 2584.067, NoiseVar: 0.000, SignalVar: 2.894, Lengthscale: 2.643, Epsilon: 0.333\n",
      "Iter: 1, LR: 0.100, Loss: 2209.219, NoiseVar: 0.000, SignalVar: 2.989, Lengthscale: 2.736, Epsilon: 0.363\n",
      "Iter: 2, LR: 0.100, Loss: 1984.861, NoiseVar: 0.000, SignalVar: 3.080, Lengthscale: 2.828, Epsilon: 0.393\n",
      "Iter: 3, LR: 0.100, Loss: 1906.180, NoiseVar: 0.000, SignalVar: 3.163, Lengthscale: 2.918, Epsilon: 0.422\n",
      "Iter: 4, LR: 0.100, Loss: 1896.228, NoiseVar: 0.001, SignalVar: 3.234, Lengthscale: 3.003, Epsilon: 0.449\n",
      "Iter: 5, LR: 0.100, Loss: 1945.835, NoiseVar: 0.001, SignalVar: 3.289, Lengthscale: 3.083, Epsilon: 0.471\n",
      "Iter: 6, LR: 0.100, Loss: 1991.363, NoiseVar: 0.001, SignalVar: 3.328, Lengthscale: 3.155, Epsilon: 0.488\n",
      "Iter: 7, LR: 0.100, Loss: 2018.860, NoiseVar: 0.001, SignalVar: 3.350, Lengthscale: 3.220, Epsilon: 0.499\n",
      "Iter: 8, LR: 0.100, Loss: 2028.665, NoiseVar: 0.001, SignalVar: 3.357, Lengthscale: 3.277, Epsilon: 0.504\n",
      "Iter: 9, LR: 0.100, Loss: 2019.189, NoiseVar: 0.001, SignalVar: 3.352, Lengthscale: 3.327, Epsilon: 0.504\n",
      "Iter: 10, LR: 0.100, Loss: 2005.146, NoiseVar: 0.001, SignalVar: 3.337, Lengthscale: 3.372, Epsilon: 0.500\n",
      "Iter: 11, LR: 0.100, Loss: 1978.329, NoiseVar: 0.001, SignalVar: 3.312, Lengthscale: 3.411, Epsilon: 0.492\n",
      "Iter: 12, LR: 0.100, Loss: 1958.405, NoiseVar: 0.001, SignalVar: 3.281, Lengthscale: 3.448, Epsilon: 0.482\n",
      "Iter: 13, LR: 0.100, Loss: 1920.259, NoiseVar: 0.000, SignalVar: 3.246, Lengthscale: 3.481, Epsilon: 0.470\n",
      "Iter: 14, LR: 0.100, Loss: 1906.451, NoiseVar: 0.000, SignalVar: 3.207, Lengthscale: 3.514, Epsilon: 0.458\n",
      "Iter: 15, LR: 0.100, Loss: 1882.749, NoiseVar: 0.000, SignalVar: 3.167, Lengthscale: 3.547, Epsilon: 0.445\n",
      "Iter: 16, LR: 0.100, Loss: 1877.388, NoiseVar: 0.000, SignalVar: 3.129, Lengthscale: 3.581, Epsilon: 0.433\n",
      "Iter: 17, LR: 0.100, Loss: 1887.375, NoiseVar: 0.000, SignalVar: 3.094, Lengthscale: 3.617, Epsilon: 0.423\n",
      "Iter: 18, LR: 0.100, Loss: 1901.414, NoiseVar: 0.000, SignalVar: 3.063, Lengthscale: 3.656, Epsilon: 0.415\n",
      "Iter: 19, LR: 0.100, Loss: 1897.521, NoiseVar: 0.000, SignalVar: 3.039, Lengthscale: 3.697, Epsilon: 0.409\n",
      "Iter: 20, LR: 0.100, Loss: 1900.859, NoiseVar: 0.000, SignalVar: 3.023, Lengthscale: 3.742, Epsilon: 0.407\n",
      "Iter: 21, LR: 0.100, Loss: 1906.058, NoiseVar: 0.000, SignalVar: 3.013, Lengthscale: 3.789, Epsilon: 0.407\n",
      "Iter: 22, LR: 0.100, Loss: 1906.107, NoiseVar: 0.000, SignalVar: 3.011, Lengthscale: 3.838, Epsilon: 0.409\n",
      "Iter: 23, LR: 0.100, Loss: 1884.994, NoiseVar: 0.000, SignalVar: 3.015, Lengthscale: 3.889, Epsilon: 0.414\n",
      "Iter: 24, LR: 0.100, Loss: 1879.096, NoiseVar: 0.000, SignalVar: 3.022, Lengthscale: 3.941, Epsilon: 0.421\n",
      "Iter: 25, LR: 0.100, Loss: 1854.306, NoiseVar: 0.000, SignalVar: 3.031, Lengthscale: 3.993, Epsilon: 0.428\n",
      "Iter: 26, LR: 0.100, Loss: 1866.381, NoiseVar: 0.000, SignalVar: 3.042, Lengthscale: 4.046, Epsilon: 0.436\n",
      "Iter: 27, LR: 0.100, Loss: 1854.913, NoiseVar: 0.000, SignalVar: 3.051, Lengthscale: 4.097, Epsilon: 0.444\n",
      "Iter: 28, LR: 0.100, Loss: 1859.190, NoiseVar: 0.000, SignalVar: 3.057, Lengthscale: 4.148, Epsilon: 0.451\n",
      "Iter: 29, LR: 0.100, Loss: 1862.593, NoiseVar: 0.000, SignalVar: 3.060, Lengthscale: 4.197, Epsilon: 0.457\n",
      "Iter: 30, LR: 0.100, Loss: 1872.485, NoiseVar: 0.000, SignalVar: 3.058, Lengthscale: 4.244, Epsilon: 0.461\n",
      "Iter: 31, LR: 0.100, Loss: 1866.869, NoiseVar: 0.000, SignalVar: 3.051, Lengthscale: 4.290, Epsilon: 0.464\n",
      "Iter: 32, LR: 0.100, Loss: 1869.161, NoiseVar: 0.000, SignalVar: 3.040, Lengthscale: 4.333, Epsilon: 0.464\n",
      "Iter: 33, LR: 0.100, Loss: 1871.445, NoiseVar: 0.000, SignalVar: 3.025, Lengthscale: 4.375, Epsilon: 0.464\n",
      "Iter: 34, LR: 0.100, Loss: 1852.238, NoiseVar: 0.000, SignalVar: 3.005, Lengthscale: 4.415, Epsilon: 0.462\n",
      "Iter: 35, LR: 0.100, Loss: 1856.290, NoiseVar: 0.000, SignalVar: 2.983, Lengthscale: 4.454, Epsilon: 0.459\n",
      "Iter: 36, LR: 0.100, Loss: 1849.838, NoiseVar: 0.000, SignalVar: 2.959, Lengthscale: 4.492, Epsilon: 0.455\n",
      "Iter: 37, LR: 0.100, Loss: 1854.980, NoiseVar: 0.000, SignalVar: 2.936, Lengthscale: 4.529, Epsilon: 0.452\n",
      "Iter: 38, LR: 0.100, Loss: 1845.993, NoiseVar: 0.000, SignalVar: 2.912, Lengthscale: 4.566, Epsilon: 0.449\n",
      "Iter: 39, LR: 0.100, Loss: 1853.251, NoiseVar: 0.000, SignalVar: 2.889, Lengthscale: 4.603, Epsilon: 0.446\n",
      "Iter: 40, LR: 0.100, Loss: 1844.963, NoiseVar: 0.000, SignalVar: 2.868, Lengthscale: 4.639, Epsilon: 0.444\n",
      "Iter: 41, LR: 0.100, Loss: 1840.417, NoiseVar: 0.000, SignalVar: 2.849, Lengthscale: 4.676, Epsilon: 0.443\n",
      "Iter: 42, LR: 0.100, Loss: 1865.238, NoiseVar: 0.000, SignalVar: 2.834, Lengthscale: 4.713, Epsilon: 0.443\n",
      "Iter: 43, LR: 0.100, Loss: 1864.321, NoiseVar: 0.000, SignalVar: 2.821, Lengthscale: 4.750, Epsilon: 0.445\n",
      "Iter: 44, LR: 0.100, Loss: 1849.840, NoiseVar: 0.000, SignalVar: 2.811, Lengthscale: 4.787, Epsilon: 0.447\n",
      "Iter: 45, LR: 0.100, Loss: 1843.207, NoiseVar: 0.000, SignalVar: 2.802, Lengthscale: 4.824, Epsilon: 0.450\n",
      "Iter: 46, LR: 0.100, Loss: 1839.608, NoiseVar: 0.000, SignalVar: 2.795, Lengthscale: 4.860, Epsilon: 0.454\n",
      "Iter: 47, LR: 0.100, Loss: 1848.510, NoiseVar: 0.000, SignalVar: 2.787, Lengthscale: 4.896, Epsilon: 0.458\n",
      "Iter: 48, LR: 0.100, Loss: 1842.335, NoiseVar: 0.000, SignalVar: 2.779, Lengthscale: 4.932, Epsilon: 0.462\n",
      "Iter: 49, LR: 0.100, Loss: 1859.808, NoiseVar: 0.000, SignalVar: 2.769, Lengthscale: 4.967, Epsilon: 0.465\n",
      "Iter: 50, LR: 0.100, Loss: 1842.220, NoiseVar: 0.000, SignalVar: 2.758, Lengthscale: 5.001, Epsilon: 0.468\n",
      "Iter: 51, LR: 0.100, Loss: 1836.754, NoiseVar: 0.000, SignalVar: 2.744, Lengthscale: 5.035, Epsilon: 0.470\n",
      "Iter: 52, LR: 0.100, Loss: 1838.326, NoiseVar: 0.000, SignalVar: 2.728, Lengthscale: 5.068, Epsilon: 0.471\n",
      "Iter: 53, LR: 0.100, Loss: 1825.388, NoiseVar: 0.000, SignalVar: 2.711, Lengthscale: 5.100, Epsilon: 0.472\n",
      "Iter: 54, LR: 0.100, Loss: 1831.962, NoiseVar: 0.000, SignalVar: 2.693, Lengthscale: 5.132, Epsilon: 0.473\n",
      "Iter: 55, LR: 0.100, Loss: 1849.691, NoiseVar: 0.000, SignalVar: 2.674, Lengthscale: 5.163, Epsilon: 0.473\n",
      "Iter: 56, LR: 0.100, Loss: 1832.108, NoiseVar: 0.000, SignalVar: 2.654, Lengthscale: 5.194, Epsilon: 0.474\n",
      "Iter: 57, LR: 0.100, Loss: 1839.700, NoiseVar: 0.000, SignalVar: 2.633, Lengthscale: 5.224, Epsilon: 0.474\n",
      "Iter: 58, LR: 0.100, Loss: 1826.230, NoiseVar: 0.000, SignalVar: 2.612, Lengthscale: 5.254, Epsilon: 0.474\n",
      "Iter: 59, LR: 0.100, Loss: 1840.894, NoiseVar: 0.000, SignalVar: 2.592, Lengthscale: 5.284, Epsilon: 0.474\n",
      "Iter: 60, LR: 0.100, Loss: 1835.972, NoiseVar: 0.000, SignalVar: 2.572, Lengthscale: 5.314, Epsilon: 0.475\n",
      "Iter: 61, LR: 0.100, Loss: 1833.142, NoiseVar: 0.000, SignalVar: 2.553, Lengthscale: 5.343, Epsilon: 0.476\n",
      "Iter: 62, LR: 0.100, Loss: 1812.618, NoiseVar: 0.000, SignalVar: 2.534, Lengthscale: 5.372, Epsilon: 0.477\n",
      "Iter: 63, LR: 0.100, Loss: 1831.917, NoiseVar: 0.000, SignalVar: 2.516, Lengthscale: 5.402, Epsilon: 0.479\n",
      "Iter: 64, LR: 0.100, Loss: 1826.949, NoiseVar: 0.000, SignalVar: 2.500, Lengthscale: 5.431, Epsilon: 0.481\n",
      "Iter: 65, LR: 0.100, Loss: 1841.191, NoiseVar: 0.000, SignalVar: 2.483, Lengthscale: 5.461, Epsilon: 0.483\n",
      "Iter: 66, LR: 0.100, Loss: 1841.349, NoiseVar: 0.000, SignalVar: 2.468, Lengthscale: 5.490, Epsilon: 0.486\n",
      "Iter: 67, LR: 0.100, Loss: 1820.498, NoiseVar: 0.000, SignalVar: 2.453, Lengthscale: 5.519, Epsilon: 0.489\n",
      "Iter: 68, LR: 0.100, Loss: 1823.728, NoiseVar: 0.000, SignalVar: 2.438, Lengthscale: 5.548, Epsilon: 0.492\n",
      "Iter: 69, LR: 0.100, Loss: 1821.176, NoiseVar: 0.000, SignalVar: 2.420, Lengthscale: 5.576, Epsilon: 0.495\n",
      "Iter: 70, LR: 0.100, Loss: 1811.075, NoiseVar: 0.000, SignalVar: 2.403, Lengthscale: 5.604, Epsilon: 0.497\n",
      "Iter: 71, LR: 0.100, Loss: 1831.545, NoiseVar: 0.000, SignalVar: 2.383, Lengthscale: 5.632, Epsilon: 0.499\n",
      "Iter: 72, LR: 0.100, Loss: 1821.575, NoiseVar: 0.000, SignalVar: 2.363, Lengthscale: 5.660, Epsilon: 0.501\n",
      "Iter: 73, LR: 0.100, Loss: 1817.165, NoiseVar: 0.000, SignalVar: 2.343, Lengthscale: 5.688, Epsilon: 0.503\n",
      "Iter: 74, LR: 0.100, Loss: 1832.106, NoiseVar: 0.000, SignalVar: 2.321, Lengthscale: 5.716, Epsilon: 0.504\n",
      "Iter: 75, LR: 0.100, Loss: 1817.362, NoiseVar: 0.000, SignalVar: 2.300, Lengthscale: 5.743, Epsilon: 0.506\n",
      "Iter: 76, LR: 0.100, Loss: 1814.270, NoiseVar: 0.000, SignalVar: 2.278, Lengthscale: 5.770, Epsilon: 0.507\n",
      "Iter: 77, LR: 0.100, Loss: 1824.438, NoiseVar: 0.000, SignalVar: 2.256, Lengthscale: 5.797, Epsilon: 0.509\n",
      "Iter: 78, LR: 0.100, Loss: 1816.904, NoiseVar: 0.000, SignalVar: 2.235, Lengthscale: 5.825, Epsilon: 0.510\n",
      "Iter: 79, LR: 0.100, Loss: 1817.068, NoiseVar: 0.000, SignalVar: 2.214, Lengthscale: 5.852, Epsilon: 0.512\n",
      "Iter: 80, LR: 0.100, Loss: 1818.530, NoiseVar: 0.000, SignalVar: 2.195, Lengthscale: 5.879, Epsilon: 0.515\n",
      "Iter: 81, LR: 0.100, Loss: 1817.670, NoiseVar: 0.000, SignalVar: 2.176, Lengthscale: 5.907, Epsilon: 0.518\n",
      "Iter: 82, LR: 0.100, Loss: 1821.501, NoiseVar: 0.000, SignalVar: 2.156, Lengthscale: 5.934, Epsilon: 0.520\n",
      "Iter: 83, LR: 0.100, Loss: 1800.966, NoiseVar: 0.000, SignalVar: 2.138, Lengthscale: 5.961, Epsilon: 0.523\n",
      "Iter: 84, LR: 0.100, Loss: 1821.141, NoiseVar: 0.000, SignalVar: 2.119, Lengthscale: 5.989, Epsilon: 0.527\n"
     ]
    },
    {
     "name": "stdout",
     "output_type": "stream",
     "text": [
      "Iter: 85, LR: 0.100, Loss: 1794.599, NoiseVar: 0.000, SignalVar: 2.101, Lengthscale: 6.016, Epsilon: 0.530\n",
      "Iter: 86, LR: 0.100, Loss: 1799.770, NoiseVar: 0.000, SignalVar: 2.082, Lengthscale: 6.044, Epsilon: 0.533\n",
      "Iter: 87, LR: 0.100, Loss: 1795.171, NoiseVar: 0.000, SignalVar: 2.062, Lengthscale: 6.072, Epsilon: 0.536\n",
      "Iter: 88, LR: 0.100, Loss: 1802.415, NoiseVar: 0.000, SignalVar: 2.041, Lengthscale: 6.100, Epsilon: 0.539\n",
      "Iter: 89, LR: 0.100, Loss: 1793.591, NoiseVar: 0.000, SignalVar: 2.020, Lengthscale: 6.127, Epsilon: 0.541\n",
      "Iter: 90, LR: 0.100, Loss: 1794.927, NoiseVar: 0.000, SignalVar: 1.998, Lengthscale: 6.155, Epsilon: 0.544\n",
      "Iter: 91, LR: 0.100, Loss: 1783.475, NoiseVar: 0.000, SignalVar: 1.976, Lengthscale: 6.183, Epsilon: 0.546\n",
      "Iter: 92, LR: 0.100, Loss: 1796.052, NoiseVar: 0.000, SignalVar: 1.953, Lengthscale: 6.211, Epsilon: 0.548\n",
      "Iter: 93, LR: 0.100, Loss: 1791.066, NoiseVar: 0.000, SignalVar: 1.931, Lengthscale: 6.239, Epsilon: 0.551\n",
      "Iter: 94, LR: 0.100, Loss: 1793.546, NoiseVar: 0.000, SignalVar: 1.909, Lengthscale: 6.267, Epsilon: 0.553\n",
      "Iter: 95, LR: 0.100, Loss: 1777.878, NoiseVar: 0.000, SignalVar: 1.887, Lengthscale: 6.296, Epsilon: 0.556\n",
      "Iter: 96, LR: 0.100, Loss: 1797.395, NoiseVar: 0.000, SignalVar: 1.867, Lengthscale: 6.324, Epsilon: 0.559\n",
      "Iter: 97, LR: 0.100, Loss: 1778.802, NoiseVar: 0.000, SignalVar: 1.847, Lengthscale: 6.353, Epsilon: 0.563\n",
      "Iter: 98, LR: 0.100, Loss: 1779.217, NoiseVar: 0.000, SignalVar: 1.826, Lengthscale: 6.382, Epsilon: 0.566\n",
      "Iter: 99, LR: 0.100, Loss: 1792.079, NoiseVar: 0.000, SignalVar: 1.806, Lengthscale: 6.411, Epsilon: 0.569\n"
     ]
    }
   ],
   "source": [
    "model.manifold_informed_train(lr=1e-1, iter=100, verbose=True)"
   ]
  },
  {
   "cell_type": "markdown",
   "id": "0ab36075",
   "metadata": {},
   "source": [
    "## Evaluation"
   ]
  },
  {
   "cell_type": "code",
   "execution_count": 10,
   "id": "998d4b89",
   "metadata": {},
   "outputs": [],
   "source": [
    "%%capture\n",
    "likelihood.eval()\n",
    "model.eval()"
   ]
  },
  {
   "cell_type": "markdown",
   "id": "53c57771",
   "metadata": {},
   "source": [
    "## Metrics"
   ]
  },
  {
   "cell_type": "code",
   "execution_count": 11,
   "id": "40ffbd87",
   "metadata": {},
   "outputs": [
    {
     "name": "stdout",
     "output_type": "stream",
     "text": [
      "RMSE:  tensor(1.0177, device='cuda:0')\n",
      "NLL:  tensor(5411.5659, device='cuda:0')\n"
     ]
    }
   ],
   "source": [
    "with torch.no_grad(), gpytorch.settings.fast_pred_var(), gpytorch.settings.cg_tolerance(10000):\n",
    "    preds_test = likelihood(model(test_x))\n",
    "        \n",
    "    error = test_y - preds_test.mean\n",
    "    covar = preds_test.lazy_covariance_matrix.evaluate_kernel()\n",
    "    inv_quad, logdet = covar.inv_quad_logdet(inv_quad_rhs=error.unsqueeze(-1), logdet=True)\n",
    "    \n",
    "    rmse = (error.square().sum()/test_y.shape[0]).sqrt()\n",
    "    nll = 0.5 * sum([inv_quad, logdet, error.size(-1)* np.log(2 * np.pi)])/test_y.shape[0]\n",
    "    \n",
    "print(\"RMSE: \", rmse)\n",
    "print(\"NLL: \", nll)"
   ]
  },
  {
   "cell_type": "code",
   "execution_count": null,
   "id": "f09b1b25",
   "metadata": {},
   "outputs": [],
   "source": []
  }
 ],
 "metadata": {
  "kernelspec": {
   "display_name": "Python 3 (ipykernel)",
   "language": "python",
   "name": "python3"
  },
  "language_info": {
   "codemirror_mode": {
    "name": "ipython",
    "version": 3
   },
   "file_extension": ".py",
   "mimetype": "text/x-python",
   "name": "python",
   "nbconvert_exporter": "python",
   "pygments_lexer": "ipython3",
   "version": "3.10.6"
  },
  "vscode": {
   "interpreter": {
    "hash": "916dbcbb3f70747c44a77c7bcd40155683ae19c65e1c03b4aa3499c5328201f1"
   }
  }
 },
 "nbformat": 4,
 "nbformat_minor": 5
}
