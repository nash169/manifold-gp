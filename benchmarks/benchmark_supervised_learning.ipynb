{
 "cells": [
  {
   "cell_type": "markdown",
   "id": "5e276dbe",
   "metadata": {},
   "source": [
    "# Benchmark Manifold GP Supervised Learning"
   ]
  },
  {
   "cell_type": "markdown",
   "id": "a36444a5",
   "metadata": {},
   "source": [
    "## Preamble"
   ]
  },
  {
   "cell_type": "markdown",
   "id": "01d17d1f",
   "metadata": {},
   "source": [
    "This notebook provides an example of how to perform Gaussian Process Regression on a 1D manifold. In this example we consider a supervised learning scenario, namely the number of labeled data points is equivalent to the number of the sampled points from the underlying manifold."
   ]
  },
  {
   "cell_type": "code",
   "execution_count": 1,
   "id": "58e9afd1",
   "metadata": {},
   "outputs": [],
   "source": [
    "import torch\n",
    "import gpytorch\n",
    "import numpy as np\n",
    "from time import time\n",
    "from manifold_gp.kernels.riemann_matern_kernel import RiemannMaternKernel\n",
    "from manifold_gp.models.riemann_gp import RiemannGP\n",
    "from gpytorch.priors import NormalPrior, GammaPrior"
   ]
  },
  {
   "cell_type": "markdown",
   "id": "75701656",
   "metadata": {},
   "source": [
    "## Dataset Preprocessing"
   ]
  },
  {
   "cell_type": "markdown",
   "id": "02483bf0",
   "metadata": {},
   "source": [
    "### Load & Settings"
   ]
  },
  {
   "cell_type": "code",
   "execution_count": 2,
   "id": "af216c23",
   "metadata": {},
   "outputs": [],
   "source": [
    "# bike, buzz_tomshardware, buzz_twitter, ctslices, elevators, protein, song, mnist, mnist_single\n",
    "dataset = 'ctslices'\n",
    "samples_split = 0.9\n",
    "preprocess = False\n",
    "normalize_features = False\n",
    "normalize_labels = True\n",
    "cut = 20000\n",
    "\n",
    "data = np.load('../datasets/'+dataset+'.npy') # [:cut,:]\n",
    "# Map features to [-1, 1] (used in gpytorch)\n",
    "x = data[:, :-1]\n",
    "y = data[:, -1]\n",
    "\n",
    "idx = np.random.permutation(x.shape[0])\n",
    "x = x[idx, :]\n",
    "y = y[idx]\n",
    "# x = x - x.min(0)[0]\n",
    "# x = 2 * (x/ x.max(0)[0]) - 1\n",
    "\n",
    "# mu, std = x.mean(axis=0), x.std(axis=0)\n",
    "# x = (x - mu)/(std+ 1e-6)\n",
    "\n",
    "num_samples = int(samples_split * len(data))\n",
    "sampled_x, sampled_y = x[:num_samples, :], y[:num_samples]\n",
    "test_x, test_y = x[num_samples:, :], y[num_samples:]"
   ]
  },
  {
   "cell_type": "raw",
   "id": "5b2d9871-0d1d-4651-a335-ad4a9acae2df",
   "metadata": {
    "scrolled": true
   },
   "source": [
    "from sklearn.decomposition import PCA,IncrementalPCA\n",
    "pca = PCA(n_components=1000) # svd_solver='arpack'\n",
    "x_r = pca.fit(x).transform(x)"
   ]
  },
  {
   "cell_type": "code",
   "execution_count": 3,
   "id": "40735533-0db3-49fb-9cb5-786d5b48c1b8",
   "metadata": {
    "scrolled": true
   },
   "outputs": [],
   "source": [
    "if preprocess:\n",
    "    # # remove coincident points\n",
    "    # sampled_x, id_unique = np.unique(sampled_x, axis=0, return_index=True)\n",
    "    # sampled_y = sampled_y[id_unique]\n",
    "\n",
    "    # cut between x% and y% percentile of distances\n",
    "    num_avg = 1\n",
    "    p_start, p_end = 0.1, 0.95\n",
    "    num_samples = sampled_x.shape[0]\n",
    "    \n",
    "    import faiss\n",
    "    res = faiss.StandardGpuResources()\n",
    "    knn = faiss.GpuIndexIVFFlat(res, sampled_x.shape[1], 1, faiss.METRIC_L2)\n",
    "    knn.train(sampled_x)\n",
    "    knn.add(sampled_x)\n",
    "    v = np.sqrt(knn.search(sampled_x, num_avg+1)[0][:,1:])\n",
    "    idx = np.argsort(v.mean(axis=1))\n",
    "    idx = np.delete(idx, np.arange(int(num_samples*p_start),int(num_samples*p_end)))\n",
    "    sampled_x = np.delete(sampled_x, idx, axis=0)\n",
    "    sampled_y = np.delete(sampled_y, idx)\n",
    "    idx = np.random.permutation(sampled_x.shape[0])\n",
    "    sampled_x = sampled_x[idx]\n",
    "    sampled_y = sampled_y[idx]\n",
    "    del knn\n",
    "m = sampled_x.shape[0]"
   ]
  },
  {
   "cell_type": "raw",
   "id": "91aa6f9e-4614-4f46-b8e7-6e7b2cbfffbe",
   "metadata": {
    "scrolled": true
   },
   "source": [
    "import faiss\n",
    "import matplotlib.pyplot as plt\n",
    "res = faiss.StandardGpuResources()\n",
    "knn = faiss.GpuIndexIVFFlat(res, sampled_x.shape[1], 1, faiss.METRIC_L2)\n",
    "knn.train(sampled_x)\n",
    "knn.add(sampled_x)\n",
    "v, i = knn.search(sampled_x, 2)\n",
    "v = np.sqrt(v[:,1:]).mean(axis=1)\n",
    "\n",
    "plt.hist(np.sort(v), density=False, bins=100)  # density=False would make counts\n",
    "plt.ylabel('Probability')\n",
    "plt.xlabel('Data')"
   ]
  },
  {
   "cell_type": "markdown",
   "id": "972edfe4",
   "metadata": {},
   "source": [
    "### Trainset & Testset"
   ]
  },
  {
   "cell_type": "code",
   "execution_count": 4,
   "id": "cc4d77e2",
   "metadata": {},
   "outputs": [],
   "source": [
    "train_split = int(0.75* m)\n",
    "train_x, train_y = sampled_x[:train_split], sampled_y[:train_split]\n",
    "\n",
    "train_x, train_y = torch.from_numpy(train_x).float(), torch.from_numpy(train_y).float()\n",
    "test_x, test_y = torch.from_numpy(test_x).float(), torch.from_numpy(test_y).float()\n",
    "\n",
    "if normalize_features:\n",
    "    mu_x, std_x = train_x.mean(dim=-2, keepdim=True), train_x.std(dim=-2, keepdim=True) + 1e-6\n",
    "    train_x.sub_(mu_x).div_(std_x)\n",
    "    test_x.sub_(mu_x).div_(std_x)\n",
    "    \n",
    "if normalize_labels:\n",
    "    mu_y, std_y = train_y.mean(), train_y.std()\n",
    "    train_y.sub_(mu_y).div_(std_y)\n",
    "    test_y.sub_(mu_y).div_(std_y)"
   ]
  },
  {
   "cell_type": "raw",
   "id": "c59d47e9-3c12-4761-b1b8-a72f297360eb",
   "metadata": {
    "scrolled": true
   },
   "source": [
    "import faiss\n",
    "import matplotlib.pyplot as plt\n",
    "res = faiss.StandardGpuResources()\n",
    "knn = faiss.GpuIndexIVFFlat(res, train_x.shape[1], 1, faiss.METRIC_L2)\n",
    "knn.train(train_x)\n",
    "knn.add(train_x)\n",
    "v, i = knn.search(test_x, 2)\n",
    "v = np.sqrt(v[:,1:]).mean(axis=1)\n",
    "\n",
    "plt.hist(np.sort(v), density=False, bins=100)  # density=False would make counts\n",
    "plt.ylabel('Probability')\n",
    "plt.xlabel('Data')"
   ]
  },
  {
   "cell_type": "markdown",
   "id": "b87581de",
   "metadata": {},
   "source": [
    "### Move Data to Device"
   ]
  },
  {
   "cell_type": "code",
   "execution_count": 5,
   "id": "d1c91b4b",
   "metadata": {},
   "outputs": [],
   "source": [
    "train_x, train_y = train_x.contiguous(), train_y.contiguous()\n",
    "test_x, test_y = test_x.contiguous(), test_y.contiguous()\n",
    "\n",
    "use_cuda = torch.cuda.is_available()\n",
    "device = torch.device(\"cuda\" if use_cuda else \"cpu\")\n",
    "\n",
    "train_x, train_y = train_x.to(device), train_y.to(device)\n",
    "test_x, test_y = test_x.to(device), test_y.to(device)"
   ]
  },
  {
   "cell_type": "markdown",
   "id": "405d4275",
   "metadata": {},
   "source": [
    "## Model"
   ]
  },
  {
   "cell_type": "code",
   "execution_count": 6,
   "id": "83460075",
   "metadata": {},
   "outputs": [],
   "source": [
    "%%capture\n",
    "likelihood = gpytorch.likelihoods.GaussianLikelihood(\n",
    "    noise_constraint=gpytorch.constraints.GreaterThan(1e-8),\n",
    "    noise_prior=None  # NormalPrior(torch.tensor([0.0]).to(device),  torch.tensor([1/9]).sqrt().to(device))\n",
    ")\n",
    "\n",
    "kernel = gpytorch.kernels.ScaleKernel(\n",
    "    RiemannMaternKernel(\n",
    "        nu=6,\n",
    "        nodes=train_x,\n",
    "        neighbors=100,\n",
    "        operator=\"randomwalk\",\n",
    "        method=\"exact\",\n",
    "        modes=500,\n",
    "        ball_scale=100.0,\n",
    "        prior_bandwidth=True,\n",
    "    ),\n",
    "    outputscale_prior=None  # NormalPrior(torch.tensor([1.0]).to(device),  torch.tensor([1/9]).sqrt().to(device))\n",
    ")\n",
    "\n",
    "model = RiemannGP(train_x, train_y, likelihood, kernel).to(device)"
   ]
  },
  {
   "cell_type": "raw",
   "id": "d533746e-ff33-458d-bd4f-c8e57b48eef5",
   "metadata": {},
   "source": [
    "import faiss\n",
    "import matplotlib.pyplot as plt\n",
    "v, i = kernel.base_kernel.knn.search(train_x, 2)\n",
    "v = v[:,1:].mean(axis=1).sqrt()\n",
    "\n",
    "plt.hist(np.sort(v.cpu()), density=False, bins=100)  # density=False would make counts\n",
    "plt.vlines(kernel.base_kernel.eps_gte.item(), 0, 1000, colors='k', linestyles='dashed')\n",
    "# plt.plot(np.sort(v.cpu()), 1e3*kernel.base_kernel.epsilon_prior.log_prob(np.sort(v.cpu())).exp().cpu())\n",
    "plt.ylabel('Probability')\n",
    "plt.xlabel('Data')\n",
    "kernel.base_kernel.eps_gte"
   ]
  },
  {
   "cell_type": "markdown",
   "id": "8b14763b",
   "metadata": {},
   "source": [
    "## Train"
   ]
  },
  {
   "cell_type": "code",
   "execution_count": 7,
   "id": "357e1dd2",
   "metadata": {},
   "outputs": [],
   "source": [
    "%%capture\n",
    "hypers = {\n",
    "    'likelihood.noise_covar.noise': 1e-2,\n",
    "    'covar_module.base_kernel.epsilon': 1.5,\n",
    "    'covar_module.base_kernel.lengthscale': 10.0,\n",
    "    'covar_module.outputscale': 1.0,\n",
    "}\n",
    "model.initialize(**hypers)"
   ]
  },
  {
   "cell_type": "code",
   "execution_count": 8,
   "id": "7bb0ab30",
   "metadata": {},
   "outputs": [
    {
     "name": "stdout",
     "output_type": "stream",
     "text": [
      "Iter: 0, Loss: -468.413, NoiseVar: 0.010, SignalVar: 0.00015, Lengthscale: 10.000, Epsilon: 1.500\n",
      "Iter: 1, Loss: -1462.438, NoiseVar: 0.010, SignalVar: 0.00015, Lengthscale: 9.990, Epsilon: 1.492\n",
      "Iter: 2, Loss: -2572.872, NoiseVar: 0.010, SignalVar: 0.00015, Lengthscale: 9.980, Epsilon: 1.484\n",
      "Iter: 3, Loss: -3590.252, NoiseVar: 0.010, SignalVar: 0.00015, Lengthscale: 9.970, Epsilon: 1.477\n",
      "Iter: 4, Loss: -4779.339, NoiseVar: 0.010, SignalVar: 0.00015, Lengthscale: 9.960, Epsilon: 1.469\n",
      "Iter: 5, Loss: -5890.754, NoiseVar: 0.010, SignalVar: 0.00014, Lengthscale: 9.950, Epsilon: 1.461\n",
      "Iter: 6, Loss: -6857.134, NoiseVar: 0.009, SignalVar: 0.00014, Lengthscale: 9.940, Epsilon: 1.454\n",
      "Iter: 7, Loss: -7963.517, NoiseVar: 0.009, SignalVar: 0.00014, Lengthscale: 9.930, Epsilon: 1.446\n",
      "Iter: 8, Loss: -9055.307, NoiseVar: 0.009, SignalVar: 0.00014, Lengthscale: 9.920, Epsilon: 1.438\n",
      "Iter: 9, Loss: -10091.162, NoiseVar: 0.009, SignalVar: 0.00014, Lengthscale: 9.910, Epsilon: 1.431\n",
      "Iter: 10, Loss: -11218.373, NoiseVar: 0.009, SignalVar: 0.00014, Lengthscale: 9.900, Epsilon: 1.423\n",
      "Iter: 11, Loss: -12185.592, NoiseVar: 0.009, SignalVar: 0.00014, Lengthscale: 9.890, Epsilon: 1.416\n",
      "Iter: 12, Loss: -13414.541, NoiseVar: 0.009, SignalVar: 0.00013, Lengthscale: 9.881, Epsilon: 1.408\n",
      "Iter: 13, Loss: -14594.221, NoiseVar: 0.009, SignalVar: 0.00013, Lengthscale: 9.871, Epsilon: 1.401\n",
      "Iter: 14, Loss: -15572.356, NoiseVar: 0.009, SignalVar: 0.00013, Lengthscale: 9.861, Epsilon: 1.393\n",
      "Iter: 15, Loss: -16758.199, NoiseVar: 0.009, SignalVar: 0.00013, Lengthscale: 9.851, Epsilon: 1.386\n",
      "Iter: 16, Loss: -17977.230, NoiseVar: 0.009, SignalVar: 0.00013, Lengthscale: 9.841, Epsilon: 1.378\n",
      "Iter: 17, Loss: -19214.428, NoiseVar: 0.008, SignalVar: 0.00013, Lengthscale: 9.831, Epsilon: 1.370\n",
      "Iter: 18, Loss: -20344.938, NoiseVar: 0.008, SignalVar: 0.00013, Lengthscale: 9.821, Epsilon: 1.363\n",
      "Iter: 19, Loss: -21640.939, NoiseVar: 0.008, SignalVar: 0.00013, Lengthscale: 9.812, Epsilon: 1.355\n",
      "Iter: 20, Loss: -22945.414, NoiseVar: 0.008, SignalVar: 0.00012, Lengthscale: 9.802, Epsilon: 1.348\n",
      "Iter: 21, Loss: -24309.174, NoiseVar: 0.008, SignalVar: 0.00012, Lengthscale: 9.792, Epsilon: 1.340\n",
      "Iter: 22, Loss: -25793.902, NoiseVar: 0.008, SignalVar: 0.00012, Lengthscale: 9.782, Epsilon: 1.333\n",
      "Iter: 23, Loss: -27293.879, NoiseVar: 0.008, SignalVar: 0.00012, Lengthscale: 9.772, Epsilon: 1.325\n",
      "Iter: 24, Loss: -28954.445, NoiseVar: 0.008, SignalVar: 0.00012, Lengthscale: 9.762, Epsilon: 1.317\n",
      "Iter: 25, Loss: -30730.191, NoiseVar: 0.008, SignalVar: 0.00012, Lengthscale: 9.752, Epsilon: 1.309\n",
      "Iter: 26, Loss: -32589.158, NoiseVar: 0.008, SignalVar: 0.00012, Lengthscale: 9.742, Epsilon: 1.302\n",
      "Iter: 27, Loss: -34864.875, NoiseVar: 0.008, SignalVar: 0.00012, Lengthscale: 9.731, Epsilon: 1.294\n",
      "Iter: 28, Loss: -37127.984, NoiseVar: 0.008, SignalVar: 0.00011, Lengthscale: 9.721, Epsilon: 1.286\n",
      "Iter: 29, Loss: -39594.191, NoiseVar: 0.008, SignalVar: 0.00011, Lengthscale: 9.710, Epsilon: 1.277\n",
      "Iter: 30, Loss: -42689.289, NoiseVar: 0.008, SignalVar: 0.00011, Lengthscale: 9.700, Epsilon: 1.269\n",
      "Iter: 31, Loss: -45662.730, NoiseVar: 0.008, SignalVar: 0.00011, Lengthscale: 9.689, Epsilon: 1.261\n",
      "Iter: 32, Loss: -49057.754, NoiseVar: 0.009, SignalVar: 0.00011, Lengthscale: 9.678, Epsilon: 1.252\n",
      "Iter: 33, Loss: -52868.996, NoiseVar: 0.009, SignalVar: 0.00011, Lengthscale: 9.667, Epsilon: 1.243\n",
      "Iter: 34, Loss: -56985.348, NoiseVar: 0.009, SignalVar: 0.00011, Lengthscale: 9.656, Epsilon: 1.234\n",
      "Iter: 35, Loss: -61110.590, NoiseVar: 0.009, SignalVar: 0.00011, Lengthscale: 9.644, Epsilon: 1.225\n",
      "Iter: 36, Loss: -65925.516, NoiseVar: 0.009, SignalVar: 0.00010, Lengthscale: 9.632, Epsilon: 1.216\n",
      "Iter: 37, Loss: -70814.312, NoiseVar: 0.009, SignalVar: 0.00010, Lengthscale: 9.620, Epsilon: 1.207\n",
      "Iter: 38, Loss: -76098.867, NoiseVar: 0.009, SignalVar: 0.00010, Lengthscale: 9.608, Epsilon: 1.197\n",
      "Iter: 39, Loss: -81565.508, NoiseVar: 0.009, SignalVar: 0.00010, Lengthscale: 9.596, Epsilon: 1.188\n",
      "Iter: 40, Loss: -87204.078, NoiseVar: 0.009, SignalVar: 0.00010, Lengthscale: 9.583, Epsilon: 1.178\n",
      "Iter: 41, Loss: -92750.906, NoiseVar: 0.010, SignalVar: 0.00010, Lengthscale: 9.571, Epsilon: 1.169\n",
      "Iter: 42, Loss: -98228.844, NoiseVar: 0.010, SignalVar: 0.00010, Lengthscale: 9.558, Epsilon: 1.159\n",
      "Iter: 43, Loss: -103544.719, NoiseVar: 0.010, SignalVar: 0.00009, Lengthscale: 9.545, Epsilon: 1.150\n",
      "Iter: 44, Loss: -108403.250, NoiseVar: 0.010, SignalVar: 0.00009, Lengthscale: 9.533, Epsilon: 1.140\n",
      "Iter: 45, Loss: -112634.938, NoiseVar: 0.010, SignalVar: 0.00009, Lengthscale: 9.520, Epsilon: 1.130\n",
      "Iter: 46, Loss: -116158.594, NoiseVar: 0.010, SignalVar: 0.00009, Lengthscale: 9.508, Epsilon: 1.121\n",
      "Iter: 47, Loss: -118472.406, NoiseVar: 0.010, SignalVar: 0.00009, Lengthscale: 9.497, Epsilon: 1.112\n",
      "Iter: 48, Loss: -119237.328, NoiseVar: 0.011, SignalVar: 0.00009, Lengthscale: 9.486, Epsilon: 1.103\n",
      "Iter: 49, Loss: -118452.117, NoiseVar: 0.011, SignalVar: 0.00009, Lengthscale: 9.477, Epsilon: 1.096\n",
      "Iter: 50, Loss: -116591.031, NoiseVar: 0.011, SignalVar: 0.00009, Lengthscale: 9.470, Epsilon: 1.089\n",
      "Iter: 51, Loss: -114150.914, NoiseVar: 0.011, SignalVar: 0.00009, Lengthscale: 9.466, Epsilon: 1.083\n",
      "Iter: 52, Loss: -111892.172, NoiseVar: 0.011, SignalVar: 0.00009, Lengthscale: 9.465, Epsilon: 1.080\n",
      "Iter: 53, Loss: -111061.102, NoiseVar: 0.011, SignalVar: 0.00009, Lengthscale: 9.467, Epsilon: 1.078\n",
      "Iter: 54, Loss: -111557.852, NoiseVar: 0.011, SignalVar: 0.00009, Lengthscale: 9.470, Epsilon: 1.077\n",
      "Iter: 55, Loss: -113295.664, NoiseVar: 0.011, SignalVar: 0.00009, Lengthscale: 9.476, Epsilon: 1.078\n",
      "Iter: 56, Loss: -115208.773, NoiseVar: 0.011, SignalVar: 0.00009, Lengthscale: 9.483, Epsilon: 1.080\n",
      "Iter: 57, Loss: -116891.555, NoiseVar: 0.011, SignalVar: 0.00009, Lengthscale: 9.491, Epsilon: 1.083\n",
      "Iter: 58, Loss: -118501.539, NoiseVar: 0.010, SignalVar: 0.00009, Lengthscale: 9.500, Epsilon: 1.086\n",
      "Iter: 59, Loss: -119682.148, NoiseVar: 0.010, SignalVar: 0.00009, Lengthscale: 9.508, Epsilon: 1.089\n",
      "Iter: 60, Loss: -120241.930, NoiseVar: 0.010, SignalVar: 0.00009, Lengthscale: 9.517, Epsilon: 1.092\n",
      "Iter: 61, Loss: -120442.195, NoiseVar: 0.010, SignalVar: 0.00009, Lengthscale: 9.525, Epsilon: 1.095\n",
      "Iter: 62, Loss: -120391.891, NoiseVar: 0.010, SignalVar: 0.00009, Lengthscale: 9.533, Epsilon: 1.098\n",
      "Iter: 63, Loss: -120035.219, NoiseVar: 0.010, SignalVar: 0.00009, Lengthscale: 9.540, Epsilon: 1.100\n",
      "Iter: 64, Loss: -119674.008, NoiseVar: 0.010, SignalVar: 0.00009, Lengthscale: 9.547, Epsilon: 1.101\n",
      "Iter: 65, Loss: -119638.367, NoiseVar: 0.010, SignalVar: 0.00009, Lengthscale: 9.553, Epsilon: 1.102\n",
      "Iter: 66, Loss: -119395.352, NoiseVar: 0.010, SignalVar: 0.00010, Lengthscale: 9.558, Epsilon: 1.102\n",
      "Iter: 67, Loss: -119498.898, NoiseVar: 0.010, SignalVar: 0.00010, Lengthscale: 9.563, Epsilon: 1.102\n",
      "Iter: 68, Loss: -119579.273, NoiseVar: 0.010, SignalVar: 0.00010, Lengthscale: 9.567, Epsilon: 1.101\n",
      "Iter: 69, Loss: -119779.750, NoiseVar: 0.010, SignalVar: 0.00010, Lengthscale: 9.570, Epsilon: 1.100\n",
      "Iter: 70, Loss: -120073.023, NoiseVar: 0.010, SignalVar: 0.00010, Lengthscale: 9.573, Epsilon: 1.098\n",
      "Iter: 71, Loss: -120368.984, NoiseVar: 0.010, SignalVar: 0.00010, Lengthscale: 9.575, Epsilon: 1.096\n",
      "Iter: 72, Loss: -120814.125, NoiseVar: 0.010, SignalVar: 0.00010, Lengthscale: 9.577, Epsilon: 1.094\n",
      "Iter: 73, Loss: -121214.328, NoiseVar: 0.010, SignalVar: 0.00010, Lengthscale: 9.579, Epsilon: 1.092\n",
      "Iter: 74, Loss: -121436.211, NoiseVar: 0.010, SignalVar: 0.00010, Lengthscale: 9.580, Epsilon: 1.089\n",
      "Iter: 75, Loss: -121928.773, NoiseVar: 0.010, SignalVar: 0.00010, Lengthscale: 9.582, Epsilon: 1.086\n",
      "Iter: 76, Loss: -122120.133, NoiseVar: 0.010, SignalVar: 0.00010, Lengthscale: 9.584, Epsilon: 1.084\n",
      "Iter: 77, Loss: -122211.883, NoiseVar: 0.010, SignalVar: 0.00010, Lengthscale: 9.585, Epsilon: 1.081\n",
      "Iter: 78, Loss: -122283.609, NoiseVar: 0.010, SignalVar: 0.00010, Lengthscale: 9.587, Epsilon: 1.079\n",
      "Iter: 79, Loss: -122435.969, NoiseVar: 0.010, SignalVar: 0.00010, Lengthscale: 9.589, Epsilon: 1.077\n",
      "Iter: 80, Loss: -122356.602, NoiseVar: 0.010, SignalVar: 0.00010, Lengthscale: 9.592, Epsilon: 1.075\n",
      "Iter: 81, Loss: -122224.938, NoiseVar: 0.010, SignalVar: 0.00010, Lengthscale: 9.595, Epsilon: 1.073\n",
      "Iter: 82, Loss: -122243.367, NoiseVar: 0.010, SignalVar: 0.00010, Lengthscale: 9.598, Epsilon: 1.072\n",
      "Iter: 83, Loss: -122429.344, NoiseVar: 0.009, SignalVar: 0.00010, Lengthscale: 9.602, Epsilon: 1.071\n",
      "Iter: 84, Loss: -122511.734, NoiseVar: 0.009, SignalVar: 0.00010, Lengthscale: 9.607, Epsilon: 1.070\n",
      "Iter: 85, Loss: -122754.523, NoiseVar: 0.009, SignalVar: 0.00010, Lengthscale: 9.611, Epsilon: 1.070\n",
      "Iter: 86, Loss: -122886.336, NoiseVar: 0.009, SignalVar: 0.00010, Lengthscale: 9.616, Epsilon: 1.069\n",
      "Iter: 87, Loss: -123228.195, NoiseVar: 0.009, SignalVar: 0.00010, Lengthscale: 9.621, Epsilon: 1.069\n",
      "Iter: 88, Loss: -123250.805, NoiseVar: 0.009, SignalVar: 0.00010, Lengthscale: 9.626, Epsilon: 1.069\n",
      "Iter: 89, Loss: -123696.477, NoiseVar: 0.009, SignalVar: 0.00010, Lengthscale: 9.631, Epsilon: 1.070\n",
      "Iter: 90, Loss: -123559.008, NoiseVar: 0.009, SignalVar: 0.00010, Lengthscale: 9.637, Epsilon: 1.070\n",
      "Iter: 91, Loss: -123713.117, NoiseVar: 0.009, SignalVar: 0.00010, Lengthscale: 9.642, Epsilon: 1.070\n",
      "Iter: 92, Loss: -123801.258, NoiseVar: 0.009, SignalVar: 0.00010, Lengthscale: 9.647, Epsilon: 1.070\n",
      "Iter: 93, Loss: -123985.617, NoiseVar: 0.009, SignalVar: 0.00010, Lengthscale: 9.652, Epsilon: 1.069\n",
      "Iter: 94, Loss: -123883.773, NoiseVar: 0.009, SignalVar: 0.00010, Lengthscale: 9.656, Epsilon: 1.069\n",
      "Iter: 95, Loss: -123989.742, NoiseVar: 0.009, SignalVar: 0.00010, Lengthscale: 9.661, Epsilon: 1.069\n",
      "Iter: 96, Loss: -124315.562, NoiseVar: 0.009, SignalVar: 0.00011, Lengthscale: 9.665, Epsilon: 1.068\n",
      "Iter: 97, Loss: -124337.766, NoiseVar: 0.009, SignalVar: 0.00011, Lengthscale: 9.669, Epsilon: 1.067\n",
      "Iter: 98, Loss: -124485.602, NoiseVar: 0.009, SignalVar: 0.00011, Lengthscale: 9.673, Epsilon: 1.066\n",
      "Iter: 99, Loss: -124389.344, NoiseVar: 0.009, SignalVar: 0.00011, Lengthscale: 9.677, Epsilon: 1.065\n",
      "Iter: 100, Loss: -124822.516, NoiseVar: 0.009, SignalVar: 0.00011, Lengthscale: 9.681, Epsilon: 1.064\n",
      "Iter: 101, Loss: -124790.664, NoiseVar: 0.009, SignalVar: 0.00011, Lengthscale: 9.684, Epsilon: 1.063\n",
      "Iter: 102, Loss: -125036.891, NoiseVar: 0.009, SignalVar: 0.00011, Lengthscale: 9.688, Epsilon: 1.062\n",
      "Iter: 103, Loss: -125004.961, NoiseVar: 0.009, SignalVar: 0.00011, Lengthscale: 9.691, Epsilon: 1.060\n",
      "Iter: 104, Loss: -124977.531, NoiseVar: 0.009, SignalVar: 0.00011, Lengthscale: 9.694, Epsilon: 1.059\n",
      "Iter: 105, Loss: -125233.539, NoiseVar: 0.009, SignalVar: 0.00011, Lengthscale: 9.698, Epsilon: 1.058\n",
      "Iter: 106, Loss: -125269.422, NoiseVar: 0.009, SignalVar: 0.00011, Lengthscale: 9.701, Epsilon: 1.056\n",
      "Iter: 107, Loss: -125299.797, NoiseVar: 0.009, SignalVar: 0.00011, Lengthscale: 9.705, Epsilon: 1.055\n",
      "Iter: 108, Loss: -125295.039, NoiseVar: 0.009, SignalVar: 0.00011, Lengthscale: 9.709, Epsilon: 1.054\n",
      "Iter: 109, Loss: -125445.531, NoiseVar: 0.009, SignalVar: 0.00011, Lengthscale: 9.712, Epsilon: 1.053\n",
      "Iter: 110, Loss: -125637.328, NoiseVar: 0.009, SignalVar: 0.00011, Lengthscale: 9.716, Epsilon: 1.053\n",
      "Iter: 111, Loss: -125753.398, NoiseVar: 0.008, SignalVar: 0.00011, Lengthscale: 9.720, Epsilon: 1.052\n",
      "Iter: 112, Loss: -125899.727, NoiseVar: 0.008, SignalVar: 0.00011, Lengthscale: 9.724, Epsilon: 1.051\n",
      "Iter: 113, Loss: -125891.906, NoiseVar: 0.008, SignalVar: 0.00011, Lengthscale: 9.728, Epsilon: 1.050\n",
      "Iter: 114, Loss: -126204.672, NoiseVar: 0.008, SignalVar: 0.00011, Lengthscale: 9.732, Epsilon: 1.050\n",
      "Iter: 115, Loss: -126108.227, NoiseVar: 0.008, SignalVar: 0.00011, Lengthscale: 9.736, Epsilon: 1.049\n",
      "Iter: 116, Loss: -126259.992, NoiseVar: 0.008, SignalVar: 0.00011, Lengthscale: 9.740, Epsilon: 1.049\n",
      "Iter: 117, Loss: -126304.344, NoiseVar: 0.008, SignalVar: 0.00011, Lengthscale: 9.745, Epsilon: 1.048\n",
      "Iter: 118, Loss: -126689.359, NoiseVar: 0.008, SignalVar: 0.00011, Lengthscale: 9.749, Epsilon: 1.048\n",
      "Iter: 119, Loss: -126624.922, NoiseVar: 0.008, SignalVar: 0.00011, Lengthscale: 9.753, Epsilon: 1.047\n",
      "Iter: 120, Loss: -126844.992, NoiseVar: 0.008, SignalVar: 0.00012, Lengthscale: 9.757, Epsilon: 1.046\n",
      "Iter: 121, Loss: -126661.305, NoiseVar: 0.008, SignalVar: 0.00012, Lengthscale: 9.760, Epsilon: 1.046\n",
      "Iter: 122, Loss: -126892.203, NoiseVar: 0.008, SignalVar: 0.00012, Lengthscale: 9.764, Epsilon: 1.045\n",
      "Iter: 123, Loss: -126955.688, NoiseVar: 0.008, SignalVar: 0.00012, Lengthscale: 9.768, Epsilon: 1.044\n",
      "Iter: 124, Loss: -127140.258, NoiseVar: 0.008, SignalVar: 0.00012, Lengthscale: 9.772, Epsilon: 1.044\n",
      "Iter: 125, Loss: -127092.164, NoiseVar: 0.008, SignalVar: 0.00012, Lengthscale: 9.775, Epsilon: 1.043\n",
      "Iter: 126, Loss: -127460.906, NoiseVar: 0.008, SignalVar: 0.00012, Lengthscale: 9.779, Epsilon: 1.042\n",
      "Iter: 127, Loss: -127451.508, NoiseVar: 0.008, SignalVar: 0.00012, Lengthscale: 9.782, Epsilon: 1.041\n",
      "Iter: 128, Loss: -127470.445, NoiseVar: 0.008, SignalVar: 0.00012, Lengthscale: 9.786, Epsilon: 1.040\n",
      "Iter: 129, Loss: -127472.203, NoiseVar: 0.008, SignalVar: 0.00012, Lengthscale: 9.789, Epsilon: 1.039\n",
      "Iter: 130, Loss: -127778.531, NoiseVar: 0.008, SignalVar: 0.00012, Lengthscale: 9.793, Epsilon: 1.038\n",
      "Iter: 131, Loss: -127952.883, NoiseVar: 0.008, SignalVar: 0.00012, Lengthscale: 9.796, Epsilon: 1.037\n",
      "Iter: 132, Loss: -127791.672, NoiseVar: 0.008, SignalVar: 0.00012, Lengthscale: 9.800, Epsilon: 1.037\n",
      "Iter: 133, Loss: -127749.031, NoiseVar: 0.008, SignalVar: 0.00012, Lengthscale: 9.803, Epsilon: 1.036\n",
      "Iter: 134, Loss: -128094.617, NoiseVar: 0.008, SignalVar: 0.00012, Lengthscale: 9.807, Epsilon: 1.035\n",
      "Iter: 135, Loss: -127947.336, NoiseVar: 0.008, SignalVar: 0.00012, Lengthscale: 9.810, Epsilon: 1.034\n",
      "Iter: 136, Loss: -128378.422, NoiseVar: 0.008, SignalVar: 0.00012, Lengthscale: 9.814, Epsilon: 1.033\n",
      "Iter: 137, Loss: -128224.023, NoiseVar: 0.008, SignalVar: 0.00012, Lengthscale: 9.817, Epsilon: 1.033\n",
      "Iter: 138, Loss: -128220.070, NoiseVar: 0.008, SignalVar: 0.00012, Lengthscale: 9.821, Epsilon: 1.032\n",
      "Iter: 139, Loss: -128417.625, NoiseVar: 0.008, SignalVar: 0.00012, Lengthscale: 9.824, Epsilon: 1.031\n",
      "Iter: 140, Loss: -128567.953, NoiseVar: 0.008, SignalVar: 0.00012, Lengthscale: 9.828, Epsilon: 1.031\n",
      "Iter: 141, Loss: -128533.969, NoiseVar: 0.008, SignalVar: 0.00012, Lengthscale: 9.831, Epsilon: 1.030\n",
      "Iter: 142, Loss: -128839.492, NoiseVar: 0.008, SignalVar: 0.00012, Lengthscale: 9.835, Epsilon: 1.029\n",
      "Iter: 143, Loss: -128950.664, NoiseVar: 0.008, SignalVar: 0.00013, Lengthscale: 9.838, Epsilon: 1.029\n",
      "Iter: 144, Loss: -128948.266, NoiseVar: 0.007, SignalVar: 0.00013, Lengthscale: 9.842, Epsilon: 1.028\n",
      "Iter: 145, Loss: -128899.516, NoiseVar: 0.007, SignalVar: 0.00013, Lengthscale: 9.845, Epsilon: 1.027\n",
      "Iter: 146, Loss: -128763.664, NoiseVar: 0.007, SignalVar: 0.00013, Lengthscale: 9.849, Epsilon: 1.027\n",
      "Iter: 147, Loss: -128990.945, NoiseVar: 0.007, SignalVar: 0.00013, Lengthscale: 9.852, Epsilon: 1.026\n",
      "Iter: 148, Loss: -129280.125, NoiseVar: 0.007, SignalVar: 0.00013, Lengthscale: 9.855, Epsilon: 1.025\n",
      "Iter: 149, Loss: -129155.125, NoiseVar: 0.007, SignalVar: 0.00013, Lengthscale: 9.858, Epsilon: 1.025\n",
      "Iter: 150, Loss: -129156.117, NoiseVar: 0.007, SignalVar: 0.00013, Lengthscale: 9.862, Epsilon: 1.024\n",
      "Iter: 151, Loss: -129226.055, NoiseVar: 0.007, SignalVar: 0.00013, Lengthscale: 9.865, Epsilon: 1.023\n",
      "Iter: 152, Loss: -129386.562, NoiseVar: 0.007, SignalVar: 0.00013, Lengthscale: 9.868, Epsilon: 1.023\n",
      "Iter: 153, Loss: -129525.500, NoiseVar: 0.007, SignalVar: 0.00013, Lengthscale: 9.871, Epsilon: 1.022\n",
      "Iter: 154, Loss: -129580.992, NoiseVar: 0.007, SignalVar: 0.00013, Lengthscale: 9.875, Epsilon: 1.021\n",
      "Iter: 155, Loss: -129984.508, NoiseVar: 0.007, SignalVar: 0.00013, Lengthscale: 9.878, Epsilon: 1.020\n",
      "Iter: 156, Loss: -129603.203, NoiseVar: 0.007, SignalVar: 0.00013, Lengthscale: 9.881, Epsilon: 1.020\n",
      "Iter: 157, Loss: -129807.102, NoiseVar: 0.007, SignalVar: 0.00013, Lengthscale: 9.884, Epsilon: 1.019\n",
      "Iter: 158, Loss: -129728.023, NoiseVar: 0.007, SignalVar: 0.00013, Lengthscale: 9.887, Epsilon: 1.018\n",
      "Iter: 159, Loss: -129716.188, NoiseVar: 0.007, SignalVar: 0.00013, Lengthscale: 9.890, Epsilon: 1.018\n",
      "Iter: 160, Loss: -130020.328, NoiseVar: 0.007, SignalVar: 0.00013, Lengthscale: 9.893, Epsilon: 1.017\n",
      "Iter: 161, Loss: -130015.320, NoiseVar: 0.007, SignalVar: 0.00013, Lengthscale: 9.896, Epsilon: 1.016\n",
      "Iter: 162, Loss: -129998.727, NoiseVar: 0.007, SignalVar: 0.00013, Lengthscale: 9.899, Epsilon: 1.016\n",
      "Iter: 163, Loss: -130211.750, NoiseVar: 0.007, SignalVar: 0.00013, Lengthscale: 9.902, Epsilon: 1.015\n",
      "Iter: 164, Loss: -130271.359, NoiseVar: 0.007, SignalVar: 0.00014, Lengthscale: 9.905, Epsilon: 1.014\n",
      "Iter: 165, Loss: -130139.328, NoiseVar: 0.007, SignalVar: 0.00014, Lengthscale: 9.908, Epsilon: 1.014\n",
      "Iter: 166, Loss: -130217.867, NoiseVar: 0.007, SignalVar: 0.00014, Lengthscale: 9.911, Epsilon: 1.013\n",
      "Iter: 167, Loss: -130306.148, NoiseVar: 0.007, SignalVar: 0.00014, Lengthscale: 9.915, Epsilon: 1.012\n",
      "Iter: 168, Loss: -130448.750, NoiseVar: 0.007, SignalVar: 0.00014, Lengthscale: 9.917, Epsilon: 1.012\n",
      "Iter: 169, Loss: -130502.594, NoiseVar: 0.007, SignalVar: 0.00014, Lengthscale: 9.920, Epsilon: 1.011\n",
      "Iter: 170, Loss: -130658.836, NoiseVar: 0.007, SignalVar: 0.00014, Lengthscale: 9.923, Epsilon: 1.011\n",
      "Iter: 171, Loss: -130652.758, NoiseVar: 0.007, SignalVar: 0.00014, Lengthscale: 9.926, Epsilon: 1.010\n",
      "Iter: 172, Loss: -130736.531, NoiseVar: 0.007, SignalVar: 0.00014, Lengthscale: 9.929, Epsilon: 1.009\n",
      "Iter: 173, Loss: -130695.781, NoiseVar: 0.007, SignalVar: 0.00014, Lengthscale: 9.932, Epsilon: 1.009\n",
      "Iter: 174, Loss: -131019.727, NoiseVar: 0.007, SignalVar: 0.00014, Lengthscale: 9.935, Epsilon: 1.008\n",
      "Iter: 175, Loss: -130775.508, NoiseVar: 0.007, SignalVar: 0.00014, Lengthscale: 9.938, Epsilon: 1.007\n",
      "Iter: 176, Loss: -130801.055, NoiseVar: 0.007, SignalVar: 0.00014, Lengthscale: 9.941, Epsilon: 1.007\n",
      "Iter: 177, Loss: -130992.172, NoiseVar: 0.007, SignalVar: 0.00014, Lengthscale: 9.943, Epsilon: 1.006\n",
      "Iter: 178, Loss: -131074.438, NoiseVar: 0.007, SignalVar: 0.00014, Lengthscale: 9.946, Epsilon: 1.006\n",
      "Iter: 179, Loss: -131129.625, NoiseVar: 0.007, SignalVar: 0.00014, Lengthscale: 9.949, Epsilon: 1.005\n",
      "Iter: 180, Loss: -131127.688, NoiseVar: 0.007, SignalVar: 0.00014, Lengthscale: 9.952, Epsilon: 1.004\n",
      "Iter: 181, Loss: -131070.531, NoiseVar: 0.007, SignalVar: 0.00014, Lengthscale: 9.954, Epsilon: 1.004\n",
      "Iter: 182, Loss: -131043.844, NoiseVar: 0.007, SignalVar: 0.00014, Lengthscale: 9.957, Epsilon: 1.003\n",
      "Iter: 183, Loss: -131251.000, NoiseVar: 0.007, SignalVar: 0.00014, Lengthscale: 9.960, Epsilon: 1.003\n",
      "Iter: 184, Loss: -131259.672, NoiseVar: 0.007, SignalVar: 0.00014, Lengthscale: 9.963, Epsilon: 1.002\n",
      "Iter: 185, Loss: -131446.734, NoiseVar: 0.006, SignalVar: 0.00015, Lengthscale: 9.965, Epsilon: 1.001\n",
      "Iter: 186, Loss: -131543.172, NoiseVar: 0.006, SignalVar: 0.00015, Lengthscale: 9.968, Epsilon: 1.001\n",
      "Iter: 187, Loss: -131590.469, NoiseVar: 0.006, SignalVar: 0.00015, Lengthscale: 9.971, Epsilon: 1.000\n",
      "Iter: 188, Loss: -131427.938, NoiseVar: 0.006, SignalVar: 0.00015, Lengthscale: 9.973, Epsilon: 1.000\n",
      "Iter: 189, Loss: -131409.828, NoiseVar: 0.006, SignalVar: 0.00015, Lengthscale: 9.976, Epsilon: 0.999\n",
      "Iter: 190, Loss: -131624.297, NoiseVar: 0.006, SignalVar: 0.00015, Lengthscale: 9.978, Epsilon: 0.999\n",
      "Iter: 191, Loss: -131554.672, NoiseVar: 0.006, SignalVar: 0.00015, Lengthscale: 9.981, Epsilon: 0.998\n",
      "Iter: 192, Loss: -131924.766, NoiseVar: 0.006, SignalVar: 0.00015, Lengthscale: 9.984, Epsilon: 0.997\n",
      "Iter: 193, Loss: -131706.172, NoiseVar: 0.006, SignalVar: 0.00015, Lengthscale: 9.986, Epsilon: 0.997\n",
      "Iter: 194, Loss: -131812.281, NoiseVar: 0.006, SignalVar: 0.00015, Lengthscale: 9.989, Epsilon: 0.996\n",
      "Iter: 195, Loss: -131978.203, NoiseVar: 0.006, SignalVar: 0.00015, Lengthscale: 9.991, Epsilon: 0.996\n",
      "Iter: 196, Loss: -132048.125, NoiseVar: 0.006, SignalVar: 0.00015, Lengthscale: 9.994, Epsilon: 0.995\n",
      "Iter: 197, Loss: -132096.469, NoiseVar: 0.006, SignalVar: 0.00015, Lengthscale: 9.996, Epsilon: 0.995\n",
      "Iter: 198, Loss: -131909.922, NoiseVar: 0.006, SignalVar: 0.00015, Lengthscale: 9.999, Epsilon: 0.994\n",
      "Iter: 199, Loss: -131913.000, NoiseVar: 0.006, SignalVar: 0.00015, Lengthscale: 10.001, Epsilon: 0.994\n",
      "Time: 1.5e+02 sec\n"
     ]
    }
   ],
   "source": [
    "t0 = time()\n",
    "model.manifold_informed_train(lr=1e-2, iter=200, \n",
    "                              decay_step_size=1000, decay_magnitude=1.0, \n",
    "                              norm_step_size=10, norm_rand_vec=100, \n",
    "                              verbose=True, save=False)\n",
    "t1 = time()\n",
    "print(\"Time: %.2g sec\" % (t1 - t0))\n",
    "torch.cuda.empty_cache()"
   ]
  },
  {
   "cell_type": "raw",
   "id": "ac888583-d947-49ca-a448-c7375fe6df43",
   "metadata": {
    "scrolled": true
   },
   "source": [
    "kernel.outputscale"
   ]
  },
  {
   "cell_type": "code",
   "execution_count": 9,
   "id": "14f43d3b-b1d9-4da6-be2d-7b681618b692",
   "metadata": {},
   "outputs": [
    {
     "data": {
      "text/plain": [
       "36112"
      ]
     },
     "execution_count": 9,
     "metadata": {},
     "output_type": "execute_result"
    }
   ],
   "source": [
    "train_x.shape[0]"
   ]
  },
  {
   "cell_type": "markdown",
   "id": "0ab36075",
   "metadata": {},
   "source": [
    "## Evaluation"
   ]
  },
  {
   "cell_type": "code",
   "execution_count": 18,
   "id": "d2ba4784-3145-4ca3-a365-f1f802e53371",
   "metadata": {},
   "outputs": [],
   "source": [
    "kernel.base_kernel.method = 'lanczos'\n",
    "kernel.base_kernel.modes = 2000"
   ]
  },
  {
   "cell_type": "code",
   "execution_count": 19,
   "id": "998d4b89",
   "metadata": {},
   "outputs": [],
   "source": [
    "%%capture\n",
    "likelihood.eval()\n",
    "model.eval()\n",
    "torch.cuda.empty_cache()"
   ]
  },
  {
   "cell_type": "markdown",
   "id": "53c57771",
   "metadata": {},
   "source": [
    "## Metrics"
   ]
  },
  {
   "cell_type": "code",
   "execution_count": 20,
   "id": "40ffbd87",
   "metadata": {},
   "outputs": [
    {
     "name": "stdout",
     "output_type": "stream",
     "text": [
      "RMSE:  tensor(0.2140, device='cuda:0')\n",
      "NLL:  tensor(0.2955, device='cuda:0')\n"
     ]
    }
   ],
   "source": [
    "with torch.no_grad(), gpytorch.settings.fast_pred_var(), gpytorch.settings.cg_tolerance(10000):\n",
    "    preds_test = likelihood(model(test_x))\n",
    "        \n",
    "    error = test_y - preds_test.mean\n",
    "    covar = preds_test.lazy_covariance_matrix.evaluate_kernel()\n",
    "    inv_quad, logdet = covar.inv_quad_logdet(inv_quad_rhs=error.unsqueeze(-1), logdet=True)\n",
    "    \n",
    "    rmse = (error.square().sum()/test_y.shape[0]).sqrt()\n",
    "    nll = 0.5 * sum([inv_quad, logdet, error.size(-1)* np.log(2 * np.pi)])/test_y.shape[0]\n",
    "    model._clear_cache()\n",
    "    \n",
    "print(\"RMSE: \", rmse)\n",
    "print(\"NLL: \", nll)\n",
    "torch.cuda.empty_cache()"
   ]
  },
  {
   "cell_type": "raw",
   "id": "43c30a66-b935-4142-8bed-c6045b8b5fcb",
   "metadata": {},
   "source": [
    "with torch.no_grad(), gpytorch.settings.fast_pred_var(), gpytorch.settings.cg_tolerance(10000):\n",
    "    preds_train = likelihood(model(train_x))\n",
    "        \n",
    "    error = train_y - preds_train.mean\n",
    "    covar = preds_train.lazy_covariance_matrix.evaluate_kernel()\n",
    "    inv_quad, logdet = covar.inv_quad_logdet(inv_quad_rhs=error.unsqueeze(-1), logdet=True)\n",
    "    \n",
    "    rmse = (error.square().sum()/train_y.shape[0]).sqrt()\n",
    "    nll = 0.5 * sum([inv_quad, logdet, error.size(-1)* np.log(2 * np.pi)])/train_y.shape[0]\n",
    "    model._clear_cache()\n",
    "    \n",
    "print(\"RMSE: \", rmse)\n",
    "print(\"NLL: \", nll)\n",
    "torch.cuda.empty_cache()"
   ]
  },
  {
   "cell_type": "raw",
   "id": "69de3620-588a-4f19-9860-24a52f3cf5ac",
   "metadata": {
    "scrolled": true
   },
   "source": [
    "with torch.no_grad(), gpytorch.settings.fast_pred_var(), gpytorch.settings.cg_tolerance(10000):\n",
    "    mll = gpytorch.mlls.ExactMarginalLogLikelihood(likelihood, model)\n",
    "    output = model(train_x)\n",
    "    tmp = -mll(output, train_y)\n",
    "tmp"
   ]
  },
  {
   "cell_type": "raw",
   "id": "a686269f-39c9-49fe-885b-6ec2a5daa245",
   "metadata": {},
   "source": [
    "kernel.outputscale = model.tmp_outputscale2\n",
    "cov = kernel(train_x, train_x).evaluate() + torch.eye(train_x.shape[0]).to(device)*likelihood.noise\n",
    "0.5 * sum([torch.dot(train_y, torch.linalg.solve(cov, train_y).squeeze()), torch.logdet(cov), train_y.size(-1) * np.log(2 * np.pi)])"
   ]
  },
  {
   "cell_type": "raw",
   "id": "42e8b3b2-51b5-44ea-befe-9a74152de88e",
   "metadata": {},
   "source": [
    "kernel.outputscale = model.tmp_outputscale1\n",
    "opt = model.noise_precision()\n",
    "y = train_y.unsqueeze(-1)\n",
    "0.5 * sum([torch.dot(y.squeeze(), opt.matmul(y).squeeze()), -opt.inv_quad_logdet(logdet=True)[1], train_y.size(-1) * np.log(2 * np.pi)])"
   ]
  },
  {
   "cell_type": "raw",
   "id": "60859b93-74d5-4c85-a4ae-331f4bd8d509",
   "metadata": {},
   "source": [
    "kernel.outputscale = model.tmp_outputscale2\n",
    "cov = (kernel(train_x, train_x).evaluate() + torch.eye(train_x.shape[0]).to(device)*likelihood.noise).detach().cpu()\n",
    "fig = plt.figure(figsize=(10,10))\n",
    "plt.imshow(cov, vmin=0, vmax=0.1)\n",
    "plt.colorbar()"
   ]
  },
  {
   "cell_type": "raw",
   "id": "a6c499ba-bf2d-4621-b3f8-7852258f3408",
   "metadata": {},
   "source": [
    "# opt = torch.linalg.inv(kernel.base_kernel.precision().to(device).evaluate().detach().cpu())\n",
    "kernel.outputscale = model.tmp_outputscale1\n",
    "opt =  torch.linalg.inv(model.noise_precision().evaluate().detach().cpu())\n",
    "\n",
    "fig = plt.figure(figsize=(10,10))\n",
    "plt.imshow(opt, vmin=0, vmax=0.1)\n",
    "plt.colorbar()"
   ]
  },
  {
   "cell_type": "code",
   "execution_count": null,
   "id": "f37bd795-487c-4abe-979a-071bd24d85e0",
   "metadata": {},
   "outputs": [],
   "source": []
  }
 ],
 "metadata": {
  "kernelspec": {
   "display_name": "Python 3 (ipykernel)",
   "language": "python",
   "name": "python3"
  },
  "language_info": {
   "codemirror_mode": {
    "name": "ipython",
    "version": 3
   },
   "file_extension": ".py",
   "mimetype": "text/x-python",
   "name": "python",
   "nbconvert_exporter": "python",
   "pygments_lexer": "ipython3",
   "version": "3.10.12"
  },
  "vscode": {
   "interpreter": {
    "hash": "916dbcbb3f70747c44a77c7bcd40155683ae19c65e1c03b4aa3499c5328201f1"
   }
  }
 },
 "nbformat": 4,
 "nbformat_minor": 5
}
