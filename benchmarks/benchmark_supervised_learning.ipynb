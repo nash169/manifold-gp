{
 "cells": [
  {
   "cell_type": "markdown",
   "id": "5e276dbe",
   "metadata": {},
   "source": [
    "# Manifold GP Supervised Learning via Precision Matrix on 1D Manifold"
   ]
  },
  {
   "cell_type": "markdown",
   "id": "a36444a5",
   "metadata": {},
   "source": [
    "## Preamble"
   ]
  },
  {
   "cell_type": "markdown",
   "id": "01d17d1f",
   "metadata": {},
   "source": [
    "This notebook provides an example of how to perform Gaussian Process Regression on a 1D manifold. In this example we consider a supervised learning scenario, namely the number of labeled data points is equivalent to the number of the sampled points from the underlying manifold."
   ]
  },
  {
   "cell_type": "code",
   "execution_count": 1,
   "id": "58e9afd1",
   "metadata": {},
   "outputs": [],
   "source": [
    "import torch\n",
    "import gpytorch\n",
    "import numpy as np\n",
    "import os\n",
    "import scipy.spatial as ss\n",
    "\n",
    "from manifold_gp.kernels.riemann_matern_kernel import RiemannMaternKernel\n",
    "from manifold_gp.models.riemann_gp import RiemannGP\n",
    "from gpytorch.priors import NormalPrior, GammaPrior"
   ]
  },
  {
   "cell_type": "markdown",
   "id": "75701656",
   "metadata": {},
   "source": [
    "## Dataset Preprocessing"
   ]
  },
  {
   "cell_type": "markdown",
   "id": "02483bf0",
   "metadata": {},
   "source": [
    "### Load & Settings"
   ]
  },
  {
   "cell_type": "code",
   "execution_count": 3,
   "id": "af216c23",
   "metadata": {},
   "outputs": [],
   "source": [
    "dataset = 'mnist' # ['protein','elevators', 'ctslice', 'mnist']\n",
    "cut = 10000\n",
    "\n",
    "if dataset == 'protein':\n",
    "    data = np.loadtxt('datasets/protein.csv', delimiter=\",\")[:cut]\n",
    "    sampled_x, sampled_y = data[:, 1:], data[:, 0]\n",
    "elif dataset == 'elevators':\n",
    "    data = np.array(loadmat('datasets/elevators.mat')['data'])\n",
    "    sampled_x, sampled_y = data[:, :-1], data[:, -1]\n",
    "elif dataset == 'ctslice':\n",
    "    data = np.loadtxt('datasets/ctslice.csv', delimiter=\",\")[:cut]\n",
    "    sampled_x, sampled_y = data[:, :-1], data[:, -1]\n",
    "elif dataset == 'mnist':\n",
    "    data = np.loadtxt('datasets/mnist.csv')\n",
    "    sampled_x, sampled_y = data[:, 2:], data[:, 1]\n",
    "    torch.manual_seed(1337)\n",
    "    rand_idx = torch.randperm(sampled_x.shape[0])\n",
    "    sampled_x = sampled_x[rand_idx]\n",
    "    sampled_y = sampled_y[rand_idx]\n",
    "    \n",
    "preprocess = False\n",
    "normalize_features = False\n",
    "normalize_labels = True"
   ]
  },
  {
   "cell_type": "code",
   "execution_count": 4,
   "id": "a54caa26",
   "metadata": {},
   "outputs": [],
   "source": [
    "if preprocess:\n",
    "    # remove coincident points\n",
    "    sampled_x, id_unique = np.unique(sampled_x, axis=0, return_index=True)\n",
    "    sampled_y = sampled_y[id_unique]\n",
    "\n",
    "    # cut between 0.01 and 0.99 quantile of distances\n",
    "    kd_tree = ss.KDTree(sampled_x)\n",
    "    v = kd_tree.query(sampled_x, k=2)[0][:, 1]\n",
    "    idx = np.argsort(v)\n",
    "    percentile_start = int(np.round(idx.shape[0]*0.10))\n",
    "    percentile_end = int(np.round(idx.shape[0]*0.90))\n",
    "    sampled_x = sampled_x[idx[percentile_start:percentile_end], :]\n",
    "    sampled_y = sampled_y[idx[percentile_start:percentile_end]]\n",
    "m = sampled_x.shape[0]"
   ]
  },
  {
   "cell_type": "markdown",
   "id": "972edfe4",
   "metadata": {},
   "source": [
    "### Trainset & Testset"
   ]
  },
  {
   "cell_type": "code",
   "execution_count": 6,
   "id": "cc4d77e2",
   "metadata": {},
   "outputs": [],
   "source": [
    "split = int(0.8 * m)\n",
    "\n",
    "train_x, train_y = sampled_x[:split], sampled_y[:split]\n",
    "test_x, test_y = sampled_x[split:], sampled_y[split:]\n",
    "\n",
    "train_x = torch.from_numpy(train_x).float()\n",
    "train_y = torch.from_numpy(train_y).float()\n",
    "test_x = torch.from_numpy(test_x).float()\n",
    "test_y = torch.from_numpy(test_y).float()\n",
    "\n",
    "if normalize_features:\n",
    "    mu_x, std_x = train_x.mean(dim=-2, keepdim=True), train_x.std(dim=-2, keepdim=True) + 1e-6\n",
    "    train_x.sub_(mu_x).div_(std_x)\n",
    "    test_x.sub_(mu_x).div_(std_x)\n",
    "    \n",
    "if normalize_labels:\n",
    "    mu_y, std_y = train_y.mean(), train_y.std()\n",
    "    train_y.sub_(mu_y).div_(std_y)\n",
    "    test_y.sub_(mu_y).div_(std_y)"
   ]
  },
  {
   "cell_type": "markdown",
   "id": "e0ec761d",
   "metadata": {},
   "source": [
    "### Hyperparameters Priors"
   ]
  },
  {
   "cell_type": "code",
   "execution_count": 7,
   "id": "18015f9f",
   "metadata": {},
   "outputs": [],
   "source": [
    "import scipy.spatial as ss\n",
    "neighbors = 10\n",
    "kd_tree = ss.KDTree(train_x)\n",
    "v = np.sort(kd_tree.query(train_x, k=neighbors+1)[0][:, 1:].ravel())\n",
    "percentile_99 = int(np.round(v.shape[0]*0.99))\n",
    "gamma_rate = 100.0/np.std(v)\n",
    "gamma_concentration = gamma_rate * v[percentile_99] + 1"
   ]
  },
  {
   "cell_type": "markdown",
   "id": "b87581de",
   "metadata": {},
   "source": [
    "### Move Data to Device"
   ]
  },
  {
   "cell_type": "code",
   "execution_count": 8,
   "id": "d1c91b4b",
   "metadata": {},
   "outputs": [],
   "source": [
    "train_x, train_y = train_x.contiguous(), train_y.contiguous()\n",
    "test_x, test_y = test_x.contiguous(), test_y.contiguous()\n",
    "\n",
    "use_cuda = torch.cuda.is_available()\n",
    "device = torch.device(\"cuda\" if use_cuda else \"cpu\")\n",
    "train_x, train_y = train_x.to(device), train_y.to(device)\n",
    "test_x, test_y = test_x.to(device), test_y.to(device)"
   ]
  },
  {
   "cell_type": "markdown",
   "id": "405d4275",
   "metadata": {},
   "source": [
    "## Model"
   ]
  },
  {
   "cell_type": "code",
   "execution_count": 9,
   "id": "83460075",
   "metadata": {},
   "outputs": [],
   "source": [
    "%%capture\n",
    "likelihood = gpytorch.likelihoods.GaussianLikelihood(\n",
    "    noise_constraint=gpytorch.constraints.GreaterThan(1e-8),\n",
    "    noise_prior=None  # NormalPrior(torch.tensor([0.0]).to(device),  torch.tensor([1/9]).sqrt().to(device))\n",
    ")\n",
    "\n",
    "kernel = gpytorch.kernels.ScaleKernel(\n",
    "    RiemannMaternKernel(\n",
    "        nu=3,\n",
    "        nodes=train_x,\n",
    "        neighbors=50,\n",
    "        operator=\"randomwalk\",\n",
    "        modes=50,\n",
    "        ball_scale=10.0,\n",
    "        support_kernel=gpytorch.kernels.RBFKernel(),\n",
    "        epsilon_prior=GammaPrior(gamma_concentration, gamma_rate),\n",
    "        lengthscale_prior=None  # InverseGammaPrior(igamma_concentration, igamma_rate)\n",
    "    ),\n",
    "    outputscale_prior=None  # NormalPrior(torch.tensor([1.0]).to(device),  torch.tensor([1/9]).sqrt().to(device))\n",
    ")\n",
    "\n",
    "model = RiemannGP(train_x, train_y, likelihood, kernel).to(device)"
   ]
  },
  {
   "cell_type": "markdown",
   "id": "8b14763b",
   "metadata": {},
   "source": [
    "## Train"
   ]
  },
  {
   "cell_type": "code",
   "execution_count": 10,
   "id": "357e1dd2",
   "metadata": {},
   "outputs": [],
   "source": [
    "%%capture\n",
    "hypers = {\n",
    "    'likelihood.noise_covar.noise': 1e-2,\n",
    "    'covar_module.base_kernel.epsilon': 0.5,\n",
    "    'covar_module.base_kernel.lengthscale': 0.5,\n",
    "    'covar_module.outputscale': 1.0,\n",
    "    'covar_module.base_kernel.support_kernel.lengthscale': 1.0,\n",
    "}\n",
    "model.initialize(**hypers)"
   ]
  },
  {
   "cell_type": "code",
   "execution_count": 11,
   "id": "7bb0ab30",
   "metadata": {
    "scrolled": true
   },
   "outputs": [
    {
     "name": "stdout",
     "output_type": "stream",
     "text": [
      "Iter: 0, LR: 0.010, Loss: 2501.970, NoiseVar: 0.010, SignalVar: 506842.188, Lengthscale: 0.500, Epsilon: 0.500\n",
      "Iter: 1, LR: 0.010, Loss: 2439.690, NoiseVar: 0.010, SignalVar: 506842.188, Lengthscale: 0.496, Epsilon: 0.496\n",
      "Iter: 2, LR: 0.010, Loss: 2389.441, NoiseVar: 0.010, SignalVar: 506842.188, Lengthscale: 0.492, Epsilon: 0.492\n",
      "Iter: 3, LR: 0.010, Loss: 2338.242, NoiseVar: 0.010, SignalVar: 506842.188, Lengthscale: 0.488, Epsilon: 0.488\n",
      "Iter: 4, LR: 0.010, Loss: 2293.561, NoiseVar: 0.010, SignalVar: 506842.188, Lengthscale: 0.485, Epsilon: 0.484\n",
      "Iter: 5, LR: 0.010, Loss: 2266.613, NoiseVar: 0.010, SignalVar: 506842.188, Lengthscale: 0.481, Epsilon: 0.481\n",
      "Iter: 6, LR: 0.010, Loss: 2230.304, NoiseVar: 0.009, SignalVar: 506842.188, Lengthscale: 0.478, Epsilon: 0.477\n",
      "Iter: 7, LR: 0.010, Loss: 2206.212, NoiseVar: 0.009, SignalVar: 506842.188, Lengthscale: 0.474, Epsilon: 0.473\n",
      "Iter: 8, LR: 0.010, Loss: 2184.347, NoiseVar: 0.009, SignalVar: 506842.188, Lengthscale: 0.471, Epsilon: 0.469\n",
      "Iter: 9, LR: 0.010, Loss: 2162.402, NoiseVar: 0.009, SignalVar: 506842.188, Lengthscale: 0.469, Epsilon: 0.465\n"
     ]
    }
   ],
   "source": [
    "model.manifold_informed_train(lr=1e-2, iter=10, norm_step_size=1000, num_rand_vec=500, verbose=True)"
   ]
  },
  {
   "cell_type": "markdown",
   "id": "0ab36075",
   "metadata": {},
   "source": [
    "## Evaluation"
   ]
  },
  {
   "cell_type": "raw",
   "id": "76df24d4",
   "metadata": {},
   "source": [
    "kernel.base_kernel.modes = 1000"
   ]
  },
  {
   "cell_type": "code",
   "execution_count": null,
   "id": "998d4b89",
   "metadata": {},
   "outputs": [],
   "source": [
    "%%capture\n",
    "likelihood.eval()\n",
    "model.eval()"
   ]
  },
  {
   "cell_type": "code",
   "execution_count": null,
   "id": "5d9cf419",
   "metadata": {
    "scrolled": true
   },
   "outputs": [],
   "source": [
    "model.covar_module.outputscale"
   ]
  },
  {
   "cell_type": "markdown",
   "id": "53c57771",
   "metadata": {},
   "source": [
    "## Metrics"
   ]
  },
  {
   "cell_type": "code",
   "execution_count": null,
   "id": "40ffbd87",
   "metadata": {},
   "outputs": [],
   "source": [
    "with torch.no_grad(), gpytorch.settings.fast_pred_var(), gpytorch.settings.cg_tolerance(10000):\n",
    "    preds_test = likelihood(model(test_x))\n",
    "        \n",
    "    error = test_y - preds_test.mean\n",
    "    covar = preds_test.lazy_covariance_matrix.evaluate_kernel()\n",
    "    inv_quad, logdet = covar.inv_quad_logdet(inv_quad_rhs=error.unsqueeze(-1), logdet=True)\n",
    "    \n",
    "    rmse = (error.square().sum()/test_y.shape[0]).sqrt()\n",
    "    nll = 0.5 * sum([inv_quad, logdet, error.size(-1)* np.log(2 * np.pi)])/test_y.shape[0]\n",
    "    model._clear_cache()\n",
    "    \n",
    "print(\"RMSE: \", rmse)\n",
    "print(\"NLL: \", nll)"
   ]
  },
  {
   "cell_type": "code",
   "execution_count": null,
   "id": "f09b1b25",
   "metadata": {},
   "outputs": [],
   "source": []
  }
 ],
 "metadata": {
  "kernelspec": {
   "display_name": "Python 3 (ipykernel)",
   "language": "python",
   "name": "python3"
  },
  "language_info": {
   "codemirror_mode": {
    "name": "ipython",
    "version": 3
   },
   "file_extension": ".py",
   "mimetype": "text/x-python",
   "name": "python",
   "nbconvert_exporter": "python",
   "pygments_lexer": "ipython3",
   "version": "3.10.6"
  },
  "vscode": {
   "interpreter": {
    "hash": "916dbcbb3f70747c44a77c7bcd40155683ae19c65e1c03b4aa3499c5328201f1"
   }
  }
 },
 "nbformat": 4,
 "nbformat_minor": 5
}
