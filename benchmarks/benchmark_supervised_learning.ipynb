{
 "cells": [
  {
   "cell_type": "markdown",
   "id": "5e276dbe",
   "metadata": {},
   "source": [
    "# Benchmark Manifold GP Supervised Learning"
   ]
  },
  {
   "cell_type": "markdown",
   "id": "a36444a5",
   "metadata": {},
   "source": [
    "## Preamble"
   ]
  },
  {
   "cell_type": "markdown",
   "id": "01d17d1f",
   "metadata": {},
   "source": [
    "This notebook provides an example of how to perform Gaussian Process Regression on a 1D manifold. In this example we consider a supervised learning scenario, namely the number of labeled data points is equivalent to the number of the sampled points from the underlying manifold."
   ]
  },
  {
   "cell_type": "code",
   "execution_count": 1,
   "id": "58e9afd1",
   "metadata": {},
   "outputs": [],
   "source": [
    "import torch\n",
    "import gpytorch\n",
    "import numpy as np\n",
    "%matplotlib widget\n",
    "import matplotlib.pyplot as plt\n",
    "from time import time\n",
    "from manifold_gp.kernels.riemann_matern_kernel import RiemannMaternKernel\n",
    "from manifold_gp.models.riemann_gp import RiemannGP\n",
    "from manifold_gp.models.vanilla_gp import VanillaGP\n",
    "from gpytorch.priors import NormalPrior, GammaPrior"
   ]
  },
  {
   "cell_type": "markdown",
   "id": "75701656",
   "metadata": {},
   "source": [
    "## Dataset Preprocessing"
   ]
  },
  {
   "cell_type": "markdown",
   "id": "02483bf0",
   "metadata": {},
   "source": [
    "### Load & Settings"
   ]
  },
  {
   "cell_type": "code",
   "execution_count": 2,
   "id": "af216c23",
   "metadata": {},
   "outputs": [],
   "source": [
    "# bike, buzz_tomshardware, buzz_twitter, ctslices, elevators, protein, song, mnist, mnist_single\n",
    "dataset = 'ctslices'\n",
    "samples_split = 0.75\n",
    "preprocess = True\n",
    "normalize_features = False\n",
    "normalize_labels = True\n",
    "# torch.manual_seed(1337)\n",
    "sample_dist = False\n",
    "train_dist = False\n",
    "\n",
    "data = np.load('../datasets/'+dataset+'.npy')\n",
    "data = data[np.random.permutation(data.shape[0])]\n",
    "num_samples = int(samples_split * len(data))\n",
    "sampled_x, sampled_y = data[:num_samples, :-1], data[:num_samples, -1]\n",
    "test_x, test_y = data[num_samples:, :-1], data[num_samples:,-1]\n",
    "\n",
    "# x = x - x.min(0)[0]\n",
    "# x = 2 * (x/ x.max(0)[0]) - 1\n",
    "# mu, std = x.mean(axis=0), x.std(axis=0)\n",
    "# x = (x - mu)/(std+ 1e-6)"
   ]
  },
  {
   "cell_type": "code",
   "execution_count": 3,
   "id": "40735533-0db3-49fb-9cb5-786d5b48c1b8",
   "metadata": {
    "scrolled": true
   },
   "outputs": [],
   "source": [
    "if preprocess:\n",
    "    # remove coincident points\n",
    "    sampled_x, id_unique = np.unique(sampled_x, axis=0, return_index=True)\n",
    "    sampled_y = sampled_y[id_unique]\n",
    "\n",
    "    # # cut between x% and y% percentile of distances\n",
    "    # num_avg = 1\n",
    "    # p_start, p_end = 0.1, 0.9\n",
    "    # num_samples = sampled_x.shape[0]\n",
    "    # import faiss\n",
    "    # res = faiss.StandardGpuResources()\n",
    "    # knn = faiss.GpuIndexIVFFlat(res, sampled_x.shape[1], 1, faiss.METRIC_L2)\n",
    "    # knn.train(sampled_x)\n",
    "    # knn.add(sampled_x)\n",
    "    # v = np.sqrt(knn.search(sampled_x, num_avg+1)[0][:,1:])\n",
    "    # idx = np.argsort(v.mean(axis=1))\n",
    "    # idx = np.delete(idx, np.arange(int(num_samples*p_start),int(num_samples*p_end)))\n",
    "    # sampled_x = np.delete(sampled_x, idx, axis=0)\n",
    "    # sampled_y = np.delete(sampled_y, idx)\n",
    "    # del knn\n",
    "\n",
    "    # randomized dataset\n",
    "    idx = np.random.permutation(sampled_x.shape[0])\n",
    "    sampled_x = sampled_x[idx]\n",
    "    sampled_y = sampled_y[idx]\n",
    "m = sampled_x.shape[0]"
   ]
  },
  {
   "cell_type": "code",
   "execution_count": 4,
   "id": "990a372e-fe0e-4190-a5a3-1aa3c3e4e81f",
   "metadata": {
    "scrolled": true
   },
   "outputs": [],
   "source": [
    "if sample_dist:\n",
    "    import faiss\n",
    "    import matplotlib.pyplot as plt\n",
    "    res = faiss.StandardGpuResources()\n",
    "    knn = faiss.GpuIndexIVFFlat(res, sampled_x.shape[1], 1, faiss.METRIC_L2)\n",
    "    knn.train(sampled_x)\n",
    "    knn.add(sampled_x)\n",
    "    v, i = knn.search(sampled_x, 2)\n",
    "    v = np.sqrt(v[:,1:]).mean(axis=1)\n",
    "    \n",
    "    plt.hist(np.sort(v), density=False, bins=100)  # density=False would make counts\n",
    "    plt.ylabel('Probability')\n",
    "    plt.xlabel('Data')\n",
    "    del knn"
   ]
  },
  {
   "cell_type": "markdown",
   "id": "972edfe4",
   "metadata": {},
   "source": [
    "### Trainset & Testset"
   ]
  },
  {
   "cell_type": "code",
   "execution_count": 5,
   "id": "cc4d77e2",
   "metadata": {},
   "outputs": [],
   "source": [
    "train_split = int(0.05* m)\n",
    "train_x, train_y = sampled_x[:train_split], sampled_y[:train_split]\n",
    "\n",
    "train_x, train_y = torch.from_numpy(train_x).float(), torch.from_numpy(train_y).float()\n",
    "test_x, test_y = torch.from_numpy(test_x).float(), torch.from_numpy(test_y).float()\n",
    "\n",
    "if normalize_features:\n",
    "    mu_x, std_x = train_x.mean(dim=-2, keepdim=True), train_x.std(dim=-2, keepdim=True) + 1e-6\n",
    "    train_x.sub_(mu_x).div_(std_x)\n",
    "    test_x.sub_(mu_x).div_(std_x)\n",
    "    \n",
    "if normalize_labels:\n",
    "    mu_y, std_y = train_y.mean(), train_y.std()\n",
    "    train_y.sub_(mu_y).div_(std_y)\n",
    "    test_y.sub_(mu_y).div_(std_y)"
   ]
  },
  {
   "cell_type": "code",
   "execution_count": 6,
   "id": "5e5227e2-d3d2-4951-b8c1-3ba46362db42",
   "metadata": {
    "scrolled": true
   },
   "outputs": [],
   "source": [
    "if train_dist:\n",
    "    import faiss\n",
    "    import matplotlib.pyplot as plt\n",
    "    res = faiss.StandardGpuResources()\n",
    "    knn = faiss.GpuIndexIVFFlat(res, train_x.shape[1], 1, faiss.METRIC_L2)\n",
    "    knn.train(train_x)\n",
    "    knn.add(train_x)\n",
    "    v, i = knn.search(test_x, 2)\n",
    "    v = np.sqrt(v[:,1:]).mean(axis=1)\n",
    "    \n",
    "    plt.hist(np.sort(v), density=False, bins=100)  # density=False would make counts\n",
    "    plt.ylabel('Probability')\n",
    "    plt.xlabel('Data')\n",
    "    del knn"
   ]
  },
  {
   "cell_type": "markdown",
   "id": "b87581de",
   "metadata": {},
   "source": [
    "### Move Data to Device"
   ]
  },
  {
   "cell_type": "code",
   "execution_count": 7,
   "id": "d1c91b4b",
   "metadata": {},
   "outputs": [],
   "source": [
    "train_x, train_y = train_x.contiguous(), train_y.contiguous()\n",
    "test_x, test_y = test_x.contiguous(), test_y.contiguous()\n",
    "\n",
    "use_cuda = torch.cuda.is_available()\n",
    "device = torch.device(\"cuda\" if use_cuda else \"cpu\")\n",
    "\n",
    "train_x, train_y = train_x.to(device), train_y.to(device)\n",
    "test_x, test_y = test_x.to(device), test_y.to(device)"
   ]
  },
  {
   "cell_type": "markdown",
   "id": "57d9f4ae-3e24-408c-ab9e-de3d5460ff6a",
   "metadata": {},
   "source": [
    "## Vanilla Model"
   ]
  },
  {
   "cell_type": "code",
   "execution_count": 8,
   "id": "a39a39de-09ba-4970-aac5-e2bb6f76eab3",
   "metadata": {},
   "outputs": [],
   "source": [
    "%%capture\n",
    "model_vanilla = VanillaGP(\n",
    "    train_x, \n",
    "    train_y, \n",
    "    gpytorch.likelihoods.GaussianLikelihood(), \n",
    "    gpytorch.kernels.ScaleKernel(\n",
    "        # gpytorch.kernels.RBFKernel()\n",
    "        gpytorch.kernels.MaternKernel(nu=2.5)\n",
    "    ) # gpytorch.kernels.RBFKernel(), gpytorch.kernels.RFFKernel(100)\n",
    ").to(device)\n",
    "model_vanilla_name = dataset + '_vanilla'"
   ]
  },
  {
   "cell_type": "code",
   "execution_count": 9,
   "id": "cc263e44-0070-45b1-be71-18d49ab12d35",
   "metadata": {
    "scrolled": true
   },
   "outputs": [
    {
     "name": "stdout",
     "output_type": "stream",
     "text": [
      "Iteration: 0, Loss: 1.423, Noise Variance: 0.833, Signal Variance: 0.833, Lengthscale: 0.693\n",
      "Iteration: 1, Loss: 1.411, Noise Variance: 0.803, Signal Variance: 0.803, Lengthscale: 0.744\n",
      "Iteration: 2, Loss: 1.398, Noise Variance: 0.774, Signal Variance: 0.774, Lengthscale: 0.798\n",
      "Iteration: 3, Loss: 1.388, Noise Variance: 0.745, Signal Variance: 0.746, Lengthscale: 0.855\n",
      "Iteration: 4, Loss: 1.379, Noise Variance: 0.718, Signal Variance: 0.720, Lengthscale: 0.913\n",
      "Iteration: 5, Loss: 1.370, Noise Variance: 0.691, Signal Variance: 0.697, Lengthscale: 0.975\n",
      "Iteration: 6, Loss: 1.361, Noise Variance: 0.667, Signal Variance: 0.678, Lengthscale: 1.038\n",
      "Iteration: 7, Loss: 1.354, Noise Variance: 0.643, Signal Variance: 0.666, Lengthscale: 1.105\n",
      "Iteration: 8, Loss: 1.343, Noise Variance: 0.622, Signal Variance: 0.661, Lengthscale: 1.174\n",
      "Iteration: 9, Loss: 1.329, Noise Variance: 0.602, Signal Variance: 0.663, Lengthscale: 1.245\n",
      "Iteration: 10, Loss: 1.313, Noise Variance: 0.582, Signal Variance: 0.669, Lengthscale: 1.319\n",
      "Iteration: 11, Loss: 1.293, Noise Variance: 0.564, Signal Variance: 0.680, Lengthscale: 1.395\n",
      "Iteration: 12, Loss: 1.273, Noise Variance: 0.545, Signal Variance: 0.694, Lengthscale: 1.474\n",
      "Iteration: 13, Loss: 1.245, Noise Variance: 0.525, Signal Variance: 0.710, Lengthscale: 1.557\n",
      "Iteration: 14, Loss: 1.223, Noise Variance: 0.506, Signal Variance: 0.726, Lengthscale: 1.642\n",
      "Iteration: 15, Loss: 1.192, Noise Variance: 0.486, Signal Variance: 0.742, Lengthscale: 1.730\n",
      "Iteration: 16, Loss: 1.172, Noise Variance: 0.466, Signal Variance: 0.756, Lengthscale: 1.821\n",
      "Iteration: 17, Loss: 1.136, Noise Variance: 0.446, Signal Variance: 0.766, Lengthscale: 1.915\n",
      "Iteration: 18, Loss: 1.106, Noise Variance: 0.425, Signal Variance: 0.772, Lengthscale: 2.010\n",
      "Iteration: 19, Loss: 1.087, Noise Variance: 0.406, Signal Variance: 0.773, Lengthscale: 2.108\n",
      "Iteration: 20, Loss: 1.052, Noise Variance: 0.386, Signal Variance: 0.769, Lengthscale: 2.208\n",
      "Iteration: 21, Loss: 1.025, Noise Variance: 0.367, Signal Variance: 0.760, Lengthscale: 2.309\n",
      "Iteration: 22, Loss: 0.989, Noise Variance: 0.349, Signal Variance: 0.748, Lengthscale: 2.411\n",
      "Iteration: 23, Loss: 0.952, Noise Variance: 0.331, Signal Variance: 0.732, Lengthscale: 2.515\n",
      "Iteration: 24, Loss: 0.921, Noise Variance: 0.314, Signal Variance: 0.714, Lengthscale: 2.620\n",
      "Iteration: 25, Loss: 0.889, Noise Variance: 0.297, Signal Variance: 0.694, Lengthscale: 2.726\n",
      "Iteration: 26, Loss: 0.853, Noise Variance: 0.281, Signal Variance: 0.674, Lengthscale: 2.832\n",
      "Iteration: 27, Loss: 0.830, Noise Variance: 0.266, Signal Variance: 0.652, Lengthscale: 2.939\n",
      "Iteration: 28, Loss: 0.791, Noise Variance: 0.252, Signal Variance: 0.631, Lengthscale: 3.046\n",
      "Iteration: 29, Loss: 0.769, Noise Variance: 0.238, Signal Variance: 0.611, Lengthscale: 3.153\n",
      "Iteration: 30, Loss: 0.744, Noise Variance: 0.225, Signal Variance: 0.593, Lengthscale: 3.261\n",
      "Iteration: 31, Loss: 0.715, Noise Variance: 0.213, Signal Variance: 0.578, Lengthscale: 3.367\n",
      "Iteration: 32, Loss: 0.691, Noise Variance: 0.202, Signal Variance: 0.566, Lengthscale: 3.474\n",
      "Iteration: 33, Loss: 0.668, Noise Variance: 0.191, Signal Variance: 0.558, Lengthscale: 3.580\n",
      "Iteration: 34, Loss: 0.637, Noise Variance: 0.180, Signal Variance: 0.553, Lengthscale: 3.684\n",
      "Iteration: 35, Loss: 0.626, Noise Variance: 0.171, Signal Variance: 0.552, Lengthscale: 3.788\n",
      "Iteration: 36, Loss: 0.603, Noise Variance: 0.162, Signal Variance: 0.554, Lengthscale: 3.890\n",
      "Iteration: 37, Loss: 0.581, Noise Variance: 0.153, Signal Variance: 0.558, Lengthscale: 3.990\n",
      "Iteration: 38, Loss: 0.565, Noise Variance: 0.146, Signal Variance: 0.564, Lengthscale: 4.089\n",
      "Iteration: 39, Loss: 0.546, Noise Variance: 0.138, Signal Variance: 0.571, Lengthscale: 4.185\n",
      "Iteration: 40, Loss: 0.527, Noise Variance: 0.131, Signal Variance: 0.579, Lengthscale: 4.279\n",
      "Iteration: 41, Loss: 0.504, Noise Variance: 0.125, Signal Variance: 0.587, Lengthscale: 4.370\n",
      "Iteration: 42, Loss: 0.492, Noise Variance: 0.119, Signal Variance: 0.593, Lengthscale: 4.460\n",
      "Iteration: 43, Loss: 0.488, Noise Variance: 0.113, Signal Variance: 0.597, Lengthscale: 4.548\n",
      "Iteration: 44, Loss: 0.476, Noise Variance: 0.108, Signal Variance: 0.600, Lengthscale: 4.633\n",
      "Iteration: 45, Loss: 0.465, Noise Variance: 0.103, Signal Variance: 0.600, Lengthscale: 4.716\n",
      "Iteration: 46, Loss: 0.450, Noise Variance: 0.098, Signal Variance: 0.599, Lengthscale: 4.797\n",
      "Iteration: 47, Loss: 0.441, Noise Variance: 0.094, Signal Variance: 0.596, Lengthscale: 4.876\n",
      "Iteration: 48, Loss: 0.433, Noise Variance: 0.090, Signal Variance: 0.592, Lengthscale: 4.953\n",
      "Iteration: 49, Loss: 0.426, Noise Variance: 0.087, Signal Variance: 0.589, Lengthscale: 5.027\n",
      "Iteration: 50, Loss: 0.420, Noise Variance: 0.083, Signal Variance: 0.586, Lengthscale: 5.100\n",
      "Iteration: 51, Loss: 0.415, Noise Variance: 0.080, Signal Variance: 0.585, Lengthscale: 5.170\n",
      "Iteration: 52, Loss: 0.401, Noise Variance: 0.077, Signal Variance: 0.585, Lengthscale: 5.237\n",
      "Iteration: 53, Loss: 0.400, Noise Variance: 0.074, Signal Variance: 0.586, Lengthscale: 5.303\n",
      "Iteration: 54, Loss: 0.405, Noise Variance: 0.072, Signal Variance: 0.589, Lengthscale: 5.366\n",
      "Iteration: 55, Loss: 0.391, Noise Variance: 0.069, Signal Variance: 0.592, Lengthscale: 5.428\n",
      "Iteration: 56, Loss: 0.374, Noise Variance: 0.067, Signal Variance: 0.596, Lengthscale: 5.487\n",
      "Iteration: 57, Loss: 0.370, Noise Variance: 0.065, Signal Variance: 0.600, Lengthscale: 5.545\n",
      "Iteration: 58, Loss: 0.375, Noise Variance: 0.063, Signal Variance: 0.605, Lengthscale: 5.601\n",
      "Iteration: 59, Loss: 0.361, Noise Variance: 0.061, Signal Variance: 0.611, Lengthscale: 5.656\n",
      "Iteration: 60, Loss: 0.369, Noise Variance: 0.059, Signal Variance: 0.615, Lengthscale: 5.709\n",
      "Iteration: 61, Loss: 0.358, Noise Variance: 0.058, Signal Variance: 0.620, Lengthscale: 5.760\n",
      "Iteration: 62, Loss: 0.357, Noise Variance: 0.056, Signal Variance: 0.624, Lengthscale: 5.810\n",
      "Iteration: 63, Loss: 0.348, Noise Variance: 0.055, Signal Variance: 0.626, Lengthscale: 5.859\n",
      "Iteration: 64, Loss: 0.360, Noise Variance: 0.053, Signal Variance: 0.628, Lengthscale: 5.907\n",
      "Iteration: 65, Loss: 0.355, Noise Variance: 0.052, Signal Variance: 0.629, Lengthscale: 5.954\n",
      "Iteration: 66, Loss: 0.343, Noise Variance: 0.051, Signal Variance: 0.629, Lengthscale: 6.000\n",
      "Iteration: 67, Loss: 0.355, Noise Variance: 0.050, Signal Variance: 0.630, Lengthscale: 6.045\n",
      "Iteration: 68, Loss: 0.346, Noise Variance: 0.049, Signal Variance: 0.630, Lengthscale: 6.089\n",
      "Iteration: 69, Loss: 0.337, Noise Variance: 0.048, Signal Variance: 0.631, Lengthscale: 6.132\n",
      "Iteration: 70, Loss: 0.338, Noise Variance: 0.047, Signal Variance: 0.631, Lengthscale: 6.174\n",
      "Iteration: 71, Loss: 0.338, Noise Variance: 0.046, Signal Variance: 0.633, Lengthscale: 6.215\n",
      "Iteration: 72, Loss: 0.337, Noise Variance: 0.045, Signal Variance: 0.635, Lengthscale: 6.254\n",
      "Iteration: 73, Loss: 0.335, Noise Variance: 0.044, Signal Variance: 0.639, Lengthscale: 6.293\n",
      "Iteration: 74, Loss: 0.325, Noise Variance: 0.044, Signal Variance: 0.643, Lengthscale: 6.331\n",
      "Iteration: 75, Loss: 0.324, Noise Variance: 0.043, Signal Variance: 0.647, Lengthscale: 6.368\n",
      "Iteration: 76, Loss: 0.321, Noise Variance: 0.042, Signal Variance: 0.652, Lengthscale: 6.404\n",
      "Iteration: 77, Loss: 0.325, Noise Variance: 0.041, Signal Variance: 0.656, Lengthscale: 6.439\n",
      "Iteration: 78, Loss: 0.334, Noise Variance: 0.041, Signal Variance: 0.659, Lengthscale: 6.474\n",
      "Iteration: 79, Loss: 0.332, Noise Variance: 0.040, Signal Variance: 0.660, Lengthscale: 6.509\n",
      "Iteration: 80, Loss: 0.328, Noise Variance: 0.040, Signal Variance: 0.661, Lengthscale: 6.544\n",
      "Iteration: 81, Loss: 0.325, Noise Variance: 0.039, Signal Variance: 0.661, Lengthscale: 6.578\n",
      "Iteration: 82, Loss: 0.311, Noise Variance: 0.039, Signal Variance: 0.661, Lengthscale: 6.612\n",
      "Iteration: 83, Loss: 0.324, Noise Variance: 0.038, Signal Variance: 0.663, Lengthscale: 6.644\n",
      "Iteration: 84, Loss: 0.321, Noise Variance: 0.037, Signal Variance: 0.665, Lengthscale: 6.677\n",
      "Iteration: 85, Loss: 0.317, Noise Variance: 0.037, Signal Variance: 0.666, Lengthscale: 6.708\n",
      "Iteration: 86, Loss: 0.325, Noise Variance: 0.036, Signal Variance: 0.669, Lengthscale: 6.738\n",
      "Iteration: 87, Loss: 0.320, Noise Variance: 0.036, Signal Variance: 0.671, Lengthscale: 6.768\n",
      "Iteration: 88, Loss: 0.317, Noise Variance: 0.036, Signal Variance: 0.673, Lengthscale: 6.798\n",
      "Iteration: 89, Loss: 0.314, Noise Variance: 0.035, Signal Variance: 0.676, Lengthscale: 6.827\n",
      "Iteration: 90, Loss: 0.315, Noise Variance: 0.035, Signal Variance: 0.678, Lengthscale: 6.856\n",
      "Iteration: 91, Loss: 0.323, Noise Variance: 0.034, Signal Variance: 0.680, Lengthscale: 6.885\n",
      "Iteration: 92, Loss: 0.310, Noise Variance: 0.034, Signal Variance: 0.681, Lengthscale: 6.913\n",
      "Iteration: 93, Loss: 0.315, Noise Variance: 0.034, Signal Variance: 0.683, Lengthscale: 6.941\n",
      "Iteration: 94, Loss: 0.309, Noise Variance: 0.033, Signal Variance: 0.684, Lengthscale: 6.968\n",
      "Iteration: 95, Loss: 0.302, Noise Variance: 0.033, Signal Variance: 0.686, Lengthscale: 6.996\n",
      "Iteration: 96, Loss: 0.313, Noise Variance: 0.033, Signal Variance: 0.687, Lengthscale: 7.023\n",
      "Iteration: 97, Loss: 0.307, Noise Variance: 0.033, Signal Variance: 0.687, Lengthscale: 7.051\n",
      "Iteration: 98, Loss: 0.313, Noise Variance: 0.032, Signal Variance: 0.687, Lengthscale: 7.077\n",
      "Iteration: 99, Loss: 0.298, Noise Variance: 0.032, Signal Variance: 0.688, Lengthscale: 7.103\n",
      "Iteration: 100, Loss: 0.304, Noise Variance: 0.032, Signal Variance: 0.689, Lengthscale: 7.130\n",
      "Iteration: 101, Loss: 0.316, Noise Variance: 0.032, Signal Variance: 0.691, Lengthscale: 7.155\n",
      "Iteration: 102, Loss: 0.306, Noise Variance: 0.031, Signal Variance: 0.694, Lengthscale: 7.181\n",
      "Iteration: 103, Loss: 0.302, Noise Variance: 0.031, Signal Variance: 0.698, Lengthscale: 7.206\n",
      "Iteration: 104, Loss: 0.308, Noise Variance: 0.031, Signal Variance: 0.701, Lengthscale: 7.232\n",
      "Iteration: 105, Loss: 0.285, Noise Variance: 0.031, Signal Variance: 0.704, Lengthscale: 7.257\n",
      "Iteration: 106, Loss: 0.304, Noise Variance: 0.031, Signal Variance: 0.707, Lengthscale: 7.282\n",
      "Iteration: 107, Loss: 0.312, Noise Variance: 0.031, Signal Variance: 0.711, Lengthscale: 7.307\n",
      "Iteration: 108, Loss: 0.306, Noise Variance: 0.030, Signal Variance: 0.714, Lengthscale: 7.332\n",
      "Iteration: 109, Loss: 0.299, Noise Variance: 0.030, Signal Variance: 0.717, Lengthscale: 7.357\n",
      "Iteration: 110, Loss: 0.299, Noise Variance: 0.030, Signal Variance: 0.720, Lengthscale: 7.382\n",
      "Iteration: 111, Loss: 0.314, Noise Variance: 0.030, Signal Variance: 0.720, Lengthscale: 7.406\n",
      "Iteration: 112, Loss: 0.297, Noise Variance: 0.029, Signal Variance: 0.721, Lengthscale: 7.430\n",
      "Iteration: 113, Loss: 0.298, Noise Variance: 0.029, Signal Variance: 0.721, Lengthscale: 7.454\n",
      "Iteration: 114, Loss: 0.304, Noise Variance: 0.029, Signal Variance: 0.720, Lengthscale: 7.478\n",
      "Iteration: 115, Loss: 0.303, Noise Variance: 0.029, Signal Variance: 0.719, Lengthscale: 7.502\n",
      "Iteration: 116, Loss: 0.302, Noise Variance: 0.029, Signal Variance: 0.719, Lengthscale: 7.525\n",
      "Iteration: 117, Loss: 0.294, Noise Variance: 0.029, Signal Variance: 0.720, Lengthscale: 7.548\n",
      "Iteration: 118, Loss: 0.302, Noise Variance: 0.028, Signal Variance: 0.721, Lengthscale: 7.570\n",
      "Iteration: 119, Loss: 0.302, Noise Variance: 0.028, Signal Variance: 0.723, Lengthscale: 7.591\n",
      "Iteration: 120, Loss: 0.293, Noise Variance: 0.028, Signal Variance: 0.725, Lengthscale: 7.612\n",
      "Iteration: 121, Loss: 0.298, Noise Variance: 0.028, Signal Variance: 0.727, Lengthscale: 7.633\n",
      "Iteration: 122, Loss: 0.290, Noise Variance: 0.028, Signal Variance: 0.729, Lengthscale: 7.654\n",
      "Iteration: 123, Loss: 0.301, Noise Variance: 0.028, Signal Variance: 0.733, Lengthscale: 7.674\n",
      "Iteration: 124, Loss: 0.293, Noise Variance: 0.028, Signal Variance: 0.736, Lengthscale: 7.694\n",
      "Iteration: 125, Loss: 0.299, Noise Variance: 0.028, Signal Variance: 0.739, Lengthscale: 7.713\n",
      "Iteration: 126, Loss: 0.301, Noise Variance: 0.027, Signal Variance: 0.741, Lengthscale: 7.731\n",
      "Iteration: 127, Loss: 0.289, Noise Variance: 0.027, Signal Variance: 0.744, Lengthscale: 7.750\n",
      "Iteration: 128, Loss: 0.303, Noise Variance: 0.027, Signal Variance: 0.747, Lengthscale: 7.769\n",
      "Iteration: 129, Loss: 0.296, Noise Variance: 0.027, Signal Variance: 0.748, Lengthscale: 7.787\n",
      "Iteration: 130, Loss: 0.300, Noise Variance: 0.027, Signal Variance: 0.748, Lengthscale: 7.807\n",
      "Iteration: 131, Loss: 0.296, Noise Variance: 0.027, Signal Variance: 0.747, Lengthscale: 7.826\n",
      "Iteration: 132, Loss: 0.293, Noise Variance: 0.027, Signal Variance: 0.747, Lengthscale: 7.845\n",
      "Iteration: 133, Loss: 0.297, Noise Variance: 0.027, Signal Variance: 0.748, Lengthscale: 7.864\n",
      "Iteration: 134, Loss: 0.286, Noise Variance: 0.026, Signal Variance: 0.749, Lengthscale: 7.883\n",
      "Iteration: 135, Loss: 0.281, Noise Variance: 0.026, Signal Variance: 0.749, Lengthscale: 7.902\n",
      "Iteration: 136, Loss: 0.293, Noise Variance: 0.026, Signal Variance: 0.752, Lengthscale: 7.921\n",
      "Iteration: 137, Loss: 0.288, Noise Variance: 0.026, Signal Variance: 0.756, Lengthscale: 7.939\n",
      "Iteration: 138, Loss: 0.296, Noise Variance: 0.026, Signal Variance: 0.759, Lengthscale: 7.957\n",
      "Iteration: 139, Loss: 0.283, Noise Variance: 0.026, Signal Variance: 0.762, Lengthscale: 7.974\n",
      "Iteration: 140, Loss: 0.292, Noise Variance: 0.026, Signal Variance: 0.765, Lengthscale: 7.991\n",
      "Iteration: 141, Loss: 0.286, Noise Variance: 0.025, Signal Variance: 0.767, Lengthscale: 8.008\n",
      "Iteration: 142, Loss: 0.291, Noise Variance: 0.025, Signal Variance: 0.768, Lengthscale: 8.026\n",
      "Iteration: 143, Loss: 0.296, Noise Variance: 0.025, Signal Variance: 0.769, Lengthscale: 8.044\n",
      "Iteration: 144, Loss: 0.298, Noise Variance: 0.025, Signal Variance: 0.768, Lengthscale: 8.063\n",
      "Iteration: 145, Loss: 0.283, Noise Variance: 0.025, Signal Variance: 0.767, Lengthscale: 8.081\n",
      "Iteration: 146, Loss: 0.280, Noise Variance: 0.025, Signal Variance: 0.766, Lengthscale: 8.099\n",
      "Iteration: 147, Loss: 0.278, Noise Variance: 0.025, Signal Variance: 0.766, Lengthscale: 8.118\n",
      "Iteration: 148, Loss: 0.293, Noise Variance: 0.025, Signal Variance: 0.767, Lengthscale: 8.138\n",
      "Iteration: 149, Loss: 0.287, Noise Variance: 0.024, Signal Variance: 0.766, Lengthscale: 8.157\n",
      "Iteration: 150, Loss: 0.292, Noise Variance: 0.024, Signal Variance: 0.766, Lengthscale: 8.177\n",
      "Iteration: 151, Loss: 0.284, Noise Variance: 0.024, Signal Variance: 0.767, Lengthscale: 8.195\n",
      "Iteration: 152, Loss: 0.303, Noise Variance: 0.024, Signal Variance: 0.770, Lengthscale: 8.213\n",
      "Iteration: 153, Loss: 0.285, Noise Variance: 0.024, Signal Variance: 0.773, Lengthscale: 8.230\n",
      "Iteration: 154, Loss: 0.289, Noise Variance: 0.024, Signal Variance: 0.777, Lengthscale: 8.247\n",
      "Iteration: 155, Loss: 0.289, Noise Variance: 0.024, Signal Variance: 0.782, Lengthscale: 8.263\n",
      "Iteration: 156, Loss: 0.297, Noise Variance: 0.024, Signal Variance: 0.787, Lengthscale: 8.280\n",
      "Iteration: 157, Loss: 0.280, Noise Variance: 0.024, Signal Variance: 0.791, Lengthscale: 8.296\n",
      "Iteration: 158, Loss: 0.285, Noise Variance: 0.024, Signal Variance: 0.794, Lengthscale: 8.313\n",
      "Iteration: 159, Loss: 0.280, Noise Variance: 0.023, Signal Variance: 0.795, Lengthscale: 8.329\n",
      "Iteration: 160, Loss: 0.302, Noise Variance: 0.023, Signal Variance: 0.796, Lengthscale: 8.346\n",
      "Iteration: 161, Loss: 0.287, Noise Variance: 0.023, Signal Variance: 0.795, Lengthscale: 8.362\n",
      "Iteration: 162, Loss: 0.292, Noise Variance: 0.023, Signal Variance: 0.793, Lengthscale: 8.379\n",
      "Iteration: 163, Loss: 0.281, Noise Variance: 0.023, Signal Variance: 0.789, Lengthscale: 8.396\n",
      "Iteration: 164, Loss: 0.301, Noise Variance: 0.023, Signal Variance: 0.787, Lengthscale: 8.412\n",
      "Iteration: 165, Loss: 0.282, Noise Variance: 0.023, Signal Variance: 0.784, Lengthscale: 8.429\n",
      "Iteration: 166, Loss: 0.297, Noise Variance: 0.023, Signal Variance: 0.783, Lengthscale: 8.445\n",
      "Iteration: 167, Loss: 0.293, Noise Variance: 0.023, Signal Variance: 0.783, Lengthscale: 8.461\n",
      "Iteration: 168, Loss: 0.293, Noise Variance: 0.023, Signal Variance: 0.785, Lengthscale: 8.477\n",
      "Iteration: 169, Loss: 0.282, Noise Variance: 0.023, Signal Variance: 0.789, Lengthscale: 8.493\n",
      "Iteration: 170, Loss: 0.284, Noise Variance: 0.022, Signal Variance: 0.794, Lengthscale: 8.508\n",
      "Iteration: 171, Loss: 0.288, Noise Variance: 0.022, Signal Variance: 0.800, Lengthscale: 8.524\n",
      "Iteration: 172, Loss: 0.290, Noise Variance: 0.022, Signal Variance: 0.806, Lengthscale: 8.539\n",
      "Iteration: 173, Loss: 0.293, Noise Variance: 0.022, Signal Variance: 0.811, Lengthscale: 8.554\n",
      "Iteration: 174, Loss: 0.287, Noise Variance: 0.022, Signal Variance: 0.815, Lengthscale: 8.569\n",
      "Iteration: 175, Loss: 0.297, Noise Variance: 0.022, Signal Variance: 0.818, Lengthscale: 8.585\n",
      "Iteration: 176, Loss: 0.272, Noise Variance: 0.022, Signal Variance: 0.820, Lengthscale: 8.601\n",
      "Iteration: 177, Loss: 0.284, Noise Variance: 0.022, Signal Variance: 0.820, Lengthscale: 8.618\n",
      "Iteration: 178, Loss: 0.287, Noise Variance: 0.022, Signal Variance: 0.819, Lengthscale: 8.636\n",
      "Iteration: 179, Loss: 0.290, Noise Variance: 0.022, Signal Variance: 0.817, Lengthscale: 8.654\n",
      "Iteration: 180, Loss: 0.278, Noise Variance: 0.022, Signal Variance: 0.816, Lengthscale: 8.671\n",
      "Iteration: 181, Loss: 0.282, Noise Variance: 0.022, Signal Variance: 0.815, Lengthscale: 8.688\n",
      "Iteration: 182, Loss: 0.296, Noise Variance: 0.022, Signal Variance: 0.814, Lengthscale: 8.704\n",
      "Iteration: 183, Loss: 0.278, Noise Variance: 0.022, Signal Variance: 0.815, Lengthscale: 8.720\n",
      "Iteration: 184, Loss: 0.285, Noise Variance: 0.021, Signal Variance: 0.817, Lengthscale: 8.735\n",
      "Iteration: 185, Loss: 0.294, Noise Variance: 0.021, Signal Variance: 0.818, Lengthscale: 8.750\n",
      "Iteration: 186, Loss: 0.290, Noise Variance: 0.021, Signal Variance: 0.820, Lengthscale: 8.764\n",
      "Iteration: 187, Loss: 0.273, Noise Variance: 0.021, Signal Variance: 0.823, Lengthscale: 8.777\n",
      "Iteration: 188, Loss: 0.285, Noise Variance: 0.021, Signal Variance: 0.824, Lengthscale: 8.790\n",
      "Iteration: 189, Loss: 0.309, Noise Variance: 0.021, Signal Variance: 0.827, Lengthscale: 8.803\n",
      "Iteration: 190, Loss: 0.281, Noise Variance: 0.021, Signal Variance: 0.829, Lengthscale: 8.816\n",
      "Iteration: 191, Loss: 0.283, Noise Variance: 0.021, Signal Variance: 0.831, Lengthscale: 8.829\n",
      "Iteration: 192, Loss: 0.297, Noise Variance: 0.021, Signal Variance: 0.832, Lengthscale: 8.842\n",
      "Iteration: 193, Loss: 0.285, Noise Variance: 0.021, Signal Variance: 0.832, Lengthscale: 8.855\n",
      "Iteration: 194, Loss: 0.279, Noise Variance: 0.021, Signal Variance: 0.831, Lengthscale: 8.867\n",
      "Iteration: 195, Loss: 0.294, Noise Variance: 0.021, Signal Variance: 0.830, Lengthscale: 8.881\n",
      "Iteration: 196, Loss: 0.279, Noise Variance: 0.021, Signal Variance: 0.830, Lengthscale: 8.894\n",
      "Iteration: 197, Loss: 0.271, Noise Variance: 0.021, Signal Variance: 0.830, Lengthscale: 8.908\n",
      "Iteration: 198, Loss: 0.286, Noise Variance: 0.021, Signal Variance: 0.829, Lengthscale: 8.921\n",
      "Iteration: 199, Loss: 0.279, Noise Variance: 0.021, Signal Variance: 0.830, Lengthscale: 8.934\n"
     ]
    }
   ],
   "source": [
    "model_vanilla.vanilla_train(lr=1e-1, iter=200, verbose=True)"
   ]
  },
  {
   "cell_type": "code",
   "execution_count": 10,
   "id": "95611bdb-4075-4a7d-af52-9051fc8f38e9",
   "metadata": {},
   "outputs": [],
   "source": [
    "# torch.save(model_vanilla.state_dict(), '../outputs/models/' + model_vanilla_name + '.pth')\n",
    "# model_vanilla.load_state_dict(torch.load('../outputs/models/' + model_vanilla_name + '.pth'))"
   ]
  },
  {
   "cell_type": "markdown",
   "id": "405d4275",
   "metadata": {},
   "source": [
    "## Geometric Model"
   ]
  },
  {
   "cell_type": "code",
   "execution_count": 11,
   "id": "83460075",
   "metadata": {},
   "outputs": [],
   "source": [
    "%%capture\n",
    "likelihood = gpytorch.likelihoods.GaussianLikelihood(\n",
    "    noise_constraint=gpytorch.constraints.GreaterThan(1e-8),\n",
    "    noise_prior=None  # NormalPrior(torch.tensor([0.0]).to(device),  torch.tensor([1/9]).sqrt().to(device))\n",
    ")\n",
    "\n",
    "kernel = gpytorch.kernels.ScaleKernel(\n",
    "    RiemannMaternKernel(\n",
    "        nu=3, # 6\n",
    "        nodes=train_x,\n",
    "        neighbors=10, # 100\n",
    "        operator=\"randomwalk\",\n",
    "        method=\"exact\",\n",
    "        modes=1000, # 500\n",
    "        ball_scale=10.0,\n",
    "        ball_decay=0.01,\n",
    "        prior_bandwidth=False,\n",
    "    ),\n",
    "    outputscale_prior=None  # NormalPrior(torch.tensor([1.0]).to(device),  torch.tensor([1/9]).sqrt().to(device))\n",
    ")\n",
    "\n",
    "model = RiemannGP(train_x, train_y, likelihood, kernel).to(device)\n",
    "model_name = dataset+'_sup_nu'+str(int(kernel.base_kernel.nu.item()))+'_k'+str(kernel.base_kernel.neighbors)"
   ]
  },
  {
   "cell_type": "markdown",
   "id": "8b14763b",
   "metadata": {},
   "source": [
    "## Train"
   ]
  },
  {
   "cell_type": "code",
   "execution_count": 12,
   "id": "357e1dd2",
   "metadata": {},
   "outputs": [],
   "source": [
    "%%capture\n",
    "hypers = {\n",
    "    'likelihood.noise_covar.noise': 1e-2,\n",
    "    'covar_module.base_kernel.epsilon': 1.5, # kernel.base_kernel.epsilon_prior.sample()\n",
    "    'covar_module.base_kernel.lengthscale': 10.0, # 10\n",
    "    'covar_module.outputscale': 1.0,\n",
    "}\n",
    "model.initialize(**hypers)"
   ]
  },
  {
   "cell_type": "code",
   "execution_count": 13,
   "id": "7bb0ab30",
   "metadata": {
    "scrolled": true
   },
   "outputs": [
    {
     "name": "stdout",
     "output_type": "stream",
     "text": [
      "Iter: 0, Loss: -1409.684, NoiseVar: 0.010, SignalVar: 0.00104, Lengthscale: 10.000, Epsilon: 1.500\n",
      "Iter: 1, Loss: -4755.744, NoiseVar: 0.009, SignalVar: 0.00094, Lengthscale: 9.900, Epsilon: 1.423\n",
      "Iter: 2, Loss: -8029.049, NoiseVar: 0.008, SignalVar: 0.00085, Lengthscale: 9.800, Epsilon: 1.348\n",
      "Iter: 3, Loss: -11524.930, NoiseVar: 0.007, SignalVar: 0.00077, Lengthscale: 9.702, Epsilon: 1.275\n",
      "Iter: 4, Loss: -15890.256, NoiseVar: 0.007, SignalVar: 0.00070, Lengthscale: 9.604, Epsilon: 1.204\n",
      "Iter: 5, Loss: -22603.377, NoiseVar: 0.007, SignalVar: 0.00063, Lengthscale: 9.507, Epsilon: 1.134\n",
      "Iter: 6, Loss: -32528.697, NoiseVar: 0.007, SignalVar: 0.00057, Lengthscale: 9.412, Epsilon: 1.068\n",
      "Iter: 7, Loss: -44279.773, NoiseVar: 0.008, SignalVar: 0.00051, Lengthscale: 9.321, Epsilon: 1.004\n",
      "Iter: 8, Loss: -55947.250, NoiseVar: 0.008, SignalVar: 0.00047, Lengthscale: 9.237, Epsilon: 0.942\n",
      "Iter: 9, Loss: -61324.812, NoiseVar: 0.009, SignalVar: 0.00042, Lengthscale: 9.173, Epsilon: 0.881\n",
      "Iter: 10, Loss: -48088.648, NoiseVar: 0.010, SignalVar: 0.00039, Lengthscale: 9.169, Epsilon: 0.843\n",
      "Iter: 11, Loss: -54068.469, NoiseVar: 0.010, SignalVar: 0.00039, Lengthscale: 9.209, Epsilon: 0.854\n",
      "Iter: 12, Loss: -60903.180, NoiseVar: 0.009, SignalVar: 0.00040, Lengthscale: 9.267, Epsilon: 0.878\n",
      "Iter: 13, Loss: -61634.148, NoiseVar: 0.009, SignalVar: 0.00041, Lengthscale: 9.331, Epsilon: 0.905\n",
      "Iter: 14, Loss: -59430.758, NoiseVar: 0.009, SignalVar: 0.00043, Lengthscale: 9.396, Epsilon: 0.930\n",
      "Iter: 15, Loss: -56547.320, NoiseVar: 0.009, SignalVar: 0.00043, Lengthscale: 9.459, Epsilon: 0.950\n",
      "Iter: 16, Loss: -54585.844, NoiseVar: 0.009, SignalVar: 0.00044, Lengthscale: 9.518, Epsilon: 0.965\n",
      "Iter: 17, Loss: -53345.125, NoiseVar: 0.009, SignalVar: 0.00044, Lengthscale: 9.572, Epsilon: 0.975\n",
      "Iter: 18, Loss: -53339.430, NoiseVar: 0.009, SignalVar: 0.00043, Lengthscale: 9.621, Epsilon: 0.979\n",
      "Iter: 19, Loss: -54236.031, NoiseVar: 0.009, SignalVar: 0.00042, Lengthscale: 9.666, Epsilon: 0.978\n",
      "Iter: 20, Loss: -55913.945, NoiseVar: 0.009, SignalVar: 0.00041, Lengthscale: 9.707, Epsilon: 0.973\n",
      "Iter: 21, Loss: -58299.633, NoiseVar: 0.009, SignalVar: 0.00040, Lengthscale: 9.745, Epsilon: 0.965\n",
      "Iter: 22, Loss: -60102.430, NoiseVar: 0.010, SignalVar: 0.00038, Lengthscale: 9.781, Epsilon: 0.955\n",
      "Iter: 23, Loss: -61825.320, NoiseVar: 0.010, SignalVar: 0.00037, Lengthscale: 9.816, Epsilon: 0.943\n",
      "Iter: 24, Loss: -62328.836, NoiseVar: 0.011, SignalVar: 0.00035, Lengthscale: 9.854, Epsilon: 0.932\n",
      "Iter: 25, Loss: -61547.375, NoiseVar: 0.011, SignalVar: 0.00034, Lengthscale: 9.896, Epsilon: 0.924\n",
      "Iter: 26, Loss: -60698.805, NoiseVar: 0.012, SignalVar: 0.00033, Lengthscale: 9.946, Epsilon: 0.922\n",
      "Iter: 27, Loss: -61053.953, NoiseVar: 0.012, SignalVar: 0.00033, Lengthscale: 10.003, Epsilon: 0.927\n",
      "Iter: 28, Loss: -61944.320, NoiseVar: 0.012, SignalVar: 0.00033, Lengthscale: 10.066, Epsilon: 0.939\n",
      "Iter: 29, Loss: -62710.227, NoiseVar: 0.012, SignalVar: 0.00033, Lengthscale: 10.132, Epsilon: 0.954\n",
      "Iter: 30, Loss: -62401.367, NoiseVar: 0.012, SignalVar: 0.00033, Lengthscale: 10.199, Epsilon: 0.969\n",
      "Iter: 31, Loss: -61903.453, NoiseVar: 0.012, SignalVar: 0.00033, Lengthscale: 10.265, Epsilon: 0.984\n",
      "Iter: 32, Loss: -60966.719, NoiseVar: 0.012, SignalVar: 0.00033, Lengthscale: 10.327, Epsilon: 0.996\n",
      "Iter: 33, Loss: -60496.094, NoiseVar: 0.012, SignalVar: 0.00033, Lengthscale: 10.386, Epsilon: 1.004\n",
      "Iter: 34, Loss: -60483.562, NoiseVar: 0.013, SignalVar: 0.00033, Lengthscale: 10.440, Epsilon: 1.010\n",
      "Iter: 35, Loss: -60837.641, NoiseVar: 0.013, SignalVar: 0.00032, Lengthscale: 10.490, Epsilon: 1.012\n",
      "Iter: 36, Loss: -61352.859, NoiseVar: 0.013, SignalVar: 0.00031, Lengthscale: 10.538, Epsilon: 1.011\n",
      "Iter: 37, Loss: -61947.836, NoiseVar: 0.014, SignalVar: 0.00031, Lengthscale: 10.583, Epsilon: 1.008\n",
      "Iter: 38, Loss: -62393.656, NoiseVar: 0.014, SignalVar: 0.00030, Lengthscale: 10.626, Epsilon: 1.005\n",
      "Iter: 39, Loss: -62532.492, NoiseVar: 0.015, SignalVar: 0.00029, Lengthscale: 10.670, Epsilon: 1.002\n",
      "Iter: 40, Loss: -62425.938, NoiseVar: 0.015, SignalVar: 0.00028, Lengthscale: 10.716, Epsilon: 1.001\n",
      "Iter: 41, Loss: -62250.117, NoiseVar: 0.015, SignalVar: 0.00028, Lengthscale: 10.764, Epsilon: 1.004\n",
      "Iter: 42, Loss: -62249.203, NoiseVar: 0.016, SignalVar: 0.00028, Lengthscale: 10.815, Epsilon: 1.009\n",
      "Iter: 43, Loss: -62348.008, NoiseVar: 0.016, SignalVar: 0.00028, Lengthscale: 10.868, Epsilon: 1.018\n",
      "Iter: 44, Loss: -62297.547, NoiseVar: 0.016, SignalVar: 0.00028, Lengthscale: 10.921, Epsilon: 1.028\n",
      "Iter: 45, Loss: -62203.297, NoiseVar: 0.016, SignalVar: 0.00028, Lengthscale: 10.975, Epsilon: 1.038\n",
      "Iter: 46, Loss: -61813.062, NoiseVar: 0.016, SignalVar: 0.00028, Lengthscale: 11.027, Epsilon: 1.047\n",
      "Iter: 47, Loss: -61529.625, NoiseVar: 0.017, SignalVar: 0.00027, Lengthscale: 11.077, Epsilon: 1.054\n",
      "Iter: 48, Loss: -61489.320, NoiseVar: 0.017, SignalVar: 0.00027, Lengthscale: 11.124, Epsilon: 1.059\n",
      "Iter: 49, Loss: -61412.555, NoiseVar: 0.017, SignalVar: 0.00027, Lengthscale: 11.168, Epsilon: 1.061\n",
      "Iter: 50, Loss: -61748.297, NoiseVar: 0.017, SignalVar: 0.00027, Lengthscale: 11.211, Epsilon: 1.062\n",
      "Iter: 51, Loss: -61944.531, NoiseVar: 0.018, SignalVar: 0.00026, Lengthscale: 11.252, Epsilon: 1.061\n",
      "Iter: 52, Loss: -61907.594, NoiseVar: 0.018, SignalVar: 0.00026, Lengthscale: 11.292, Epsilon: 1.060\n",
      "Iter: 53, Loss: -62098.805, NoiseVar: 0.019, SignalVar: 0.00026, Lengthscale: 11.332, Epsilon: 1.059\n",
      "Iter: 54, Loss: -61966.102, NoiseVar: 0.019, SignalVar: 0.00025, Lengthscale: 11.373, Epsilon: 1.060\n",
      "Iter: 55, Loss: -61856.031, NoiseVar: 0.019, SignalVar: 0.00025, Lengthscale: 11.415, Epsilon: 1.062\n",
      "Iter: 56, Loss: -61855.812, NoiseVar: 0.019, SignalVar: 0.00025, Lengthscale: 11.458, Epsilon: 1.065\n",
      "Iter: 57, Loss: -61971.797, NoiseVar: 0.020, SignalVar: 0.00025, Lengthscale: 11.502, Epsilon: 1.070\n",
      "Iter: 58, Loss: -61900.836, NoiseVar: 0.020, SignalVar: 0.00025, Lengthscale: 11.546, Epsilon: 1.076\n",
      "Iter: 59, Loss: -61740.703, NoiseVar: 0.020, SignalVar: 0.00025, Lengthscale: 11.589, Epsilon: 1.081\n",
      "Iter: 60, Loss: -61549.469, NoiseVar: 0.020, SignalVar: 0.00025, Lengthscale: 11.631, Epsilon: 1.085\n",
      "Iter: 61, Loss: -61396.391, NoiseVar: 0.020, SignalVar: 0.00025, Lengthscale: 11.671, Epsilon: 1.087\n",
      "Iter: 62, Loss: -61257.211, NoiseVar: 0.020, SignalVar: 0.00025, Lengthscale: 11.709, Epsilon: 1.088\n",
      "Iter: 63, Loss: -61306.391, NoiseVar: 0.020, SignalVar: 0.00025, Lengthscale: 11.746, Epsilon: 1.089\n",
      "Iter: 64, Loss: -61735.141, NoiseVar: 0.021, SignalVar: 0.00025, Lengthscale: 11.781, Epsilon: 1.088\n",
      "Iter: 65, Loss: -61611.891, NoiseVar: 0.021, SignalVar: 0.00025, Lengthscale: 11.816, Epsilon: 1.087\n",
      "Iter: 66, Loss: -61641.297, NoiseVar: 0.021, SignalVar: 0.00025, Lengthscale: 11.850, Epsilon: 1.086\n",
      "Iter: 67, Loss: -61772.734, NoiseVar: 0.021, SignalVar: 0.00025, Lengthscale: 11.884, Epsilon: 1.085\n",
      "Iter: 68, Loss: -61721.102, NoiseVar: 0.022, SignalVar: 0.00025, Lengthscale: 11.919, Epsilon: 1.086\n",
      "Iter: 69, Loss: -61501.461, NoiseVar: 0.022, SignalVar: 0.00025, Lengthscale: 11.954, Epsilon: 1.087\n",
      "Iter: 70, Loss: -61648.469, NoiseVar: 0.022, SignalVar: 0.00025, Lengthscale: 11.988, Epsilon: 1.089\n",
      "Iter: 71, Loss: -61564.250, NoiseVar: 0.022, SignalVar: 0.00025, Lengthscale: 12.023, Epsilon: 1.091\n",
      "Iter: 72, Loss: -61711.281, NoiseVar: 0.022, SignalVar: 0.00025, Lengthscale: 12.056, Epsilon: 1.093\n",
      "Iter: 73, Loss: -61651.391, NoiseVar: 0.022, SignalVar: 0.00025, Lengthscale: 12.089, Epsilon: 1.094\n",
      "Iter: 74, Loss: -61485.234, NoiseVar: 0.022, SignalVar: 0.00025, Lengthscale: 12.120, Epsilon: 1.095\n",
      "Iter: 75, Loss: -61496.305, NoiseVar: 0.022, SignalVar: 0.00025, Lengthscale: 12.151, Epsilon: 1.095\n",
      "Iter: 76, Loss: -61641.250, NoiseVar: 0.022, SignalVar: 0.00025, Lengthscale: 12.180, Epsilon: 1.094\n",
      "Iter: 77, Loss: -61632.016, NoiseVar: 0.022, SignalVar: 0.00025, Lengthscale: 12.209, Epsilon: 1.093\n",
      "Iter: 78, Loss: -61575.383, NoiseVar: 0.023, SignalVar: 0.00025, Lengthscale: 12.237, Epsilon: 1.092\n",
      "Iter: 79, Loss: -61574.023, NoiseVar: 0.023, SignalVar: 0.00025, Lengthscale: 12.265, Epsilon: 1.091\n",
      "Iter: 80, Loss: -61632.719, NoiseVar: 0.023, SignalVar: 0.00025, Lengthscale: 12.292, Epsilon: 1.091\n",
      "Iter: 81, Loss: -61703.133, NoiseVar: 0.023, SignalVar: 0.00025, Lengthscale: 12.320, Epsilon: 1.091\n",
      "Iter: 82, Loss: -61605.031, NoiseVar: 0.023, SignalVar: 0.00025, Lengthscale: 12.347, Epsilon: 1.092\n",
      "Iter: 83, Loss: -61773.039, NoiseVar: 0.023, SignalVar: 0.00025, Lengthscale: 12.374, Epsilon: 1.093\n",
      "Iter: 84, Loss: -61609.031, NoiseVar: 0.023, SignalVar: 0.00026, Lengthscale: 12.400, Epsilon: 1.093\n",
      "Iter: 85, Loss: -61569.625, NoiseVar: 0.023, SignalVar: 0.00026, Lengthscale: 12.425, Epsilon: 1.094\n",
      "Iter: 86, Loss: -61689.852, NoiseVar: 0.023, SignalVar: 0.00026, Lengthscale: 12.450, Epsilon: 1.094\n",
      "Iter: 87, Loss: -61772.172, NoiseVar: 0.023, SignalVar: 0.00026, Lengthscale: 12.474, Epsilon: 1.094\n",
      "Iter: 88, Loss: -61776.414, NoiseVar: 0.023, SignalVar: 0.00026, Lengthscale: 12.497, Epsilon: 1.093\n",
      "Iter: 89, Loss: -61759.102, NoiseVar: 0.024, SignalVar: 0.00026, Lengthscale: 12.520, Epsilon: 1.092\n",
      "Iter: 90, Loss: -61742.992, NoiseVar: 0.024, SignalVar: 0.00026, Lengthscale: 12.542, Epsilon: 1.091\n",
      "Iter: 91, Loss: -61744.656, NoiseVar: 0.024, SignalVar: 0.00026, Lengthscale: 12.564, Epsilon: 1.091\n",
      "Iter: 92, Loss: -61822.234, NoiseVar: 0.024, SignalVar: 0.00026, Lengthscale: 12.586, Epsilon: 1.090\n",
      "Iter: 93, Loss: -61815.219, NoiseVar: 0.024, SignalVar: 0.00026, Lengthscale: 12.607, Epsilon: 1.090\n",
      "Iter: 94, Loss: -61696.531, NoiseVar: 0.024, SignalVar: 0.00026, Lengthscale: 12.629, Epsilon: 1.091\n",
      "Iter: 95, Loss: -61866.125, NoiseVar: 0.024, SignalVar: 0.00026, Lengthscale: 12.650, Epsilon: 1.091\n",
      "Iter: 96, Loss: -61713.266, NoiseVar: 0.024, SignalVar: 0.00026, Lengthscale: 12.670, Epsilon: 1.092\n",
      "Iter: 97, Loss: -61707.961, NoiseVar: 0.024, SignalVar: 0.00026, Lengthscale: 12.690, Epsilon: 1.092\n",
      "Iter: 98, Loss: -61730.453, NoiseVar: 0.024, SignalVar: 0.00026, Lengthscale: 12.709, Epsilon: 1.092\n",
      "Iter: 99, Loss: -61841.523, NoiseVar: 0.024, SignalVar: 0.00026, Lengthscale: 12.728, Epsilon: 1.091\n",
      "Iter: 100, Loss: -61709.250, NoiseVar: 0.024, SignalVar: 0.00026, Lengthscale: 12.746, Epsilon: 1.091\n",
      "Iter: 101, Loss: -61845.281, NoiseVar: 0.024, SignalVar: 0.00026, Lengthscale: 12.764, Epsilon: 1.090\n",
      "Iter: 102, Loss: -61887.422, NoiseVar: 0.025, SignalVar: 0.00027, Lengthscale: 12.782, Epsilon: 1.090\n",
      "Iter: 103, Loss: -61903.289, NoiseVar: 0.025, SignalVar: 0.00027, Lengthscale: 12.800, Epsilon: 1.089\n",
      "Iter: 104, Loss: -61947.359, NoiseVar: 0.025, SignalVar: 0.00027, Lengthscale: 12.817, Epsilon: 1.089\n",
      "Iter: 105, Loss: -61905.180, NoiseVar: 0.025, SignalVar: 0.00027, Lengthscale: 12.834, Epsilon: 1.089\n",
      "Iter: 106, Loss: -61856.617, NoiseVar: 0.025, SignalVar: 0.00027, Lengthscale: 12.851, Epsilon: 1.090\n",
      "Iter: 107, Loss: -61821.445, NoiseVar: 0.025, SignalVar: 0.00027, Lengthscale: 12.867, Epsilon: 1.090\n",
      "Iter: 108, Loss: -61783.953, NoiseVar: 0.025, SignalVar: 0.00027, Lengthscale: 12.884, Epsilon: 1.090\n",
      "Iter: 109, Loss: -61958.609, NoiseVar: 0.025, SignalVar: 0.00027, Lengthscale: 12.899, Epsilon: 1.090\n",
      "Iter: 110, Loss: -62059.383, NoiseVar: 0.025, SignalVar: 0.00027, Lengthscale: 12.915, Epsilon: 1.090\n",
      "Iter: 111, Loss: -61817.312, NoiseVar: 0.025, SignalVar: 0.00027, Lengthscale: 12.930, Epsilon: 1.090\n",
      "Iter: 112, Loss: -61880.461, NoiseVar: 0.025, SignalVar: 0.00027, Lengthscale: 12.945, Epsilon: 1.090\n",
      "Iter: 113, Loss: -61940.625, NoiseVar: 0.025, SignalVar: 0.00027, Lengthscale: 12.959, Epsilon: 1.089\n",
      "Iter: 114, Loss: -61946.711, NoiseVar: 0.025, SignalVar: 0.00027, Lengthscale: 12.973, Epsilon: 1.089\n",
      "Iter: 115, Loss: -61919.664, NoiseVar: 0.026, SignalVar: 0.00027, Lengthscale: 12.988, Epsilon: 1.089\n",
      "Iter: 116, Loss: -61967.797, NoiseVar: 0.026, SignalVar: 0.00027, Lengthscale: 13.002, Epsilon: 1.090\n",
      "Iter: 117, Loss: -61905.836, NoiseVar: 0.026, SignalVar: 0.00027, Lengthscale: 13.015, Epsilon: 1.090\n",
      "Iter: 118, Loss: -61841.539, NoiseVar: 0.026, SignalVar: 0.00027, Lengthscale: 13.029, Epsilon: 1.090\n",
      "Iter: 119, Loss: -61972.672, NoiseVar: 0.026, SignalVar: 0.00027, Lengthscale: 13.043, Epsilon: 1.091\n",
      "Iter: 120, Loss: -61904.383, NoiseVar: 0.026, SignalVar: 0.00027, Lengthscale: 13.056, Epsilon: 1.091\n",
      "Iter: 121, Loss: -61869.180, NoiseVar: 0.026, SignalVar: 0.00027, Lengthscale: 13.069, Epsilon: 1.091\n",
      "Iter: 122, Loss: -61852.891, NoiseVar: 0.026, SignalVar: 0.00027, Lengthscale: 13.081, Epsilon: 1.091\n",
      "Iter: 123, Loss: -61840.867, NoiseVar: 0.026, SignalVar: 0.00027, Lengthscale: 13.093, Epsilon: 1.091\n",
      "Iter: 124, Loss: -61973.039, NoiseVar: 0.026, SignalVar: 0.00027, Lengthscale: 13.105, Epsilon: 1.091\n",
      "Iter: 125, Loss: -62038.664, NoiseVar: 0.026, SignalVar: 0.00028, Lengthscale: 13.117, Epsilon: 1.091\n",
      "Iter: 126, Loss: -61885.359, NoiseVar: 0.026, SignalVar: 0.00028, Lengthscale: 13.129, Epsilon: 1.091\n",
      "Iter: 127, Loss: -62009.445, NoiseVar: 0.027, SignalVar: 0.00028, Lengthscale: 13.141, Epsilon: 1.091\n",
      "Iter: 128, Loss: -61937.594, NoiseVar: 0.027, SignalVar: 0.00028, Lengthscale: 13.153, Epsilon: 1.092\n",
      "Iter: 129, Loss: -61921.180, NoiseVar: 0.027, SignalVar: 0.00028, Lengthscale: 13.165, Epsilon: 1.092\n",
      "Iter: 130, Loss: -61881.547, NoiseVar: 0.027, SignalVar: 0.00028, Lengthscale: 13.176, Epsilon: 1.092\n",
      "Iter: 131, Loss: -61931.023, NoiseVar: 0.027, SignalVar: 0.00028, Lengthscale: 13.187, Epsilon: 1.093\n",
      "Iter: 132, Loss: -61978.344, NoiseVar: 0.027, SignalVar: 0.00028, Lengthscale: 13.198, Epsilon: 1.093\n",
      "Iter: 133, Loss: -61803.250, NoiseVar: 0.027, SignalVar: 0.00028, Lengthscale: 13.209, Epsilon: 1.092\n",
      "Iter: 134, Loss: -62015.609, NoiseVar: 0.027, SignalVar: 0.00028, Lengthscale: 13.220, Epsilon: 1.092\n",
      "Iter: 135, Loss: -62029.945, NoiseVar: 0.027, SignalVar: 0.00028, Lengthscale: 13.230, Epsilon: 1.092\n",
      "Iter: 136, Loss: -61930.312, NoiseVar: 0.027, SignalVar: 0.00028, Lengthscale: 13.240, Epsilon: 1.091\n",
      "Iter: 137, Loss: -61845.250, NoiseVar: 0.027, SignalVar: 0.00028, Lengthscale: 13.251, Epsilon: 1.091\n",
      "Iter: 138, Loss: -61977.164, NoiseVar: 0.027, SignalVar: 0.00028, Lengthscale: 13.262, Epsilon: 1.092\n",
      "Iter: 139, Loss: -62023.031, NoiseVar: 0.027, SignalVar: 0.00028, Lengthscale: 13.272, Epsilon: 1.092\n",
      "Iter: 140, Loss: -61856.148, NoiseVar: 0.028, SignalVar: 0.00028, Lengthscale: 13.282, Epsilon: 1.093\n",
      "Iter: 141, Loss: -61731.125, NoiseVar: 0.028, SignalVar: 0.00028, Lengthscale: 13.292, Epsilon: 1.093\n",
      "Iter: 142, Loss: -61787.578, NoiseVar: 0.028, SignalVar: 0.00028, Lengthscale: 13.302, Epsilon: 1.092\n",
      "Iter: 143, Loss: -61843.219, NoiseVar: 0.028, SignalVar: 0.00028, Lengthscale: 13.312, Epsilon: 1.092\n",
      "Iter: 144, Loss: -61976.703, NoiseVar: 0.028, SignalVar: 0.00028, Lengthscale: 13.321, Epsilon: 1.092\n",
      "Iter: 145, Loss: -61974.133, NoiseVar: 0.028, SignalVar: 0.00028, Lengthscale: 13.330, Epsilon: 1.091\n",
      "Iter: 146, Loss: -61955.406, NoiseVar: 0.028, SignalVar: 0.00028, Lengthscale: 13.340, Epsilon: 1.091\n",
      "Iter: 147, Loss: -62011.242, NoiseVar: 0.028, SignalVar: 0.00029, Lengthscale: 13.349, Epsilon: 1.091\n",
      "Iter: 148, Loss: -62019.844, NoiseVar: 0.028, SignalVar: 0.00029, Lengthscale: 13.358, Epsilon: 1.091\n",
      "Iter: 149, Loss: -61843.750, NoiseVar: 0.028, SignalVar: 0.00029, Lengthscale: 13.367, Epsilon: 1.091\n",
      "Iter: 150, Loss: -61871.039, NoiseVar: 0.028, SignalVar: 0.00029, Lengthscale: 13.376, Epsilon: 1.092\n",
      "Iter: 151, Loss: -61919.438, NoiseVar: 0.028, SignalVar: 0.00029, Lengthscale: 13.385, Epsilon: 1.092\n",
      "Iter: 152, Loss: -61932.672, NoiseVar: 0.028, SignalVar: 0.00029, Lengthscale: 13.393, Epsilon: 1.092\n",
      "Iter: 153, Loss: -61796.828, NoiseVar: 0.029, SignalVar: 0.00029, Lengthscale: 13.401, Epsilon: 1.092\n",
      "Iter: 154, Loss: -61892.039, NoiseVar: 0.029, SignalVar: 0.00029, Lengthscale: 13.410, Epsilon: 1.092\n",
      "Iter: 155, Loss: -62055.031, NoiseVar: 0.029, SignalVar: 0.00029, Lengthscale: 13.418, Epsilon: 1.092\n",
      "Iter: 156, Loss: -61945.516, NoiseVar: 0.029, SignalVar: 0.00029, Lengthscale: 13.426, Epsilon: 1.092\n",
      "Iter: 157, Loss: -61968.484, NoiseVar: 0.029, SignalVar: 0.00029, Lengthscale: 13.433, Epsilon: 1.092\n",
      "Iter: 158, Loss: -61935.766, NoiseVar: 0.029, SignalVar: 0.00029, Lengthscale: 13.441, Epsilon: 1.092\n",
      "Iter: 159, Loss: -62088.125, NoiseVar: 0.029, SignalVar: 0.00029, Lengthscale: 13.449, Epsilon: 1.092\n",
      "Iter: 160, Loss: -61965.836, NoiseVar: 0.029, SignalVar: 0.00029, Lengthscale: 13.457, Epsilon: 1.092\n",
      "Iter: 161, Loss: -62042.773, NoiseVar: 0.029, SignalVar: 0.00029, Lengthscale: 13.464, Epsilon: 1.092\n",
      "Iter: 162, Loss: -61752.734, NoiseVar: 0.029, SignalVar: 0.00029, Lengthscale: 13.472, Epsilon: 1.092\n",
      "Iter: 163, Loss: -61844.375, NoiseVar: 0.029, SignalVar: 0.00029, Lengthscale: 13.480, Epsilon: 1.092\n",
      "Iter: 164, Loss: -62002.859, NoiseVar: 0.029, SignalVar: 0.00029, Lengthscale: 13.487, Epsilon: 1.093\n",
      "Iter: 165, Loss: -61925.812, NoiseVar: 0.029, SignalVar: 0.00029, Lengthscale: 13.494, Epsilon: 1.092\n",
      "Iter: 166, Loss: -61843.922, NoiseVar: 0.030, SignalVar: 0.00029, Lengthscale: 13.501, Epsilon: 1.092\n",
      "Iter: 167, Loss: -62061.391, NoiseVar: 0.030, SignalVar: 0.00029, Lengthscale: 13.508, Epsilon: 1.092\n",
      "Iter: 168, Loss: -62038.680, NoiseVar: 0.030, SignalVar: 0.00029, Lengthscale: 13.515, Epsilon: 1.092\n",
      "Iter: 169, Loss: -62100.406, NoiseVar: 0.030, SignalVar: 0.00030, Lengthscale: 13.522, Epsilon: 1.092\n",
      "Iter: 170, Loss: -62156.227, NoiseVar: 0.030, SignalVar: 0.00030, Lengthscale: 13.529, Epsilon: 1.092\n",
      "Iter: 171, Loss: -61908.406, NoiseVar: 0.030, SignalVar: 0.00030, Lengthscale: 13.535, Epsilon: 1.092\n",
      "Iter: 172, Loss: -61791.695, NoiseVar: 0.030, SignalVar: 0.00030, Lengthscale: 13.542, Epsilon: 1.092\n",
      "Iter: 173, Loss: -61871.852, NoiseVar: 0.030, SignalVar: 0.00030, Lengthscale: 13.549, Epsilon: 1.092\n",
      "Iter: 174, Loss: -61902.516, NoiseVar: 0.030, SignalVar: 0.00030, Lengthscale: 13.555, Epsilon: 1.092\n",
      "Iter: 175, Loss: -61820.008, NoiseVar: 0.030, SignalVar: 0.00030, Lengthscale: 13.562, Epsilon: 1.092\n",
      "Iter: 176, Loss: -61905.680, NoiseVar: 0.030, SignalVar: 0.00030, Lengthscale: 13.568, Epsilon: 1.092\n",
      "Iter: 177, Loss: -62064.750, NoiseVar: 0.030, SignalVar: 0.00030, Lengthscale: 13.574, Epsilon: 1.092\n",
      "Iter: 178, Loss: -61838.961, NoiseVar: 0.031, SignalVar: 0.00030, Lengthscale: 13.580, Epsilon: 1.092\n",
      "Iter: 179, Loss: -61983.609, NoiseVar: 0.031, SignalVar: 0.00030, Lengthscale: 13.586, Epsilon: 1.092\n",
      "Iter: 180, Loss: -62005.719, NoiseVar: 0.031, SignalVar: 0.00030, Lengthscale: 13.592, Epsilon: 1.092\n",
      "Iter: 181, Loss: -61719.125, NoiseVar: 0.031, SignalVar: 0.00030, Lengthscale: 13.598, Epsilon: 1.092\n",
      "Iter: 182, Loss: -61907.688, NoiseVar: 0.031, SignalVar: 0.00030, Lengthscale: 13.603, Epsilon: 1.092\n",
      "Iter: 183, Loss: -61998.320, NoiseVar: 0.031, SignalVar: 0.00030, Lengthscale: 13.609, Epsilon: 1.092\n",
      "Iter: 184, Loss: -61916.758, NoiseVar: 0.031, SignalVar: 0.00030, Lengthscale: 13.614, Epsilon: 1.092\n",
      "Iter: 185, Loss: -61958.906, NoiseVar: 0.031, SignalVar: 0.00030, Lengthscale: 13.620, Epsilon: 1.092\n",
      "Iter: 186, Loss: -61977.344, NoiseVar: 0.031, SignalVar: 0.00030, Lengthscale: 13.625, Epsilon: 1.093\n",
      "Iter: 187, Loss: -61896.523, NoiseVar: 0.031, SignalVar: 0.00030, Lengthscale: 13.631, Epsilon: 1.093\n",
      "Iter: 188, Loss: -62052.070, NoiseVar: 0.031, SignalVar: 0.00030, Lengthscale: 13.636, Epsilon: 1.093\n",
      "Iter: 189, Loss: -61799.289, NoiseVar: 0.031, SignalVar: 0.00031, Lengthscale: 13.641, Epsilon: 1.093\n",
      "Iter: 190, Loss: -61775.820, NoiseVar: 0.032, SignalVar: 0.00031, Lengthscale: 13.646, Epsilon: 1.093\n",
      "Iter: 191, Loss: -62034.250, NoiseVar: 0.032, SignalVar: 0.00031, Lengthscale: 13.652, Epsilon: 1.093\n",
      "Iter: 192, Loss: -61877.008, NoiseVar: 0.032, SignalVar: 0.00031, Lengthscale: 13.656, Epsilon: 1.093\n",
      "Iter: 193, Loss: -62176.703, NoiseVar: 0.032, SignalVar: 0.00031, Lengthscale: 13.661, Epsilon: 1.093\n",
      "Iter: 194, Loss: -61962.602, NoiseVar: 0.032, SignalVar: 0.00031, Lengthscale: 13.666, Epsilon: 1.093\n",
      "Iter: 195, Loss: -62144.859, NoiseVar: 0.032, SignalVar: 0.00031, Lengthscale: 13.671, Epsilon: 1.092\n",
      "Iter: 196, Loss: -61893.227, NoiseVar: 0.032, SignalVar: 0.00031, Lengthscale: 13.676, Epsilon: 1.093\n",
      "Iter: 197, Loss: -61994.156, NoiseVar: 0.032, SignalVar: 0.00031, Lengthscale: 13.681, Epsilon: 1.093\n",
      "Iter: 198, Loss: -61848.961, NoiseVar: 0.032, SignalVar: 0.00031, Lengthscale: 13.685, Epsilon: 1.093\n",
      "Iter: 199, Loss: -62144.953, NoiseVar: 0.032, SignalVar: 0.00031, Lengthscale: 13.690, Epsilon: 1.093\n",
      "NoiseVar:  0.032320536673069 SignalVar:  0.36080968379974365 Lengthscale:  13.694597244262695 Epsilon 1.0928875207901\n"
     ]
    }
   ],
   "source": [
    "model.manifold_informed_train(lr=1e-1, iter=200, \n",
    "                              decay_step_size=1000, decay_magnitude=1.0, \n",
    "                              norm_step_size=10, norm_rand_vec=100, \n",
    "                              verbose=True, save=False)\n",
    "print(\"NoiseVar: \", likelihood.noise.item(), \"SignalVar: \", kernel.outputscale.item(), \n",
    "      \"Lengthscale: \", kernel.base_kernel.lengthscale.item(), \"Epsilon\", kernel.base_kernel.epsilon.item())\n",
    "torch.cuda.empty_cache()"
   ]
  },
  {
   "cell_type": "code",
   "execution_count": 14,
   "id": "974f2d48-8675-4cb9-ba5c-7313eb029185",
   "metadata": {},
   "outputs": [],
   "source": [
    "# torch.save(model.state_dict(), '../outputs/models/'+model_name+'.pth')\n",
    "# model.load_state_dict(torch.load('../outputs/models/'+model_name+'.pth'))"
   ]
  },
  {
   "cell_type": "code",
   "execution_count": 15,
   "id": "b0b742a3-3c68-4a64-860c-b4bd1c7003f3",
   "metadata": {
    "scrolled": true
   },
   "outputs": [
    {
     "name": "stdout",
     "output_type": "stream",
     "text": [
      "NoiseVar:  0.032320536673069 SignalVar:  0.36080968379974365 Lengthscale:  13.694597244262695 Epsilon 1.0928875207901\n"
     ]
    }
   ],
   "source": [
    "print(\"NoiseVar: \", likelihood.noise.item(), \"SignalVar: \", kernel.outputscale.item(), \n",
    "      \"Lengthscale: \", kernel.base_kernel.lengthscale.item(), \"Epsilon\", kernel.base_kernel.epsilon.item())"
   ]
  },
  {
   "cell_type": "markdown",
   "id": "bbb8a725-998f-421e-b384-74c146235c8b",
   "metadata": {},
   "source": [
    "### Extract EigenPairs"
   ]
  },
  {
   "cell_type": "code",
   "execution_count": 16,
   "id": "526a47b5-28e1-4dc1-b757-ba43f18ad8f4",
   "metadata": {},
   "outputs": [
    {
     "name": "stdout",
     "output_type": "stream",
     "text": [
      "exact\n"
     ]
    }
   ],
   "source": [
    "# kernel.base_kernel.method = 'exact'\n",
    "# kernel.base_kernel.modes = 2000\n",
    "kernel.base_kernel.generate_eigenpairs()\n",
    "evals, evecs = kernel.base_kernel.eigenvalues.cpu(), kernel.base_kernel.eigenvectors.cpu()"
   ]
  },
  {
   "cell_type": "raw",
   "id": "421c8402-aac4-42d6-b99b-0d16cc6c161b",
   "metadata": {},
   "source": [
    "kernel.base_kernel.modes = 1000\n",
    "kernel.base_kernel.eigenvalues = evals[:kernel.base_kernel.modes].to(device)\n",
    "kernel.base_kernel.eigenvectors = evecs[:,:kernel.base_kernel.modes].to(device)"
   ]
  },
  {
   "cell_type": "raw",
   "id": "980ef57a-8963-455f-a460-a416d62f5e6b",
   "metadata": {
    "scrolled": true
   },
   "source": [
    "evals, evecs = kernel.base_kernel.eigenvalues, kernel.base_kernel.eigenvectors\n",
    "rmse = []\n",
    "nll = []\n",
    "with torch.no_grad(), gpytorch.settings.fast_pred_var(), gpytorch.settings.cg_tolerance(10000):\n",
    "    for m in range(10,1000,10):\n",
    "        print(m)\n",
    "        kernel.base_kernel.modes = m\n",
    "        kernel.base_kernel.eigenvalues = evals[:m].to(device)\n",
    "        kernel.base_kernel.eigenvectors = evecs[:,:m].to(device)\n",
    "        posterior = likelihood(model(test_x))\n",
    "        error = test_y - posterior.mean\n",
    "        covar = posterior.lazy_covariance_matrix.evaluate_kernel()\n",
    "        inv_quad, logdet = covar.inv_quad_logdet(inv_quad_rhs=error.unsqueeze(-1), logdet=True)\n",
    "        rmse.append((error.square().mean()).sqrt().item())\n",
    "        nll.append((0.5 * sum([inv_quad, logdet, error.size(-1)* np.log(2 * np.pi)])/error.size(-1)).item())\n",
    "        model._clear_cache()"
   ]
  },
  {
   "cell_type": "markdown",
   "id": "cd22454c-ad54-443d-9fab-f68551209408",
   "metadata": {},
   "source": [
    "### Train with Fixed number of Eigenfunctions"
   ]
  },
  {
   "cell_type": "code",
   "execution_count": 17,
   "id": "cf784937-f788-4c7e-b59c-1ab081e2d580",
   "metadata": {
    "scrolled": true
   },
   "outputs": [
    {
     "name": "stdout",
     "output_type": "stream",
     "text": [
      "Iter: 0, Loss: -0.523, NoiseVar: 0.032, SignalVar: 0.36081, Lengthscale: 13.695, Epsilon: 1.093\n",
      "Iter: 1, Loss: -0.561, NoiseVar: 0.029, SignalVar: 0.39217, Lengthscale: 13.795, Epsilon: 1.093\n",
      "Iter: 2, Loss: -0.598, NoiseVar: 0.027, SignalVar: 0.42529, Lengthscale: 13.894, Epsilon: 1.093\n",
      "Iter: 3, Loss: -0.633, NoiseVar: 0.024, SignalVar: 0.45981, Lengthscale: 13.994, Epsilon: 1.093\n",
      "Iter: 4, Loss: -0.667, NoiseVar: 0.022, SignalVar: 0.49519, Lengthscale: 14.093, Epsilon: 1.093\n",
      "Iter: 5, Loss: -0.699, NoiseVar: 0.020, SignalVar: 0.53077, Lengthscale: 14.191, Epsilon: 1.093\n",
      "Iter: 6, Loss: -0.728, NoiseVar: 0.018, SignalVar: 0.56579, Lengthscale: 14.289, Epsilon: 1.093\n",
      "Iter: 7, Loss: -0.756, NoiseVar: 0.016, SignalVar: 0.59943, Lengthscale: 14.385, Epsilon: 1.093\n",
      "Iter: 8, Loss: -0.782, NoiseVar: 0.015, SignalVar: 0.63089, Lengthscale: 14.482, Epsilon: 1.093\n",
      "Iter: 9, Loss: -0.806, NoiseVar: 0.013, SignalVar: 0.65942, Lengthscale: 14.577, Epsilon: 1.093\n",
      "Iter: 10, Loss: -0.827, NoiseVar: 0.012, SignalVar: 0.68442, Lengthscale: 14.671, Epsilon: 1.093\n",
      "Iter: 11, Loss: -0.845, NoiseVar: 0.011, SignalVar: 0.70547, Lengthscale: 14.765, Epsilon: 1.093\n",
      "Iter: 12, Loss: -0.860, NoiseVar: 0.010, SignalVar: 0.72228, Lengthscale: 14.858, Epsilon: 1.093\n",
      "Iter: 13, Loss: -0.873, NoiseVar: 0.009, SignalVar: 0.73477, Lengthscale: 14.951, Epsilon: 1.093\n",
      "Iter: 14, Loss: -0.883, NoiseVar: 0.009, SignalVar: 0.74299, Lengthscale: 15.043, Epsilon: 1.093\n",
      "Iter: 15, Loss: -0.889, NoiseVar: 0.008, SignalVar: 0.74712, Lengthscale: 15.134, Epsilon: 1.093\n",
      "Iter: 16, Loss: -0.893, NoiseVar: 0.007, SignalVar: 0.74742, Lengthscale: 15.226, Epsilon: 1.093\n",
      "Iter: 17, Loss: -0.894, NoiseVar: 0.007, SignalVar: 0.74421, Lengthscale: 15.316, Epsilon: 1.093\n",
      "Iter: 18, Loss: -0.893, NoiseVar: 0.006, SignalVar: 0.73791, Lengthscale: 15.407, Epsilon: 1.093\n",
      "Iter: 19, Loss: -0.891, NoiseVar: 0.006, SignalVar: 0.72892, Lengthscale: 15.498, Epsilon: 1.093\n",
      "Iter: 20, Loss: -0.888, NoiseVar: 0.006, SignalVar: 0.71768, Lengthscale: 15.588, Epsilon: 1.093\n",
      "Iter: 21, Loss: -0.884, NoiseVar: 0.006, SignalVar: 0.70462, Lengthscale: 15.679, Epsilon: 1.093\n",
      "Iter: 22, Loss: -0.880, NoiseVar: 0.005, SignalVar: 0.69018, Lengthscale: 15.769, Epsilon: 1.093\n",
      "Iter: 23, Loss: -0.878, NoiseVar: 0.005, SignalVar: 0.67476, Lengthscale: 15.860, Epsilon: 1.093\n",
      "Iter: 24, Loss: -0.876, NoiseVar: 0.005, SignalVar: 0.65880, Lengthscale: 15.952, Epsilon: 1.093\n",
      "Iter: 25, Loss: -0.875, NoiseVar: 0.005, SignalVar: 0.64266, Lengthscale: 16.044, Epsilon: 1.093\n",
      "Iter: 26, Loss: -0.876, NoiseVar: 0.005, SignalVar: 0.62671, Lengthscale: 16.136, Epsilon: 1.093\n",
      "Iter: 27, Loss: -0.878, NoiseVar: 0.005, SignalVar: 0.61125, Lengthscale: 16.229, Epsilon: 1.093\n",
      "Iter: 28, Loss: -0.880, NoiseVar: 0.005, SignalVar: 0.59661, Lengthscale: 16.323, Epsilon: 1.093\n",
      "Iter: 29, Loss: -0.883, NoiseVar: 0.005, SignalVar: 0.58306, Lengthscale: 16.417, Epsilon: 1.093\n",
      "Iter: 30, Loss: -0.886, NoiseVar: 0.006, SignalVar: 0.57081, Lengthscale: 16.513, Epsilon: 1.093\n",
      "Iter: 31, Loss: -0.889, NoiseVar: 0.006, SignalVar: 0.56005, Lengthscale: 16.608, Epsilon: 1.093\n",
      "Iter: 32, Loss: -0.892, NoiseVar: 0.006, SignalVar: 0.55090, Lengthscale: 16.705, Epsilon: 1.093\n",
      "Iter: 33, Loss: -0.894, NoiseVar: 0.006, SignalVar: 0.54344, Lengthscale: 16.803, Epsilon: 1.093\n",
      "Iter: 34, Loss: -0.895, NoiseVar: 0.006, SignalVar: 0.53769, Lengthscale: 16.901, Epsilon: 1.093\n",
      "Iter: 35, Loss: -0.896, NoiseVar: 0.007, SignalVar: 0.53364, Lengthscale: 17.000, Epsilon: 1.093\n",
      "Iter: 36, Loss: -0.897, NoiseVar: 0.007, SignalVar: 0.53120, Lengthscale: 17.100, Epsilon: 1.093\n",
      "Iter: 37, Loss: -0.897, NoiseVar: 0.007, SignalVar: 0.53024, Lengthscale: 17.200, Epsilon: 1.093\n",
      "Iter: 38, Loss: -0.897, NoiseVar: 0.007, SignalVar: 0.53063, Lengthscale: 17.301, Epsilon: 1.093\n",
      "Iter: 39, Loss: -0.897, NoiseVar: 0.007, SignalVar: 0.53217, Lengthscale: 17.402, Epsilon: 1.093\n",
      "Iter: 40, Loss: -0.896, NoiseVar: 0.007, SignalVar: 0.53466, Lengthscale: 17.503, Epsilon: 1.093\n",
      "Iter: 41, Loss: -0.896, NoiseVar: 0.007, SignalVar: 0.53787, Lengthscale: 17.605, Epsilon: 1.093\n",
      "Iter: 42, Loss: -0.895, NoiseVar: 0.008, SignalVar: 0.54156, Lengthscale: 17.707, Epsilon: 1.093\n",
      "Iter: 43, Loss: -0.895, NoiseVar: 0.008, SignalVar: 0.54551, Lengthscale: 17.810, Epsilon: 1.093\n",
      "Iter: 44, Loss: -0.895, NoiseVar: 0.008, SignalVar: 0.54948, Lengthscale: 17.912, Epsilon: 1.093\n",
      "Iter: 45, Loss: -0.895, NoiseVar: 0.008, SignalVar: 0.55325, Lengthscale: 18.015, Epsilon: 1.093\n",
      "Iter: 46, Loss: -0.896, NoiseVar: 0.008, SignalVar: 0.55665, Lengthscale: 18.117, Epsilon: 1.093\n",
      "Iter: 47, Loss: -0.896, NoiseVar: 0.008, SignalVar: 0.55951, Lengthscale: 18.219, Epsilon: 1.093\n",
      "Iter: 48, Loss: -0.896, NoiseVar: 0.007, SignalVar: 0.56170, Lengthscale: 18.322, Epsilon: 1.093\n",
      "Iter: 49, Loss: -0.897, NoiseVar: 0.007, SignalVar: 0.56312, Lengthscale: 18.424, Epsilon: 1.093\n",
      "Iter: 50, Loss: -0.897, NoiseVar: 0.007, SignalVar: 0.56373, Lengthscale: 18.526, Epsilon: 1.093\n",
      "Iter: 51, Loss: -0.898, NoiseVar: 0.007, SignalVar: 0.56350, Lengthscale: 18.628, Epsilon: 1.093\n",
      "Iter: 52, Loss: -0.898, NoiseVar: 0.007, SignalVar: 0.56242, Lengthscale: 18.730, Epsilon: 1.093\n",
      "Iter: 53, Loss: -0.899, NoiseVar: 0.007, SignalVar: 0.56057, Lengthscale: 18.832, Epsilon: 1.093\n",
      "Iter: 54, Loss: -0.899, NoiseVar: 0.007, SignalVar: 0.55802, Lengthscale: 18.934, Epsilon: 1.093\n",
      "Iter: 55, Loss: -0.899, NoiseVar: 0.007, SignalVar: 0.55487, Lengthscale: 19.036, Epsilon: 1.093\n",
      "Iter: 56, Loss: -0.899, NoiseVar: 0.007, SignalVar: 0.55122, Lengthscale: 19.137, Epsilon: 1.093\n",
      "Iter: 57, Loss: -0.899, NoiseVar: 0.007, SignalVar: 0.54717, Lengthscale: 19.239, Epsilon: 1.093\n",
      "Iter: 58, Loss: -0.900, NoiseVar: 0.007, SignalVar: 0.54289, Lengthscale: 19.341, Epsilon: 1.093\n",
      "Iter: 59, Loss: -0.900, NoiseVar: 0.007, SignalVar: 0.53851, Lengthscale: 19.443, Epsilon: 1.093\n",
      "Iter: 60, Loss: -0.900, NoiseVar: 0.007, SignalVar: 0.53413, Lengthscale: 19.545, Epsilon: 1.093\n",
      "Iter: 61, Loss: -0.900, NoiseVar: 0.007, SignalVar: 0.52988, Lengthscale: 19.647, Epsilon: 1.093\n",
      "Iter: 62, Loss: -0.900, NoiseVar: 0.007, SignalVar: 0.52588, Lengthscale: 19.749, Epsilon: 1.093\n",
      "Iter: 63, Loss: -0.900, NoiseVar: 0.007, SignalVar: 0.52219, Lengthscale: 19.852, Epsilon: 1.093\n",
      "Iter: 64, Loss: -0.900, NoiseVar: 0.007, SignalVar: 0.51889, Lengthscale: 19.954, Epsilon: 1.093\n",
      "Iter: 65, Loss: -0.900, NoiseVar: 0.007, SignalVar: 0.51600, Lengthscale: 20.057, Epsilon: 1.093\n",
      "Iter: 66, Loss: -0.900, NoiseVar: 0.007, SignalVar: 0.51358, Lengthscale: 20.160, Epsilon: 1.093\n",
      "Iter: 67, Loss: -0.901, NoiseVar: 0.007, SignalVar: 0.51159, Lengthscale: 20.263, Epsilon: 1.093\n",
      "Iter: 68, Loss: -0.901, NoiseVar: 0.007, SignalVar: 0.51002, Lengthscale: 20.366, Epsilon: 1.093\n",
      "Iter: 69, Loss: -0.901, NoiseVar: 0.007, SignalVar: 0.50884, Lengthscale: 20.470, Epsilon: 1.093\n",
      "Iter: 70, Loss: -0.901, NoiseVar: 0.007, SignalVar: 0.50800, Lengthscale: 20.573, Epsilon: 1.093\n",
      "Iter: 71, Loss: -0.901, NoiseVar: 0.007, SignalVar: 0.50742, Lengthscale: 20.676, Epsilon: 1.093\n",
      "Iter: 72, Loss: -0.901, NoiseVar: 0.007, SignalVar: 0.50704, Lengthscale: 20.780, Epsilon: 1.093\n",
      "Iter: 73, Loss: -0.902, NoiseVar: 0.007, SignalVar: 0.50680, Lengthscale: 20.884, Epsilon: 1.093\n",
      "Iter: 74, Loss: -0.902, NoiseVar: 0.007, SignalVar: 0.50662, Lengthscale: 20.987, Epsilon: 1.093\n",
      "Iter: 75, Loss: -0.902, NoiseVar: 0.007, SignalVar: 0.50645, Lengthscale: 21.091, Epsilon: 1.093\n",
      "Iter: 76, Loss: -0.902, NoiseVar: 0.007, SignalVar: 0.50620, Lengthscale: 21.195, Epsilon: 1.093\n",
      "Iter: 77, Loss: -0.902, NoiseVar: 0.007, SignalVar: 0.50584, Lengthscale: 21.298, Epsilon: 1.093\n",
      "Iter: 78, Loss: -0.902, NoiseVar: 0.007, SignalVar: 0.50533, Lengthscale: 21.402, Epsilon: 1.093\n",
      "Iter: 79, Loss: -0.902, NoiseVar: 0.007, SignalVar: 0.50462, Lengthscale: 21.506, Epsilon: 1.093\n",
      "Iter: 80, Loss: -0.902, NoiseVar: 0.007, SignalVar: 0.50370, Lengthscale: 21.609, Epsilon: 1.093\n",
      "Iter: 81, Loss: -0.903, NoiseVar: 0.007, SignalVar: 0.50255, Lengthscale: 21.713, Epsilon: 1.093\n",
      "Iter: 82, Loss: -0.903, NoiseVar: 0.007, SignalVar: 0.50120, Lengthscale: 21.816, Epsilon: 1.093\n",
      "Iter: 83, Loss: -0.903, NoiseVar: 0.007, SignalVar: 0.49967, Lengthscale: 21.920, Epsilon: 1.093\n",
      "Iter: 84, Loss: -0.903, NoiseVar: 0.007, SignalVar: 0.49796, Lengthscale: 22.023, Epsilon: 1.093\n",
      "Iter: 85, Loss: -0.903, NoiseVar: 0.007, SignalVar: 0.49614, Lengthscale: 22.127, Epsilon: 1.093\n",
      "Iter: 86, Loss: -0.903, NoiseVar: 0.007, SignalVar: 0.49422, Lengthscale: 22.230, Epsilon: 1.093\n",
      "Iter: 87, Loss: -0.903, NoiseVar: 0.007, SignalVar: 0.49224, Lengthscale: 22.333, Epsilon: 1.093\n",
      "Iter: 88, Loss: -0.903, NoiseVar: 0.007, SignalVar: 0.49023, Lengthscale: 22.437, Epsilon: 1.093\n",
      "Iter: 89, Loss: -0.904, NoiseVar: 0.007, SignalVar: 0.48825, Lengthscale: 22.540, Epsilon: 1.093\n",
      "Iter: 90, Loss: -0.904, NoiseVar: 0.007, SignalVar: 0.48633, Lengthscale: 22.643, Epsilon: 1.093\n",
      "Iter: 91, Loss: -0.904, NoiseVar: 0.007, SignalVar: 0.48450, Lengthscale: 22.747, Epsilon: 1.093\n",
      "Iter: 92, Loss: -0.904, NoiseVar: 0.007, SignalVar: 0.48277, Lengthscale: 22.850, Epsilon: 1.093\n",
      "Iter: 93, Loss: -0.904, NoiseVar: 0.007, SignalVar: 0.48117, Lengthscale: 22.953, Epsilon: 1.093\n",
      "Iter: 94, Loss: -0.904, NoiseVar: 0.007, SignalVar: 0.47970, Lengthscale: 23.056, Epsilon: 1.093\n",
      "Iter: 95, Loss: -0.904, NoiseVar: 0.007, SignalVar: 0.47837, Lengthscale: 23.160, Epsilon: 1.093\n",
      "Iter: 96, Loss: -0.905, NoiseVar: 0.007, SignalVar: 0.47717, Lengthscale: 23.263, Epsilon: 1.093\n",
      "Iter: 97, Loss: -0.905, NoiseVar: 0.007, SignalVar: 0.47609, Lengthscale: 23.366, Epsilon: 1.093\n",
      "Iter: 98, Loss: -0.905, NoiseVar: 0.007, SignalVar: 0.47513, Lengthscale: 23.469, Epsilon: 1.093\n",
      "Iter: 99, Loss: -0.905, NoiseVar: 0.007, SignalVar: 0.47426, Lengthscale: 23.573, Epsilon: 1.093\n",
      "NoiseVar:  0.006770143285393715 SignalVar:  0.47343960404396057 Lengthscale:  23.675678253173828 Epsilon 1.0928875207901\n"
     ]
    }
   ],
   "source": [
    "model.vanilla_train(lr=1e-1, iter=100, verbose=True)\n",
    "print(\"NoiseVar: \", likelihood.noise.item(), \"SignalVar: \", kernel.outputscale.item(), \n",
    "      \"Lengthscale: \", kernel.base_kernel.lengthscale.item(), \"Epsilon\", kernel.base_kernel.epsilon.item())"
   ]
  },
  {
   "cell_type": "code",
   "execution_count": 18,
   "id": "96b8e282-734a-415c-8b52-dafd1fefe024",
   "metadata": {},
   "outputs": [
    {
     "name": "stdout",
     "output_type": "stream",
     "text": [
      "NoiseVar:  0.006770143285393715 SignalVar:  0.47343960404396057 Lengthscale:  23.675678253173828 Epsilon 1.0928875207901\n"
     ]
    }
   ],
   "source": [
    "print(\"NoiseVar: \", likelihood.noise.item(), \"SignalVar: \", kernel.outputscale.item(), \n",
    "      \"Lengthscale: \", kernel.base_kernel.lengthscale.item(), \"Epsilon\", kernel.base_kernel.epsilon.item())"
   ]
  },
  {
   "cell_type": "code",
   "execution_count": 19,
   "id": "aaeb4ba2-af4f-447f-bffe-872ba0ae112e",
   "metadata": {},
   "outputs": [],
   "source": [
    "# torch.save(model.state_dict(), '../outputs/models/'+model_name+'.pth')\n",
    "# model.load_state_dict(torch.load('../outputs/models/'+model_name+'.pth'))"
   ]
  },
  {
   "cell_type": "markdown",
   "id": "0ab36075",
   "metadata": {},
   "source": [
    "## Evaluation"
   ]
  },
  {
   "cell_type": "code",
   "execution_count": 20,
   "id": "998d4b89",
   "metadata": {},
   "outputs": [],
   "source": [
    "%%capture\n",
    "model_vanilla.likelihood.eval()\n",
    "model_vanilla.eval()\n",
    "likelihood.eval()\n",
    "model.eval()\n",
    "torch.cuda.empty_cache()\n",
    "model.vanilla_model = model_vanilla"
   ]
  },
  {
   "cell_type": "code",
   "execution_count": 21,
   "id": "9515b9ae-2ea2-4d12-8da3-d84f6501fbbd",
   "metadata": {},
   "outputs": [
    {
     "name": "stderr",
     "output_type": "stream",
     "text": [
      "/home/bernardo/.local/lib/python3.10/site-packages/linear_operator/utils/linear_cg.py:337: NumericalWarning: CG terminated in 1000 iterations with average residual norm 0.026487696915864944 which is larger than the tolerance of 0.01 specified by linear_operator.settings.cg_tolerance. If performance is affected, consider raising the maximum number of CG iterations by running code in a linear_operator.settings.max_cg_iterations(value) context.\n",
      "  warnings.warn(\n"
     ]
    }
   ],
   "source": [
    "with torch.no_grad(), gpytorch.settings.fast_pred_var(), gpytorch.settings.cg_tolerance(10000):\n",
    "    model.posterior(test_x, noise=True)\n",
    "    bump_scale = 1-kernel.base_kernel.bump_function(test_x)"
   ]
  },
  {
   "cell_type": "markdown",
   "id": "cbeca67f-b362-4a28-a41c-7e4186ba8c6c",
   "metadata": {},
   "source": [
    "### Vanilla"
   ]
  },
  {
   "cell_type": "code",
   "execution_count": 22,
   "id": "eea78494-3601-418b-a7f1-239afedfb77a",
   "metadata": {},
   "outputs": [
    {
     "name": "stdout",
     "output_type": "stream",
     "text": [
      "RMSE:  tensor(0.0584, device='cuda:0')\n",
      "NLL:  tensor(-1.3972, device='cuda:0')\n"
     ]
    }
   ],
   "source": [
    "with torch.no_grad(), gpytorch.settings.fast_pred_var(), gpytorch.settings.cg_tolerance(10000):\n",
    "    error = test_y - model.mean(\"vanilla\")\n",
    "    covar = model.posterior_vanilla.lazy_covariance_matrix.evaluate_kernel()\n",
    "    inv_quad, logdet = covar.inv_quad_logdet(inv_quad_rhs=error.unsqueeze(-1), logdet=True)\n",
    "    rmse = (error.square().mean()).sqrt()\n",
    "    nll = 0.5 * sum([inv_quad, logdet, error.size(-1)* np.log(2 * np.pi)])/error.size(-1)\n",
    "print(\"RMSE: \", rmse)\n",
    "print(\"NLL: \", nll)\n",
    "model._clear_cache()\n",
    "model_vanilla._clear_cache()\n",
    "torch.cuda.empty_cache()"
   ]
  },
  {
   "cell_type": "markdown",
   "id": "4e6265d9-56bf-452c-b4f2-9c56548823c9",
   "metadata": {},
   "source": [
    "### Manifold"
   ]
  },
  {
   "cell_type": "code",
   "execution_count": 23,
   "id": "d85ebd7d-41f7-470f-b21d-d158f95f0a07",
   "metadata": {
    "scrolled": true
   },
   "outputs": [
    {
     "name": "stdout",
     "output_type": "stream",
     "text": [
      "RMSE:  tensor(0.0977, device='cuda:0')\n",
      "NLL:  tensor(-0.7909, device='cuda:0')\n"
     ]
    }
   ],
   "source": [
    "with torch.no_grad(), gpytorch.settings.fast_pred_var(), gpytorch.settings.cg_tolerance(10000):\n",
    "    error = test_y - model.mean(\"manifold\")\n",
    "    covar = model.posterior_manifold.lazy_covariance_matrix.evaluate_kernel()\n",
    "    inv_quad, logdet = covar.inv_quad_logdet(inv_quad_rhs=error.unsqueeze(-1), logdet=True)\n",
    "    rmse = (error.square().mean()).sqrt()\n",
    "    nll = 0.5 * sum([inv_quad, logdet, error.size(-1)* np.log(2 * np.pi)])/error.size(-1)\n",
    "print(\"RMSE: \", rmse)\n",
    "print(\"NLL: \", nll)\n",
    "model._clear_cache()\n",
    "model_vanilla._clear_cache()\n",
    "torch.cuda.empty_cache()"
   ]
  },
  {
   "cell_type": "markdown",
   "id": "bed719f4-a006-435d-8cba-c44d278cdc1f",
   "metadata": {},
   "source": [
    "### Hybrid"
   ]
  },
  {
   "cell_type": "code",
   "execution_count": 24,
   "id": "cb3c4849-03f1-4931-bfea-0a630bcb82f8",
   "metadata": {},
   "outputs": [
    {
     "name": "stdout",
     "output_type": "stream",
     "text": [
      "RMSE:  tensor(0.0977, device='cuda:0')\n",
      "NLL:  tensor(-0.7865, device='cuda:0')\n"
     ]
    }
   ],
   "source": [
    "with torch.no_grad(), gpytorch.settings.fast_pred_var(), gpytorch.settings.cg_tolerance(10000):\n",
    "    error = test_y - model.mean(\"hybrid\")\n",
    "    covar = model.posterior_manifold.lazy_covariance_matrix.evaluate_kernel() \n",
    "    + torch.outer(bump_scale,bump_scale) * model.posterior_vanilla.lazy_covariance_matrix.evaluate_kernel()\n",
    "    inv_quad, logdet = covar.inv_quad_logdet(inv_quad_rhs=error.unsqueeze(-1), logdet=True)\n",
    "    rmse = (error.square().mean()).sqrt()\n",
    "    nll = 0.5 * sum([inv_quad, logdet, error.size(-1)* np.log(2 * np.pi)])/error.size(-1)\n",
    "print(\"RMSE: \", rmse)\n",
    "print(\"NLL: \", nll)\n",
    "model._clear_cache()\n",
    "model_vanilla._clear_cache()\n",
    "torch.cuda.empty_cache()"
   ]
  },
  {
   "cell_type": "code",
   "execution_count": null,
   "id": "f37bd795-487c-4abe-979a-071bd24d85e0",
   "metadata": {},
   "outputs": [],
   "source": []
  }
 ],
 "metadata": {
  "kernelspec": {
   "display_name": "Python 3 (ipykernel)",
   "language": "python",
   "name": "python3"
  },
  "language_info": {
   "codemirror_mode": {
    "name": "ipython",
    "version": 3
   },
   "file_extension": ".py",
   "mimetype": "text/x-python",
   "name": "python",
   "nbconvert_exporter": "python",
   "pygments_lexer": "ipython3",
   "version": "3.10.12"
  },
  "vscode": {
   "interpreter": {
    "hash": "916dbcbb3f70747c44a77c7bcd40155683ae19c65e1c03b4aa3499c5328201f1"
   }
  }
 },
 "nbformat": 4,
 "nbformat_minor": 5
}
