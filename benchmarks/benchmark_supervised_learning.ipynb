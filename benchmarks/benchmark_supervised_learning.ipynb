{
 "cells": [
  {
   "cell_type": "markdown",
   "id": "5e276dbe",
   "metadata": {},
   "source": [
    "# Manifold GP Supervised Learning via Precision Matrix on 1D Manifold"
   ]
  },
  {
   "cell_type": "markdown",
   "id": "a36444a5",
   "metadata": {},
   "source": [
    "## Preamble"
   ]
  },
  {
   "cell_type": "markdown",
   "id": "01d17d1f",
   "metadata": {},
   "source": [
    "This notebook provides an example of how to perform Gaussian Process Regression on a 1D manifold. In this example we consider a supervised learning scenario, namely the number of labeled data points is equivalent to the number of the sampled points from the underlying manifold."
   ]
  },
  {
   "cell_type": "code",
   "execution_count": 1,
   "id": "58e9afd1",
   "metadata": {},
   "outputs": [],
   "source": [
    "import torch\n",
    "import gpytorch\n",
    "import numpy as np\n",
    "import os\n",
    "import scipy.spatial as ss\n",
    "\n",
    "from manifold_gp.kernels.riemann_matern_kernel import RiemannMaternKernel\n",
    "from manifold_gp.models.riemann_gp import RiemannGP\n",
    "from gpytorch.priors import NormalPrior, GammaPrior"
   ]
  },
  {
   "cell_type": "markdown",
   "id": "75701656",
   "metadata": {},
   "source": [
    "## Dataset Preprocessing"
   ]
  },
  {
   "cell_type": "markdown",
   "id": "02483bf0",
   "metadata": {},
   "source": [
    "### Load & Settings"
   ]
  },
  {
   "cell_type": "code",
   "execution_count": 2,
   "id": "af216c23",
   "metadata": {},
   "outputs": [],
   "source": [
    "dataset = 'protein' # ['protein','elevators', 'ctslice']\n",
    "cut = 10000\n",
    "\n",
    "if dataset == 'protein':\n",
    "    data = np.loadtxt('datasets/protein.csv', delimiter=\",\")[:cut]\n",
    "    sampled_x, sampled_y = data[:, 1:], data[:, 0]\n",
    "elif dataset == 'elevators':\n",
    "    data = np.array(loadmat('datasets/elevators.mat')['data'])\n",
    "    sampled_x, sampled_y = data[:, :-1], data[:, -1]\n",
    "elif dataset == 'ctslice':\n",
    "    data = np.loadtxt('datasets/ctslice.csv', delimiter=\",\")[:cut]\n",
    "    sampled_x, sampled_y = data[:, :-1], data[:, -1]\n",
    "    \n",
    "# remove coincident points\n",
    "sampled_x, id_unique = np.unique(sampled_x, axis=0, return_index=True)\n",
    "sampled_y = sampled_y[id_unique]\n",
    "\n",
    "# cut between 0.01 and 0.99 quantile of distances\n",
    "kd_tree = ss.KDTree(sampled_x)\n",
    "v = kd_tree.query(sampled_x, k=2)[0][:, 1]\n",
    "idx = np.argsort(v)\n",
    "percentile_start = int(np.round(idx.shape[0]*0.10))\n",
    "percentile_end = int(np.round(idx.shape[0]*0.90))\n",
    "sampled_x = sampled_x[idx[percentile_start:percentile_end], :]\n",
    "sampled_y = sampled_y[idx[percentile_start:percentile_end]]\n",
    "m = sampled_x.shape[0]\n",
    "\n",
    "normalize_features = True\n",
    "normalize_labels = True"
   ]
  },
  {
   "cell_type": "markdown",
   "id": "972edfe4",
   "metadata": {},
   "source": [
    "### Trainset & Testset"
   ]
  },
  {
   "cell_type": "code",
   "execution_count": 3,
   "id": "cc4d77e2",
   "metadata": {},
   "outputs": [],
   "source": [
    "split = int(0.2 * m)\n",
    "\n",
    "train_x, train_y = sampled_x[:split], sampled_y[:split]\n",
    "test_x, test_y = sampled_x[split:], sampled_y[split:]\n",
    "\n",
    "train_x = torch.from_numpy(train_x).float()\n",
    "train_y = torch.from_numpy(train_y).float()\n",
    "test_x = torch.from_numpy(test_x).float()\n",
    "test_y = torch.from_numpy(test_y).float()\n",
    "\n",
    "if normalize_features:\n",
    "    mu_x, std_x = train_x.mean(dim=-2, keepdim=True), train_x.std(dim=-2, keepdim=True) + 1e-6\n",
    "    train_x.sub_(mu_x).div_(std_x)\n",
    "    test_x.sub_(mu_x).div_(std_x)\n",
    "    \n",
    "if normalize_labels:\n",
    "    mu_y, std_y = train_y.mean(), train_y.std()\n",
    "    train_y.sub_(mu_y).div_(std_y)\n",
    "    test_y.sub_(mu_y).div_(std_y)"
   ]
  },
  {
   "cell_type": "markdown",
   "id": "e0ec761d",
   "metadata": {},
   "source": [
    "### Hyperparameters Priors"
   ]
  },
  {
   "cell_type": "code",
   "execution_count": 4,
   "id": "18015f9f",
   "metadata": {},
   "outputs": [],
   "source": [
    "import scipy.spatial as ss\n",
    "neighbors = 10\n",
    "kd_tree = ss.KDTree(train_x)\n",
    "v = np.sort(kd_tree.query(train_x, k=neighbors+1)[0][:, 1:].ravel())\n",
    "percentile_99 = int(np.round(v.shape[0]*0.99))\n",
    "gamma_rate = 100.0/np.std(v)\n",
    "gamma_concentration = gamma_rate * v[percentile_99] + 1"
   ]
  },
  {
   "cell_type": "markdown",
   "id": "b87581de",
   "metadata": {},
   "source": [
    "### Move Data to Device"
   ]
  },
  {
   "cell_type": "code",
   "execution_count": 5,
   "id": "d1c91b4b",
   "metadata": {},
   "outputs": [],
   "source": [
    "train_x, train_y = train_x.contiguous(), train_y.contiguous()\n",
    "test_x, test_y = test_x.contiguous(), test_y.contiguous()\n",
    "\n",
    "use_cuda = torch.cuda.is_available()\n",
    "device = torch.device(\"cuda\" if use_cuda else \"cpu\")\n",
    "train_x, train_y = train_x.to(device), train_y.to(device)\n",
    "test_x, test_y = test_x.to(device), test_y.to(device)"
   ]
  },
  {
   "cell_type": "markdown",
   "id": "405d4275",
   "metadata": {},
   "source": [
    "## Model"
   ]
  },
  {
   "cell_type": "code",
   "execution_count": 6,
   "id": "83460075",
   "metadata": {},
   "outputs": [],
   "source": [
    "%%capture\n",
    "likelihood = gpytorch.likelihoods.GaussianLikelihood(\n",
    "    noise_constraint=gpytorch.constraints.GreaterThan(1e-8),\n",
    "    noise_prior=None  # NormalPrior(torch.tensor([0.0]).to(device),  torch.tensor([1/9]).sqrt().to(device))\n",
    ")\n",
    "\n",
    "kernel = gpytorch.kernels.ScaleKernel(\n",
    "    RiemannMaternKernel(\n",
    "        nu=3,\n",
    "        nodes=train_x,\n",
    "        neighbors=50,\n",
    "        operator=\"randomwalk\",\n",
    "        modes=200,\n",
    "        ball_scale=3.0,\n",
    "        support_kernel=gpytorch.kernels.RBFKernel(),\n",
    "        epsilon_prior=GammaPrior(gamma_concentration, gamma_rate),\n",
    "        lengthscale_prior=None  # InverseGammaPrior(igamma_concentration, igamma_rate)\n",
    "    ),\n",
    "    outputscale_prior=None  # NormalPrior(torch.tensor([1.0]).to(device),  torch.tensor([1/9]).sqrt().to(device))\n",
    ")\n",
    "\n",
    "model = RiemannGP(train_x, train_y, likelihood, kernel).to(device)"
   ]
  },
  {
   "cell_type": "markdown",
   "id": "8b14763b",
   "metadata": {},
   "source": [
    "## Train"
   ]
  },
  {
   "cell_type": "code",
   "execution_count": 7,
   "id": "357e1dd2",
   "metadata": {},
   "outputs": [],
   "source": [
    "%%capture\n",
    "hypers = {\n",
    "    'likelihood.noise_covar.noise': 1e-2,\n",
    "    'covar_module.base_kernel.epsilon': 0.5,\n",
    "    'covar_module.base_kernel.lengthscale': 0.5,\n",
    "    'covar_module.outputscale': 1.0,\n",
    "    'covar_module.base_kernel.support_kernel.lengthscale': 1.0,\n",
    "}\n",
    "model.initialize(**hypers)"
   ]
  },
  {
   "cell_type": "code",
   "execution_count": 8,
   "id": "7bb0ab30",
   "metadata": {
    "scrolled": true
   },
   "outputs": [
    {
     "name": "stdout",
     "output_type": "stream",
     "text": [
      "Iter: 0, LR: 0.010, Loss: 6321.388, NoiseVar: 0.010, SignalVar: 38601.328, Lengthscale: 0.500, Epsilon: 0.500\n",
      "Iter: 1, LR: 0.010, Loss: 6011.245, NoiseVar: 0.010, SignalVar: 38601.340, Lengthscale: 0.504, Epsilon: 0.496\n",
      "Iter: 2, LR: 0.010, Loss: 5725.534, NoiseVar: 0.010, SignalVar: 38601.352, Lengthscale: 0.508, Epsilon: 0.492\n",
      "Iter: 3, LR: 0.010, Loss: 5451.588, NoiseVar: 0.010, SignalVar: 38601.363, Lengthscale: 0.512, Epsilon: 0.488\n",
      "Iter: 4, LR: 0.010, Loss: 5197.344, NoiseVar: 0.010, SignalVar: 38601.375, Lengthscale: 0.516, Epsilon: 0.485\n",
      "Iter: 5, LR: 0.010, Loss: 4943.492, NoiseVar: 0.011, SignalVar: 38601.387, Lengthscale: 0.520, Epsilon: 0.481\n",
      "Iter: 6, LR: 0.010, Loss: 4727.778, NoiseVar: 0.011, SignalVar: 38601.398, Lengthscale: 0.524, Epsilon: 0.477\n",
      "Iter: 7, LR: 0.010, Loss: 4494.203, NoiseVar: 0.011, SignalVar: 38601.406, Lengthscale: 0.528, Epsilon: 0.473\n",
      "Iter: 8, LR: 0.010, Loss: 4299.874, NoiseVar: 0.011, SignalVar: 38601.414, Lengthscale: 0.532, Epsilon: 0.470\n",
      "Iter: 9, LR: 0.010, Loss: 4114.370, NoiseVar: 0.011, SignalVar: 38601.422, Lengthscale: 0.536, Epsilon: 0.466\n",
      "Iter: 10, LR: 0.010, Loss: 3927.051, NoiseVar: 0.011, SignalVar: 38601.430, Lengthscale: 0.540, Epsilon: 0.463\n",
      "Iter: 11, LR: 0.010, Loss: 3777.017, NoiseVar: 0.011, SignalVar: 38601.438, Lengthscale: 0.544, Epsilon: 0.459\n",
      "Iter: 12, LR: 0.010, Loss: 3613.636, NoiseVar: 0.011, SignalVar: 38601.445, Lengthscale: 0.547, Epsilon: 0.456\n",
      "Iter: 13, LR: 0.010, Loss: 3490.344, NoiseVar: 0.011, SignalVar: 38601.453, Lengthscale: 0.551, Epsilon: 0.452\n",
      "Iter: 14, LR: 0.010, Loss: 3346.319, NoiseVar: 0.011, SignalVar: 38601.461, Lengthscale: 0.555, Epsilon: 0.449\n",
      "Iter: 15, LR: 0.010, Loss: 3209.955, NoiseVar: 0.011, SignalVar: 38601.469, Lengthscale: 0.559, Epsilon: 0.446\n",
      "Iter: 16, LR: 0.010, Loss: 3089.013, NoiseVar: 0.012, SignalVar: 38601.477, Lengthscale: 0.563, Epsilon: 0.443\n",
      "Iter: 17, LR: 0.010, Loss: 2986.358, NoiseVar: 0.012, SignalVar: 38601.484, Lengthscale: 0.566, Epsilon: 0.440\n",
      "Iter: 18, LR: 0.010, Loss: 2883.005, NoiseVar: 0.012, SignalVar: 38601.492, Lengthscale: 0.570, Epsilon: 0.437\n",
      "Iter: 19, LR: 0.010, Loss: 2796.049, NoiseVar: 0.012, SignalVar: 38601.500, Lengthscale: 0.573, Epsilon: 0.434\n",
      "Iter: 20, LR: 0.010, Loss: 2707.484, NoiseVar: 0.012, SignalVar: 38601.508, Lengthscale: 0.577, Epsilon: 0.431\n",
      "Iter: 21, LR: 0.010, Loss: 2624.418, NoiseVar: 0.012, SignalVar: 38601.516, Lengthscale: 0.580, Epsilon: 0.429\n",
      "Iter: 22, LR: 0.010, Loss: 2541.188, NoiseVar: 0.012, SignalVar: 38601.523, Lengthscale: 0.584, Epsilon: 0.426\n",
      "Iter: 23, LR: 0.010, Loss: 2472.114, NoiseVar: 0.012, SignalVar: 38601.531, Lengthscale: 0.587, Epsilon: 0.423\n",
      "Iter: 24, LR: 0.010, Loss: 2389.014, NoiseVar: 0.012, SignalVar: 38601.539, Lengthscale: 0.590, Epsilon: 0.421\n",
      "Iter: 25, LR: 0.010, Loss: 2340.181, NoiseVar: 0.012, SignalVar: 38601.547, Lengthscale: 0.593, Epsilon: 0.419\n",
      "Iter: 26, LR: 0.010, Loss: 2270.013, NoiseVar: 0.012, SignalVar: 38601.555, Lengthscale: 0.597, Epsilon: 0.416\n",
      "Iter: 27, LR: 0.010, Loss: 2225.702, NoiseVar: 0.012, SignalVar: 38601.562, Lengthscale: 0.600, Epsilon: 0.414\n",
      "Iter: 28, LR: 0.010, Loss: 2180.812, NoiseVar: 0.013, SignalVar: 38601.570, Lengthscale: 0.603, Epsilon: 0.412\n",
      "Iter: 29, LR: 0.010, Loss: 2124.604, NoiseVar: 0.013, SignalVar: 38601.578, Lengthscale: 0.606, Epsilon: 0.410\n",
      "Iter: 30, LR: 0.010, Loss: 2087.556, NoiseVar: 0.013, SignalVar: 38601.586, Lengthscale: 0.608, Epsilon: 0.408\n",
      "Iter: 31, LR: 0.010, Loss: 2054.067, NoiseVar: 0.013, SignalVar: 38601.594, Lengthscale: 0.611, Epsilon: 0.406\n",
      "Iter: 32, LR: 0.010, Loss: 2012.084, NoiseVar: 0.013, SignalVar: 38601.602, Lengthscale: 0.614, Epsilon: 0.404\n",
      "Iter: 33, LR: 0.010, Loss: 1965.960, NoiseVar: 0.013, SignalVar: 38601.609, Lengthscale: 0.617, Epsilon: 0.402\n",
      "Iter: 34, LR: 0.010, Loss: 1937.964, NoiseVar: 0.013, SignalVar: 38601.617, Lengthscale: 0.619, Epsilon: 0.400\n",
      "Iter: 35, LR: 0.010, Loss: 1913.001, NoiseVar: 0.013, SignalVar: 38601.625, Lengthscale: 0.622, Epsilon: 0.399\n",
      "Iter: 36, LR: 0.010, Loss: 1876.116, NoiseVar: 0.013, SignalVar: 38601.633, Lengthscale: 0.624, Epsilon: 0.397\n",
      "Iter: 37, LR: 0.010, Loss: 1854.274, NoiseVar: 0.013, SignalVar: 38601.637, Lengthscale: 0.627, Epsilon: 0.396\n",
      "Iter: 38, LR: 0.010, Loss: 1836.944, NoiseVar: 0.013, SignalVar: 38601.641, Lengthscale: 0.629, Epsilon: 0.394\n",
      "Iter: 39, LR: 0.010, Loss: 1805.044, NoiseVar: 0.013, SignalVar: 38601.645, Lengthscale: 0.632, Epsilon: 0.393\n",
      "Iter: 40, LR: 0.010, Loss: 1783.948, NoiseVar: 0.013, SignalVar: 38601.648, Lengthscale: 0.634, Epsilon: 0.391\n",
      "Iter: 41, LR: 0.010, Loss: 1745.557, NoiseVar: 0.013, SignalVar: 38601.652, Lengthscale: 0.636, Epsilon: 0.390\n",
      "Iter: 42, LR: 0.010, Loss: 1758.853, NoiseVar: 0.013, SignalVar: 38601.656, Lengthscale: 0.638, Epsilon: 0.389\n",
      "Iter: 43, LR: 0.010, Loss: 1714.870, NoiseVar: 0.013, SignalVar: 38601.660, Lengthscale: 0.640, Epsilon: 0.388\n",
      "Iter: 44, LR: 0.010, Loss: 1714.913, NoiseVar: 0.013, SignalVar: 38601.664, Lengthscale: 0.643, Epsilon: 0.387\n",
      "Iter: 45, LR: 0.010, Loss: 1693.595, NoiseVar: 0.013, SignalVar: 38601.668, Lengthscale: 0.645, Epsilon: 0.385\n",
      "Iter: 46, LR: 0.010, Loss: 1678.632, NoiseVar: 0.013, SignalVar: 38601.672, Lengthscale: 0.647, Epsilon: 0.384\n",
      "Iter: 47, LR: 0.010, Loss: 1668.693, NoiseVar: 0.014, SignalVar: 38601.676, Lengthscale: 0.649, Epsilon: 0.383\n",
      "Iter: 48, LR: 0.010, Loss: 1630.663, NoiseVar: 0.014, SignalVar: 38601.680, Lengthscale: 0.650, Epsilon: 0.383\n",
      "Iter: 49, LR: 0.010, Loss: 1621.538, NoiseVar: 0.014, SignalVar: 38601.684, Lengthscale: 0.652, Epsilon: 0.382\n",
      "Iter: 50, LR: 0.010, Loss: 1615.829, NoiseVar: 0.014, SignalVar: 38601.688, Lengthscale: 0.654, Epsilon: 0.381\n",
      "Iter: 51, LR: 0.010, Loss: 1599.394, NoiseVar: 0.014, SignalVar: 38601.691, Lengthscale: 0.656, Epsilon: 0.380\n",
      "Iter: 52, LR: 0.010, Loss: 1607.239, NoiseVar: 0.014, SignalVar: 38601.695, Lengthscale: 0.658, Epsilon: 0.379\n",
      "Iter: 53, LR: 0.010, Loss: 1581.735, NoiseVar: 0.014, SignalVar: 38601.699, Lengthscale: 0.659, Epsilon: 0.378\n",
      "Iter: 54, LR: 0.010, Loss: 1590.926, NoiseVar: 0.014, SignalVar: 38601.703, Lengthscale: 0.661, Epsilon: 0.378\n",
      "Iter: 55, LR: 0.010, Loss: 1578.030, NoiseVar: 0.014, SignalVar: 38601.707, Lengthscale: 0.663, Epsilon: 0.377\n",
      "Iter: 56, LR: 0.010, Loss: 1566.757, NoiseVar: 0.014, SignalVar: 38601.711, Lengthscale: 0.664, Epsilon: 0.377\n",
      "Iter: 57, LR: 0.010, Loss: 1555.268, NoiseVar: 0.014, SignalVar: 38601.715, Lengthscale: 0.666, Epsilon: 0.376\n",
      "Iter: 58, LR: 0.010, Loss: 1546.773, NoiseVar: 0.014, SignalVar: 38601.719, Lengthscale: 0.667, Epsilon: 0.375\n",
      "Iter: 59, LR: 0.010, Loss: 1532.467, NoiseVar: 0.014, SignalVar: 38601.723, Lengthscale: 0.669, Epsilon: 0.375\n",
      "Iter: 60, LR: 0.010, Loss: 1532.785, NoiseVar: 0.014, SignalVar: 38601.727, Lengthscale: 0.670, Epsilon: 0.374\n",
      "Iter: 61, LR: 0.010, Loss: 1510.052, NoiseVar: 0.014, SignalVar: 38601.730, Lengthscale: 0.672, Epsilon: 0.374\n",
      "Iter: 62, LR: 0.010, Loss: 1500.018, NoiseVar: 0.014, SignalVar: 38601.734, Lengthscale: 0.673, Epsilon: 0.374\n",
      "Iter: 63, LR: 0.010, Loss: 1510.143, NoiseVar: 0.014, SignalVar: 38601.738, Lengthscale: 0.675, Epsilon: 0.373\n",
      "Iter: 64, LR: 0.010, Loss: 1510.831, NoiseVar: 0.014, SignalVar: 38601.742, Lengthscale: 0.676, Epsilon: 0.373\n",
      "Iter: 65, LR: 0.010, Loss: 1499.422, NoiseVar: 0.014, SignalVar: 38601.746, Lengthscale: 0.678, Epsilon: 0.373\n",
      "Iter: 66, LR: 0.010, Loss: 1484.391, NoiseVar: 0.014, SignalVar: 38601.750, Lengthscale: 0.679, Epsilon: 0.372\n",
      "Iter: 67, LR: 0.010, Loss: 1478.905, NoiseVar: 0.014, SignalVar: 38601.754, Lengthscale: 0.680, Epsilon: 0.372\n",
      "Iter: 68, LR: 0.010, Loss: 1467.742, NoiseVar: 0.014, SignalVar: 38601.758, Lengthscale: 0.682, Epsilon: 0.372\n",
      "Iter: 69, LR: 0.010, Loss: 1473.749, NoiseVar: 0.014, SignalVar: 38601.762, Lengthscale: 0.683, Epsilon: 0.372\n",
      "Iter: 70, LR: 0.010, Loss: 1460.847, NoiseVar: 0.014, SignalVar: 38601.766, Lengthscale: 0.684, Epsilon: 0.371\n",
      "Iter: 71, LR: 0.010, Loss: 1456.264, NoiseVar: 0.014, SignalVar: 38601.770, Lengthscale: 0.685, Epsilon: 0.371\n",
      "Iter: 72, LR: 0.010, Loss: 1457.690, NoiseVar: 0.014, SignalVar: 38601.773, Lengthscale: 0.687, Epsilon: 0.371\n",
      "Iter: 73, LR: 0.010, Loss: 1465.186, NoiseVar: 0.014, SignalVar: 38601.777, Lengthscale: 0.688, Epsilon: 0.371\n",
      "Iter: 74, LR: 0.010, Loss: 1452.920, NoiseVar: 0.014, SignalVar: 38601.781, Lengthscale: 0.689, Epsilon: 0.371\n"
     ]
    },
    {
     "name": "stdout",
     "output_type": "stream",
     "text": [
      "Iter: 75, LR: 0.010, Loss: 1442.481, NoiseVar: 0.014, SignalVar: 38601.785, Lengthscale: 0.690, Epsilon: 0.371\n",
      "Iter: 76, LR: 0.010, Loss: 1449.238, NoiseVar: 0.014, SignalVar: 38601.789, Lengthscale: 0.691, Epsilon: 0.371\n",
      "Iter: 77, LR: 0.010, Loss: 1441.552, NoiseVar: 0.014, SignalVar: 38601.793, Lengthscale: 0.692, Epsilon: 0.370\n",
      "Iter: 78, LR: 0.010, Loss: 1449.138, NoiseVar: 0.014, SignalVar: 38601.797, Lengthscale: 0.694, Epsilon: 0.370\n",
      "Iter: 79, LR: 0.010, Loss: 1426.109, NoiseVar: 0.014, SignalVar: 38601.801, Lengthscale: 0.695, Epsilon: 0.370\n",
      "Iter: 80, LR: 0.010, Loss: 1438.204, NoiseVar: 0.014, SignalVar: 38601.805, Lengthscale: 0.696, Epsilon: 0.370\n",
      "Iter: 81, LR: 0.010, Loss: 1428.155, NoiseVar: 0.014, SignalVar: 38601.809, Lengthscale: 0.697, Epsilon: 0.370\n",
      "Iter: 82, LR: 0.010, Loss: 1420.219, NoiseVar: 0.014, SignalVar: 38601.812, Lengthscale: 0.698, Epsilon: 0.370\n",
      "Iter: 83, LR: 0.010, Loss: 1416.422, NoiseVar: 0.014, SignalVar: 38601.816, Lengthscale: 0.699, Epsilon: 0.371\n",
      "Iter: 84, LR: 0.010, Loss: 1415.503, NoiseVar: 0.014, SignalVar: 38601.820, Lengthscale: 0.700, Epsilon: 0.371\n",
      "Iter: 85, LR: 0.010, Loss: 1407.648, NoiseVar: 0.014, SignalVar: 38601.824, Lengthscale: 0.701, Epsilon: 0.371\n",
      "Iter: 86, LR: 0.010, Loss: 1409.446, NoiseVar: 0.015, SignalVar: 38601.828, Lengthscale: 0.702, Epsilon: 0.371\n",
      "Iter: 87, LR: 0.010, Loss: 1394.122, NoiseVar: 0.015, SignalVar: 38601.832, Lengthscale: 0.703, Epsilon: 0.371\n",
      "Iter: 88, LR: 0.010, Loss: 1419.232, NoiseVar: 0.015, SignalVar: 38601.836, Lengthscale: 0.704, Epsilon: 0.371\n",
      "Iter: 89, LR: 0.010, Loss: 1373.397, NoiseVar: 0.015, SignalVar: 38601.840, Lengthscale: 0.705, Epsilon: 0.371\n",
      "Iter: 90, LR: 0.010, Loss: 1389.249, NoiseVar: 0.015, SignalVar: 38601.844, Lengthscale: 0.706, Epsilon: 0.371\n",
      "Iter: 91, LR: 0.010, Loss: 1388.286, NoiseVar: 0.015, SignalVar: 38601.848, Lengthscale: 0.707, Epsilon: 0.372\n",
      "Iter: 92, LR: 0.010, Loss: 1397.689, NoiseVar: 0.015, SignalVar: 38601.852, Lengthscale: 0.708, Epsilon: 0.372\n",
      "Iter: 93, LR: 0.010, Loss: 1385.509, NoiseVar: 0.015, SignalVar: 38601.855, Lengthscale: 0.709, Epsilon: 0.372\n",
      "Iter: 94, LR: 0.010, Loss: 1395.078, NoiseVar: 0.015, SignalVar: 38601.859, Lengthscale: 0.710, Epsilon: 0.372\n",
      "Iter: 95, LR: 0.010, Loss: 1377.996, NoiseVar: 0.015, SignalVar: 38601.863, Lengthscale: 0.711, Epsilon: 0.373\n",
      "Iter: 96, LR: 0.010, Loss: 1383.146, NoiseVar: 0.015, SignalVar: 38601.867, Lengthscale: 0.712, Epsilon: 0.373\n",
      "Iter: 97, LR: 0.010, Loss: 1372.696, NoiseVar: 0.015, SignalVar: 38601.871, Lengthscale: 0.713, Epsilon: 0.373\n",
      "Iter: 98, LR: 0.010, Loss: 1357.860, NoiseVar: 0.015, SignalVar: 38601.875, Lengthscale: 0.714, Epsilon: 0.373\n",
      "Iter: 99, LR: 0.010, Loss: 1371.995, NoiseVar: 0.015, SignalVar: 38601.879, Lengthscale: 0.715, Epsilon: 0.374\n"
     ]
    }
   ],
   "source": [
    "model.manifold_informed_train(lr=1e-2, iter=100, verbose=True)"
   ]
  },
  {
   "cell_type": "code",
   "execution_count": 9,
   "id": "7c5f1784",
   "metadata": {},
   "outputs": [
    {
     "name": "stdout",
     "output_type": "stream",
     "text": [
      "Iter: 0, LR: 0.100, Loss: 1996.456, NoiseVar: 0.015, SignalVar: 19353.910, Lengthscale: 0.716, Epsilon: 0.374\n",
      "Iter: 1, LR: 0.100, Loss: 1636.002, NoiseVar: 0.016, SignalVar: 19354.010, Lengthscale: 0.768, Epsilon: 0.344\n",
      "Iter: 2, LR: 0.100, Loss: 1484.708, NoiseVar: 0.018, SignalVar: 19354.105, Lengthscale: 0.820, Epsilon: 0.331\n",
      "Iter: 3, LR: 0.100, Loss: 1400.689, NoiseVar: 0.020, SignalVar: 19354.195, Lengthscale: 0.869, Epsilon: 0.338\n",
      "Iter: 4, LR: 0.100, Loss: 1299.514, NoiseVar: 0.021, SignalVar: 19354.279, Lengthscale: 0.917, Epsilon: 0.354\n",
      "Iter: 5, LR: 0.100, Loss: 1264.104, NoiseVar: 0.023, SignalVar: 19354.355, Lengthscale: 0.960, Epsilon: 0.375\n",
      "Iter: 6, LR: 0.100, Loss: 1212.696, NoiseVar: 0.024, SignalVar: 19354.424, Lengthscale: 1.000, Epsilon: 0.400\n",
      "Iter: 7, LR: 0.100, Loss: 1196.493, NoiseVar: 0.026, SignalVar: 19354.482, Lengthscale: 1.036, Epsilon: 0.427\n",
      "Iter: 8, LR: 0.100, Loss: 1175.473, NoiseVar: 0.027, SignalVar: 19354.531, Lengthscale: 1.066, Epsilon: 0.457\n",
      "Iter: 9, LR: 0.100, Loss: 1163.990, NoiseVar: 0.029, SignalVar: 19354.568, Lengthscale: 1.091, Epsilon: 0.489\n",
      "Iter: 10, LR: 0.100, Loss: 1178.343, NoiseVar: 0.030, SignalVar: 19354.594, Lengthscale: 1.110, Epsilon: 0.521\n",
      "Iter: 11, LR: 0.100, Loss: 1177.953, NoiseVar: 0.031, SignalVar: 19354.609, Lengthscale: 1.123, Epsilon: 0.554\n",
      "Iter: 12, LR: 0.100, Loss: 1183.119, NoiseVar: 0.032, SignalVar: 19354.613, Lengthscale: 1.131, Epsilon: 0.587\n",
      "Iter: 13, LR: 0.100, Loss: 1167.099, NoiseVar: 0.032, SignalVar: 19354.607, Lengthscale: 1.132, Epsilon: 0.620\n",
      "Iter: 14, LR: 0.100, Loss: 1169.329, NoiseVar: 0.033, SignalVar: 19354.592, Lengthscale: 1.127, Epsilon: 0.653\n",
      "Iter: 15, LR: 0.100, Loss: 1147.174, NoiseVar: 0.033, SignalVar: 19354.568, Lengthscale: 1.118, Epsilon: 0.685\n",
      "Iter: 16, LR: 0.100, Loss: 1114.547, NoiseVar: 0.033, SignalVar: 19354.539, Lengthscale: 1.103, Epsilon: 0.717\n",
      "Iter: 17, LR: 0.100, Loss: 1080.221, NoiseVar: 0.034, SignalVar: 19354.504, Lengthscale: 1.084, Epsilon: 0.749\n",
      "Iter: 18, LR: 0.100, Loss: 1040.148, NoiseVar: 0.034, SignalVar: 19354.465, Lengthscale: 1.062, Epsilon: 0.782\n",
      "Iter: 19, LR: 0.100, Loss: 1004.269, NoiseVar: 0.034, SignalVar: 19354.422, Lengthscale: 1.037, Epsilon: 0.815\n",
      "Iter: 20, LR: 0.100, Loss: 962.330, NoiseVar: 0.033, SignalVar: 19354.377, Lengthscale: 1.011, Epsilon: 0.850\n",
      "Iter: 21, LR: 0.100, Loss: 926.273, NoiseVar: 0.033, SignalVar: 19354.330, Lengthscale: 0.984, Epsilon: 0.887\n",
      "Iter: 22, LR: 0.100, Loss: 914.228, NoiseVar: 0.033, SignalVar: 19354.285, Lengthscale: 0.958, Epsilon: 0.925\n",
      "Iter: 23, LR: 0.100, Loss: 897.797, NoiseVar: 0.033, SignalVar: 19354.242, Lengthscale: 0.933, Epsilon: 0.965\n",
      "Iter: 24, LR: 0.100, Loss: 896.063, NoiseVar: 0.033, SignalVar: 19354.203, Lengthscale: 0.912, Epsilon: 1.006\n",
      "Iter: 25, LR: 0.100, Loss: 900.608, NoiseVar: 0.032, SignalVar: 19354.172, Lengthscale: 0.896, Epsilon: 1.049\n",
      "Iter: 26, LR: 0.100, Loss: 909.813, NoiseVar: 0.032, SignalVar: 19354.148, Lengthscale: 0.887, Epsilon: 1.092\n",
      "Iter: 27, LR: 0.100, Loss: 905.475, NoiseVar: 0.033, SignalVar: 19354.135, Lengthscale: 0.884, Epsilon: 1.136\n",
      "Iter: 28, LR: 0.100, Loss: 891.414, NoiseVar: 0.033, SignalVar: 19354.129, Lengthscale: 0.888, Epsilon: 1.181\n",
      "Iter: 29, LR: 0.100, Loss: 869.676, NoiseVar: 0.034, SignalVar: 19354.131, Lengthscale: 0.897, Epsilon: 1.225\n",
      "Iter: 30, LR: 0.100, Loss: 848.989, NoiseVar: 0.034, SignalVar: 19354.137, Lengthscale: 0.909, Epsilon: 1.270\n",
      "Iter: 31, LR: 0.100, Loss: 829.043, NoiseVar: 0.035, SignalVar: 19354.146, Lengthscale: 0.924, Epsilon: 1.314\n",
      "Iter: 32, LR: 0.100, Loss: 822.359, NoiseVar: 0.035, SignalVar: 19354.156, Lengthscale: 0.939, Epsilon: 1.359\n",
      "Iter: 33, LR: 0.100, Loss: 814.451, NoiseVar: 0.036, SignalVar: 19354.166, Lengthscale: 0.954, Epsilon: 1.403\n",
      "Iter: 34, LR: 0.100, Loss: 819.772, NoiseVar: 0.037, SignalVar: 19354.174, Lengthscale: 0.966, Epsilon: 1.446\n",
      "Iter: 35, LR: 0.100, Loss: 818.188, NoiseVar: 0.037, SignalVar: 19354.178, Lengthscale: 0.976, Epsilon: 1.488\n",
      "Iter: 36, LR: 0.100, Loss: 821.087, NoiseVar: 0.037, SignalVar: 19354.178, Lengthscale: 0.981, Epsilon: 1.530\n",
      "Iter: 37, LR: 0.100, Loss: 821.134, NoiseVar: 0.038, SignalVar: 19354.174, Lengthscale: 0.983, Epsilon: 1.570\n",
      "Iter: 38, LR: 0.100, Loss: 815.414, NoiseVar: 0.038, SignalVar: 19354.166, Lengthscale: 0.981, Epsilon: 1.610\n",
      "Iter: 39, LR: 0.100, Loss: 808.613, NoiseVar: 0.038, SignalVar: 19354.154, Lengthscale: 0.976, Epsilon: 1.648\n",
      "Iter: 40, LR: 0.100, Loss: 798.109, NoiseVar: 0.038, SignalVar: 19354.139, Lengthscale: 0.968, Epsilon: 1.684\n",
      "Iter: 41, LR: 0.100, Loss: 794.927, NoiseVar: 0.037, SignalVar: 19354.121, Lengthscale: 0.958, Epsilon: 1.720\n",
      "Iter: 42, LR: 0.100, Loss: 791.294, NoiseVar: 0.037, SignalVar: 19354.104, Lengthscale: 0.948, Epsilon: 1.754\n",
      "Iter: 43, LR: 0.100, Loss: 787.520, NoiseVar: 0.037, SignalVar: 19354.086, Lengthscale: 0.938, Epsilon: 1.786\n",
      "Iter: 44, LR: 0.100, Loss: 788.538, NoiseVar: 0.037, SignalVar: 19354.070, Lengthscale: 0.929, Epsilon: 1.817\n",
      "Iter: 45, LR: 0.100, Loss: 790.888, NoiseVar: 0.037, SignalVar: 19354.059, Lengthscale: 0.923, Epsilon: 1.847\n",
      "Iter: 46, LR: 0.100, Loss: 793.548, NoiseVar: 0.037, SignalVar: 19354.049, Lengthscale: 0.920, Epsilon: 1.875\n",
      "Iter: 47, LR: 0.100, Loss: 794.196, NoiseVar: 0.037, SignalVar: 19354.043, Lengthscale: 0.919, Epsilon: 1.902\n",
      "Iter: 48, LR: 0.100, Loss: 789.065, NoiseVar: 0.037, SignalVar: 19354.041, Lengthscale: 0.921, Epsilon: 1.927\n",
      "Iter: 49, LR: 0.100, Loss: 789.568, NoiseVar: 0.037, SignalVar: 19354.043, Lengthscale: 0.926, Epsilon: 1.951\n",
      "Iter: 50, LR: 0.100, Loss: 783.648, NoiseVar: 0.037, SignalVar: 19354.045, Lengthscale: 0.932, Epsilon: 1.973\n",
      "Iter: 51, LR: 0.100, Loss: 785.201, NoiseVar: 0.037, SignalVar: 19354.049, Lengthscale: 0.939, Epsilon: 1.994\n",
      "Iter: 52, LR: 0.100, Loss: 783.735, NoiseVar: 0.038, SignalVar: 19354.053, Lengthscale: 0.946, Epsilon: 2.013\n",
      "Iter: 53, LR: 0.100, Loss: 784.042, NoiseVar: 0.038, SignalVar: 19354.055, Lengthscale: 0.951, Epsilon: 2.031\n",
      "Iter: 54, LR: 0.100, Loss: 784.185, NoiseVar: 0.038, SignalVar: 19354.055, Lengthscale: 0.955, Epsilon: 2.048\n",
      "Iter: 55, LR: 0.100, Loss: 786.269, NoiseVar: 0.038, SignalVar: 19354.053, Lengthscale: 0.957, Epsilon: 2.063\n",
      "Iter: 56, LR: 0.100, Loss: 785.172, NoiseVar: 0.038, SignalVar: 19354.049, Lengthscale: 0.957, Epsilon: 2.077\n",
      "Iter: 57, LR: 0.100, Loss: 784.490, NoiseVar: 0.038, SignalVar: 19354.043, Lengthscale: 0.955, Epsilon: 2.090\n",
      "Iter: 58, LR: 0.100, Loss: 784.001, NoiseVar: 0.038, SignalVar: 19354.035, Lengthscale: 0.952, Epsilon: 2.101\n",
      "Iter: 59, LR: 0.100, Loss: 784.480, NoiseVar: 0.038, SignalVar: 19354.027, Lengthscale: 0.948, Epsilon: 2.112\n",
      "Iter: 60, LR: 0.100, Loss: 783.542, NoiseVar: 0.038, SignalVar: 19354.020, Lengthscale: 0.943, Epsilon: 2.121\n",
      "Iter: 61, LR: 0.100, Loss: 782.590, NoiseVar: 0.037, SignalVar: 19354.012, Lengthscale: 0.940, Epsilon: 2.129\n",
      "Iter: 62, LR: 0.100, Loss: 783.923, NoiseVar: 0.037, SignalVar: 19354.004, Lengthscale: 0.936, Epsilon: 2.137\n",
      "Iter: 63, LR: 0.100, Loss: 783.486, NoiseVar: 0.037, SignalVar: 19353.998, Lengthscale: 0.934, Epsilon: 2.143\n",
      "Iter: 64, LR: 0.100, Loss: 784.090, NoiseVar: 0.037, SignalVar: 19353.994, Lengthscale: 0.933, Epsilon: 2.148\n",
      "Iter: 65, LR: 0.100, Loss: 783.614, NoiseVar: 0.037, SignalVar: 19353.992, Lengthscale: 0.933, Epsilon: 2.153\n",
      "Iter: 66, LR: 0.100, Loss: 782.633, NoiseVar: 0.037, SignalVar: 19353.990, Lengthscale: 0.934, Epsilon: 2.157\n",
      "Iter: 67, LR: 0.100, Loss: 786.441, NoiseVar: 0.037, SignalVar: 19353.990, Lengthscale: 0.937, Epsilon: 2.159\n",
      "Iter: 68, LR: 0.100, Loss: 782.867, NoiseVar: 0.037, SignalVar: 19353.990, Lengthscale: 0.940, Epsilon: 2.162\n",
      "Iter: 69, LR: 0.100, Loss: 786.186, NoiseVar: 0.037, SignalVar: 19353.990, Lengthscale: 0.943, Epsilon: 2.163\n",
      "Iter: 70, LR: 0.100, Loss: 783.752, NoiseVar: 0.037, SignalVar: 19353.990, Lengthscale: 0.946, Epsilon: 2.164\n",
      "Iter: 71, LR: 0.100, Loss: 783.204, NoiseVar: 0.037, SignalVar: 19353.990, Lengthscale: 0.948, Epsilon: 2.165\n",
      "Iter: 72, LR: 0.100, Loss: 782.072, NoiseVar: 0.037, SignalVar: 19353.988, Lengthscale: 0.949, Epsilon: 2.165\n",
      "Iter: 73, LR: 0.100, Loss: 782.901, NoiseVar: 0.037, SignalVar: 19353.986, Lengthscale: 0.949, Epsilon: 2.165\n",
      "Iter: 74, LR: 0.100, Loss: 783.824, NoiseVar: 0.037, SignalVar: 19353.982, Lengthscale: 0.949, Epsilon: 2.164\n",
      "Iter: 75, LR: 0.100, Loss: 784.155, NoiseVar: 0.037, SignalVar: 19353.979, Lengthscale: 0.947, Epsilon: 2.163\n",
      "Iter: 76, LR: 0.100, Loss: 782.998, NoiseVar: 0.037, SignalVar: 19353.973, Lengthscale: 0.945, Epsilon: 2.161\n",
      "Iter: 77, LR: 0.100, Loss: 785.316, NoiseVar: 0.037, SignalVar: 19353.967, Lengthscale: 0.943, Epsilon: 2.159\n",
      "Iter: 78, LR: 0.100, Loss: 783.058, NoiseVar: 0.037, SignalVar: 19353.961, Lengthscale: 0.941, Epsilon: 2.157\n",
      "Iter: 79, LR: 0.100, Loss: 782.672, NoiseVar: 0.037, SignalVar: 19353.957, Lengthscale: 0.940, Epsilon: 2.155\n"
     ]
    },
    {
     "name": "stdout",
     "output_type": "stream",
     "text": [
      "Iter: 80, LR: 0.100, Loss: 782.019, NoiseVar: 0.037, SignalVar: 19353.953, Lengthscale: 0.939, Epsilon: 2.152\n",
      "Iter: 81, LR: 0.100, Loss: 783.083, NoiseVar: 0.037, SignalVar: 19353.949, Lengthscale: 0.939, Epsilon: 2.150\n",
      "Iter: 82, LR: 0.100, Loss: 783.512, NoiseVar: 0.037, SignalVar: 19353.947, Lengthscale: 0.939, Epsilon: 2.147\n",
      "Iter: 83, LR: 0.100, Loss: 782.811, NoiseVar: 0.036, SignalVar: 19353.945, Lengthscale: 0.939, Epsilon: 2.144\n",
      "Iter: 84, LR: 0.100, Loss: 781.651, NoiseVar: 0.036, SignalVar: 19353.943, Lengthscale: 0.940, Epsilon: 2.141\n",
      "Iter: 85, LR: 0.100, Loss: 782.074, NoiseVar: 0.036, SignalVar: 19353.941, Lengthscale: 0.941, Epsilon: 2.137\n",
      "Iter: 86, LR: 0.100, Loss: 783.559, NoiseVar: 0.036, SignalVar: 19353.939, Lengthscale: 0.943, Epsilon: 2.134\n",
      "Iter: 87, LR: 0.100, Loss: 781.693, NoiseVar: 0.036, SignalVar: 19353.938, Lengthscale: 0.943, Epsilon: 2.131\n",
      "Iter: 88, LR: 0.100, Loss: 783.312, NoiseVar: 0.036, SignalVar: 19353.936, Lengthscale: 0.944, Epsilon: 2.127\n",
      "Iter: 89, LR: 0.100, Loss: 781.795, NoiseVar: 0.036, SignalVar: 19353.934, Lengthscale: 0.945, Epsilon: 2.124\n",
      "Iter: 90, LR: 0.100, Loss: 781.487, NoiseVar: 0.036, SignalVar: 19353.932, Lengthscale: 0.945, Epsilon: 2.121\n",
      "Iter: 91, LR: 0.100, Loss: 781.857, NoiseVar: 0.036, SignalVar: 19353.928, Lengthscale: 0.944, Epsilon: 2.117\n",
      "Iter: 92, LR: 0.100, Loss: 782.810, NoiseVar: 0.036, SignalVar: 19353.924, Lengthscale: 0.943, Epsilon: 2.114\n",
      "Iter: 93, LR: 0.100, Loss: 783.562, NoiseVar: 0.036, SignalVar: 19353.920, Lengthscale: 0.942, Epsilon: 2.111\n",
      "Iter: 94, LR: 0.100, Loss: 781.936, NoiseVar: 0.036, SignalVar: 19353.916, Lengthscale: 0.942, Epsilon: 2.108\n",
      "Iter: 95, LR: 0.100, Loss: 784.747, NoiseVar: 0.036, SignalVar: 19353.912, Lengthscale: 0.941, Epsilon: 2.105\n",
      "Iter: 96, LR: 0.100, Loss: 782.492, NoiseVar: 0.036, SignalVar: 19353.908, Lengthscale: 0.941, Epsilon: 2.102\n",
      "Iter: 97, LR: 0.100, Loss: 783.199, NoiseVar: 0.036, SignalVar: 19353.906, Lengthscale: 0.942, Epsilon: 2.100\n",
      "Iter: 98, LR: 0.100, Loss: 785.292, NoiseVar: 0.035, SignalVar: 19353.904, Lengthscale: 0.943, Epsilon: 2.097\n",
      "Iter: 99, LR: 0.100, Loss: 783.797, NoiseVar: 0.035, SignalVar: 19353.902, Lengthscale: 0.944, Epsilon: 2.095\n"
     ]
    }
   ],
   "source": [
    "model.manifold_informed_train(lr=1e-1, iter=100, verbose=True)"
   ]
  },
  {
   "cell_type": "markdown",
   "id": "0ab36075",
   "metadata": {},
   "source": [
    "## Evaluation"
   ]
  },
  {
   "cell_type": "code",
   "execution_count": 10,
   "id": "998d4b89",
   "metadata": {},
   "outputs": [],
   "source": [
    "%%capture\n",
    "likelihood.eval()\n",
    "model.eval()"
   ]
  },
  {
   "cell_type": "markdown",
   "id": "53c57771",
   "metadata": {},
   "source": [
    "## Metrics"
   ]
  },
  {
   "cell_type": "code",
   "execution_count": 11,
   "id": "40ffbd87",
   "metadata": {},
   "outputs": [
    {
     "name": "stdout",
     "output_type": "stream",
     "text": [
      "RMSE:  tensor(1.0302, device='cuda:0')\n",
      "NLL:  tensor(10.4026, device='cuda:0')\n"
     ]
    }
   ],
   "source": [
    "with torch.no_grad(), gpytorch.settings.fast_pred_var(), gpytorch.settings.cg_tolerance(10000):\n",
    "    preds_test = likelihood(model(test_x))\n",
    "        \n",
    "    error = test_y - preds_test.mean\n",
    "    covar = preds_test.lazy_covariance_matrix.evaluate_kernel()\n",
    "    inv_quad, logdet = covar.inv_quad_logdet(inv_quad_rhs=error.unsqueeze(-1), logdet=True)\n",
    "    \n",
    "    rmse = (error.square().sum()/test_y.shape[0]).sqrt()\n",
    "    nll = 0.5 * sum([inv_quad, logdet, error.size(-1)* np.log(2 * np.pi)])/test_y.shape[0]\n",
    "    \n",
    "print(\"RMSE: \", rmse)\n",
    "print(\"NLL: \", nll)"
   ]
  },
  {
   "cell_type": "code",
   "execution_count": null,
   "id": "f09b1b25",
   "metadata": {},
   "outputs": [],
   "source": []
  }
 ],
 "metadata": {
  "kernelspec": {
   "display_name": "Python 3 (ipykernel)",
   "language": "python",
   "name": "python3"
  },
  "language_info": {
   "codemirror_mode": {
    "name": "ipython",
    "version": 3
   },
   "file_extension": ".py",
   "mimetype": "text/x-python",
   "name": "python",
   "nbconvert_exporter": "python",
   "pygments_lexer": "ipython3",
   "version": "3.10.6"
  },
  "vscode": {
   "interpreter": {
    "hash": "916dbcbb3f70747c44a77c7bcd40155683ae19c65e1c03b4aa3499c5328201f1"
   }
  }
 },
 "nbformat": 4,
 "nbformat_minor": 5
}
