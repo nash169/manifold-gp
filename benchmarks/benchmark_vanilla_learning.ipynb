{
 "cells": [
  {
   "cell_type": "markdown",
   "id": "5e276dbe",
   "metadata": {},
   "source": [
    "# Vanilla GP Supervised Learning via Precision Matrix on 1D Manifold"
   ]
  },
  {
   "cell_type": "markdown",
   "id": "a36444a5",
   "metadata": {},
   "source": [
    "## Preamble"
   ]
  },
  {
   "cell_type": "markdown",
   "id": "01d17d1f",
   "metadata": {},
   "source": [
    "This notebook provides an example of how to perform Gaussian Process Regression on a 1D manifold. In this example we consider a supervised learning scenario, namely the number of labeled data points is equivalent to the number of the sampled points from the underlying manifold."
   ]
  },
  {
   "cell_type": "code",
   "execution_count": 1,
   "id": "58e9afd1",
   "metadata": {},
   "outputs": [],
   "source": [
    "import torch\n",
    "import gpytorch\n",
    "import numpy as np\n",
    "from scipy.io import loadmat\n",
    "import scipy.spatial as ss\n",
    "import urllib.request\n",
    "import os\n",
    "\n",
    "from manifold_gp.models.vanilla_gp import VanillaGP"
   ]
  },
  {
   "cell_type": "markdown",
   "id": "75701656",
   "metadata": {},
   "source": [
    "## Dataset Preprocessing"
   ]
  },
  {
   "cell_type": "markdown",
   "id": "02483bf0",
   "metadata": {},
   "source": [
    "### Load & Settings"
   ]
  },
  {
   "cell_type": "code",
   "execution_count": 2,
   "id": "af216c23",
   "metadata": {},
   "outputs": [],
   "source": [
    "dataset = 'protein' # ['protein','elevators']\n",
    "cut = 10000\n",
    "\n",
    "if dataset == 'protein':\n",
    "    data = np.loadtxt('../benchmark/protein.csv', delimiter=\",\")[:cut]\n",
    "    sampled_x, sampled_y = data[:, 1:], data[:, 0]\n",
    "elif dataset == 'elevators':\n",
    "    data = np.array(loadmat('../benchmark/elevators.mat')['data'])\n",
    "    sampled_x, sampled_y = data[:, :-1], data[:, -1]\n",
    "    \n",
    "    \n",
    "if not os.path.isfile(f'../outputs/{dataset}.mat'):\n",
    "    print(f'Downloading \\'{dataset}\\' UCI dataset...')\n",
    "    urllib.request.urlretrieve(datasets[dataset], f'../outputs/{dataset}.mat')\n",
    "\n",
    "# remove coincident points\n",
    "sampled_x, id_unique = np.unique(sampled_x, axis=0, return_index=True)\n",
    "sampled_y = sampled_y[id_unique]\n",
    "\n",
    "# cut between 0.01 and 0.99 quantile of distances\n",
    "kd_tree = ss.KDTree(sampled_x)\n",
    "v = kd_tree.query(sampled_x, k=2)[0][:, 1]\n",
    "idx = np.argsort(v)\n",
    "percentile_start = int(np.round(idx.shape[0]*0.10))\n",
    "percentile_end = int(np.round(idx.shape[0]*0.90))\n",
    "sampled_x = sampled_x[idx[percentile_start:percentile_end], :]\n",
    "sampled_y = sampled_y[idx[percentile_start:percentile_end]]\n",
    "m = sampled_x.shape[0]\n",
    "\n",
    "normalize_features = True\n",
    "normalize_labels = True"
   ]
  },
  {
   "cell_type": "markdown",
   "id": "331daec5",
   "metadata": {},
   "source": [
    "### Trainset & Testset"
   ]
  },
  {
   "cell_type": "code",
   "execution_count": 3,
   "id": "163309fd",
   "metadata": {},
   "outputs": [],
   "source": [
    "split = int(0.8 * m)\n",
    "\n",
    "train_x, train_y = sampled_x[:split], sampled_y[:split]\n",
    "test_x, test_y = sampled_x[split:], sampled_y[split:]\n",
    "\n",
    "train_x = torch.from_numpy(train_x).float()\n",
    "train_y = torch.from_numpy(train_y).float()\n",
    "test_x = torch.from_numpy(test_x).float()\n",
    "test_y = torch.from_numpy(test_y).float()\n",
    "\n",
    "if normalize_features:\n",
    "    mu_x, std_x = train_x.mean(dim=-2, keepdim=True), train_x.std(dim=-2, keepdim=True) + 1e-6\n",
    "    train_x.sub_(mu_x).div_(std_x)\n",
    "    test_x.sub_(mu_x).div_(std_x)\n",
    "    \n",
    "if normalize_labels:\n",
    "    mu_y, std_y = train_y.mean(), train_y.std()\n",
    "    train_y.sub_(mu_y).div_(std_y)\n",
    "    test_y.sub_(mu_y).div_(std_y)"
   ]
  },
  {
   "cell_type": "markdown",
   "id": "b87581de",
   "metadata": {},
   "source": [
    "### Move Data to Device"
   ]
  },
  {
   "cell_type": "code",
   "execution_count": 4,
   "id": "d1c91b4b",
   "metadata": {},
   "outputs": [],
   "source": [
    "train_x, train_y = train_x.contiguous(), train_y.contiguous()\n",
    "test_x, test_y = test_x.contiguous(), test_y.contiguous()\n",
    "\n",
    "use_cuda = torch.cuda.is_available()\n",
    "device = torch.device(\"cuda\" if use_cuda else \"cpu\")\n",
    "train_x, train_y = train_x.to(device), train_y.to(device)\n",
    "test_x, test_y = test_x.to(device), test_y.to(device)"
   ]
  },
  {
   "cell_type": "markdown",
   "id": "d3441ad2",
   "metadata": {},
   "source": [
    "## Model"
   ]
  },
  {
   "cell_type": "code",
   "execution_count": 5,
   "id": "15e47b46",
   "metadata": {},
   "outputs": [],
   "source": [
    "%%capture\n",
    "likelihood = gpytorch.likelihoods.GaussianLikelihood(\n",
    "    noise_constraint=gpytorch.constraints.GreaterThan(1e-8),\n",
    "    noise_prior=None  # NormalPrior(torch.tensor([0.0]).to(device),  torch.tensor([1/9]).sqrt().to(device))\n",
    ")\n",
    "\n",
    "kernel = gpytorch.kernels.ScaleKernel(gpytorch.kernels.MaternKernel(nu=2.5))\n",
    "# gpytorch.kernels.ScaleKernel(gpytorch.kernels.RBFKernel())\n",
    "\n",
    "model = VanillaGP(train_x, train_y, likelihood, kernel).to(device)\n",
    "\n",
    "hypers = {\n",
    "    'likelihood.noise_covar.noise': 1e-2,\n",
    "    'covar_module.base_kernel.lengthscale': 0.5,\n",
    "    'covar_module.outputscale': 1.0,\n",
    "}\n",
    "model.initialize(**hypers)"
   ]
  },
  {
   "cell_type": "markdown",
   "id": "8b14763b",
   "metadata": {},
   "source": [
    "## Train"
   ]
  },
  {
   "cell_type": "code",
   "execution_count": 6,
   "id": "7bb0ab30",
   "metadata": {
    "scrolled": false
   },
   "outputs": [
    {
     "name": "stdout",
     "output_type": "stream",
     "text": [
      "Iteration: 0, Loss: 1.167, Noise Variance: 0.100, Signal Variance: 1.000, Lengthscale: 0.500\n",
      "Iteration: 1, Loss: 1.079, Noise Variance: 0.105, Signal Variance: 1.032, Lengthscale: 0.462\n",
      "Iteration: 2, Loss: 1.072, Noise Variance: 0.109, Signal Variance: 1.060, Lengthscale: 0.431\n",
      "Iteration: 3, Loss: 1.076, Noise Variance: 0.111, Signal Variance: 1.084, Lengthscale: 0.405\n",
      "Iteration: 4, Loss: 1.084, Noise Variance: 0.112, Signal Variance: 1.101, Lengthscale: 0.385\n",
      "Iteration: 5, Loss: 1.088, Noise Variance: 0.112, Signal Variance: 1.112, Lengthscale: 0.372\n",
      "Iteration: 6, Loss: 1.092, Noise Variance: 0.110, Signal Variance: 1.117, Lengthscale: 0.363\n",
      "Iteration: 7, Loss: 1.097, Noise Variance: 0.108, Signal Variance: 1.116, Lengthscale: 0.360\n",
      "Iteration: 8, Loss: 1.092, Noise Variance: 0.106, Signal Variance: 1.111, Lengthscale: 0.360\n",
      "Iteration: 9, Loss: 1.090, Noise Variance: 0.102, Signal Variance: 1.102, Lengthscale: 0.363\n",
      "Iteration: 10, Loss: 1.093, Noise Variance: 0.099, Signal Variance: 1.091, Lengthscale: 0.368\n",
      "Iteration: 11, Loss: 1.083, Noise Variance: 0.096, Signal Variance: 1.079, Lengthscale: 0.376\n",
      "Iteration: 12, Loss: 1.080, Noise Variance: 0.093, Signal Variance: 1.065, Lengthscale: 0.384\n",
      "Iteration: 13, Loss: 1.080, Noise Variance: 0.090, Signal Variance: 1.051, Lengthscale: 0.393\n",
      "Iteration: 14, Loss: 1.077, Noise Variance: 0.087, Signal Variance: 1.038, Lengthscale: 0.401\n",
      "Iteration: 15, Loss: 1.074, Noise Variance: 0.085, Signal Variance: 1.026, Lengthscale: 0.408\n",
      "Iteration: 16, Loss: 1.074, Noise Variance: 0.083, Signal Variance: 1.017, Lengthscale: 0.412\n",
      "Iteration: 17, Loss: 1.079, Noise Variance: 0.081, Signal Variance: 1.011, Lengthscale: 0.415\n",
      "Iteration: 18, Loss: 1.080, Noise Variance: 0.079, Signal Variance: 1.007, Lengthscale: 0.415\n",
      "Iteration: 19, Loss: 1.076, Noise Variance: 0.077, Signal Variance: 1.007, Lengthscale: 0.412\n",
      "Iteration: 20, Loss: 1.080, Noise Variance: 0.076, Signal Variance: 1.009, Lengthscale: 0.406\n",
      "Iteration: 21, Loss: 1.077, Noise Variance: 0.075, Signal Variance: 1.013, Lengthscale: 0.400\n",
      "Iteration: 22, Loss: 1.079, Noise Variance: 0.073, Signal Variance: 1.018, Lengthscale: 0.392\n",
      "Iteration: 23, Loss: 1.080, Noise Variance: 0.072, Signal Variance: 1.023, Lengthscale: 0.384\n",
      "Iteration: 24, Loss: 1.072, Noise Variance: 0.070, Signal Variance: 1.028, Lengthscale: 0.377\n",
      "Iteration: 25, Loss: 1.080, Noise Variance: 0.069, Signal Variance: 1.031, Lengthscale: 0.372\n",
      "Iteration: 26, Loss: 1.083, Noise Variance: 0.068, Signal Variance: 1.033, Lengthscale: 0.368\n",
      "Iteration: 27, Loss: 1.080, Noise Variance: 0.067, Signal Variance: 1.034, Lengthscale: 0.365\n",
      "Iteration: 28, Loss: 1.086, Noise Variance: 0.066, Signal Variance: 1.033, Lengthscale: 0.364\n",
      "Iteration: 29, Loss: 1.077, Noise Variance: 0.065, Signal Variance: 1.031, Lengthscale: 0.364\n",
      "Iteration: 30, Loss: 1.077, Noise Variance: 0.063, Signal Variance: 1.027, Lengthscale: 0.365\n",
      "Iteration: 31, Loss: 1.081, Noise Variance: 0.062, Signal Variance: 1.022, Lengthscale: 0.368\n",
      "Iteration: 32, Loss: 1.070, Noise Variance: 0.061, Signal Variance: 1.017, Lengthscale: 0.371\n",
      "Iteration: 33, Loss: 1.072, Noise Variance: 0.059, Signal Variance: 1.012, Lengthscale: 0.375\n",
      "Iteration: 34, Loss: 1.080, Noise Variance: 0.058, Signal Variance: 1.007, Lengthscale: 0.378\n",
      "Iteration: 35, Loss: 1.081, Noise Variance: 0.057, Signal Variance: 1.002, Lengthscale: 0.381\n",
      "Iteration: 36, Loss: 1.075, Noise Variance: 0.057, Signal Variance: 0.999, Lengthscale: 0.383\n",
      "Iteration: 37, Loss: 1.076, Noise Variance: 0.056, Signal Variance: 0.997, Lengthscale: 0.384\n",
      "Iteration: 38, Loss: 1.077, Noise Variance: 0.055, Signal Variance: 0.997, Lengthscale: 0.384\n",
      "Iteration: 39, Loss: 1.076, Noise Variance: 0.054, Signal Variance: 0.999, Lengthscale: 0.383\n",
      "Iteration: 40, Loss: 1.076, Noise Variance: 0.053, Signal Variance: 1.001, Lengthscale: 0.381\n",
      "Iteration: 41, Loss: 1.081, Noise Variance: 0.053, Signal Variance: 1.004, Lengthscale: 0.379\n",
      "Iteration: 42, Loss: 1.078, Noise Variance: 0.052, Signal Variance: 1.008, Lengthscale: 0.377\n",
      "Iteration: 43, Loss: 1.080, Noise Variance: 0.051, Signal Variance: 1.012, Lengthscale: 0.375\n",
      "Iteration: 44, Loss: 1.081, Noise Variance: 0.050, Signal Variance: 1.015, Lengthscale: 0.373\n",
      "Iteration: 45, Loss: 1.086, Noise Variance: 0.050, Signal Variance: 1.017, Lengthscale: 0.373\n",
      "Iteration: 46, Loss: 1.079, Noise Variance: 0.050, Signal Variance: 1.018, Lengthscale: 0.372\n",
      "Iteration: 47, Loss: 1.074, Noise Variance: 0.050, Signal Variance: 1.019, Lengthscale: 0.373\n",
      "Iteration: 48, Loss: 1.084, Noise Variance: 0.049, Signal Variance: 1.019, Lengthscale: 0.375\n",
      "Iteration: 49, Loss: 1.082, Noise Variance: 0.049, Signal Variance: 1.019, Lengthscale: 0.377\n",
      "Iteration: 50, Loss: 1.080, Noise Variance: 0.049, Signal Variance: 1.018, Lengthscale: 0.378\n",
      "Iteration: 51, Loss: 1.078, Noise Variance: 0.048, Signal Variance: 1.018, Lengthscale: 0.380\n",
      "Iteration: 52, Loss: 1.078, Noise Variance: 0.048, Signal Variance: 1.017, Lengthscale: 0.381\n",
      "Iteration: 53, Loss: 1.078, Noise Variance: 0.048, Signal Variance: 1.017, Lengthscale: 0.382\n",
      "Iteration: 54, Loss: 1.077, Noise Variance: 0.047, Signal Variance: 1.017, Lengthscale: 0.382\n",
      "Iteration: 55, Loss: 1.075, Noise Variance: 0.047, Signal Variance: 1.018, Lengthscale: 0.383\n",
      "Iteration: 56, Loss: 1.074, Noise Variance: 0.046, Signal Variance: 1.018, Lengthscale: 0.383\n",
      "Iteration: 57, Loss: 1.078, Noise Variance: 0.046, Signal Variance: 1.019, Lengthscale: 0.383\n",
      "Iteration: 58, Loss: 1.075, Noise Variance: 0.046, Signal Variance: 1.020, Lengthscale: 0.382\n",
      "Iteration: 59, Loss: 1.078, Noise Variance: 0.045, Signal Variance: 1.021, Lengthscale: 0.381\n",
      "Iteration: 60, Loss: 1.079, Noise Variance: 0.044, Signal Variance: 1.022, Lengthscale: 0.380\n",
      "Iteration: 61, Loss: 1.077, Noise Variance: 0.044, Signal Variance: 1.023, Lengthscale: 0.379\n",
      "Iteration: 62, Loss: 1.078, Noise Variance: 0.044, Signal Variance: 1.023, Lengthscale: 0.379\n",
      "Iteration: 63, Loss: 1.082, Noise Variance: 0.044, Signal Variance: 1.023, Lengthscale: 0.379\n",
      "Iteration: 64, Loss: 1.072, Noise Variance: 0.043, Signal Variance: 1.023, Lengthscale: 0.380\n",
      "Iteration: 65, Loss: 1.073, Noise Variance: 0.043, Signal Variance: 1.022, Lengthscale: 0.381\n",
      "Iteration: 66, Loss: 1.079, Noise Variance: 0.043, Signal Variance: 1.022, Lengthscale: 0.382\n",
      "Iteration: 67, Loss: 1.080, Noise Variance: 0.043, Signal Variance: 1.021, Lengthscale: 0.383\n",
      "Iteration: 68, Loss: 1.079, Noise Variance: 0.043, Signal Variance: 1.021, Lengthscale: 0.384\n",
      "Iteration: 69, Loss: 1.073, Noise Variance: 0.042, Signal Variance: 1.021, Lengthscale: 0.384\n",
      "Iteration: 70, Loss: 1.076, Noise Variance: 0.042, Signal Variance: 1.021, Lengthscale: 0.384\n",
      "Iteration: 71, Loss: 1.074, Noise Variance: 0.041, Signal Variance: 1.022, Lengthscale: 0.384\n",
      "Iteration: 72, Loss: 1.078, Noise Variance: 0.041, Signal Variance: 1.023, Lengthscale: 0.384\n",
      "Iteration: 73, Loss: 1.075, Noise Variance: 0.041, Signal Variance: 1.024, Lengthscale: 0.384\n",
      "Iteration: 74, Loss: 1.075, Noise Variance: 0.040, Signal Variance: 1.025, Lengthscale: 0.384\n",
      "Iteration: 75, Loss: 1.082, Noise Variance: 0.040, Signal Variance: 1.026, Lengthscale: 0.384\n",
      "Iteration: 76, Loss: 1.079, Noise Variance: 0.040, Signal Variance: 1.027, Lengthscale: 0.383\n",
      "Iteration: 77, Loss: 1.082, Noise Variance: 0.040, Signal Variance: 1.028, Lengthscale: 0.383\n",
      "Iteration: 78, Loss: 1.079, Noise Variance: 0.039, Signal Variance: 1.028, Lengthscale: 0.382\n",
      "Iteration: 79, Loss: 1.073, Noise Variance: 0.039, Signal Variance: 1.028, Lengthscale: 0.382\n",
      "Iteration: 80, Loss: 1.073, Noise Variance: 0.039, Signal Variance: 1.028, Lengthscale: 0.381\n",
      "Iteration: 81, Loss: 1.079, Noise Variance: 0.039, Signal Variance: 1.027, Lengthscale: 0.382\n",
      "Iteration: 82, Loss: 1.078, Noise Variance: 0.039, Signal Variance: 1.026, Lengthscale: 0.381\n",
      "Iteration: 83, Loss: 1.075, Noise Variance: 0.039, Signal Variance: 1.025, Lengthscale: 0.381\n",
      "Iteration: 84, Loss: 1.079, Noise Variance: 0.039, Signal Variance: 1.024, Lengthscale: 0.382\n",
      "Iteration: 85, Loss: 1.083, Noise Variance: 0.039, Signal Variance: 1.023, Lengthscale: 0.383\n",
      "Iteration: 86, Loss: 1.080, Noise Variance: 0.039, Signal Variance: 1.022, Lengthscale: 0.383\n",
      "Iteration: 87, Loss: 1.073, Noise Variance: 0.039, Signal Variance: 1.021, Lengthscale: 0.383\n",
      "Iteration: 88, Loss: 1.075, Noise Variance: 0.039, Signal Variance: 1.021, Lengthscale: 0.384\n",
      "Iteration: 89, Loss: 1.076, Noise Variance: 0.039, Signal Variance: 1.020, Lengthscale: 0.384\n"
     ]
    },
    {
     "name": "stdout",
     "output_type": "stream",
     "text": [
      "Iteration: 90, Loss: 1.078, Noise Variance: 0.039, Signal Variance: 1.021, Lengthscale: 0.383\n",
      "Iteration: 91, Loss: 1.074, Noise Variance: 0.039, Signal Variance: 1.021, Lengthscale: 0.383\n",
      "Iteration: 92, Loss: 1.075, Noise Variance: 0.039, Signal Variance: 1.022, Lengthscale: 0.381\n",
      "Iteration: 93, Loss: 1.079, Noise Variance: 0.039, Signal Variance: 1.023, Lengthscale: 0.380\n",
      "Iteration: 94, Loss: 1.081, Noise Variance: 0.039, Signal Variance: 1.024, Lengthscale: 0.379\n",
      "Iteration: 95, Loss: 1.078, Noise Variance: 0.039, Signal Variance: 1.024, Lengthscale: 0.378\n",
      "Iteration: 96, Loss: 1.073, Noise Variance: 0.039, Signal Variance: 1.024, Lengthscale: 0.377\n",
      "Iteration: 97, Loss: 1.075, Noise Variance: 0.039, Signal Variance: 1.023, Lengthscale: 0.378\n",
      "Iteration: 98, Loss: 1.084, Noise Variance: 0.038, Signal Variance: 1.021, Lengthscale: 0.378\n",
      "Iteration: 99, Loss: 1.085, Noise Variance: 0.038, Signal Variance: 1.020, Lengthscale: 0.378\n"
     ]
    }
   ],
   "source": [
    "model.vanilla_train(lr=1e-1, iter=100, verbose=True)"
   ]
  },
  {
   "cell_type": "markdown",
   "id": "132bcc3e",
   "metadata": {},
   "source": [
    "## Evaluation"
   ]
  },
  {
   "cell_type": "code",
   "execution_count": 7,
   "id": "04e576d1",
   "metadata": {},
   "outputs": [],
   "source": [
    "%%capture\n",
    "likelihood.eval()\n",
    "model.eval()"
   ]
  },
  {
   "cell_type": "markdown",
   "id": "0ab36075",
   "metadata": {},
   "source": [
    "## Metrics"
   ]
  },
  {
   "cell_type": "code",
   "execution_count": 9,
   "id": "984df9f7",
   "metadata": {
    "scrolled": true
   },
   "outputs": [
    {
     "name": "stdout",
     "output_type": "stream",
     "text": [
      "RMSE:  tensor(0.8567, device='cuda:0')\n",
      "NLL:  tensor(1.1789, device='cuda:0')\n"
     ]
    }
   ],
   "source": [
    "with torch.no_grad(), gpytorch.settings.fast_pred_var(), gpytorch.settings.cg_tolerance(10000):\n",
    "    preds_test = likelihood(model(test_x))\n",
    "        \n",
    "    error = test_y - preds_test.mean\n",
    "    covar = preds_test.lazy_covariance_matrix.evaluate_kernel()\n",
    "    inv_quad, logdet = covar.inv_quad_logdet(inv_quad_rhs=error.unsqueeze(-1), logdet=True)\n",
    "    \n",
    "    rmse = (error.square().sum()/test_y.shape[0]).sqrt()\n",
    "    nll = 0.5 * sum([inv_quad, logdet, error.size(-1)* np.log(2 * np.pi)])/test_y.shape[0]\n",
    "    \n",
    "print(\"RMSE: \", rmse)\n",
    "print(\"NLL: \", nll)"
   ]
  },
  {
   "cell_type": "code",
   "execution_count": null,
   "id": "e7ee6ebe",
   "metadata": {},
   "outputs": [],
   "source": []
  }
 ],
 "metadata": {
  "kernelspec": {
   "display_name": "Python 3 (ipykernel)",
   "language": "python",
   "name": "python3"
  },
  "language_info": {
   "codemirror_mode": {
    "name": "ipython",
    "version": 3
   },
   "file_extension": ".py",
   "mimetype": "text/x-python",
   "name": "python",
   "nbconvert_exporter": "python",
   "pygments_lexer": "ipython3",
   "version": "3.10.6"
  },
  "vscode": {
   "interpreter": {
    "hash": "916dbcbb3f70747c44a77c7bcd40155683ae19c65e1c03b4aa3499c5328201f1"
   }
  }
 },
 "nbformat": 4,
 "nbformat_minor": 5
}
