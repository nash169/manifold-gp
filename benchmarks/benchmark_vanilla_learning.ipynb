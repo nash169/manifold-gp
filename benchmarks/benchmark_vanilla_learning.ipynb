{
 "cells": [
  {
   "cell_type": "markdown",
   "id": "5e276dbe",
   "metadata": {},
   "source": [
    "# Benchmark Vanilla GP Supervised Learning"
   ]
  },
  {
   "cell_type": "markdown",
   "id": "a36444a5",
   "metadata": {},
   "source": [
    "## Preamble"
   ]
  },
  {
   "cell_type": "markdown",
   "id": "01d17d1f",
   "metadata": {},
   "source": [
    "This notebook provides an example of how to perform Gaussian Process Regression on a 1D manifold. In this example we consider a supervised learning scenario, namely the number of labeled data points is equivalent to the number of the sampled points from the underlying manifold."
   ]
  },
  {
   "cell_type": "code",
   "execution_count": 1,
   "id": "58e9afd1",
   "metadata": {},
   "outputs": [],
   "source": [
    "import torch\n",
    "import gpytorch\n",
    "import numpy as np\n",
    "from scipy.io import loadmat\n",
    "import scipy.spatial as ss\n",
    "import urllib.request\n",
    "import os\n",
    "from time import time\n",
    "from manifold_gp.models.vanilla_gp import VanillaGP"
   ]
  },
  {
   "cell_type": "markdown",
   "id": "75701656",
   "metadata": {},
   "source": [
    "## Dataset Preprocessing"
   ]
  },
  {
   "cell_type": "markdown",
   "id": "02483bf0",
   "metadata": {},
   "source": [
    "### Load & Settings"
   ]
  },
  {
   "cell_type": "code",
   "execution_count": 2,
   "id": "af216c23",
   "metadata": {},
   "outputs": [],
   "source": [
    "torch.manual_seed(1337)\n",
    "dataset = 'mnist'\n",
    "\n",
    "data = np.loadtxt('datasets/'+dataset+'_train.csv')\n",
    "sampled_x, sampled_y = data[:, 2:], data[:, 1]\n",
    "rand_idx = torch.randperm(sampled_x.shape[0])\n",
    "sampled_x, sampled_y = sampled_x[rand_idx], sampled_y[rand_idx]\n",
    "del rand_idx\n",
    "\n",
    "data = np.loadtxt('datasets/'+dataset+'_test.csv')\n",
    "test_x, test_y = data[:, 2:], data[:, 1]\n",
    "    \n",
    "preprocess = False\n",
    "normalize_features = False\n",
    "normalize_labels = True"
   ]
  },
  {
   "cell_type": "code",
   "execution_count": 3,
   "id": "19b314d4",
   "metadata": {},
   "outputs": [],
   "source": [
    "if preprocess:\n",
    "    # remove coincident points\n",
    "    sampled_x, id_unique = np.unique(sampled_x, axis=0, return_index=True)\n",
    "    sampled_y = sampled_y[id_unique]\n",
    "\n",
    "    # cut between 0.1 and 0.9 percentile of distances\n",
    "    import faiss\n",
    "    res = faiss.StandardGpuResources()\n",
    "    knn = faiss.GpuIndexIVFFlat(res, sampled_x.shape[1], 1, faiss.METRIC_L2)\n",
    "    knn.train(sampled_x)\n",
    "    knn.add(sampled_x)\n",
    "    v = np.sqrt(knn.search(sampled_x, 51)[0][:,1:])\n",
    "    idx = np.argsort(v.mean(axis=1).ravel())\n",
    "    percentile_start = int(np.round(idx.shape[0]*0.10))\n",
    "    percentile_end = int(np.round(idx.shape[0]*0.90))\n",
    "    sampled_x = sampled_x[idx[percentile_start:percentile_end], :]\n",
    "    sampled_y = sampled_y[idx[percentile_start:percentile_end]]\n",
    "    del knn\n",
    "m = sampled_x.shape[0]"
   ]
  },
  {
   "cell_type": "markdown",
   "id": "331daec5",
   "metadata": {},
   "source": [
    "### Trainset & Testset"
   ]
  },
  {
   "cell_type": "code",
   "execution_count": 4,
   "id": "163309fd",
   "metadata": {},
   "outputs": [],
   "source": [
    "split = int(0.1 * m)\n",
    "\n",
    "train_x, train_y = sampled_x[:split], sampled_y[:split]\n",
    "\n",
    "train_x, train_y = torch.from_numpy(train_x).float(), torch.from_numpy(train_y).float()\n",
    "test_x, test_y = torch.from_numpy(test_x).float(), torch.from_numpy(test_y).float()\n",
    "\n",
    "if normalize_features:\n",
    "    mu_x, std_x = train_x.mean(dim=-2, keepdim=True), train_x.std(dim=-2, keepdim=True) + 1e-6\n",
    "    train_x.sub_(mu_x).div_(std_x)\n",
    "    test_x.sub_(mu_x).div_(std_x)\n",
    "    \n",
    "if normalize_labels:\n",
    "    mu_y, std_y = train_y.mean(), train_y.std()\n",
    "    train_y.sub_(mu_y).div_(std_y)\n",
    "    test_y.sub_(mu_y).div_(std_y)"
   ]
  },
  {
   "cell_type": "markdown",
   "id": "b87581de",
   "metadata": {},
   "source": [
    "### Move Data to Device"
   ]
  },
  {
   "cell_type": "code",
   "execution_count": 5,
   "id": "d1c91b4b",
   "metadata": {},
   "outputs": [],
   "source": [
    "train_x, train_y = train_x.contiguous(), train_y.contiguous()\n",
    "test_x, test_y = test_x.contiguous(), test_y.contiguous()\n",
    "\n",
    "use_cuda = torch.cuda.is_available()\n",
    "device = torch.device(\"cuda\" if use_cuda else \"cpu\")\n",
    "\n",
    "train_x, train_y = train_x.to(device), train_y.to(device)\n",
    "test_x, test_y = test_x.to(device), test_y.to(device)"
   ]
  },
  {
   "cell_type": "markdown",
   "id": "d3441ad2",
   "metadata": {},
   "source": [
    "## Model"
   ]
  },
  {
   "cell_type": "code",
   "execution_count": 9,
   "id": "15e47b46",
   "metadata": {},
   "outputs": [],
   "source": [
    "%%capture\n",
    "likelihood = gpytorch.likelihoods.GaussianLikelihood(\n",
    "    noise_constraint=gpytorch.constraints.GreaterThan(1e-8),\n",
    "    noise_prior=None  # NormalPrior(torch.tensor([0.0]).to(device),  torch.tensor([1/9]).sqrt().to(device))\n",
    ")\n",
    "\n",
    "kernel = gpytorch.kernels.ScaleKernel(gpytorch.kernels.MaternKernel(nu=2.5))\n",
    "# gpytorch.kernels.ScaleKernel(gpytorch.kernels.RBFKernel())\n",
    "\n",
    "model = VanillaGP(train_x, train_y, likelihood, kernel).to(device)\n",
    "\n",
    "hypers = {\n",
    "    'likelihood.noise_covar.noise': 1e-2,\n",
    "    'covar_module.base_kernel.lengthscale': 1.0,\n",
    "    'covar_module.outputscale': 1.0,\n",
    "}\n",
    "model.initialize(**hypers)"
   ]
  },
  {
   "cell_type": "markdown",
   "id": "8b14763b",
   "metadata": {},
   "source": [
    "## Train"
   ]
  },
  {
   "cell_type": "code",
   "execution_count": 10,
   "id": "7bb0ab30",
   "metadata": {
    "scrolled": false
   },
   "outputs": [
    {
     "name": "stdout",
     "output_type": "stream",
     "text": [
      "Iteration: 0, Loss: 0.132, Noise Variance: 0.100, Signal Variance: 1.000, Lengthscale: 1.000\n",
      "Iteration: 1, Loss: 0.105, Noise Variance: 0.100, Signal Variance: 0.997, Lengthscale: 1.006\n",
      "Iteration: 2, Loss: 0.147, Noise Variance: 0.099, Signal Variance: 0.994, Lengthscale: 1.013\n",
      "Iteration: 3, Loss: 0.096, Noise Variance: 0.099, Signal Variance: 0.991, Lengthscale: 1.019\n",
      "Iteration: 4, Loss: 0.120, Noise Variance: 0.098, Signal Variance: 0.987, Lengthscale: 1.025\n",
      "Iteration: 5, Loss: 0.100, Noise Variance: 0.098, Signal Variance: 0.984, Lengthscale: 1.032\n",
      "Iteration: 6, Loss: 0.090, Noise Variance: 0.097, Signal Variance: 0.981, Lengthscale: 1.038\n",
      "Iteration: 7, Loss: 0.114, Noise Variance: 0.097, Signal Variance: 0.978, Lengthscale: 1.045\n",
      "Iteration: 8, Loss: 0.096, Noise Variance: 0.096, Signal Variance: 0.975, Lengthscale: 1.051\n",
      "Iteration: 9, Loss: 0.080, Noise Variance: 0.096, Signal Variance: 0.972, Lengthscale: 1.058\n",
      "Iteration: 10, Loss: 0.055, Noise Variance: 0.095, Signal Variance: 0.968, Lengthscale: 1.064\n",
      "Iteration: 11, Loss: 0.053, Noise Variance: 0.095, Signal Variance: 0.965, Lengthscale: 1.071\n",
      "Iteration: 12, Loss: 0.033, Noise Variance: 0.094, Signal Variance: 0.962, Lengthscale: 1.077\n",
      "Iteration: 13, Loss: 0.052, Noise Variance: 0.094, Signal Variance: 0.959, Lengthscale: 1.084\n",
      "Iteration: 14, Loss: 0.071, Noise Variance: 0.093, Signal Variance: 0.956, Lengthscale: 1.091\n",
      "Iteration: 15, Loss: 0.008, Noise Variance: 0.093, Signal Variance: 0.953, Lengthscale: 1.097\n",
      "Iteration: 16, Loss: 0.046, Noise Variance: 0.092, Signal Variance: 0.950, Lengthscale: 1.104\n",
      "Iteration: 17, Loss: 0.030, Noise Variance: 0.092, Signal Variance: 0.946, Lengthscale: 1.111\n",
      "Iteration: 18, Loss: 0.018, Noise Variance: 0.091, Signal Variance: 0.943, Lengthscale: 1.117\n",
      "Iteration: 19, Loss: -0.009, Noise Variance: 0.091, Signal Variance: 0.940, Lengthscale: 1.124\n",
      "Iteration: 20, Loss: 0.004, Noise Variance: 0.091, Signal Variance: 0.937, Lengthscale: 1.131\n",
      "Iteration: 21, Loss: -0.009, Noise Variance: 0.090, Signal Variance: 0.934, Lengthscale: 1.138\n",
      "Iteration: 22, Loss: -0.016, Noise Variance: 0.090, Signal Variance: 0.931, Lengthscale: 1.144\n",
      "Iteration: 23, Loss: -0.035, Noise Variance: 0.089, Signal Variance: 0.928, Lengthscale: 1.151\n",
      "Iteration: 24, Loss: -0.015, Noise Variance: 0.089, Signal Variance: 0.925, Lengthscale: 1.158\n",
      "Iteration: 25, Loss: -0.040, Noise Variance: 0.088, Signal Variance: 0.922, Lengthscale: 1.165\n",
      "Iteration: 26, Loss: -0.070, Noise Variance: 0.088, Signal Variance: 0.919, Lengthscale: 1.172\n",
      "Iteration: 27, Loss: -0.067, Noise Variance: 0.087, Signal Variance: 0.915, Lengthscale: 1.179\n",
      "Iteration: 28, Loss: -0.039, Noise Variance: 0.087, Signal Variance: 0.912, Lengthscale: 1.186\n",
      "Iteration: 29, Loss: -0.058, Noise Variance: 0.086, Signal Variance: 0.909, Lengthscale: 1.193\n",
      "Iteration: 30, Loss: -0.098, Noise Variance: 0.086, Signal Variance: 0.906, Lengthscale: 1.200\n",
      "Iteration: 31, Loss: -0.056, Noise Variance: 0.086, Signal Variance: 0.903, Lengthscale: 1.206\n",
      "Iteration: 32, Loss: -0.090, Noise Variance: 0.085, Signal Variance: 0.900, Lengthscale: 1.213\n",
      "Iteration: 33, Loss: -0.104, Noise Variance: 0.085, Signal Variance: 0.897, Lengthscale: 1.220\n",
      "Iteration: 34, Loss: -0.078, Noise Variance: 0.084, Signal Variance: 0.894, Lengthscale: 1.227\n",
      "Iteration: 35, Loss: -0.113, Noise Variance: 0.084, Signal Variance: 0.891, Lengthscale: 1.234\n",
      "Iteration: 36, Loss: -0.069, Noise Variance: 0.083, Signal Variance: 0.888, Lengthscale: 1.242\n",
      "Iteration: 37, Loss: -0.110, Noise Variance: 0.083, Signal Variance: 0.885, Lengthscale: 1.249\n",
      "Iteration: 38, Loss: -0.146, Noise Variance: 0.083, Signal Variance: 0.882, Lengthscale: 1.256\n",
      "Iteration: 39, Loss: -0.120, Noise Variance: 0.082, Signal Variance: 0.879, Lengthscale: 1.263\n",
      "Iteration: 40, Loss: -0.130, Noise Variance: 0.082, Signal Variance: 0.876, Lengthscale: 1.270\n",
      "Iteration: 41, Loss: -0.129, Noise Variance: 0.081, Signal Variance: 0.873, Lengthscale: 1.277\n",
      "Iteration: 42, Loss: -0.180, Noise Variance: 0.081, Signal Variance: 0.870, Lengthscale: 1.284\n",
      "Iteration: 43, Loss: -0.187, Noise Variance: 0.080, Signal Variance: 0.867, Lengthscale: 1.291\n",
      "Iteration: 44, Loss: -0.189, Noise Variance: 0.080, Signal Variance: 0.864, Lengthscale: 1.298\n",
      "Iteration: 45, Loss: -0.189, Noise Variance: 0.080, Signal Variance: 0.861, Lengthscale: 1.306\n",
      "Iteration: 46, Loss: -0.196, Noise Variance: 0.079, Signal Variance: 0.858, Lengthscale: 1.313\n",
      "Iteration: 47, Loss: -0.196, Noise Variance: 0.079, Signal Variance: 0.855, Lengthscale: 1.320\n",
      "Iteration: 48, Loss: -0.191, Noise Variance: 0.078, Signal Variance: 0.852, Lengthscale: 1.327\n",
      "Iteration: 49, Loss: -0.190, Noise Variance: 0.078, Signal Variance: 0.849, Lengthscale: 1.335\n",
      "Iteration: 50, Loss: -0.218, Noise Variance: 0.078, Signal Variance: 0.846, Lengthscale: 1.342\n",
      "Iteration: 51, Loss: -0.215, Noise Variance: 0.077, Signal Variance: 0.843, Lengthscale: 1.349\n",
      "Iteration: 52, Loss: -0.251, Noise Variance: 0.077, Signal Variance: 0.840, Lengthscale: 1.356\n",
      "Iteration: 53, Loss: -0.222, Noise Variance: 0.076, Signal Variance: 0.837, Lengthscale: 1.364\n",
      "Iteration: 54, Loss: -0.216, Noise Variance: 0.076, Signal Variance: 0.834, Lengthscale: 1.371\n",
      "Iteration: 55, Loss: -0.210, Noise Variance: 0.076, Signal Variance: 0.831, Lengthscale: 1.378\n",
      "Iteration: 56, Loss: -0.233, Noise Variance: 0.075, Signal Variance: 0.828, Lengthscale: 1.386\n",
      "Iteration: 57, Loss: -0.250, Noise Variance: 0.075, Signal Variance: 0.825, Lengthscale: 1.393\n",
      "Iteration: 58, Loss: -0.272, Noise Variance: 0.074, Signal Variance: 0.823, Lengthscale: 1.400\n",
      "Iteration: 59, Loss: -0.265, Noise Variance: 0.074, Signal Variance: 0.820, Lengthscale: 1.408\n",
      "Iteration: 60, Loss: -0.268, Noise Variance: 0.074, Signal Variance: 0.817, Lengthscale: 1.415\n",
      "Iteration: 61, Loss: -0.305, Noise Variance: 0.073, Signal Variance: 0.814, Lengthscale: 1.423\n",
      "Iteration: 62, Loss: -0.294, Noise Variance: 0.073, Signal Variance: 0.811, Lengthscale: 1.430\n",
      "Iteration: 63, Loss: -0.300, Noise Variance: 0.072, Signal Variance: 0.808, Lengthscale: 1.437\n",
      "Iteration: 64, Loss: -0.312, Noise Variance: 0.072, Signal Variance: 0.805, Lengthscale: 1.445\n",
      "Iteration: 65, Loss: -0.284, Noise Variance: 0.072, Signal Variance: 0.803, Lengthscale: 1.452\n",
      "Iteration: 66, Loss: -0.329, Noise Variance: 0.071, Signal Variance: 0.800, Lengthscale: 1.460\n",
      "Iteration: 67, Loss: -0.311, Noise Variance: 0.071, Signal Variance: 0.797, Lengthscale: 1.467\n",
      "Iteration: 68, Loss: -0.337, Noise Variance: 0.070, Signal Variance: 0.794, Lengthscale: 1.474\n",
      "Iteration: 69, Loss: -0.318, Noise Variance: 0.070, Signal Variance: 0.791, Lengthscale: 1.482\n",
      "Iteration: 70, Loss: -0.364, Noise Variance: 0.070, Signal Variance: 0.789, Lengthscale: 1.489\n",
      "Iteration: 71, Loss: -0.344, Noise Variance: 0.069, Signal Variance: 0.786, Lengthscale: 1.497\n",
      "Iteration: 72, Loss: -0.365, Noise Variance: 0.069, Signal Variance: 0.783, Lengthscale: 1.504\n",
      "Iteration: 73, Loss: -0.369, Noise Variance: 0.069, Signal Variance: 0.780, Lengthscale: 1.512\n",
      "Iteration: 74, Loss: -0.382, Noise Variance: 0.068, Signal Variance: 0.777, Lengthscale: 1.519\n",
      "Iteration: 75, Loss: -0.399, Noise Variance: 0.068, Signal Variance: 0.775, Lengthscale: 1.527\n",
      "Iteration: 76, Loss: -0.398, Noise Variance: 0.067, Signal Variance: 0.772, Lengthscale: 1.534\n",
      "Iteration: 77, Loss: -0.383, Noise Variance: 0.067, Signal Variance: 0.769, Lengthscale: 1.542\n",
      "Iteration: 78, Loss: -0.396, Noise Variance: 0.067, Signal Variance: 0.767, Lengthscale: 1.549\n",
      "Iteration: 79, Loss: -0.396, Noise Variance: 0.066, Signal Variance: 0.764, Lengthscale: 1.557\n",
      "Iteration: 80, Loss: -0.414, Noise Variance: 0.066, Signal Variance: 0.761, Lengthscale: 1.564\n",
      "Iteration: 81, Loss: -0.418, Noise Variance: 0.066, Signal Variance: 0.759, Lengthscale: 1.572\n",
      "Iteration: 82, Loss: -0.452, Noise Variance: 0.065, Signal Variance: 0.756, Lengthscale: 1.579\n",
      "Iteration: 83, Loss: -0.425, Noise Variance: 0.065, Signal Variance: 0.753, Lengthscale: 1.587\n",
      "Iteration: 84, Loss: -0.420, Noise Variance: 0.065, Signal Variance: 0.751, Lengthscale: 1.594\n",
      "Iteration: 85, Loss: -0.442, Noise Variance: 0.064, Signal Variance: 0.748, Lengthscale: 1.602\n",
      "Iteration: 86, Loss: -0.438, Noise Variance: 0.064, Signal Variance: 0.745, Lengthscale: 1.609\n",
      "Iteration: 87, Loss: -0.468, Noise Variance: 0.063, Signal Variance: 0.743, Lengthscale: 1.617\n",
      "Iteration: 88, Loss: -0.490, Noise Variance: 0.063, Signal Variance: 0.740, Lengthscale: 1.624\n",
      "Iteration: 89, Loss: -0.448, Noise Variance: 0.063, Signal Variance: 0.738, Lengthscale: 1.632\n",
      "Iteration: 90, Loss: -0.452, Noise Variance: 0.062, Signal Variance: 0.735, Lengthscale: 1.639\n",
      "Iteration: 91, Loss: -0.463, Noise Variance: 0.062, Signal Variance: 0.733, Lengthscale: 1.647\n",
      "Iteration: 92, Loss: -0.482, Noise Variance: 0.062, Signal Variance: 0.730, Lengthscale: 1.654\n"
     ]
    },
    {
     "name": "stdout",
     "output_type": "stream",
     "text": [
      "Iteration: 93, Loss: -0.493, Noise Variance: 0.061, Signal Variance: 0.727, Lengthscale: 1.662\n",
      "Iteration: 94, Loss: -0.466, Noise Variance: 0.061, Signal Variance: 0.725, Lengthscale: 1.670\n",
      "Iteration: 95, Loss: -0.503, Noise Variance: 0.061, Signal Variance: 0.722, Lengthscale: 1.677\n",
      "Iteration: 96, Loss: -0.517, Noise Variance: 0.060, Signal Variance: 0.720, Lengthscale: 1.685\n",
      "Iteration: 97, Loss: -0.502, Noise Variance: 0.060, Signal Variance: 0.717, Lengthscale: 1.692\n",
      "Iteration: 98, Loss: -0.522, Noise Variance: 0.060, Signal Variance: 0.715, Lengthscale: 1.700\n",
      "Iteration: 99, Loss: -0.509, Noise Variance: 0.059, Signal Variance: 0.712, Lengthscale: 1.707\n",
      "Time: 0.68 sec\n"
     ]
    }
   ],
   "source": [
    "t0 = time()\n",
    "model.vanilla_train(lr=1e-2, iter=100, verbose=True)\n",
    "t1 = time()\n",
    "print(\"Time: %.2g sec\" % (t1 - t0))"
   ]
  },
  {
   "cell_type": "markdown",
   "id": "132bcc3e",
   "metadata": {},
   "source": [
    "## Evaluation"
   ]
  },
  {
   "cell_type": "code",
   "execution_count": 11,
   "id": "04e576d1",
   "metadata": {},
   "outputs": [],
   "source": [
    "%%capture\n",
    "likelihood.eval()\n",
    "model.eval()"
   ]
  },
  {
   "cell_type": "markdown",
   "id": "0ab36075",
   "metadata": {},
   "source": [
    "## Metrics"
   ]
  },
  {
   "cell_type": "code",
   "execution_count": 12,
   "id": "984df9f7",
   "metadata": {
    "scrolled": true
   },
   "outputs": [
    {
     "name": "stdout",
     "output_type": "stream",
     "text": [
      "RMSE:  tensor(0.0574, device='cuda:0')\n",
      "NLL:  tensor(-0.9145, device='cuda:0')\n"
     ]
    }
   ],
   "source": [
    "with torch.no_grad(), gpytorch.settings.fast_pred_var(), gpytorch.settings.cg_tolerance(10000):\n",
    "    preds_test = likelihood(model(test_x))\n",
    "        \n",
    "    error = test_y - preds_test.mean\n",
    "    covar = preds_test.lazy_covariance_matrix.evaluate_kernel()\n",
    "    inv_quad, logdet = covar.inv_quad_logdet(inv_quad_rhs=error.unsqueeze(-1), logdet=True)\n",
    "    \n",
    "    rmse = (error.square().sum()/test_y.shape[0]).sqrt()\n",
    "    nll = 0.5 * sum([inv_quad, logdet, error.size(-1)* np.log(2 * np.pi)])/test_y.shape[0]\n",
    "    \n",
    "print(\"RMSE: \", rmse)\n",
    "print(\"NLL: \", nll)"
   ]
  },
  {
   "cell_type": "code",
   "execution_count": null,
   "id": "e7ee6ebe",
   "metadata": {},
   "outputs": [],
   "source": []
  }
 ],
 "metadata": {
  "kernelspec": {
   "display_name": "Python 3 (ipykernel)",
   "language": "python",
   "name": "python3"
  },
  "language_info": {
   "codemirror_mode": {
    "name": "ipython",
    "version": 3
   },
   "file_extension": ".py",
   "mimetype": "text/x-python",
   "name": "python",
   "nbconvert_exporter": "python",
   "pygments_lexer": "ipython3",
   "version": "3.10.6"
  },
  "vscode": {
   "interpreter": {
    "hash": "916dbcbb3f70747c44a77c7bcd40155683ae19c65e1c03b4aa3499c5328201f1"
   }
  }
 },
 "nbformat": 4,
 "nbformat_minor": 5
}
