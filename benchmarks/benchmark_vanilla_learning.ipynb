{
 "cells": [
  {
   "cell_type": "markdown",
   "id": "5e276dbe",
   "metadata": {},
   "source": [
    "# Vanilla GP Supervised Learning via Precision Matrix on 1D Manifold"
   ]
  },
  {
   "cell_type": "markdown",
   "id": "a36444a5",
   "metadata": {},
   "source": [
    "## Preamble"
   ]
  },
  {
   "cell_type": "markdown",
   "id": "01d17d1f",
   "metadata": {},
   "source": [
    "This notebook provides an example of how to perform Gaussian Process Regression on a 1D manifold. In this example we consider a supervised learning scenario, namely the number of labeled data points is equivalent to the number of the sampled points from the underlying manifold."
   ]
  },
  {
   "cell_type": "code",
   "execution_count": 1,
   "id": "58e9afd1",
   "metadata": {},
   "outputs": [],
   "source": [
    "import torch\n",
    "import gpytorch\n",
    "import numpy as np\n",
    "from scipy.io import loadmat\n",
    "import scipy.spatial as ss\n",
    "import urllib.request\n",
    "import os\n",
    "\n",
    "from manifold_gp.models.vanilla_gp import VanillaGP"
   ]
  },
  {
   "cell_type": "markdown",
   "id": "75701656",
   "metadata": {},
   "source": [
    "## Dataset Preprocessing"
   ]
  },
  {
   "cell_type": "markdown",
   "id": "02483bf0",
   "metadata": {},
   "source": [
    "### Load & Settings"
   ]
  },
  {
   "cell_type": "code",
   "execution_count": 2,
   "id": "af216c23",
   "metadata": {},
   "outputs": [],
   "source": [
    "dataset = 'mnist' # ['protein','elevators', 'ctslice', 'mnist']\n",
    "cut = 10000\n",
    "\n",
    "if dataset == 'protein':\n",
    "    data = np.loadtxt('datasets/protein.csv', delimiter=\",\")[:cut]\n",
    "    sampled_x, sampled_y = data[:, 1:], data[:, 0]\n",
    "elif dataset == 'elevators':\n",
    "    data = np.array(loadmat('datasets/elevators.mat')['data'])\n",
    "    sampled_x, sampled_y = data[:, :-1], data[:, -1]\n",
    "elif dataset == 'ctslice':\n",
    "    data = np.loadtxt('datasets/ctslice.csv', delimiter=\",\")[:cut]\n",
    "    sampled_x, sampled_y = data[:, :-1], data[:, -1]\n",
    "elif dataset == 'mnist':\n",
    "    data = np.loadtxt('datasets/mnist.csv')\n",
    "    sampled_x, sampled_y = data[:, 2:], data[:, 1]\n",
    "    torch.manual_seed(1337)\n",
    "    rand_idx = torch.randperm(sampled_x.shape[0])\n",
    "    sampled_x = sampled_x[rand_idx]\n",
    "    sampled_y = sampled_y[rand_idx]\n",
    "    \n",
    "preprocess = False\n",
    "normalize_features = False\n",
    "normalize_labels = True"
   ]
  },
  {
   "cell_type": "code",
   "execution_count": null,
   "id": "19b314d4",
   "metadata": {},
   "outputs": [],
   "source": [
    "if preprocess:\n",
    "    # remove coincident points\n",
    "    sampled_x, id_unique = np.unique(sampled_x, axis=0, return_index=True)\n",
    "    sampled_y = sampled_y[id_unique]\n",
    "\n",
    "    # cut between 0.01 and 0.99 quantile of distances\n",
    "    kd_tree = ss.KDTree(sampled_x)\n",
    "    v = kd_tree.query(sampled_x, k=2)[0][:, 1]\n",
    "    idx = np.argsort(v)\n",
    "    percentile_start = int(np.round(idx.shape[0]*0.10))\n",
    "    percentile_end = int(np.round(idx.shape[0]*0.90))\n",
    "    sampled_x = sampled_x[idx[percentile_start:percentile_end], :]\n",
    "    sampled_y = sampled_y[idx[percentile_start:percentile_end]]\n",
    "m = sampled_x.shape[0]"
   ]
  },
  {
   "cell_type": "markdown",
   "id": "331daec5",
   "metadata": {},
   "source": [
    "### Trainset & Testset"
   ]
  },
  {
   "cell_type": "code",
   "execution_count": 3,
   "id": "163309fd",
   "metadata": {},
   "outputs": [],
   "source": [
    "split = int(0.2 * m)\n",
    "\n",
    "train_x, train_y = sampled_x[:split], sampled_y[:split]\n",
    "test_x, test_y = sampled_x[split:], sampled_y[split:]\n",
    "\n",
    "train_x = torch.from_numpy(train_x).float()\n",
    "train_y = torch.from_numpy(train_y).float()\n",
    "test_x = torch.from_numpy(test_x).float()\n",
    "test_y = torch.from_numpy(test_y).float()\n",
    "\n",
    "if normalize_features:\n",
    "    mu_x, std_x = train_x.mean(dim=-2, keepdim=True), train_x.std(dim=-2, keepdim=True) + 1e-6\n",
    "    train_x.sub_(mu_x).div_(std_x)\n",
    "    test_x.sub_(mu_x).div_(std_x)\n",
    "    \n",
    "if normalize_labels:\n",
    "    mu_y, std_y = train_y.mean(), train_y.std()\n",
    "    train_y.sub_(mu_y).div_(std_y)\n",
    "    test_y.sub_(mu_y).div_(std_y)"
   ]
  },
  {
   "cell_type": "markdown",
   "id": "b87581de",
   "metadata": {},
   "source": [
    "### Move Data to Device"
   ]
  },
  {
   "cell_type": "code",
   "execution_count": 4,
   "id": "d1c91b4b",
   "metadata": {},
   "outputs": [],
   "source": [
    "train_x, train_y = train_x.contiguous(), train_y.contiguous()\n",
    "test_x, test_y = test_x.contiguous(), test_y.contiguous()\n",
    "\n",
    "use_cuda = torch.cuda.is_available()\n",
    "device = torch.device(\"cuda\" if use_cuda else \"cpu\")\n",
    "train_x, train_y = train_x.to(device), train_y.to(device)\n",
    "test_x, test_y = test_x.to(device), test_y.to(device)"
   ]
  },
  {
   "cell_type": "markdown",
   "id": "d3441ad2",
   "metadata": {},
   "source": [
    "## Model"
   ]
  },
  {
   "cell_type": "code",
   "execution_count": 5,
   "id": "15e47b46",
   "metadata": {},
   "outputs": [],
   "source": [
    "%%capture\n",
    "likelihood = gpytorch.likelihoods.GaussianLikelihood(\n",
    "    noise_constraint=gpytorch.constraints.GreaterThan(1e-8),\n",
    "    noise_prior=None  # NormalPrior(torch.tensor([0.0]).to(device),  torch.tensor([1/9]).sqrt().to(device))\n",
    ")\n",
    "\n",
    "kernel = gpytorch.kernels.ScaleKernel(gpytorch.kernels.MaternKernel(nu=2.5))\n",
    "# gpytorch.kernels.ScaleKernel(gpytorch.kernels.RBFKernel())\n",
    "\n",
    "model = VanillaGP(train_x, train_y, likelihood, kernel).to(device)\n",
    "\n",
    "hypers = {\n",
    "    'likelihood.noise_covar.noise': 1e-2,\n",
    "    'covar_module.base_kernel.lengthscale': 0.5,\n",
    "    'covar_module.outputscale': 1.0,\n",
    "}\n",
    "model.initialize(**hypers)"
   ]
  },
  {
   "cell_type": "markdown",
   "id": "8b14763b",
   "metadata": {},
   "source": [
    "## Train"
   ]
  },
  {
   "cell_type": "code",
   "execution_count": 6,
   "id": "7bb0ab30",
   "metadata": {
    "scrolled": false
   },
   "outputs": [
    {
     "name": "stdout",
     "output_type": "stream",
     "text": [
      "Iteration: 0, Loss: 1.093, Noise Variance: 0.100, Signal Variance: 1.000, Lengthscale: 0.500\n",
      "Iteration: 1, Loss: 1.101, Noise Variance: 0.100, Signal Variance: 1.003, Lengthscale: 0.496\n",
      "Iteration: 2, Loss: 1.077, Noise Variance: 0.100, Signal Variance: 1.006, Lengthscale: 0.492\n",
      "Iteration: 3, Loss: 1.086, Noise Variance: 0.100, Signal Variance: 1.009, Lengthscale: 0.488\n",
      "Iteration: 4, Loss: 1.081, Noise Variance: 0.099, Signal Variance: 1.013, Lengthscale: 0.485\n",
      "Iteration: 5, Loss: 1.075, Noise Variance: 0.099, Signal Variance: 1.016, Lengthscale: 0.481\n",
      "Iteration: 6, Loss: 1.088, Noise Variance: 0.098, Signal Variance: 1.019, Lengthscale: 0.477\n",
      "Iteration: 7, Loss: 1.075, Noise Variance: 0.098, Signal Variance: 1.022, Lengthscale: 0.474\n",
      "Iteration: 8, Loss: 1.064, Noise Variance: 0.098, Signal Variance: 1.025, Lengthscale: 0.470\n",
      "Iteration: 9, Loss: 1.060, Noise Variance: 0.097, Signal Variance: 1.028, Lengthscale: 0.466\n",
      "Iteration: 10, Loss: 1.069, Noise Variance: 0.097, Signal Variance: 1.031, Lengthscale: 0.463\n",
      "Iteration: 11, Loss: 1.062, Noise Variance: 0.096, Signal Variance: 1.033, Lengthscale: 0.460\n",
      "Iteration: 12, Loss: 1.046, Noise Variance: 0.096, Signal Variance: 1.036, Lengthscale: 0.456\n",
      "Iteration: 13, Loss: 1.049, Noise Variance: 0.095, Signal Variance: 1.039, Lengthscale: 0.453\n",
      "Iteration: 14, Loss: 1.055, Noise Variance: 0.095, Signal Variance: 1.042, Lengthscale: 0.450\n",
      "Iteration: 15, Loss: 1.043, Noise Variance: 0.094, Signal Variance: 1.044, Lengthscale: 0.447\n",
      "Iteration: 16, Loss: 1.054, Noise Variance: 0.094, Signal Variance: 1.047, Lengthscale: 0.444\n",
      "Iteration: 17, Loss: 1.058, Noise Variance: 0.093, Signal Variance: 1.049, Lengthscale: 0.442\n",
      "Iteration: 18, Loss: 1.052, Noise Variance: 0.093, Signal Variance: 1.052, Lengthscale: 0.439\n",
      "Iteration: 19, Loss: 1.064, Noise Variance: 0.092, Signal Variance: 1.054, Lengthscale: 0.437\n",
      "Iteration: 20, Loss: 1.045, Noise Variance: 0.092, Signal Variance: 1.056, Lengthscale: 0.434\n",
      "Iteration: 21, Loss: 1.044, Noise Variance: 0.091, Signal Variance: 1.058, Lengthscale: 0.432\n",
      "Iteration: 22, Loss: 1.056, Noise Variance: 0.091, Signal Variance: 1.060, Lengthscale: 0.430\n",
      "Iteration: 23, Loss: 1.044, Noise Variance: 0.090, Signal Variance: 1.062, Lengthscale: 0.428\n",
      "Iteration: 24, Loss: 1.055, Noise Variance: 0.090, Signal Variance: 1.064, Lengthscale: 0.426\n",
      "Iteration: 25, Loss: 1.049, Noise Variance: 0.089, Signal Variance: 1.065, Lengthscale: 0.424\n",
      "Iteration: 26, Loss: 1.048, Noise Variance: 0.089, Signal Variance: 1.067, Lengthscale: 0.423\n",
      "Iteration: 27, Loss: 1.042, Noise Variance: 0.088, Signal Variance: 1.068, Lengthscale: 0.421\n",
      "Iteration: 28, Loss: 1.039, Noise Variance: 0.088, Signal Variance: 1.069, Lengthscale: 0.420\n",
      "Iteration: 29, Loss: 1.050, Noise Variance: 0.087, Signal Variance: 1.071, Lengthscale: 0.419\n",
      "Iteration: 30, Loss: 1.044, Noise Variance: 0.087, Signal Variance: 1.072, Lengthscale: 0.417\n",
      "Iteration: 31, Loss: 1.036, Noise Variance: 0.086, Signal Variance: 1.073, Lengthscale: 0.417\n",
      "Iteration: 32, Loss: 1.031, Noise Variance: 0.086, Signal Variance: 1.073, Lengthscale: 0.416\n",
      "Iteration: 33, Loss: 1.050, Noise Variance: 0.085, Signal Variance: 1.074, Lengthscale: 0.415\n",
      "Iteration: 34, Loss: 1.044, Noise Variance: 0.085, Signal Variance: 1.075, Lengthscale: 0.414\n",
      "Iteration: 35, Loss: 1.051, Noise Variance: 0.084, Signal Variance: 1.075, Lengthscale: 0.414\n",
      "Iteration: 36, Loss: 1.024, Noise Variance: 0.084, Signal Variance: 1.076, Lengthscale: 0.413\n",
      "Iteration: 37, Loss: 1.036, Noise Variance: 0.083, Signal Variance: 1.076, Lengthscale: 0.413\n",
      "Iteration: 38, Loss: 1.047, Noise Variance: 0.083, Signal Variance: 1.076, Lengthscale: 0.413\n",
      "Iteration: 39, Loss: 1.046, Noise Variance: 0.082, Signal Variance: 1.077, Lengthscale: 0.413\n",
      "Iteration: 40, Loss: 1.042, Noise Variance: 0.082, Signal Variance: 1.077, Lengthscale: 0.413\n",
      "Iteration: 41, Loss: 1.051, Noise Variance: 0.081, Signal Variance: 1.077, Lengthscale: 0.413\n",
      "Iteration: 42, Loss: 1.044, Noise Variance: 0.081, Signal Variance: 1.077, Lengthscale: 0.413\n",
      "Iteration: 43, Loss: 1.046, Noise Variance: 0.080, Signal Variance: 1.077, Lengthscale: 0.413\n",
      "Iteration: 44, Loss: 1.060, Noise Variance: 0.080, Signal Variance: 1.077, Lengthscale: 0.413\n",
      "Iteration: 45, Loss: 1.063, Noise Variance: 0.080, Signal Variance: 1.077, Lengthscale: 0.413\n",
      "Iteration: 46, Loss: 1.050, Noise Variance: 0.079, Signal Variance: 1.076, Lengthscale: 0.413\n",
      "Iteration: 47, Loss: 1.052, Noise Variance: 0.079, Signal Variance: 1.076, Lengthscale: 0.413\n",
      "Iteration: 48, Loss: 1.047, Noise Variance: 0.078, Signal Variance: 1.076, Lengthscale: 0.414\n",
      "Iteration: 49, Loss: 1.062, Noise Variance: 0.078, Signal Variance: 1.076, Lengthscale: 0.414\n",
      "Iteration: 50, Loss: 1.049, Noise Variance: 0.077, Signal Variance: 1.075, Lengthscale: 0.414\n",
      "Iteration: 51, Loss: 1.044, Noise Variance: 0.077, Signal Variance: 1.075, Lengthscale: 0.415\n",
      "Iteration: 52, Loss: 1.039, Noise Variance: 0.077, Signal Variance: 1.075, Lengthscale: 0.415\n",
      "Iteration: 53, Loss: 1.044, Noise Variance: 0.076, Signal Variance: 1.074, Lengthscale: 0.415\n",
      "Iteration: 54, Loss: 1.041, Noise Variance: 0.076, Signal Variance: 1.074, Lengthscale: 0.416\n",
      "Iteration: 55, Loss: 1.046, Noise Variance: 0.075, Signal Variance: 1.074, Lengthscale: 0.416\n",
      "Iteration: 56, Loss: 1.039, Noise Variance: 0.075, Signal Variance: 1.073, Lengthscale: 0.416\n",
      "Iteration: 57, Loss: 1.046, Noise Variance: 0.075, Signal Variance: 1.073, Lengthscale: 0.417\n",
      "Iteration: 58, Loss: 1.045, Noise Variance: 0.074, Signal Variance: 1.073, Lengthscale: 0.417\n",
      "Iteration: 59, Loss: 1.044, Noise Variance: 0.074, Signal Variance: 1.072, Lengthscale: 0.418\n",
      "Iteration: 60, Loss: 1.045, Noise Variance: 0.073, Signal Variance: 1.072, Lengthscale: 0.418\n",
      "Iteration: 61, Loss: 1.037, Noise Variance: 0.073, Signal Variance: 1.072, Lengthscale: 0.419\n",
      "Iteration: 62, Loss: 1.044, Noise Variance: 0.073, Signal Variance: 1.071, Lengthscale: 0.419\n",
      "Iteration: 63, Loss: 1.033, Noise Variance: 0.072, Signal Variance: 1.071, Lengthscale: 0.419\n",
      "Iteration: 64, Loss: 1.040, Noise Variance: 0.072, Signal Variance: 1.071, Lengthscale: 0.419\n",
      "Iteration: 65, Loss: 1.040, Noise Variance: 0.072, Signal Variance: 1.071, Lengthscale: 0.420\n",
      "Iteration: 66, Loss: 1.048, Noise Variance: 0.071, Signal Variance: 1.071, Lengthscale: 0.420\n",
      "Iteration: 67, Loss: 1.047, Noise Variance: 0.071, Signal Variance: 1.070, Lengthscale: 0.420\n",
      "Iteration: 68, Loss: 1.037, Noise Variance: 0.071, Signal Variance: 1.070, Lengthscale: 0.420\n",
      "Iteration: 69, Loss: 1.040, Noise Variance: 0.070, Signal Variance: 1.070, Lengthscale: 0.421\n",
      "Iteration: 70, Loss: 1.044, Noise Variance: 0.070, Signal Variance: 1.070, Lengthscale: 0.421\n",
      "Iteration: 71, Loss: 1.048, Noise Variance: 0.070, Signal Variance: 1.070, Lengthscale: 0.421\n",
      "Iteration: 72, Loss: 1.045, Noise Variance: 0.069, Signal Variance: 1.070, Lengthscale: 0.421\n",
      "Iteration: 73, Loss: 1.038, Noise Variance: 0.069, Signal Variance: 1.070, Lengthscale: 0.421\n",
      "Iteration: 74, Loss: 1.044, Noise Variance: 0.069, Signal Variance: 1.070, Lengthscale: 0.421\n",
      "Iteration: 75, Loss: 1.044, Noise Variance: 0.068, Signal Variance: 1.070, Lengthscale: 0.421\n",
      "Iteration: 76, Loss: 1.040, Noise Variance: 0.068, Signal Variance: 1.070, Lengthscale: 0.421\n",
      "Iteration: 77, Loss: 1.053, Noise Variance: 0.068, Signal Variance: 1.071, Lengthscale: 0.420\n",
      "Iteration: 78, Loss: 1.049, Noise Variance: 0.067, Signal Variance: 1.071, Lengthscale: 0.420\n",
      "Iteration: 79, Loss: 1.041, Noise Variance: 0.067, Signal Variance: 1.071, Lengthscale: 0.420\n",
      "Iteration: 80, Loss: 1.026, Noise Variance: 0.067, Signal Variance: 1.071, Lengthscale: 0.420\n",
      "Iteration: 81, Loss: 1.045, Noise Variance: 0.066, Signal Variance: 1.071, Lengthscale: 0.420\n",
      "Iteration: 82, Loss: 1.044, Noise Variance: 0.066, Signal Variance: 1.071, Lengthscale: 0.420\n",
      "Iteration: 83, Loss: 1.039, Noise Variance: 0.066, Signal Variance: 1.072, Lengthscale: 0.420\n",
      "Iteration: 84, Loss: 1.043, Noise Variance: 0.066, Signal Variance: 1.072, Lengthscale: 0.420\n",
      "Iteration: 85, Loss: 1.052, Noise Variance: 0.065, Signal Variance: 1.072, Lengthscale: 0.420\n",
      "Iteration: 86, Loss: 1.040, Noise Variance: 0.065, Signal Variance: 1.072, Lengthscale: 0.420\n",
      "Iteration: 87, Loss: 1.048, Noise Variance: 0.065, Signal Variance: 1.072, Lengthscale: 0.420\n",
      "Iteration: 88, Loss: 1.050, Noise Variance: 0.064, Signal Variance: 1.072, Lengthscale: 0.419\n",
      "Iteration: 89, Loss: 1.052, Noise Variance: 0.064, Signal Variance: 1.073, Lengthscale: 0.419\n"
     ]
    },
    {
     "name": "stdout",
     "output_type": "stream",
     "text": [
      "Iteration: 90, Loss: 1.044, Noise Variance: 0.064, Signal Variance: 1.073, Lengthscale: 0.419\n",
      "Iteration: 91, Loss: 1.056, Noise Variance: 0.063, Signal Variance: 1.073, Lengthscale: 0.419\n",
      "Iteration: 92, Loss: 1.053, Noise Variance: 0.063, Signal Variance: 1.073, Lengthscale: 0.419\n",
      "Iteration: 93, Loss: 1.048, Noise Variance: 0.063, Signal Variance: 1.073, Lengthscale: 0.419\n",
      "Iteration: 94, Loss: 1.051, Noise Variance: 0.063, Signal Variance: 1.073, Lengthscale: 0.419\n",
      "Iteration: 95, Loss: 1.040, Noise Variance: 0.062, Signal Variance: 1.074, Lengthscale: 0.419\n",
      "Iteration: 96, Loss: 1.052, Noise Variance: 0.062, Signal Variance: 1.074, Lengthscale: 0.419\n",
      "Iteration: 97, Loss: 1.048, Noise Variance: 0.062, Signal Variance: 1.074, Lengthscale: 0.419\n",
      "Iteration: 98, Loss: 1.051, Noise Variance: 0.062, Signal Variance: 1.074, Lengthscale: 0.419\n",
      "Iteration: 99, Loss: 1.053, Noise Variance: 0.061, Signal Variance: 1.074, Lengthscale: 0.419\n"
     ]
    }
   ],
   "source": [
    "model.vanilla_train(lr=1e-2, iter=100, verbose=True)"
   ]
  },
  {
   "cell_type": "markdown",
   "id": "132bcc3e",
   "metadata": {},
   "source": [
    "## Evaluation"
   ]
  },
  {
   "cell_type": "code",
   "execution_count": 7,
   "id": "04e576d1",
   "metadata": {},
   "outputs": [],
   "source": [
    "%%capture\n",
    "likelihood.eval()\n",
    "model.eval()"
   ]
  },
  {
   "cell_type": "markdown",
   "id": "0ab36075",
   "metadata": {},
   "source": [
    "## Metrics"
   ]
  },
  {
   "cell_type": "code",
   "execution_count": 8,
   "id": "984df9f7",
   "metadata": {
    "scrolled": true
   },
   "outputs": [
    {
     "name": "stdout",
     "output_type": "stream",
     "text": [
      "RMSE:  tensor(0.9660, device='cuda:0')\n",
      "NLL:  tensor(1.1479, device='cuda:0')\n"
     ]
    }
   ],
   "source": [
    "with torch.no_grad(), gpytorch.settings.fast_pred_var(), gpytorch.settings.cg_tolerance(10000):\n",
    "    preds_test = likelihood(model(test_x))\n",
    "        \n",
    "    error = test_y - preds_test.mean\n",
    "    covar = preds_test.lazy_covariance_matrix.evaluate_kernel()\n",
    "    inv_quad, logdet = covar.inv_quad_logdet(inv_quad_rhs=error.unsqueeze(-1), logdet=True)\n",
    "    \n",
    "    rmse = (error.square().sum()/test_y.shape[0]).sqrt()\n",
    "    nll = 0.5 * sum([inv_quad, logdet, error.size(-1)* np.log(2 * np.pi)])/test_y.shape[0]\n",
    "    \n",
    "print(\"RMSE: \", rmse)\n",
    "print(\"NLL: \", nll)"
   ]
  },
  {
   "cell_type": "code",
   "execution_count": null,
   "id": "e7ee6ebe",
   "metadata": {},
   "outputs": [],
   "source": []
  }
 ],
 "metadata": {
  "kernelspec": {
   "display_name": "Python 3 (ipykernel)",
   "language": "python",
   "name": "python3"
  },
  "language_info": {
   "codemirror_mode": {
    "name": "ipython",
    "version": 3
   },
   "file_extension": ".py",
   "mimetype": "text/x-python",
   "name": "python",
   "nbconvert_exporter": "python",
   "pygments_lexer": "ipython3",
   "version": "3.10.6"
  },
  "vscode": {
   "interpreter": {
    "hash": "916dbcbb3f70747c44a77c7bcd40155683ae19c65e1c03b4aa3499c5328201f1"
   }
  }
 },
 "nbformat": 4,
 "nbformat_minor": 5
}
