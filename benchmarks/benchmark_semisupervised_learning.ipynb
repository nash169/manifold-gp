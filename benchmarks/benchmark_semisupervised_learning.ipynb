{
 "cells": [
  {
   "cell_type": "markdown",
   "id": "5e276dbe",
   "metadata": {},
   "source": [
    "# Manifold GP Semi-Supervised Learning via Precision Matrix on 1D Manifold"
   ]
  },
  {
   "cell_type": "markdown",
   "id": "a36444a5",
   "metadata": {},
   "source": [
    "## Preamble"
   ]
  },
  {
   "cell_type": "markdown",
   "id": "01d17d1f",
   "metadata": {},
   "source": [
    "This notebook provides an example of how to perform Gaussian Process Regression on a 1D manifold. In this example we consider a supervised learning scenario, namely the number of labeled data points is equivalent to the number of the sampled points from the underlying manifold."
   ]
  },
  {
   "cell_type": "code",
   "execution_count": 1,
   "id": "58e9afd1",
   "metadata": {},
   "outputs": [],
   "source": [
    "import torch\n",
    "import gpytorch\n",
    "import numpy as np\n",
    "import os\n",
    "import scipy.spatial as ss\n",
    "\n",
    "from manifold_gp.kernels.riemann_matern_kernel import RiemannMaternKernel\n",
    "from manifold_gp.models.riemann_gp import RiemannGP\n",
    "from gpytorch.priors import NormalPrior, GammaPrior"
   ]
  },
  {
   "cell_type": "markdown",
   "id": "75701656",
   "metadata": {},
   "source": [
    "## Dataset Preprocessing"
   ]
  },
  {
   "cell_type": "markdown",
   "id": "02483bf0",
   "metadata": {},
   "source": [
    "### Load & Settings"
   ]
  },
  {
   "cell_type": "code",
   "execution_count": 2,
   "id": "af216c23",
   "metadata": {},
   "outputs": [],
   "source": [
    "dataset = 'mnist' # ['protein','elevators', 'ctslice', 'mnist']\n",
    "cut = 10000\n",
    "\n",
    "if dataset == 'protein':\n",
    "    data = np.loadtxt('datasets/protein.csv', delimiter=\",\")[:cut]\n",
    "    sampled_x, sampled_y = data[:, 1:], data[:, 0]\n",
    "elif dataset == 'elevators':\n",
    "    data = np.array(loadmat('datasets/elevators.mat')['data'])\n",
    "    sampled_x, sampled_y = data[:, :-1], data[:, -1]\n",
    "elif dataset == 'ctslice':\n",
    "    data = np.loadtxt('datasets/ctslice.csv', delimiter=\",\")[:cut]\n",
    "    sampled_x, sampled_y = data[:, :-1], data[:, -1]\n",
    "elif dataset == 'mnist':\n",
    "    data = np.loadtxt('datasets/mnist.csv')\n",
    "    sampled_x, sampled_y = data[:, 2:], data[:, 1]\n",
    "    torch.manual_seed(1337)\n",
    "    rand_idx = torch.randperm(sampled_x.shape[0])\n",
    "    sampled_x = sampled_x[rand_idx]\n",
    "    sampled_y = sampled_y[rand_idx]\n",
    "    \n",
    "preprocess = False\n",
    "normalize_features = False\n",
    "normalize_labels = True"
   ]
  },
  {
   "cell_type": "code",
   "execution_count": 3,
   "id": "dd8811d4",
   "metadata": {},
   "outputs": [],
   "source": [
    "if preprocess:\n",
    "    # remove coincident points\n",
    "    sampled_x, id_unique = np.unique(sampled_x, axis=0, return_index=True)\n",
    "    sampled_y = sampled_y[id_unique]\n",
    "\n",
    "    # cut between 0.01 and 0.99 quantile of distances\n",
    "    kd_tree = ss.KDTree(sampled_x)\n",
    "    v = kd_tree.query(sampled_x, k=2)[0][:, 1]\n",
    "    idx = np.argsort(v)\n",
    "    percentile_start = int(np.round(idx.shape[0]*0.10))\n",
    "    percentile_end = int(np.round(idx.shape[0]*0.90))\n",
    "    sampled_x = sampled_x[idx[percentile_start:percentile_end], :]\n",
    "    sampled_y = sampled_y[idx[percentile_start:percentile_end]]\n",
    "m = sampled_x.shape[0]"
   ]
  },
  {
   "cell_type": "markdown",
   "id": "331daec5",
   "metadata": {},
   "source": [
    "### Trainset & Testset"
   ]
  },
  {
   "cell_type": "code",
   "execution_count": 4,
   "id": "163309fd",
   "metadata": {},
   "outputs": [],
   "source": [
    "split = int(0.2 * m)\n",
    "\n",
    "train_x, train_y = sampled_x[:split], sampled_y[:split]\n",
    "test_x, test_y = sampled_x[split:], sampled_y[split:]\n",
    "\n",
    "train_idx = torch.arange(0, split)\n",
    "sampled_x = torch.from_numpy(sampled_x).float()\n",
    "train_x = torch.from_numpy(train_x).float()\n",
    "train_y = torch.from_numpy(train_y).float()\n",
    "test_x = torch.from_numpy(test_x).float()\n",
    "test_y = torch.from_numpy(test_y).float()\n",
    "\n",
    "if normalize_features:\n",
    "    mu_x, std_x = sampled_x.mean(dim=-2, keepdim=True), sampled_x.std(dim=-2, keepdim=True) + 1e-6\n",
    "    sampled_x.sub_(mu_x).div_(std_x)\n",
    "    train_x.sub_(mu_x).div_(std_x)\n",
    "    test_x.sub_(mu_x).div_(std_x)\n",
    "    \n",
    "if normalize_labels:\n",
    "    mu_y, std_y = train_y.mean(), train_y.std()\n",
    "    train_y.sub_(mu_y).div_(std_y)\n",
    "    test_y.sub_(mu_y).div_(std_y)"
   ]
  },
  {
   "cell_type": "markdown",
   "id": "32c2feda",
   "metadata": {},
   "source": [
    "### Hyperparameters Priors"
   ]
  },
  {
   "cell_type": "code",
   "execution_count": 5,
   "id": "f1d67029",
   "metadata": {},
   "outputs": [],
   "source": [
    "import scipy.spatial as ss\n",
    "neighbors = 10\n",
    "kd_tree = ss.KDTree(sampled_x)\n",
    "v = np.sort(kd_tree.query(sampled_x, k=neighbors+1)[0][:, 1:].ravel())\n",
    "percentile_99 = int(np.round(v.shape[0]*0.99))\n",
    "gamma_rate = 100.0/np.std(v)\n",
    "gamma_concentration = gamma_rate * v[percentile_99] + 1"
   ]
  },
  {
   "cell_type": "markdown",
   "id": "b87581de",
   "metadata": {},
   "source": [
    "### Move Data to Device"
   ]
  },
  {
   "cell_type": "code",
   "execution_count": 6,
   "id": "d1c91b4b",
   "metadata": {},
   "outputs": [],
   "source": [
    "sampled_x = sampled_x.contiguous()\n",
    "# train_idx = train_idx.contiguous()\n",
    "train_x, train_y = train_x.contiguous(), train_y.contiguous()\n",
    "test_x, test_y = test_x.contiguous(), test_y.contiguous()\n",
    "\n",
    "use_cuda = torch.cuda.is_available()\n",
    "device = torch.device(\"cuda\" if use_cuda else \"cpu\")\n",
    "sampled_x = sampled_x.to(device)\n",
    "# train_idx = train_idx.to(device)\n",
    "train_x, train_y = train_x.to(device), train_y.to(device)\n",
    "test_x, test_y = test_x.to(device), test_y.to(device)"
   ]
  },
  {
   "cell_type": "markdown",
   "id": "405d4275",
   "metadata": {},
   "source": [
    "## Model"
   ]
  },
  {
   "cell_type": "code",
   "execution_count": 7,
   "id": "83460075",
   "metadata": {},
   "outputs": [],
   "source": [
    "%%capture\n",
    "likelihood = gpytorch.likelihoods.GaussianLikelihood(\n",
    "    noise_constraint=gpytorch.constraints.GreaterThan(1e-8),\n",
    "    noise_prior=None  # NormalPrior(torch.tensor([0.0]).to(device),  torch.tensor([1/9]).sqrt().to(device))\n",
    ")\n",
    "\n",
    "kernel = gpytorch.kernels.ScaleKernel(\n",
    "    RiemannMaternKernel(\n",
    "        nu=3,\n",
    "        nodes=sampled_x,\n",
    "        neighbors=50,\n",
    "        operator=\"randomwalk\",\n",
    "        modes=100,\n",
    "        ball_scale=3.0,\n",
    "        support_kernel=gpytorch.kernels.RBFKernel(),\n",
    "        epsilon_prior=GammaPrior(gamma_concentration, gamma_rate),\n",
    "        lengthscale_prior=None, # InverseGammaPrior(igamma_concentration, igamma_rate)\n",
    "    ),\n",
    "    outputscale_prior=None  # NormalPrior(torch.tensor([1.0]).to(device),  torch.tensor([1/9]).sqrt().to(device))\n",
    ")\n",
    "\n",
    "model = RiemannGP(train_x, train_y, likelihood, kernel, train_idx).to(device)"
   ]
  },
  {
   "cell_type": "markdown",
   "id": "8b14763b",
   "metadata": {},
   "source": [
    "## Train"
   ]
  },
  {
   "cell_type": "code",
   "execution_count": 8,
   "id": "41a6cf1e",
   "metadata": {},
   "outputs": [],
   "source": [
    "%%capture\n",
    "hypers = {\n",
    "    'likelihood.noise_covar.noise': 1e-2, # 0.037,\n",
    "    'covar_module.base_kernel.epsilon': 0.5, # 0.029,\n",
    "    'covar_module.base_kernel.lengthscale': 0.5, # 5.130,\n",
    "    'covar_module.outputscale': 1.0, # 0.0656,\n",
    "    'covar_module.base_kernel.support_kernel.lengthscale': 1.0,\n",
    "}\n",
    "model.initialize(**hypers)"
   ]
  },
  {
   "cell_type": "code",
   "execution_count": 9,
   "id": "5377308c",
   "metadata": {
    "scrolled": false
   },
   "outputs": [
    {
     "name": "stdout",
     "output_type": "stream",
     "text": [
      "Iter: 0, LR: 0.010, Loss: 900.358, NoiseVar: 0.010, SignalVar: 624056.500, Lengthscale: 0.500, Epsilon: 0.500\n",
      "Iter: 1, LR: 0.010, Loss: 897.037, NoiseVar: 0.010, SignalVar: 624056.500, Lengthscale: 0.496, Epsilon: 0.496\n",
      "Iter: 2, LR: 0.010, Loss: 895.467, NoiseVar: 0.010, SignalVar: 624056.500, Lengthscale: 0.493, Epsilon: 0.492\n",
      "Iter: 3, LR: 0.010, Loss: 895.665, NoiseVar: 0.010, SignalVar: 624056.500, Lengthscale: 0.491, Epsilon: 0.488\n",
      "Iter: 4, LR: 0.010, Loss: 890.094, NoiseVar: 0.010, SignalVar: 624056.500, Lengthscale: 0.491, Epsilon: 0.484\n",
      "Iter: 5, LR: 0.010, Loss: 892.024, NoiseVar: 0.010, SignalVar: 624056.500, Lengthscale: 0.492, Epsilon: 0.481\n",
      "Iter: 6, LR: 0.010, Loss: 887.028, NoiseVar: 0.009, SignalVar: 624056.500, Lengthscale: 0.494, Epsilon: 0.477\n",
      "Iter: 7, LR: 0.010, Loss: 891.085, NoiseVar: 0.009, SignalVar: 624056.500, Lengthscale: 0.495, Epsilon: 0.473\n",
      "Iter: 8, LR: 0.010, Loss: 884.693, NoiseVar: 0.009, SignalVar: 624056.500, Lengthscale: 0.497, Epsilon: 0.469\n",
      "Iter: 9, LR: 0.010, Loss: 888.573, NoiseVar: 0.009, SignalVar: 624056.500, Lengthscale: 0.497, Epsilon: 0.465\n",
      "Iter: 10, LR: 0.010, Loss: 883.821, NoiseVar: 0.009, SignalVar: 624056.500, Lengthscale: 0.497, Epsilon: 0.462\n",
      "Iter: 11, LR: 0.010, Loss: 878.257, NoiseVar: 0.009, SignalVar: 624056.500, Lengthscale: 0.496, Epsilon: 0.458\n",
      "Iter: 12, LR: 0.010, Loss: 877.127, NoiseVar: 0.009, SignalVar: 624056.500, Lengthscale: 0.495, Epsilon: 0.454\n",
      "Iter: 13, LR: 0.010, Loss: 876.709, NoiseVar: 0.009, SignalVar: 624056.500, Lengthscale: 0.494, Epsilon: 0.451\n",
      "Iter: 14, LR: 0.010, Loss: 873.057, NoiseVar: 0.009, SignalVar: 624056.500, Lengthscale: 0.493, Epsilon: 0.447\n",
      "Iter: 15, LR: 0.010, Loss: 871.886, NoiseVar: 0.009, SignalVar: 624056.500, Lengthscale: 0.493, Epsilon: 0.443\n",
      "Iter: 16, LR: 0.010, Loss: 874.776, NoiseVar: 0.009, SignalVar: 624056.500, Lengthscale: 0.493, Epsilon: 0.440\n",
      "Iter: 17, LR: 0.010, Loss: 867.505, NoiseVar: 0.008, SignalVar: 624056.500, Lengthscale: 0.494, Epsilon: 0.436\n",
      "Iter: 18, LR: 0.010, Loss: 868.849, NoiseVar: 0.008, SignalVar: 624056.500, Lengthscale: 0.495, Epsilon: 0.433\n",
      "Iter: 19, LR: 0.010, Loss: 866.240, NoiseVar: 0.008, SignalVar: 624056.500, Lengthscale: 0.495, Epsilon: 0.429\n",
      "Iter: 20, LR: 0.010, Loss: 864.492, NoiseVar: 0.008, SignalVar: 624056.500, Lengthscale: 0.495, Epsilon: 0.426\n",
      "Iter: 21, LR: 0.010, Loss: 859.076, NoiseVar: 0.008, SignalVar: 624056.500, Lengthscale: 0.495, Epsilon: 0.422\n",
      "Iter: 22, LR: 0.010, Loss: 857.225, NoiseVar: 0.008, SignalVar: 624056.500, Lengthscale: 0.495, Epsilon: 0.418\n",
      "Iter: 23, LR: 0.010, Loss: 856.630, NoiseVar: 0.008, SignalVar: 624056.500, Lengthscale: 0.495, Epsilon: 0.415\n",
      "Iter: 24, LR: 0.010, Loss: 852.525, NoiseVar: 0.008, SignalVar: 624056.500, Lengthscale: 0.496, Epsilon: 0.411\n",
      "Iter: 25, LR: 0.010, Loss: 851.917, NoiseVar: 0.008, SignalVar: 624056.500, Lengthscale: 0.496, Epsilon: 0.408\n",
      "Iter: 26, LR: 0.010, Loss: 851.587, NoiseVar: 0.008, SignalVar: 624056.500, Lengthscale: 0.495, Epsilon: 0.404\n",
      "Iter: 27, LR: 0.010, Loss: 850.653, NoiseVar: 0.008, SignalVar: 624056.500, Lengthscale: 0.495, Epsilon: 0.401\n",
      "Iter: 28, LR: 0.010, Loss: 844.110, NoiseVar: 0.008, SignalVar: 624056.500, Lengthscale: 0.495, Epsilon: 0.397\n",
      "Iter: 29, LR: 0.010, Loss: 843.085, NoiseVar: 0.007, SignalVar: 624056.500, Lengthscale: 0.495, Epsilon: 0.394\n",
      "Iter: 30, LR: 0.010, Loss: 841.127, NoiseVar: 0.007, SignalVar: 624056.500, Lengthscale: 0.495, Epsilon: 0.390\n",
      "Iter: 31, LR: 0.010, Loss: 832.992, NoiseVar: 0.007, SignalVar: 624056.500, Lengthscale: 0.495, Epsilon: 0.387\n",
      "Iter: 32, LR: 0.010, Loss: 833.651, NoiseVar: 0.007, SignalVar: 624056.500, Lengthscale: 0.495, Epsilon: 0.383\n",
      "Iter: 33, LR: 0.010, Loss: 830.578, NoiseVar: 0.007, SignalVar: 624056.500, Lengthscale: 0.495, Epsilon: 0.380\n",
      "Iter: 34, LR: 0.010, Loss: 829.375, NoiseVar: 0.007, SignalVar: 624056.500, Lengthscale: 0.495, Epsilon: 0.376\n",
      "Iter: 35, LR: 0.010, Loss: 825.279, NoiseVar: 0.007, SignalVar: 624056.500, Lengthscale: 0.496, Epsilon: 0.373\n",
      "Iter: 36, LR: 0.010, Loss: 824.161, NoiseVar: 0.007, SignalVar: 624056.500, Lengthscale: 0.496, Epsilon: 0.370\n",
      "Iter: 37, LR: 0.010, Loss: 815.192, NoiseVar: 0.007, SignalVar: 624056.500, Lengthscale: 0.496, Epsilon: 0.366\n",
      "Iter: 38, LR: 0.010, Loss: 816.967, NoiseVar: 0.007, SignalVar: 624056.500, Lengthscale: 0.496, Epsilon: 0.363\n",
      "Iter: 39, LR: 0.010, Loss: 814.901, NoiseVar: 0.007, SignalVar: 624056.500, Lengthscale: 0.496, Epsilon: 0.359\n",
      "Iter: 40, LR: 0.010, Loss: 807.831, NoiseVar: 0.007, SignalVar: 624056.500, Lengthscale: 0.497, Epsilon: 0.356\n",
      "Iter: 41, LR: 0.010, Loss: 806.779, NoiseVar: 0.007, SignalVar: 624056.500, Lengthscale: 0.497, Epsilon: 0.352\n",
      "Iter: 42, LR: 0.010, Loss: 798.728, NoiseVar: 0.007, SignalVar: 624056.500, Lengthscale: 0.498, Epsilon: 0.349\n",
      "Iter: 43, LR: 0.010, Loss: 801.189, NoiseVar: 0.006, SignalVar: 624056.500, Lengthscale: 0.498, Epsilon: 0.345\n",
      "Iter: 44, LR: 0.010, Loss: 793.669, NoiseVar: 0.006, SignalVar: 624056.500, Lengthscale: 0.498, Epsilon: 0.342\n",
      "Iter: 45, LR: 0.010, Loss: 788.995, NoiseVar: 0.006, SignalVar: 624056.500, Lengthscale: 0.498, Epsilon: 0.338\n",
      "Iter: 46, LR: 0.010, Loss: 787.045, NoiseVar: 0.006, SignalVar: 624056.500, Lengthscale: 0.499, Epsilon: 0.335\n",
      "Iter: 47, LR: 0.010, Loss: 779.434, NoiseVar: 0.006, SignalVar: 624056.500, Lengthscale: 0.499, Epsilon: 0.331\n",
      "Iter: 48, LR: 0.010, Loss: 777.230, NoiseVar: 0.006, SignalVar: 624056.500, Lengthscale: 0.499, Epsilon: 0.328\n",
      "Iter: 49, LR: 0.010, Loss: 774.120, NoiseVar: 0.006, SignalVar: 624056.500, Lengthscale: 0.500, Epsilon: 0.324\n",
      "Iter: 50, LR: 0.010, Loss: 770.068, NoiseVar: 0.006, SignalVar: 624056.500, Lengthscale: 0.501, Epsilon: 0.321\n",
      "Iter: 51, LR: 0.010, Loss: 760.358, NoiseVar: 0.006, SignalVar: 624056.500, Lengthscale: 0.502, Epsilon: 0.317\n",
      "Iter: 52, LR: 0.010, Loss: 756.632, NoiseVar: 0.006, SignalVar: 624056.500, Lengthscale: 0.502, Epsilon: 0.313\n",
      "Iter: 53, LR: 0.010, Loss: 752.129, NoiseVar: 0.006, SignalVar: 624056.500, Lengthscale: 0.503, Epsilon: 0.310\n",
      "Iter: 54, LR: 0.010, Loss: 745.030, NoiseVar: 0.006, SignalVar: 624056.500, Lengthscale: 0.503, Epsilon: 0.306\n",
      "Iter: 55, LR: 0.010, Loss: 738.586, NoiseVar: 0.006, SignalVar: 624056.500, Lengthscale: 0.502, Epsilon: 0.303\n",
      "Iter: 56, LR: 0.010, Loss: 731.662, NoiseVar: 0.006, SignalVar: 624056.500, Lengthscale: 0.502, Epsilon: 0.299\n",
      "Iter: 57, LR: 0.010, Loss: 723.760, NoiseVar: 0.005, SignalVar: 624056.500, Lengthscale: 0.503, Epsilon: 0.296\n",
      "Iter: 58, LR: 0.010, Loss: 711.360, NoiseVar: 0.005, SignalVar: 624056.500, Lengthscale: 0.503, Epsilon: 0.292\n",
      "Iter: 59, LR: 0.010, Loss: 708.642, NoiseVar: 0.005, SignalVar: 624056.500, Lengthscale: 0.504, Epsilon: 0.289\n",
      "Iter: 60, LR: 0.010, Loss: 695.993, NoiseVar: 0.005, SignalVar: 624056.500, Lengthscale: 0.506, Epsilon: 0.285\n",
      "Iter: 61, LR: 0.010, Loss: 688.270, NoiseVar: 0.005, SignalVar: 624056.500, Lengthscale: 0.507, Epsilon: 0.281\n",
      "Iter: 62, LR: 0.010, Loss: 676.087, NoiseVar: 0.005, SignalVar: 624056.500, Lengthscale: 0.509, Epsilon: 0.278\n",
      "Iter: 63, LR: 0.010, Loss: 674.028, NoiseVar: 0.005, SignalVar: 624056.500, Lengthscale: 0.510, Epsilon: 0.274\n",
      "Iter: 64, LR: 0.010, Loss: 663.450, NoiseVar: 0.005, SignalVar: 624056.500, Lengthscale: 0.512, Epsilon: 0.271\n",
      "Iter: 65, LR: 0.010, Loss: 654.556, NoiseVar: 0.005, SignalVar: 624056.500, Lengthscale: 0.513, Epsilon: 0.267\n",
      "Iter: 66, LR: 0.010, Loss: 640.171, NoiseVar: 0.005, SignalVar: 624056.500, Lengthscale: 0.513, Epsilon: 0.264\n",
      "Iter: 67, LR: 0.010, Loss: 637.716, NoiseVar: 0.005, SignalVar: 624056.500, Lengthscale: 0.514, Epsilon: 0.260\n",
      "Iter: 68, LR: 0.010, Loss: 620.960, NoiseVar: 0.005, SignalVar: 624056.500, Lengthscale: 0.514, Epsilon: 0.256\n",
      "Iter: 69, LR: 0.010, Loss: 611.743, NoiseVar: 0.005, SignalVar: 624056.500, Lengthscale: 0.515, Epsilon: 0.253\n",
      "Iter: 70, LR: 0.010, Loss: 594.389, NoiseVar: 0.005, SignalVar: 624056.500, Lengthscale: 0.515, Epsilon: 0.249\n",
      "Iter: 71, LR: 0.010, Loss: 581.823, NoiseVar: 0.005, SignalVar: 624056.500, Lengthscale: 0.516, Epsilon: 0.246\n",
      "Iter: 72, LR: 0.010, Loss: 563.107, NoiseVar: 0.005, SignalVar: 624056.500, Lengthscale: 0.517, Epsilon: 0.242\n",
      "Iter: 73, LR: 0.010, Loss: 556.940, NoiseVar: 0.004, SignalVar: 624056.500, Lengthscale: 0.519, Epsilon: 0.239\n"
     ]
    },
    {
     "name": "stdout",
     "output_type": "stream",
     "text": [
      "Iter: 74, LR: 0.010, Loss: 538.160, NoiseVar: 0.004, SignalVar: 624056.500, Lengthscale: 0.520, Epsilon: 0.235\n",
      "Iter: 75, LR: 0.010, Loss: 524.656, NoiseVar: 0.004, SignalVar: 624056.500, Lengthscale: 0.521, Epsilon: 0.232\n",
      "Iter: 76, LR: 0.010, Loss: 514.554, NoiseVar: 0.004, SignalVar: 624056.500, Lengthscale: 0.523, Epsilon: 0.228\n",
      "Iter: 77, LR: 0.010, Loss: 500.448, NoiseVar: 0.004, SignalVar: 624056.500, Lengthscale: 0.525, Epsilon: 0.225\n",
      "Iter: 78, LR: 0.010, Loss: 467.050, NoiseVar: 0.004, SignalVar: 624056.500, Lengthscale: 0.527, Epsilon: 0.222\n",
      "Iter: 79, LR: 0.010, Loss: 456.198, NoiseVar: 0.004, SignalVar: 624056.500, Lengthscale: 0.529, Epsilon: 0.218\n",
      "Iter: 80, LR: 0.010, Loss: 438.170, NoiseVar: 0.004, SignalVar: 624056.500, Lengthscale: 0.530, Epsilon: 0.215\n",
      "Iter: 81, LR: 0.010, Loss: 415.882, NoiseVar: 0.004, SignalVar: 624056.500, Lengthscale: 0.531, Epsilon: 0.212\n",
      "Iter: 82, LR: 0.010, Loss: 396.611, NoiseVar: 0.004, SignalVar: 624056.500, Lengthscale: 0.533, Epsilon: 0.208\n",
      "Iter: 83, LR: 0.010, Loss: 372.592, NoiseVar: 0.004, SignalVar: 624056.500, Lengthscale: 0.534, Epsilon: 0.205\n",
      "Iter: 84, LR: 0.010, Loss: 349.991, NoiseVar: 0.004, SignalVar: 624056.500, Lengthscale: 0.536, Epsilon: 0.202\n",
      "Iter: 85, LR: 0.010, Loss: 328.664, NoiseVar: 0.004, SignalVar: 624056.500, Lengthscale: 0.537, Epsilon: 0.199\n",
      "Iter: 86, LR: 0.010, Loss: 309.657, NoiseVar: 0.004, SignalVar: 624056.500, Lengthscale: 0.539, Epsilon: 0.195\n",
      "Iter: 87, LR: 0.010, Loss: 272.192, NoiseVar: 0.004, SignalVar: 624056.500, Lengthscale: 0.540, Epsilon: 0.192\n",
      "Iter: 88, LR: 0.010, Loss: 255.735, NoiseVar: 0.004, SignalVar: 624056.500, Lengthscale: 0.541, Epsilon: 0.189\n",
      "Iter: 89, LR: 0.010, Loss: 221.344, NoiseVar: 0.004, SignalVar: 624056.500, Lengthscale: 0.542, Epsilon: 0.186\n",
      "Iter: 90, LR: 0.010, Loss: 207.597, NoiseVar: 0.003, SignalVar: 624056.500, Lengthscale: 0.544, Epsilon: 0.183\n",
      "Iter: 91, LR: 0.010, Loss: 186.862, NoiseVar: 0.003, SignalVar: 624056.500, Lengthscale: 0.545, Epsilon: 0.180\n",
      "Iter: 92, LR: 0.010, Loss: 164.224, NoiseVar: 0.003, SignalVar: 624056.500, Lengthscale: 0.546, Epsilon: 0.177\n",
      "Iter: 93, LR: 0.010, Loss: 133.040, NoiseVar: 0.003, SignalVar: 624056.500, Lengthscale: 0.546, Epsilon: 0.174\n",
      "Iter: 94, LR: 0.010, Loss: 93.884, NoiseVar: 0.003, SignalVar: 624056.500, Lengthscale: 0.547, Epsilon: 0.171\n",
      "Iter: 95, LR: 0.010, Loss: 60.910, NoiseVar: 0.003, SignalVar: 624056.500, Lengthscale: 0.548, Epsilon: 0.169\n",
      "Iter: 96, LR: 0.010, Loss: 34.892, NoiseVar: 0.003, SignalVar: 624056.500, Lengthscale: 0.548, Epsilon: 0.166\n",
      "Iter: 97, LR: 0.010, Loss: 24.096, NoiseVar: 0.003, SignalVar: 624056.500, Lengthscale: 0.549, Epsilon: 0.163\n",
      "Iter: 98, LR: 0.010, Loss: -16.556, NoiseVar: 0.003, SignalVar: 624056.500, Lengthscale: 0.550, Epsilon: 0.160\n",
      "Iter: 99, LR: 0.010, Loss: -31.012, NoiseVar: 0.003, SignalVar: 624056.500, Lengthscale: 0.551, Epsilon: 0.158\n"
     ]
    }
   ],
   "source": [
    "t0 = time()\n",
    "model.manifold_informed_train(lr=1e-2, iter=100, norm_step_size=100, verbose=True)\n",
    "t1 = time()\n",
    "print(\"Time: %.2g sec\" % (t1 - t0))"
   ]
  },
  {
   "cell_type": "raw",
   "id": "4e461bc7",
   "metadata": {},
   "source": [
    "model.manifold_informed_train(lr=1e-2, iter=100, norm_step_size=100, verbose=True)"
   ]
  },
  {
   "cell_type": "markdown",
   "id": "0ab36075",
   "metadata": {},
   "source": [
    "## Evaluation"
   ]
  },
  {
   "cell_type": "code",
   "execution_count": 36,
   "id": "6c6f0dc8",
   "metadata": {},
   "outputs": [],
   "source": [
    "%%capture\n",
    "likelihood.eval()\n",
    "model.eval()"
   ]
  },
  {
   "cell_type": "markdown",
   "id": "d201b909",
   "metadata": {},
   "source": [
    "\n",
    "## Metrics"
   ]
  },
  {
   "cell_type": "code",
   "execution_count": 37,
   "id": "998d4b89",
   "metadata": {
    "scrolled": false
   },
   "outputs": [
    {
     "name": "stdout",
     "output_type": "stream",
     "text": [
      "RMSE:  tensor(0.0079, device='cuda:0')\n",
      "NLL:  tensor(-1.9166, device='cuda:0')\n"
     ]
    }
   ],
   "source": [
    "with torch.no_grad(), gpytorch.settings.fast_pred_var():\n",
    "    preds_test = likelihood(model(test_x))\n",
    "\n",
    "    mean_test = preds_test.mean\n",
    "        \n",
    "    error = test_y - preds_test.mean\n",
    "    covar = preds_test.lazy_covariance_matrix.evaluate_kernel()\n",
    "    inv_quad, logdet = covar.inv_quad_logdet(inv_quad_rhs=error.unsqueeze(-1), logdet=True)\n",
    "    \n",
    "    rmse = (error.square().sum()/test_y.shape[0]).sqrt()\n",
    "    nll = 0.5 * sum([inv_quad, logdet, error.size(-1)* np.log(2 * np.pi)])/test_y.shape[0]\n",
    "    model._clear_cache()\n",
    "    \n",
    "print(\"RMSE: \", rmse)\n",
    "print(\"NLL: \", nll)"
   ]
  },
  {
   "cell_type": "code",
   "execution_count": null,
   "id": "75c99993",
   "metadata": {},
   "outputs": [],
   "source": []
  }
 ],
 "metadata": {
  "kernelspec": {
   "display_name": "Python 3 (ipykernel)",
   "language": "python",
   "name": "python3"
  },
  "language_info": {
   "codemirror_mode": {
    "name": "ipython",
    "version": 3
   },
   "file_extension": ".py",
   "mimetype": "text/x-python",
   "name": "python",
   "nbconvert_exporter": "python",
   "pygments_lexer": "ipython3",
   "version": "3.10.6"
  },
  "vscode": {
   "interpreter": {
    "hash": "916dbcbb3f70747c44a77c7bcd40155683ae19c65e1c03b4aa3499c5328201f1"
   }
  }
 },
 "nbformat": 4,
 "nbformat_minor": 5
}
