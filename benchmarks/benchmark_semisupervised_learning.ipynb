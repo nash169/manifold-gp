{
 "cells": [
  {
   "cell_type": "markdown",
   "id": "5e276dbe",
   "metadata": {},
   "source": [
    "# Manifold GP Semi-Supervised Learning via Precision Matrix on 1D Manifold"
   ]
  },
  {
   "cell_type": "markdown",
   "id": "a36444a5",
   "metadata": {},
   "source": [
    "## Preamble"
   ]
  },
  {
   "cell_type": "markdown",
   "id": "01d17d1f",
   "metadata": {},
   "source": [
    "This notebook provides an example of how to perform Gaussian Process Regression on a 1D manifold. In this example we consider a supervised learning scenario, namely the number of labeled data points is equivalent to the number of the sampled points from the underlying manifold."
   ]
  },
  {
   "cell_type": "code",
   "execution_count": 1,
   "id": "58e9afd1",
   "metadata": {},
   "outputs": [],
   "source": [
    "import torch\n",
    "import gpytorch\n",
    "import numpy as np\n",
    "import os\n",
    "import scipy.spatial as ss\n",
    "\n",
    "from manifold_gp.kernels.riemann_matern_kernel import RiemannMaternKernel\n",
    "from manifold_gp.models.riemann_gp import RiemannGP\n",
    "from gpytorch.priors import NormalPrior, GammaPrior"
   ]
  },
  {
   "cell_type": "markdown",
   "id": "75701656",
   "metadata": {},
   "source": [
    "## Dataset Preprocessing"
   ]
  },
  {
   "cell_type": "markdown",
   "id": "02483bf0",
   "metadata": {},
   "source": [
    "### Load & Settings"
   ]
  },
  {
   "cell_type": "code",
   "execution_count": 2,
   "id": "af216c23",
   "metadata": {},
   "outputs": [],
   "source": [
    "dataset = 'protein' # ['protein','elevators']\n",
    "cut = 10000\n",
    "\n",
    "if dataset == 'protein':\n",
    "    data = np.loadtxt('protein.csv', delimiter=\",\")[:cut]\n",
    "    sampled_x, sampled_y = data[:, 1:], data[:, 0]\n",
    "elif dataset == 'elevators':\n",
    "    data = np.array(loadmat('elevators.mat')['data'])\n",
    "    sampled_x, sampled_y = data[:, :-1], data[:, -1]\n",
    "    \n",
    "    \n",
    "if not os.path.isfile(f'../outputs/{dataset}.mat'):\n",
    "    print(f'Downloading \\'{dataset}\\' UCI dataset...')\n",
    "    urllib.request.urlretrieve(datasets[dataset], f'../outputs/{dataset}.mat')\n",
    "\n",
    "# remove coincident points\n",
    "sampled_x, id_unique = np.unique(sampled_x, axis=0, return_index=True)\n",
    "sampled_y = sampled_y[id_unique]\n",
    "\n",
    "# cut between 0.01 and 0.99 quantile of distances\n",
    "kd_tree = ss.KDTree(sampled_x)\n",
    "v = kd_tree.query(sampled_x, k=2)[0][:, 1]\n",
    "idx = np.argsort(v)\n",
    "percentile_start = int(np.round(idx.shape[0]*0.10))\n",
    "percentile_end = int(np.round(idx.shape[0]*0.90))\n",
    "sampled_x = sampled_x[idx[percentile_start:percentile_end], :]\n",
    "sampled_y = sampled_y[idx[percentile_start:percentile_end]]\n",
    "m = sampled_x.shape[0]\n",
    "\n",
    "normalize_features = True\n",
    "normalize_labels = True"
   ]
  },
  {
   "cell_type": "markdown",
   "id": "331daec5",
   "metadata": {},
   "source": [
    "### Trainset & Testset"
   ]
  },
  {
   "cell_type": "code",
   "execution_count": 3,
   "id": "163309fd",
   "metadata": {},
   "outputs": [],
   "source": [
    "split = int(0.8 * m)\n",
    "\n",
    "train_x, train_y = sampled_x[:split], sampled_y[:split]\n",
    "test_x, test_y = sampled_x[split:], sampled_y[split:]\n",
    "\n",
    "train_idx = torch.arange(0, split)\n",
    "sampled_x = torch.from_numpy(sampled_x).float()\n",
    "train_x = torch.from_numpy(train_x).float()\n",
    "train_y = torch.from_numpy(train_y).float()\n",
    "test_x = torch.from_numpy(test_x).float()\n",
    "test_y = torch.from_numpy(test_y).float()\n",
    "\n",
    "if normalize_features:\n",
    "    mu_x, std_x = sampled_x.mean(dim=-2, keepdim=True), sampled_x.std(dim=-2, keepdim=True) + 1e-6\n",
    "    sampled_x.sub_(mu_x).div_(std_x)\n",
    "    train_x.sub_(mu_x).div_(std_x)\n",
    "    test_x.sub_(mu_x).div_(std_x)\n",
    "    \n",
    "if normalize_labels:\n",
    "    mu_y, std_y = train_y.mean(), train_y.std()\n",
    "    train_y.sub_(mu_y).div_(std_y)\n",
    "    test_y.sub_(mu_y).div_(std_y)"
   ]
  },
  {
   "cell_type": "markdown",
   "id": "32c2feda",
   "metadata": {},
   "source": [
    "### Hyperparameters Priors"
   ]
  },
  {
   "cell_type": "code",
   "execution_count": 4,
   "id": "f1d67029",
   "metadata": {},
   "outputs": [],
   "source": [
    "import scipy.spatial as ss\n",
    "neighbors = 10\n",
    "kd_tree = ss.KDTree(sampled_x)\n",
    "v = np.sort(kd_tree.query(sampled_x, k=neighbors+1)[0][:, 1:].ravel())\n",
    "percentile_99 = int(np.round(v.shape[0]*0.99))\n",
    "gamma_rate = 100.0/np.std(v)\n",
    "gamma_concentration = gamma_rate * v[percentile_99] + 1"
   ]
  },
  {
   "cell_type": "markdown",
   "id": "b87581de",
   "metadata": {},
   "source": [
    "### Move Data to Device"
   ]
  },
  {
   "cell_type": "code",
   "execution_count": 5,
   "id": "d1c91b4b",
   "metadata": {},
   "outputs": [],
   "source": [
    "sampled_x = sampled_x.contiguous()\n",
    "# train_idx = train_idx.contiguous()\n",
    "train_x, train_y = train_x.contiguous(), train_y.contiguous()\n",
    "test_x, test_y = test_x.contiguous(), test_y.contiguous()\n",
    "\n",
    "use_cuda = torch.cuda.is_available()\n",
    "device = torch.device(\"cuda\" if use_cuda else \"cpu\")\n",
    "sampled_x = sampled_x.to(device)\n",
    "# train_idx = train_idx.to(device)\n",
    "train_x, train_y = train_x.to(device), train_y.to(device)\n",
    "test_x, test_y = test_x.to(device), test_y.to(device)"
   ]
  },
  {
   "cell_type": "markdown",
   "id": "405d4275",
   "metadata": {},
   "source": [
    "## Model"
   ]
  },
  {
   "cell_type": "code",
   "execution_count": 6,
   "id": "83460075",
   "metadata": {},
   "outputs": [],
   "source": [
    "%%capture\n",
    "likelihood = gpytorch.likelihoods.GaussianLikelihood(\n",
    "    noise_constraint=gpytorch.constraints.GreaterThan(1e-8),\n",
    "    noise_prior=None  # NormalPrior(torch.tensor([0.0]).to(device),  torch.tensor([1/9]).sqrt().to(device))\n",
    ")\n",
    "\n",
    "kernel = gpytorch.kernels.ScaleKernel(\n",
    "    RiemannMaternKernel(\n",
    "        nu=1,\n",
    "        nodes=sampled_x,\n",
    "        neighbors=10,\n",
    "        operator=\"randomwalk\",\n",
    "        modes=50,\n",
    "        ball_scale=1.0,\n",
    "        support_kernel=gpytorch.kernels.RBFKernel(),\n",
    "        epsilon_prior=GammaPrior(gamma_concentration, gamma_rate),\n",
    "        lengthscale_prior=None, # InverseGammaPrior(igamma_concentration, igamma_rate)\n",
    "    ),\n",
    "    outputscale_prior=None  # NormalPrior(torch.tensor([1.0]).to(device),  torch.tensor([1/9]).sqrt().to(device))\n",
    ")\n",
    "\n",
    "model = RiemannGP(train_x, train_y, likelihood, kernel, train_idx).to(device)"
   ]
  },
  {
   "cell_type": "markdown",
   "id": "8b14763b",
   "metadata": {},
   "source": [
    "## Train"
   ]
  },
  {
   "cell_type": "code",
   "execution_count": 7,
   "id": "41a6cf1e",
   "metadata": {},
   "outputs": [],
   "source": [
    "%%capture\n",
    "hypers = {\n",
    "    'likelihood.noise_covar.noise': 1e-2, # 0.037,\n",
    "    'covar_module.base_kernel.epsilon': 0.5, # 0.029,\n",
    "    'covar_module.base_kernel.lengthscale': 0.5, # 5.130,\n",
    "    'covar_module.outputscale': 1.0, # 0.0656,\n",
    "    'covar_module.base_kernel.support_kernel.lengthscale': 1.0,\n",
    "}\n",
    "model.initialize(**hypers)"
   ]
  },
  {
   "cell_type": "code",
   "execution_count": 9,
   "id": "5377308c",
   "metadata": {
    "scrolled": false
   },
   "outputs": [
    {
     "name": "stdout",
     "output_type": "stream",
     "text": [
      "Iter: 0, LR: 0.010, Loss: 4264.340, NoiseVar: 0.000, SignalVar: 1379.365, Lengthscale: 0.514, Epsilon: 0.249\n",
      "Iter: 1, LR: 0.010, Loss: 4172.298, NoiseVar: 0.000, SignalVar: 1379.375, Lengthscale: 0.518, Epsilon: 0.251\n",
      "Iter: 2, LR: 0.010, Loss: 4102.246, NoiseVar: 0.000, SignalVar: 1379.385, Lengthscale: 0.522, Epsilon: 0.253\n",
      "Iter: 3, LR: 0.010, Loss: 3990.775, NoiseVar: 0.000, SignalVar: 1379.395, Lengthscale: 0.526, Epsilon: 0.256\n",
      "Iter: 4, LR: 0.010, Loss: 3924.222, NoiseVar: 0.000, SignalVar: 1379.405, Lengthscale: 0.530, Epsilon: 0.258\n",
      "Iter: 5, LR: 0.010, Loss: 3839.879, NoiseVar: 0.000, SignalVar: 1379.415, Lengthscale: 0.534, Epsilon: 0.260\n",
      "Iter: 6, LR: 0.010, Loss: 3772.016, NoiseVar: 0.000, SignalVar: 1379.425, Lengthscale: 0.538, Epsilon: 0.263\n",
      "Iter: 7, LR: 0.010, Loss: 3663.857, NoiseVar: 0.000, SignalVar: 1379.435, Lengthscale: 0.542, Epsilon: 0.265\n",
      "Iter: 8, LR: 0.010, Loss: 3573.670, NoiseVar: 0.000, SignalVar: 1379.445, Lengthscale: 0.546, Epsilon: 0.267\n",
      "Iter: 9, LR: 0.010, Loss: 3526.305, NoiseVar: 0.000, SignalVar: 1379.454, Lengthscale: 0.550, Epsilon: 0.270\n",
      "Iter: 10, LR: 0.010, Loss: 3436.948, NoiseVar: 0.000, SignalVar: 1379.464, Lengthscale: 0.555, Epsilon: 0.272\n",
      "Iter: 11, LR: 0.010, Loss: 3373.571, NoiseVar: 0.000, SignalVar: 1379.474, Lengthscale: 0.559, Epsilon: 0.275\n",
      "Iter: 12, LR: 0.010, Loss: 3336.496, NoiseVar: 0.000, SignalVar: 1379.483, Lengthscale: 0.563, Epsilon: 0.277\n",
      "Iter: 13, LR: 0.010, Loss: 3256.501, NoiseVar: 0.000, SignalVar: 1379.493, Lengthscale: 0.567, Epsilon: 0.280\n",
      "Iter: 14, LR: 0.010, Loss: 3193.277, NoiseVar: 0.000, SignalVar: 1379.502, Lengthscale: 0.571, Epsilon: 0.282\n",
      "Iter: 15, LR: 0.010, Loss: 3149.777, NoiseVar: 0.000, SignalVar: 1379.511, Lengthscale: 0.575, Epsilon: 0.285\n",
      "Iter: 16, LR: 0.010, Loss: 3088.679, NoiseVar: 0.000, SignalVar: 1379.520, Lengthscale: 0.579, Epsilon: 0.287\n",
      "Iter: 17, LR: 0.010, Loss: 3019.502, NoiseVar: 0.000, SignalVar: 1379.529, Lengthscale: 0.583, Epsilon: 0.290\n",
      "Iter: 18, LR: 0.010, Loss: 2998.432, NoiseVar: 0.000, SignalVar: 1379.538, Lengthscale: 0.587, Epsilon: 0.292\n",
      "Iter: 19, LR: 0.010, Loss: 2954.872, NoiseVar: 0.000, SignalVar: 1379.546, Lengthscale: 0.591, Epsilon: 0.295\n",
      "Iter: 20, LR: 0.010, Loss: 2891.068, NoiseVar: 0.000, SignalVar: 1379.555, Lengthscale: 0.595, Epsilon: 0.297\n",
      "Iter: 21, LR: 0.010, Loss: 2855.217, NoiseVar: 0.000, SignalVar: 1379.563, Lengthscale: 0.599, Epsilon: 0.300\n",
      "Iter: 22, LR: 0.010, Loss: 2826.353, NoiseVar: 0.000, SignalVar: 1379.572, Lengthscale: 0.602, Epsilon: 0.303\n",
      "Iter: 23, LR: 0.010, Loss: 2780.393, NoiseVar: 0.000, SignalVar: 1379.580, Lengthscale: 0.606, Epsilon: 0.305\n",
      "Iter: 24, LR: 0.010, Loss: 2750.008, NoiseVar: 0.000, SignalVar: 1379.588, Lengthscale: 0.610, Epsilon: 0.308\n",
      "Iter: 25, LR: 0.010, Loss: 2732.249, NoiseVar: 0.000, SignalVar: 1379.596, Lengthscale: 0.614, Epsilon: 0.310\n",
      "Iter: 26, LR: 0.010, Loss: 2681.028, NoiseVar: 0.000, SignalVar: 1379.603, Lengthscale: 0.617, Epsilon: 0.312\n",
      "Iter: 27, LR: 0.010, Loss: 2672.924, NoiseVar: 0.000, SignalVar: 1379.611, Lengthscale: 0.621, Epsilon: 0.315\n",
      "Iter: 28, LR: 0.010, Loss: 2616.788, NoiseVar: 0.000, SignalVar: 1379.618, Lengthscale: 0.624, Epsilon: 0.317\n",
      "Iter: 29, LR: 0.010, Loss: 2614.007, NoiseVar: 0.000, SignalVar: 1379.625, Lengthscale: 0.628, Epsilon: 0.319\n",
      "Iter: 30, LR: 0.010, Loss: 2588.279, NoiseVar: 0.000, SignalVar: 1379.632, Lengthscale: 0.631, Epsilon: 0.321\n",
      "Iter: 31, LR: 0.010, Loss: 2566.328, NoiseVar: 0.000, SignalVar: 1379.638, Lengthscale: 0.635, Epsilon: 0.323\n",
      "Iter: 32, LR: 0.010, Loss: 2541.560, NoiseVar: 0.000, SignalVar: 1379.645, Lengthscale: 0.638, Epsilon: 0.325\n",
      "Iter: 33, LR: 0.010, Loss: 2539.082, NoiseVar: 0.000, SignalVar: 1379.651, Lengthscale: 0.641, Epsilon: 0.327\n",
      "Iter: 34, LR: 0.010, Loss: 2514.606, NoiseVar: 0.000, SignalVar: 1379.657, Lengthscale: 0.644, Epsilon: 0.329\n",
      "Iter: 35, LR: 0.010, Loss: 2476.351, NoiseVar: 0.000, SignalVar: 1379.663, Lengthscale: 0.647, Epsilon: 0.330\n",
      "Iter: 36, LR: 0.010, Loss: 2471.448, NoiseVar: 0.000, SignalVar: 1379.669, Lengthscale: 0.650, Epsilon: 0.332\n",
      "Iter: 37, LR: 0.010, Loss: 2454.090, NoiseVar: 0.000, SignalVar: 1379.675, Lengthscale: 0.653, Epsilon: 0.333\n",
      "Iter: 38, LR: 0.010, Loss: 2439.149, NoiseVar: 0.000, SignalVar: 1379.680, Lengthscale: 0.656, Epsilon: 0.334\n",
      "Iter: 39, LR: 0.010, Loss: 2430.881, NoiseVar: 0.000, SignalVar: 1379.685, Lengthscale: 0.659, Epsilon: 0.335\n",
      "Iter: 40, LR: 0.010, Loss: 2423.242, NoiseVar: 0.000, SignalVar: 1379.690, Lengthscale: 0.662, Epsilon: 0.336\n",
      "Iter: 41, LR: 0.010, Loss: 2430.783, NoiseVar: 0.000, SignalVar: 1379.695, Lengthscale: 0.664, Epsilon: 0.337\n",
      "Iter: 42, LR: 0.010, Loss: 2414.852, NoiseVar: 0.000, SignalVar: 1379.699, Lengthscale: 0.667, Epsilon: 0.338\n",
      "Iter: 43, LR: 0.010, Loss: 2401.937, NoiseVar: 0.000, SignalVar: 1379.704, Lengthscale: 0.670, Epsilon: 0.338\n",
      "Iter: 44, LR: 0.010, Loss: 2364.922, NoiseVar: 0.000, SignalVar: 1379.708, Lengthscale: 0.672, Epsilon: 0.339\n",
      "Iter: 45, LR: 0.010, Loss: 2374.884, NoiseVar: 0.000, SignalVar: 1379.712, Lengthscale: 0.674, Epsilon: 0.339\n",
      "Iter: 46, LR: 0.010, Loss: 2397.169, NoiseVar: 0.000, SignalVar: 1379.716, Lengthscale: 0.677, Epsilon: 0.339\n",
      "Iter: 47, LR: 0.010, Loss: 2360.627, NoiseVar: 0.000, SignalVar: 1379.720, Lengthscale: 0.679, Epsilon: 0.339\n",
      "Iter: 48, LR: 0.010, Loss: 2351.078, NoiseVar: 0.000, SignalVar: 1379.723, Lengthscale: 0.681, Epsilon: 0.338\n",
      "Iter: 49, LR: 0.010, Loss: 2347.211, NoiseVar: 0.000, SignalVar: 1379.726, Lengthscale: 0.683, Epsilon: 0.338\n",
      "Iter: 50, LR: 0.010, Loss: 2369.125, NoiseVar: 0.000, SignalVar: 1379.730, Lengthscale: 0.685, Epsilon: 0.337\n",
      "Iter: 51, LR: 0.010, Loss: 2346.955, NoiseVar: 0.000, SignalVar: 1379.733, Lengthscale: 0.688, Epsilon: 0.337\n",
      "Iter: 52, LR: 0.010, Loss: 2350.042, NoiseVar: 0.000, SignalVar: 1379.736, Lengthscale: 0.690, Epsilon: 0.336\n",
      "Iter: 53, LR: 0.010, Loss: 2343.605, NoiseVar: 0.000, SignalVar: 1379.738, Lengthscale: 0.691, Epsilon: 0.335\n",
      "Iter: 54, LR: 0.010, Loss: 2330.205, NoiseVar: 0.000, SignalVar: 1379.741, Lengthscale: 0.693, Epsilon: 0.334\n",
      "Iter: 55, LR: 0.010, Loss: 2323.438, NoiseVar: 0.000, SignalVar: 1379.744, Lengthscale: 0.695, Epsilon: 0.333\n",
      "Iter: 56, LR: 0.010, Loss: 2309.536, NoiseVar: 0.000, SignalVar: 1379.746, Lengthscale: 0.697, Epsilon: 0.332\n",
      "Iter: 57, LR: 0.010, Loss: 2309.278, NoiseVar: 0.000, SignalVar: 1379.748, Lengthscale: 0.699, Epsilon: 0.331\n",
      "Iter: 58, LR: 0.010, Loss: 2297.771, NoiseVar: 0.000, SignalVar: 1379.751, Lengthscale: 0.701, Epsilon: 0.330\n",
      "Iter: 59, LR: 0.010, Loss: 2294.490, NoiseVar: 0.000, SignalVar: 1379.753, Lengthscale: 0.702, Epsilon: 0.329\n",
      "Iter: 60, LR: 0.010, Loss: 2312.288, NoiseVar: 0.000, SignalVar: 1379.755, Lengthscale: 0.704, Epsilon: 0.328\n",
      "Iter: 61, LR: 0.010, Loss: 2283.855, NoiseVar: 0.000, SignalVar: 1379.757, Lengthscale: 0.705, Epsilon: 0.326\n",
      "Iter: 62, LR: 0.010, Loss: 2291.881, NoiseVar: 0.000, SignalVar: 1379.758, Lengthscale: 0.707, Epsilon: 0.325\n",
      "Iter: 63, LR: 0.010, Loss: 2274.768, NoiseVar: 0.000, SignalVar: 1379.760, Lengthscale: 0.709, Epsilon: 0.323\n",
      "Iter: 64, LR: 0.010, Loss: 2293.944, NoiseVar: 0.000, SignalVar: 1379.762, Lengthscale: 0.710, Epsilon: 0.322\n",
      "Iter: 65, LR: 0.010, Loss: 2304.817, NoiseVar: 0.000, SignalVar: 1379.763, Lengthscale: 0.712, Epsilon: 0.320\n",
      "Iter: 66, LR: 0.010, Loss: 2283.026, NoiseVar: 0.000, SignalVar: 1379.765, Lengthscale: 0.713, Epsilon: 0.319\n",
      "Iter: 67, LR: 0.010, Loss: 2294.653, NoiseVar: 0.000, SignalVar: 1379.766, Lengthscale: 0.714, Epsilon: 0.318\n",
      "Iter: 68, LR: 0.010, Loss: 2275.030, NoiseVar: 0.000, SignalVar: 1379.768, Lengthscale: 0.716, Epsilon: 0.316\n",
      "Iter: 69, LR: 0.010, Loss: 2261.099, NoiseVar: 0.000, SignalVar: 1379.769, Lengthscale: 0.717, Epsilon: 0.315\n",
      "Iter: 70, LR: 0.010, Loss: 2273.165, NoiseVar: 0.000, SignalVar: 1379.770, Lengthscale: 0.719, Epsilon: 0.313\n",
      "Iter: 71, LR: 0.010, Loss: 2258.298, NoiseVar: 0.000, SignalVar: 1379.772, Lengthscale: 0.720, Epsilon: 0.312\n",
      "Iter: 72, LR: 0.010, Loss: 2260.951, NoiseVar: 0.000, SignalVar: 1379.773, Lengthscale: 0.721, Epsilon: 0.311\n",
      "Iter: 73, LR: 0.010, Loss: 2250.336, NoiseVar: 0.000, SignalVar: 1379.774, Lengthscale: 0.723, Epsilon: 0.310\n",
      "Iter: 74, LR: 0.010, Loss: 2242.040, NoiseVar: 0.000, SignalVar: 1379.775, Lengthscale: 0.724, Epsilon: 0.308\n"
     ]
    },
    {
     "name": "stdout",
     "output_type": "stream",
     "text": [
      "Iter: 75, LR: 0.010, Loss: 2261.324, NoiseVar: 0.000, SignalVar: 1379.776, Lengthscale: 0.725, Epsilon: 0.307\n",
      "Iter: 76, LR: 0.010, Loss: 2230.555, NoiseVar: 0.000, SignalVar: 1379.777, Lengthscale: 0.726, Epsilon: 0.306\n",
      "Iter: 77, LR: 0.010, Loss: 2236.580, NoiseVar: 0.000, SignalVar: 1379.779, Lengthscale: 0.728, Epsilon: 0.305\n",
      "Iter: 78, LR: 0.010, Loss: 2226.096, NoiseVar: 0.000, SignalVar: 1379.780, Lengthscale: 0.729, Epsilon: 0.304\n",
      "Iter: 79, LR: 0.010, Loss: 2262.368, NoiseVar: 0.000, SignalVar: 1379.781, Lengthscale: 0.730, Epsilon: 0.303\n",
      "Iter: 80, LR: 0.010, Loss: 2237.590, NoiseVar: 0.000, SignalVar: 1379.782, Lengthscale: 0.731, Epsilon: 0.302\n",
      "Iter: 81, LR: 0.010, Loss: 2220.245, NoiseVar: 0.000, SignalVar: 1379.783, Lengthscale: 0.733, Epsilon: 0.301\n",
      "Iter: 82, LR: 0.010, Loss: 2239.071, NoiseVar: 0.000, SignalVar: 1379.784, Lengthscale: 0.734, Epsilon: 0.301\n",
      "Iter: 83, LR: 0.010, Loss: 2238.035, NoiseVar: 0.000, SignalVar: 1379.785, Lengthscale: 0.735, Epsilon: 0.300\n",
      "Iter: 84, LR: 0.010, Loss: 2223.651, NoiseVar: 0.000, SignalVar: 1379.785, Lengthscale: 0.736, Epsilon: 0.299\n",
      "Iter: 85, LR: 0.010, Loss: 2226.197, NoiseVar: 0.000, SignalVar: 1379.786, Lengthscale: 0.737, Epsilon: 0.299\n",
      "Iter: 86, LR: 0.010, Loss: 2232.391, NoiseVar: 0.000, SignalVar: 1379.787, Lengthscale: 0.739, Epsilon: 0.298\n",
      "Iter: 87, LR: 0.010, Loss: 2251.826, NoiseVar: 0.000, SignalVar: 1379.788, Lengthscale: 0.740, Epsilon: 0.298\n",
      "Iter: 88, LR: 0.010, Loss: 2229.515, NoiseVar: 0.000, SignalVar: 1379.789, Lengthscale: 0.741, Epsilon: 0.297\n",
      "Iter: 89, LR: 0.010, Loss: 2204.856, NoiseVar: 0.000, SignalVar: 1379.790, Lengthscale: 0.742, Epsilon: 0.297\n",
      "Iter: 90, LR: 0.010, Loss: 2228.970, NoiseVar: 0.000, SignalVar: 1379.790, Lengthscale: 0.743, Epsilon: 0.296\n",
      "Iter: 91, LR: 0.010, Loss: 2223.953, NoiseVar: 0.000, SignalVar: 1379.791, Lengthscale: 0.744, Epsilon: 0.296\n",
      "Iter: 92, LR: 0.010, Loss: 2218.882, NoiseVar: 0.000, SignalVar: 1379.792, Lengthscale: 0.745, Epsilon: 0.296\n",
      "Iter: 93, LR: 0.010, Loss: 2211.283, NoiseVar: 0.000, SignalVar: 1379.792, Lengthscale: 0.747, Epsilon: 0.295\n",
      "Iter: 94, LR: 0.010, Loss: 2195.662, NoiseVar: 0.000, SignalVar: 1379.793, Lengthscale: 0.748, Epsilon: 0.295\n",
      "Iter: 95, LR: 0.010, Loss: 2214.722, NoiseVar: 0.000, SignalVar: 1379.794, Lengthscale: 0.749, Epsilon: 0.295\n",
      "Iter: 96, LR: 0.010, Loss: 2204.278, NoiseVar: 0.000, SignalVar: 1379.794, Lengthscale: 0.750, Epsilon: 0.295\n",
      "Iter: 97, LR: 0.010, Loss: 2189.682, NoiseVar: 0.000, SignalVar: 1379.795, Lengthscale: 0.751, Epsilon: 0.294\n",
      "Iter: 98, LR: 0.010, Loss: 2198.015, NoiseVar: 0.000, SignalVar: 1379.795, Lengthscale: 0.752, Epsilon: 0.294\n",
      "Iter: 99, LR: 0.010, Loss: 2219.581, NoiseVar: 0.000, SignalVar: 1379.796, Lengthscale: 0.753, Epsilon: 0.294\n"
     ]
    }
   ],
   "source": [
    "model.manifold_informed_train(lr=1e-2, iter=100, norm_step_size=100, verbose=True)"
   ]
  },
  {
   "cell_type": "code",
   "execution_count": 10,
   "id": "cb6654ce",
   "metadata": {},
   "outputs": [
    {
     "name": "stdout",
     "output_type": "stream",
     "text": [
      "Iter: 0, LR: 0.100, Loss: 2227.841, NoiseVar: 0.000, SignalVar: 1400.488, Lengthscale: 0.754, Epsilon: 0.294\n",
      "Iter: 1, LR: 0.100, Loss: 2160.583, NoiseVar: 0.000, SignalVar: 1400.388, Lengthscale: 0.808, Epsilon: 0.269\n",
      "Iter: 2, LR: 0.100, Loss: 2197.710, NoiseVar: 0.000, SignalVar: 1400.306, Lengthscale: 0.859, Epsilon: 0.287\n",
      "Iter: 3, LR: 0.100, Loss: 2203.391, NoiseVar: 0.000, SignalVar: 1400.228, Lengthscale: 0.880, Epsilon: 0.277\n",
      "Iter: 4, LR: 0.100, Loss: 2162.804, NoiseVar: 0.000, SignalVar: 1400.142, Lengthscale: 0.883, Epsilon: 0.263\n",
      "Iter: 5, LR: 0.100, Loss: 2160.707, NoiseVar: 0.000, SignalVar: 1400.052, Lengthscale: 0.880, Epsilon: 0.252\n",
      "Iter: 6, LR: 0.100, Loss: 2179.972, NoiseVar: 0.000, SignalVar: 1399.964, Lengthscale: 0.877, Epsilon: 0.250\n",
      "Iter: 7, LR: 0.100, Loss: 2155.956, NoiseVar: 0.000, SignalVar: 1399.878, Lengthscale: 0.876, Epsilon: 0.255\n",
      "Iter: 8, LR: 0.100, Loss: 2150.128, NoiseVar: 0.000, SignalVar: 1399.792, Lengthscale: 0.876, Epsilon: 0.263\n",
      "Iter: 9, LR: 0.100, Loss: 2208.454, NoiseVar: 0.000, SignalVar: 1399.703, Lengthscale: 0.872, Epsilon: 0.271\n",
      "Iter: 10, LR: 0.100, Loss: 2165.239, NoiseVar: 0.000, SignalVar: 1399.611, Lengthscale: 0.862, Epsilon: 0.277\n",
      "Iter: 11, LR: 0.100, Loss: 2187.814, NoiseVar: 0.000, SignalVar: 1399.516, Lengthscale: 0.846, Epsilon: 0.278\n",
      "Iter: 12, LR: 0.100, Loss: 2141.900, NoiseVar: 0.000, SignalVar: 1399.420, Lengthscale: 0.828, Epsilon: 0.277\n",
      "Iter: 13, LR: 0.100, Loss: 2188.398, NoiseVar: 0.000, SignalVar: 1399.324, Lengthscale: 0.813, Epsilon: 0.274\n",
      "Iter: 14, LR: 0.100, Loss: 2159.002, NoiseVar: 0.000, SignalVar: 1399.232, Lengthscale: 0.806, Epsilon: 0.273\n",
      "Iter: 15, LR: 0.100, Loss: 2167.069, NoiseVar: 0.000, SignalVar: 1399.143, Lengthscale: 0.806, Epsilon: 0.273\n",
      "Iter: 16, LR: 0.100, Loss: 2155.618, NoiseVar: 0.000, SignalVar: 1399.057, Lengthscale: 0.813, Epsilon: 0.274\n",
      "Iter: 17, LR: 0.100, Loss: 2184.754, NoiseVar: 0.000, SignalVar: 1398.973, Lengthscale: 0.825, Epsilon: 0.275\n",
      "Iter: 18, LR: 0.100, Loss: 2188.770, NoiseVar: 0.000, SignalVar: 1398.887, Lengthscale: 0.836, Epsilon: 0.277\n",
      "Iter: 19, LR: 0.100, Loss: 2203.503, NoiseVar: 0.000, SignalVar: 1398.800, Lengthscale: 0.847, Epsilon: 0.277\n",
      "Iter: 20, LR: 0.100, Loss: 2175.236, NoiseVar: 0.000, SignalVar: 1398.710, Lengthscale: 0.852, Epsilon: 0.275\n",
      "Iter: 21, LR: 0.100, Loss: 2178.243, NoiseVar: 0.000, SignalVar: 1398.618, Lengthscale: 0.854, Epsilon: 0.272\n",
      "Iter: 22, LR: 0.100, Loss: 2169.004, NoiseVar: 0.000, SignalVar: 1398.525, Lengthscale: 0.854, Epsilon: 0.269\n",
      "Iter: 23, LR: 0.100, Loss: 2181.163, NoiseVar: 0.000, SignalVar: 1398.432, Lengthscale: 0.852, Epsilon: 0.267\n",
      "Iter: 24, LR: 0.100, Loss: 2171.368, NoiseVar: 0.000, SignalVar: 1398.339, Lengthscale: 0.851, Epsilon: 0.266\n",
      "Iter: 25, LR: 0.100, Loss: 2170.734, NoiseVar: 0.000, SignalVar: 1398.246, Lengthscale: 0.850, Epsilon: 0.267\n",
      "Iter: 26, LR: 0.100, Loss: 2161.100, NoiseVar: 0.000, SignalVar: 1398.153, Lengthscale: 0.850, Epsilon: 0.269\n",
      "Iter: 27, LR: 0.100, Loss: 2194.793, NoiseVar: 0.000, SignalVar: 1398.060, Lengthscale: 0.848, Epsilon: 0.271\n",
      "Iter: 28, LR: 0.100, Loss: 2175.863, NoiseVar: 0.000, SignalVar: 1397.967, Lengthscale: 0.846, Epsilon: 0.273\n",
      "Iter: 29, LR: 0.100, Loss: 2197.270, NoiseVar: 0.000, SignalVar: 1397.872, Lengthscale: 0.842, Epsilon: 0.274\n",
      "Iter: 30, LR: 0.100, Loss: 2152.494, NoiseVar: 0.000, SignalVar: 1397.776, Lengthscale: 0.837, Epsilon: 0.275\n",
      "Iter: 31, LR: 0.100, Loss: 2201.743, NoiseVar: 0.000, SignalVar: 1397.681, Lengthscale: 0.833, Epsilon: 0.275\n",
      "Iter: 32, LR: 0.100, Loss: 2160.444, NoiseVar: 0.000, SignalVar: 1397.586, Lengthscale: 0.829, Epsilon: 0.274\n",
      "Iter: 33, LR: 0.100, Loss: 2176.665, NoiseVar: 0.000, SignalVar: 1397.491, Lengthscale: 0.827, Epsilon: 0.273\n",
      "Iter: 34, LR: 0.100, Loss: 2165.983, NoiseVar: 0.000, SignalVar: 1397.397, Lengthscale: 0.828, Epsilon: 0.273\n",
      "Iter: 35, LR: 0.100, Loss: 2163.380, NoiseVar: 0.000, SignalVar: 1397.305, Lengthscale: 0.832, Epsilon: 0.273\n",
      "Iter: 36, LR: 0.100, Loss: 2200.623, NoiseVar: 0.000, SignalVar: 1397.212, Lengthscale: 0.837, Epsilon: 0.272\n",
      "Iter: 37, LR: 0.100, Loss: 2181.433, NoiseVar: 0.000, SignalVar: 1397.120, Lengthscale: 0.842, Epsilon: 0.273\n",
      "Iter: 38, LR: 0.100, Loss: 2155.444, NoiseVar: 0.000, SignalVar: 1397.027, Lengthscale: 0.846, Epsilon: 0.274\n",
      "Iter: 39, LR: 0.100, Loss: 2168.115, NoiseVar: 0.000, SignalVar: 1396.932, Lengthscale: 0.848, Epsilon: 0.273\n",
      "Iter: 40, LR: 0.100, Loss: 2182.449, NoiseVar: 0.000, SignalVar: 1396.836, Lengthscale: 0.845, Epsilon: 0.271\n",
      "Iter: 41, LR: 0.100, Loss: 2189.139, NoiseVar: 0.000, SignalVar: 1396.739, Lengthscale: 0.842, Epsilon: 0.268\n",
      "Iter: 42, LR: 0.100, Loss: 2163.349, NoiseVar: 0.000, SignalVar: 1396.643, Lengthscale: 0.839, Epsilon: 0.268\n",
      "Iter: 43, LR: 0.100, Loss: 2169.319, NoiseVar: 0.000, SignalVar: 1396.548, Lengthscale: 0.840, Epsilon: 0.269\n",
      "Iter: 44, LR: 0.100, Loss: 2155.633, NoiseVar: 0.000, SignalVar: 1396.454, Lengthscale: 0.842, Epsilon: 0.271\n",
      "Iter: 45, LR: 0.100, Loss: 2181.407, NoiseVar: 0.000, SignalVar: 1396.360, Lengthscale: 0.844, Epsilon: 0.273\n",
      "Iter: 46, LR: 0.100, Loss: 2169.230, NoiseVar: 0.000, SignalVar: 1396.265, Lengthscale: 0.844, Epsilon: 0.274\n",
      "Iter: 47, LR: 0.100, Loss: 2191.755, NoiseVar: 0.000, SignalVar: 1396.168, Lengthscale: 0.842, Epsilon: 0.273\n",
      "Iter: 48, LR: 0.100, Loss: 2161.135, NoiseVar: 0.000, SignalVar: 1396.071, Lengthscale: 0.839, Epsilon: 0.273\n",
      "Iter: 49, LR: 0.100, Loss: 2173.709, NoiseVar: 0.000, SignalVar: 1395.974, Lengthscale: 0.837, Epsilon: 0.272\n",
      "Iter: 50, LR: 0.100, Loss: 2172.104, NoiseVar: 0.000, SignalVar: 1395.878, Lengthscale: 0.836, Epsilon: 0.271\n",
      "Iter: 51, LR: 0.100, Loss: 2174.531, NoiseVar: 0.000, SignalVar: 1395.781, Lengthscale: 0.836, Epsilon: 0.271\n",
      "Iter: 52, LR: 0.100, Loss: 2191.262, NoiseVar: 0.000, SignalVar: 1395.687, Lengthscale: 0.839, Epsilon: 0.272\n",
      "Iter: 53, LR: 0.100, Loss: 2171.603, NoiseVar: 0.000, SignalVar: 1395.592, Lengthscale: 0.841, Epsilon: 0.273\n",
      "Iter: 54, LR: 0.100, Loss: 2185.209, NoiseVar: 0.000, SignalVar: 1395.497, Lengthscale: 0.844, Epsilon: 0.273\n",
      "Iter: 55, LR: 0.100, Loss: 2173.333, NoiseVar: 0.000, SignalVar: 1395.401, Lengthscale: 0.844, Epsilon: 0.273\n",
      "Iter: 56, LR: 0.100, Loss: 2175.300, NoiseVar: 0.000, SignalVar: 1395.304, Lengthscale: 0.842, Epsilon: 0.272\n",
      "Iter: 57, LR: 0.100, Loss: 2170.988, NoiseVar: 0.000, SignalVar: 1395.207, Lengthscale: 0.841, Epsilon: 0.272\n",
      "Iter: 58, LR: 0.100, Loss: 2151.479, NoiseVar: 0.000, SignalVar: 1395.111, Lengthscale: 0.841, Epsilon: 0.271\n",
      "Iter: 59, LR: 0.100, Loss: 2195.878, NoiseVar: 0.000, SignalVar: 1395.015, Lengthscale: 0.842, Epsilon: 0.271\n",
      "Iter: 60, LR: 0.100, Loss: 2171.954, NoiseVar: 0.000, SignalVar: 1394.919, Lengthscale: 0.843, Epsilon: 0.271\n",
      "Iter: 61, LR: 0.100, Loss: 2195.892, NoiseVar: 0.000, SignalVar: 1394.823, Lengthscale: 0.842, Epsilon: 0.271\n",
      "Iter: 62, LR: 0.100, Loss: 2177.718, NoiseVar: 0.000, SignalVar: 1394.726, Lengthscale: 0.841, Epsilon: 0.272\n",
      "Iter: 63, LR: 0.100, Loss: 2162.972, NoiseVar: 0.000, SignalVar: 1394.630, Lengthscale: 0.840, Epsilon: 0.272\n",
      "Iter: 64, LR: 0.100, Loss: 2177.481, NoiseVar: 0.000, SignalVar: 1394.533, Lengthscale: 0.840, Epsilon: 0.273\n",
      "Iter: 65, LR: 0.100, Loss: 2157.834, NoiseVar: 0.000, SignalVar: 1394.436, Lengthscale: 0.838, Epsilon: 0.273\n",
      "Iter: 66, LR: 0.100, Loss: 2152.411, NoiseVar: 0.000, SignalVar: 1394.339, Lengthscale: 0.837, Epsilon: 0.273\n",
      "Iter: 67, LR: 0.100, Loss: 2177.135, NoiseVar: 0.000, SignalVar: 1394.242, Lengthscale: 0.837, Epsilon: 0.271\n",
      "Iter: 68, LR: 0.100, Loss: 2163.193, NoiseVar: 0.000, SignalVar: 1394.146, Lengthscale: 0.838, Epsilon: 0.271\n",
      "Iter: 69, LR: 0.100, Loss: 2173.888, NoiseVar: 0.000, SignalVar: 1394.050, Lengthscale: 0.841, Epsilon: 0.271\n",
      "Iter: 70, LR: 0.100, Loss: 2187.734, NoiseVar: 0.000, SignalVar: 1393.955, Lengthscale: 0.845, Epsilon: 0.272\n",
      "Iter: 71, LR: 0.100, Loss: 2169.885, NoiseVar: 0.000, SignalVar: 1393.859, Lengthscale: 0.848, Epsilon: 0.273\n",
      "Iter: 72, LR: 0.100, Loss: 2189.795, NoiseVar: 0.000, SignalVar: 1393.761, Lengthscale: 0.848, Epsilon: 0.272\n",
      "Iter: 73, LR: 0.100, Loss: 2159.874, NoiseVar: 0.000, SignalVar: 1393.663, Lengthscale: 0.844, Epsilon: 0.271\n",
      "Iter: 74, LR: 0.100, Loss: 2159.463, NoiseVar: 0.000, SignalVar: 1393.564, Lengthscale: 0.839, Epsilon: 0.268\n"
     ]
    },
    {
     "name": "stdout",
     "output_type": "stream",
     "text": [
      "Iter: 75, LR: 0.100, Loss: 2153.367, NoiseVar: 0.000, SignalVar: 1393.466, Lengthscale: 0.837, Epsilon: 0.267\n",
      "Iter: 76, LR: 0.100, Loss: 2162.351, NoiseVar: 0.000, SignalVar: 1393.370, Lengthscale: 0.840, Epsilon: 0.268\n",
      "Iter: 77, LR: 0.100, Loss: 2164.413, NoiseVar: 0.000, SignalVar: 1393.276, Lengthscale: 0.846, Epsilon: 0.272\n",
      "Iter: 78, LR: 0.100, Loss: 2187.513, NoiseVar: 0.000, SignalVar: 1393.182, Lengthscale: 0.852, Epsilon: 0.275\n",
      "Iter: 79, LR: 0.100, Loss: 2164.482, NoiseVar: 0.000, SignalVar: 1393.085, Lengthscale: 0.853, Epsilon: 0.276\n",
      "Iter: 80, LR: 0.100, Loss: 2178.418, NoiseVar: 0.000, SignalVar: 1392.987, Lengthscale: 0.850, Epsilon: 0.275\n",
      "Iter: 81, LR: 0.100, Loss: 2184.025, NoiseVar: 0.000, SignalVar: 1392.887, Lengthscale: 0.844, Epsilon: 0.273\n",
      "Iter: 82, LR: 0.100, Loss: 2170.479, NoiseVar: 0.000, SignalVar: 1392.787, Lengthscale: 0.836, Epsilon: 0.270\n",
      "Iter: 83, LR: 0.100, Loss: 2150.337, NoiseVar: 0.000, SignalVar: 1392.689, Lengthscale: 0.832, Epsilon: 0.269\n",
      "Iter: 84, LR: 0.100, Loss: 2201.764, NoiseVar: 0.000, SignalVar: 1392.594, Lengthscale: 0.836, Epsilon: 0.270\n",
      "Iter: 85, LR: 0.100, Loss: 2183.614, NoiseVar: 0.000, SignalVar: 1392.499, Lengthscale: 0.841, Epsilon: 0.273\n",
      "Iter: 86, LR: 0.100, Loss: 2170.720, NoiseVar: 0.000, SignalVar: 1392.403, Lengthscale: 0.844, Epsilon: 0.276\n",
      "Iter: 87, LR: 0.100, Loss: 2163.585, NoiseVar: 0.000, SignalVar: 1392.306, Lengthscale: 0.843, Epsilon: 0.275\n",
      "Iter: 88, LR: 0.100, Loss: 2172.208, NoiseVar: 0.000, SignalVar: 1392.207, Lengthscale: 0.840, Epsilon: 0.273\n",
      "Iter: 89, LR: 0.100, Loss: 2167.691, NoiseVar: 0.000, SignalVar: 1392.110, Lengthscale: 0.839, Epsilon: 0.271\n",
      "Iter: 90, LR: 0.100, Loss: 2167.855, NoiseVar: 0.000, SignalVar: 1392.013, Lengthscale: 0.840, Epsilon: 0.270\n",
      "Iter: 91, LR: 0.100, Loss: 2166.539, NoiseVar: 0.000, SignalVar: 1391.918, Lengthscale: 0.843, Epsilon: 0.271\n",
      "Iter: 92, LR: 0.100, Loss: 2169.637, NoiseVar: 0.000, SignalVar: 1391.823, Lengthscale: 0.848, Epsilon: 0.273\n",
      "Iter: 93, LR: 0.100, Loss: 2184.463, NoiseVar: 0.000, SignalVar: 1391.727, Lengthscale: 0.851, Epsilon: 0.274\n",
      "Iter: 94, LR: 0.100, Loss: 2200.066, NoiseVar: 0.000, SignalVar: 1391.631, Lengthscale: 0.851, Epsilon: 0.274\n",
      "Iter: 95, LR: 0.100, Loss: 2198.935, NoiseVar: 0.000, SignalVar: 1391.532, Lengthscale: 0.846, Epsilon: 0.274\n",
      "Iter: 96, LR: 0.100, Loss: 2186.143, NoiseVar: 0.000, SignalVar: 1391.433, Lengthscale: 0.839, Epsilon: 0.273\n",
      "Iter: 97, LR: 0.100, Loss: 2165.072, NoiseVar: 0.000, SignalVar: 1391.334, Lengthscale: 0.832, Epsilon: 0.273\n",
      "Iter: 98, LR: 0.100, Loss: 2167.738, NoiseVar: 0.000, SignalVar: 1391.236, Lengthscale: 0.830, Epsilon: 0.273\n",
      "Iter: 99, LR: 0.100, Loss: 2174.596, NoiseVar: 0.000, SignalVar: 1391.138, Lengthscale: 0.828, Epsilon: 0.273\n"
     ]
    }
   ],
   "source": [
    "model.manifold_informed_train(lr=1e-1, iter=100, norm_step_size=100, verbose=True)"
   ]
  },
  {
   "cell_type": "markdown",
   "id": "0ab36075",
   "metadata": {},
   "source": [
    "## Evaluation"
   ]
  },
  {
   "cell_type": "code",
   "execution_count": 11,
   "id": "6c6f0dc8",
   "metadata": {},
   "outputs": [],
   "source": [
    "%%capture\n",
    "likelihood.eval()\n",
    "model.eval()"
   ]
  },
  {
   "cell_type": "markdown",
   "id": "d201b909",
   "metadata": {},
   "source": [
    "\n",
    "## Metrics"
   ]
  },
  {
   "cell_type": "code",
   "execution_count": 12,
   "id": "998d4b89",
   "metadata": {
    "scrolled": false
   },
   "outputs": [
    {
     "name": "stdout",
     "output_type": "stream",
     "text": [
      "RMSE:  tensor(1.8487, device='cuda:0')\n",
      "NLL:  tensor(12242703., device='cuda:0')\n"
     ]
    },
    {
     "name": "stderr",
     "output_type": "stream",
     "text": [
      "/home/bernardo/.local/lib/python3.10/site-packages/linear_operator/utils/linear_cg.py:324: NumericalWarning: CG terminated in 1000 iterations with average residual norm 1792697.375 which is larger than the tolerance of 1 specified by linear_operator.settings.cg_tolerance. If performance is affected, consider raising the maximum number of CG iterations by running code in a linear_operator.settings.max_cg_iterations(value) context.\n",
      "  warnings.warn(\n"
     ]
    }
   ],
   "source": [
    "with torch.no_grad(), gpytorch.settings.fast_pred_var():\n",
    "    preds_test = likelihood(model(test_x))\n",
    "\n",
    "    mean_test = preds_test.mean\n",
    "        \n",
    "    error = test_y - preds_test.mean\n",
    "    covar = preds_test.lazy_covariance_matrix.evaluate_kernel()\n",
    "    inv_quad, logdet = covar.inv_quad_logdet(inv_quad_rhs=error.unsqueeze(-1), logdet=True)\n",
    "    \n",
    "    rmse = (error.square().sum()/test_y.shape[0]).sqrt()\n",
    "    nll = 0.5 * sum([inv_quad, logdet, error.size(-1)* np.log(2 * np.pi)])/test_y.shape[0]\n",
    "    \n",
    "print(\"RMSE: \", rmse)\n",
    "print(\"NLL: \", nll)"
   ]
  },
  {
   "cell_type": "code",
   "execution_count": null,
   "id": "75c99993",
   "metadata": {},
   "outputs": [],
   "source": []
  }
 ],
 "metadata": {
  "kernelspec": {
   "display_name": "Python 3 (ipykernel)",
   "language": "python",
   "name": "python3"
  },
  "language_info": {
   "codemirror_mode": {
    "name": "ipython",
    "version": 3
   },
   "file_extension": ".py",
   "mimetype": "text/x-python",
   "name": "python",
   "nbconvert_exporter": "python",
   "pygments_lexer": "ipython3",
   "version": "3.10.6"
  },
  "vscode": {
   "interpreter": {
    "hash": "916dbcbb3f70747c44a77c7bcd40155683ae19c65e1c03b4aa3499c5328201f1"
   }
  }
 },
 "nbformat": 4,
 "nbformat_minor": 5
}
