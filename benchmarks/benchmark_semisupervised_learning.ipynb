{
 "cells": [
  {
   "cell_type": "markdown",
   "id": "5e276dbe",
   "metadata": {},
   "source": [
    "# Manifold GP Semi-Supervised Learning via Precision Matrix on 1D Manifold"
   ]
  },
  {
   "cell_type": "markdown",
   "id": "a36444a5",
   "metadata": {},
   "source": [
    "## Preamble"
   ]
  },
  {
   "cell_type": "markdown",
   "id": "01d17d1f",
   "metadata": {},
   "source": [
    "This notebook provides an example of how to perform Gaussian Process Regression on a 1D manifold. In this example we consider a supervised learning scenario, namely the number of labeled data points is equivalent to the number of the sampled points from the underlying manifold."
   ]
  },
  {
   "cell_type": "code",
   "execution_count": 1,
   "id": "58e9afd1",
   "metadata": {},
   "outputs": [],
   "source": [
    "import torch\n",
    "import gpytorch\n",
    "import numpy as np\n",
    "import os\n",
    "import scipy.spatial as ss\n",
    "\n",
    "from manifold_gp.kernels.riemann_matern_kernel import RiemannMaternKernel\n",
    "from manifold_gp.models.riemann_gp import RiemannGP\n",
    "from gpytorch.priors import NormalPrior, GammaPrior"
   ]
  },
  {
   "cell_type": "markdown",
   "id": "75701656",
   "metadata": {},
   "source": [
    "## Dataset Preprocessing"
   ]
  },
  {
   "cell_type": "markdown",
   "id": "02483bf0",
   "metadata": {},
   "source": [
    "### Load & Settings"
   ]
  },
  {
   "cell_type": "code",
   "execution_count": 2,
   "id": "af216c23",
   "metadata": {},
   "outputs": [],
   "source": [
    "dataset = 'protein' # ['protein','elevators', 'ctslice']\n",
    "cut = 10000\n",
    "\n",
    "if dataset == 'protein':\n",
    "    data = np.loadtxt('datasets/protein.csv', delimiter=\",\")[:cut]\n",
    "    sampled_x, sampled_y = data[:, 1:], data[:, 0]\n",
    "elif dataset == 'elevators':\n",
    "    data = np.array(loadmat('datasets/elevators.mat')['data'])\n",
    "    sampled_x, sampled_y = data[:, :-1], data[:, -1]\n",
    "elif dataset == 'ctslice':\n",
    "    data = np.loadtxt('datasets/ctslice.csv', delimiter=\",\")[:cut]\n",
    "    sampled_x, sampled_y = data[:, :-1], data[:, -1]\n",
    "    \n",
    "# remove coincident points\n",
    "sampled_x, id_unique = np.unique(sampled_x, axis=0, return_index=True)\n",
    "sampled_y = sampled_y[id_unique]\n",
    "\n",
    "# cut between 0.01 and 0.99 quantile of distances\n",
    "kd_tree = ss.KDTree(sampled_x)\n",
    "v = kd_tree.query(sampled_x, k=2)[0][:, 1]\n",
    "idx = np.argsort(v)\n",
    "percentile_start = int(np.round(idx.shape[0]*0.10))\n",
    "percentile_end = int(np.round(idx.shape[0]*0.90))\n",
    "sampled_x = sampled_x[idx[percentile_start:percentile_end], :]\n",
    "sampled_y = sampled_y[idx[percentile_start:percentile_end]]\n",
    "m = sampled_x.shape[0]\n",
    "\n",
    "normalize_features = True\n",
    "normalize_labels = True"
   ]
  },
  {
   "cell_type": "markdown",
   "id": "331daec5",
   "metadata": {},
   "source": [
    "### Trainset & Testset"
   ]
  },
  {
   "cell_type": "code",
   "execution_count": 3,
   "id": "163309fd",
   "metadata": {},
   "outputs": [],
   "source": [
    "split = int(0.2 * m)\n",
    "\n",
    "train_x, train_y = sampled_x[:split], sampled_y[:split]\n",
    "test_x, test_y = sampled_x[split:], sampled_y[split:]\n",
    "\n",
    "train_idx = torch.arange(0, split)\n",
    "sampled_x = torch.from_numpy(sampled_x).float()\n",
    "train_x = torch.from_numpy(train_x).float()\n",
    "train_y = torch.from_numpy(train_y).float()\n",
    "test_x = torch.from_numpy(test_x).float()\n",
    "test_y = torch.from_numpy(test_y).float()\n",
    "\n",
    "if normalize_features:\n",
    "    mu_x, std_x = sampled_x.mean(dim=-2, keepdim=True), sampled_x.std(dim=-2, keepdim=True) + 1e-6\n",
    "    sampled_x.sub_(mu_x).div_(std_x)\n",
    "    train_x.sub_(mu_x).div_(std_x)\n",
    "    test_x.sub_(mu_x).div_(std_x)\n",
    "    \n",
    "if normalize_labels:\n",
    "    mu_y, std_y = train_y.mean(), train_y.std()\n",
    "    train_y.sub_(mu_y).div_(std_y)\n",
    "    test_y.sub_(mu_y).div_(std_y)"
   ]
  },
  {
   "cell_type": "markdown",
   "id": "32c2feda",
   "metadata": {},
   "source": [
    "### Hyperparameters Priors"
   ]
  },
  {
   "cell_type": "code",
   "execution_count": 4,
   "id": "f1d67029",
   "metadata": {},
   "outputs": [],
   "source": [
    "import scipy.spatial as ss\n",
    "neighbors = 10\n",
    "kd_tree = ss.KDTree(sampled_x)\n",
    "v = np.sort(kd_tree.query(sampled_x, k=neighbors+1)[0][:, 1:].ravel())\n",
    "percentile_99 = int(np.round(v.shape[0]*0.99))\n",
    "gamma_rate = 100.0/np.std(v)\n",
    "gamma_concentration = gamma_rate * v[percentile_99] + 1"
   ]
  },
  {
   "cell_type": "markdown",
   "id": "b87581de",
   "metadata": {},
   "source": [
    "### Move Data to Device"
   ]
  },
  {
   "cell_type": "code",
   "execution_count": 5,
   "id": "d1c91b4b",
   "metadata": {},
   "outputs": [],
   "source": [
    "sampled_x = sampled_x.contiguous()\n",
    "# train_idx = train_idx.contiguous()\n",
    "train_x, train_y = train_x.contiguous(), train_y.contiguous()\n",
    "test_x, test_y = test_x.contiguous(), test_y.contiguous()\n",
    "\n",
    "use_cuda = torch.cuda.is_available()\n",
    "device = torch.device(\"cuda\" if use_cuda else \"cpu\")\n",
    "sampled_x = sampled_x.to(device)\n",
    "# train_idx = train_idx.to(device)\n",
    "train_x, train_y = train_x.to(device), train_y.to(device)\n",
    "test_x, test_y = test_x.to(device), test_y.to(device)"
   ]
  },
  {
   "cell_type": "markdown",
   "id": "405d4275",
   "metadata": {},
   "source": [
    "## Model"
   ]
  },
  {
   "cell_type": "code",
   "execution_count": 6,
   "id": "83460075",
   "metadata": {},
   "outputs": [],
   "source": [
    "%%capture\n",
    "likelihood = gpytorch.likelihoods.GaussianLikelihood(\n",
    "    noise_constraint=gpytorch.constraints.GreaterThan(1e-8),\n",
    "    noise_prior=None  # NormalPrior(torch.tensor([0.0]).to(device),  torch.tensor([1/9]).sqrt().to(device))\n",
    ")\n",
    "\n",
    "kernel = gpytorch.kernels.ScaleKernel(\n",
    "    RiemannMaternKernel(\n",
    "        nu=3,\n",
    "        nodes=sampled_x,\n",
    "        neighbors=50,\n",
    "        operator=\"randomwalk\",\n",
    "        modes=200,\n",
    "        ball_scale=3.0,\n",
    "        support_kernel=gpytorch.kernels.RBFKernel(),\n",
    "        epsilon_prior=GammaPrior(gamma_concentration, gamma_rate),\n",
    "        lengthscale_prior=None, # InverseGammaPrior(igamma_concentration, igamma_rate)\n",
    "    ),\n",
    "    outputscale_prior=None  # NormalPrior(torch.tensor([1.0]).to(device),  torch.tensor([1/9]).sqrt().to(device))\n",
    ")\n",
    "\n",
    "model = RiemannGP(train_x, train_y, likelihood, kernel, train_idx).to(device)"
   ]
  },
  {
   "cell_type": "markdown",
   "id": "8b14763b",
   "metadata": {},
   "source": [
    "## Train"
   ]
  },
  {
   "cell_type": "code",
   "execution_count": 7,
   "id": "41a6cf1e",
   "metadata": {},
   "outputs": [],
   "source": [
    "%%capture\n",
    "hypers = {\n",
    "    'likelihood.noise_covar.noise': 1e-2, # 0.037,\n",
    "    'covar_module.base_kernel.epsilon': 0.5, # 0.029,\n",
    "    'covar_module.base_kernel.lengthscale': 0.5, # 5.130,\n",
    "    'covar_module.outputscale': 1.0, # 0.0656,\n",
    "    'covar_module.base_kernel.support_kernel.lengthscale': 1.0,\n",
    "}\n",
    "model.initialize(**hypers)"
   ]
  },
  {
   "cell_type": "code",
   "execution_count": 8,
   "id": "5377308c",
   "metadata": {
    "scrolled": false
   },
   "outputs": [
    {
     "name": "stdout",
     "output_type": "stream",
     "text": [
      "Iter: 0, LR: 0.010, Loss: 963.283, NoiseVar: 0.010, SignalVar: 714901.812, Lengthscale: 0.500, Epsilon: 0.500\n",
      "Iter: 1, LR: 0.010, Loss: 952.777, NoiseVar: 0.010, SignalVar: 714901.812, Lengthscale: 0.504, Epsilon: 0.504\n",
      "Iter: 2, LR: 0.010, Loss: 947.386, NoiseVar: 0.010, SignalVar: 714901.812, Lengthscale: 0.508, Epsilon: 0.508\n",
      "Iter: 3, LR: 0.010, Loss: 941.575, NoiseVar: 0.010, SignalVar: 714901.812, Lengthscale: 0.512, Epsilon: 0.512\n",
      "Iter: 4, LR: 0.010, Loss: 938.701, NoiseVar: 0.010, SignalVar: 714901.812, Lengthscale: 0.515, Epsilon: 0.516\n",
      "Iter: 5, LR: 0.010, Loss: 934.626, NoiseVar: 0.010, SignalVar: 714901.812, Lengthscale: 0.519, Epsilon: 0.520\n",
      "Iter: 6, LR: 0.010, Loss: 929.499, NoiseVar: 0.011, SignalVar: 714901.812, Lengthscale: 0.522, Epsilon: 0.524\n",
      "Iter: 7, LR: 0.010, Loss: 928.443, NoiseVar: 0.011, SignalVar: 714901.812, Lengthscale: 0.525, Epsilon: 0.528\n",
      "Iter: 8, LR: 0.010, Loss: 931.701, NoiseVar: 0.011, SignalVar: 714901.812, Lengthscale: 0.527, Epsilon: 0.532\n",
      "Iter: 9, LR: 0.010, Loss: 925.974, NoiseVar: 0.011, SignalVar: 714901.812, Lengthscale: 0.528, Epsilon: 0.536\n",
      "Iter: 10, LR: 0.010, Loss: 928.816, NoiseVar: 0.011, SignalVar: 714901.812, Lengthscale: 0.529, Epsilon: 0.540\n",
      "Iter: 11, LR: 0.010, Loss: 925.113, NoiseVar: 0.011, SignalVar: 714901.812, Lengthscale: 0.529, Epsilon: 0.545\n",
      "Iter: 12, LR: 0.010, Loss: 920.583, NoiseVar: 0.011, SignalVar: 714901.812, Lengthscale: 0.529, Epsilon: 0.549\n",
      "Iter: 13, LR: 0.010, Loss: 919.362, NoiseVar: 0.011, SignalVar: 714901.812, Lengthscale: 0.528, Epsilon: 0.553\n",
      "Iter: 14, LR: 0.010, Loss: 916.728, NoiseVar: 0.010, SignalVar: 714901.812, Lengthscale: 0.527, Epsilon: 0.557\n",
      "Iter: 15, LR: 0.010, Loss: 915.765, NoiseVar: 0.010, SignalVar: 714901.812, Lengthscale: 0.525, Epsilon: 0.561\n",
      "Iter: 16, LR: 0.010, Loss: 908.015, NoiseVar: 0.010, SignalVar: 714901.812, Lengthscale: 0.524, Epsilon: 0.566\n",
      "Iter: 17, LR: 0.010, Loss: 911.014, NoiseVar: 0.010, SignalVar: 714901.812, Lengthscale: 0.522, Epsilon: 0.570\n",
      "Iter: 18, LR: 0.010, Loss: 905.198, NoiseVar: 0.010, SignalVar: 714901.812, Lengthscale: 0.521, Epsilon: 0.574\n",
      "Iter: 19, LR: 0.010, Loss: 904.231, NoiseVar: 0.010, SignalVar: 714901.812, Lengthscale: 0.519, Epsilon: 0.578\n",
      "Iter: 20, LR: 0.010, Loss: 904.014, NoiseVar: 0.010, SignalVar: 714901.812, Lengthscale: 0.518, Epsilon: 0.583\n",
      "Iter: 21, LR: 0.010, Loss: 902.351, NoiseVar: 0.010, SignalVar: 714901.812, Lengthscale: 0.516, Epsilon: 0.587\n",
      "Iter: 22, LR: 0.010, Loss: 902.310, NoiseVar: 0.010, SignalVar: 714901.812, Lengthscale: 0.516, Epsilon: 0.591\n",
      "Iter: 23, LR: 0.010, Loss: 897.527, NoiseVar: 0.010, SignalVar: 714901.812, Lengthscale: 0.515, Epsilon: 0.596\n",
      "Iter: 24, LR: 0.010, Loss: 897.879, NoiseVar: 0.010, SignalVar: 714901.812, Lengthscale: 0.515, Epsilon: 0.600\n",
      "Iter: 25, LR: 0.010, Loss: 895.639, NoiseVar: 0.010, SignalVar: 714901.812, Lengthscale: 0.515, Epsilon: 0.605\n",
      "Iter: 26, LR: 0.010, Loss: 894.009, NoiseVar: 0.010, SignalVar: 714901.812, Lengthscale: 0.515, Epsilon: 0.609\n",
      "Iter: 27, LR: 0.010, Loss: 888.880, NoiseVar: 0.010, SignalVar: 714901.812, Lengthscale: 0.516, Epsilon: 0.613\n",
      "Iter: 28, LR: 0.010, Loss: 887.129, NoiseVar: 0.010, SignalVar: 714901.812, Lengthscale: 0.517, Epsilon: 0.618\n",
      "Iter: 29, LR: 0.010, Loss: 886.127, NoiseVar: 0.010, SignalVar: 714901.812, Lengthscale: 0.518, Epsilon: 0.622\n",
      "Iter: 30, LR: 0.010, Loss: 887.030, NoiseVar: 0.010, SignalVar: 714901.812, Lengthscale: 0.519, Epsilon: 0.627\n",
      "Iter: 31, LR: 0.010, Loss: 883.658, NoiseVar: 0.010, SignalVar: 714901.812, Lengthscale: 0.520, Epsilon: 0.631\n",
      "Iter: 32, LR: 0.010, Loss: 882.879, NoiseVar: 0.010, SignalVar: 714901.812, Lengthscale: 0.520, Epsilon: 0.636\n",
      "Iter: 33, LR: 0.010, Loss: 879.006, NoiseVar: 0.010, SignalVar: 714901.812, Lengthscale: 0.521, Epsilon: 0.640\n",
      "Iter: 34, LR: 0.010, Loss: 876.810, NoiseVar: 0.010, SignalVar: 714901.812, Lengthscale: 0.522, Epsilon: 0.644\n",
      "Iter: 35, LR: 0.010, Loss: 876.804, NoiseVar: 0.010, SignalVar: 714901.812, Lengthscale: 0.522, Epsilon: 0.649\n",
      "Iter: 36, LR: 0.010, Loss: 873.349, NoiseVar: 0.010, SignalVar: 714901.812, Lengthscale: 0.522, Epsilon: 0.653\n",
      "Iter: 37, LR: 0.010, Loss: 874.579, NoiseVar: 0.010, SignalVar: 714901.812, Lengthscale: 0.522, Epsilon: 0.658\n",
      "Iter: 38, LR: 0.010, Loss: 870.300, NoiseVar: 0.010, SignalVar: 714901.812, Lengthscale: 0.522, Epsilon: 0.662\n",
      "Iter: 39, LR: 0.010, Loss: 871.659, NoiseVar: 0.010, SignalVar: 714901.812, Lengthscale: 0.522, Epsilon: 0.667\n",
      "Iter: 40, LR: 0.010, Loss: 868.467, NoiseVar: 0.010, SignalVar: 714901.812, Lengthscale: 0.521, Epsilon: 0.671\n",
      "Iter: 41, LR: 0.010, Loss: 871.632, NoiseVar: 0.010, SignalVar: 714901.812, Lengthscale: 0.521, Epsilon: 0.676\n",
      "Iter: 42, LR: 0.010, Loss: 866.240, NoiseVar: 0.010, SignalVar: 714901.812, Lengthscale: 0.520, Epsilon: 0.680\n",
      "Iter: 43, LR: 0.010, Loss: 863.093, NoiseVar: 0.010, SignalVar: 714901.812, Lengthscale: 0.520, Epsilon: 0.685\n",
      "Iter: 44, LR: 0.010, Loss: 861.567, NoiseVar: 0.009, SignalVar: 714901.812, Lengthscale: 0.519, Epsilon: 0.689\n",
      "Iter: 45, LR: 0.010, Loss: 861.213, NoiseVar: 0.009, SignalVar: 714901.812, Lengthscale: 0.519, Epsilon: 0.694\n",
      "Iter: 46, LR: 0.010, Loss: 861.519, NoiseVar: 0.009, SignalVar: 714901.812, Lengthscale: 0.519, Epsilon: 0.698\n",
      "Iter: 47, LR: 0.010, Loss: 854.858, NoiseVar: 0.009, SignalVar: 714901.812, Lengthscale: 0.519, Epsilon: 0.703\n",
      "Iter: 48, LR: 0.010, Loss: 855.163, NoiseVar: 0.009, SignalVar: 714901.812, Lengthscale: 0.519, Epsilon: 0.707\n",
      "Iter: 49, LR: 0.010, Loss: 855.826, NoiseVar: 0.009, SignalVar: 714901.812, Lengthscale: 0.519, Epsilon: 0.712\n",
      "Iter: 50, LR: 0.010, Loss: 853.995, NoiseVar: 0.009, SignalVar: 714901.812, Lengthscale: 0.519, Epsilon: 0.716\n",
      "Iter: 51, LR: 0.010, Loss: 851.907, NoiseVar: 0.009, SignalVar: 714901.812, Lengthscale: 0.519, Epsilon: 0.721\n",
      "Iter: 52, LR: 0.010, Loss: 850.298, NoiseVar: 0.009, SignalVar: 714901.812, Lengthscale: 0.519, Epsilon: 0.725\n",
      "Iter: 53, LR: 0.010, Loss: 852.959, NoiseVar: 0.009, SignalVar: 714901.812, Lengthscale: 0.519, Epsilon: 0.730\n",
      "Iter: 54, LR: 0.010, Loss: 847.338, NoiseVar: 0.009, SignalVar: 714901.812, Lengthscale: 0.520, Epsilon: 0.734\n",
      "Iter: 55, LR: 0.010, Loss: 847.165, NoiseVar: 0.009, SignalVar: 714901.812, Lengthscale: 0.520, Epsilon: 0.739\n",
      "Iter: 56, LR: 0.010, Loss: 845.905, NoiseVar: 0.009, SignalVar: 714901.812, Lengthscale: 0.520, Epsilon: 0.743\n",
      "Iter: 57, LR: 0.010, Loss: 845.104, NoiseVar: 0.009, SignalVar: 714901.812, Lengthscale: 0.520, Epsilon: 0.748\n",
      "Iter: 58, LR: 0.010, Loss: 844.910, NoiseVar: 0.009, SignalVar: 714901.812, Lengthscale: 0.520, Epsilon: 0.752\n",
      "Iter: 59, LR: 0.010, Loss: 844.309, NoiseVar: 0.009, SignalVar: 714901.812, Lengthscale: 0.520, Epsilon: 0.756\n",
      "Iter: 60, LR: 0.010, Loss: 841.567, NoiseVar: 0.009, SignalVar: 714901.812, Lengthscale: 0.520, Epsilon: 0.761\n",
      "Iter: 61, LR: 0.010, Loss: 838.891, NoiseVar: 0.009, SignalVar: 714901.812, Lengthscale: 0.520, Epsilon: 0.765\n",
      "Iter: 62, LR: 0.010, Loss: 839.604, NoiseVar: 0.009, SignalVar: 714901.812, Lengthscale: 0.520, Epsilon: 0.770\n",
      "Iter: 63, LR: 0.010, Loss: 838.792, NoiseVar: 0.009, SignalVar: 714901.812, Lengthscale: 0.520, Epsilon: 0.774\n",
      "Iter: 64, LR: 0.010, Loss: 835.922, NoiseVar: 0.009, SignalVar: 714901.812, Lengthscale: 0.520, Epsilon: 0.779\n",
      "Iter: 65, LR: 0.010, Loss: 835.306, NoiseVar: 0.009, SignalVar: 714901.812, Lengthscale: 0.520, Epsilon: 0.783\n",
      "Iter: 66, LR: 0.010, Loss: 836.912, NoiseVar: 0.009, SignalVar: 714901.812, Lengthscale: 0.520, Epsilon: 0.787\n",
      "Iter: 67, LR: 0.010, Loss: 836.260, NoiseVar: 0.009, SignalVar: 714901.812, Lengthscale: 0.519, Epsilon: 0.792\n",
      "Iter: 68, LR: 0.010, Loss: 831.064, NoiseVar: 0.009, SignalVar: 714901.812, Lengthscale: 0.519, Epsilon: 0.796\n",
      "Iter: 69, LR: 0.010, Loss: 831.072, NoiseVar: 0.009, SignalVar: 714901.812, Lengthscale: 0.519, Epsilon: 0.801\n",
      "Iter: 70, LR: 0.010, Loss: 831.247, NoiseVar: 0.009, SignalVar: 714901.812, Lengthscale: 0.519, Epsilon: 0.805\n",
      "Iter: 71, LR: 0.010, Loss: 828.754, NoiseVar: 0.009, SignalVar: 714901.812, Lengthscale: 0.519, Epsilon: 0.809\n",
      "Iter: 72, LR: 0.010, Loss: 828.042, NoiseVar: 0.009, SignalVar: 714901.812, Lengthscale: 0.519, Epsilon: 0.814\n",
      "Iter: 73, LR: 0.010, Loss: 826.749, NoiseVar: 0.009, SignalVar: 714901.812, Lengthscale: 0.519, Epsilon: 0.818\n"
     ]
    },
    {
     "name": "stdout",
     "output_type": "stream",
     "text": [
      "Iter: 74, LR: 0.010, Loss: 826.052, NoiseVar: 0.009, SignalVar: 714901.812, Lengthscale: 0.520, Epsilon: 0.822\n",
      "Iter: 75, LR: 0.010, Loss: 826.157, NoiseVar: 0.009, SignalVar: 714901.812, Lengthscale: 0.520, Epsilon: 0.826\n",
      "Iter: 76, LR: 0.010, Loss: 825.247, NoiseVar: 0.009, SignalVar: 714901.812, Lengthscale: 0.520, Epsilon: 0.831\n",
      "Iter: 77, LR: 0.010, Loss: 823.781, NoiseVar: 0.009, SignalVar: 714901.812, Lengthscale: 0.520, Epsilon: 0.835\n",
      "Iter: 78, LR: 0.010, Loss: 825.759, NoiseVar: 0.009, SignalVar: 714901.812, Lengthscale: 0.520, Epsilon: 0.839\n",
      "Iter: 79, LR: 0.010, Loss: 823.637, NoiseVar: 0.009, SignalVar: 714901.812, Lengthscale: 0.520, Epsilon: 0.843\n",
      "Iter: 80, LR: 0.010, Loss: 820.813, NoiseVar: 0.009, SignalVar: 714901.812, Lengthscale: 0.520, Epsilon: 0.848\n",
      "Iter: 81, LR: 0.010, Loss: 820.960, NoiseVar: 0.009, SignalVar: 714901.812, Lengthscale: 0.520, Epsilon: 0.852\n",
      "Iter: 82, LR: 0.010, Loss: 819.997, NoiseVar: 0.009, SignalVar: 714901.812, Lengthscale: 0.520, Epsilon: 0.856\n",
      "Iter: 83, LR: 0.010, Loss: 818.790, NoiseVar: 0.009, SignalVar: 714901.812, Lengthscale: 0.520, Epsilon: 0.860\n",
      "Iter: 84, LR: 0.010, Loss: 818.743, NoiseVar: 0.008, SignalVar: 714901.812, Lengthscale: 0.520, Epsilon: 0.864\n",
      "Iter: 85, LR: 0.010, Loss: 817.087, NoiseVar: 0.008, SignalVar: 714901.812, Lengthscale: 0.520, Epsilon: 0.869\n",
      "Iter: 86, LR: 0.010, Loss: 818.742, NoiseVar: 0.008, SignalVar: 714901.812, Lengthscale: 0.519, Epsilon: 0.873\n",
      "Iter: 87, LR: 0.010, Loss: 815.002, NoiseVar: 0.008, SignalVar: 714901.812, Lengthscale: 0.519, Epsilon: 0.877\n",
      "Iter: 88, LR: 0.010, Loss: 816.017, NoiseVar: 0.008, SignalVar: 714901.812, Lengthscale: 0.519, Epsilon: 0.881\n",
      "Iter: 89, LR: 0.010, Loss: 815.099, NoiseVar: 0.008, SignalVar: 714901.812, Lengthscale: 0.519, Epsilon: 0.885\n",
      "Iter: 90, LR: 0.010, Loss: 814.671, NoiseVar: 0.008, SignalVar: 714901.812, Lengthscale: 0.519, Epsilon: 0.889\n",
      "Iter: 91, LR: 0.010, Loss: 814.898, NoiseVar: 0.008, SignalVar: 714901.812, Lengthscale: 0.520, Epsilon: 0.893\n",
      "Iter: 92, LR: 0.010, Loss: 813.159, NoiseVar: 0.008, SignalVar: 714901.812, Lengthscale: 0.520, Epsilon: 0.897\n",
      "Iter: 93, LR: 0.010, Loss: 811.593, NoiseVar: 0.008, SignalVar: 714901.812, Lengthscale: 0.520, Epsilon: 0.901\n",
      "Iter: 94, LR: 0.010, Loss: 810.204, NoiseVar: 0.008, SignalVar: 714901.812, Lengthscale: 0.520, Epsilon: 0.905\n",
      "Iter: 95, LR: 0.010, Loss: 810.870, NoiseVar: 0.008, SignalVar: 714901.812, Lengthscale: 0.520, Epsilon: 0.909\n",
      "Iter: 96, LR: 0.010, Loss: 810.235, NoiseVar: 0.008, SignalVar: 714901.812, Lengthscale: 0.520, Epsilon: 0.913\n",
      "Iter: 97, LR: 0.010, Loss: 810.009, NoiseVar: 0.008, SignalVar: 714901.812, Lengthscale: 0.520, Epsilon: 0.917\n",
      "Iter: 98, LR: 0.010, Loss: 806.819, NoiseVar: 0.008, SignalVar: 714901.812, Lengthscale: 0.520, Epsilon: 0.921\n",
      "Iter: 99, LR: 0.010, Loss: 808.505, NoiseVar: 0.008, SignalVar: 714901.812, Lengthscale: 0.520, Epsilon: 0.925\n"
     ]
    }
   ],
   "source": [
    "model.manifold_informed_train(lr=1e-2, iter=100, norm_step_size=100, verbose=True)"
   ]
  },
  {
   "cell_type": "code",
   "execution_count": 9,
   "id": "cb6654ce",
   "metadata": {},
   "outputs": [
    {
     "name": "stdout",
     "output_type": "stream",
     "text": [
      "Iter: 0, LR: 0.010, Loss: 810.431, NoiseVar: 0.008, SignalVar: 652789.250, Lengthscale: 0.520, Epsilon: 0.929\n",
      "Iter: 1, LR: 0.010, Loss: 808.000, NoiseVar: 0.008, SignalVar: 652789.250, Lengthscale: 0.524, Epsilon: 0.935\n",
      "Iter: 2, LR: 0.010, Loss: 805.840, NoiseVar: 0.008, SignalVar: 652789.250, Lengthscale: 0.528, Epsilon: 0.941\n",
      "Iter: 3, LR: 0.010, Loss: 805.908, NoiseVar: 0.008, SignalVar: 652789.250, Lengthscale: 0.531, Epsilon: 0.947\n",
      "Iter: 4, LR: 0.010, Loss: 803.328, NoiseVar: 0.008, SignalVar: 652789.250, Lengthscale: 0.533, Epsilon: 0.953\n",
      "Iter: 5, LR: 0.010, Loss: 803.615, NoiseVar: 0.008, SignalVar: 652789.250, Lengthscale: 0.533, Epsilon: 0.959\n",
      "Iter: 6, LR: 0.010, Loss: 803.678, NoiseVar: 0.008, SignalVar: 652789.250, Lengthscale: 0.533, Epsilon: 0.965\n",
      "Iter: 7, LR: 0.010, Loss: 802.784, NoiseVar: 0.008, SignalVar: 652789.250, Lengthscale: 0.531, Epsilon: 0.971\n",
      "Iter: 8, LR: 0.010, Loss: 801.476, NoiseVar: 0.008, SignalVar: 652789.250, Lengthscale: 0.529, Epsilon: 0.977\n",
      "Iter: 9, LR: 0.010, Loss: 799.627, NoiseVar: 0.008, SignalVar: 652789.250, Lengthscale: 0.527, Epsilon: 0.984\n",
      "Iter: 10, LR: 0.010, Loss: 799.900, NoiseVar: 0.008, SignalVar: 652789.250, Lengthscale: 0.526, Epsilon: 0.990\n",
      "Iter: 11, LR: 0.010, Loss: 800.707, NoiseVar: 0.008, SignalVar: 652789.250, Lengthscale: 0.525, Epsilon: 0.996\n",
      "Iter: 12, LR: 0.010, Loss: 799.393, NoiseVar: 0.008, SignalVar: 652789.250, Lengthscale: 0.524, Epsilon: 1.002\n",
      "Iter: 13, LR: 0.010, Loss: 798.401, NoiseVar: 0.008, SignalVar: 652789.250, Lengthscale: 0.524, Epsilon: 1.008\n",
      "Iter: 14, LR: 0.010, Loss: 798.333, NoiseVar: 0.008, SignalVar: 652789.250, Lengthscale: 0.524, Epsilon: 1.014\n",
      "Iter: 15, LR: 0.010, Loss: 797.008, NoiseVar: 0.008, SignalVar: 652789.250, Lengthscale: 0.525, Epsilon: 1.020\n",
      "Iter: 16, LR: 0.010, Loss: 794.704, NoiseVar: 0.008, SignalVar: 652789.250, Lengthscale: 0.526, Epsilon: 1.027\n",
      "Iter: 17, LR: 0.010, Loss: 794.600, NoiseVar: 0.008, SignalVar: 652789.250, Lengthscale: 0.527, Epsilon: 1.033\n",
      "Iter: 18, LR: 0.010, Loss: 794.727, NoiseVar: 0.008, SignalVar: 652789.250, Lengthscale: 0.528, Epsilon: 1.039\n",
      "Iter: 19, LR: 0.010, Loss: 793.804, NoiseVar: 0.008, SignalVar: 652789.250, Lengthscale: 0.529, Epsilon: 1.045\n",
      "Iter: 20, LR: 0.010, Loss: 793.460, NoiseVar: 0.008, SignalVar: 652789.250, Lengthscale: 0.530, Epsilon: 1.051\n",
      "Iter: 21, LR: 0.010, Loss: 794.841, NoiseVar: 0.008, SignalVar: 652789.250, Lengthscale: 0.530, Epsilon: 1.057\n",
      "Iter: 22, LR: 0.010, Loss: 794.782, NoiseVar: 0.008, SignalVar: 652789.250, Lengthscale: 0.530, Epsilon: 1.063\n",
      "Iter: 23, LR: 0.010, Loss: 789.993, NoiseVar: 0.008, SignalVar: 652789.250, Lengthscale: 0.530, Epsilon: 1.068\n",
      "Iter: 24, LR: 0.010, Loss: 791.382, NoiseVar: 0.008, SignalVar: 652789.250, Lengthscale: 0.529, Epsilon: 1.074\n",
      "Iter: 25, LR: 0.010, Loss: 790.825, NoiseVar: 0.008, SignalVar: 652789.250, Lengthscale: 0.529, Epsilon: 1.080\n",
      "Iter: 26, LR: 0.010, Loss: 790.998, NoiseVar: 0.008, SignalVar: 652789.250, Lengthscale: 0.528, Epsilon: 1.086\n",
      "Iter: 27, LR: 0.010, Loss: 789.219, NoiseVar: 0.008, SignalVar: 652789.250, Lengthscale: 0.527, Epsilon: 1.091\n",
      "Iter: 28, LR: 0.010, Loss: 790.025, NoiseVar: 0.008, SignalVar: 652789.250, Lengthscale: 0.526, Epsilon: 1.097\n",
      "Iter: 29, LR: 0.010, Loss: 789.709, NoiseVar: 0.008, SignalVar: 652789.250, Lengthscale: 0.525, Epsilon: 1.103\n",
      "Iter: 30, LR: 0.010, Loss: 789.390, NoiseVar: 0.008, SignalVar: 652789.250, Lengthscale: 0.525, Epsilon: 1.108\n",
      "Iter: 31, LR: 0.010, Loss: 788.953, NoiseVar: 0.008, SignalVar: 652789.250, Lengthscale: 0.525, Epsilon: 1.114\n",
      "Iter: 32, LR: 0.010, Loss: 788.419, NoiseVar: 0.008, SignalVar: 652789.250, Lengthscale: 0.525, Epsilon: 1.119\n",
      "Iter: 33, LR: 0.010, Loss: 787.273, NoiseVar: 0.008, SignalVar: 652789.250, Lengthscale: 0.526, Epsilon: 1.124\n",
      "Iter: 34, LR: 0.010, Loss: 787.860, NoiseVar: 0.008, SignalVar: 652789.250, Lengthscale: 0.527, Epsilon: 1.129\n",
      "Iter: 35, LR: 0.010, Loss: 786.631, NoiseVar: 0.008, SignalVar: 652789.250, Lengthscale: 0.528, Epsilon: 1.135\n",
      "Iter: 36, LR: 0.010, Loss: 787.576, NoiseVar: 0.008, SignalVar: 652789.250, Lengthscale: 0.529, Epsilon: 1.140\n",
      "Iter: 37, LR: 0.010, Loss: 786.548, NoiseVar: 0.008, SignalVar: 652789.250, Lengthscale: 0.530, Epsilon: 1.145\n",
      "Iter: 38, LR: 0.010, Loss: 786.718, NoiseVar: 0.008, SignalVar: 652789.250, Lengthscale: 0.530, Epsilon: 1.150\n",
      "Iter: 39, LR: 0.010, Loss: 786.322, NoiseVar: 0.008, SignalVar: 652789.250, Lengthscale: 0.530, Epsilon: 1.154\n",
      "Iter: 40, LR: 0.010, Loss: 788.344, NoiseVar: 0.008, SignalVar: 652789.250, Lengthscale: 0.530, Epsilon: 1.159\n",
      "Iter: 41, LR: 0.010, Loss: 787.004, NoiseVar: 0.008, SignalVar: 652789.250, Lengthscale: 0.530, Epsilon: 1.164\n",
      "Iter: 42, LR: 0.010, Loss: 786.212, NoiseVar: 0.008, SignalVar: 652789.250, Lengthscale: 0.529, Epsilon: 1.168\n",
      "Iter: 43, LR: 0.010, Loss: 785.345, NoiseVar: 0.008, SignalVar: 652789.250, Lengthscale: 0.528, Epsilon: 1.173\n",
      "Iter: 44, LR: 0.010, Loss: 785.740, NoiseVar: 0.008, SignalVar: 652789.250, Lengthscale: 0.527, Epsilon: 1.177\n",
      "Iter: 45, LR: 0.010, Loss: 786.262, NoiseVar: 0.007, SignalVar: 652789.250, Lengthscale: 0.526, Epsilon: 1.182\n",
      "Iter: 46, LR: 0.010, Loss: 785.245, NoiseVar: 0.007, SignalVar: 652789.250, Lengthscale: 0.526, Epsilon: 1.186\n",
      "Iter: 47, LR: 0.010, Loss: 784.189, NoiseVar: 0.007, SignalVar: 652789.250, Lengthscale: 0.526, Epsilon: 1.190\n",
      "Iter: 48, LR: 0.010, Loss: 784.203, NoiseVar: 0.007, SignalVar: 652789.250, Lengthscale: 0.526, Epsilon: 1.194\n",
      "Iter: 49, LR: 0.010, Loss: 785.423, NoiseVar: 0.007, SignalVar: 652789.250, Lengthscale: 0.527, Epsilon: 1.198\n",
      "Iter: 50, LR: 0.010, Loss: 785.597, NoiseVar: 0.007, SignalVar: 652789.250, Lengthscale: 0.527, Epsilon: 1.202\n",
      "Iter: 51, LR: 0.010, Loss: 785.091, NoiseVar: 0.007, SignalVar: 652789.250, Lengthscale: 0.527, Epsilon: 1.206\n",
      "Iter: 52, LR: 0.010, Loss: 784.969, NoiseVar: 0.007, SignalVar: 652789.250, Lengthscale: 0.528, Epsilon: 1.210\n",
      "Iter: 53, LR: 0.010, Loss: 784.822, NoiseVar: 0.007, SignalVar: 652789.250, Lengthscale: 0.528, Epsilon: 1.213\n",
      "Iter: 54, LR: 0.010, Loss: 783.788, NoiseVar: 0.007, SignalVar: 652789.250, Lengthscale: 0.529, Epsilon: 1.217\n",
      "Iter: 55, LR: 0.010, Loss: 784.973, NoiseVar: 0.007, SignalVar: 652789.250, Lengthscale: 0.529, Epsilon: 1.220\n",
      "Iter: 56, LR: 0.010, Loss: 784.402, NoiseVar: 0.007, SignalVar: 652789.250, Lengthscale: 0.529, Epsilon: 1.223\n",
      "Iter: 57, LR: 0.010, Loss: 785.050, NoiseVar: 0.007, SignalVar: 652789.250, Lengthscale: 0.529, Epsilon: 1.227\n",
      "Iter: 58, LR: 0.010, Loss: 784.204, NoiseVar: 0.007, SignalVar: 652789.250, Lengthscale: 0.528, Epsilon: 1.230\n",
      "Iter: 59, LR: 0.010, Loss: 783.873, NoiseVar: 0.007, SignalVar: 652789.250, Lengthscale: 0.527, Epsilon: 1.233\n",
      "Iter: 60, LR: 0.010, Loss: 782.261, NoiseVar: 0.007, SignalVar: 652789.250, Lengthscale: 0.527, Epsilon: 1.236\n",
      "Iter: 61, LR: 0.010, Loss: 783.601, NoiseVar: 0.007, SignalVar: 652789.250, Lengthscale: 0.527, Epsilon: 1.239\n",
      "Iter: 62, LR: 0.010, Loss: 783.913, NoiseVar: 0.007, SignalVar: 652789.250, Lengthscale: 0.526, Epsilon: 1.241\n",
      "Iter: 63, LR: 0.010, Loss: 783.398, NoiseVar: 0.007, SignalVar: 652789.250, Lengthscale: 0.526, Epsilon: 1.244\n",
      "Iter: 64, LR: 0.010, Loss: 783.715, NoiseVar: 0.007, SignalVar: 652789.250, Lengthscale: 0.526, Epsilon: 1.247\n",
      "Iter: 65, LR: 0.010, Loss: 783.378, NoiseVar: 0.007, SignalVar: 652789.250, Lengthscale: 0.526, Epsilon: 1.249\n",
      "Iter: 66, LR: 0.010, Loss: 783.326, NoiseVar: 0.007, SignalVar: 652789.250, Lengthscale: 0.527, Epsilon: 1.252\n",
      "Iter: 67, LR: 0.010, Loss: 782.597, NoiseVar: 0.007, SignalVar: 652789.250, Lengthscale: 0.527, Epsilon: 1.254\n",
      "Iter: 68, LR: 0.010, Loss: 784.142, NoiseVar: 0.007, SignalVar: 652789.250, Lengthscale: 0.528, Epsilon: 1.256\n",
      "Iter: 69, LR: 0.010, Loss: 784.288, NoiseVar: 0.007, SignalVar: 652789.250, Lengthscale: 0.529, Epsilon: 1.258\n",
      "Iter: 70, LR: 0.010, Loss: 784.675, NoiseVar: 0.007, SignalVar: 652789.250, Lengthscale: 0.529, Epsilon: 1.260\n",
      "Iter: 71, LR: 0.010, Loss: 783.206, NoiseVar: 0.007, SignalVar: 652789.250, Lengthscale: 0.529, Epsilon: 1.262\n",
      "Iter: 72, LR: 0.010, Loss: 783.693, NoiseVar: 0.007, SignalVar: 652789.250, Lengthscale: 0.529, Epsilon: 1.264\n",
      "Iter: 73, LR: 0.010, Loss: 784.501, NoiseVar: 0.007, SignalVar: 652789.250, Lengthscale: 0.529, Epsilon: 1.266\n"
     ]
    },
    {
     "name": "stdout",
     "output_type": "stream",
     "text": [
      "Iter: 74, LR: 0.010, Loss: 783.522, NoiseVar: 0.007, SignalVar: 652789.250, Lengthscale: 0.529, Epsilon: 1.268\n",
      "Iter: 75, LR: 0.010, Loss: 783.757, NoiseVar: 0.007, SignalVar: 652789.250, Lengthscale: 0.528, Epsilon: 1.269\n",
      "Iter: 76, LR: 0.010, Loss: 784.309, NoiseVar: 0.007, SignalVar: 652789.250, Lengthscale: 0.528, Epsilon: 1.271\n",
      "Iter: 77, LR: 0.010, Loss: 784.165, NoiseVar: 0.007, SignalVar: 652789.250, Lengthscale: 0.527, Epsilon: 1.272\n",
      "Iter: 78, LR: 0.010, Loss: 783.647, NoiseVar: 0.007, SignalVar: 652789.250, Lengthscale: 0.527, Epsilon: 1.274\n",
      "Iter: 79, LR: 0.010, Loss: 784.256, NoiseVar: 0.007, SignalVar: 652789.250, Lengthscale: 0.527, Epsilon: 1.275\n",
      "Iter: 80, LR: 0.010, Loss: 783.588, NoiseVar: 0.007, SignalVar: 652789.250, Lengthscale: 0.527, Epsilon: 1.277\n",
      "Iter: 81, LR: 0.010, Loss: 783.286, NoiseVar: 0.007, SignalVar: 652789.250, Lengthscale: 0.528, Epsilon: 1.278\n",
      "Iter: 82, LR: 0.010, Loss: 784.336, NoiseVar: 0.007, SignalVar: 652789.250, Lengthscale: 0.528, Epsilon: 1.279\n",
      "Iter: 83, LR: 0.010, Loss: 782.283, NoiseVar: 0.007, SignalVar: 652789.250, Lengthscale: 0.529, Epsilon: 1.280\n",
      "Iter: 84, LR: 0.010, Loss: 782.323, NoiseVar: 0.007, SignalVar: 652789.250, Lengthscale: 0.529, Epsilon: 1.281\n",
      "Iter: 85, LR: 0.010, Loss: 783.451, NoiseVar: 0.007, SignalVar: 652789.250, Lengthscale: 0.529, Epsilon: 1.282\n",
      "Iter: 86, LR: 0.010, Loss: 783.648, NoiseVar: 0.007, SignalVar: 652789.250, Lengthscale: 0.528, Epsilon: 1.283\n",
      "Iter: 87, LR: 0.010, Loss: 784.403, NoiseVar: 0.007, SignalVar: 652789.250, Lengthscale: 0.528, Epsilon: 1.284\n",
      "Iter: 88, LR: 0.010, Loss: 783.744, NoiseVar: 0.007, SignalVar: 652789.250, Lengthscale: 0.527, Epsilon: 1.285\n",
      "Iter: 89, LR: 0.010, Loss: 783.696, NoiseVar: 0.007, SignalVar: 652789.250, Lengthscale: 0.526, Epsilon: 1.286\n",
      "Iter: 90, LR: 0.010, Loss: 783.671, NoiseVar: 0.007, SignalVar: 652789.250, Lengthscale: 0.526, Epsilon: 1.287\n",
      "Iter: 91, LR: 0.010, Loss: 784.889, NoiseVar: 0.007, SignalVar: 652789.250, Lengthscale: 0.526, Epsilon: 1.287\n",
      "Iter: 92, LR: 0.010, Loss: 784.737, NoiseVar: 0.007, SignalVar: 652789.250, Lengthscale: 0.527, Epsilon: 1.288\n",
      "Iter: 93, LR: 0.010, Loss: 784.398, NoiseVar: 0.007, SignalVar: 652789.250, Lengthscale: 0.527, Epsilon: 1.289\n",
      "Iter: 94, LR: 0.010, Loss: 784.100, NoiseVar: 0.007, SignalVar: 652789.250, Lengthscale: 0.528, Epsilon: 1.289\n",
      "Iter: 95, LR: 0.010, Loss: 783.308, NoiseVar: 0.007, SignalVar: 652789.250, Lengthscale: 0.528, Epsilon: 1.290\n",
      "Iter: 96, LR: 0.010, Loss: 782.553, NoiseVar: 0.007, SignalVar: 652789.250, Lengthscale: 0.528, Epsilon: 1.290\n",
      "Iter: 97, LR: 0.010, Loss: 784.591, NoiseVar: 0.007, SignalVar: 652789.250, Lengthscale: 0.528, Epsilon: 1.291\n",
      "Iter: 98, LR: 0.010, Loss: 782.248, NoiseVar: 0.007, SignalVar: 652789.250, Lengthscale: 0.528, Epsilon: 1.291\n",
      "Iter: 99, LR: 0.010, Loss: 784.261, NoiseVar: 0.007, SignalVar: 652789.250, Lengthscale: 0.528, Epsilon: 1.292\n"
     ]
    }
   ],
   "source": [
    "model.manifold_informed_train(lr=1e-2, iter=100, norm_step_size=100, verbose=True)"
   ]
  },
  {
   "cell_type": "markdown",
   "id": "0ab36075",
   "metadata": {},
   "source": [
    "## Evaluation"
   ]
  },
  {
   "cell_type": "code",
   "execution_count": 10,
   "id": "6c6f0dc8",
   "metadata": {},
   "outputs": [],
   "source": [
    "%%capture\n",
    "likelihood.eval()\n",
    "model.eval()"
   ]
  },
  {
   "cell_type": "markdown",
   "id": "d201b909",
   "metadata": {},
   "source": [
    "\n",
    "## Metrics"
   ]
  },
  {
   "cell_type": "code",
   "execution_count": 11,
   "id": "998d4b89",
   "metadata": {
    "scrolled": false
   },
   "outputs": [
    {
     "name": "stdout",
     "output_type": "stream",
     "text": [
      "RMSE:  tensor(1.1336, device='cuda:0')\n",
      "NLL:  tensor(43.3277, device='cuda:0')\n"
     ]
    }
   ],
   "source": [
    "with torch.no_grad(), gpytorch.settings.fast_pred_var():\n",
    "    preds_test = likelihood(model(test_x))\n",
    "\n",
    "    mean_test = preds_test.mean\n",
    "        \n",
    "    error = test_y - preds_test.mean\n",
    "    covar = preds_test.lazy_covariance_matrix.evaluate_kernel()\n",
    "    inv_quad, logdet = covar.inv_quad_logdet(inv_quad_rhs=error.unsqueeze(-1), logdet=True)\n",
    "    \n",
    "    rmse = (error.square().sum()/test_y.shape[0]).sqrt()\n",
    "    nll = 0.5 * sum([inv_quad, logdet, error.size(-1)* np.log(2 * np.pi)])/test_y.shape[0]\n",
    "    \n",
    "print(\"RMSE: \", rmse)\n",
    "print(\"NLL: \", nll)"
   ]
  },
  {
   "cell_type": "code",
   "execution_count": null,
   "id": "75c99993",
   "metadata": {},
   "outputs": [],
   "source": []
  }
 ],
 "metadata": {
  "kernelspec": {
   "display_name": "Python 3 (ipykernel)",
   "language": "python",
   "name": "python3"
  },
  "language_info": {
   "codemirror_mode": {
    "name": "ipython",
    "version": 3
   },
   "file_extension": ".py",
   "mimetype": "text/x-python",
   "name": "python",
   "nbconvert_exporter": "python",
   "pygments_lexer": "ipython3",
   "version": "3.10.6"
  },
  "vscode": {
   "interpreter": {
    "hash": "916dbcbb3f70747c44a77c7bcd40155683ae19c65e1c03b4aa3499c5328201f1"
   }
  }
 },
 "nbformat": 4,
 "nbformat_minor": 5
}
